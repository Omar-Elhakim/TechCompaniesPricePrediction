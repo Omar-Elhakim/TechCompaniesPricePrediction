{
 "cells": [
  {
   "cell_type": "markdown",
   "id": "08a5ce0e",
   "metadata": {
    "papermill": {
     "duration": 0.003463,
     "end_time": "2025-04-18T02:49:32.987894",
     "exception": false,
     "start_time": "2025-04-18T02:49:32.984431",
     "status": "completed"
    },
    "tags": []
   },
   "source": [
    "# Challenges:\n",
    "* Encode companies\n",
    "* Encode people\n",
    "* Encode cities and countries\n",
    "* use text data embedding (word/document) or word freq \n",
    "* Imputation"
   ]
  },
  {
   "cell_type": "markdown",
   "id": "d4eed25f",
   "metadata": {
    "papermill": {
     "duration": 0.002297,
     "end_time": "2025-04-18T02:49:32.997654",
     "exception": false,
     "start_time": "2025-04-18T02:49:32.995357",
     "status": "completed"
    },
    "tags": []
   },
   "source": [
    "imports"
   ]
  },
  {
   "cell_type": "code",
   "execution_count": 1,
   "id": "057f6186",
   "metadata": {
    "execution": {
     "iopub.execute_input": "2025-04-18T02:49:33.005670Z",
     "iopub.status.busy": "2025-04-18T02:49:33.005346Z",
     "iopub.status.idle": "2025-04-18T02:49:34.560015Z",
     "shell.execute_reply": "2025-04-18T02:49:34.559349Z"
    },
    "papermill": {
     "duration": 1.560025,
     "end_time": "2025-04-18T02:49:34.561395",
     "exception": false,
     "start_time": "2025-04-18T02:49:33.001370",
     "status": "completed"
    },
    "tags": []
   },
   "outputs": [],
   "source": [
    "import pandas as pd\n",
    "import numpy as np\n",
    "import requests\n",
    "import plotly.express as px"
   ]
  },
  {
   "cell_type": "markdown",
   "id": "eb380aa7",
   "metadata": {
    "papermill": {
     "duration": 0.002338,
     "end_time": "2025-04-18T02:49:34.566630",
     "exception": false,
     "start_time": "2025-04-18T02:49:34.564292",
     "status": "completed"
    },
    "tags": []
   },
   "source": [
    "Reviewing a sample row from each file"
   ]
  },
  {
   "cell_type": "code",
   "execution_count": 2,
   "id": "691a282e",
   "metadata": {
    "execution": {
     "iopub.execute_input": "2025-04-18T02:49:34.572944Z",
     "iopub.status.busy": "2025-04-18T02:49:34.572576Z",
     "iopub.status.idle": "2025-04-18T02:49:34.606976Z",
     "shell.execute_reply": "2025-04-18T02:49:34.606184Z"
    },
    "papermill": {
     "duration": 0.03912,
     "end_time": "2025-04-18T02:49:34.608254",
     "exception": false,
     "start_time": "2025-04-18T02:49:34.569134",
     "status": "completed"
    },
    "tags": []
   },
   "outputs": [
    {
     "data": {
      "text/plain": [
       "Company                                                     Day Software\n",
       "CrunchBase Profile     http://www.crunchbase.com/organization/day-sof...\n",
       "Image                  http://a5.images.crunchbase.com/image/upload/c...\n",
       "Tagline                Day Software develops web applications that al...\n",
       "Year Founded                                                         NaN\n",
       "Market Categories                                               Software\n",
       "Address (HQ)           Barfüsserplatz 6, Basel, Basel-Stadt, Switzerland\n",
       "City (HQ)                                                          Basel\n",
       "State / Region (HQ)                                          Basel-Stadt\n",
       "Country (HQ)                                                 Switzerland\n",
       "Description            Day was founded in Basel, Switzerland, in 1993...\n",
       "Homepage                                              http://www.day.com\n",
       "Twitter                                                              NaN\n",
       "Acquired by                                                        Adobe\n",
       "Acquisitions ID              Adobe Systems acquired Day Software in 2010\n",
       "API                    http://api.crunchbase.com/v/2/organization/day...\n",
       "Name: 0, dtype: object"
      ]
     },
     "execution_count": 2,
     "metadata": {},
     "output_type": "execute_result"
    }
   ],
   "source": [
    "acquired = pd.read_csv(\"Data/Acquired Tech Companies.csv\")\n",
    "acquired.iloc[0]"
   ]
  },
  {
   "cell_type": "code",
   "execution_count": 3,
   "id": "9e553de0",
   "metadata": {
    "execution": {
     "iopub.execute_input": "2025-04-18T02:49:34.614940Z",
     "iopub.status.busy": "2025-04-18T02:49:34.614702Z",
     "iopub.status.idle": "2025-04-18T02:49:34.629609Z",
     "shell.execute_reply": "2025-04-18T02:49:34.628973Z"
    },
    "papermill": {
     "duration": 0.019613,
     "end_time": "2025-04-18T02:49:34.630846",
     "exception": false,
     "start_time": "2025-04-18T02:49:34.611233",
     "status": "completed"
    },
    "tags": []
   },
   "outputs": [
    {
     "data": {
      "text/plain": [
       "Acquiring Company                                                                        Adobe\n",
       "CrunchBase Profile                               www.crunchbase.com/organization/adobe-systems\n",
       "Image                                        http://a2.images.crunchbase.com/image/upload/c...\n",
       "Tagline                                      Adobe is an American multinational computer so...\n",
       "Market Categories                            Photo Editing, Design, Creative, Software, Ima...\n",
       "Year Founded                                                                              1982\n",
       "IPO                                                                                       1986\n",
       "Founders                                                         John Warnock, Charles Geschke\n",
       "Number of Employees                                                                     11,144\n",
       "Number of Employees (year of last update)                                               2012.0\n",
       "Total Funding ($)                                                                            0\n",
       "Number of Acquisitions                                                                      38\n",
       "Board Members                                                                              NaN\n",
       "Address (HQ)                                               San Jose, California, United States\n",
       "City (HQ)                                                                             San Jose\n",
       "State / Region (HQ)                                                                 California\n",
       "Country (HQ)                                                                     United States\n",
       "Description                                  Adobe Systems is an American multinational com...\n",
       "Homepage                                                                  http://www.adobe.com\n",
       "Twitter                                                               http://twitter.com/Adobe\n",
       "Acquired Companies                           Accelio Corporation, Aldus Corp, Amicima, Ares...\n",
       "Acquisitions ID                              Adobe Systems acquired Accelio Corporation in ...\n",
       "API                                          http://api.crunchbase.com/v/2/organization/ado...\n",
       "Name: 0, dtype: object"
      ]
     },
     "execution_count": 3,
     "metadata": {},
     "output_type": "execute_result"
    }
   ],
   "source": [
    "acquiring = pd.read_csv(\"Data/Acquiring Tech Companies.csv\")\n",
    "acquiring.iloc[0]"
   ]
  },
  {
   "cell_type": "code",
   "execution_count": 4,
   "id": "530e8224",
   "metadata": {
    "execution": {
     "iopub.execute_input": "2025-04-18T02:49:34.637438Z",
     "iopub.status.busy": "2025-04-18T02:49:34.637205Z",
     "iopub.status.idle": "2025-04-18T02:49:34.649691Z",
     "shell.execute_reply": "2025-04-18T02:49:34.649090Z"
    },
    "papermill": {
     "duration": 0.016717,
     "end_time": "2025-04-18T02:49:34.650598",
     "exception": false,
     "start_time": "2025-04-18T02:49:34.633881",
     "status": "completed"
    },
    "tags": []
   },
   "outputs": [
    {
     "data": {
      "text/plain": [
       "Acquisitions ID                                      EMC acquired Data Domain in 2009\n",
       "Acquired Company                                                          Data Domain\n",
       "Acquiring Company                                                                 EMC\n",
       "Year of acquisition announcement                                                 2009\n",
       "Deal announced on                                                           8/07/2009\n",
       "Price                                                                  $2,100,000,000\n",
       "Status                                                                    Undisclosed\n",
       "Terms                                                                            Cash\n",
       "Acquisition Profile                 http://www.crunchbase.com/acquisition/5dc676a1...\n",
       "News                                                         EMC acquired Data Domain\n",
       "News Link                           http://www.businesswire.com/news/home/20090708...\n",
       "Name: 0, dtype: object"
      ]
     },
     "execution_count": 4,
     "metadata": {},
     "output_type": "execute_result"
    }
   ],
   "source": [
    "acquisitions = pd.read_csv(\"Data/Acquisitions.csv\")\n",
    "acquisitions.iloc[0]"
   ]
  },
  {
   "cell_type": "code",
   "execution_count": 5,
   "id": "697d6f89",
   "metadata": {
    "execution": {
     "iopub.execute_input": "2025-04-18T02:49:34.657462Z",
     "iopub.status.busy": "2025-04-18T02:49:34.657208Z",
     "iopub.status.idle": "2025-04-18T02:49:34.667878Z",
     "shell.execute_reply": "2025-04-18T02:49:34.667382Z"
    },
    "papermill": {
     "duration": 0.015041,
     "end_time": "2025-04-18T02:49:34.668759",
     "exception": false,
     "start_time": "2025-04-18T02:49:34.653718",
     "status": "completed"
    },
    "tags": []
   },
   "outputs": [
    {
     "data": {
      "text/plain": [
       "Name                                                 Hans-Werner Hector\n",
       "CrunchBase Profile      http://de.wikipedia.org/wiki/Hans-Werner_Hector\n",
       "Role                                                            Founder\n",
       "Companies                                                           SAP\n",
       "Image                 http://images.forbes.com/media/lists/10/2006/4...\n",
       "Name: 0, dtype: object"
      ]
     },
     "execution_count": 5,
     "metadata": {},
     "output_type": "execute_result"
    }
   ],
   "source": [
    "founders = pd.read_csv(\"Data/Founders and Board Members.csv\")\n",
    "founders.iloc[0]"
   ]
  },
  {
   "cell_type": "markdown",
   "id": "c4ecc0ea",
   "metadata": {
    "papermill": {
     "duration": 0.002705,
     "end_time": "2025-04-18T02:49:34.674632",
     "exception": false,
     "start_time": "2025-04-18T02:49:34.671927",
     "status": "completed"
    },
    "tags": []
   },
   "source": [
    "We will link between the files using these columns:\n",
    "* Acquisitions ID to link the acquisitions\n",
    "* 'Founders' and 'Name' to link the Founders"
   ]
  },
  {
   "cell_type": "code",
   "execution_count": 6,
   "id": "5dc16d0c",
   "metadata": {
    "execution": {
     "iopub.execute_input": "2025-04-18T02:49:34.681367Z",
     "iopub.status.busy": "2025-04-18T02:49:34.681078Z",
     "iopub.status.idle": "2025-04-18T02:49:34.686236Z",
     "shell.execute_reply": "2025-04-18T02:49:34.685645Z"
    },
    "papermill": {
     "duration": 0.009843,
     "end_time": "2025-04-18T02:49:34.687247",
     "exception": false,
     "start_time": "2025-04-18T02:49:34.677404",
     "status": "completed"
    },
    "tags": []
   },
   "outputs": [
    {
     "data": {
      "text/plain": [
       "['Acquisitions ID']"
      ]
     },
     "execution_count": 6,
     "metadata": {},
     "output_type": "execute_result"
    }
   ],
   "source": [
    "np.intersect1d(acquired.columns, acquisitions.columns).tolist()"
   ]
  },
  {
   "cell_type": "code",
   "execution_count": 7,
   "id": "1fb33682",
   "metadata": {
    "execution": {
     "iopub.execute_input": "2025-04-18T02:49:34.694994Z",
     "iopub.status.busy": "2025-04-18T02:49:34.694732Z",
     "iopub.status.idle": "2025-04-18T02:49:34.699838Z",
     "shell.execute_reply": "2025-04-18T02:49:34.699169Z"
    },
    "papermill": {
     "duration": 0.010176,
     "end_time": "2025-04-18T02:49:34.700830",
     "exception": false,
     "start_time": "2025-04-18T02:49:34.690654",
     "status": "completed"
    },
    "tags": []
   },
   "outputs": [
    {
     "data": {
      "text/plain": [
       "['Acquiring Company', 'Acquisitions ID']"
      ]
     },
     "execution_count": 7,
     "metadata": {},
     "output_type": "execute_result"
    }
   ],
   "source": [
    "np.intersect1d(acquiring.columns, acquisitions.columns).tolist()"
   ]
  },
  {
   "cell_type": "code",
   "execution_count": 8,
   "id": "b5726517",
   "metadata": {
    "execution": {
     "iopub.execute_input": "2025-04-18T02:49:34.811020Z",
     "iopub.status.busy": "2025-04-18T02:49:34.810746Z",
     "iopub.status.idle": "2025-04-18T02:49:34.816261Z",
     "shell.execute_reply": "2025-04-18T02:49:34.815458Z"
    },
    "papermill": {
     "duration": 0.010891,
     "end_time": "2025-04-18T02:49:34.817487",
     "exception": false,
     "start_time": "2025-04-18T02:49:34.806596",
     "status": "completed"
    },
    "tags": []
   },
   "outputs": [],
   "source": [
    "def ValidateLink(url, timeout=15):\n",
    "    session = requests.Session()\n",
    "    # fake headers to make it seem like a real request\n",
    "    headers = {\n",
    "        \"User-Agent\": \"Mozilla/5.0 (Windows NT 10.0; Win64; x64) AppleWebKit/537.36 (KHTML, like Gecko) Chrome/123.0.0.0 Safari/537.36\",\n",
    "        \"Accept\": \"text/html,application/xhtml+xml,application/xml;q=0.9,image/avif,image/webp,image/apng,*/*;q=0.8,application/signed-exchange;v=b3;q=0.7\",\n",
    "        \"Accept-Language\": \"en-US,en;q=0.9\",\n",
    "        \"Accept-Encoding\": \"gzip, deflate, br\",\n",
    "        \"Connection\": \"keep-alive\",\n",
    "        \"Upgrade-Insecure-Requests\": \"1\",\n",
    "        \"DNT\": \"1\",\n",
    "    }\n",
    "    session.headers.update(headers)\n",
    "    try:\n",
    "        response = session.get(url, timeout=timeout, allow_redirects=True, stream=True)\n",
    "        status_code = response.status_code\n",
    "        response.close()\n",
    "        if status_code < 400:\n",
    "            return True\n",
    "        else:\n",
    "            return False\n",
    "    except Exception as e:\n",
    "        return False"
   ]
  },
  {
   "cell_type": "code",
   "execution_count": 9,
   "id": "78e377cc",
   "metadata": {
    "execution": {
     "iopub.execute_input": "2025-04-18T02:49:34.825332Z",
     "iopub.status.busy": "2025-04-18T02:49:34.825064Z",
     "iopub.status.idle": "2025-04-18T02:49:34.829825Z",
     "shell.execute_reply": "2025-04-18T02:49:34.829159Z"
    },
    "papermill": {
     "duration": 0.010094,
     "end_time": "2025-04-18T02:49:34.831087",
     "exception": false,
     "start_time": "2025-04-18T02:49:34.820993",
     "status": "completed"
    },
    "tags": []
   },
   "outputs": [],
   "source": [
    "def ValidateLinks(urls):\n",
    "    results = []\n",
    "    for url in urls:\n",
    "        results.append(ValidateLink(url))\n",
    "        if results[-1]:\n",
    "            return results\n",
    "    return results"
   ]
  },
  {
   "cell_type": "code",
   "execution_count": 10,
   "id": "73949098",
   "metadata": {
    "execution": {
     "iopub.execute_input": "2025-04-18T02:49:34.839334Z",
     "iopub.status.busy": "2025-04-18T02:49:34.839008Z",
     "iopub.status.idle": "2025-04-18T02:49:34.844936Z",
     "shell.execute_reply": "2025-04-18T02:49:34.844182Z"
    },
    "papermill": {
     "duration": 0.01149,
     "end_time": "2025-04-18T02:49:34.846169",
     "exception": false,
     "start_time": "2025-04-18T02:49:34.834679",
     "status": "completed"
    },
    "tags": []
   },
   "outputs": [],
   "source": [
    "def ValidateLinksDF(df):\n",
    "    for col in df.columns:\n",
    "        for val in df[col]:\n",
    "            if type(val) == str and (\"http\" in val):\n",
    "                print(col)\n",
    "                results = ValidateLinks(df[col])\n",
    "                if not pd.Series(results).any():\n",
    "                    print(f'Column \"{col}\" had no valid links , or is using captcha.')\n",
    "                    print(\"Try it yourself:\")\n",
    "                    print(df[col][0] + \"\\n\")\n",
    "                break"
   ]
  },
  {
   "cell_type": "markdown",
   "id": "181d1805",
   "metadata": {
    "execution": {
     "iopub.execute_input": "2025-04-18T02:49:34.857797Z",
     "iopub.status.busy": "2025-04-18T02:49:34.857502Z",
     "iopub.status.idle": "2025-04-18T03:04:27.411944Z",
     "shell.execute_reply": "2025-04-18T03:04:27.411050Z"
    },
    "papermill": {
     "duration": 892.561951,
     "end_time": "2025-04-18T03:04:27.413449",
     "exception": false,
     "start_time": "2025-04-18T02:49:34.851498",
     "status": "completed"
    },
    "tags": []
   },
   "source": [
    "ValidateLinksDF(acquired)"
   ]
  },
  {
   "cell_type": "markdown",
   "id": "fb308431",
   "metadata": {},
   "source": [
    "* CrunchBase is using CAPTCHA , so we won't drop it now but we will process it later\n",
    "* Image links are all corrupt so we will drop the column "
   ]
  },
  {
   "cell_type": "code",
   "execution_count": 11,
   "id": "c35ccf78",
   "metadata": {},
   "outputs": [],
   "source": [
    "acquired = acquired.drop(\"Image\", axis=1)"
   ]
  },
  {
   "cell_type": "markdown",
   "id": "2a2200a3",
   "metadata": {
    "execution": {
     "iopub.execute_input": "2025-04-18T03:04:27.421572Z",
     "iopub.status.busy": "2025-04-18T03:04:27.421350Z",
     "iopub.status.idle": "2025-04-18T03:06:05.489255Z",
     "shell.execute_reply": "2025-04-18T03:06:05.488446Z"
    },
    "papermill": {
     "duration": 98.073524,
     "end_time": "2025-04-18T03:06:05.490930",
     "exception": false,
     "start_time": "2025-04-18T03:04:27.417406",
     "status": "completed"
    },
    "tags": []
   },
   "source": [
    "ValidateLinksDF(acquiring)"
   ]
  },
  {
   "cell_type": "markdown",
   "id": "c560a108",
   "metadata": {},
   "source": [
    "* drop Image also"
   ]
  },
  {
   "cell_type": "code",
   "execution_count": 12,
   "id": "cc2646cf",
   "metadata": {},
   "outputs": [],
   "source": [
    "acquiring = acquiring.drop(\"Image\", axis=1)"
   ]
  },
  {
   "cell_type": "markdown",
   "id": "c6e489ba",
   "metadata": {
    "execution": {
     "iopub.execute_input": "2025-04-18T03:06:05.499732Z",
     "iopub.status.busy": "2025-04-18T03:06:05.499484Z",
     "iopub.status.idle": "2025-04-18T03:11:17.444025Z",
     "shell.execute_reply": "2025-04-18T03:11:17.443248Z"
    },
    "papermill": {
     "duration": 311.950251,
     "end_time": "2025-04-18T03:11:17.445349",
     "exception": false,
     "start_time": "2025-04-18T03:06:05.495098",
     "status": "completed"
    },
    "tags": []
   },
   "source": [
    "ValidateLinksDF(acquisitions)"
   ]
  },
  {
   "cell_type": "markdown",
   "id": "7ba25a5f",
   "metadata": {},
   "source": [
    "* acquisitions profile is also a crunchbase link"
   ]
  },
  {
   "cell_type": "code",
   "execution_count": 50,
   "id": "bcc3d13d",
   "metadata": {},
   "outputs": [],
   "source": [
    "acquisitions = acquisitions.drop(\"Acquisition Profile\", axis=1)"
   ]
  },
  {
   "cell_type": "markdown",
   "id": "750cb3b3",
   "metadata": {
    "execution": {
     "iopub.execute_input": "2025-04-18T03:11:17.454583Z",
     "iopub.status.busy": "2025-04-18T03:11:17.454322Z",
     "iopub.status.idle": "2025-04-18T03:11:47.507277Z",
     "shell.execute_reply": "2025-04-18T03:11:47.506425Z"
    },
    "papermill": {
     "duration": 30.059262,
     "end_time": "2025-04-18T03:11:47.508743",
     "exception": false,
     "start_time": "2025-04-18T03:11:17.449481",
     "status": "completed"
    },
    "tags": []
   },
   "source": [
    "ValidateLinksDF(founders)"
   ]
  },
  {
   "cell_type": "markdown",
   "id": "95b9ac71",
   "metadata": {},
   "source": [
    "We don't need the exact address of the company, we already have the city , state and country"
   ]
  },
  {
   "cell_type": "code",
   "execution_count": 13,
   "id": "a082bb19",
   "metadata": {},
   "outputs": [],
   "source": [
    "acquired = acquired.drop(\"Address (HQ)\", axis=1)\n",
    "acquiring = acquiring.drop(\"Address (HQ)\", axis=1)"
   ]
  },
  {
   "cell_type": "markdown",
   "id": "5317712c",
   "metadata": {},
   "source": [
    "**Adding the target variable**"
   ]
  },
  {
   "cell_type": "code",
   "execution_count": 14,
   "id": "65114a47",
   "metadata": {},
   "outputs": [],
   "source": [
    "acquisitions[\"Price\"] = [\n",
    "    int(price.removeprefix(\"$\").replace(\",\", \"\")) for price in acquisitions[\"Price\"]\n",
    "]"
   ]
  },
  {
   "cell_type": "code",
   "execution_count": 15,
   "id": "7c7f8aaa",
   "metadata": {},
   "outputs": [],
   "source": [
    "acquired[\"Price\"] = None\n",
    "acquired[\"Year of acquisition announcement\"] = None"
   ]
  },
  {
   "cell_type": "code",
   "execution_count": 16,
   "id": "b0d1e286",
   "metadata": {},
   "outputs": [],
   "source": [
    "for i, company in enumerate(acquisitions[\"Acquired Company\"]):\n",
    "    acquired.loc[acquired[\"Company\"] == company, \"Price\"] = acquisitions.iloc[i][\n",
    "        \"Price\"\n",
    "    ]\n",
    "    acquired.loc[acquired[\"Company\"] == company, \"Year of acquisition announcement\"] = (\n",
    "        acquisitions.iloc[i][\"Year of acquisition announcement\"]\n",
    "    )"
   ]
  },
  {
   "cell_type": "code",
   "execution_count": 17,
   "id": "bb13f980",
   "metadata": {},
   "outputs": [
    {
     "data": {
      "application/vnd.plotly.v1+json": {
       "config": {
        "plotlyServerURL": "https://plot.ly"
       },
       "data": [
        {
         "hovertemplate": "Year of acquisition announcement=%{x}<br>Price=%{y}<extra></extra>",
         "legendgroup": "",
         "marker": {
          "color": "#636efa",
          "symbol": "circle"
         },
         "mode": "markers",
         "name": "",
         "orientation": "v",
         "showlegend": false,
         "type": "scatter",
         "x": {
          "bdata": "2QfXB9gH3QfdB9wH2wfVB9oH2gfZB9oH2AfTB9gH1gfaB9IH1AfZB9UH1AfQB9gH2QfeB90H3QfdB9sH1QfdB9oH0AfPB9gH3AfbB9wH2AfXB88H1AfUB9AH2AfcB94H3AfAB9gH2gfWB90H3AfaB9cH3gfbB9oH1wfXB90H2gfYB9sH2gfaB9gH2gfaB9sH3gfeB88H1gfcB9kH2gfaB9sH2AfUB9wH2gfPB9cH3gfZB94H3AfcB9oH3AfTB9gH1gfRB9oH2gfaB84H3QfZB90H2wfcB9sH2QfVB9oH0gfdB9oH2gfcB9gH2QfWB94H1QfcB9oH2AfVB9oH3QfXB80H3AfdB9kH3gfVB9oH3QfYB9sH2QfdB90H3gfWB9wH3AfbB94H2wfcB9sH2wfcB9cH2wfdB9gH2wfXB9sH1wfPB9sHzwfUB9cH3AfaB9oH2AfaB9QH1wfdB94H0wfbB9oH3AfYB9cH2wfZB90H2AfPB9IH2AfZB9kH2QfcB9cH2gfbB84H1gfeB9gH2gfLB9cH2gfdB9oH2wfaB9wH3AfbB88H2gfaB90H3AfTB9gH3QfdB9oH1wfXB9oH1QfaB8wHzwfdB9YH2AfPB9kH3QfYB9gH2wfeB90H2wfZB9YH3QfeB8sH3AfaB9oH3gfNB9gHzQfaB9sHzwfYB9cH2AfPB94H3gfYB9YH2AfbB9MH3QfdB9cH2AfYB9oH3QfaB9oH3AfaB9cHzQfeB9sH3QfYB9cH3QfeB9wH1wfSB94H3QfVB9oH2wfdB94H0QfZB94H3QfdB9oH2QfeB9gH2wfYB9IH2gfeB94H2wfcB9oH1wfeB90H2gfcB94H2gfbB90H2QfeB90H2Qc4CN0H1AfXB9gH2AfPB9gH0gfXB94H",
          "dtype": "i2"
         },
         "xaxis": "x",
         "y": [
          2100000000,
          363000000,
          215000000,
          400000000,
          10000000,
          380000000,
          70000000,
          67500000,
          2400000000,
          30000000,
          1800000000,
          121000000,
          8100000000,
          1600000000,
          15000000,
          200000000,
          65000000,
          436000000,
          3400000000,
          65000000,
          3400000000,
          435000000,
          145000000,
          133000000,
          2700000000,
          19000000000,
          155000000,
          100000000,
          12000000,
          50000000,
          2600000000,
          30000000,
          1300000000,
          432000000,
          1100000000,
          300000000,
          350000000,
          270000000,
          2400000000,
          5000000,
          100000000,
          80000000,
          635000000,
          610000000,
          350000000,
          380000000,
          1900000000,
          100000000,
          50000000,
          2600000000,
          31000000,
          10000000,
          4500000000,
          90000000,
          871000000,
          187500000,
          12000000,
          500000000,
          400000000,
          70000000,
          330000000,
          60000000,
          125000000,
          99000000,
          360000000,
          80000000,
          1700000000,
          152000000,
          8000000,
          5800000000,
          90000000,
          263000000,
          80000000,
          200000000,
          5700000000,
          40000000,
          250000000,
          11500000,
          68200000,
          140000000,
          135000000,
          275000000,
          50000000,
          3400000000,
          160000000,
          250000000,
          210000000,
          5300000000,
          750000000,
          2000000000,
          775000000,
          1300000000,
          820000000,
          1200000000,
          235000000,
          28100000000,
          102000000,
          12000000,
          7700000000,
          95000000,
          164000000,
          49000000,
          2700000000,
          1200000000,
          30000000,
          30000000,
          1000000000,
          400000000,
          3400000000,
          450000000,
          480000000,
          1500000000,
          415000000,
          10000000,
          170000000,
          30000000,
          125000000,
          51000000,
          375000000,
          90700000,
          30000000,
          60000000,
          75000000,
          300000000,
          1100000000,
          25000000,
          40000000,
          10000000,
          1400000,
          176000000,
          60000000,
          29000000,
          120000000,
          620000000,
          10000000,
          347000000,
          120000000,
          10000000,
          225000000,
          26000000,
          80000000,
          50000000,
          75000000,
          689000000,
          100000000,
          100000000,
          10000000000,
          1000000000,
          300000000,
          135000000,
          450000000,
          2500000,
          495000000,
          4900000,
          90000000,
          945000000,
          700000000,
          6400000000,
          3100000000,
          96800000,
          10000000,
          2400000000,
          2900000000,
          160000000,
          850000000,
          144000000,
          25000000,
          55000000,
          1200000000,
          35000000,
          28000000,
          76000000,
          996000000,
          100000000,
          150000000,
          180000000,
          1400000000,
          115000000,
          340000000,
          310000000,
          25000000,
          3900000000,
          2500000000,
          213000000,
          80000000,
          30000000,
          40000000,
          200000000,
          590000000,
          884000000,
          12500000000,
          23000000,
          545000000,
          315000000,
          4200000000,
          28000000,
          15000000,
          53000000,
          142000000,
          3500000000,
          3200000000,
          275000000,
          40000000,
          250000000,
          326000000,
          80000000,
          7000000,
          4300000000,
          10200000000,
          57000000,
          5000000,
          525000000,
          600000000,
          15000000,
          100000000,
          150000000,
          800000000,
          350000000,
          1200000000,
          100000000,
          200000000,
          685000000,
          300000000,
          200000000,
          400000000,
          320000000,
          150000000,
          1700000000,
          40000000,
          525000000,
          100000000,
          130000000,
          115000000,
          8500000000,
          61000000,
          134000000,
          200000000,
          330000000,
          150000000,
          48300000,
          26000000,
          1100000000,
          1700000000,
          220000000,
          110000000,
          50000000,
          3000000000,
          92000000,
          695000000,
          1200000000,
          225000000,
          40000000,
          500000000,
          13900000000,
          1600000000,
          150000000,
          130000000,
          2900000000,
          16000000,
          160000000,
          56000000,
          100000000,
          151000000,
          102000000,
          50000000,
          20000000,
          20300000,
          32000000,
          500000000,
          12000000,
          20000000,
          240000000,
          29000000,
          271000000,
          1500000000,
          275000000,
          400000000,
          175000000,
          410000000,
          200000000,
          123000000,
          50000000,
          20000000,
          970000000,
          70000000,
          100000000,
          96000000,
          500000000,
          307000000,
          93000000,
          2300000000,
          175000000,
          50000000,
          390000000,
          748000000,
          944000000,
          100000000,
          345000000,
          40000000,
          130000000,
          20000000,
          3200000000,
          3100000000,
          15000000,
          278000000,
          135000000,
          1400000000,
          175000000,
          101000000,
          31000000,
          50000000,
          25000000,
          625000000,
          200000000,
          1500000000,
          300000000,
          119000000,
          300000000,
          2500000,
          240000000,
          150000000,
          5200000,
          320000000,
          10100000000,
          183000000,
          10000000000,
          25000000,
          290000000,
          350000000,
          125000000,
          15000000,
          7400000000,
          155000000,
          337000000,
          350000000,
          45000000000
         ],
         "yaxis": "y"
        }
       ],
       "layout": {
        "height": 400,
        "legend": {
         "tracegroupgap": 0
        },
        "template": {
         "data": {
          "bar": [
           {
            "error_x": {
             "color": "#2a3f5f"
            },
            "error_y": {
             "color": "#2a3f5f"
            },
            "marker": {
             "line": {
              "color": "#E5ECF6",
              "width": 0.5
             },
             "pattern": {
              "fillmode": "overlay",
              "size": 10,
              "solidity": 0.2
             }
            },
            "type": "bar"
           }
          ],
          "barpolar": [
           {
            "marker": {
             "line": {
              "color": "#E5ECF6",
              "width": 0.5
             },
             "pattern": {
              "fillmode": "overlay",
              "size": 10,
              "solidity": 0.2
             }
            },
            "type": "barpolar"
           }
          ],
          "carpet": [
           {
            "aaxis": {
             "endlinecolor": "#2a3f5f",
             "gridcolor": "white",
             "linecolor": "white",
             "minorgridcolor": "white",
             "startlinecolor": "#2a3f5f"
            },
            "baxis": {
             "endlinecolor": "#2a3f5f",
             "gridcolor": "white",
             "linecolor": "white",
             "minorgridcolor": "white",
             "startlinecolor": "#2a3f5f"
            },
            "type": "carpet"
           }
          ],
          "choropleth": [
           {
            "colorbar": {
             "outlinewidth": 0,
             "ticks": ""
            },
            "type": "choropleth"
           }
          ],
          "contour": [
           {
            "colorbar": {
             "outlinewidth": 0,
             "ticks": ""
            },
            "colorscale": [
             [
              0,
              "#0d0887"
             ],
             [
              0.1111111111111111,
              "#46039f"
             ],
             [
              0.2222222222222222,
              "#7201a8"
             ],
             [
              0.3333333333333333,
              "#9c179e"
             ],
             [
              0.4444444444444444,
              "#bd3786"
             ],
             [
              0.5555555555555556,
              "#d8576b"
             ],
             [
              0.6666666666666666,
              "#ed7953"
             ],
             [
              0.7777777777777778,
              "#fb9f3a"
             ],
             [
              0.8888888888888888,
              "#fdca26"
             ],
             [
              1,
              "#f0f921"
             ]
            ],
            "type": "contour"
           }
          ],
          "contourcarpet": [
           {
            "colorbar": {
             "outlinewidth": 0,
             "ticks": ""
            },
            "type": "contourcarpet"
           }
          ],
          "heatmap": [
           {
            "colorbar": {
             "outlinewidth": 0,
             "ticks": ""
            },
            "colorscale": [
             [
              0,
              "#0d0887"
             ],
             [
              0.1111111111111111,
              "#46039f"
             ],
             [
              0.2222222222222222,
              "#7201a8"
             ],
             [
              0.3333333333333333,
              "#9c179e"
             ],
             [
              0.4444444444444444,
              "#bd3786"
             ],
             [
              0.5555555555555556,
              "#d8576b"
             ],
             [
              0.6666666666666666,
              "#ed7953"
             ],
             [
              0.7777777777777778,
              "#fb9f3a"
             ],
             [
              0.8888888888888888,
              "#fdca26"
             ],
             [
              1,
              "#f0f921"
             ]
            ],
            "type": "heatmap"
           }
          ],
          "histogram": [
           {
            "marker": {
             "pattern": {
              "fillmode": "overlay",
              "size": 10,
              "solidity": 0.2
             }
            },
            "type": "histogram"
           }
          ],
          "histogram2d": [
           {
            "colorbar": {
             "outlinewidth": 0,
             "ticks": ""
            },
            "colorscale": [
             [
              0,
              "#0d0887"
             ],
             [
              0.1111111111111111,
              "#46039f"
             ],
             [
              0.2222222222222222,
              "#7201a8"
             ],
             [
              0.3333333333333333,
              "#9c179e"
             ],
             [
              0.4444444444444444,
              "#bd3786"
             ],
             [
              0.5555555555555556,
              "#d8576b"
             ],
             [
              0.6666666666666666,
              "#ed7953"
             ],
             [
              0.7777777777777778,
              "#fb9f3a"
             ],
             [
              0.8888888888888888,
              "#fdca26"
             ],
             [
              1,
              "#f0f921"
             ]
            ],
            "type": "histogram2d"
           }
          ],
          "histogram2dcontour": [
           {
            "colorbar": {
             "outlinewidth": 0,
             "ticks": ""
            },
            "colorscale": [
             [
              0,
              "#0d0887"
             ],
             [
              0.1111111111111111,
              "#46039f"
             ],
             [
              0.2222222222222222,
              "#7201a8"
             ],
             [
              0.3333333333333333,
              "#9c179e"
             ],
             [
              0.4444444444444444,
              "#bd3786"
             ],
             [
              0.5555555555555556,
              "#d8576b"
             ],
             [
              0.6666666666666666,
              "#ed7953"
             ],
             [
              0.7777777777777778,
              "#fb9f3a"
             ],
             [
              0.8888888888888888,
              "#fdca26"
             ],
             [
              1,
              "#f0f921"
             ]
            ],
            "type": "histogram2dcontour"
           }
          ],
          "mesh3d": [
           {
            "colorbar": {
             "outlinewidth": 0,
             "ticks": ""
            },
            "type": "mesh3d"
           }
          ],
          "parcoords": [
           {
            "line": {
             "colorbar": {
              "outlinewidth": 0,
              "ticks": ""
             }
            },
            "type": "parcoords"
           }
          ],
          "pie": [
           {
            "automargin": true,
            "type": "pie"
           }
          ],
          "scatter": [
           {
            "fillpattern": {
             "fillmode": "overlay",
             "size": 10,
             "solidity": 0.2
            },
            "type": "scatter"
           }
          ],
          "scatter3d": [
           {
            "line": {
             "colorbar": {
              "outlinewidth": 0,
              "ticks": ""
             }
            },
            "marker": {
             "colorbar": {
              "outlinewidth": 0,
              "ticks": ""
             }
            },
            "type": "scatter3d"
           }
          ],
          "scattercarpet": [
           {
            "marker": {
             "colorbar": {
              "outlinewidth": 0,
              "ticks": ""
             }
            },
            "type": "scattercarpet"
           }
          ],
          "scattergeo": [
           {
            "marker": {
             "colorbar": {
              "outlinewidth": 0,
              "ticks": ""
             }
            },
            "type": "scattergeo"
           }
          ],
          "scattergl": [
           {
            "marker": {
             "colorbar": {
              "outlinewidth": 0,
              "ticks": ""
             }
            },
            "type": "scattergl"
           }
          ],
          "scattermap": [
           {
            "marker": {
             "colorbar": {
              "outlinewidth": 0,
              "ticks": ""
             }
            },
            "type": "scattermap"
           }
          ],
          "scattermapbox": [
           {
            "marker": {
             "colorbar": {
              "outlinewidth": 0,
              "ticks": ""
             }
            },
            "type": "scattermapbox"
           }
          ],
          "scatterpolar": [
           {
            "marker": {
             "colorbar": {
              "outlinewidth": 0,
              "ticks": ""
             }
            },
            "type": "scatterpolar"
           }
          ],
          "scatterpolargl": [
           {
            "marker": {
             "colorbar": {
              "outlinewidth": 0,
              "ticks": ""
             }
            },
            "type": "scatterpolargl"
           }
          ],
          "scatterternary": [
           {
            "marker": {
             "colorbar": {
              "outlinewidth": 0,
              "ticks": ""
             }
            },
            "type": "scatterternary"
           }
          ],
          "surface": [
           {
            "colorbar": {
             "outlinewidth": 0,
             "ticks": ""
            },
            "colorscale": [
             [
              0,
              "#0d0887"
             ],
             [
              0.1111111111111111,
              "#46039f"
             ],
             [
              0.2222222222222222,
              "#7201a8"
             ],
             [
              0.3333333333333333,
              "#9c179e"
             ],
             [
              0.4444444444444444,
              "#bd3786"
             ],
             [
              0.5555555555555556,
              "#d8576b"
             ],
             [
              0.6666666666666666,
              "#ed7953"
             ],
             [
              0.7777777777777778,
              "#fb9f3a"
             ],
             [
              0.8888888888888888,
              "#fdca26"
             ],
             [
              1,
              "#f0f921"
             ]
            ],
            "type": "surface"
           }
          ],
          "table": [
           {
            "cells": {
             "fill": {
              "color": "#EBF0F8"
             },
             "line": {
              "color": "white"
             }
            },
            "header": {
             "fill": {
              "color": "#C8D4E3"
             },
             "line": {
              "color": "white"
             }
            },
            "type": "table"
           }
          ]
         },
         "layout": {
          "annotationdefaults": {
           "arrowcolor": "#2a3f5f",
           "arrowhead": 0,
           "arrowwidth": 1
          },
          "autotypenumbers": "strict",
          "coloraxis": {
           "colorbar": {
            "outlinewidth": 0,
            "ticks": ""
           }
          },
          "colorscale": {
           "diverging": [
            [
             0,
             "#8e0152"
            ],
            [
             0.1,
             "#c51b7d"
            ],
            [
             0.2,
             "#de77ae"
            ],
            [
             0.3,
             "#f1b6da"
            ],
            [
             0.4,
             "#fde0ef"
            ],
            [
             0.5,
             "#f7f7f7"
            ],
            [
             0.6,
             "#e6f5d0"
            ],
            [
             0.7,
             "#b8e186"
            ],
            [
             0.8,
             "#7fbc41"
            ],
            [
             0.9,
             "#4d9221"
            ],
            [
             1,
             "#276419"
            ]
           ],
           "sequential": [
            [
             0,
             "#0d0887"
            ],
            [
             0.1111111111111111,
             "#46039f"
            ],
            [
             0.2222222222222222,
             "#7201a8"
            ],
            [
             0.3333333333333333,
             "#9c179e"
            ],
            [
             0.4444444444444444,
             "#bd3786"
            ],
            [
             0.5555555555555556,
             "#d8576b"
            ],
            [
             0.6666666666666666,
             "#ed7953"
            ],
            [
             0.7777777777777778,
             "#fb9f3a"
            ],
            [
             0.8888888888888888,
             "#fdca26"
            ],
            [
             1,
             "#f0f921"
            ]
           ],
           "sequentialminus": [
            [
             0,
             "#0d0887"
            ],
            [
             0.1111111111111111,
             "#46039f"
            ],
            [
             0.2222222222222222,
             "#7201a8"
            ],
            [
             0.3333333333333333,
             "#9c179e"
            ],
            [
             0.4444444444444444,
             "#bd3786"
            ],
            [
             0.5555555555555556,
             "#d8576b"
            ],
            [
             0.6666666666666666,
             "#ed7953"
            ],
            [
             0.7777777777777778,
             "#fb9f3a"
            ],
            [
             0.8888888888888888,
             "#fdca26"
            ],
            [
             1,
             "#f0f921"
            ]
           ]
          },
          "colorway": [
           "#636efa",
           "#EF553B",
           "#00cc96",
           "#ab63fa",
           "#FFA15A",
           "#19d3f3",
           "#FF6692",
           "#B6E880",
           "#FF97FF",
           "#FECB52"
          ],
          "font": {
           "color": "#2a3f5f"
          },
          "geo": {
           "bgcolor": "white",
           "lakecolor": "white",
           "landcolor": "#E5ECF6",
           "showlakes": true,
           "showland": true,
           "subunitcolor": "white"
          },
          "hoverlabel": {
           "align": "left"
          },
          "hovermode": "closest",
          "mapbox": {
           "style": "light"
          },
          "paper_bgcolor": "white",
          "plot_bgcolor": "#E5ECF6",
          "polar": {
           "angularaxis": {
            "gridcolor": "white",
            "linecolor": "white",
            "ticks": ""
           },
           "bgcolor": "#E5ECF6",
           "radialaxis": {
            "gridcolor": "white",
            "linecolor": "white",
            "ticks": ""
           }
          },
          "scene": {
           "xaxis": {
            "backgroundcolor": "#E5ECF6",
            "gridcolor": "white",
            "gridwidth": 2,
            "linecolor": "white",
            "showbackground": true,
            "ticks": "",
            "zerolinecolor": "white"
           },
           "yaxis": {
            "backgroundcolor": "#E5ECF6",
            "gridcolor": "white",
            "gridwidth": 2,
            "linecolor": "white",
            "showbackground": true,
            "ticks": "",
            "zerolinecolor": "white"
           },
           "zaxis": {
            "backgroundcolor": "#E5ECF6",
            "gridcolor": "white",
            "gridwidth": 2,
            "linecolor": "white",
            "showbackground": true,
            "ticks": "",
            "zerolinecolor": "white"
           }
          },
          "shapedefaults": {
           "line": {
            "color": "#2a3f5f"
           }
          },
          "ternary": {
           "aaxis": {
            "gridcolor": "white",
            "linecolor": "white",
            "ticks": ""
           },
           "baxis": {
            "gridcolor": "white",
            "linecolor": "white",
            "ticks": ""
           },
           "bgcolor": "#E5ECF6",
           "caxis": {
            "gridcolor": "white",
            "linecolor": "white",
            "ticks": ""
           }
          },
          "title": {
           "x": 0.05
          },
          "xaxis": {
           "automargin": true,
           "gridcolor": "white",
           "linecolor": "white",
           "ticks": "",
           "title": {
            "standoff": 15
           },
           "zerolinecolor": "white",
           "zerolinewidth": 2
          },
          "yaxis": {
           "automargin": true,
           "gridcolor": "white",
           "linecolor": "white",
           "ticks": "",
           "title": {
            "standoff": 15
           },
           "zerolinecolor": "white",
           "zerolinewidth": 2
          }
         }
        },
        "title": {
         "text": "Acquisition Price by Year"
        },
        "width": 600,
        "xaxis": {
         "anchor": "y",
         "domain": [
          0,
          1
         ],
         "title": {
          "text": "Year of acquisition announcement"
         }
        },
        "yaxis": {
         "anchor": "x",
         "domain": [
          0,
          1
         ],
         "title": {
          "text": "Price"
         }
        }
       }
      }
     },
     "metadata": {},
     "output_type": "display_data"
    }
   ],
   "source": [
    "fig = px.scatter(\n",
    "    acquisitions,\n",
    "    x=\"Year of acquisition announcement\",\n",
    "    y=\"Price\",\n",
    "    title=\"Acquisition Price by Year\",\n",
    "    width=600,\n",
    "    height=400,\n",
    ")\n",
    "fig.show()"
   ]
  },
  {
   "cell_type": "markdown",
   "id": "1bb683fb",
   "metadata": {},
   "source": [
    "There was a wrongly entered value, so I looked at the link and corrected it"
   ]
  },
  {
   "cell_type": "code",
   "execution_count": 18,
   "id": "59a010a3",
   "metadata": {},
   "outputs": [],
   "source": [
    "acquisitions.loc[\n",
    "    acquisitions[\"Year of acquisition announcement\"] == 2104,\n",
    "    \"Year of acquisition announcement\",\n",
    "] = 2014"
   ]
  },
  {
   "cell_type": "markdown",
   "id": "e85fe1a9",
   "metadata": {},
   "source": [
    "Plotting again without the error, now we can see that the overall trend of prices tends to go up, that's why we added the 'Year of acquisitions announcement' column"
   ]
  },
  {
   "cell_type": "code",
   "execution_count": 19,
   "id": "cc6b0539",
   "metadata": {},
   "outputs": [
    {
     "data": {
      "application/vnd.plotly.v1+json": {
       "config": {
        "plotlyServerURL": "https://plot.ly"
       },
       "data": [
        {
         "hovertemplate": "Year of acquisition announcement=%{x}<br>Price=%{y}<extra></extra>",
         "legendgroup": "",
         "marker": {
          "color": "#636efa",
          "symbol": "circle"
         },
         "mode": "markers",
         "name": "",
         "orientation": "v",
         "showlegend": false,
         "type": "scatter",
         "x": {
          "bdata": "2QfXB9gH3QfdB9wH2wfVB9oH2gfZB9oH2AfTB9gH1gfaB9IH1AfZB9UH1AfQB9gH2QfeB90H3QfdB9sH1QfdB9oH0AfPB9gH3AfbB9wH2AfXB88H1AfUB9AH2AfcB94H3AfAB9gH2gfWB90H3AfaB9cH3gfbB9oH1wfXB90H2gfYB9sH2gfaB9gH2gfaB9sH3gfeB88H1gfcB9kH2gfaB9sH2AfUB9wH2gfPB9cH3gfZB94H3AfcB9oH3AfTB9gH1gfRB9oH2gfaB84H3QfZB90H2wfcB9sH2QfVB9oH0gfdB9oH2gfcB9gH2QfWB94H1QfcB9oH2AfVB9oH3QfXB80H3AfdB9kH3gfVB9oH3QfYB9sH2QfdB90H3gfWB9wH3AfbB94H2wfcB9sH2wfcB9cH2wfdB9gH2wfXB9sH1wfPB9sHzwfUB9cH3AfaB9oH2AfaB9QH1wfdB94H0wfbB9oH3AfYB9cH2wfZB90H2AfPB9IH2AfZB9kH2QfcB9cH2gfbB84H1gfeB9gH2gfLB9cH2gfdB9oH2wfaB9wH3AfbB88H2gfaB90H3AfTB9gH3QfdB9oH1wfXB9oH1QfaB8wHzwfdB9YH2AfPB9kH3QfYB9gH2wfeB90H2wfZB9YH3QfeB8sH3AfaB9oH3gfNB9gHzQfaB9sHzwfYB9cH2AfPB94H3gfYB9YH2AfbB9MH3QfdB9cH2AfYB9oH3QfaB9oH3AfaB9cHzQfeB9sH3QfYB9cH3QfeB9wH1wfSB94H3QfVB9oH2wfdB94H0QfZB94H3QfdB9oH2QfeB9gH2wfYB9IH2gfeB94H2wfcB9oH1wfeB90H2gfcB94H2gfbB90H2QfeB90H2QfeB90H1AfXB9gH2AfPB9gH0gfXB94H",
          "dtype": "i2"
         },
         "xaxis": "x",
         "y": [
          2100000000,
          363000000,
          215000000,
          400000000,
          10000000,
          380000000,
          70000000,
          67500000,
          2400000000,
          30000000,
          1800000000,
          121000000,
          8100000000,
          1600000000,
          15000000,
          200000000,
          65000000,
          436000000,
          3400000000,
          65000000,
          3400000000,
          435000000,
          145000000,
          133000000,
          2700000000,
          19000000000,
          155000000,
          100000000,
          12000000,
          50000000,
          2600000000,
          30000000,
          1300000000,
          432000000,
          1100000000,
          300000000,
          350000000,
          270000000,
          2400000000,
          5000000,
          100000000,
          80000000,
          635000000,
          610000000,
          350000000,
          380000000,
          1900000000,
          100000000,
          50000000,
          2600000000,
          31000000,
          10000000,
          4500000000,
          90000000,
          871000000,
          187500000,
          12000000,
          500000000,
          400000000,
          70000000,
          330000000,
          60000000,
          125000000,
          99000000,
          360000000,
          80000000,
          1700000000,
          152000000,
          8000000,
          5800000000,
          90000000,
          263000000,
          80000000,
          200000000,
          5700000000,
          40000000,
          250000000,
          11500000,
          68200000,
          140000000,
          135000000,
          275000000,
          50000000,
          3400000000,
          160000000,
          250000000,
          210000000,
          5300000000,
          750000000,
          2000000000,
          775000000,
          1300000000,
          820000000,
          1200000000,
          235000000,
          28100000000,
          102000000,
          12000000,
          7700000000,
          95000000,
          164000000,
          49000000,
          2700000000,
          1200000000,
          30000000,
          30000000,
          1000000000,
          400000000,
          3400000000,
          450000000,
          480000000,
          1500000000,
          415000000,
          10000000,
          170000000,
          30000000,
          125000000,
          51000000,
          375000000,
          90700000,
          30000000,
          60000000,
          75000000,
          300000000,
          1100000000,
          25000000,
          40000000,
          10000000,
          1400000,
          176000000,
          60000000,
          29000000,
          120000000,
          620000000,
          10000000,
          347000000,
          120000000,
          10000000,
          225000000,
          26000000,
          80000000,
          50000000,
          75000000,
          689000000,
          100000000,
          100000000,
          10000000000,
          1000000000,
          300000000,
          135000000,
          450000000,
          2500000,
          495000000,
          4900000,
          90000000,
          945000000,
          700000000,
          6400000000,
          3100000000,
          96800000,
          10000000,
          2400000000,
          2900000000,
          160000000,
          850000000,
          144000000,
          25000000,
          55000000,
          1200000000,
          35000000,
          28000000,
          76000000,
          996000000,
          100000000,
          150000000,
          180000000,
          1400000000,
          115000000,
          340000000,
          310000000,
          25000000,
          3900000000,
          2500000000,
          213000000,
          80000000,
          30000000,
          40000000,
          200000000,
          590000000,
          884000000,
          12500000000,
          23000000,
          545000000,
          315000000,
          4200000000,
          28000000,
          15000000,
          53000000,
          142000000,
          3500000000,
          3200000000,
          275000000,
          40000000,
          250000000,
          326000000,
          80000000,
          7000000,
          4300000000,
          10200000000,
          57000000,
          5000000,
          525000000,
          600000000,
          15000000,
          100000000,
          150000000,
          800000000,
          350000000,
          1200000000,
          100000000,
          200000000,
          685000000,
          300000000,
          200000000,
          400000000,
          320000000,
          150000000,
          1700000000,
          40000000,
          525000000,
          100000000,
          130000000,
          115000000,
          8500000000,
          61000000,
          134000000,
          200000000,
          330000000,
          150000000,
          48300000,
          26000000,
          1100000000,
          1700000000,
          220000000,
          110000000,
          50000000,
          3000000000,
          92000000,
          695000000,
          1200000000,
          225000000,
          40000000,
          500000000,
          13900000000,
          1600000000,
          150000000,
          130000000,
          2900000000,
          16000000,
          160000000,
          56000000,
          100000000,
          151000000,
          102000000,
          50000000,
          20000000,
          20300000,
          32000000,
          500000000,
          12000000,
          20000000,
          240000000,
          29000000,
          271000000,
          1500000000,
          275000000,
          400000000,
          175000000,
          410000000,
          200000000,
          123000000,
          50000000,
          20000000,
          970000000,
          70000000,
          100000000,
          96000000,
          500000000,
          307000000,
          93000000,
          2300000000,
          175000000,
          50000000,
          390000000,
          748000000,
          944000000,
          100000000,
          345000000,
          40000000,
          130000000,
          20000000,
          3200000000,
          3100000000,
          15000000,
          278000000,
          135000000,
          1400000000,
          175000000,
          101000000,
          31000000,
          50000000,
          25000000,
          625000000,
          200000000,
          1500000000,
          300000000,
          119000000,
          300000000,
          2500000,
          240000000,
          150000000,
          5200000,
          320000000,
          10100000000,
          183000000,
          10000000000,
          25000000,
          290000000,
          350000000,
          125000000,
          15000000,
          7400000000,
          155000000,
          337000000,
          350000000,
          45000000000
         ],
         "yaxis": "y"
        }
       ],
       "layout": {
        "height": 400,
        "legend": {
         "tracegroupgap": 0
        },
        "template": {
         "data": {
          "bar": [
           {
            "error_x": {
             "color": "#2a3f5f"
            },
            "error_y": {
             "color": "#2a3f5f"
            },
            "marker": {
             "line": {
              "color": "#E5ECF6",
              "width": 0.5
             },
             "pattern": {
              "fillmode": "overlay",
              "size": 10,
              "solidity": 0.2
             }
            },
            "type": "bar"
           }
          ],
          "barpolar": [
           {
            "marker": {
             "line": {
              "color": "#E5ECF6",
              "width": 0.5
             },
             "pattern": {
              "fillmode": "overlay",
              "size": 10,
              "solidity": 0.2
             }
            },
            "type": "barpolar"
           }
          ],
          "carpet": [
           {
            "aaxis": {
             "endlinecolor": "#2a3f5f",
             "gridcolor": "white",
             "linecolor": "white",
             "minorgridcolor": "white",
             "startlinecolor": "#2a3f5f"
            },
            "baxis": {
             "endlinecolor": "#2a3f5f",
             "gridcolor": "white",
             "linecolor": "white",
             "minorgridcolor": "white",
             "startlinecolor": "#2a3f5f"
            },
            "type": "carpet"
           }
          ],
          "choropleth": [
           {
            "colorbar": {
             "outlinewidth": 0,
             "ticks": ""
            },
            "type": "choropleth"
           }
          ],
          "contour": [
           {
            "colorbar": {
             "outlinewidth": 0,
             "ticks": ""
            },
            "colorscale": [
             [
              0,
              "#0d0887"
             ],
             [
              0.1111111111111111,
              "#46039f"
             ],
             [
              0.2222222222222222,
              "#7201a8"
             ],
             [
              0.3333333333333333,
              "#9c179e"
             ],
             [
              0.4444444444444444,
              "#bd3786"
             ],
             [
              0.5555555555555556,
              "#d8576b"
             ],
             [
              0.6666666666666666,
              "#ed7953"
             ],
             [
              0.7777777777777778,
              "#fb9f3a"
             ],
             [
              0.8888888888888888,
              "#fdca26"
             ],
             [
              1,
              "#f0f921"
             ]
            ],
            "type": "contour"
           }
          ],
          "contourcarpet": [
           {
            "colorbar": {
             "outlinewidth": 0,
             "ticks": ""
            },
            "type": "contourcarpet"
           }
          ],
          "heatmap": [
           {
            "colorbar": {
             "outlinewidth": 0,
             "ticks": ""
            },
            "colorscale": [
             [
              0,
              "#0d0887"
             ],
             [
              0.1111111111111111,
              "#46039f"
             ],
             [
              0.2222222222222222,
              "#7201a8"
             ],
             [
              0.3333333333333333,
              "#9c179e"
             ],
             [
              0.4444444444444444,
              "#bd3786"
             ],
             [
              0.5555555555555556,
              "#d8576b"
             ],
             [
              0.6666666666666666,
              "#ed7953"
             ],
             [
              0.7777777777777778,
              "#fb9f3a"
             ],
             [
              0.8888888888888888,
              "#fdca26"
             ],
             [
              1,
              "#f0f921"
             ]
            ],
            "type": "heatmap"
           }
          ],
          "histogram": [
           {
            "marker": {
             "pattern": {
              "fillmode": "overlay",
              "size": 10,
              "solidity": 0.2
             }
            },
            "type": "histogram"
           }
          ],
          "histogram2d": [
           {
            "colorbar": {
             "outlinewidth": 0,
             "ticks": ""
            },
            "colorscale": [
             [
              0,
              "#0d0887"
             ],
             [
              0.1111111111111111,
              "#46039f"
             ],
             [
              0.2222222222222222,
              "#7201a8"
             ],
             [
              0.3333333333333333,
              "#9c179e"
             ],
             [
              0.4444444444444444,
              "#bd3786"
             ],
             [
              0.5555555555555556,
              "#d8576b"
             ],
             [
              0.6666666666666666,
              "#ed7953"
             ],
             [
              0.7777777777777778,
              "#fb9f3a"
             ],
             [
              0.8888888888888888,
              "#fdca26"
             ],
             [
              1,
              "#f0f921"
             ]
            ],
            "type": "histogram2d"
           }
          ],
          "histogram2dcontour": [
           {
            "colorbar": {
             "outlinewidth": 0,
             "ticks": ""
            },
            "colorscale": [
             [
              0,
              "#0d0887"
             ],
             [
              0.1111111111111111,
              "#46039f"
             ],
             [
              0.2222222222222222,
              "#7201a8"
             ],
             [
              0.3333333333333333,
              "#9c179e"
             ],
             [
              0.4444444444444444,
              "#bd3786"
             ],
             [
              0.5555555555555556,
              "#d8576b"
             ],
             [
              0.6666666666666666,
              "#ed7953"
             ],
             [
              0.7777777777777778,
              "#fb9f3a"
             ],
             [
              0.8888888888888888,
              "#fdca26"
             ],
             [
              1,
              "#f0f921"
             ]
            ],
            "type": "histogram2dcontour"
           }
          ],
          "mesh3d": [
           {
            "colorbar": {
             "outlinewidth": 0,
             "ticks": ""
            },
            "type": "mesh3d"
           }
          ],
          "parcoords": [
           {
            "line": {
             "colorbar": {
              "outlinewidth": 0,
              "ticks": ""
             }
            },
            "type": "parcoords"
           }
          ],
          "pie": [
           {
            "automargin": true,
            "type": "pie"
           }
          ],
          "scatter": [
           {
            "fillpattern": {
             "fillmode": "overlay",
             "size": 10,
             "solidity": 0.2
            },
            "type": "scatter"
           }
          ],
          "scatter3d": [
           {
            "line": {
             "colorbar": {
              "outlinewidth": 0,
              "ticks": ""
             }
            },
            "marker": {
             "colorbar": {
              "outlinewidth": 0,
              "ticks": ""
             }
            },
            "type": "scatter3d"
           }
          ],
          "scattercarpet": [
           {
            "marker": {
             "colorbar": {
              "outlinewidth": 0,
              "ticks": ""
             }
            },
            "type": "scattercarpet"
           }
          ],
          "scattergeo": [
           {
            "marker": {
             "colorbar": {
              "outlinewidth": 0,
              "ticks": ""
             }
            },
            "type": "scattergeo"
           }
          ],
          "scattergl": [
           {
            "marker": {
             "colorbar": {
              "outlinewidth": 0,
              "ticks": ""
             }
            },
            "type": "scattergl"
           }
          ],
          "scattermap": [
           {
            "marker": {
             "colorbar": {
              "outlinewidth": 0,
              "ticks": ""
             }
            },
            "type": "scattermap"
           }
          ],
          "scattermapbox": [
           {
            "marker": {
             "colorbar": {
              "outlinewidth": 0,
              "ticks": ""
             }
            },
            "type": "scattermapbox"
           }
          ],
          "scatterpolar": [
           {
            "marker": {
             "colorbar": {
              "outlinewidth": 0,
              "ticks": ""
             }
            },
            "type": "scatterpolar"
           }
          ],
          "scatterpolargl": [
           {
            "marker": {
             "colorbar": {
              "outlinewidth": 0,
              "ticks": ""
             }
            },
            "type": "scatterpolargl"
           }
          ],
          "scatterternary": [
           {
            "marker": {
             "colorbar": {
              "outlinewidth": 0,
              "ticks": ""
             }
            },
            "type": "scatterternary"
           }
          ],
          "surface": [
           {
            "colorbar": {
             "outlinewidth": 0,
             "ticks": ""
            },
            "colorscale": [
             [
              0,
              "#0d0887"
             ],
             [
              0.1111111111111111,
              "#46039f"
             ],
             [
              0.2222222222222222,
              "#7201a8"
             ],
             [
              0.3333333333333333,
              "#9c179e"
             ],
             [
              0.4444444444444444,
              "#bd3786"
             ],
             [
              0.5555555555555556,
              "#d8576b"
             ],
             [
              0.6666666666666666,
              "#ed7953"
             ],
             [
              0.7777777777777778,
              "#fb9f3a"
             ],
             [
              0.8888888888888888,
              "#fdca26"
             ],
             [
              1,
              "#f0f921"
             ]
            ],
            "type": "surface"
           }
          ],
          "table": [
           {
            "cells": {
             "fill": {
              "color": "#EBF0F8"
             },
             "line": {
              "color": "white"
             }
            },
            "header": {
             "fill": {
              "color": "#C8D4E3"
             },
             "line": {
              "color": "white"
             }
            },
            "type": "table"
           }
          ]
         },
         "layout": {
          "annotationdefaults": {
           "arrowcolor": "#2a3f5f",
           "arrowhead": 0,
           "arrowwidth": 1
          },
          "autotypenumbers": "strict",
          "coloraxis": {
           "colorbar": {
            "outlinewidth": 0,
            "ticks": ""
           }
          },
          "colorscale": {
           "diverging": [
            [
             0,
             "#8e0152"
            ],
            [
             0.1,
             "#c51b7d"
            ],
            [
             0.2,
             "#de77ae"
            ],
            [
             0.3,
             "#f1b6da"
            ],
            [
             0.4,
             "#fde0ef"
            ],
            [
             0.5,
             "#f7f7f7"
            ],
            [
             0.6,
             "#e6f5d0"
            ],
            [
             0.7,
             "#b8e186"
            ],
            [
             0.8,
             "#7fbc41"
            ],
            [
             0.9,
             "#4d9221"
            ],
            [
             1,
             "#276419"
            ]
           ],
           "sequential": [
            [
             0,
             "#0d0887"
            ],
            [
             0.1111111111111111,
             "#46039f"
            ],
            [
             0.2222222222222222,
             "#7201a8"
            ],
            [
             0.3333333333333333,
             "#9c179e"
            ],
            [
             0.4444444444444444,
             "#bd3786"
            ],
            [
             0.5555555555555556,
             "#d8576b"
            ],
            [
             0.6666666666666666,
             "#ed7953"
            ],
            [
             0.7777777777777778,
             "#fb9f3a"
            ],
            [
             0.8888888888888888,
             "#fdca26"
            ],
            [
             1,
             "#f0f921"
            ]
           ],
           "sequentialminus": [
            [
             0,
             "#0d0887"
            ],
            [
             0.1111111111111111,
             "#46039f"
            ],
            [
             0.2222222222222222,
             "#7201a8"
            ],
            [
             0.3333333333333333,
             "#9c179e"
            ],
            [
             0.4444444444444444,
             "#bd3786"
            ],
            [
             0.5555555555555556,
             "#d8576b"
            ],
            [
             0.6666666666666666,
             "#ed7953"
            ],
            [
             0.7777777777777778,
             "#fb9f3a"
            ],
            [
             0.8888888888888888,
             "#fdca26"
            ],
            [
             1,
             "#f0f921"
            ]
           ]
          },
          "colorway": [
           "#636efa",
           "#EF553B",
           "#00cc96",
           "#ab63fa",
           "#FFA15A",
           "#19d3f3",
           "#FF6692",
           "#B6E880",
           "#FF97FF",
           "#FECB52"
          ],
          "font": {
           "color": "#2a3f5f"
          },
          "geo": {
           "bgcolor": "white",
           "lakecolor": "white",
           "landcolor": "#E5ECF6",
           "showlakes": true,
           "showland": true,
           "subunitcolor": "white"
          },
          "hoverlabel": {
           "align": "left"
          },
          "hovermode": "closest",
          "mapbox": {
           "style": "light"
          },
          "paper_bgcolor": "white",
          "plot_bgcolor": "#E5ECF6",
          "polar": {
           "angularaxis": {
            "gridcolor": "white",
            "linecolor": "white",
            "ticks": ""
           },
           "bgcolor": "#E5ECF6",
           "radialaxis": {
            "gridcolor": "white",
            "linecolor": "white",
            "ticks": ""
           }
          },
          "scene": {
           "xaxis": {
            "backgroundcolor": "#E5ECF6",
            "gridcolor": "white",
            "gridwidth": 2,
            "linecolor": "white",
            "showbackground": true,
            "ticks": "",
            "zerolinecolor": "white"
           },
           "yaxis": {
            "backgroundcolor": "#E5ECF6",
            "gridcolor": "white",
            "gridwidth": 2,
            "linecolor": "white",
            "showbackground": true,
            "ticks": "",
            "zerolinecolor": "white"
           },
           "zaxis": {
            "backgroundcolor": "#E5ECF6",
            "gridcolor": "white",
            "gridwidth": 2,
            "linecolor": "white",
            "showbackground": true,
            "ticks": "",
            "zerolinecolor": "white"
           }
          },
          "shapedefaults": {
           "line": {
            "color": "#2a3f5f"
           }
          },
          "ternary": {
           "aaxis": {
            "gridcolor": "white",
            "linecolor": "white",
            "ticks": ""
           },
           "baxis": {
            "gridcolor": "white",
            "linecolor": "white",
            "ticks": ""
           },
           "bgcolor": "#E5ECF6",
           "caxis": {
            "gridcolor": "white",
            "linecolor": "white",
            "ticks": ""
           }
          },
          "title": {
           "x": 0.05
          },
          "xaxis": {
           "automargin": true,
           "gridcolor": "white",
           "linecolor": "white",
           "ticks": "",
           "title": {
            "standoff": 15
           },
           "zerolinecolor": "white",
           "zerolinewidth": 2
          },
          "yaxis": {
           "automargin": true,
           "gridcolor": "white",
           "linecolor": "white",
           "ticks": "",
           "title": {
            "standoff": 15
           },
           "zerolinecolor": "white",
           "zerolinewidth": 2
          }
         }
        },
        "title": {
         "text": "Acquisition Price by Year"
        },
        "width": 700,
        "xaxis": {
         "anchor": "y",
         "domain": [
          0,
          1
         ],
         "title": {
          "text": "Year of acquisition announcement"
         }
        },
        "yaxis": {
         "anchor": "x",
         "domain": [
          0,
          1
         ],
         "title": {
          "text": "Price"
         }
        }
       }
      }
     },
     "metadata": {},
     "output_type": "display_data"
    }
   ],
   "source": [
    "fig = px.scatter(\n",
    "    acquisitions,\n",
    "    x=\"Year of acquisition announcement\",\n",
    "    y=\"Price\",\n",
    "    title=\"Acquisition Price by Year\",\n",
    "    width=700,\n",
    "    height=400,\n",
    ")\n",
    "fig.show()"
   ]
  },
  {
   "cell_type": "markdown",
   "id": "39596dce",
   "metadata": {},
   "source": [
    "update the datatypes automatically"
   ]
  },
  {
   "cell_type": "code",
   "execution_count": 20,
   "id": "cdd6d5c0",
   "metadata": {},
   "outputs": [],
   "source": [
    "acquired = acquired.infer_objects()\n",
    "acquisitions = acquisitions.infer_objects()"
   ]
  },
  {
   "cell_type": "code",
   "execution_count": 21,
   "id": "461fba41",
   "metadata": {},
   "outputs": [
    {
     "data": {
      "application/vnd.plotly.v1+json": {
       "config": {
        "plotlyServerURL": "https://plot.ly"
       },
       "data": [
        {
         "hovertemplate": "Year Founded=%{x}<br>Price=%{y}<extra></extra>",
         "legendgroup": "",
         "marker": {
          "color": "#636efa",
          "symbol": "circle"
         },
         "mode": "markers",
         "name": "",
         "orientation": "v",
         "showlegend": false,
         "type": "scatter",
         "x": {
          "bdata": "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",
          "dtype": "f8"
         },
         "xaxis": "x",
         "y": [
          240000000,
          400000000,
          3400000000,
          600000000,
          1800000000,
          250000000,
          300000000,
          26000000,
          775000000,
          2500000,
          545000000,
          110000000,
          65000000,
          435000000,
          125000000,
          101000000,
          90700000,
          1100000000,
          525000000,
          4200000000,
          363000000,
          320000000,
          275000000,
          315000000,
          40000000,
          30000000,
          450000000,
          3000000000,
          7000000,
          50000000,
          30000000,
          121000000,
          400000000,
          278000000,
          29000000,
          345000000,
          275000000,
          200000000,
          20000000,
          944000000,
          15000000,
          275000000,
          200000000,
          330000000,
          155000000,
          1700000000,
          200000000,
          40000000,
          375000000,
          450000000,
          7400000000,
          99000000,
          271000000,
          1200000000,
          330000000,
          215000000,
          590000000,
          120000000,
          183000000,
          100000000,
          2700000000,
          175000000,
          3400000000,
          3200000000,
          415000000,
          125000000,
          200000000,
          320000000,
          150000000,
          5000000,
          45000000000,
          820000000,
          12000000,
          155000000,
          3900000000,
          2400000000,
          100000000,
          50000000,
          945000000,
          380000000,
          150000000,
          2400000000,
          350000000,
          80000000,
          180000000,
          290000000,
          75000000,
          1500000000,
          620000000,
          310000000,
          48300000,
          240000000,
          2100000000,
          213000000,
          2300000000,
          150000000,
          76000000,
          200000000,
          250000000,
          635000000,
          50000000,
          15000000,
          10000000,
          60000000,
          10000000,
          1000000000,
          2500000,
          2000000000,
          150000000,
          90000000,
          70000000,
          19000000000,
          50000000,
          400000000,
          750000000,
          23000000,
          50000000,
          102000000,
          61000000,
          30000000,
          35000000,
          125000000,
          500000000,
          102000000,
          28000000,
          100000000,
          40000000,
          68200000,
          60000000,
          80000000,
          700000000,
          12000000,
          70000000,
          25000000,
          100000000,
          4900000,
          3200000000,
          15000000,
          130000000,
          20300000,
          625000000,
          500000000,
          30000000,
          996000000,
          160000000,
          350000000,
          1700000000,
          151000000,
          2700000000,
          2400000000,
          1500000000,
          10200000000,
          360000000,
          30000000,
          4500000000,
          1600000000,
          25000000,
          300000000,
          20000000,
          225000000,
          1300000000,
          3500000000,
          1700000000,
          1200000000,
          140000000,
          800000000,
          480000000,
          300000000,
          130000000,
          100000000,
          25000000,
          26000000,
          1400000000,
          500000000,
          8000000,
          40000000,
          20000000,
          884000000,
          748000000,
          95000000,
          176000000,
          67500000,
          3400000000,
          60000000,
          175000000,
          120000000,
          5000000,
          90000000,
          15000000,
          119000000,
          6400000000,
          500000000,
          115000000,
          1200000000,
          400000000,
          50000000,
          200000000,
          150000000,
          100000000,
          100000000,
          337000000,
          96000000,
          100000000,
          75000000,
          25000000,
          8100000000,
          57000000,
          340000000,
          96800000,
          495000000,
          1000000000,
          8500000000,
          400000000,
          871000000,
          5300000000,
          685000000,
          1500000000,
          150000000,
          1900000000,
          300000000,
          220000000,
          65000000,
          56000000,
          144000000,
          210000000,
          175000000,
          3100000000,
          300000000,
          32000000,
          12000000,
          50000000,
          31000000,
          2500000000,
          70000000,
          250000000,
          142000000,
          390000000,
          689000000,
          170000000,
          326000000,
          30000000,
          347000000,
          200000000,
          1100000000,
          307000000,
          4300000000,
          10000000000,
          100000000,
          3400000000,
          5800000000,
          380000000,
          53000000,
          410000000,
          115000000,
          695000000,
          300000000,
          135000000,
          123000000,
          28000000,
          1300000000,
          350000000,
          525000000,
          263000000,
          10000000,
          80000000,
          134000000,
          5200000,
          350000000,
          50000000,
          15000000,
          100000000,
          40000000,
          30000000,
          28100000000,
          10100000000,
          10000000000,
          31000000,
          40000000,
          100000000,
          90000000,
          80000000,
          5700000000,
          55000000,
          432000000,
          130000000,
          200000000,
          92000000,
          40000000,
          2900000000,
          235000000,
          270000000,
          610000000,
          145000000,
          12000000,
          10000000,
          164000000,
          160000000,
          160000000,
          10000000,
          1400000,
          80000000,
          1600000000,
          50000000,
          850000000,
          100000000,
          10000000,
          16000000,
          93000000,
          49000000,
          20000000
         ],
         "yaxis": "y"
        }
       ],
       "layout": {
        "height": 400,
        "legend": {
         "tracegroupgap": 0
        },
        "template": {
         "data": {
          "bar": [
           {
            "error_x": {
             "color": "#2a3f5f"
            },
            "error_y": {
             "color": "#2a3f5f"
            },
            "marker": {
             "line": {
              "color": "#E5ECF6",
              "width": 0.5
             },
             "pattern": {
              "fillmode": "overlay",
              "size": 10,
              "solidity": 0.2
             }
            },
            "type": "bar"
           }
          ],
          "barpolar": [
           {
            "marker": {
             "line": {
              "color": "#E5ECF6",
              "width": 0.5
             },
             "pattern": {
              "fillmode": "overlay",
              "size": 10,
              "solidity": 0.2
             }
            },
            "type": "barpolar"
           }
          ],
          "carpet": [
           {
            "aaxis": {
             "endlinecolor": "#2a3f5f",
             "gridcolor": "white",
             "linecolor": "white",
             "minorgridcolor": "white",
             "startlinecolor": "#2a3f5f"
            },
            "baxis": {
             "endlinecolor": "#2a3f5f",
             "gridcolor": "white",
             "linecolor": "white",
             "minorgridcolor": "white",
             "startlinecolor": "#2a3f5f"
            },
            "type": "carpet"
           }
          ],
          "choropleth": [
           {
            "colorbar": {
             "outlinewidth": 0,
             "ticks": ""
            },
            "type": "choropleth"
           }
          ],
          "contour": [
           {
            "colorbar": {
             "outlinewidth": 0,
             "ticks": ""
            },
            "colorscale": [
             [
              0,
              "#0d0887"
             ],
             [
              0.1111111111111111,
              "#46039f"
             ],
             [
              0.2222222222222222,
              "#7201a8"
             ],
             [
              0.3333333333333333,
              "#9c179e"
             ],
             [
              0.4444444444444444,
              "#bd3786"
             ],
             [
              0.5555555555555556,
              "#d8576b"
             ],
             [
              0.6666666666666666,
              "#ed7953"
             ],
             [
              0.7777777777777778,
              "#fb9f3a"
             ],
             [
              0.8888888888888888,
              "#fdca26"
             ],
             [
              1,
              "#f0f921"
             ]
            ],
            "type": "contour"
           }
          ],
          "contourcarpet": [
           {
            "colorbar": {
             "outlinewidth": 0,
             "ticks": ""
            },
            "type": "contourcarpet"
           }
          ],
          "heatmap": [
           {
            "colorbar": {
             "outlinewidth": 0,
             "ticks": ""
            },
            "colorscale": [
             [
              0,
              "#0d0887"
             ],
             [
              0.1111111111111111,
              "#46039f"
             ],
             [
              0.2222222222222222,
              "#7201a8"
             ],
             [
              0.3333333333333333,
              "#9c179e"
             ],
             [
              0.4444444444444444,
              "#bd3786"
             ],
             [
              0.5555555555555556,
              "#d8576b"
             ],
             [
              0.6666666666666666,
              "#ed7953"
             ],
             [
              0.7777777777777778,
              "#fb9f3a"
             ],
             [
              0.8888888888888888,
              "#fdca26"
             ],
             [
              1,
              "#f0f921"
             ]
            ],
            "type": "heatmap"
           }
          ],
          "histogram": [
           {
            "marker": {
             "pattern": {
              "fillmode": "overlay",
              "size": 10,
              "solidity": 0.2
             }
            },
            "type": "histogram"
           }
          ],
          "histogram2d": [
           {
            "colorbar": {
             "outlinewidth": 0,
             "ticks": ""
            },
            "colorscale": [
             [
              0,
              "#0d0887"
             ],
             [
              0.1111111111111111,
              "#46039f"
             ],
             [
              0.2222222222222222,
              "#7201a8"
             ],
             [
              0.3333333333333333,
              "#9c179e"
             ],
             [
              0.4444444444444444,
              "#bd3786"
             ],
             [
              0.5555555555555556,
              "#d8576b"
             ],
             [
              0.6666666666666666,
              "#ed7953"
             ],
             [
              0.7777777777777778,
              "#fb9f3a"
             ],
             [
              0.8888888888888888,
              "#fdca26"
             ],
             [
              1,
              "#f0f921"
             ]
            ],
            "type": "histogram2d"
           }
          ],
          "histogram2dcontour": [
           {
            "colorbar": {
             "outlinewidth": 0,
             "ticks": ""
            },
            "colorscale": [
             [
              0,
              "#0d0887"
             ],
             [
              0.1111111111111111,
              "#46039f"
             ],
             [
              0.2222222222222222,
              "#7201a8"
             ],
             [
              0.3333333333333333,
              "#9c179e"
             ],
             [
              0.4444444444444444,
              "#bd3786"
             ],
             [
              0.5555555555555556,
              "#d8576b"
             ],
             [
              0.6666666666666666,
              "#ed7953"
             ],
             [
              0.7777777777777778,
              "#fb9f3a"
             ],
             [
              0.8888888888888888,
              "#fdca26"
             ],
             [
              1,
              "#f0f921"
             ]
            ],
            "type": "histogram2dcontour"
           }
          ],
          "mesh3d": [
           {
            "colorbar": {
             "outlinewidth": 0,
             "ticks": ""
            },
            "type": "mesh3d"
           }
          ],
          "parcoords": [
           {
            "line": {
             "colorbar": {
              "outlinewidth": 0,
              "ticks": ""
             }
            },
            "type": "parcoords"
           }
          ],
          "pie": [
           {
            "automargin": true,
            "type": "pie"
           }
          ],
          "scatter": [
           {
            "fillpattern": {
             "fillmode": "overlay",
             "size": 10,
             "solidity": 0.2
            },
            "type": "scatter"
           }
          ],
          "scatter3d": [
           {
            "line": {
             "colorbar": {
              "outlinewidth": 0,
              "ticks": ""
             }
            },
            "marker": {
             "colorbar": {
              "outlinewidth": 0,
              "ticks": ""
             }
            },
            "type": "scatter3d"
           }
          ],
          "scattercarpet": [
           {
            "marker": {
             "colorbar": {
              "outlinewidth": 0,
              "ticks": ""
             }
            },
            "type": "scattercarpet"
           }
          ],
          "scattergeo": [
           {
            "marker": {
             "colorbar": {
              "outlinewidth": 0,
              "ticks": ""
             }
            },
            "type": "scattergeo"
           }
          ],
          "scattergl": [
           {
            "marker": {
             "colorbar": {
              "outlinewidth": 0,
              "ticks": ""
             }
            },
            "type": "scattergl"
           }
          ],
          "scattermap": [
           {
            "marker": {
             "colorbar": {
              "outlinewidth": 0,
              "ticks": ""
             }
            },
            "type": "scattermap"
           }
          ],
          "scattermapbox": [
           {
            "marker": {
             "colorbar": {
              "outlinewidth": 0,
              "ticks": ""
             }
            },
            "type": "scattermapbox"
           }
          ],
          "scatterpolar": [
           {
            "marker": {
             "colorbar": {
              "outlinewidth": 0,
              "ticks": ""
             }
            },
            "type": "scatterpolar"
           }
          ],
          "scatterpolargl": [
           {
            "marker": {
             "colorbar": {
              "outlinewidth": 0,
              "ticks": ""
             }
            },
            "type": "scatterpolargl"
           }
          ],
          "scatterternary": [
           {
            "marker": {
             "colorbar": {
              "outlinewidth": 0,
              "ticks": ""
             }
            },
            "type": "scatterternary"
           }
          ],
          "surface": [
           {
            "colorbar": {
             "outlinewidth": 0,
             "ticks": ""
            },
            "colorscale": [
             [
              0,
              "#0d0887"
             ],
             [
              0.1111111111111111,
              "#46039f"
             ],
             [
              0.2222222222222222,
              "#7201a8"
             ],
             [
              0.3333333333333333,
              "#9c179e"
             ],
             [
              0.4444444444444444,
              "#bd3786"
             ],
             [
              0.5555555555555556,
              "#d8576b"
             ],
             [
              0.6666666666666666,
              "#ed7953"
             ],
             [
              0.7777777777777778,
              "#fb9f3a"
             ],
             [
              0.8888888888888888,
              "#fdca26"
             ],
             [
              1,
              "#f0f921"
             ]
            ],
            "type": "surface"
           }
          ],
          "table": [
           {
            "cells": {
             "fill": {
              "color": "#EBF0F8"
             },
             "line": {
              "color": "white"
             }
            },
            "header": {
             "fill": {
              "color": "#C8D4E3"
             },
             "line": {
              "color": "white"
             }
            },
            "type": "table"
           }
          ]
         },
         "layout": {
          "annotationdefaults": {
           "arrowcolor": "#2a3f5f",
           "arrowhead": 0,
           "arrowwidth": 1
          },
          "autotypenumbers": "strict",
          "coloraxis": {
           "colorbar": {
            "outlinewidth": 0,
            "ticks": ""
           }
          },
          "colorscale": {
           "diverging": [
            [
             0,
             "#8e0152"
            ],
            [
             0.1,
             "#c51b7d"
            ],
            [
             0.2,
             "#de77ae"
            ],
            [
             0.3,
             "#f1b6da"
            ],
            [
             0.4,
             "#fde0ef"
            ],
            [
             0.5,
             "#f7f7f7"
            ],
            [
             0.6,
             "#e6f5d0"
            ],
            [
             0.7,
             "#b8e186"
            ],
            [
             0.8,
             "#7fbc41"
            ],
            [
             0.9,
             "#4d9221"
            ],
            [
             1,
             "#276419"
            ]
           ],
           "sequential": [
            [
             0,
             "#0d0887"
            ],
            [
             0.1111111111111111,
             "#46039f"
            ],
            [
             0.2222222222222222,
             "#7201a8"
            ],
            [
             0.3333333333333333,
             "#9c179e"
            ],
            [
             0.4444444444444444,
             "#bd3786"
            ],
            [
             0.5555555555555556,
             "#d8576b"
            ],
            [
             0.6666666666666666,
             "#ed7953"
            ],
            [
             0.7777777777777778,
             "#fb9f3a"
            ],
            [
             0.8888888888888888,
             "#fdca26"
            ],
            [
             1,
             "#f0f921"
            ]
           ],
           "sequentialminus": [
            [
             0,
             "#0d0887"
            ],
            [
             0.1111111111111111,
             "#46039f"
            ],
            [
             0.2222222222222222,
             "#7201a8"
            ],
            [
             0.3333333333333333,
             "#9c179e"
            ],
            [
             0.4444444444444444,
             "#bd3786"
            ],
            [
             0.5555555555555556,
             "#d8576b"
            ],
            [
             0.6666666666666666,
             "#ed7953"
            ],
            [
             0.7777777777777778,
             "#fb9f3a"
            ],
            [
             0.8888888888888888,
             "#fdca26"
            ],
            [
             1,
             "#f0f921"
            ]
           ]
          },
          "colorway": [
           "#636efa",
           "#EF553B",
           "#00cc96",
           "#ab63fa",
           "#FFA15A",
           "#19d3f3",
           "#FF6692",
           "#B6E880",
           "#FF97FF",
           "#FECB52"
          ],
          "font": {
           "color": "#2a3f5f"
          },
          "geo": {
           "bgcolor": "white",
           "lakecolor": "white",
           "landcolor": "#E5ECF6",
           "showlakes": true,
           "showland": true,
           "subunitcolor": "white"
          },
          "hoverlabel": {
           "align": "left"
          },
          "hovermode": "closest",
          "mapbox": {
           "style": "light"
          },
          "paper_bgcolor": "white",
          "plot_bgcolor": "#E5ECF6",
          "polar": {
           "angularaxis": {
            "gridcolor": "white",
            "linecolor": "white",
            "ticks": ""
           },
           "bgcolor": "#E5ECF6",
           "radialaxis": {
            "gridcolor": "white",
            "linecolor": "white",
            "ticks": ""
           }
          },
          "scene": {
           "xaxis": {
            "backgroundcolor": "#E5ECF6",
            "gridcolor": "white",
            "gridwidth": 2,
            "linecolor": "white",
            "showbackground": true,
            "ticks": "",
            "zerolinecolor": "white"
           },
           "yaxis": {
            "backgroundcolor": "#E5ECF6",
            "gridcolor": "white",
            "gridwidth": 2,
            "linecolor": "white",
            "showbackground": true,
            "ticks": "",
            "zerolinecolor": "white"
           },
           "zaxis": {
            "backgroundcolor": "#E5ECF6",
            "gridcolor": "white",
            "gridwidth": 2,
            "linecolor": "white",
            "showbackground": true,
            "ticks": "",
            "zerolinecolor": "white"
           }
          },
          "shapedefaults": {
           "line": {
            "color": "#2a3f5f"
           }
          },
          "ternary": {
           "aaxis": {
            "gridcolor": "white",
            "linecolor": "white",
            "ticks": ""
           },
           "baxis": {
            "gridcolor": "white",
            "linecolor": "white",
            "ticks": ""
           },
           "bgcolor": "#E5ECF6",
           "caxis": {
            "gridcolor": "white",
            "linecolor": "white",
            "ticks": ""
           }
          },
          "title": {
           "x": 0.05
          },
          "xaxis": {
           "automargin": true,
           "gridcolor": "white",
           "linecolor": "white",
           "ticks": "",
           "title": {
            "standoff": 15
           },
           "zerolinecolor": "white",
           "zerolinewidth": 2
          },
          "yaxis": {
           "automargin": true,
           "gridcolor": "white",
           "linecolor": "white",
           "ticks": "",
           "title": {
            "standoff": 15
           },
           "zerolinecolor": "white",
           "zerolinewidth": 2
          }
         }
        },
        "title": {
         "text": "Acquisition Price by Year"
        },
        "width": 600,
        "xaxis": {
         "anchor": "y",
         "domain": [
          0,
          1
         ],
         "title": {
          "text": "Year Founded"
         }
        },
        "yaxis": {
         "anchor": "x",
         "domain": [
          0,
          1
         ],
         "title": {
          "text": "Price"
         }
        }
       }
      }
     },
     "metadata": {},
     "output_type": "display_data"
    }
   ],
   "source": [
    "fig = px.scatter(\n",
    "    acquired,\n",
    "    x=\"Year Founded\",\n",
    "    y=\"Price\",\n",
    "    title=\"Acquisition Price by Year\",\n",
    "    width=600,\n",
    "    height=400,\n",
    ")\n",
    "fig.show()"
   ]
  },
  {
   "cell_type": "markdown",
   "id": "dbbd7ffb",
   "metadata": {},
   "source": [
    "Another error found and corrected"
   ]
  },
  {
   "cell_type": "code",
   "execution_count": 22,
   "id": "82b00b35",
   "metadata": {},
   "outputs": [],
   "source": [
    "acquired.loc[acquired[\"Year Founded\"] == 1840, \"Year Founded\"] = 2006\n",
    "acquired.loc[acquired[\"Year Founded\"] == 1933, \"Year Founded\"] = 1989"
   ]
  },
  {
   "cell_type": "code",
   "execution_count": 23,
   "id": "45bfa512",
   "metadata": {},
   "outputs": [
    {
     "data": {
      "application/vnd.plotly.v1+json": {
       "config": {
        "plotlyServerURL": "https://plot.ly"
       },
       "data": [
        {
         "hovertemplate": "Year Founded=%{x}<br>Price=%{y}<extra></extra>",
         "legendgroup": "",
         "marker": {
          "color": "#636efa",
          "symbol": "circle"
         },
         "mode": "markers",
         "name": "",
         "orientation": "v",
         "showlegend": false,
         "type": "scatter",
         "x": {
          "bdata": "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",
          "dtype": "f8"
         },
         "xaxis": "x",
         "y": [
          240000000,
          400000000,
          3400000000,
          600000000,
          1800000000,
          250000000,
          300000000,
          26000000,
          775000000,
          2500000,
          545000000,
          110000000,
          65000000,
          435000000,
          125000000,
          101000000,
          90700000,
          1100000000,
          525000000,
          4200000000,
          363000000,
          320000000,
          275000000,
          315000000,
          40000000,
          30000000,
          450000000,
          3000000000,
          7000000,
          50000000,
          30000000,
          121000000,
          400000000,
          278000000,
          29000000,
          345000000,
          275000000,
          200000000,
          20000000,
          944000000,
          15000000,
          275000000,
          200000000,
          330000000,
          155000000,
          1700000000,
          200000000,
          40000000,
          375000000,
          450000000,
          7400000000,
          99000000,
          271000000,
          1200000000,
          330000000,
          215000000,
          590000000,
          120000000,
          183000000,
          100000000,
          2700000000,
          175000000,
          3400000000,
          3200000000,
          415000000,
          125000000,
          200000000,
          320000000,
          150000000,
          5000000,
          45000000000,
          820000000,
          12000000,
          155000000,
          3900000000,
          2400000000,
          100000000,
          50000000,
          945000000,
          380000000,
          150000000,
          2400000000,
          350000000,
          80000000,
          180000000,
          290000000,
          75000000,
          1500000000,
          620000000,
          310000000,
          48300000,
          240000000,
          2100000000,
          213000000,
          2300000000,
          150000000,
          76000000,
          200000000,
          250000000,
          635000000,
          50000000,
          15000000,
          10000000,
          60000000,
          10000000,
          1000000000,
          2500000,
          2000000000,
          150000000,
          90000000,
          70000000,
          19000000000,
          50000000,
          400000000,
          750000000,
          23000000,
          50000000,
          102000000,
          61000000,
          30000000,
          35000000,
          125000000,
          500000000,
          102000000,
          28000000,
          100000000,
          40000000,
          68200000,
          60000000,
          80000000,
          700000000,
          12000000,
          70000000,
          25000000,
          100000000,
          4900000,
          3200000000,
          15000000,
          130000000,
          20300000,
          625000000,
          500000000,
          30000000,
          996000000,
          160000000,
          350000000,
          1700000000,
          151000000,
          2700000000,
          2400000000,
          1500000000,
          10200000000,
          360000000,
          30000000,
          4500000000,
          1600000000,
          25000000,
          300000000,
          20000000,
          225000000,
          1300000000,
          3500000000,
          1700000000,
          1200000000,
          140000000,
          800000000,
          480000000,
          300000000,
          130000000,
          100000000,
          25000000,
          26000000,
          1400000000,
          500000000,
          8000000,
          40000000,
          20000000,
          884000000,
          748000000,
          95000000,
          176000000,
          67500000,
          3400000000,
          60000000,
          175000000,
          120000000,
          5000000,
          90000000,
          15000000,
          119000000,
          6400000000,
          500000000,
          115000000,
          1200000000,
          400000000,
          50000000,
          200000000,
          150000000,
          100000000,
          100000000,
          337000000,
          96000000,
          100000000,
          75000000,
          25000000,
          8100000000,
          57000000,
          340000000,
          96800000,
          495000000,
          1000000000,
          8500000000,
          400000000,
          871000000,
          5300000000,
          685000000,
          1500000000,
          150000000,
          1900000000,
          300000000,
          220000000,
          65000000,
          56000000,
          144000000,
          210000000,
          175000000,
          3100000000,
          300000000,
          32000000,
          12000000,
          50000000,
          31000000,
          2500000000,
          70000000,
          250000000,
          142000000,
          390000000,
          689000000,
          170000000,
          326000000,
          30000000,
          347000000,
          200000000,
          1100000000,
          307000000,
          4300000000,
          10000000000,
          100000000,
          3400000000,
          5800000000,
          380000000,
          53000000,
          410000000,
          115000000,
          695000000,
          300000000,
          135000000,
          123000000,
          28000000,
          1300000000,
          350000000,
          525000000,
          263000000,
          10000000,
          80000000,
          134000000,
          5200000,
          350000000,
          50000000,
          15000000,
          100000000,
          40000000,
          30000000,
          28100000000,
          10100000000,
          10000000000,
          31000000,
          40000000,
          100000000,
          90000000,
          80000000,
          5700000000,
          55000000,
          432000000,
          130000000,
          200000000,
          92000000,
          40000000,
          2900000000,
          235000000,
          270000000,
          610000000,
          145000000,
          12000000,
          10000000,
          164000000,
          160000000,
          160000000,
          10000000,
          1400000,
          80000000,
          1600000000,
          50000000,
          850000000,
          100000000,
          10000000,
          16000000,
          93000000,
          49000000,
          20000000
         ],
         "yaxis": "y"
        }
       ],
       "layout": {
        "height": 400,
        "legend": {
         "tracegroupgap": 0
        },
        "template": {
         "data": {
          "bar": [
           {
            "error_x": {
             "color": "#2a3f5f"
            },
            "error_y": {
             "color": "#2a3f5f"
            },
            "marker": {
             "line": {
              "color": "#E5ECF6",
              "width": 0.5
             },
             "pattern": {
              "fillmode": "overlay",
              "size": 10,
              "solidity": 0.2
             }
            },
            "type": "bar"
           }
          ],
          "barpolar": [
           {
            "marker": {
             "line": {
              "color": "#E5ECF6",
              "width": 0.5
             },
             "pattern": {
              "fillmode": "overlay",
              "size": 10,
              "solidity": 0.2
             }
            },
            "type": "barpolar"
           }
          ],
          "carpet": [
           {
            "aaxis": {
             "endlinecolor": "#2a3f5f",
             "gridcolor": "white",
             "linecolor": "white",
             "minorgridcolor": "white",
             "startlinecolor": "#2a3f5f"
            },
            "baxis": {
             "endlinecolor": "#2a3f5f",
             "gridcolor": "white",
             "linecolor": "white",
             "minorgridcolor": "white",
             "startlinecolor": "#2a3f5f"
            },
            "type": "carpet"
           }
          ],
          "choropleth": [
           {
            "colorbar": {
             "outlinewidth": 0,
             "ticks": ""
            },
            "type": "choropleth"
           }
          ],
          "contour": [
           {
            "colorbar": {
             "outlinewidth": 0,
             "ticks": ""
            },
            "colorscale": [
             [
              0,
              "#0d0887"
             ],
             [
              0.1111111111111111,
              "#46039f"
             ],
             [
              0.2222222222222222,
              "#7201a8"
             ],
             [
              0.3333333333333333,
              "#9c179e"
             ],
             [
              0.4444444444444444,
              "#bd3786"
             ],
             [
              0.5555555555555556,
              "#d8576b"
             ],
             [
              0.6666666666666666,
              "#ed7953"
             ],
             [
              0.7777777777777778,
              "#fb9f3a"
             ],
             [
              0.8888888888888888,
              "#fdca26"
             ],
             [
              1,
              "#f0f921"
             ]
            ],
            "type": "contour"
           }
          ],
          "contourcarpet": [
           {
            "colorbar": {
             "outlinewidth": 0,
             "ticks": ""
            },
            "type": "contourcarpet"
           }
          ],
          "heatmap": [
           {
            "colorbar": {
             "outlinewidth": 0,
             "ticks": ""
            },
            "colorscale": [
             [
              0,
              "#0d0887"
             ],
             [
              0.1111111111111111,
              "#46039f"
             ],
             [
              0.2222222222222222,
              "#7201a8"
             ],
             [
              0.3333333333333333,
              "#9c179e"
             ],
             [
              0.4444444444444444,
              "#bd3786"
             ],
             [
              0.5555555555555556,
              "#d8576b"
             ],
             [
              0.6666666666666666,
              "#ed7953"
             ],
             [
              0.7777777777777778,
              "#fb9f3a"
             ],
             [
              0.8888888888888888,
              "#fdca26"
             ],
             [
              1,
              "#f0f921"
             ]
            ],
            "type": "heatmap"
           }
          ],
          "histogram": [
           {
            "marker": {
             "pattern": {
              "fillmode": "overlay",
              "size": 10,
              "solidity": 0.2
             }
            },
            "type": "histogram"
           }
          ],
          "histogram2d": [
           {
            "colorbar": {
             "outlinewidth": 0,
             "ticks": ""
            },
            "colorscale": [
             [
              0,
              "#0d0887"
             ],
             [
              0.1111111111111111,
              "#46039f"
             ],
             [
              0.2222222222222222,
              "#7201a8"
             ],
             [
              0.3333333333333333,
              "#9c179e"
             ],
             [
              0.4444444444444444,
              "#bd3786"
             ],
             [
              0.5555555555555556,
              "#d8576b"
             ],
             [
              0.6666666666666666,
              "#ed7953"
             ],
             [
              0.7777777777777778,
              "#fb9f3a"
             ],
             [
              0.8888888888888888,
              "#fdca26"
             ],
             [
              1,
              "#f0f921"
             ]
            ],
            "type": "histogram2d"
           }
          ],
          "histogram2dcontour": [
           {
            "colorbar": {
             "outlinewidth": 0,
             "ticks": ""
            },
            "colorscale": [
             [
              0,
              "#0d0887"
             ],
             [
              0.1111111111111111,
              "#46039f"
             ],
             [
              0.2222222222222222,
              "#7201a8"
             ],
             [
              0.3333333333333333,
              "#9c179e"
             ],
             [
              0.4444444444444444,
              "#bd3786"
             ],
             [
              0.5555555555555556,
              "#d8576b"
             ],
             [
              0.6666666666666666,
              "#ed7953"
             ],
             [
              0.7777777777777778,
              "#fb9f3a"
             ],
             [
              0.8888888888888888,
              "#fdca26"
             ],
             [
              1,
              "#f0f921"
             ]
            ],
            "type": "histogram2dcontour"
           }
          ],
          "mesh3d": [
           {
            "colorbar": {
             "outlinewidth": 0,
             "ticks": ""
            },
            "type": "mesh3d"
           }
          ],
          "parcoords": [
           {
            "line": {
             "colorbar": {
              "outlinewidth": 0,
              "ticks": ""
             }
            },
            "type": "parcoords"
           }
          ],
          "pie": [
           {
            "automargin": true,
            "type": "pie"
           }
          ],
          "scatter": [
           {
            "fillpattern": {
             "fillmode": "overlay",
             "size": 10,
             "solidity": 0.2
            },
            "type": "scatter"
           }
          ],
          "scatter3d": [
           {
            "line": {
             "colorbar": {
              "outlinewidth": 0,
              "ticks": ""
             }
            },
            "marker": {
             "colorbar": {
              "outlinewidth": 0,
              "ticks": ""
             }
            },
            "type": "scatter3d"
           }
          ],
          "scattercarpet": [
           {
            "marker": {
             "colorbar": {
              "outlinewidth": 0,
              "ticks": ""
             }
            },
            "type": "scattercarpet"
           }
          ],
          "scattergeo": [
           {
            "marker": {
             "colorbar": {
              "outlinewidth": 0,
              "ticks": ""
             }
            },
            "type": "scattergeo"
           }
          ],
          "scattergl": [
           {
            "marker": {
             "colorbar": {
              "outlinewidth": 0,
              "ticks": ""
             }
            },
            "type": "scattergl"
           }
          ],
          "scattermap": [
           {
            "marker": {
             "colorbar": {
              "outlinewidth": 0,
              "ticks": ""
             }
            },
            "type": "scattermap"
           }
          ],
          "scattermapbox": [
           {
            "marker": {
             "colorbar": {
              "outlinewidth": 0,
              "ticks": ""
             }
            },
            "type": "scattermapbox"
           }
          ],
          "scatterpolar": [
           {
            "marker": {
             "colorbar": {
              "outlinewidth": 0,
              "ticks": ""
             }
            },
            "type": "scatterpolar"
           }
          ],
          "scatterpolargl": [
           {
            "marker": {
             "colorbar": {
              "outlinewidth": 0,
              "ticks": ""
             }
            },
            "type": "scatterpolargl"
           }
          ],
          "scatterternary": [
           {
            "marker": {
             "colorbar": {
              "outlinewidth": 0,
              "ticks": ""
             }
            },
            "type": "scatterternary"
           }
          ],
          "surface": [
           {
            "colorbar": {
             "outlinewidth": 0,
             "ticks": ""
            },
            "colorscale": [
             [
              0,
              "#0d0887"
             ],
             [
              0.1111111111111111,
              "#46039f"
             ],
             [
              0.2222222222222222,
              "#7201a8"
             ],
             [
              0.3333333333333333,
              "#9c179e"
             ],
             [
              0.4444444444444444,
              "#bd3786"
             ],
             [
              0.5555555555555556,
              "#d8576b"
             ],
             [
              0.6666666666666666,
              "#ed7953"
             ],
             [
              0.7777777777777778,
              "#fb9f3a"
             ],
             [
              0.8888888888888888,
              "#fdca26"
             ],
             [
              1,
              "#f0f921"
             ]
            ],
            "type": "surface"
           }
          ],
          "table": [
           {
            "cells": {
             "fill": {
              "color": "#EBF0F8"
             },
             "line": {
              "color": "white"
             }
            },
            "header": {
             "fill": {
              "color": "#C8D4E3"
             },
             "line": {
              "color": "white"
             }
            },
            "type": "table"
           }
          ]
         },
         "layout": {
          "annotationdefaults": {
           "arrowcolor": "#2a3f5f",
           "arrowhead": 0,
           "arrowwidth": 1
          },
          "autotypenumbers": "strict",
          "coloraxis": {
           "colorbar": {
            "outlinewidth": 0,
            "ticks": ""
           }
          },
          "colorscale": {
           "diverging": [
            [
             0,
             "#8e0152"
            ],
            [
             0.1,
             "#c51b7d"
            ],
            [
             0.2,
             "#de77ae"
            ],
            [
             0.3,
             "#f1b6da"
            ],
            [
             0.4,
             "#fde0ef"
            ],
            [
             0.5,
             "#f7f7f7"
            ],
            [
             0.6,
             "#e6f5d0"
            ],
            [
             0.7,
             "#b8e186"
            ],
            [
             0.8,
             "#7fbc41"
            ],
            [
             0.9,
             "#4d9221"
            ],
            [
             1,
             "#276419"
            ]
           ],
           "sequential": [
            [
             0,
             "#0d0887"
            ],
            [
             0.1111111111111111,
             "#46039f"
            ],
            [
             0.2222222222222222,
             "#7201a8"
            ],
            [
             0.3333333333333333,
             "#9c179e"
            ],
            [
             0.4444444444444444,
             "#bd3786"
            ],
            [
             0.5555555555555556,
             "#d8576b"
            ],
            [
             0.6666666666666666,
             "#ed7953"
            ],
            [
             0.7777777777777778,
             "#fb9f3a"
            ],
            [
             0.8888888888888888,
             "#fdca26"
            ],
            [
             1,
             "#f0f921"
            ]
           ],
           "sequentialminus": [
            [
             0,
             "#0d0887"
            ],
            [
             0.1111111111111111,
             "#46039f"
            ],
            [
             0.2222222222222222,
             "#7201a8"
            ],
            [
             0.3333333333333333,
             "#9c179e"
            ],
            [
             0.4444444444444444,
             "#bd3786"
            ],
            [
             0.5555555555555556,
             "#d8576b"
            ],
            [
             0.6666666666666666,
             "#ed7953"
            ],
            [
             0.7777777777777778,
             "#fb9f3a"
            ],
            [
             0.8888888888888888,
             "#fdca26"
            ],
            [
             1,
             "#f0f921"
            ]
           ]
          },
          "colorway": [
           "#636efa",
           "#EF553B",
           "#00cc96",
           "#ab63fa",
           "#FFA15A",
           "#19d3f3",
           "#FF6692",
           "#B6E880",
           "#FF97FF",
           "#FECB52"
          ],
          "font": {
           "color": "#2a3f5f"
          },
          "geo": {
           "bgcolor": "white",
           "lakecolor": "white",
           "landcolor": "#E5ECF6",
           "showlakes": true,
           "showland": true,
           "subunitcolor": "white"
          },
          "hoverlabel": {
           "align": "left"
          },
          "hovermode": "closest",
          "mapbox": {
           "style": "light"
          },
          "paper_bgcolor": "white",
          "plot_bgcolor": "#E5ECF6",
          "polar": {
           "angularaxis": {
            "gridcolor": "white",
            "linecolor": "white",
            "ticks": ""
           },
           "bgcolor": "#E5ECF6",
           "radialaxis": {
            "gridcolor": "white",
            "linecolor": "white",
            "ticks": ""
           }
          },
          "scene": {
           "xaxis": {
            "backgroundcolor": "#E5ECF6",
            "gridcolor": "white",
            "gridwidth": 2,
            "linecolor": "white",
            "showbackground": true,
            "ticks": "",
            "zerolinecolor": "white"
           },
           "yaxis": {
            "backgroundcolor": "#E5ECF6",
            "gridcolor": "white",
            "gridwidth": 2,
            "linecolor": "white",
            "showbackground": true,
            "ticks": "",
            "zerolinecolor": "white"
           },
           "zaxis": {
            "backgroundcolor": "#E5ECF6",
            "gridcolor": "white",
            "gridwidth": 2,
            "linecolor": "white",
            "showbackground": true,
            "ticks": "",
            "zerolinecolor": "white"
           }
          },
          "shapedefaults": {
           "line": {
            "color": "#2a3f5f"
           }
          },
          "ternary": {
           "aaxis": {
            "gridcolor": "white",
            "linecolor": "white",
            "ticks": ""
           },
           "baxis": {
            "gridcolor": "white",
            "linecolor": "white",
            "ticks": ""
           },
           "bgcolor": "#E5ECF6",
           "caxis": {
            "gridcolor": "white",
            "linecolor": "white",
            "ticks": ""
           }
          },
          "title": {
           "x": 0.05
          },
          "xaxis": {
           "automargin": true,
           "gridcolor": "white",
           "linecolor": "white",
           "ticks": "",
           "title": {
            "standoff": 15
           },
           "zerolinecolor": "white",
           "zerolinewidth": 2
          },
          "yaxis": {
           "automargin": true,
           "gridcolor": "white",
           "linecolor": "white",
           "ticks": "",
           "title": {
            "standoff": 15
           },
           "zerolinecolor": "white",
           "zerolinewidth": 2
          }
         }
        },
        "title": {
         "text": "Acquisition Price by Year"
        },
        "width": 600,
        "xaxis": {
         "anchor": "y",
         "domain": [
          0,
          1
         ],
         "title": {
          "text": "Year Founded"
         }
        },
        "yaxis": {
         "anchor": "x",
         "domain": [
          0,
          1
         ],
         "title": {
          "text": "Price"
         }
        }
       }
      }
     },
     "metadata": {},
     "output_type": "display_data"
    }
   ],
   "source": [
    "fig = px.scatter(\n",
    "    acquired,\n",
    "    x=\"Year Founded\",\n",
    "    y=\"Price\",\n",
    "    title=\"Acquisition Price by Year\",\n",
    "    width=600,\n",
    "    height=400,\n",
    ")\n",
    "fig.show()"
   ]
  },
  {
   "cell_type": "code",
   "execution_count": 24,
   "id": "4d3520d8",
   "metadata": {},
   "outputs": [
    {
     "data": {
      "text/plain": [
       "'5min Media is a syndication platform for lifestyle, knowledge and instructional videos.'"
      ]
     },
     "execution_count": 24,
     "metadata": {},
     "output_type": "execute_result"
    }
   ],
   "source": [
    "acquired.iloc[12][\"Tagline\"]"
   ]
  },
  {
   "cell_type": "code",
   "execution_count": 25,
   "id": "8075ae10",
   "metadata": {},
   "outputs": [
    {
     "name": "stdout",
     "output_type": "stream",
     "text": [
      "5min Media is the leading syndication platform for lifestyle, knowledge and instructional videos\n",
      "\n",
      " Reinventing the cable network online, 5min reaches engaged and targeted audiences of passionate consumers through its network of 100s of lifestyle and niche websites\n",
      "\n",
      " The 5min video library comprises more than 200,000 short-form videos from some of the world's largest media companies, as well as the most innovative independent producers\n",
      "\n",
      " Visit  for more information\n",
      "\n",
      "\n",
      "\n"
     ]
    }
   ],
   "source": [
    "for l in acquired.iloc[12][\"Description\"].split(\".\"):\n",
    "    print(l + \"\\n\")"
   ]
  },
  {
   "cell_type": "markdown",
   "id": "89dd18a0",
   "metadata": {},
   "source": [
    "* 'Tagline' contains a brief and precise description of the company , while the 'Description' is very long and doesn't provide any more important details, \n",
    "so we will drop the 'Description'"
   ]
  },
  {
   "cell_type": "code",
   "execution_count": 26,
   "id": "8cb2916b",
   "metadata": {},
   "outputs": [],
   "source": [
    "acquiring = acquiring.drop(\"Description\", axis=1)\n",
    "acquired = acquired.drop(\"Description\", axis=1)"
   ]
  },
  {
   "cell_type": "markdown",
   "id": "6027168a",
   "metadata": {},
   "source": [
    "### There isn't any new useful information that we can get out of those , so we will drop them"
   ]
  },
  {
   "cell_type": "markdown",
   "id": "6a4f0dbe",
   "metadata": {},
   "source": [
    "* \"CrunchBase Profile\" and \"API\" columns are both on the crunchbase website , which uses captcha so we can't scrap it, and their API is paid , and the provided \n",
    " \n",
    " API key is invalid , so we can't use it\n",
    "\n",
    "* \"Homepage\" column contains the link to the website of every company , and they aren't all the same so we can't apply a function or a program to extract certain \n",
    "\n",
    "information about them. To use the link , this would require us to go over into each of them one by one , which isn't  feasible\n",
    "\n",
    "\n",
    "* \"Twitter\" column also can't be scraped according to their new policy , tried multiple APIs and libraries but none of them worked , even twitter's free tier API is useless\n",
    " \n",
    "\n",
    "* \"Acquisition ID\" is just used to link between files , and we can do that with the company's name\n"
   ]
  },
  {
   "cell_type": "code",
   "execution_count": 27,
   "id": "c7522885",
   "metadata": {},
   "outputs": [],
   "source": [
    "acquired = acquired.drop(\n",
    "    [\"CrunchBase Profile\", \"Homepage\", \"Twitter\", \"Acquisitions ID\", \"API\"], axis=1\n",
    ")\n",
    "acquiring = acquiring.drop(\n",
    "    [\"CrunchBase Profile\", \"Homepage\", \"Twitter\", \"Acquisitions ID\", \"API\"], axis=1\n",
    ")\n",
    "founders = founders.drop(\"CrunchBase Profile\", axis=1)"
   ]
  },
  {
   "cell_type": "code",
   "execution_count": 28,
   "id": "44c523bf",
   "metadata": {},
   "outputs": [],
   "source": [
    "acquired[\"Age on acquisition\"] = (\n",
    "    acquired[\"Year of acquisition announcement\"] - acquired[\"Year Founded\"]\n",
    ")"
   ]
  },
  {
   "cell_type": "code",
   "execution_count": 29,
   "id": "52d65089",
   "metadata": {},
   "outputs": [],
   "source": [
    "acquired = acquired.drop([\"Year Founded\", \"Year of acquisition announcement\"], axis=1)"
   ]
  },
  {
   "cell_type": "code",
   "execution_count": 30,
   "id": "2ff78aa4",
   "metadata": {},
   "outputs": [],
   "source": [
    "acquired = acquired.astype(\n",
    "    {\n",
    "        \"Acquired by\": \"category\",\n",
    "        \"City (HQ)\": \"category\",\n",
    "        \"State / Region (HQ)\": \"category\",\n",
    "        \"Country (HQ)\": \"category\",\n",
    "    }\n",
    ")"
   ]
  },
  {
   "cell_type": "markdown",
   "id": "19a046c4",
   "metadata": {},
   "source": [
    "All these columns are probably related to the target column , so we will keep them for now"
   ]
  },
  {
   "cell_type": "markdown",
   "id": "0bf0845e",
   "metadata": {},
   "source": [
    "Market categories contains multiple values , still not processed"
   ]
  },
  {
   "cell_type": "code",
   "execution_count": 31,
   "id": "1f045247",
   "metadata": {},
   "outputs": [
    {
     "name": "stdout",
     "output_type": "stream",
     "text": [
      "<class 'pandas.core.frame.DataFrame'>\n",
      "RangeIndex: 310 entries, 0 to 309\n",
      "Data columns (total 9 columns):\n",
      " #   Column               Non-Null Count  Dtype   \n",
      "---  ------               --------------  -----   \n",
      " 0   Company              310 non-null    object  \n",
      " 1   Tagline              307 non-null    object  \n",
      " 2   Market Categories    287 non-null    object  \n",
      " 3   City (HQ)            275 non-null    category\n",
      " 4   State / Region (HQ)  273 non-null    category\n",
      " 5   Country (HQ)         276 non-null    category\n",
      " 6   Acquired by          309 non-null    category\n",
      " 7   Price                310 non-null    int64   \n",
      " 8   Age on acquisition   241 non-null    float64 \n",
      "dtypes: category(4), float64(1), int64(1), object(3)\n",
      "memory usage: 22.9+ KB\n"
     ]
    }
   ],
   "source": [
    "acquired.info()"
   ]
  },
  {
   "cell_type": "markdown",
   "id": "1b323b26",
   "metadata": {},
   "source": [
    "Dropping 'year of last update' of the number of employees , because we don't need it directly and can't use it in any way to pridct the current number"
   ]
  },
  {
   "cell_type": "code",
   "execution_count": 32,
   "id": "dd44cc39",
   "metadata": {},
   "outputs": [],
   "source": [
    "acquiring = acquiring.drop(\"Number of Employees (year of last update)\", axis=1)"
   ]
  },
  {
   "cell_type": "markdown",
   "id": "04272621",
   "metadata": {},
   "source": [
    "There are multiple 'NOT YET' in the IPO column , and the earliest the number the better it is , so we won't replace them with zero ,we will replace them with 2025 or anything larger"
   ]
  },
  {
   "cell_type": "code",
   "execution_count": 33,
   "id": "4357bd65",
   "metadata": {},
   "outputs": [
    {
     "data": {
      "text/plain": [
       "IPO\n",
       "1986       4\n",
       "1978       4\n",
       "1983       2\n",
       "Not yet    2\n",
       "1990       2\n",
       "Name: count, dtype: int64"
      ]
     },
     "execution_count": 33,
     "metadata": {},
     "output_type": "execute_result"
    }
   ],
   "source": [
    "acquiring[\"IPO\"].value_counts()[:5]"
   ]
  },
  {
   "cell_type": "code",
   "execution_count": 34,
   "id": "63513465",
   "metadata": {},
   "outputs": [],
   "source": [
    "acquiring.loc[acquiring[\"IPO\"] == \"Not yet\", \"IPO\"] = 2025  # 2025 is debatable\n",
    "acquiring.loc[acquiring[\"IPO\"].isna(), \"IPO\"] = 2025  # 2025 is debatable"
   ]
  },
  {
   "cell_type": "markdown",
   "id": "1020962a",
   "metadata": {},
   "source": [
    "Idea for acquiring companies: calculate the average price paid for all acquired companies"
   ]
  },
  {
   "cell_type": "markdown",
   "id": "455935d9",
   "metadata": {},
   "source": [
    "how to categorize multiple values in the same cell?"
   ]
  },
  {
   "cell_type": "code",
   "execution_count": 35,
   "id": "1fb7e619",
   "metadata": {},
   "outputs": [
    {
     "data": {
      "text/plain": [
       "0    Photo Editing, Design, Creative, Software, Ima...\n",
       "1    Groceries, Consumer Goods, Crowdsourcing, E-Co...\n",
       "2    News, Advertising Platforms, Content Creators,...\n",
       "3    Computers, Consumer Electronics, Hardware + So...\n",
       "4                                               Mobile\n",
       "Name: Market Categories, dtype: object"
      ]
     },
     "execution_count": 35,
     "metadata": {},
     "output_type": "execute_result"
    }
   ],
   "source": [
    "acquiring[\"Market Categories\"][:5]"
   ]
  },
  {
   "cell_type": "code",
   "execution_count": 36,
   "id": "f18d972c",
   "metadata": {},
   "outputs": [],
   "source": [
    "acquiring = acquiring.astype(\n",
    "    {\n",
    "        \"City (HQ)\": \"category\",\n",
    "        \"State / Region (HQ)\": \"category\",\n",
    "        \"Country (HQ)\": \"category\",\n",
    "        \"IPO\": \"float\",\n",
    "    }\n",
    ")"
   ]
  },
  {
   "cell_type": "code",
   "execution_count": null,
   "id": "f1818b23",
   "metadata": {},
   "outputs": [],
   "source": [
    "flattened = [x for item in acquiring[\"Board Members\"].dropna() for x in item.split(\",\")]"
   ]
  },
  {
   "cell_type": "code",
   "execution_count": null,
   "id": "1b12f4b2",
   "metadata": {},
   "outputs": [
    {
     "data": {
      "text/plain": [
       "309"
      ]
     },
     "metadata": {},
     "output_type": "display_data"
    }
   ],
   "source": [
    "pd.Series(flattened).nunique()"
   ]
  },
  {
   "cell_type": "code",
   "execution_count": null,
   "id": "f193527b",
   "metadata": {},
   "outputs": [
    {
     "data": {
      "text/plain": [
       "34"
      ]
     },
     "metadata": {},
     "output_type": "display_data"
    }
   ],
   "source": [
    "len(np.intersect1d(founders[\"Name\"], flattened))"
   ]
  },
  {
   "cell_type": "markdown",
   "id": "6c035f15",
   "metadata": {},
   "source": [
    "Some of the board members are in the founders df , so we won't drop them for now"
   ]
  },
  {
   "cell_type": "code",
   "execution_count": 37,
   "id": "a1428ea3",
   "metadata": {},
   "outputs": [
    {
     "name": "stdout",
     "output_type": "stream",
     "text": [
      "<class 'pandas.core.frame.DataFrame'>\n",
      "RangeIndex: 36 entries, 0 to 35\n",
      "Data columns (total 14 columns):\n",
      " #   Column                  Non-Null Count  Dtype   \n",
      "---  ------                  --------------  -----   \n",
      " 0   Acquiring Company       36 non-null     object  \n",
      " 1   Tagline                 36 non-null     object  \n",
      " 2   Market Categories       36 non-null     object  \n",
      " 3   Year Founded            36 non-null     int64   \n",
      " 4   IPO                     36 non-null     float64 \n",
      " 5   Founders                36 non-null     object  \n",
      " 6   Number of Employees     35 non-null     object  \n",
      " 7   Total Funding ($)       36 non-null     int64   \n",
      " 8   Number of Acquisitions  36 non-null     int64   \n",
      " 9   Board Members           34 non-null     object  \n",
      " 10  City (HQ)               34 non-null     category\n",
      " 11  State / Region (HQ)     33 non-null     category\n",
      " 12  Country (HQ)            36 non-null     category\n",
      " 13  Acquired Companies      36 non-null     object  \n",
      "dtypes: category(3), float64(1), int64(3), object(7)\n",
      "memory usage: 4.6+ KB\n"
     ]
    }
   ],
   "source": [
    "acquiring.info()"
   ]
  },
  {
   "cell_type": "code",
   "execution_count": 38,
   "id": "037f1e17",
   "metadata": {},
   "outputs": [
    {
     "data": {
      "text/plain": [
       "Companies\n",
       "Microsoft                 21\n",
       "IBM                       20\n",
       "Cisco Systems             17\n",
       "Verizon Communications    15\n",
       "Nokia                     15\n",
       "Name: count, dtype: int64"
      ]
     },
     "execution_count": 38,
     "metadata": {},
     "output_type": "execute_result"
    }
   ],
   "source": [
    "founders[\"Companies\"].value_counts()[:5]"
   ]
  },
  {
   "cell_type": "code",
   "execution_count": 39,
   "id": "1ce47e20",
   "metadata": {},
   "outputs": [
    {
     "data": {
      "text/plain": [
       "Role\n",
       "Board of Directors                    222\n",
       "Founder                                79\n",
       "Advisory Board                         72\n",
       "Board of Directors, Advisory Board      4\n",
       "Board Observer                          3\n",
       "Board of Directors, Founder             2\n",
       "Name: count, dtype: int64"
      ]
     },
     "execution_count": 39,
     "metadata": {},
     "output_type": "execute_result"
    }
   ],
   "source": [
    "founders[\"Role\"].value_counts()"
   ]
  },
  {
   "cell_type": "code",
   "execution_count": 40,
   "id": "94951702",
   "metadata": {},
   "outputs": [],
   "source": [
    "founders = founders.astype({\"Role\": \"category\", \"Companies\": \"category\"})"
   ]
  },
  {
   "cell_type": "markdown",
   "id": "3a034baf",
   "metadata": {},
   "source": [
    "The image of the founder doesn't affect anything at all ... DROPPED"
   ]
  },
  {
   "cell_type": "code",
   "execution_count": 41,
   "id": "f645dbd5",
   "metadata": {},
   "outputs": [],
   "source": [
    "founders = founders.drop(\"Image\", axis=1)"
   ]
  },
  {
   "cell_type": "markdown",
   "id": "3b7cb322",
   "metadata": {},
   "source": [
    "Ready"
   ]
  },
  {
   "cell_type": "code",
   "execution_count": 42,
   "id": "633ac301",
   "metadata": {},
   "outputs": [
    {
     "name": "stdout",
     "output_type": "stream",
     "text": [
      "<class 'pandas.core.frame.DataFrame'>\n",
      "RangeIndex: 382 entries, 0 to 381\n",
      "Data columns (total 3 columns):\n",
      " #   Column     Non-Null Count  Dtype   \n",
      "---  ------     --------------  -----   \n",
      " 0   Name       382 non-null    object  \n",
      " 1   Role       382 non-null    category\n",
      " 2   Companies  382 non-null    category\n",
      "dtypes: category(2), object(1)\n",
      "memory usage: 6.6+ KB\n"
     ]
    }
   ],
   "source": [
    "founders.info()"
   ]
  },
  {
   "cell_type": "markdown",
   "id": "f85dc4fe",
   "metadata": {},
   "source": [
    "* The specific date which the deal was announced on doesn't matter , what matters is the year so the model can know that inflation affects the price\n",
    "* The ID doesn't add any new info\n",
    "* The News and News link don't add any info or details about the acquisition"
   ]
  },
  {
   "cell_type": "code",
   "execution_count": null,
   "id": "d38c7a51",
   "metadata": {},
   "outputs": [],
   "source": [
    "acquisitions = acquisitions.drop(\n",
    "    [\"Deal announced on\", \"Acquisitions ID\", \"News\", \"News Link\"], axis=1\n",
    ")"
   ]
  },
  {
   "cell_type": "code",
   "execution_count": 69,
   "id": "4b0b6a22",
   "metadata": {},
   "outputs": [
    {
     "data": {
      "text/plain": [
       "Status\n",
       "Undisclosed    310\n",
       "Complete        16\n",
       "Pending          9\n",
       "Name: count, dtype: int64"
      ]
     },
     "execution_count": 69,
     "metadata": {},
     "output_type": "execute_result"
    }
   ],
   "source": [
    "acquisitions[\"Status\"].value_counts()"
   ]
  },
  {
   "cell_type": "code",
   "execution_count": 71,
   "id": "a1c30d60",
   "metadata": {},
   "outputs": [
    {
     "data": {
      "text/plain": [
       "Terms\n",
       "Undisclosed    148\n",
       "Cash           128\n",
       "Cash, Stock     36\n",
       "Stock           24\n",
       "Name: count, dtype: int64"
      ]
     },
     "execution_count": 71,
     "metadata": {},
     "output_type": "execute_result"
    }
   ],
   "source": [
    "acquisitions[\"Terms\"].value_counts()"
   ]
  },
  {
   "cell_type": "code",
   "execution_count": 70,
   "id": "8dea23a3",
   "metadata": {},
   "outputs": [],
   "source": [
    "acquisitions = acquisitions.astype(\n",
    "    {\n",
    "        \"Terms\": \"category\",\n",
    "        \"Status\": \"category\",\n",
    "    }\n",
    ")"
   ]
  },
  {
   "cell_type": "code",
   "execution_count": 72,
   "id": "98cd74a7",
   "metadata": {},
   "outputs": [
    {
     "name": "stdout",
     "output_type": "stream",
     "text": [
      "<class 'pandas.core.frame.DataFrame'>\n",
      "RangeIndex: 336 entries, 0 to 335\n",
      "Data columns (total 6 columns):\n",
      " #   Column                            Non-Null Count  Dtype   \n",
      "---  ------                            --------------  -----   \n",
      " 0   Acquired Company                  336 non-null    object  \n",
      " 1   Acquiring Company                 336 non-null    object  \n",
      " 2   Year of acquisition announcement  336 non-null    int64   \n",
      " 3   Price                             336 non-null    int64   \n",
      " 4   Status                            335 non-null    category\n",
      " 5   Terms                             336 non-null    category\n",
      "dtypes: category(2), int64(2), object(2)\n",
      "memory usage: 11.6+ KB\n"
     ]
    }
   ],
   "source": [
    "acquisitions.info()"
   ]
  }
 ],
 "metadata": {
  "kaggle": {
   "accelerator": "none",
   "dataSources": [
    {
     "datasetId": 7177363,
     "sourceId": 11454929,
     "sourceType": "datasetVersion"
    }
   ],
   "dockerImageVersionId": 31012,
   "isGpuEnabled": false,
   "isInternetEnabled": true,
   "language": "python",
   "sourceType": "notebook"
  },
  "kernelspec": {
   "display_name": "ml",
   "language": "python",
   "name": "python3"
  },
  "language_info": {
   "codemirror_mode": {
    "name": "ipython",
    "version": 3
   },
   "file_extension": ".py",
   "mimetype": "text/x-python",
   "name": "python",
   "nbconvert_exporter": "python",
   "pygments_lexer": "ipython3",
   "version": "3.13.2"
  },
  "papermill": {
   "default_parameters": {},
   "duration": 1338.851049,
   "end_time": "2025-04-18T03:11:48.142323",
   "environment_variables": {},
   "exception": null,
   "input_path": "__notebook__.ipynb",
   "output_path": "__notebook__.ipynb",
   "parameters": {},
   "start_time": "2025-04-18T02:49:29.291274",
   "version": "2.6.0"
  }
 },
 "nbformat": 4,
 "nbformat_minor": 5
}
