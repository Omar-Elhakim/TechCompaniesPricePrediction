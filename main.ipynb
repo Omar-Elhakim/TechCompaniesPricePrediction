{
 "cells": [
  {
   "cell_type": "markdown",
   "id": "d4eed25f",
   "metadata": {
    "papermill": {
     "duration": 0.002297,
     "end_time": "2025-04-18T02:49:32.997654",
     "exception": false,
     "start_time": "2025-04-18T02:49:32.995357",
     "status": "completed"
    },
    "tags": []
   },
   "source": [
    "Imports"
   ]
  },
  {
   "cell_type": "code",
   "execution_count": 2078,
   "id": "057f6186",
   "metadata": {
    "execution": {
     "iopub.execute_input": "2025-04-18T02:49:33.005670Z",
     "iopub.status.busy": "2025-04-18T02:49:33.005346Z",
     "iopub.status.idle": "2025-04-18T02:49:34.560015Z",
     "shell.execute_reply": "2025-04-18T02:49:34.559349Z"
    },
    "papermill": {
     "duration": 1.560025,
     "end_time": "2025-04-18T02:49:34.561395",
     "exception": false,
     "start_time": "2025-04-18T02:49:33.001370",
     "status": "completed"
    },
    "tags": []
   },
   "outputs": [],
   "source": [
    "import pandas as pd\n",
    "import numpy as np\n",
    "import requests\n",
    "import plotly.express as px\n",
    "from sklearn import preprocessing\n",
    "from sklearn.impute import KNNImputer\n",
    "from scipy.stats import zscore\n",
    "import matplotlib.pyplot as plt\n",
    "import seaborn as sns\n"
   ]
  },
  {
   "cell_type": "markdown",
   "id": "eb380aa7",
   "metadata": {
    "papermill": {
     "duration": 0.002338,
     "end_time": "2025-04-18T02:49:34.566630",
     "exception": false,
     "start_time": "2025-04-18T02:49:34.564292",
     "status": "completed"
    },
    "tags": []
   },
   "source": [
    "Reviewing a sample row from each file"
   ]
  },
  {
   "cell_type": "code",
   "execution_count": 2079,
   "id": "691a282e",
   "metadata": {
    "execution": {
     "iopub.execute_input": "2025-04-18T02:49:34.572944Z",
     "iopub.status.busy": "2025-04-18T02:49:34.572576Z",
     "iopub.status.idle": "2025-04-18T02:49:34.606976Z",
     "shell.execute_reply": "2025-04-18T02:49:34.606184Z"
    },
    "papermill": {
     "duration": 0.03912,
     "end_time": "2025-04-18T02:49:34.608254",
     "exception": false,
     "start_time": "2025-04-18T02:49:34.569134",
     "status": "completed"
    },
    "tags": []
   },
   "outputs": [
    {
     "data": {
      "text/plain": [
       "Company                                                     Day Software\n",
       "CrunchBase Profile     http://www.crunchbase.com/organization/day-sof...\n",
       "Image                  http://a5.images.crunchbase.com/image/upload/c...\n",
       "Tagline                Day Software develops web applications that al...\n",
       "Year Founded                                                         NaN\n",
       "Market Categories                                               Software\n",
       "Address (HQ)           Barfüsserplatz 6, Basel, Basel-Stadt, Switzerland\n",
       "City (HQ)                                                          Basel\n",
       "State / Region (HQ)                                          Basel-Stadt\n",
       "Country (HQ)                                                 Switzerland\n",
       "Description            Day was founded in Basel, Switzerland, in 1993...\n",
       "Homepage                                              http://www.day.com\n",
       "Twitter                                                              NaN\n",
       "Acquired by                                                        Adobe\n",
       "Acquisitions ID              Adobe Systems acquired Day Software in 2010\n",
       "API                    http://api.crunchbase.com/v/2/organization/day...\n",
       "Name: 0, dtype: object"
      ]
     },
     "execution_count": 2079,
     "metadata": {},
     "output_type": "execute_result"
    }
   ],
   "source": [
    "acquired = pd.read_csv(\"Data/Acquired Tech Companies.csv\")\n",
    "acquired.iloc[0]"
   ]
  },
  {
   "cell_type": "code",
   "execution_count": 2080,
   "id": "9e553de0",
   "metadata": {
    "execution": {
     "iopub.execute_input": "2025-04-18T02:49:34.614940Z",
     "iopub.status.busy": "2025-04-18T02:49:34.614702Z",
     "iopub.status.idle": "2025-04-18T02:49:34.629609Z",
     "shell.execute_reply": "2025-04-18T02:49:34.628973Z"
    },
    "papermill": {
     "duration": 0.019613,
     "end_time": "2025-04-18T02:49:34.630846",
     "exception": false,
     "start_time": "2025-04-18T02:49:34.611233",
     "status": "completed"
    },
    "tags": []
   },
   "outputs": [
    {
     "data": {
      "text/plain": [
       "Acquiring Company                                                                        Adobe\n",
       "CrunchBase Profile                               www.crunchbase.com/organization/adobe-systems\n",
       "Image                                        http://a2.images.crunchbase.com/image/upload/c...\n",
       "Tagline                                      Adobe is an American multinational computer so...\n",
       "Market Categories                            Photo Editing, Design, Creative, Software, Ima...\n",
       "Year Founded                                                                              1982\n",
       "IPO                                                                                       1986\n",
       "Founders                                                         John Warnock, Charles Geschke\n",
       "Number of Employees                                                                     11,144\n",
       "Number of Employees (year of last update)                                               2012.0\n",
       "Total Funding ($)                                                                            0\n",
       "Number of Acquisitions                                                                      38\n",
       "Board Members                                                                              NaN\n",
       "Address (HQ)                                               San Jose, California, United States\n",
       "City (HQ)                                                                             San Jose\n",
       "State / Region (HQ)                                                                 California\n",
       "Country (HQ)                                                                     United States\n",
       "Description                                  Adobe Systems is an American multinational com...\n",
       "Homepage                                                                  http://www.adobe.com\n",
       "Twitter                                                               http://twitter.com/Adobe\n",
       "Acquired Companies                           Accelio Corporation, Aldus Corp, Amicima, Ares...\n",
       "Acquisitions ID                              Adobe Systems acquired Accelio Corporation in ...\n",
       "API                                          http://api.crunchbase.com/v/2/organization/ado...\n",
       "Name: 0, dtype: object"
      ]
     },
     "execution_count": 2080,
     "metadata": {},
     "output_type": "execute_result"
    }
   ],
   "source": [
    "acquiring = pd.read_csv(\"Data/Acquiring Tech Companies.csv\")\n",
    "acquiring.iloc[0]"
   ]
  },
  {
   "cell_type": "code",
   "execution_count": 2081,
   "id": "530e8224",
   "metadata": {
    "execution": {
     "iopub.execute_input": "2025-04-18T02:49:34.637438Z",
     "iopub.status.busy": "2025-04-18T02:49:34.637205Z",
     "iopub.status.idle": "2025-04-18T02:49:34.649691Z",
     "shell.execute_reply": "2025-04-18T02:49:34.649090Z"
    },
    "papermill": {
     "duration": 0.016717,
     "end_time": "2025-04-18T02:49:34.650598",
     "exception": false,
     "start_time": "2025-04-18T02:49:34.633881",
     "status": "completed"
    },
    "tags": []
   },
   "outputs": [
    {
     "data": {
      "text/plain": [
       "Acquisitions ID                                      EMC acquired Data Domain in 2009\n",
       "Acquired Company                                                          Data Domain\n",
       "Acquiring Company                                                                 EMC\n",
       "Year of acquisition announcement                                                 2009\n",
       "Deal announced on                                                           8/07/2009\n",
       "Price                                                                  $2,100,000,000\n",
       "Status                                                                    Undisclosed\n",
       "Terms                                                                            Cash\n",
       "Acquisition Profile                 http://www.crunchbase.com/acquisition/5dc676a1...\n",
       "News                                                         EMC acquired Data Domain\n",
       "News Link                           http://www.businesswire.com/news/home/20090708...\n",
       "Name: 0, dtype: object"
      ]
     },
     "execution_count": 2081,
     "metadata": {},
     "output_type": "execute_result"
    }
   ],
   "source": [
    "acquisitions = pd.read_csv(\"Data/Acquisitions.csv\")\n",
    "acquisitions.iloc[0]"
   ]
  },
  {
   "cell_type": "code",
   "execution_count": 2082,
   "id": "697d6f89",
   "metadata": {
    "execution": {
     "iopub.execute_input": "2025-04-18T02:49:34.657462Z",
     "iopub.status.busy": "2025-04-18T02:49:34.657208Z",
     "iopub.status.idle": "2025-04-18T02:49:34.667878Z",
     "shell.execute_reply": "2025-04-18T02:49:34.667382Z"
    },
    "papermill": {
     "duration": 0.015041,
     "end_time": "2025-04-18T02:49:34.668759",
     "exception": false,
     "start_time": "2025-04-18T02:49:34.653718",
     "status": "completed"
    },
    "tags": []
   },
   "outputs": [
    {
     "data": {
      "text/plain": [
       "Name                                                 Hans-Werner Hector\n",
       "CrunchBase Profile      http://de.wikipedia.org/wiki/Hans-Werner_Hector\n",
       "Role                                                            Founder\n",
       "Companies                                                           SAP\n",
       "Image                 http://images.forbes.com/media/lists/10/2006/4...\n",
       "Name: 0, dtype: object"
      ]
     },
     "execution_count": 2082,
     "metadata": {},
     "output_type": "execute_result"
    }
   ],
   "source": [
    "founders = pd.read_csv(\"Data/Founders and Board Members.csv\")\n",
    "founders.iloc[0]"
   ]
  },
  {
   "cell_type": "markdown",
   "id": "c4ecc0ea",
   "metadata": {
    "papermill": {
     "duration": 0.002705,
     "end_time": "2025-04-18T02:49:34.674632",
     "exception": false,
     "start_time": "2025-04-18T02:49:34.671927",
     "status": "completed"
    },
    "tags": []
   },
   "source": [
    "We will link between the files using these columns:\n",
    "* Acquisitions ID to link the acquisitions\n",
    "* 'Founders' and 'Name' to link the Founders"
   ]
  },
  {
   "cell_type": "code",
   "execution_count": 2083,
   "id": "5dc16d0c",
   "metadata": {
    "execution": {
     "iopub.execute_input": "2025-04-18T02:49:34.681367Z",
     "iopub.status.busy": "2025-04-18T02:49:34.681078Z",
     "iopub.status.idle": "2025-04-18T02:49:34.686236Z",
     "shell.execute_reply": "2025-04-18T02:49:34.685645Z"
    },
    "papermill": {
     "duration": 0.009843,
     "end_time": "2025-04-18T02:49:34.687247",
     "exception": false,
     "start_time": "2025-04-18T02:49:34.677404",
     "status": "completed"
    },
    "tags": []
   },
   "outputs": [
    {
     "data": {
      "text/plain": [
       "['Acquisitions ID']"
      ]
     },
     "execution_count": 2083,
     "metadata": {},
     "output_type": "execute_result"
    }
   ],
   "source": [
    "np.intersect1d(acquired.columns, acquisitions.columns).tolist()"
   ]
  },
  {
   "cell_type": "code",
   "execution_count": 2084,
   "id": "1fb33682",
   "metadata": {
    "execution": {
     "iopub.execute_input": "2025-04-18T02:49:34.694994Z",
     "iopub.status.busy": "2025-04-18T02:49:34.694732Z",
     "iopub.status.idle": "2025-04-18T02:49:34.699838Z",
     "shell.execute_reply": "2025-04-18T02:49:34.699169Z"
    },
    "papermill": {
     "duration": 0.010176,
     "end_time": "2025-04-18T02:49:34.700830",
     "exception": false,
     "start_time": "2025-04-18T02:49:34.690654",
     "status": "completed"
    },
    "tags": []
   },
   "outputs": [
    {
     "data": {
      "text/plain": [
       "['Acquiring Company', 'Acquisitions ID']"
      ]
     },
     "execution_count": 2084,
     "metadata": {},
     "output_type": "execute_result"
    }
   ],
   "source": [
    "np.intersect1d(acquiring.columns, acquisitions.columns).tolist()"
   ]
  },
  {
   "cell_type": "code",
   "execution_count": 2085,
   "id": "b5726517",
   "metadata": {
    "execution": {
     "iopub.execute_input": "2025-04-18T02:49:34.811020Z",
     "iopub.status.busy": "2025-04-18T02:49:34.810746Z",
     "iopub.status.idle": "2025-04-18T02:49:34.816261Z",
     "shell.execute_reply": "2025-04-18T02:49:34.815458Z"
    },
    "papermill": {
     "duration": 0.010891,
     "end_time": "2025-04-18T02:49:34.817487",
     "exception": false,
     "start_time": "2025-04-18T02:49:34.806596",
     "status": "completed"
    },
    "tags": []
   },
   "outputs": [],
   "source": [
    "def ValidateLink(url, timeout=15):\n",
    "    session = requests.Session()\n",
    "    # fake headers to make it seem like a real request\n",
    "    headers = {\n",
    "        \"User-Agent\": \"Mozilla/5.0 (Windows NT 10.0; Win64; x64) AppleWebKit/537.36 (KHTML, like Gecko) Chrome/123.0.0.0 Safari/537.36\",\n",
    "        \"Accept\": \"text/html,application/xhtml+xml,application/xml;q=0.9,image/avif,image/webp,image/apng,*/*;q=0.8,application/signed-exchange;v=b3;q=0.7\",\n",
    "        \"Accept-Language\": \"en-US,en;q=0.9\",\n",
    "        \"Accept-Encoding\": \"gzip, deflate, br\",\n",
    "        \"Connection\": \"keep-alive\",\n",
    "        \"Upgrade-Insecure-Requests\": \"1\",\n",
    "        \"DNT\": \"1\",\n",
    "    }\n",
    "    session.headers.update(headers)\n",
    "    try:\n",
    "        response = session.get(url, timeout=timeout, allow_redirects=True, stream=True)\n",
    "        status_code = response.status_code\n",
    "        response.close()\n",
    "        if status_code < 400:\n",
    "            return True\n",
    "        else:\n",
    "            return False\n",
    "    except Exception as e:\n",
    "        return False"
   ]
  },
  {
   "cell_type": "code",
   "execution_count": 2086,
   "id": "78e377cc",
   "metadata": {
    "execution": {
     "iopub.execute_input": "2025-04-18T02:49:34.825332Z",
     "iopub.status.busy": "2025-04-18T02:49:34.825064Z",
     "iopub.status.idle": "2025-04-18T02:49:34.829825Z",
     "shell.execute_reply": "2025-04-18T02:49:34.829159Z"
    },
    "papermill": {
     "duration": 0.010094,
     "end_time": "2025-04-18T02:49:34.831087",
     "exception": false,
     "start_time": "2025-04-18T02:49:34.820993",
     "status": "completed"
    },
    "tags": []
   },
   "outputs": [],
   "source": [
    "def ValidateLinks(urls):\n",
    "    results = []\n",
    "    for url in urls:\n",
    "        results.append(ValidateLink(url))\n",
    "        if results[-1]:\n",
    "            return results\n",
    "    return results"
   ]
  },
  {
   "cell_type": "code",
   "execution_count": 2087,
   "id": "73949098",
   "metadata": {
    "execution": {
     "iopub.execute_input": "2025-04-18T02:49:34.839334Z",
     "iopub.status.busy": "2025-04-18T02:49:34.839008Z",
     "iopub.status.idle": "2025-04-18T02:49:34.844936Z",
     "shell.execute_reply": "2025-04-18T02:49:34.844182Z"
    },
    "papermill": {
     "duration": 0.01149,
     "end_time": "2025-04-18T02:49:34.846169",
     "exception": false,
     "start_time": "2025-04-18T02:49:34.834679",
     "status": "completed"
    },
    "tags": []
   },
   "outputs": [],
   "source": [
    "def ValidateLinksDF(df):\n",
    "    for col in df.columns:\n",
    "        for val in df[col]:\n",
    "            if type(val) == str and (\"http\" in val):\n",
    "                print(col)\n",
    "                results = ValidateLinks(df[col])\n",
    "                if not pd.Series(results).any():\n",
    "                    print(f'Column \"{col}\" had no valid links , or is using captcha.')\n",
    "                    print(\"Try it yourself:\")\n",
    "                    print(df[col][0] + \"\\n\")\n",
    "                break"
   ]
  },
  {
   "cell_type": "markdown",
   "id": "181d1805",
   "metadata": {
    "execution": {
     "iopub.execute_input": "2025-04-18T02:49:34.857797Z",
     "iopub.status.busy": "2025-04-18T02:49:34.857502Z",
     "iopub.status.idle": "2025-04-18T03:04:27.411944Z",
     "shell.execute_reply": "2025-04-18T03:04:27.411050Z"
    },
    "papermill": {
     "duration": 892.561951,
     "end_time": "2025-04-18T03:04:27.413449",
     "exception": false,
     "start_time": "2025-04-18T02:49:34.851498",
     "status": "completed"
    },
    "tags": []
   },
   "source": [
    "ValidateLinksDF(acquired)"
   ]
  },
  {
   "cell_type": "markdown",
   "id": "fb308431",
   "metadata": {},
   "source": [
    "* CrunchBase is using CAPTCHA , so we won't drop it now but we will process it later\n",
    "* Image links are all corrupt so we will drop the column "
   ]
  },
  {
   "cell_type": "code",
   "execution_count": 2088,
   "id": "c35ccf78",
   "metadata": {},
   "outputs": [],
   "source": [
    "acquired = acquired.drop(\"Image\", axis=1)"
   ]
  },
  {
   "cell_type": "markdown",
   "id": "2a2200a3",
   "metadata": {
    "execution": {
     "iopub.execute_input": "2025-04-18T03:04:27.421572Z",
     "iopub.status.busy": "2025-04-18T03:04:27.421350Z",
     "iopub.status.idle": "2025-04-18T03:06:05.489255Z",
     "shell.execute_reply": "2025-04-18T03:06:05.488446Z"
    },
    "papermill": {
     "duration": 98.073524,
     "end_time": "2025-04-18T03:06:05.490930",
     "exception": false,
     "start_time": "2025-04-18T03:04:27.417406",
     "status": "completed"
    },
    "tags": []
   },
   "source": [
    "ValidateLinksDF(acquiring)"
   ]
  },
  {
   "cell_type": "markdown",
   "id": "c560a108",
   "metadata": {},
   "source": [
    "* drop Image also"
   ]
  },
  {
   "cell_type": "code",
   "execution_count": 2089,
   "id": "cc2646cf",
   "metadata": {},
   "outputs": [],
   "source": [
    "acquiring = acquiring.drop(\"Image\", axis=1)"
   ]
  },
  {
   "cell_type": "markdown",
   "id": "c6e489ba",
   "metadata": {
    "execution": {
     "iopub.execute_input": "2025-04-18T03:06:05.499732Z",
     "iopub.status.busy": "2025-04-18T03:06:05.499484Z",
     "iopub.status.idle": "2025-04-18T03:11:17.444025Z",
     "shell.execute_reply": "2025-04-18T03:11:17.443248Z"
    },
    "papermill": {
     "duration": 311.950251,
     "end_time": "2025-04-18T03:11:17.445349",
     "exception": false,
     "start_time": "2025-04-18T03:06:05.495098",
     "status": "completed"
    },
    "tags": []
   },
   "source": [
    "ValidateLinksDF(acquisitions)"
   ]
  },
  {
   "cell_type": "markdown",
   "id": "7ba25a5f",
   "metadata": {},
   "source": [
    "* acquisitions profile is also a crunchbase link"
   ]
  },
  {
   "cell_type": "code",
   "execution_count": 2090,
   "id": "bcc3d13d",
   "metadata": {},
   "outputs": [],
   "source": [
    "acquisitions = acquisitions.drop(\"Acquisition Profile\", axis=1)"
   ]
  },
  {
   "cell_type": "markdown",
   "id": "750cb3b3",
   "metadata": {
    "execution": {
     "iopub.execute_input": "2025-04-18T03:11:17.454583Z",
     "iopub.status.busy": "2025-04-18T03:11:17.454322Z",
     "iopub.status.idle": "2025-04-18T03:11:47.507277Z",
     "shell.execute_reply": "2025-04-18T03:11:47.506425Z"
    },
    "papermill": {
     "duration": 30.059262,
     "end_time": "2025-04-18T03:11:47.508743",
     "exception": false,
     "start_time": "2025-04-18T03:11:17.449481",
     "status": "completed"
    },
    "tags": []
   },
   "source": [
    "ValidateLinksDF(founders)"
   ]
  },
  {
   "cell_type": "markdown",
   "id": "95b9ac71",
   "metadata": {},
   "source": [
    "We don't need the exact address of the company, we already have the city , state and country"
   ]
  },
  {
   "cell_type": "code",
   "execution_count": 2091,
   "id": "a082bb19",
   "metadata": {},
   "outputs": [],
   "source": [
    "acquired = acquired.drop(\"Address (HQ)\", axis=1)\n",
    "acquiring = acquiring.drop(\"Address (HQ)\", axis=1)"
   ]
  },
  {
   "cell_type": "markdown",
   "id": "5317712c",
   "metadata": {},
   "source": [
    "**Adding the target variable**"
   ]
  },
  {
   "cell_type": "code",
   "execution_count": 2092,
   "id": "65114a47",
   "metadata": {},
   "outputs": [],
   "source": [
    "acquisitions[\"Price\"] = [\n",
    "    int(price.removeprefix(\"$\").replace(\",\", \"\")) for price in acquisitions[\"Price\"]\n",
    "]"
   ]
  },
  {
   "cell_type": "code",
   "execution_count": 2093,
   "id": "7c7f8aaa",
   "metadata": {},
   "outputs": [],
   "source": [
    "acquired[\"Price\"] = None\n",
    "acquired[\"Year of acquisition announcement\"] = None"
   ]
  },
  {
   "cell_type": "code",
   "execution_count": 2094,
   "id": "b0d1e286",
   "metadata": {},
   "outputs": [],
   "source": [
    "for i, company in enumerate(acquisitions[\"Acquired Company\"]):\n",
    "    acquired.loc[acquired[\"Company\"] == company, \"Price\"] = acquisitions.iloc[i][\n",
    "        \"Price\"\n",
    "    ]\n",
    "    acquired.loc[acquired[\"Company\"] == company, \"Year of acquisition announcement\"] = (\n",
    "        acquisitions.iloc[i][\"Year of acquisition announcement\"]\n",
    "    )"
   ]
  },
  {
   "cell_type": "code",
   "execution_count": 2095,
   "id": "bb13f980",
   "metadata": {},
   "outputs": [
    {
     "data": {
      "application/vnd.plotly.v1+json": {
       "config": {
        "plotlyServerURL": "https://plot.ly"
       },
       "data": [
        {
         "hovertemplate": "Year of acquisition announcement=%{x}<br>Price=%{y}<extra></extra>",
         "legendgroup": "",
         "marker": {
          "color": "#636efa",
          "symbol": "circle"
         },
         "mode": "markers",
         "name": "",
         "orientation": "v",
         "showlegend": false,
         "type": "scatter",
         "x": {
          "bdata": "2QfXB9gH3QfdB9wH2wfVB9oH2gfZB9oH2AfTB9gH1gfaB9IH1AfZB9UH1AfQB9gH2QfeB90H3QfdB9sH1QfdB9oH0AfPB9gH3AfbB9wH2AfXB88H1AfUB9AH2AfcB94H3AfAB9gH2gfWB90H3AfaB9cH3gfbB9oH1wfXB90H2gfYB9sH2gfaB9gH2gfaB9sH3gfeB88H1gfcB9kH2gfaB9sH2AfUB9wH2gfPB9cH3gfZB94H3AfcB9oH3AfTB9gH1gfRB9oH2gfaB84H3QfZB90H2wfcB9sH2QfVB9oH0gfdB9oH2gfcB9gH2QfWB94H1QfcB9oH2AfVB9oH3QfXB80H3AfdB9kH3gfVB9oH3QfYB9sH2QfdB90H3gfWB9wH3AfbB94H2wfcB9sH2wfcB9cH2wfdB9gH2wfXB9sH1wfPB9sHzwfUB9cH3AfaB9oH2AfaB9QH1wfdB94H0wfbB9oH3AfYB9cH2wfZB90H2AfPB9IH2AfZB9kH2QfcB9cH2gfbB84H1gfeB9gH2gfLB9cH2gfdB9oH2wfaB9wH3AfbB88H2gfaB90H3AfTB9gH3QfdB9oH1wfXB9oH1QfaB8wHzwfdB9YH2AfPB9kH3QfYB9gH2wfeB90H2wfZB9YH3QfeB8sH3AfaB9oH3gfNB9gHzQfaB9sHzwfYB9cH2AfPB94H3gfYB9YH2AfbB9MH3QfdB9cH2AfYB9oH3QfaB9oH3AfaB9cHzQfeB9sH3QfYB9cH3QfeB9wH1wfSB94H3QfVB9oH2wfdB94H0QfZB94H3QfdB9oH2QfeB9gH2wfYB9IH2gfeB94H2wfcB9oH1wfeB90H2gfcB94H2gfbB90H2QfeB90H2Qc4CN0H1AfXB9gH2AfPB9gH0gfXB94H",
          "dtype": "i2"
         },
         "xaxis": "x",
         "y": [
          2100000000,
          363000000,
          215000000,
          400000000,
          10000000,
          380000000,
          70000000,
          67500000,
          2400000000,
          30000000,
          1800000000,
          121000000,
          8100000000,
          1600000000,
          15000000,
          200000000,
          65000000,
          436000000,
          3400000000,
          65000000,
          3400000000,
          435000000,
          145000000,
          133000000,
          2700000000,
          19000000000,
          155000000,
          100000000,
          12000000,
          50000000,
          2600000000,
          30000000,
          1300000000,
          432000000,
          1100000000,
          300000000,
          350000000,
          270000000,
          2400000000,
          5000000,
          100000000,
          80000000,
          635000000,
          610000000,
          350000000,
          380000000,
          1900000000,
          100000000,
          50000000,
          2600000000,
          31000000,
          10000000,
          4500000000,
          90000000,
          871000000,
          187500000,
          12000000,
          500000000,
          400000000,
          70000000,
          330000000,
          60000000,
          125000000,
          99000000,
          360000000,
          80000000,
          1700000000,
          152000000,
          8000000,
          5800000000,
          90000000,
          263000000,
          80000000,
          200000000,
          5700000000,
          40000000,
          250000000,
          11500000,
          68200000,
          140000000,
          135000000,
          275000000,
          50000000,
          3400000000,
          160000000,
          250000000,
          210000000,
          5300000000,
          750000000,
          2000000000,
          775000000,
          1300000000,
          820000000,
          1200000000,
          235000000,
          28100000000,
          102000000,
          12000000,
          7700000000,
          95000000,
          164000000,
          49000000,
          2700000000,
          1200000000,
          30000000,
          30000000,
          1000000000,
          400000000,
          3400000000,
          450000000,
          480000000,
          1500000000,
          415000000,
          10000000,
          170000000,
          30000000,
          125000000,
          51000000,
          375000000,
          90700000,
          30000000,
          60000000,
          75000000,
          300000000,
          1100000000,
          25000000,
          40000000,
          10000000,
          1400000,
          176000000,
          60000000,
          29000000,
          120000000,
          620000000,
          10000000,
          347000000,
          120000000,
          10000000,
          225000000,
          26000000,
          80000000,
          50000000,
          75000000,
          689000000,
          100000000,
          100000000,
          10000000000,
          1000000000,
          300000000,
          135000000,
          450000000,
          2500000,
          495000000,
          4900000,
          90000000,
          945000000,
          700000000,
          6400000000,
          3100000000,
          96800000,
          10000000,
          2400000000,
          2900000000,
          160000000,
          850000000,
          144000000,
          25000000,
          55000000,
          1200000000,
          35000000,
          28000000,
          76000000,
          996000000,
          100000000,
          150000000,
          180000000,
          1400000000,
          115000000,
          340000000,
          310000000,
          25000000,
          3900000000,
          2500000000,
          213000000,
          80000000,
          30000000,
          40000000,
          200000000,
          590000000,
          884000000,
          12500000000,
          23000000,
          545000000,
          315000000,
          4200000000,
          28000000,
          15000000,
          53000000,
          142000000,
          3500000000,
          3200000000,
          275000000,
          40000000,
          250000000,
          326000000,
          80000000,
          7000000,
          4300000000,
          10200000000,
          57000000,
          5000000,
          525000000,
          600000000,
          15000000,
          100000000,
          150000000,
          800000000,
          350000000,
          1200000000,
          100000000,
          200000000,
          685000000,
          300000000,
          200000000,
          400000000,
          320000000,
          150000000,
          1700000000,
          40000000,
          525000000,
          100000000,
          130000000,
          115000000,
          8500000000,
          61000000,
          134000000,
          200000000,
          330000000,
          150000000,
          48300000,
          26000000,
          1100000000,
          1700000000,
          220000000,
          110000000,
          50000000,
          3000000000,
          92000000,
          695000000,
          1200000000,
          225000000,
          40000000,
          500000000,
          13900000000,
          1600000000,
          150000000,
          130000000,
          2900000000,
          16000000,
          160000000,
          56000000,
          100000000,
          151000000,
          102000000,
          50000000,
          20000000,
          20300000,
          32000000,
          500000000,
          12000000,
          20000000,
          240000000,
          29000000,
          271000000,
          1500000000,
          275000000,
          400000000,
          175000000,
          410000000,
          200000000,
          123000000,
          50000000,
          20000000,
          970000000,
          70000000,
          100000000,
          96000000,
          500000000,
          307000000,
          93000000,
          2300000000,
          175000000,
          50000000,
          390000000,
          748000000,
          944000000,
          100000000,
          345000000,
          40000000,
          130000000,
          20000000,
          3200000000,
          3100000000,
          15000000,
          278000000,
          135000000,
          1400000000,
          175000000,
          101000000,
          31000000,
          50000000,
          25000000,
          625000000,
          200000000,
          1500000000,
          300000000,
          119000000,
          300000000,
          2500000,
          240000000,
          150000000,
          5200000,
          320000000,
          10100000000,
          183000000,
          10000000000,
          25000000,
          290000000,
          350000000,
          125000000,
          15000000,
          7400000000,
          155000000,
          337000000,
          350000000,
          45000000000
         ],
         "yaxis": "y"
        }
       ],
       "layout": {
        "height": 400,
        "legend": {
         "tracegroupgap": 0
        },
        "template": {
         "data": {
          "bar": [
           {
            "error_x": {
             "color": "#2a3f5f"
            },
            "error_y": {
             "color": "#2a3f5f"
            },
            "marker": {
             "line": {
              "color": "#E5ECF6",
              "width": 0.5
             },
             "pattern": {
              "fillmode": "overlay",
              "size": 10,
              "solidity": 0.2
             }
            },
            "type": "bar"
           }
          ],
          "barpolar": [
           {
            "marker": {
             "line": {
              "color": "#E5ECF6",
              "width": 0.5
             },
             "pattern": {
              "fillmode": "overlay",
              "size": 10,
              "solidity": 0.2
             }
            },
            "type": "barpolar"
           }
          ],
          "carpet": [
           {
            "aaxis": {
             "endlinecolor": "#2a3f5f",
             "gridcolor": "white",
             "linecolor": "white",
             "minorgridcolor": "white",
             "startlinecolor": "#2a3f5f"
            },
            "baxis": {
             "endlinecolor": "#2a3f5f",
             "gridcolor": "white",
             "linecolor": "white",
             "minorgridcolor": "white",
             "startlinecolor": "#2a3f5f"
            },
            "type": "carpet"
           }
          ],
          "choropleth": [
           {
            "colorbar": {
             "outlinewidth": 0,
             "ticks": ""
            },
            "type": "choropleth"
           }
          ],
          "contour": [
           {
            "colorbar": {
             "outlinewidth": 0,
             "ticks": ""
            },
            "colorscale": [
             [
              0,
              "#0d0887"
             ],
             [
              0.1111111111111111,
              "#46039f"
             ],
             [
              0.2222222222222222,
              "#7201a8"
             ],
             [
              0.3333333333333333,
              "#9c179e"
             ],
             [
              0.4444444444444444,
              "#bd3786"
             ],
             [
              0.5555555555555556,
              "#d8576b"
             ],
             [
              0.6666666666666666,
              "#ed7953"
             ],
             [
              0.7777777777777778,
              "#fb9f3a"
             ],
             [
              0.8888888888888888,
              "#fdca26"
             ],
             [
              1,
              "#f0f921"
             ]
            ],
            "type": "contour"
           }
          ],
          "contourcarpet": [
           {
            "colorbar": {
             "outlinewidth": 0,
             "ticks": ""
            },
            "type": "contourcarpet"
           }
          ],
          "heatmap": [
           {
            "colorbar": {
             "outlinewidth": 0,
             "ticks": ""
            },
            "colorscale": [
             [
              0,
              "#0d0887"
             ],
             [
              0.1111111111111111,
              "#46039f"
             ],
             [
              0.2222222222222222,
              "#7201a8"
             ],
             [
              0.3333333333333333,
              "#9c179e"
             ],
             [
              0.4444444444444444,
              "#bd3786"
             ],
             [
              0.5555555555555556,
              "#d8576b"
             ],
             [
              0.6666666666666666,
              "#ed7953"
             ],
             [
              0.7777777777777778,
              "#fb9f3a"
             ],
             [
              0.8888888888888888,
              "#fdca26"
             ],
             [
              1,
              "#f0f921"
             ]
            ],
            "type": "heatmap"
           }
          ],
          "histogram": [
           {
            "marker": {
             "pattern": {
              "fillmode": "overlay",
              "size": 10,
              "solidity": 0.2
             }
            },
            "type": "histogram"
           }
          ],
          "histogram2d": [
           {
            "colorbar": {
             "outlinewidth": 0,
             "ticks": ""
            },
            "colorscale": [
             [
              0,
              "#0d0887"
             ],
             [
              0.1111111111111111,
              "#46039f"
             ],
             [
              0.2222222222222222,
              "#7201a8"
             ],
             [
              0.3333333333333333,
              "#9c179e"
             ],
             [
              0.4444444444444444,
              "#bd3786"
             ],
             [
              0.5555555555555556,
              "#d8576b"
             ],
             [
              0.6666666666666666,
              "#ed7953"
             ],
             [
              0.7777777777777778,
              "#fb9f3a"
             ],
             [
              0.8888888888888888,
              "#fdca26"
             ],
             [
              1,
              "#f0f921"
             ]
            ],
            "type": "histogram2d"
           }
          ],
          "histogram2dcontour": [
           {
            "colorbar": {
             "outlinewidth": 0,
             "ticks": ""
            },
            "colorscale": [
             [
              0,
              "#0d0887"
             ],
             [
              0.1111111111111111,
              "#46039f"
             ],
             [
              0.2222222222222222,
              "#7201a8"
             ],
             [
              0.3333333333333333,
              "#9c179e"
             ],
             [
              0.4444444444444444,
              "#bd3786"
             ],
             [
              0.5555555555555556,
              "#d8576b"
             ],
             [
              0.6666666666666666,
              "#ed7953"
             ],
             [
              0.7777777777777778,
              "#fb9f3a"
             ],
             [
              0.8888888888888888,
              "#fdca26"
             ],
             [
              1,
              "#f0f921"
             ]
            ],
            "type": "histogram2dcontour"
           }
          ],
          "mesh3d": [
           {
            "colorbar": {
             "outlinewidth": 0,
             "ticks": ""
            },
            "type": "mesh3d"
           }
          ],
          "parcoords": [
           {
            "line": {
             "colorbar": {
              "outlinewidth": 0,
              "ticks": ""
             }
            },
            "type": "parcoords"
           }
          ],
          "pie": [
           {
            "automargin": true,
            "type": "pie"
           }
          ],
          "scatter": [
           {
            "fillpattern": {
             "fillmode": "overlay",
             "size": 10,
             "solidity": 0.2
            },
            "type": "scatter"
           }
          ],
          "scatter3d": [
           {
            "line": {
             "colorbar": {
              "outlinewidth": 0,
              "ticks": ""
             }
            },
            "marker": {
             "colorbar": {
              "outlinewidth": 0,
              "ticks": ""
             }
            },
            "type": "scatter3d"
           }
          ],
          "scattercarpet": [
           {
            "marker": {
             "colorbar": {
              "outlinewidth": 0,
              "ticks": ""
             }
            },
            "type": "scattercarpet"
           }
          ],
          "scattergeo": [
           {
            "marker": {
             "colorbar": {
              "outlinewidth": 0,
              "ticks": ""
             }
            },
            "type": "scattergeo"
           }
          ],
          "scattergl": [
           {
            "marker": {
             "colorbar": {
              "outlinewidth": 0,
              "ticks": ""
             }
            },
            "type": "scattergl"
           }
          ],
          "scattermap": [
           {
            "marker": {
             "colorbar": {
              "outlinewidth": 0,
              "ticks": ""
             }
            },
            "type": "scattermap"
           }
          ],
          "scattermapbox": [
           {
            "marker": {
             "colorbar": {
              "outlinewidth": 0,
              "ticks": ""
             }
            },
            "type": "scattermapbox"
           }
          ],
          "scatterpolar": [
           {
            "marker": {
             "colorbar": {
              "outlinewidth": 0,
              "ticks": ""
             }
            },
            "type": "scatterpolar"
           }
          ],
          "scatterpolargl": [
           {
            "marker": {
             "colorbar": {
              "outlinewidth": 0,
              "ticks": ""
             }
            },
            "type": "scatterpolargl"
           }
          ],
          "scatterternary": [
           {
            "marker": {
             "colorbar": {
              "outlinewidth": 0,
              "ticks": ""
             }
            },
            "type": "scatterternary"
           }
          ],
          "surface": [
           {
            "colorbar": {
             "outlinewidth": 0,
             "ticks": ""
            },
            "colorscale": [
             [
              0,
              "#0d0887"
             ],
             [
              0.1111111111111111,
              "#46039f"
             ],
             [
              0.2222222222222222,
              "#7201a8"
             ],
             [
              0.3333333333333333,
              "#9c179e"
             ],
             [
              0.4444444444444444,
              "#bd3786"
             ],
             [
              0.5555555555555556,
              "#d8576b"
             ],
             [
              0.6666666666666666,
              "#ed7953"
             ],
             [
              0.7777777777777778,
              "#fb9f3a"
             ],
             [
              0.8888888888888888,
              "#fdca26"
             ],
             [
              1,
              "#f0f921"
             ]
            ],
            "type": "surface"
           }
          ],
          "table": [
           {
            "cells": {
             "fill": {
              "color": "#EBF0F8"
             },
             "line": {
              "color": "white"
             }
            },
            "header": {
             "fill": {
              "color": "#C8D4E3"
             },
             "line": {
              "color": "white"
             }
            },
            "type": "table"
           }
          ]
         },
         "layout": {
          "annotationdefaults": {
           "arrowcolor": "#2a3f5f",
           "arrowhead": 0,
           "arrowwidth": 1
          },
          "autotypenumbers": "strict",
          "coloraxis": {
           "colorbar": {
            "outlinewidth": 0,
            "ticks": ""
           }
          },
          "colorscale": {
           "diverging": [
            [
             0,
             "#8e0152"
            ],
            [
             0.1,
             "#c51b7d"
            ],
            [
             0.2,
             "#de77ae"
            ],
            [
             0.3,
             "#f1b6da"
            ],
            [
             0.4,
             "#fde0ef"
            ],
            [
             0.5,
             "#f7f7f7"
            ],
            [
             0.6,
             "#e6f5d0"
            ],
            [
             0.7,
             "#b8e186"
            ],
            [
             0.8,
             "#7fbc41"
            ],
            [
             0.9,
             "#4d9221"
            ],
            [
             1,
             "#276419"
            ]
           ],
           "sequential": [
            [
             0,
             "#0d0887"
            ],
            [
             0.1111111111111111,
             "#46039f"
            ],
            [
             0.2222222222222222,
             "#7201a8"
            ],
            [
             0.3333333333333333,
             "#9c179e"
            ],
            [
             0.4444444444444444,
             "#bd3786"
            ],
            [
             0.5555555555555556,
             "#d8576b"
            ],
            [
             0.6666666666666666,
             "#ed7953"
            ],
            [
             0.7777777777777778,
             "#fb9f3a"
            ],
            [
             0.8888888888888888,
             "#fdca26"
            ],
            [
             1,
             "#f0f921"
            ]
           ],
           "sequentialminus": [
            [
             0,
             "#0d0887"
            ],
            [
             0.1111111111111111,
             "#46039f"
            ],
            [
             0.2222222222222222,
             "#7201a8"
            ],
            [
             0.3333333333333333,
             "#9c179e"
            ],
            [
             0.4444444444444444,
             "#bd3786"
            ],
            [
             0.5555555555555556,
             "#d8576b"
            ],
            [
             0.6666666666666666,
             "#ed7953"
            ],
            [
             0.7777777777777778,
             "#fb9f3a"
            ],
            [
             0.8888888888888888,
             "#fdca26"
            ],
            [
             1,
             "#f0f921"
            ]
           ]
          },
          "colorway": [
           "#636efa",
           "#EF553B",
           "#00cc96",
           "#ab63fa",
           "#FFA15A",
           "#19d3f3",
           "#FF6692",
           "#B6E880",
           "#FF97FF",
           "#FECB52"
          ],
          "font": {
           "color": "#2a3f5f"
          },
          "geo": {
           "bgcolor": "white",
           "lakecolor": "white",
           "landcolor": "#E5ECF6",
           "showlakes": true,
           "showland": true,
           "subunitcolor": "white"
          },
          "hoverlabel": {
           "align": "left"
          },
          "hovermode": "closest",
          "mapbox": {
           "style": "light"
          },
          "paper_bgcolor": "white",
          "plot_bgcolor": "#E5ECF6",
          "polar": {
           "angularaxis": {
            "gridcolor": "white",
            "linecolor": "white",
            "ticks": ""
           },
           "bgcolor": "#E5ECF6",
           "radialaxis": {
            "gridcolor": "white",
            "linecolor": "white",
            "ticks": ""
           }
          },
          "scene": {
           "xaxis": {
            "backgroundcolor": "#E5ECF6",
            "gridcolor": "white",
            "gridwidth": 2,
            "linecolor": "white",
            "showbackground": true,
            "ticks": "",
            "zerolinecolor": "white"
           },
           "yaxis": {
            "backgroundcolor": "#E5ECF6",
            "gridcolor": "white",
            "gridwidth": 2,
            "linecolor": "white",
            "showbackground": true,
            "ticks": "",
            "zerolinecolor": "white"
           },
           "zaxis": {
            "backgroundcolor": "#E5ECF6",
            "gridcolor": "white",
            "gridwidth": 2,
            "linecolor": "white",
            "showbackground": true,
            "ticks": "",
            "zerolinecolor": "white"
           }
          },
          "shapedefaults": {
           "line": {
            "color": "#2a3f5f"
           }
          },
          "ternary": {
           "aaxis": {
            "gridcolor": "white",
            "linecolor": "white",
            "ticks": ""
           },
           "baxis": {
            "gridcolor": "white",
            "linecolor": "white",
            "ticks": ""
           },
           "bgcolor": "#E5ECF6",
           "caxis": {
            "gridcolor": "white",
            "linecolor": "white",
            "ticks": ""
           }
          },
          "title": {
           "x": 0.05
          },
          "xaxis": {
           "automargin": true,
           "gridcolor": "white",
           "linecolor": "white",
           "ticks": "",
           "title": {
            "standoff": 15
           },
           "zerolinecolor": "white",
           "zerolinewidth": 2
          },
          "yaxis": {
           "automargin": true,
           "gridcolor": "white",
           "linecolor": "white",
           "ticks": "",
           "title": {
            "standoff": 15
           },
           "zerolinecolor": "white",
           "zerolinewidth": 2
          }
         }
        },
        "title": {
         "text": "Acquisition Price by Year"
        },
        "width": 600,
        "xaxis": {
         "anchor": "y",
         "domain": [
          0,
          1
         ],
         "title": {
          "text": "Year of acquisition announcement"
         }
        },
        "yaxis": {
         "anchor": "x",
         "domain": [
          0,
          1
         ],
         "title": {
          "text": "Price"
         }
        }
       }
      }
     },
     "metadata": {},
     "output_type": "display_data"
    }
   ],
   "source": [
    "fig = px.scatter(\n",
    "    acquisitions,\n",
    "    x=\"Year of acquisition announcement\",\n",
    "    y=\"Price\",\n",
    "    title=\"Acquisition Price by Year\",\n",
    "    width=600,\n",
    "    height=400,\n",
    ")\n",
    "fig.show()"
   ]
  },
  {
   "cell_type": "markdown",
   "id": "1bb683fb",
   "metadata": {},
   "source": [
    "There was a wrongly entered value, so I looked at the link and corrected it"
   ]
  },
  {
   "cell_type": "code",
   "execution_count": 2096,
   "id": "59a010a3",
   "metadata": {},
   "outputs": [],
   "source": [
    "acquisitions.loc[\n",
    "    acquisitions[\"Year of acquisition announcement\"] == 2104,\n",
    "    \"Year of acquisition announcement\",\n",
    "] = 2014"
   ]
  },
  {
   "cell_type": "markdown",
   "id": "e85fe1a9",
   "metadata": {},
   "source": [
    "Plotting again without the error, now we can see that the overall trend of prices tends to go up, that's why we added the 'Year of acquisitions announcement' column"
   ]
  },
  {
   "cell_type": "code",
   "execution_count": 2097,
   "id": "cc6b0539",
   "metadata": {},
   "outputs": [
    {
     "data": {
      "application/vnd.plotly.v1+json": {
       "config": {
        "plotlyServerURL": "https://plot.ly"
       },
       "data": [
        {
         "hovertemplate": "Year of acquisition announcement=%{x}<br>Price=%{y}<extra></extra>",
         "legendgroup": "",
         "marker": {
          "color": "#636efa",
          "symbol": "circle"
         },
         "mode": "markers",
         "name": "",
         "orientation": "v",
         "showlegend": false,
         "type": "scatter",
         "x": {
          "bdata": "2QfXB9gH3QfdB9wH2wfVB9oH2gfZB9oH2AfTB9gH1gfaB9IH1AfZB9UH1AfQB9gH2QfeB90H3QfdB9sH1QfdB9oH0AfPB9gH3AfbB9wH2AfXB88H1AfUB9AH2AfcB94H3AfAB9gH2gfWB90H3AfaB9cH3gfbB9oH1wfXB90H2gfYB9sH2gfaB9gH2gfaB9sH3gfeB88H1gfcB9kH2gfaB9sH2AfUB9wH2gfPB9cH3gfZB94H3AfcB9oH3AfTB9gH1gfRB9oH2gfaB84H3QfZB90H2wfcB9sH2QfVB9oH0gfdB9oH2gfcB9gH2QfWB94H1QfcB9oH2AfVB9oH3QfXB80H3AfdB9kH3gfVB9oH3QfYB9sH2QfdB90H3gfWB9wH3AfbB94H2wfcB9sH2wfcB9cH2wfdB9gH2wfXB9sH1wfPB9sHzwfUB9cH3AfaB9oH2AfaB9QH1wfdB94H0wfbB9oH3AfYB9cH2wfZB90H2AfPB9IH2AfZB9kH2QfcB9cH2gfbB84H1gfeB9gH2gfLB9cH2gfdB9oH2wfaB9wH3AfbB88H2gfaB90H3AfTB9gH3QfdB9oH1wfXB9oH1QfaB8wHzwfdB9YH2AfPB9kH3QfYB9gH2wfeB90H2wfZB9YH3QfeB8sH3AfaB9oH3gfNB9gHzQfaB9sHzwfYB9cH2AfPB94H3gfYB9YH2AfbB9MH3QfdB9cH2AfYB9oH3QfaB9oH3AfaB9cHzQfeB9sH3QfYB9cH3QfeB9wH1wfSB94H3QfVB9oH2wfdB94H0QfZB94H3QfdB9oH2QfeB9gH2wfYB9IH2gfeB94H2wfcB9oH1wfeB90H2gfcB94H2gfbB90H2QfeB90H2QfeB90H1AfXB9gH2AfPB9gH0gfXB94H",
          "dtype": "i2"
         },
         "xaxis": "x",
         "y": [
          2100000000,
          363000000,
          215000000,
          400000000,
          10000000,
          380000000,
          70000000,
          67500000,
          2400000000,
          30000000,
          1800000000,
          121000000,
          8100000000,
          1600000000,
          15000000,
          200000000,
          65000000,
          436000000,
          3400000000,
          65000000,
          3400000000,
          435000000,
          145000000,
          133000000,
          2700000000,
          19000000000,
          155000000,
          100000000,
          12000000,
          50000000,
          2600000000,
          30000000,
          1300000000,
          432000000,
          1100000000,
          300000000,
          350000000,
          270000000,
          2400000000,
          5000000,
          100000000,
          80000000,
          635000000,
          610000000,
          350000000,
          380000000,
          1900000000,
          100000000,
          50000000,
          2600000000,
          31000000,
          10000000,
          4500000000,
          90000000,
          871000000,
          187500000,
          12000000,
          500000000,
          400000000,
          70000000,
          330000000,
          60000000,
          125000000,
          99000000,
          360000000,
          80000000,
          1700000000,
          152000000,
          8000000,
          5800000000,
          90000000,
          263000000,
          80000000,
          200000000,
          5700000000,
          40000000,
          250000000,
          11500000,
          68200000,
          140000000,
          135000000,
          275000000,
          50000000,
          3400000000,
          160000000,
          250000000,
          210000000,
          5300000000,
          750000000,
          2000000000,
          775000000,
          1300000000,
          820000000,
          1200000000,
          235000000,
          28100000000,
          102000000,
          12000000,
          7700000000,
          95000000,
          164000000,
          49000000,
          2700000000,
          1200000000,
          30000000,
          30000000,
          1000000000,
          400000000,
          3400000000,
          450000000,
          480000000,
          1500000000,
          415000000,
          10000000,
          170000000,
          30000000,
          125000000,
          51000000,
          375000000,
          90700000,
          30000000,
          60000000,
          75000000,
          300000000,
          1100000000,
          25000000,
          40000000,
          10000000,
          1400000,
          176000000,
          60000000,
          29000000,
          120000000,
          620000000,
          10000000,
          347000000,
          120000000,
          10000000,
          225000000,
          26000000,
          80000000,
          50000000,
          75000000,
          689000000,
          100000000,
          100000000,
          10000000000,
          1000000000,
          300000000,
          135000000,
          450000000,
          2500000,
          495000000,
          4900000,
          90000000,
          945000000,
          700000000,
          6400000000,
          3100000000,
          96800000,
          10000000,
          2400000000,
          2900000000,
          160000000,
          850000000,
          144000000,
          25000000,
          55000000,
          1200000000,
          35000000,
          28000000,
          76000000,
          996000000,
          100000000,
          150000000,
          180000000,
          1400000000,
          115000000,
          340000000,
          310000000,
          25000000,
          3900000000,
          2500000000,
          213000000,
          80000000,
          30000000,
          40000000,
          200000000,
          590000000,
          884000000,
          12500000000,
          23000000,
          545000000,
          315000000,
          4200000000,
          28000000,
          15000000,
          53000000,
          142000000,
          3500000000,
          3200000000,
          275000000,
          40000000,
          250000000,
          326000000,
          80000000,
          7000000,
          4300000000,
          10200000000,
          57000000,
          5000000,
          525000000,
          600000000,
          15000000,
          100000000,
          150000000,
          800000000,
          350000000,
          1200000000,
          100000000,
          200000000,
          685000000,
          300000000,
          200000000,
          400000000,
          320000000,
          150000000,
          1700000000,
          40000000,
          525000000,
          100000000,
          130000000,
          115000000,
          8500000000,
          61000000,
          134000000,
          200000000,
          330000000,
          150000000,
          48300000,
          26000000,
          1100000000,
          1700000000,
          220000000,
          110000000,
          50000000,
          3000000000,
          92000000,
          695000000,
          1200000000,
          225000000,
          40000000,
          500000000,
          13900000000,
          1600000000,
          150000000,
          130000000,
          2900000000,
          16000000,
          160000000,
          56000000,
          100000000,
          151000000,
          102000000,
          50000000,
          20000000,
          20300000,
          32000000,
          500000000,
          12000000,
          20000000,
          240000000,
          29000000,
          271000000,
          1500000000,
          275000000,
          400000000,
          175000000,
          410000000,
          200000000,
          123000000,
          50000000,
          20000000,
          970000000,
          70000000,
          100000000,
          96000000,
          500000000,
          307000000,
          93000000,
          2300000000,
          175000000,
          50000000,
          390000000,
          748000000,
          944000000,
          100000000,
          345000000,
          40000000,
          130000000,
          20000000,
          3200000000,
          3100000000,
          15000000,
          278000000,
          135000000,
          1400000000,
          175000000,
          101000000,
          31000000,
          50000000,
          25000000,
          625000000,
          200000000,
          1500000000,
          300000000,
          119000000,
          300000000,
          2500000,
          240000000,
          150000000,
          5200000,
          320000000,
          10100000000,
          183000000,
          10000000000,
          25000000,
          290000000,
          350000000,
          125000000,
          15000000,
          7400000000,
          155000000,
          337000000,
          350000000,
          45000000000
         ],
         "yaxis": "y"
        }
       ],
       "layout": {
        "height": 400,
        "legend": {
         "tracegroupgap": 0
        },
        "template": {
         "data": {
          "bar": [
           {
            "error_x": {
             "color": "#2a3f5f"
            },
            "error_y": {
             "color": "#2a3f5f"
            },
            "marker": {
             "line": {
              "color": "#E5ECF6",
              "width": 0.5
             },
             "pattern": {
              "fillmode": "overlay",
              "size": 10,
              "solidity": 0.2
             }
            },
            "type": "bar"
           }
          ],
          "barpolar": [
           {
            "marker": {
             "line": {
              "color": "#E5ECF6",
              "width": 0.5
             },
             "pattern": {
              "fillmode": "overlay",
              "size": 10,
              "solidity": 0.2
             }
            },
            "type": "barpolar"
           }
          ],
          "carpet": [
           {
            "aaxis": {
             "endlinecolor": "#2a3f5f",
             "gridcolor": "white",
             "linecolor": "white",
             "minorgridcolor": "white",
             "startlinecolor": "#2a3f5f"
            },
            "baxis": {
             "endlinecolor": "#2a3f5f",
             "gridcolor": "white",
             "linecolor": "white",
             "minorgridcolor": "white",
             "startlinecolor": "#2a3f5f"
            },
            "type": "carpet"
           }
          ],
          "choropleth": [
           {
            "colorbar": {
             "outlinewidth": 0,
             "ticks": ""
            },
            "type": "choropleth"
           }
          ],
          "contour": [
           {
            "colorbar": {
             "outlinewidth": 0,
             "ticks": ""
            },
            "colorscale": [
             [
              0,
              "#0d0887"
             ],
             [
              0.1111111111111111,
              "#46039f"
             ],
             [
              0.2222222222222222,
              "#7201a8"
             ],
             [
              0.3333333333333333,
              "#9c179e"
             ],
             [
              0.4444444444444444,
              "#bd3786"
             ],
             [
              0.5555555555555556,
              "#d8576b"
             ],
             [
              0.6666666666666666,
              "#ed7953"
             ],
             [
              0.7777777777777778,
              "#fb9f3a"
             ],
             [
              0.8888888888888888,
              "#fdca26"
             ],
             [
              1,
              "#f0f921"
             ]
            ],
            "type": "contour"
           }
          ],
          "contourcarpet": [
           {
            "colorbar": {
             "outlinewidth": 0,
             "ticks": ""
            },
            "type": "contourcarpet"
           }
          ],
          "heatmap": [
           {
            "colorbar": {
             "outlinewidth": 0,
             "ticks": ""
            },
            "colorscale": [
             [
              0,
              "#0d0887"
             ],
             [
              0.1111111111111111,
              "#46039f"
             ],
             [
              0.2222222222222222,
              "#7201a8"
             ],
             [
              0.3333333333333333,
              "#9c179e"
             ],
             [
              0.4444444444444444,
              "#bd3786"
             ],
             [
              0.5555555555555556,
              "#d8576b"
             ],
             [
              0.6666666666666666,
              "#ed7953"
             ],
             [
              0.7777777777777778,
              "#fb9f3a"
             ],
             [
              0.8888888888888888,
              "#fdca26"
             ],
             [
              1,
              "#f0f921"
             ]
            ],
            "type": "heatmap"
           }
          ],
          "histogram": [
           {
            "marker": {
             "pattern": {
              "fillmode": "overlay",
              "size": 10,
              "solidity": 0.2
             }
            },
            "type": "histogram"
           }
          ],
          "histogram2d": [
           {
            "colorbar": {
             "outlinewidth": 0,
             "ticks": ""
            },
            "colorscale": [
             [
              0,
              "#0d0887"
             ],
             [
              0.1111111111111111,
              "#46039f"
             ],
             [
              0.2222222222222222,
              "#7201a8"
             ],
             [
              0.3333333333333333,
              "#9c179e"
             ],
             [
              0.4444444444444444,
              "#bd3786"
             ],
             [
              0.5555555555555556,
              "#d8576b"
             ],
             [
              0.6666666666666666,
              "#ed7953"
             ],
             [
              0.7777777777777778,
              "#fb9f3a"
             ],
             [
              0.8888888888888888,
              "#fdca26"
             ],
             [
              1,
              "#f0f921"
             ]
            ],
            "type": "histogram2d"
           }
          ],
          "histogram2dcontour": [
           {
            "colorbar": {
             "outlinewidth": 0,
             "ticks": ""
            },
            "colorscale": [
             [
              0,
              "#0d0887"
             ],
             [
              0.1111111111111111,
              "#46039f"
             ],
             [
              0.2222222222222222,
              "#7201a8"
             ],
             [
              0.3333333333333333,
              "#9c179e"
             ],
             [
              0.4444444444444444,
              "#bd3786"
             ],
             [
              0.5555555555555556,
              "#d8576b"
             ],
             [
              0.6666666666666666,
              "#ed7953"
             ],
             [
              0.7777777777777778,
              "#fb9f3a"
             ],
             [
              0.8888888888888888,
              "#fdca26"
             ],
             [
              1,
              "#f0f921"
             ]
            ],
            "type": "histogram2dcontour"
           }
          ],
          "mesh3d": [
           {
            "colorbar": {
             "outlinewidth": 0,
             "ticks": ""
            },
            "type": "mesh3d"
           }
          ],
          "parcoords": [
           {
            "line": {
             "colorbar": {
              "outlinewidth": 0,
              "ticks": ""
             }
            },
            "type": "parcoords"
           }
          ],
          "pie": [
           {
            "automargin": true,
            "type": "pie"
           }
          ],
          "scatter": [
           {
            "fillpattern": {
             "fillmode": "overlay",
             "size": 10,
             "solidity": 0.2
            },
            "type": "scatter"
           }
          ],
          "scatter3d": [
           {
            "line": {
             "colorbar": {
              "outlinewidth": 0,
              "ticks": ""
             }
            },
            "marker": {
             "colorbar": {
              "outlinewidth": 0,
              "ticks": ""
             }
            },
            "type": "scatter3d"
           }
          ],
          "scattercarpet": [
           {
            "marker": {
             "colorbar": {
              "outlinewidth": 0,
              "ticks": ""
             }
            },
            "type": "scattercarpet"
           }
          ],
          "scattergeo": [
           {
            "marker": {
             "colorbar": {
              "outlinewidth": 0,
              "ticks": ""
             }
            },
            "type": "scattergeo"
           }
          ],
          "scattergl": [
           {
            "marker": {
             "colorbar": {
              "outlinewidth": 0,
              "ticks": ""
             }
            },
            "type": "scattergl"
           }
          ],
          "scattermap": [
           {
            "marker": {
             "colorbar": {
              "outlinewidth": 0,
              "ticks": ""
             }
            },
            "type": "scattermap"
           }
          ],
          "scattermapbox": [
           {
            "marker": {
             "colorbar": {
              "outlinewidth": 0,
              "ticks": ""
             }
            },
            "type": "scattermapbox"
           }
          ],
          "scatterpolar": [
           {
            "marker": {
             "colorbar": {
              "outlinewidth": 0,
              "ticks": ""
             }
            },
            "type": "scatterpolar"
           }
          ],
          "scatterpolargl": [
           {
            "marker": {
             "colorbar": {
              "outlinewidth": 0,
              "ticks": ""
             }
            },
            "type": "scatterpolargl"
           }
          ],
          "scatterternary": [
           {
            "marker": {
             "colorbar": {
              "outlinewidth": 0,
              "ticks": ""
             }
            },
            "type": "scatterternary"
           }
          ],
          "surface": [
           {
            "colorbar": {
             "outlinewidth": 0,
             "ticks": ""
            },
            "colorscale": [
             [
              0,
              "#0d0887"
             ],
             [
              0.1111111111111111,
              "#46039f"
             ],
             [
              0.2222222222222222,
              "#7201a8"
             ],
             [
              0.3333333333333333,
              "#9c179e"
             ],
             [
              0.4444444444444444,
              "#bd3786"
             ],
             [
              0.5555555555555556,
              "#d8576b"
             ],
             [
              0.6666666666666666,
              "#ed7953"
             ],
             [
              0.7777777777777778,
              "#fb9f3a"
             ],
             [
              0.8888888888888888,
              "#fdca26"
             ],
             [
              1,
              "#f0f921"
             ]
            ],
            "type": "surface"
           }
          ],
          "table": [
           {
            "cells": {
             "fill": {
              "color": "#EBF0F8"
             },
             "line": {
              "color": "white"
             }
            },
            "header": {
             "fill": {
              "color": "#C8D4E3"
             },
             "line": {
              "color": "white"
             }
            },
            "type": "table"
           }
          ]
         },
         "layout": {
          "annotationdefaults": {
           "arrowcolor": "#2a3f5f",
           "arrowhead": 0,
           "arrowwidth": 1
          },
          "autotypenumbers": "strict",
          "coloraxis": {
           "colorbar": {
            "outlinewidth": 0,
            "ticks": ""
           }
          },
          "colorscale": {
           "diverging": [
            [
             0,
             "#8e0152"
            ],
            [
             0.1,
             "#c51b7d"
            ],
            [
             0.2,
             "#de77ae"
            ],
            [
             0.3,
             "#f1b6da"
            ],
            [
             0.4,
             "#fde0ef"
            ],
            [
             0.5,
             "#f7f7f7"
            ],
            [
             0.6,
             "#e6f5d0"
            ],
            [
             0.7,
             "#b8e186"
            ],
            [
             0.8,
             "#7fbc41"
            ],
            [
             0.9,
             "#4d9221"
            ],
            [
             1,
             "#276419"
            ]
           ],
           "sequential": [
            [
             0,
             "#0d0887"
            ],
            [
             0.1111111111111111,
             "#46039f"
            ],
            [
             0.2222222222222222,
             "#7201a8"
            ],
            [
             0.3333333333333333,
             "#9c179e"
            ],
            [
             0.4444444444444444,
             "#bd3786"
            ],
            [
             0.5555555555555556,
             "#d8576b"
            ],
            [
             0.6666666666666666,
             "#ed7953"
            ],
            [
             0.7777777777777778,
             "#fb9f3a"
            ],
            [
             0.8888888888888888,
             "#fdca26"
            ],
            [
             1,
             "#f0f921"
            ]
           ],
           "sequentialminus": [
            [
             0,
             "#0d0887"
            ],
            [
             0.1111111111111111,
             "#46039f"
            ],
            [
             0.2222222222222222,
             "#7201a8"
            ],
            [
             0.3333333333333333,
             "#9c179e"
            ],
            [
             0.4444444444444444,
             "#bd3786"
            ],
            [
             0.5555555555555556,
             "#d8576b"
            ],
            [
             0.6666666666666666,
             "#ed7953"
            ],
            [
             0.7777777777777778,
             "#fb9f3a"
            ],
            [
             0.8888888888888888,
             "#fdca26"
            ],
            [
             1,
             "#f0f921"
            ]
           ]
          },
          "colorway": [
           "#636efa",
           "#EF553B",
           "#00cc96",
           "#ab63fa",
           "#FFA15A",
           "#19d3f3",
           "#FF6692",
           "#B6E880",
           "#FF97FF",
           "#FECB52"
          ],
          "font": {
           "color": "#2a3f5f"
          },
          "geo": {
           "bgcolor": "white",
           "lakecolor": "white",
           "landcolor": "#E5ECF6",
           "showlakes": true,
           "showland": true,
           "subunitcolor": "white"
          },
          "hoverlabel": {
           "align": "left"
          },
          "hovermode": "closest",
          "mapbox": {
           "style": "light"
          },
          "paper_bgcolor": "white",
          "plot_bgcolor": "#E5ECF6",
          "polar": {
           "angularaxis": {
            "gridcolor": "white",
            "linecolor": "white",
            "ticks": ""
           },
           "bgcolor": "#E5ECF6",
           "radialaxis": {
            "gridcolor": "white",
            "linecolor": "white",
            "ticks": ""
           }
          },
          "scene": {
           "xaxis": {
            "backgroundcolor": "#E5ECF6",
            "gridcolor": "white",
            "gridwidth": 2,
            "linecolor": "white",
            "showbackground": true,
            "ticks": "",
            "zerolinecolor": "white"
           },
           "yaxis": {
            "backgroundcolor": "#E5ECF6",
            "gridcolor": "white",
            "gridwidth": 2,
            "linecolor": "white",
            "showbackground": true,
            "ticks": "",
            "zerolinecolor": "white"
           },
           "zaxis": {
            "backgroundcolor": "#E5ECF6",
            "gridcolor": "white",
            "gridwidth": 2,
            "linecolor": "white",
            "showbackground": true,
            "ticks": "",
            "zerolinecolor": "white"
           }
          },
          "shapedefaults": {
           "line": {
            "color": "#2a3f5f"
           }
          },
          "ternary": {
           "aaxis": {
            "gridcolor": "white",
            "linecolor": "white",
            "ticks": ""
           },
           "baxis": {
            "gridcolor": "white",
            "linecolor": "white",
            "ticks": ""
           },
           "bgcolor": "#E5ECF6",
           "caxis": {
            "gridcolor": "white",
            "linecolor": "white",
            "ticks": ""
           }
          },
          "title": {
           "x": 0.05
          },
          "xaxis": {
           "automargin": true,
           "gridcolor": "white",
           "linecolor": "white",
           "ticks": "",
           "title": {
            "standoff": 15
           },
           "zerolinecolor": "white",
           "zerolinewidth": 2
          },
          "yaxis": {
           "automargin": true,
           "gridcolor": "white",
           "linecolor": "white",
           "ticks": "",
           "title": {
            "standoff": 15
           },
           "zerolinecolor": "white",
           "zerolinewidth": 2
          }
         }
        },
        "title": {
         "text": "Acquisition Price by Year"
        },
        "width": 700,
        "xaxis": {
         "anchor": "y",
         "domain": [
          0,
          1
         ],
         "title": {
          "text": "Year of acquisition announcement"
         }
        },
        "yaxis": {
         "anchor": "x",
         "domain": [
          0,
          1
         ],
         "title": {
          "text": "Price"
         }
        }
       }
      }
     },
     "metadata": {},
     "output_type": "display_data"
    }
   ],
   "source": [
    "fig = px.scatter(\n",
    "    acquisitions,\n",
    "    x=\"Year of acquisition announcement\",\n",
    "    y=\"Price\",\n",
    "    title=\"Acquisition Price by Year\",\n",
    "    width=700,\n",
    "    height=400,\n",
    ")\n",
    "fig.show()"
   ]
  },
  {
   "cell_type": "markdown",
   "id": "39596dce",
   "metadata": {},
   "source": [
    "update the datatypes automatically"
   ]
  },
  {
   "cell_type": "code",
   "execution_count": 2098,
   "id": "cdd6d5c0",
   "metadata": {},
   "outputs": [],
   "source": [
    "acquired = acquired.infer_objects()\n",
    "acquisitions = acquisitions.infer_objects()"
   ]
  },
  {
   "cell_type": "code",
   "execution_count": 2099,
   "id": "461fba41",
   "metadata": {},
   "outputs": [
    {
     "data": {
      "application/vnd.plotly.v1+json": {
       "config": {
        "plotlyServerURL": "https://plot.ly"
       },
       "data": [
        {
         "hovertemplate": "Year Founded=%{x}<br>Price=%{y}<extra></extra>",
         "legendgroup": "",
         "marker": {
          "color": "#636efa",
          "symbol": "circle"
         },
         "mode": "markers",
         "name": "",
         "orientation": "v",
         "showlegend": false,
         "type": "scatter",
         "x": {
          "bdata": "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",
          "dtype": "f8"
         },
         "xaxis": "x",
         "y": [
          240000000,
          400000000,
          3400000000,
          600000000,
          1800000000,
          250000000,
          300000000,
          26000000,
          775000000,
          2500000,
          545000000,
          110000000,
          65000000,
          435000000,
          125000000,
          101000000,
          90700000,
          1100000000,
          525000000,
          4200000000,
          363000000,
          320000000,
          275000000,
          315000000,
          40000000,
          30000000,
          450000000,
          3000000000,
          7000000,
          50000000,
          30000000,
          121000000,
          400000000,
          278000000,
          29000000,
          345000000,
          275000000,
          200000000,
          20000000,
          944000000,
          15000000,
          275000000,
          200000000,
          330000000,
          155000000,
          1700000000,
          200000000,
          40000000,
          375000000,
          450000000,
          7400000000,
          99000000,
          271000000,
          1200000000,
          330000000,
          215000000,
          590000000,
          120000000,
          183000000,
          100000000,
          2700000000,
          175000000,
          3400000000,
          3200000000,
          415000000,
          125000000,
          200000000,
          320000000,
          150000000,
          5000000,
          45000000000,
          820000000,
          12000000,
          155000000,
          3900000000,
          2400000000,
          100000000,
          50000000,
          945000000,
          380000000,
          150000000,
          2400000000,
          350000000,
          80000000,
          180000000,
          290000000,
          75000000,
          1500000000,
          620000000,
          310000000,
          48300000,
          240000000,
          2100000000,
          213000000,
          2300000000,
          150000000,
          76000000,
          200000000,
          250000000,
          635000000,
          50000000,
          15000000,
          10000000,
          60000000,
          10000000,
          1000000000,
          2500000,
          2000000000,
          150000000,
          90000000,
          70000000,
          19000000000,
          50000000,
          400000000,
          750000000,
          23000000,
          50000000,
          102000000,
          61000000,
          30000000,
          35000000,
          125000000,
          500000000,
          102000000,
          28000000,
          100000000,
          40000000,
          68200000,
          60000000,
          80000000,
          700000000,
          12000000,
          70000000,
          25000000,
          100000000,
          4900000,
          3200000000,
          15000000,
          130000000,
          20300000,
          625000000,
          500000000,
          30000000,
          996000000,
          160000000,
          350000000,
          1700000000,
          151000000,
          2700000000,
          2400000000,
          1500000000,
          10200000000,
          360000000,
          30000000,
          4500000000,
          1600000000,
          25000000,
          300000000,
          20000000,
          225000000,
          1300000000,
          3500000000,
          1700000000,
          1200000000,
          140000000,
          800000000,
          480000000,
          300000000,
          130000000,
          100000000,
          25000000,
          26000000,
          1400000000,
          500000000,
          8000000,
          40000000,
          20000000,
          884000000,
          748000000,
          95000000,
          176000000,
          67500000,
          3400000000,
          60000000,
          175000000,
          120000000,
          5000000,
          90000000,
          15000000,
          119000000,
          6400000000,
          500000000,
          115000000,
          1200000000,
          400000000,
          50000000,
          200000000,
          150000000,
          100000000,
          100000000,
          337000000,
          96000000,
          100000000,
          75000000,
          25000000,
          8100000000,
          57000000,
          340000000,
          96800000,
          495000000,
          1000000000,
          8500000000,
          400000000,
          871000000,
          5300000000,
          685000000,
          1500000000,
          150000000,
          1900000000,
          300000000,
          220000000,
          65000000,
          56000000,
          144000000,
          210000000,
          175000000,
          3100000000,
          300000000,
          32000000,
          12000000,
          50000000,
          31000000,
          2500000000,
          70000000,
          250000000,
          142000000,
          390000000,
          689000000,
          170000000,
          326000000,
          30000000,
          347000000,
          200000000,
          1100000000,
          307000000,
          4300000000,
          10000000000,
          100000000,
          3400000000,
          5800000000,
          380000000,
          53000000,
          410000000,
          115000000,
          695000000,
          300000000,
          135000000,
          123000000,
          28000000,
          1300000000,
          350000000,
          525000000,
          263000000,
          10000000,
          80000000,
          134000000,
          5200000,
          350000000,
          50000000,
          15000000,
          100000000,
          40000000,
          30000000,
          28100000000,
          10100000000,
          10000000000,
          31000000,
          40000000,
          100000000,
          90000000,
          80000000,
          5700000000,
          55000000,
          432000000,
          130000000,
          200000000,
          92000000,
          40000000,
          2900000000,
          235000000,
          270000000,
          610000000,
          145000000,
          12000000,
          10000000,
          164000000,
          160000000,
          160000000,
          10000000,
          1400000,
          80000000,
          1600000000,
          50000000,
          850000000,
          100000000,
          10000000,
          16000000,
          93000000,
          49000000,
          20000000
         ],
         "yaxis": "y"
        }
       ],
       "layout": {
        "height": 400,
        "legend": {
         "tracegroupgap": 0
        },
        "template": {
         "data": {
          "bar": [
           {
            "error_x": {
             "color": "#2a3f5f"
            },
            "error_y": {
             "color": "#2a3f5f"
            },
            "marker": {
             "line": {
              "color": "#E5ECF6",
              "width": 0.5
             },
             "pattern": {
              "fillmode": "overlay",
              "size": 10,
              "solidity": 0.2
             }
            },
            "type": "bar"
           }
          ],
          "barpolar": [
           {
            "marker": {
             "line": {
              "color": "#E5ECF6",
              "width": 0.5
             },
             "pattern": {
              "fillmode": "overlay",
              "size": 10,
              "solidity": 0.2
             }
            },
            "type": "barpolar"
           }
          ],
          "carpet": [
           {
            "aaxis": {
             "endlinecolor": "#2a3f5f",
             "gridcolor": "white",
             "linecolor": "white",
             "minorgridcolor": "white",
             "startlinecolor": "#2a3f5f"
            },
            "baxis": {
             "endlinecolor": "#2a3f5f",
             "gridcolor": "white",
             "linecolor": "white",
             "minorgridcolor": "white",
             "startlinecolor": "#2a3f5f"
            },
            "type": "carpet"
           }
          ],
          "choropleth": [
           {
            "colorbar": {
             "outlinewidth": 0,
             "ticks": ""
            },
            "type": "choropleth"
           }
          ],
          "contour": [
           {
            "colorbar": {
             "outlinewidth": 0,
             "ticks": ""
            },
            "colorscale": [
             [
              0,
              "#0d0887"
             ],
             [
              0.1111111111111111,
              "#46039f"
             ],
             [
              0.2222222222222222,
              "#7201a8"
             ],
             [
              0.3333333333333333,
              "#9c179e"
             ],
             [
              0.4444444444444444,
              "#bd3786"
             ],
             [
              0.5555555555555556,
              "#d8576b"
             ],
             [
              0.6666666666666666,
              "#ed7953"
             ],
             [
              0.7777777777777778,
              "#fb9f3a"
             ],
             [
              0.8888888888888888,
              "#fdca26"
             ],
             [
              1,
              "#f0f921"
             ]
            ],
            "type": "contour"
           }
          ],
          "contourcarpet": [
           {
            "colorbar": {
             "outlinewidth": 0,
             "ticks": ""
            },
            "type": "contourcarpet"
           }
          ],
          "heatmap": [
           {
            "colorbar": {
             "outlinewidth": 0,
             "ticks": ""
            },
            "colorscale": [
             [
              0,
              "#0d0887"
             ],
             [
              0.1111111111111111,
              "#46039f"
             ],
             [
              0.2222222222222222,
              "#7201a8"
             ],
             [
              0.3333333333333333,
              "#9c179e"
             ],
             [
              0.4444444444444444,
              "#bd3786"
             ],
             [
              0.5555555555555556,
              "#d8576b"
             ],
             [
              0.6666666666666666,
              "#ed7953"
             ],
             [
              0.7777777777777778,
              "#fb9f3a"
             ],
             [
              0.8888888888888888,
              "#fdca26"
             ],
             [
              1,
              "#f0f921"
             ]
            ],
            "type": "heatmap"
           }
          ],
          "histogram": [
           {
            "marker": {
             "pattern": {
              "fillmode": "overlay",
              "size": 10,
              "solidity": 0.2
             }
            },
            "type": "histogram"
           }
          ],
          "histogram2d": [
           {
            "colorbar": {
             "outlinewidth": 0,
             "ticks": ""
            },
            "colorscale": [
             [
              0,
              "#0d0887"
             ],
             [
              0.1111111111111111,
              "#46039f"
             ],
             [
              0.2222222222222222,
              "#7201a8"
             ],
             [
              0.3333333333333333,
              "#9c179e"
             ],
             [
              0.4444444444444444,
              "#bd3786"
             ],
             [
              0.5555555555555556,
              "#d8576b"
             ],
             [
              0.6666666666666666,
              "#ed7953"
             ],
             [
              0.7777777777777778,
              "#fb9f3a"
             ],
             [
              0.8888888888888888,
              "#fdca26"
             ],
             [
              1,
              "#f0f921"
             ]
            ],
            "type": "histogram2d"
           }
          ],
          "histogram2dcontour": [
           {
            "colorbar": {
             "outlinewidth": 0,
             "ticks": ""
            },
            "colorscale": [
             [
              0,
              "#0d0887"
             ],
             [
              0.1111111111111111,
              "#46039f"
             ],
             [
              0.2222222222222222,
              "#7201a8"
             ],
             [
              0.3333333333333333,
              "#9c179e"
             ],
             [
              0.4444444444444444,
              "#bd3786"
             ],
             [
              0.5555555555555556,
              "#d8576b"
             ],
             [
              0.6666666666666666,
              "#ed7953"
             ],
             [
              0.7777777777777778,
              "#fb9f3a"
             ],
             [
              0.8888888888888888,
              "#fdca26"
             ],
             [
              1,
              "#f0f921"
             ]
            ],
            "type": "histogram2dcontour"
           }
          ],
          "mesh3d": [
           {
            "colorbar": {
             "outlinewidth": 0,
             "ticks": ""
            },
            "type": "mesh3d"
           }
          ],
          "parcoords": [
           {
            "line": {
             "colorbar": {
              "outlinewidth": 0,
              "ticks": ""
             }
            },
            "type": "parcoords"
           }
          ],
          "pie": [
           {
            "automargin": true,
            "type": "pie"
           }
          ],
          "scatter": [
           {
            "fillpattern": {
             "fillmode": "overlay",
             "size": 10,
             "solidity": 0.2
            },
            "type": "scatter"
           }
          ],
          "scatter3d": [
           {
            "line": {
             "colorbar": {
              "outlinewidth": 0,
              "ticks": ""
             }
            },
            "marker": {
             "colorbar": {
              "outlinewidth": 0,
              "ticks": ""
             }
            },
            "type": "scatter3d"
           }
          ],
          "scattercarpet": [
           {
            "marker": {
             "colorbar": {
              "outlinewidth": 0,
              "ticks": ""
             }
            },
            "type": "scattercarpet"
           }
          ],
          "scattergeo": [
           {
            "marker": {
             "colorbar": {
              "outlinewidth": 0,
              "ticks": ""
             }
            },
            "type": "scattergeo"
           }
          ],
          "scattergl": [
           {
            "marker": {
             "colorbar": {
              "outlinewidth": 0,
              "ticks": ""
             }
            },
            "type": "scattergl"
           }
          ],
          "scattermap": [
           {
            "marker": {
             "colorbar": {
              "outlinewidth": 0,
              "ticks": ""
             }
            },
            "type": "scattermap"
           }
          ],
          "scattermapbox": [
           {
            "marker": {
             "colorbar": {
              "outlinewidth": 0,
              "ticks": ""
             }
            },
            "type": "scattermapbox"
           }
          ],
          "scatterpolar": [
           {
            "marker": {
             "colorbar": {
              "outlinewidth": 0,
              "ticks": ""
             }
            },
            "type": "scatterpolar"
           }
          ],
          "scatterpolargl": [
           {
            "marker": {
             "colorbar": {
              "outlinewidth": 0,
              "ticks": ""
             }
            },
            "type": "scatterpolargl"
           }
          ],
          "scatterternary": [
           {
            "marker": {
             "colorbar": {
              "outlinewidth": 0,
              "ticks": ""
             }
            },
            "type": "scatterternary"
           }
          ],
          "surface": [
           {
            "colorbar": {
             "outlinewidth": 0,
             "ticks": ""
            },
            "colorscale": [
             [
              0,
              "#0d0887"
             ],
             [
              0.1111111111111111,
              "#46039f"
             ],
             [
              0.2222222222222222,
              "#7201a8"
             ],
             [
              0.3333333333333333,
              "#9c179e"
             ],
             [
              0.4444444444444444,
              "#bd3786"
             ],
             [
              0.5555555555555556,
              "#d8576b"
             ],
             [
              0.6666666666666666,
              "#ed7953"
             ],
             [
              0.7777777777777778,
              "#fb9f3a"
             ],
             [
              0.8888888888888888,
              "#fdca26"
             ],
             [
              1,
              "#f0f921"
             ]
            ],
            "type": "surface"
           }
          ],
          "table": [
           {
            "cells": {
             "fill": {
              "color": "#EBF0F8"
             },
             "line": {
              "color": "white"
             }
            },
            "header": {
             "fill": {
              "color": "#C8D4E3"
             },
             "line": {
              "color": "white"
             }
            },
            "type": "table"
           }
          ]
         },
         "layout": {
          "annotationdefaults": {
           "arrowcolor": "#2a3f5f",
           "arrowhead": 0,
           "arrowwidth": 1
          },
          "autotypenumbers": "strict",
          "coloraxis": {
           "colorbar": {
            "outlinewidth": 0,
            "ticks": ""
           }
          },
          "colorscale": {
           "diverging": [
            [
             0,
             "#8e0152"
            ],
            [
             0.1,
             "#c51b7d"
            ],
            [
             0.2,
             "#de77ae"
            ],
            [
             0.3,
             "#f1b6da"
            ],
            [
             0.4,
             "#fde0ef"
            ],
            [
             0.5,
             "#f7f7f7"
            ],
            [
             0.6,
             "#e6f5d0"
            ],
            [
             0.7,
             "#b8e186"
            ],
            [
             0.8,
             "#7fbc41"
            ],
            [
             0.9,
             "#4d9221"
            ],
            [
             1,
             "#276419"
            ]
           ],
           "sequential": [
            [
             0,
             "#0d0887"
            ],
            [
             0.1111111111111111,
             "#46039f"
            ],
            [
             0.2222222222222222,
             "#7201a8"
            ],
            [
             0.3333333333333333,
             "#9c179e"
            ],
            [
             0.4444444444444444,
             "#bd3786"
            ],
            [
             0.5555555555555556,
             "#d8576b"
            ],
            [
             0.6666666666666666,
             "#ed7953"
            ],
            [
             0.7777777777777778,
             "#fb9f3a"
            ],
            [
             0.8888888888888888,
             "#fdca26"
            ],
            [
             1,
             "#f0f921"
            ]
           ],
           "sequentialminus": [
            [
             0,
             "#0d0887"
            ],
            [
             0.1111111111111111,
             "#46039f"
            ],
            [
             0.2222222222222222,
             "#7201a8"
            ],
            [
             0.3333333333333333,
             "#9c179e"
            ],
            [
             0.4444444444444444,
             "#bd3786"
            ],
            [
             0.5555555555555556,
             "#d8576b"
            ],
            [
             0.6666666666666666,
             "#ed7953"
            ],
            [
             0.7777777777777778,
             "#fb9f3a"
            ],
            [
             0.8888888888888888,
             "#fdca26"
            ],
            [
             1,
             "#f0f921"
            ]
           ]
          },
          "colorway": [
           "#636efa",
           "#EF553B",
           "#00cc96",
           "#ab63fa",
           "#FFA15A",
           "#19d3f3",
           "#FF6692",
           "#B6E880",
           "#FF97FF",
           "#FECB52"
          ],
          "font": {
           "color": "#2a3f5f"
          },
          "geo": {
           "bgcolor": "white",
           "lakecolor": "white",
           "landcolor": "#E5ECF6",
           "showlakes": true,
           "showland": true,
           "subunitcolor": "white"
          },
          "hoverlabel": {
           "align": "left"
          },
          "hovermode": "closest",
          "mapbox": {
           "style": "light"
          },
          "paper_bgcolor": "white",
          "plot_bgcolor": "#E5ECF6",
          "polar": {
           "angularaxis": {
            "gridcolor": "white",
            "linecolor": "white",
            "ticks": ""
           },
           "bgcolor": "#E5ECF6",
           "radialaxis": {
            "gridcolor": "white",
            "linecolor": "white",
            "ticks": ""
           }
          },
          "scene": {
           "xaxis": {
            "backgroundcolor": "#E5ECF6",
            "gridcolor": "white",
            "gridwidth": 2,
            "linecolor": "white",
            "showbackground": true,
            "ticks": "",
            "zerolinecolor": "white"
           },
           "yaxis": {
            "backgroundcolor": "#E5ECF6",
            "gridcolor": "white",
            "gridwidth": 2,
            "linecolor": "white",
            "showbackground": true,
            "ticks": "",
            "zerolinecolor": "white"
           },
           "zaxis": {
            "backgroundcolor": "#E5ECF6",
            "gridcolor": "white",
            "gridwidth": 2,
            "linecolor": "white",
            "showbackground": true,
            "ticks": "",
            "zerolinecolor": "white"
           }
          },
          "shapedefaults": {
           "line": {
            "color": "#2a3f5f"
           }
          },
          "ternary": {
           "aaxis": {
            "gridcolor": "white",
            "linecolor": "white",
            "ticks": ""
           },
           "baxis": {
            "gridcolor": "white",
            "linecolor": "white",
            "ticks": ""
           },
           "bgcolor": "#E5ECF6",
           "caxis": {
            "gridcolor": "white",
            "linecolor": "white",
            "ticks": ""
           }
          },
          "title": {
           "x": 0.05
          },
          "xaxis": {
           "automargin": true,
           "gridcolor": "white",
           "linecolor": "white",
           "ticks": "",
           "title": {
            "standoff": 15
           },
           "zerolinecolor": "white",
           "zerolinewidth": 2
          },
          "yaxis": {
           "automargin": true,
           "gridcolor": "white",
           "linecolor": "white",
           "ticks": "",
           "title": {
            "standoff": 15
           },
           "zerolinecolor": "white",
           "zerolinewidth": 2
          }
         }
        },
        "title": {
         "text": "Acquisition Price by Year"
        },
        "width": 600,
        "xaxis": {
         "anchor": "y",
         "domain": [
          0,
          1
         ],
         "title": {
          "text": "Year Founded"
         }
        },
        "yaxis": {
         "anchor": "x",
         "domain": [
          0,
          1
         ],
         "title": {
          "text": "Price"
         }
        }
       }
      }
     },
     "metadata": {},
     "output_type": "display_data"
    }
   ],
   "source": [
    "fig = px.scatter(\n",
    "    acquired,\n",
    "    x=\"Year Founded\",\n",
    "    y=\"Price\",\n",
    "    title=\"Acquisition Price by Year\",\n",
    "    width=600,\n",
    "    height=400,\n",
    ")\n",
    "fig.show()"
   ]
  },
  {
   "cell_type": "markdown",
   "id": "dbbd7ffb",
   "metadata": {},
   "source": [
    "Another error found and corrected"
   ]
  },
  {
   "cell_type": "code",
   "execution_count": 2100,
   "id": "82b00b35",
   "metadata": {},
   "outputs": [],
   "source": [
    "acquired.loc[acquired[\"Year Founded\"] == 1840, \"Year Founded\"] = 2006\n",
    "acquired.loc[acquired[\"Year Founded\"] == 1933, \"Year Founded\"] = 1989"
   ]
  },
  {
   "cell_type": "code",
   "execution_count": 2101,
   "id": "45bfa512",
   "metadata": {},
   "outputs": [
    {
     "data": {
      "application/vnd.plotly.v1+json": {
       "config": {
        "plotlyServerURL": "https://plot.ly"
       },
       "data": [
        {
         "hovertemplate": "Year Founded=%{x}<br>Price=%{y}<extra></extra>",
         "legendgroup": "",
         "marker": {
          "color": "#636efa",
          "symbol": "circle"
         },
         "mode": "markers",
         "name": "",
         "orientation": "v",
         "showlegend": false,
         "type": "scatter",
         "x": {
          "bdata": "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",
          "dtype": "f8"
         },
         "xaxis": "x",
         "y": [
          240000000,
          400000000,
          3400000000,
          600000000,
          1800000000,
          250000000,
          300000000,
          26000000,
          775000000,
          2500000,
          545000000,
          110000000,
          65000000,
          435000000,
          125000000,
          101000000,
          90700000,
          1100000000,
          525000000,
          4200000000,
          363000000,
          320000000,
          275000000,
          315000000,
          40000000,
          30000000,
          450000000,
          3000000000,
          7000000,
          50000000,
          30000000,
          121000000,
          400000000,
          278000000,
          29000000,
          345000000,
          275000000,
          200000000,
          20000000,
          944000000,
          15000000,
          275000000,
          200000000,
          330000000,
          155000000,
          1700000000,
          200000000,
          40000000,
          375000000,
          450000000,
          7400000000,
          99000000,
          271000000,
          1200000000,
          330000000,
          215000000,
          590000000,
          120000000,
          183000000,
          100000000,
          2700000000,
          175000000,
          3400000000,
          3200000000,
          415000000,
          125000000,
          200000000,
          320000000,
          150000000,
          5000000,
          45000000000,
          820000000,
          12000000,
          155000000,
          3900000000,
          2400000000,
          100000000,
          50000000,
          945000000,
          380000000,
          150000000,
          2400000000,
          350000000,
          80000000,
          180000000,
          290000000,
          75000000,
          1500000000,
          620000000,
          310000000,
          48300000,
          240000000,
          2100000000,
          213000000,
          2300000000,
          150000000,
          76000000,
          200000000,
          250000000,
          635000000,
          50000000,
          15000000,
          10000000,
          60000000,
          10000000,
          1000000000,
          2500000,
          2000000000,
          150000000,
          90000000,
          70000000,
          19000000000,
          50000000,
          400000000,
          750000000,
          23000000,
          50000000,
          102000000,
          61000000,
          30000000,
          35000000,
          125000000,
          500000000,
          102000000,
          28000000,
          100000000,
          40000000,
          68200000,
          60000000,
          80000000,
          700000000,
          12000000,
          70000000,
          25000000,
          100000000,
          4900000,
          3200000000,
          15000000,
          130000000,
          20300000,
          625000000,
          500000000,
          30000000,
          996000000,
          160000000,
          350000000,
          1700000000,
          151000000,
          2700000000,
          2400000000,
          1500000000,
          10200000000,
          360000000,
          30000000,
          4500000000,
          1600000000,
          25000000,
          300000000,
          20000000,
          225000000,
          1300000000,
          3500000000,
          1700000000,
          1200000000,
          140000000,
          800000000,
          480000000,
          300000000,
          130000000,
          100000000,
          25000000,
          26000000,
          1400000000,
          500000000,
          8000000,
          40000000,
          20000000,
          884000000,
          748000000,
          95000000,
          176000000,
          67500000,
          3400000000,
          60000000,
          175000000,
          120000000,
          5000000,
          90000000,
          15000000,
          119000000,
          6400000000,
          500000000,
          115000000,
          1200000000,
          400000000,
          50000000,
          200000000,
          150000000,
          100000000,
          100000000,
          337000000,
          96000000,
          100000000,
          75000000,
          25000000,
          8100000000,
          57000000,
          340000000,
          96800000,
          495000000,
          1000000000,
          8500000000,
          400000000,
          871000000,
          5300000000,
          685000000,
          1500000000,
          150000000,
          1900000000,
          300000000,
          220000000,
          65000000,
          56000000,
          144000000,
          210000000,
          175000000,
          3100000000,
          300000000,
          32000000,
          12000000,
          50000000,
          31000000,
          2500000000,
          70000000,
          250000000,
          142000000,
          390000000,
          689000000,
          170000000,
          326000000,
          30000000,
          347000000,
          200000000,
          1100000000,
          307000000,
          4300000000,
          10000000000,
          100000000,
          3400000000,
          5800000000,
          380000000,
          53000000,
          410000000,
          115000000,
          695000000,
          300000000,
          135000000,
          123000000,
          28000000,
          1300000000,
          350000000,
          525000000,
          263000000,
          10000000,
          80000000,
          134000000,
          5200000,
          350000000,
          50000000,
          15000000,
          100000000,
          40000000,
          30000000,
          28100000000,
          10100000000,
          10000000000,
          31000000,
          40000000,
          100000000,
          90000000,
          80000000,
          5700000000,
          55000000,
          432000000,
          130000000,
          200000000,
          92000000,
          40000000,
          2900000000,
          235000000,
          270000000,
          610000000,
          145000000,
          12000000,
          10000000,
          164000000,
          160000000,
          160000000,
          10000000,
          1400000,
          80000000,
          1600000000,
          50000000,
          850000000,
          100000000,
          10000000,
          16000000,
          93000000,
          49000000,
          20000000
         ],
         "yaxis": "y"
        }
       ],
       "layout": {
        "height": 400,
        "legend": {
         "tracegroupgap": 0
        },
        "template": {
         "data": {
          "bar": [
           {
            "error_x": {
             "color": "#2a3f5f"
            },
            "error_y": {
             "color": "#2a3f5f"
            },
            "marker": {
             "line": {
              "color": "#E5ECF6",
              "width": 0.5
             },
             "pattern": {
              "fillmode": "overlay",
              "size": 10,
              "solidity": 0.2
             }
            },
            "type": "bar"
           }
          ],
          "barpolar": [
           {
            "marker": {
             "line": {
              "color": "#E5ECF6",
              "width": 0.5
             },
             "pattern": {
              "fillmode": "overlay",
              "size": 10,
              "solidity": 0.2
             }
            },
            "type": "barpolar"
           }
          ],
          "carpet": [
           {
            "aaxis": {
             "endlinecolor": "#2a3f5f",
             "gridcolor": "white",
             "linecolor": "white",
             "minorgridcolor": "white",
             "startlinecolor": "#2a3f5f"
            },
            "baxis": {
             "endlinecolor": "#2a3f5f",
             "gridcolor": "white",
             "linecolor": "white",
             "minorgridcolor": "white",
             "startlinecolor": "#2a3f5f"
            },
            "type": "carpet"
           }
          ],
          "choropleth": [
           {
            "colorbar": {
             "outlinewidth": 0,
             "ticks": ""
            },
            "type": "choropleth"
           }
          ],
          "contour": [
           {
            "colorbar": {
             "outlinewidth": 0,
             "ticks": ""
            },
            "colorscale": [
             [
              0,
              "#0d0887"
             ],
             [
              0.1111111111111111,
              "#46039f"
             ],
             [
              0.2222222222222222,
              "#7201a8"
             ],
             [
              0.3333333333333333,
              "#9c179e"
             ],
             [
              0.4444444444444444,
              "#bd3786"
             ],
             [
              0.5555555555555556,
              "#d8576b"
             ],
             [
              0.6666666666666666,
              "#ed7953"
             ],
             [
              0.7777777777777778,
              "#fb9f3a"
             ],
             [
              0.8888888888888888,
              "#fdca26"
             ],
             [
              1,
              "#f0f921"
             ]
            ],
            "type": "contour"
           }
          ],
          "contourcarpet": [
           {
            "colorbar": {
             "outlinewidth": 0,
             "ticks": ""
            },
            "type": "contourcarpet"
           }
          ],
          "heatmap": [
           {
            "colorbar": {
             "outlinewidth": 0,
             "ticks": ""
            },
            "colorscale": [
             [
              0,
              "#0d0887"
             ],
             [
              0.1111111111111111,
              "#46039f"
             ],
             [
              0.2222222222222222,
              "#7201a8"
             ],
             [
              0.3333333333333333,
              "#9c179e"
             ],
             [
              0.4444444444444444,
              "#bd3786"
             ],
             [
              0.5555555555555556,
              "#d8576b"
             ],
             [
              0.6666666666666666,
              "#ed7953"
             ],
             [
              0.7777777777777778,
              "#fb9f3a"
             ],
             [
              0.8888888888888888,
              "#fdca26"
             ],
             [
              1,
              "#f0f921"
             ]
            ],
            "type": "heatmap"
           }
          ],
          "histogram": [
           {
            "marker": {
             "pattern": {
              "fillmode": "overlay",
              "size": 10,
              "solidity": 0.2
             }
            },
            "type": "histogram"
           }
          ],
          "histogram2d": [
           {
            "colorbar": {
             "outlinewidth": 0,
             "ticks": ""
            },
            "colorscale": [
             [
              0,
              "#0d0887"
             ],
             [
              0.1111111111111111,
              "#46039f"
             ],
             [
              0.2222222222222222,
              "#7201a8"
             ],
             [
              0.3333333333333333,
              "#9c179e"
             ],
             [
              0.4444444444444444,
              "#bd3786"
             ],
             [
              0.5555555555555556,
              "#d8576b"
             ],
             [
              0.6666666666666666,
              "#ed7953"
             ],
             [
              0.7777777777777778,
              "#fb9f3a"
             ],
             [
              0.8888888888888888,
              "#fdca26"
             ],
             [
              1,
              "#f0f921"
             ]
            ],
            "type": "histogram2d"
           }
          ],
          "histogram2dcontour": [
           {
            "colorbar": {
             "outlinewidth": 0,
             "ticks": ""
            },
            "colorscale": [
             [
              0,
              "#0d0887"
             ],
             [
              0.1111111111111111,
              "#46039f"
             ],
             [
              0.2222222222222222,
              "#7201a8"
             ],
             [
              0.3333333333333333,
              "#9c179e"
             ],
             [
              0.4444444444444444,
              "#bd3786"
             ],
             [
              0.5555555555555556,
              "#d8576b"
             ],
             [
              0.6666666666666666,
              "#ed7953"
             ],
             [
              0.7777777777777778,
              "#fb9f3a"
             ],
             [
              0.8888888888888888,
              "#fdca26"
             ],
             [
              1,
              "#f0f921"
             ]
            ],
            "type": "histogram2dcontour"
           }
          ],
          "mesh3d": [
           {
            "colorbar": {
             "outlinewidth": 0,
             "ticks": ""
            },
            "type": "mesh3d"
           }
          ],
          "parcoords": [
           {
            "line": {
             "colorbar": {
              "outlinewidth": 0,
              "ticks": ""
             }
            },
            "type": "parcoords"
           }
          ],
          "pie": [
           {
            "automargin": true,
            "type": "pie"
           }
          ],
          "scatter": [
           {
            "fillpattern": {
             "fillmode": "overlay",
             "size": 10,
             "solidity": 0.2
            },
            "type": "scatter"
           }
          ],
          "scatter3d": [
           {
            "line": {
             "colorbar": {
              "outlinewidth": 0,
              "ticks": ""
             }
            },
            "marker": {
             "colorbar": {
              "outlinewidth": 0,
              "ticks": ""
             }
            },
            "type": "scatter3d"
           }
          ],
          "scattercarpet": [
           {
            "marker": {
             "colorbar": {
              "outlinewidth": 0,
              "ticks": ""
             }
            },
            "type": "scattercarpet"
           }
          ],
          "scattergeo": [
           {
            "marker": {
             "colorbar": {
              "outlinewidth": 0,
              "ticks": ""
             }
            },
            "type": "scattergeo"
           }
          ],
          "scattergl": [
           {
            "marker": {
             "colorbar": {
              "outlinewidth": 0,
              "ticks": ""
             }
            },
            "type": "scattergl"
           }
          ],
          "scattermap": [
           {
            "marker": {
             "colorbar": {
              "outlinewidth": 0,
              "ticks": ""
             }
            },
            "type": "scattermap"
           }
          ],
          "scattermapbox": [
           {
            "marker": {
             "colorbar": {
              "outlinewidth": 0,
              "ticks": ""
             }
            },
            "type": "scattermapbox"
           }
          ],
          "scatterpolar": [
           {
            "marker": {
             "colorbar": {
              "outlinewidth": 0,
              "ticks": ""
             }
            },
            "type": "scatterpolar"
           }
          ],
          "scatterpolargl": [
           {
            "marker": {
             "colorbar": {
              "outlinewidth": 0,
              "ticks": ""
             }
            },
            "type": "scatterpolargl"
           }
          ],
          "scatterternary": [
           {
            "marker": {
             "colorbar": {
              "outlinewidth": 0,
              "ticks": ""
             }
            },
            "type": "scatterternary"
           }
          ],
          "surface": [
           {
            "colorbar": {
             "outlinewidth": 0,
             "ticks": ""
            },
            "colorscale": [
             [
              0,
              "#0d0887"
             ],
             [
              0.1111111111111111,
              "#46039f"
             ],
             [
              0.2222222222222222,
              "#7201a8"
             ],
             [
              0.3333333333333333,
              "#9c179e"
             ],
             [
              0.4444444444444444,
              "#bd3786"
             ],
             [
              0.5555555555555556,
              "#d8576b"
             ],
             [
              0.6666666666666666,
              "#ed7953"
             ],
             [
              0.7777777777777778,
              "#fb9f3a"
             ],
             [
              0.8888888888888888,
              "#fdca26"
             ],
             [
              1,
              "#f0f921"
             ]
            ],
            "type": "surface"
           }
          ],
          "table": [
           {
            "cells": {
             "fill": {
              "color": "#EBF0F8"
             },
             "line": {
              "color": "white"
             }
            },
            "header": {
             "fill": {
              "color": "#C8D4E3"
             },
             "line": {
              "color": "white"
             }
            },
            "type": "table"
           }
          ]
         },
         "layout": {
          "annotationdefaults": {
           "arrowcolor": "#2a3f5f",
           "arrowhead": 0,
           "arrowwidth": 1
          },
          "autotypenumbers": "strict",
          "coloraxis": {
           "colorbar": {
            "outlinewidth": 0,
            "ticks": ""
           }
          },
          "colorscale": {
           "diverging": [
            [
             0,
             "#8e0152"
            ],
            [
             0.1,
             "#c51b7d"
            ],
            [
             0.2,
             "#de77ae"
            ],
            [
             0.3,
             "#f1b6da"
            ],
            [
             0.4,
             "#fde0ef"
            ],
            [
             0.5,
             "#f7f7f7"
            ],
            [
             0.6,
             "#e6f5d0"
            ],
            [
             0.7,
             "#b8e186"
            ],
            [
             0.8,
             "#7fbc41"
            ],
            [
             0.9,
             "#4d9221"
            ],
            [
             1,
             "#276419"
            ]
           ],
           "sequential": [
            [
             0,
             "#0d0887"
            ],
            [
             0.1111111111111111,
             "#46039f"
            ],
            [
             0.2222222222222222,
             "#7201a8"
            ],
            [
             0.3333333333333333,
             "#9c179e"
            ],
            [
             0.4444444444444444,
             "#bd3786"
            ],
            [
             0.5555555555555556,
             "#d8576b"
            ],
            [
             0.6666666666666666,
             "#ed7953"
            ],
            [
             0.7777777777777778,
             "#fb9f3a"
            ],
            [
             0.8888888888888888,
             "#fdca26"
            ],
            [
             1,
             "#f0f921"
            ]
           ],
           "sequentialminus": [
            [
             0,
             "#0d0887"
            ],
            [
             0.1111111111111111,
             "#46039f"
            ],
            [
             0.2222222222222222,
             "#7201a8"
            ],
            [
             0.3333333333333333,
             "#9c179e"
            ],
            [
             0.4444444444444444,
             "#bd3786"
            ],
            [
             0.5555555555555556,
             "#d8576b"
            ],
            [
             0.6666666666666666,
             "#ed7953"
            ],
            [
             0.7777777777777778,
             "#fb9f3a"
            ],
            [
             0.8888888888888888,
             "#fdca26"
            ],
            [
             1,
             "#f0f921"
            ]
           ]
          },
          "colorway": [
           "#636efa",
           "#EF553B",
           "#00cc96",
           "#ab63fa",
           "#FFA15A",
           "#19d3f3",
           "#FF6692",
           "#B6E880",
           "#FF97FF",
           "#FECB52"
          ],
          "font": {
           "color": "#2a3f5f"
          },
          "geo": {
           "bgcolor": "white",
           "lakecolor": "white",
           "landcolor": "#E5ECF6",
           "showlakes": true,
           "showland": true,
           "subunitcolor": "white"
          },
          "hoverlabel": {
           "align": "left"
          },
          "hovermode": "closest",
          "mapbox": {
           "style": "light"
          },
          "paper_bgcolor": "white",
          "plot_bgcolor": "#E5ECF6",
          "polar": {
           "angularaxis": {
            "gridcolor": "white",
            "linecolor": "white",
            "ticks": ""
           },
           "bgcolor": "#E5ECF6",
           "radialaxis": {
            "gridcolor": "white",
            "linecolor": "white",
            "ticks": ""
           }
          },
          "scene": {
           "xaxis": {
            "backgroundcolor": "#E5ECF6",
            "gridcolor": "white",
            "gridwidth": 2,
            "linecolor": "white",
            "showbackground": true,
            "ticks": "",
            "zerolinecolor": "white"
           },
           "yaxis": {
            "backgroundcolor": "#E5ECF6",
            "gridcolor": "white",
            "gridwidth": 2,
            "linecolor": "white",
            "showbackground": true,
            "ticks": "",
            "zerolinecolor": "white"
           },
           "zaxis": {
            "backgroundcolor": "#E5ECF6",
            "gridcolor": "white",
            "gridwidth": 2,
            "linecolor": "white",
            "showbackground": true,
            "ticks": "",
            "zerolinecolor": "white"
           }
          },
          "shapedefaults": {
           "line": {
            "color": "#2a3f5f"
           }
          },
          "ternary": {
           "aaxis": {
            "gridcolor": "white",
            "linecolor": "white",
            "ticks": ""
           },
           "baxis": {
            "gridcolor": "white",
            "linecolor": "white",
            "ticks": ""
           },
           "bgcolor": "#E5ECF6",
           "caxis": {
            "gridcolor": "white",
            "linecolor": "white",
            "ticks": ""
           }
          },
          "title": {
           "x": 0.05
          },
          "xaxis": {
           "automargin": true,
           "gridcolor": "white",
           "linecolor": "white",
           "ticks": "",
           "title": {
            "standoff": 15
           },
           "zerolinecolor": "white",
           "zerolinewidth": 2
          },
          "yaxis": {
           "automargin": true,
           "gridcolor": "white",
           "linecolor": "white",
           "ticks": "",
           "title": {
            "standoff": 15
           },
           "zerolinecolor": "white",
           "zerolinewidth": 2
          }
         }
        },
        "title": {
         "text": "Acquisition Price by Year"
        },
        "width": 600,
        "xaxis": {
         "anchor": "y",
         "domain": [
          0,
          1
         ],
         "title": {
          "text": "Year Founded"
         }
        },
        "yaxis": {
         "anchor": "x",
         "domain": [
          0,
          1
         ],
         "title": {
          "text": "Price"
         }
        }
       }
      }
     },
     "metadata": {},
     "output_type": "display_data"
    }
   ],
   "source": [
    "fig = px.scatter(\n",
    "    acquired,\n",
    "    x=\"Year Founded\",\n",
    "    y=\"Price\",\n",
    "    title=\"Acquisition Price by Year\",\n",
    "    width=600,\n",
    "    height=400,\n",
    ")\n",
    "fig.show()"
   ]
  },
  {
   "cell_type": "code",
   "execution_count": 2102,
   "id": "4d3520d8",
   "metadata": {},
   "outputs": [
    {
     "data": {
      "text/plain": [
       "'5min Media is a syndication platform for lifestyle, knowledge and instructional videos.'"
      ]
     },
     "execution_count": 2102,
     "metadata": {},
     "output_type": "execute_result"
    }
   ],
   "source": [
    "acquired.iloc[12][\"Tagline\"]"
   ]
  },
  {
   "cell_type": "code",
   "execution_count": 2103,
   "id": "8075ae10",
   "metadata": {},
   "outputs": [
    {
     "name": "stdout",
     "output_type": "stream",
     "text": [
      "5min Media is the leading syndication platform for lifestyle, knowledge and instructional videos\n",
      "\n",
      " Reinventing the cable network online, 5min reaches engaged and targeted audiences of passionate consumers through its network of 100s of lifestyle and niche websites\n",
      "\n",
      " The 5min video library comprises more than 200,000 short-form videos from some of the world's largest media companies, as well as the most innovative independent producers\n",
      "\n",
      " Visit  for more information\n",
      "\n",
      "\n",
      "\n"
     ]
    }
   ],
   "source": [
    "for l in acquired.iloc[12][\"Description\"].split(\".\"):\n",
    "    print(l + \"\\n\")"
   ]
  },
  {
   "cell_type": "markdown",
   "id": "89dd18a0",
   "metadata": {},
   "source": [
    "* 'Tagline' contains a brief and precise description of the company , while the 'Description' is very long and doesn't provide any more important details, \n",
    "so we will drop the 'Description'"
   ]
  },
  {
   "cell_type": "code",
   "execution_count": 2104,
   "id": "8cb2916b",
   "metadata": {},
   "outputs": [],
   "source": [
    "acquiring = acquiring.drop(\"Description\", axis=1)\n",
    "acquired = acquired.drop(\"Description\", axis=1)"
   ]
  },
  {
   "cell_type": "markdown",
   "id": "6027168a",
   "metadata": {},
   "source": [
    "### There isn't any new useful information that we can get out of those , so we will drop them"
   ]
  },
  {
   "cell_type": "markdown",
   "id": "6a4f0dbe",
   "metadata": {},
   "source": [
    "* \"CrunchBase Profile\" and \"API\" columns are both on the crunchbase website , which uses captcha so we can't scrap it, and their API is paid , and the provided API key is invalid , so we can't use it\n",
    "\n",
    "* \"Homepage\" column contains the link to the website of every company , and they aren't all the same so we can't apply a function or a program to extract certain information about them. To use the link , this would require us to go over into each of them one by one , which isn't  feasible\n",
    "\n",
    "\n",
    "* \"Twitter\" column also can't be scraped according to their new policy , tried multiple APIs and libraries but none of them worked , even twitter's free tier API is useless\n",
    " \n",
    "\n",
    "* \"Acquisition ID\" is just used to link between files , and we can do that with the company's name\n"
   ]
  },
  {
   "cell_type": "code",
   "execution_count": 2105,
   "id": "c7522885",
   "metadata": {},
   "outputs": [],
   "source": [
    "acquired = acquired.drop([\"CrunchBase Profile\", \"Homepage\", \"Twitter\", \"API\"], axis=1)\n",
    "acquiring = acquiring.drop(\n",
    "    [\"CrunchBase Profile\", \"Homepage\", \"Twitter\", \"Acquisitions ID\", \"API\"], axis=1\n",
    ")\n",
    "founders = founders.drop(\"CrunchBase Profile\", axis=1)"
   ]
  },
  {
   "cell_type": "code",
   "execution_count": 2106,
   "id": "44c523bf",
   "metadata": {},
   "outputs": [],
   "source": [
    "acquired[\"Age on acquisition\"] = (\n",
    "    acquired[\"Year of acquisition announcement\"] - acquired[\"Year Founded\"]\n",
    ")"
   ]
  },
  {
   "cell_type": "code",
   "execution_count": 2107,
   "id": "52d65089",
   "metadata": {},
   "outputs": [],
   "source": [
    "acquired = acquired.drop([\"Year Founded\", \"Year of acquisition announcement\"], axis=1)"
   ]
  },
  {
   "cell_type": "markdown",
   "id": "19a046c4",
   "metadata": {},
   "source": [
    "All these columns are probably related to the target column , so we will keep them for now"
   ]
  },
  {
   "cell_type": "markdown",
   "id": "0bf0845e",
   "metadata": {},
   "source": [
    "Market categories contains multiple values , still not processed"
   ]
  },
  {
   "cell_type": "code",
   "execution_count": 2108,
   "id": "1f045247",
   "metadata": {},
   "outputs": [
    {
     "name": "stdout",
     "output_type": "stream",
     "text": [
      "<class 'pandas.core.frame.DataFrame'>\n",
      "RangeIndex: 310 entries, 0 to 309\n",
      "Data columns (total 10 columns):\n",
      " #   Column               Non-Null Count  Dtype  \n",
      "---  ------               --------------  -----  \n",
      " 0   Company              310 non-null    object \n",
      " 1   Tagline              307 non-null    object \n",
      " 2   Market Categories    287 non-null    object \n",
      " 3   City (HQ)            275 non-null    object \n",
      " 4   State / Region (HQ)  273 non-null    object \n",
      " 5   Country (HQ)         276 non-null    object \n",
      " 6   Acquired by          309 non-null    object \n",
      " 7   Acquisitions ID      310 non-null    object \n",
      " 8   Price                310 non-null    int64  \n",
      " 9   Age on acquisition   241 non-null    float64\n",
      "dtypes: float64(1), int64(1), object(8)\n",
      "memory usage: 24.3+ KB\n"
     ]
    }
   ],
   "source": [
    "acquired.info()"
   ]
  },
  {
   "cell_type": "markdown",
   "id": "1b323b26",
   "metadata": {},
   "source": [
    "Dropping 'year of last update' of the number of employees , because we don't need it directly and can't use it in any way to pridct the current number"
   ]
  },
  {
   "cell_type": "code",
   "execution_count": 2109,
   "id": "dd44cc39",
   "metadata": {},
   "outputs": [],
   "source": [
    "acquiring = acquiring.drop(\"Number of Employees (year of last update)\", axis=1)"
   ]
  },
  {
   "cell_type": "markdown",
   "id": "04272621",
   "metadata": {},
   "source": [
    "There are multiple 'NOT YET' in the IPO column , and the earliest the number the better it is , so we won't replace them with zero ,we will replace them with 2025 or anything larger"
   ]
  },
  {
   "cell_type": "code",
   "execution_count": 2110,
   "id": "4357bd65",
   "metadata": {},
   "outputs": [
    {
     "data": {
      "text/plain": [
       "IPO\n",
       "1986       4\n",
       "1978       4\n",
       "1983       2\n",
       "Not yet    2\n",
       "1990       2\n",
       "Name: count, dtype: int64"
      ]
     },
     "execution_count": 2110,
     "metadata": {},
     "output_type": "execute_result"
    }
   ],
   "source": [
    "acquiring[\"IPO\"].value_counts()[:5]"
   ]
  },
  {
   "cell_type": "code",
   "execution_count": 2111,
   "id": "63513465",
   "metadata": {},
   "outputs": [],
   "source": [
    "acquiring.loc[acquiring[\"IPO\"] == \"Not yet\", \"IPO\"] = 2025  # 2025 is debatable"
   ]
  },
  {
   "cell_type": "code",
   "execution_count": 2112,
   "id": "6625aba6",
   "metadata": {},
   "outputs": [],
   "source": [
    "acquiring[\"Number of Employees\"] = [\n",
    "    int(n.replace(\",\", \"\")) if type(n) != float else n\n",
    "    for n in acquiring[\"Number of Employees\"]\n",
    "]"
   ]
  },
  {
   "cell_type": "markdown",
   "id": "1020962a",
   "metadata": {},
   "source": [
    "Idea for acquiring companies: calculate the average price paid for all acquired companies"
   ]
  },
  {
   "cell_type": "markdown",
   "id": "455935d9",
   "metadata": {},
   "source": [
    "how to categorize multiple values in the same cell?"
   ]
  },
  {
   "cell_type": "code",
   "execution_count": 2113,
   "id": "1fb7e619",
   "metadata": {},
   "outputs": [
    {
     "data": {
      "text/plain": [
       "0    Photo Editing, Design, Creative, Software, Ima...\n",
       "1    Groceries, Consumer Goods, Crowdsourcing, E-Co...\n",
       "2    News, Advertising Platforms, Content Creators,...\n",
       "3    Computers, Consumer Electronics, Hardware + So...\n",
       "4                                               Mobile\n",
       "Name: Market Categories, dtype: object"
      ]
     },
     "execution_count": 2113,
     "metadata": {},
     "output_type": "execute_result"
    }
   ],
   "source": [
    "acquiring[\"Market Categories\"][:5]"
   ]
  },
  {
   "cell_type": "code",
   "execution_count": 2114,
   "id": "f18d972c",
   "metadata": {},
   "outputs": [],
   "source": [
    "acquiring = acquiring.astype(\n",
    "    {\n",
    "        \"IPO\": \"float\",\n",
    "    }\n",
    ")"
   ]
  },
  {
   "cell_type": "code",
   "execution_count": 2115,
   "id": "f1818b23",
   "metadata": {},
   "outputs": [],
   "source": [
    "flattened = [x for item in acquiring[\"Board Members\"].dropna() for x in item.split(\",\")]"
   ]
  },
  {
   "cell_type": "code",
   "execution_count": 2116,
   "id": "1b12f4b2",
   "metadata": {},
   "outputs": [
    {
     "data": {
      "text/plain": [
       "309"
      ]
     },
     "execution_count": 2116,
     "metadata": {},
     "output_type": "execute_result"
    }
   ],
   "source": [
    "pd.Series(flattened).nunique()"
   ]
  },
  {
   "cell_type": "code",
   "execution_count": 2117,
   "id": "f193527b",
   "metadata": {},
   "outputs": [
    {
     "data": {
      "text/plain": [
       "34"
      ]
     },
     "execution_count": 2117,
     "metadata": {},
     "output_type": "execute_result"
    }
   ],
   "source": [
    "len(np.intersect1d(founders[\"Name\"], flattened))"
   ]
  },
  {
   "cell_type": "markdown",
   "id": "6c035f15",
   "metadata": {},
   "source": [
    "Some of the board members are in the founders df , so we won't drop them for now"
   ]
  },
  {
   "cell_type": "code",
   "execution_count": 199,
   "id": "a1428ea3",
   "metadata": {},
   "outputs": [
    {
     "name": "stdout",
     "output_type": "stream",
     "text": [
      "<class 'pandas.core.frame.DataFrame'>\n",
      "RangeIndex: 36 entries, 0 to 35\n",
      "Data columns (total 14 columns):\n",
      " #   Column                  Non-Null Count  Dtype  \n",
      "---  ------                  --------------  -----  \n",
      " 0   Acquiring Company       36 non-null     object \n",
      " 1   Tagline                 36 non-null     object \n",
      " 2   Market Categories       36 non-null     object \n",
      " 3   Year Founded            36 non-null     int64  \n",
      " 4   IPO                     35 non-null     float64\n",
      " 5   Founders                36 non-null     object \n",
      " 6   Number of Employees     35 non-null     float64\n",
      " 7   Total Funding ($)       36 non-null     int64  \n",
      " 8   Number of Acquisitions  36 non-null     int64  \n",
      " 9   Board Members           34 non-null     object \n",
      " 10  City (HQ)               34 non-null     object \n",
      " 11  State / Region (HQ)     33 non-null     object \n",
      " 12  Country (HQ)            36 non-null     object \n",
      " 13  Acquired Companies      36 non-null     object \n",
      "dtypes: float64(2), int64(3), object(9)\n",
      "memory usage: 4.1+ KB\n"
     ]
    }
   ],
   "source": [
    "acquiring.info()"
   ]
  },
  {
   "cell_type": "code",
   "execution_count": 200,
   "id": "037f1e17",
   "metadata": {},
   "outputs": [
    {
     "data": {
      "text/plain": [
       "Companies\n",
       "Microsoft                 21\n",
       "IBM                       20\n",
       "Cisco Systems             17\n",
       "Verizon Communications    15\n",
       "Nokia                     15\n",
       "Name: count, dtype: int64"
      ]
     },
     "execution_count": 200,
     "metadata": {},
     "output_type": "execute_result"
    }
   ],
   "source": [
    "founders[\"Companies\"].value_counts()[:5]"
   ]
  },
  {
   "cell_type": "code",
   "execution_count": 201,
   "id": "1ce47e20",
   "metadata": {},
   "outputs": [
    {
     "data": {
      "text/plain": [
       "Role\n",
       "Board of Directors                    222\n",
       "Founder                                79\n",
       "Advisory Board                         72\n",
       "Board of Directors, Advisory Board      4\n",
       "Board Observer                          3\n",
       "Board of Directors, Founder             2\n",
       "Name: count, dtype: int64"
      ]
     },
     "execution_count": 201,
     "metadata": {},
     "output_type": "execute_result"
    }
   ],
   "source": [
    "founders[\"Role\"].value_counts()"
   ]
  },
  {
   "cell_type": "markdown",
   "id": "3a034baf",
   "metadata": {},
   "source": [
    "The image of the founder doesn't affect anything at all ... DROPPED"
   ]
  },
  {
   "cell_type": "code",
   "execution_count": 202,
   "id": "f645dbd5",
   "metadata": {},
   "outputs": [],
   "source": [
    "founders = founders.drop(\"Image\", axis=1)"
   ]
  },
  {
   "cell_type": "markdown",
   "id": "3b7cb322",
   "metadata": {},
   "source": [
    "Ready"
   ]
  },
  {
   "cell_type": "code",
   "execution_count": 2122,
   "id": "633ac301",
   "metadata": {},
   "outputs": [
    {
     "name": "stdout",
     "output_type": "stream",
     "text": [
      "<class 'pandas.core.frame.DataFrame'>\n",
      "RangeIndex: 382 entries, 0 to 381\n",
      "Data columns (total 3 columns):\n",
      " #   Column     Non-Null Count  Dtype \n",
      "---  ------     --------------  ----- \n",
      " 0   Name       382 non-null    object\n",
      " 1   Role       382 non-null    object\n",
      " 2   Companies  382 non-null    object\n",
      "dtypes: object(3)\n",
      "memory usage: 9.1+ KB\n"
     ]
    }
   ],
   "source": [
    "founders.info()"
   ]
  },
  {
   "cell_type": "markdown",
   "id": "f85dc4fe",
   "metadata": {},
   "source": [
    "* The specific date which the deal was announced on doesn't matter , what matters is the year so the model can know that inflation affects the price\n",
    "* The ID doesn't add any new info\n",
    "* The News and News link don't add any info or details about the acquisition"
   ]
  },
  {
   "cell_type": "code",
   "execution_count": 204,
   "id": "d38c7a51",
   "metadata": {},
   "outputs": [],
   "source": [
    "acquisitions = acquisitions.drop([\"Deal announced on\", \"News\", \"News Link\"], axis=1)"
   ]
  },
  {
   "cell_type": "code",
   "execution_count": 205,
   "id": "4b0b6a22",
   "metadata": {},
   "outputs": [
    {
     "data": {
      "text/plain": [
       "Status\n",
       "Undisclosed    310\n",
       "Complete        16\n",
       "Pending          9\n",
       "Name: count, dtype: int64"
      ]
     },
     "execution_count": 205,
     "metadata": {},
     "output_type": "execute_result"
    }
   ],
   "source": [
    "acquisitions[\"Status\"].value_counts()"
   ]
  },
  {
   "cell_type": "code",
   "execution_count": 206,
   "id": "a1c30d60",
   "metadata": {},
   "outputs": [
    {
     "data": {
      "text/plain": [
       "Terms\n",
       "Undisclosed    148\n",
       "Cash           128\n",
       "Cash, Stock     36\n",
       "Stock           24\n",
       "Name: count, dtype: int64"
      ]
     },
     "execution_count": 206,
     "metadata": {},
     "output_type": "execute_result"
    }
   ],
   "source": [
    "acquisitions[\"Terms\"].value_counts()"
   ]
  },
  {
   "cell_type": "code",
   "execution_count": 207,
   "id": "98cd74a7",
   "metadata": {},
   "outputs": [
    {
     "name": "stdout",
     "output_type": "stream",
     "text": [
      "<class 'pandas.core.frame.DataFrame'>\n",
      "RangeIndex: 336 entries, 0 to 335\n",
      "Data columns (total 7 columns):\n",
      " #   Column                            Non-Null Count  Dtype \n",
      "---  ------                            --------------  ----- \n",
      " 0   Acquisitions ID                   336 non-null    object\n",
      " 1   Acquired Company                  336 non-null    object\n",
      " 2   Acquiring Company                 336 non-null    object\n",
      " 3   Year of acquisition announcement  336 non-null    int64 \n",
      " 4   Price                             336 non-null    int64 \n",
      " 5   Status                            335 non-null    object\n",
      " 6   Terms                             336 non-null    object\n",
      "dtypes: int64(2), object(5)\n",
      "memory usage: 18.5+ KB\n"
     ]
    }
   ],
   "source": [
    "acquisitions.info()"
   ]
  },
  {
   "cell_type": "code",
   "execution_count": 208,
   "id": "0a039cd5",
   "metadata": {},
   "outputs": [],
   "source": [
    "df = acquired.copy()"
   ]
  },
  {
   "cell_type": "code",
   "execution_count": 209,
   "id": "ade2aefc",
   "metadata": {},
   "outputs": [],
   "source": [
    "renamed_columns = {}\n",
    "for col in acquiring.columns:\n",
    "    new_col = f\"{col} (Acquiring)\"\n",
    "    renamed_columns[col] = new_col\n",
    "\n",
    "acquiring = acquiring.rename(columns=renamed_columns)\n",
    "\n",
    "for col in acquiring.columns:\n",
    "    if col not in df.columns:\n",
    "        df[col] = None\n",
    "\n",
    "for i, row1 in df.iterrows():\n",
    "    for j, row2 in acquiring.iterrows():\n",
    "        if row1[\"Acquired by\"] == row2[\"Acquiring Company (Acquiring)\"]:\n",
    "            for col in acquiring.columns:\n",
    "                df.at[i, col] = row2[col]"
   ]
  },
  {
   "cell_type": "code",
   "execution_count": 210,
   "id": "88aaf846",
   "metadata": {},
   "outputs": [],
   "source": [
    "df = df.drop(\"Acquired by\", axis=1)  # delete a the duplicate column used for linking"
   ]
  },
  {
   "cell_type": "code",
   "execution_count": 211,
   "id": "0dbc50fe",
   "metadata": {},
   "outputs": [],
   "source": [
    "renamed_columns = {}\n",
    "for col in acquisitions.columns:\n",
    "    new_col = f\"{col} (Acquisitions)\"\n",
    "    renamed_columns[col] = new_col\n",
    "\n",
    "acquisitions = acquisitions.rename(columns=renamed_columns)\n",
    "\n",
    "for col in acquisitions.columns:\n",
    "    if col not in df.columns:\n",
    "        df[col] = None\n",
    "\n",
    "for i, row1 in df.iterrows():\n",
    "    for j, row2 in acquisitions.iterrows():\n",
    "        if row1[\"Acquisitions ID\"] == row2[\"Acquisitions ID (Acquisitions)\"]:\n",
    "            for col in acquisitions.columns:\n",
    "                df.at[i, col] = row2[col]"
   ]
  },
  {
   "cell_type": "markdown",
   "id": "c76db525",
   "metadata": {},
   "source": [
    "Delete duplicate columns , and already used columns"
   ]
  },
  {
   "cell_type": "code",
   "execution_count": 2374,
   "id": "7e0477c9",
   "metadata": {},
   "outputs": [
    {
     "data": {
      "text/html": [
       "<div>\n",
       "<style scoped>\n",
       "    .dataframe tbody tr th:only-of-type {\n",
       "        vertical-align: middle;\n",
       "    }\n",
       "\n",
       "    .dataframe tbody tr th {\n",
       "        vertical-align: top;\n",
       "    }\n",
       "\n",
       "    .dataframe thead th {\n",
       "        text-align: right;\n",
       "    }\n",
       "</style>\n",
       "<table border=\"1\" class=\"dataframe\">\n",
       "  <thead>\n",
       "    <tr style=\"text-align: right;\">\n",
       "      <th></th>\n",
       "      <th>Company</th>\n",
       "      <th>Tagline</th>\n",
       "      <th>Market Categories</th>\n",
       "      <th>City (HQ)</th>\n",
       "      <th>State / Region (HQ)</th>\n",
       "      <th>Country (HQ)</th>\n",
       "      <th>Acquisitions ID</th>\n",
       "      <th>Price</th>\n",
       "      <th>Age on acquisition</th>\n",
       "      <th>Acquiring Company (Acquiring)</th>\n",
       "      <th>...</th>\n",
       "      <th>State / Region (HQ) (Acquiring)</th>\n",
       "      <th>Country (HQ) (Acquiring)</th>\n",
       "      <th>Acquired Companies (Acquiring)</th>\n",
       "      <th>Acquisitions ID (Acquisitions)</th>\n",
       "      <th>Acquired Company (Acquisitions)</th>\n",
       "      <th>Acquiring Company (Acquisitions)</th>\n",
       "      <th>Year of acquisition announcement (Acquisitions)</th>\n",
       "      <th>Price (Acquisitions)</th>\n",
       "      <th>Status (Acquisitions)</th>\n",
       "      <th>Terms (Acquisitions)</th>\n",
       "    </tr>\n",
       "  </thead>\n",
       "  <tbody>\n",
       "    <tr>\n",
       "      <th>0</th>\n",
       "      <td>Day Software</td>\n",
       "      <td>Day Software develops web applications that al...</td>\n",
       "      <td>Software</td>\n",
       "      <td>Basel</td>\n",
       "      <td>Basel-Stadt</td>\n",
       "      <td>Switzerland</td>\n",
       "      <td>Adobe Systems acquired Day Software in 2010</td>\n",
       "      <td>240000000</td>\n",
       "      <td>NaN</td>\n",
       "      <td>Adobe</td>\n",
       "      <td>...</td>\n",
       "      <td>California</td>\n",
       "      <td>United States</td>\n",
       "      <td>Accelio Corporation, Aldus Corp, Amicima, Ares...</td>\n",
       "      <td>Adobe Systems acquired Day Software in 2010</td>\n",
       "      <td>Day Software</td>\n",
       "      <td>Adobe</td>\n",
       "      <td>2010</td>\n",
       "      <td>240000000</td>\n",
       "      <td>Undisclosed</td>\n",
       "      <td>Cash</td>\n",
       "    </tr>\n",
       "    <tr>\n",
       "      <th>1</th>\n",
       "      <td>Efficient Frontier</td>\n",
       "      <td>Efficient Frontier, an online performance and ...</td>\n",
       "      <td>Advertising</td>\n",
       "      <td>Sunnyvale</td>\n",
       "      <td>California</td>\n",
       "      <td>United States</td>\n",
       "      <td>Adobe Systems acquired Efficient Frontier in 2011</td>\n",
       "      <td>400000000</td>\n",
       "      <td>9.0</td>\n",
       "      <td>Adobe</td>\n",
       "      <td>...</td>\n",
       "      <td>California</td>\n",
       "      <td>United States</td>\n",
       "      <td>Accelio Corporation, Aldus Corp, Amicima, Ares...</td>\n",
       "      <td>Adobe Systems acquired Efficient Frontier in 2011</td>\n",
       "      <td>Efficient Frontier</td>\n",
       "      <td>Adobe</td>\n",
       "      <td>2011</td>\n",
       "      <td>400000000</td>\n",
       "      <td>Undisclosed</td>\n",
       "      <td>Undisclosed</td>\n",
       "    </tr>\n",
       "    <tr>\n",
       "      <th>2</th>\n",
       "      <td>Macromedia</td>\n",
       "      <td>Macromedia is a graphics and web development s...</td>\n",
       "      <td>Software</td>\n",
       "      <td>San Francisco</td>\n",
       "      <td>California</td>\n",
       "      <td>United States</td>\n",
       "      <td>Adobe Systems acquired Macromedia in 2005</td>\n",
       "      <td>3400000000</td>\n",
       "      <td>13.0</td>\n",
       "      <td>Adobe</td>\n",
       "      <td>...</td>\n",
       "      <td>California</td>\n",
       "      <td>United States</td>\n",
       "      <td>Accelio Corporation, Aldus Corp, Amicima, Ares...</td>\n",
       "      <td>Adobe Systems acquired Macromedia in 2005</td>\n",
       "      <td>Macromedia</td>\n",
       "      <td>Adobe</td>\n",
       "      <td>2005</td>\n",
       "      <td>3400000000</td>\n",
       "      <td>Undisclosed</td>\n",
       "      <td>Stock</td>\n",
       "    </tr>\n",
       "  </tbody>\n",
       "</table>\n",
       "<p>3 rows × 30 columns</p>\n",
       "</div>"
      ],
      "text/plain": [
       "              Company                                            Tagline  \\\n",
       "0        Day Software  Day Software develops web applications that al...   \n",
       "1  Efficient Frontier  Efficient Frontier, an online performance and ...   \n",
       "2          Macromedia  Macromedia is a graphics and web development s...   \n",
       "\n",
       "  Market Categories      City (HQ) State / Region (HQ)   Country (HQ)  \\\n",
       "0          Software          Basel         Basel-Stadt    Switzerland   \n",
       "1       Advertising      Sunnyvale          California  United States   \n",
       "2          Software  San Francisco          California  United States   \n",
       "\n",
       "                                     Acquisitions ID       Price  \\\n",
       "0        Adobe Systems acquired Day Software in 2010   240000000   \n",
       "1  Adobe Systems acquired Efficient Frontier in 2011   400000000   \n",
       "2          Adobe Systems acquired Macromedia in 2005  3400000000   \n",
       "\n",
       "   Age on acquisition Acquiring Company (Acquiring)  ...  \\\n",
       "0                 NaN                         Adobe  ...   \n",
       "1                 9.0                         Adobe  ...   \n",
       "2                13.0                         Adobe  ...   \n",
       "\n",
       "  State / Region (HQ) (Acquiring) Country (HQ) (Acquiring)  \\\n",
       "0                      California            United States   \n",
       "1                      California            United States   \n",
       "2                      California            United States   \n",
       "\n",
       "                      Acquired Companies (Acquiring)  \\\n",
       "0  Accelio Corporation, Aldus Corp, Amicima, Ares...   \n",
       "1  Accelio Corporation, Aldus Corp, Amicima, Ares...   \n",
       "2  Accelio Corporation, Aldus Corp, Amicima, Ares...   \n",
       "\n",
       "                      Acquisitions ID (Acquisitions)  \\\n",
       "0        Adobe Systems acquired Day Software in 2010   \n",
       "1  Adobe Systems acquired Efficient Frontier in 2011   \n",
       "2          Adobe Systems acquired Macromedia in 2005   \n",
       "\n",
       "  Acquired Company (Acquisitions) Acquiring Company (Acquisitions)  \\\n",
       "0                    Day Software                            Adobe   \n",
       "1              Efficient Frontier                            Adobe   \n",
       "2                      Macromedia                            Adobe   \n",
       "\n",
       "  Year of acquisition announcement (Acquisitions) Price (Acquisitions)  \\\n",
       "0                                            2010            240000000   \n",
       "1                                            2011            400000000   \n",
       "2                                            2005           3400000000   \n",
       "\n",
       "  Status (Acquisitions) Terms (Acquisitions)  \n",
       "0           Undisclosed                 Cash  \n",
       "1           Undisclosed          Undisclosed  \n",
       "2           Undisclosed                Stock  \n",
       "\n",
       "[3 rows x 30 columns]"
      ]
     },
     "execution_count": 2374,
     "metadata": {},
     "output_type": "execute_result"
    }
   ],
   "source": [
    "df[:3]"
   ]
  },
  {
   "cell_type": "code",
   "execution_count": 2375,
   "id": "e07aefab",
   "metadata": {},
   "outputs": [],
   "source": [
    "df = df.drop(\n",
    "    [\n",
    "        \"Acquisitions ID\",\n",
    "        \"Acquiring Company (Acquisitions)\",\n",
    "        \"Acquired Company (Acquisitions)\",\n",
    "        \"Acquisitions ID (Acquisitions)\",\n",
    "        \"Price (Acquisitions)\",\n",
    "        \"Year of acquisition announcement (Acquisitions)\",\n",
    "    ],\n",
    "    axis=1,\n",
    ")"
   ]
  },
  {
   "cell_type": "code",
   "execution_count": 213,
   "id": "02ba203c",
   "metadata": {},
   "outputs": [
    {
     "data": {
      "text/plain": [
       "Company                                                                    Day Software\n",
       "Tagline                               Day Software develops web applications that al...\n",
       "Market Categories                                                              Software\n",
       "City (HQ)                                                                         Basel\n",
       "State / Region (HQ)                                                         Basel-Stadt\n",
       "Country (HQ)                                                                Switzerland\n",
       "Price                                                                         240000000\n",
       "Age on acquisition                                                                  NaN\n",
       "Acquiring Company (Acquiring)                                                     Adobe\n",
       "Tagline (Acquiring)                   Adobe is an American multinational computer so...\n",
       "Market Categories (Acquiring)         Photo Editing, Design, Creative, Software, Ima...\n",
       "Year Founded (Acquiring)                                                           1982\n",
       "IPO (Acquiring)                                                                  1986.0\n",
       "Founders (Acquiring)                                      John Warnock, Charles Geschke\n",
       "Number of Employees (Acquiring)                                                 11144.0\n",
       "Total Funding ($) (Acquiring)                                                         0\n",
       "Number of Acquisitions (Acquiring)                                                   38\n",
       "Board Members (Acquiring)                                                           NaN\n",
       "City (HQ) (Acquiring)                                                          San Jose\n",
       "State / Region (HQ) (Acquiring)                                              California\n",
       "Country (HQ) (Acquiring)                                                  United States\n",
       "Acquired Companies (Acquiring)        Accelio Corporation, Aldus Corp, Amicima, Ares...\n",
       "Status (Acquisitions)                                                       Undisclosed\n",
       "Terms (Acquisitions)                                                               Cash\n",
       "Name: 0, dtype: object"
      ]
     },
     "execution_count": 213,
     "metadata": {},
     "output_type": "execute_result"
    }
   ],
   "source": [
    "df.loc[0]"
   ]
  },
  {
   "cell_type": "code",
   "execution_count": 2133,
   "id": "4142c3b3",
   "metadata": {},
   "outputs": [
    {
     "data": {
      "text/html": [
       "<div>\n",
       "<style scoped>\n",
       "    .dataframe tbody tr th:only-of-type {\n",
       "        vertical-align: middle;\n",
       "    }\n",
       "\n",
       "    .dataframe tbody tr th {\n",
       "        vertical-align: top;\n",
       "    }\n",
       "\n",
       "    .dataframe thead th {\n",
       "        text-align: right;\n",
       "    }\n",
       "</style>\n",
       "<table border=\"1\" class=\"dataframe\">\n",
       "  <thead>\n",
       "    <tr style=\"text-align: right;\">\n",
       "      <th></th>\n",
       "      <th>Company</th>\n",
       "      <th>Tagline</th>\n",
       "      <th>Market Categories</th>\n",
       "      <th>City (HQ)</th>\n",
       "      <th>State / Region (HQ)</th>\n",
       "      <th>Country (HQ)</th>\n",
       "      <th>Price</th>\n",
       "      <th>Age on acquisition</th>\n",
       "      <th>Acquiring Company (Acquiring)</th>\n",
       "      <th>Tagline (Acquiring)</th>\n",
       "      <th>...</th>\n",
       "      <th>Number of Employees (Acquiring)</th>\n",
       "      <th>Total Funding ($) (Acquiring)</th>\n",
       "      <th>Number of Acquisitions (Acquiring)</th>\n",
       "      <th>Board Members (Acquiring)</th>\n",
       "      <th>City (HQ) (Acquiring)</th>\n",
       "      <th>State / Region (HQ) (Acquiring)</th>\n",
       "      <th>Country (HQ) (Acquiring)</th>\n",
       "      <th>Acquired Companies (Acquiring)</th>\n",
       "      <th>Status (Acquisitions)</th>\n",
       "      <th>Terms (Acquisitions)</th>\n",
       "    </tr>\n",
       "  </thead>\n",
       "  <tbody>\n",
       "    <tr>\n",
       "      <th>0</th>\n",
       "      <td>Day Software</td>\n",
       "      <td>Day Software develops web applications that al...</td>\n",
       "      <td>Software</td>\n",
       "      <td>Basel</td>\n",
       "      <td>Basel-Stadt</td>\n",
       "      <td>Switzerland</td>\n",
       "      <td>240000000</td>\n",
       "      <td>NaN</td>\n",
       "      <td>Adobe</td>\n",
       "      <td>Adobe is an American multinational computer so...</td>\n",
       "      <td>...</td>\n",
       "      <td>11144.0</td>\n",
       "      <td>0</td>\n",
       "      <td>38</td>\n",
       "      <td>NaN</td>\n",
       "      <td>San Jose</td>\n",
       "      <td>California</td>\n",
       "      <td>United States</td>\n",
       "      <td>Accelio Corporation, Aldus Corp, Amicima, Ares...</td>\n",
       "      <td>Undisclosed</td>\n",
       "      <td>Cash</td>\n",
       "    </tr>\n",
       "    <tr>\n",
       "      <th>1</th>\n",
       "      <td>Efficient Frontier</td>\n",
       "      <td>Efficient Frontier, an online performance and ...</td>\n",
       "      <td>Advertising</td>\n",
       "      <td>Sunnyvale</td>\n",
       "      <td>California</td>\n",
       "      <td>United States</td>\n",
       "      <td>400000000</td>\n",
       "      <td>9.0</td>\n",
       "      <td>Adobe</td>\n",
       "      <td>Adobe is an American multinational computer so...</td>\n",
       "      <td>...</td>\n",
       "      <td>11144.0</td>\n",
       "      <td>0</td>\n",
       "      <td>38</td>\n",
       "      <td>NaN</td>\n",
       "      <td>San Jose</td>\n",
       "      <td>California</td>\n",
       "      <td>United States</td>\n",
       "      <td>Accelio Corporation, Aldus Corp, Amicima, Ares...</td>\n",
       "      <td>Undisclosed</td>\n",
       "      <td>Undisclosed</td>\n",
       "    </tr>\n",
       "    <tr>\n",
       "      <th>2</th>\n",
       "      <td>Macromedia</td>\n",
       "      <td>Macromedia is a graphics and web development s...</td>\n",
       "      <td>Software</td>\n",
       "      <td>San Francisco</td>\n",
       "      <td>California</td>\n",
       "      <td>United States</td>\n",
       "      <td>3400000000</td>\n",
       "      <td>13.0</td>\n",
       "      <td>Adobe</td>\n",
       "      <td>Adobe is an American multinational computer so...</td>\n",
       "      <td>...</td>\n",
       "      <td>11144.0</td>\n",
       "      <td>0</td>\n",
       "      <td>38</td>\n",
       "      <td>NaN</td>\n",
       "      <td>San Jose</td>\n",
       "      <td>California</td>\n",
       "      <td>United States</td>\n",
       "      <td>Accelio Corporation, Aldus Corp, Amicima, Ares...</td>\n",
       "      <td>Undisclosed</td>\n",
       "      <td>Stock</td>\n",
       "    </tr>\n",
       "    <tr>\n",
       "      <th>3</th>\n",
       "      <td>Neolane</td>\n",
       "      <td>Neolane is a marketing technology provider dev...</td>\n",
       "      <td>Software</td>\n",
       "      <td>Arcueil</td>\n",
       "      <td>Ile-de-France</td>\n",
       "      <td>France</td>\n",
       "      <td>600000000</td>\n",
       "      <td>12.0</td>\n",
       "      <td>Adobe</td>\n",
       "      <td>Adobe is an American multinational computer so...</td>\n",
       "      <td>...</td>\n",
       "      <td>11144.0</td>\n",
       "      <td>0</td>\n",
       "      <td>38</td>\n",
       "      <td>NaN</td>\n",
       "      <td>San Jose</td>\n",
       "      <td>California</td>\n",
       "      <td>United States</td>\n",
       "      <td>Accelio Corporation, Aldus Corp, Amicima, Ares...</td>\n",
       "      <td>Undisclosed</td>\n",
       "      <td>Undisclosed</td>\n",
       "    </tr>\n",
       "    <tr>\n",
       "      <th>4</th>\n",
       "      <td>Omniture</td>\n",
       "      <td>Omniture is an online marketing and web analyt...</td>\n",
       "      <td>Software, Advertising</td>\n",
       "      <td>Orem</td>\n",
       "      <td>Utah</td>\n",
       "      <td>United States</td>\n",
       "      <td>1800000000</td>\n",
       "      <td>13.0</td>\n",
       "      <td>Adobe</td>\n",
       "      <td>Adobe is an American multinational computer so...</td>\n",
       "      <td>...</td>\n",
       "      <td>11144.0</td>\n",
       "      <td>0</td>\n",
       "      <td>38</td>\n",
       "      <td>NaN</td>\n",
       "      <td>San Jose</td>\n",
       "      <td>California</td>\n",
       "      <td>United States</td>\n",
       "      <td>Accelio Corporation, Aldus Corp, Amicima, Ares...</td>\n",
       "      <td>Undisclosed</td>\n",
       "      <td>Stock</td>\n",
       "    </tr>\n",
       "  </tbody>\n",
       "</table>\n",
       "<p>5 rows × 24 columns</p>\n",
       "</div>"
      ],
      "text/plain": [
       "              Company                                            Tagline  \\\n",
       "0        Day Software  Day Software develops web applications that al...   \n",
       "1  Efficient Frontier  Efficient Frontier, an online performance and ...   \n",
       "2          Macromedia  Macromedia is a graphics and web development s...   \n",
       "3             Neolane  Neolane is a marketing technology provider dev...   \n",
       "4            Omniture  Omniture is an online marketing and web analyt...   \n",
       "\n",
       "       Market Categories      City (HQ) State / Region (HQ)   Country (HQ)  \\\n",
       "0               Software          Basel         Basel-Stadt    Switzerland   \n",
       "1            Advertising      Sunnyvale          California  United States   \n",
       "2               Software  San Francisco          California  United States   \n",
       "3               Software        Arcueil       Ile-de-France         France   \n",
       "4  Software, Advertising           Orem                Utah  United States   \n",
       "\n",
       "        Price  Age on acquisition Acquiring Company (Acquiring)  \\\n",
       "0   240000000                 NaN                         Adobe   \n",
       "1   400000000                 9.0                         Adobe   \n",
       "2  3400000000                13.0                         Adobe   \n",
       "3   600000000                12.0                         Adobe   \n",
       "4  1800000000                13.0                         Adobe   \n",
       "\n",
       "                                 Tagline (Acquiring)  ...  \\\n",
       "0  Adobe is an American multinational computer so...  ...   \n",
       "1  Adobe is an American multinational computer so...  ...   \n",
       "2  Adobe is an American multinational computer so...  ...   \n",
       "3  Adobe is an American multinational computer so...  ...   \n",
       "4  Adobe is an American multinational computer so...  ...   \n",
       "\n",
       "  Number of Employees (Acquiring) Total Funding ($) (Acquiring)  \\\n",
       "0                         11144.0                             0   \n",
       "1                         11144.0                             0   \n",
       "2                         11144.0                             0   \n",
       "3                         11144.0                             0   \n",
       "4                         11144.0                             0   \n",
       "\n",
       "  Number of Acquisitions (Acquiring) Board Members (Acquiring)  \\\n",
       "0                                 38                       NaN   \n",
       "1                                 38                       NaN   \n",
       "2                                 38                       NaN   \n",
       "3                                 38                       NaN   \n",
       "4                                 38                       NaN   \n",
       "\n",
       "  City (HQ) (Acquiring) State / Region (HQ) (Acquiring)  \\\n",
       "0              San Jose                      California   \n",
       "1              San Jose                      California   \n",
       "2              San Jose                      California   \n",
       "3              San Jose                      California   \n",
       "4              San Jose                      California   \n",
       "\n",
       "  Country (HQ) (Acquiring)                     Acquired Companies (Acquiring)  \\\n",
       "0            United States  Accelio Corporation, Aldus Corp, Amicima, Ares...   \n",
       "1            United States  Accelio Corporation, Aldus Corp, Amicima, Ares...   \n",
       "2            United States  Accelio Corporation, Aldus Corp, Amicima, Ares...   \n",
       "3            United States  Accelio Corporation, Aldus Corp, Amicima, Ares...   \n",
       "4            United States  Accelio Corporation, Aldus Corp, Amicima, Ares...   \n",
       "\n",
       "  Status (Acquisitions) Terms (Acquisitions)  \n",
       "0           Undisclosed                 Cash  \n",
       "1           Undisclosed          Undisclosed  \n",
       "2           Undisclosed                Stock  \n",
       "3           Undisclosed          Undisclosed  \n",
       "4           Undisclosed                Stock  \n",
       "\n",
       "[5 rows x 24 columns]"
      ]
     },
     "execution_count": 2133,
     "metadata": {},
     "output_type": "execute_result"
    }
   ],
   "source": [
    "df.head()"
   ]
  },
  {
   "cell_type": "markdown",
   "id": "689687f7",
   "metadata": {},
   "source": [
    "renamed_columns = {}\n",
    "for col in founders.columns:\n",
    "    new_col = f\"{col} (Founders)\"\n",
    "    renamed_columns[col] = new_col\n",
    "\n",
    "founders = founders.rename(columns=renamed_columns)\n",
    "\n",
    "for col in founders.columns:\n",
    "    if col not in df.columns:\n",
    "        df[col] = None\n",
    "\n",
    "for j, row1 in founders.iterrows():\n",
    "    for i, row2 in df.iterrows():\n",
    "        if row1[\"Name (Founders)\"] in row2[\"Founders (Acquiring)\"]:\n",
    "            for col in founders.columns:\n",
    "                df.at[i, col] = row2[col]"
   ]
  },
  {
   "cell_type": "code",
   "execution_count": 2134,
   "id": "0fab817a",
   "metadata": {},
   "outputs": [
    {
     "name": "stdout",
     "output_type": "stream",
     "text": [
      "Country (HQ)\n",
      "United States              221\n",
      "Israel                      12\n",
      "Great Britain               11\n",
      "Canada                       6\n",
      "Japan                        5\n",
      "Switzerland                  3\n",
      "Sweden                       3\n",
      "Germany                      3\n",
      "Denmark                      2\n",
      "Australia                    2\n",
      "Spain                        2\n",
      "France                       1\n",
      "China                        1\n",
      "Finland                      1\n",
      "Ireland                      1\n",
      "United Stats of AMerica      1\n",
      "United Arab Emirates         1\n",
      "Name: count, dtype: int64\n"
     ]
    }
   ],
   "source": [
    "print(df['Country (HQ)'].value_counts())\n"
   ]
  },
  {
   "cell_type": "code",
   "execution_count": 2135,
   "id": "e11b6eb4",
   "metadata": {},
   "outputs": [],
   "source": [
    "df['Country (HQ)'] = df['Country (HQ)'].replace('United Stats of AMerica', 'United States')\n"
   ]
  },
  {
   "cell_type": "code",
   "execution_count": 2136,
   "id": "6599b863",
   "metadata": {},
   "outputs": [],
   "source": [
    "counts = df['Country (HQ)'].value_counts()\n",
    "rare_countries = counts[counts < 3].index\n",
    "df['Country (HQ)'] = df['Country (HQ)'].replace(rare_countries, 'Other')\n"
   ]
  },
  {
   "cell_type": "markdown",
   "id": "f6277721",
   "metadata": {},
   "source": [
    "### Spliting each multi-valued category to an array of categories"
   ]
  },
  {
   "cell_type": "code",
   "execution_count": 2377,
   "id": "24f7be6d",
   "metadata": {},
   "outputs": [],
   "source": [
    "def mergeDfColumns(df : pd.DataFrame, columns: [str]):\n",
    "    newCol = []\n",
    "    for column in columns:\n",
    "        newCol = [*newCol,*df[column].dropna().tolist()]\n",
    "    return newCol"
   ]
  },
  {
   "cell_type": "code",
   "execution_count": 2378,
   "id": "25908bec",
   "metadata": {},
   "outputs": [],
   "source": [
    "def SplitMultiValuedColumn(column):\n",
    "    c = []\n",
    "    for values in column:\n",
    "        if type(values) == str:\n",
    "            c.append([ value.strip() if type(value) == str else values for value in values.split(',') ])\n",
    "        else:\n",
    "            c.append(values)\n",
    "    return c"
   ]
  },
  {
   "cell_type": "code",
   "execution_count": 215,
   "id": "e90a01b1",
   "metadata": {},
   "outputs": [],
   "source": [
    "def getUniqueLabels(column):\n",
    "    uniqueLabels = set([])\n",
    "    for labels in column:\n",
    "        for label in labels:\n",
    "            uniqueLabels.add(label)\n",
    "    return np.ravel(list(uniqueLabels))"
   ]
  },
  {
   "cell_type": "code",
   "execution_count": 216,
   "id": "0f054f36",
   "metadata": {},
   "outputs": [],
   "source": [
    "def encodeMultiValuedCategory(df, label: str, categories=[]):\n",
    "    le = preprocessing.LabelEncoder()\n",
    "    df[label] = SplitMultiValuedColumn(df[label])\n",
    "    if len(categories) == 0:\n",
    "        categories = getUniqueLabels(df[label].dropna())\n",
    "    le.fit(categories)\n",
    "    df[label] = [le.transform(values) if type(values) == list else values for values in df[label]]\n",
    "    return le.classes_"
   ]
  },
  {
   "cell_type": "code",
   "execution_count": 217,
   "id": "4184203f",
   "metadata": {},
   "outputs": [],
   "source": [
    "def encodeCategory(df, label: str, categories=[]):\n",
    "    nonNullIndex = df[label].notna()\n",
    "\n",
    "    le = preprocessing.LabelEncoder()\n",
    "    if len(categories) == 0:\n",
    "        categories = df.loc[nonNullIndex, label]\n",
    "\n",
    "    le.fit(categories)\n",
    "    df.loc[nonNullIndex, label] = le.transform(df.loc[nonNullIndex, label])\n",
    "    return le.classes_"
   ]
  },
  {
   "cell_type": "code",
   "execution_count": 218,
   "id": "bbfb9381",
   "metadata": {},
   "outputs": [],
   "source": [
    "def FindMultiValuedColumns(df):\n",
    "    cols = []\n",
    "    for col in df.columns:\n",
    "        try:  # To skip numeric columns\n",
    "            if (\n",
    "                len(\n",
    "                    [\n",
    "                        value\n",
    "                        for value in df[col].dropna().values\n",
    "                        if len(value.split(\",\")) > 1\n",
    "                    ]\n",
    "                )\n",
    "                > 1\n",
    "            ):\n",
    "                cols.append(col)\n",
    "        except:\n",
    "            pass\n",
    "    return cols"
   ]
  },
  {
   "cell_type": "code",
   "execution_count": 219,
   "id": "540c2812",
   "metadata": {},
   "outputs": [
    {
     "data": {
      "text/plain": [
       "['Tagline',\n",
       " 'Market Categories',\n",
       " 'Tagline (Acquiring)',\n",
       " 'Market Categories (Acquiring)',\n",
       " 'Founders (Acquiring)',\n",
       " 'Board Members (Acquiring)',\n",
       " 'Acquired Companies (Acquiring)',\n",
       " 'Terms (Acquisitions)']"
      ]
     },
     "execution_count": 219,
     "metadata": {},
     "output_type": "execute_result"
    }
   ],
   "source": [
    "FindMultiValuedColumns(df)"
   ]
  },
  {
   "cell_type": "code",
   "execution_count": 220,
   "id": "77914a3e",
   "metadata": {},
   "outputs": [],
   "source": [
    "encoded = np.intersect1d(df.columns, FindMultiValuedColumns(df))"
   ]
  },
  {
   "cell_type": "code",
   "execution_count": 2385,
   "id": "a1d312b2",
   "metadata": {},
   "outputs": [
    {
     "data": {
      "text/plain": [
       "array(['Acquired Companies (Acquiring)', 'Board Members (Acquiring)',\n",
       "       'Founders (Acquiring)', 'Market Categories',\n",
       "       'Market Categories (Acquiring)', 'Tagline', 'Tagline (Acquiring)',\n",
       "       'Terms (Acquisitions)'], dtype=object)"
      ]
     },
     "execution_count": 2385,
     "metadata": {},
     "output_type": "execute_result"
    }
   ],
   "source": [
    "encoded"
   ]
  },
  {
   "cell_type": "code",
   "execution_count": 2386,
   "id": "ffc32aa2",
   "metadata": {},
   "outputs": [
    {
     "data": {
      "text/plain": [
       "Company                                                                    Day Software\n",
       "Tagline                               Day Software develops web applications that al...\n",
       "Market Categories                                                              Software\n",
       "City (HQ)                                                                         Basel\n",
       "State / Region (HQ)                                                         Basel-Stadt\n",
       "Country (HQ)                                                                Switzerland\n",
       "Price                                                                         240000000\n",
       "Age on acquisition                                                                  NaN\n",
       "Acquiring Company (Acquiring)                                                     Adobe\n",
       "Tagline (Acquiring)                   Adobe is an American multinational computer so...\n",
       "Market Categories (Acquiring)         Photo Editing, Design, Creative, Software, Ima...\n",
       "Year Founded (Acquiring)                                                           1982\n",
       "IPO (Acquiring)                                                                  1986.0\n",
       "Founders (Acquiring)                                      John Warnock, Charles Geschke\n",
       "Number of Employees (Acquiring)                                                 11144.0\n",
       "Total Funding ($) (Acquiring)                                                         0\n",
       "Number of Acquisitions (Acquiring)                                                   38\n",
       "Board Members (Acquiring)                                                           NaN\n",
       "City (HQ) (Acquiring)                                                          San Jose\n",
       "State / Region (HQ) (Acquiring)                                              California\n",
       "Country (HQ) (Acquiring)                                                  United States\n",
       "Acquired Companies (Acquiring)        Accelio Corporation, Aldus Corp, Amicima, Ares...\n",
       "Status (Acquisitions)                                                       Undisclosed\n",
       "Terms (Acquisitions)                                                               Cash\n",
       "Name: 0, dtype: object"
      ]
     },
     "execution_count": 2386,
     "metadata": {},
     "output_type": "execute_result"
    }
   ],
   "source": [
    "df.iloc[0]"
   ]
  },
  {
   "cell_type": "code",
   "execution_count": 2387,
   "id": "75e2bb7f",
   "metadata": {},
   "outputs": [
    {
     "name": "stdout",
     "output_type": "stream",
     "text": [
      "<class 'pandas.core.frame.DataFrame'>\n",
      "RangeIndex: 382 entries, 0 to 381\n",
      "Data columns (total 3 columns):\n",
      " #   Column     Non-Null Count  Dtype \n",
      "---  ------     --------------  ----- \n",
      " 0   Name       382 non-null    object\n",
      " 1   Role       382 non-null    object\n",
      " 2   Companies  382 non-null    object\n",
      "dtypes: object(3)\n",
      "memory usage: 9.1+ KB\n"
     ]
    }
   ],
   "source": [
    "founders.info()"
   ]
  },
  {
   "cell_type": "code",
   "execution_count": 2388,
   "id": "6a3fca79",
   "metadata": {},
   "outputs": [],
   "source": [
    "sharedColumns = [\n",
    "    [\n",
    "        False,\n",
    "        \"City (HQ)\",\n",
    "        \"City (HQ) (Acquiring)\",\n",
    "    ],\n",
    "    [\n",
    "        False,\n",
    "        \"Country (HQ)\",\n",
    "        \"Country (HQ) (Acquiring)\",\n",
    "    ],\n",
    "    [\n",
    "        False,\n",
    "        \"State / Region (HQ)\",\n",
    "        \"State / Region (HQ) (Acquiring)\",\n",
    "    ],\n",
    "    [ \n",
    "        True,\n",
    "        'Market Categories',\n",
    "        'Market Categories (Acquiring)',\n",
    "    ],\n",
    "]"
   ]
  },
  {
   "cell_type": "code",
   "execution_count": 2389,
   "id": "2ad4ae45",
   "metadata": {},
   "outputs": [
    {
     "name": "stdout",
     "output_type": "stream",
     "text": [
      "City (HQ)\n",
      "['Carrollton' 'Montréal' 'Menlo Park' 'Toronto' 'Seattle' 'Mountain View'\n",
      " 'Kfar Saba' 'Højbjerg' 'Ottawa' 'Fremont' 'Lowell' 'Geneva' 'Denver'\n",
      " 'Redmond' 'Piscataway' 'Stockholm' 'Miamisburg' 'Dresden' 'Malmö' 'Plano'\n",
      " 'Brooklyn' 'Shanghai' 'Halifax' 'Reading' 'Irving' 'Hertzelia Pituah'\n",
      " 'Wayne' 'Bellevue' 'Usa' 'Austin' 'Gloucester' 'Tokyo' 'Basel' 'Arcueil'\n",
      " 'San Francisco' 'Islandia' 'Boston' 'Vernon' 'Palo Alto' \"Ra'anana\"\n",
      " 'Redwood City' 'Cupertino' 'Potomac Falls' 'Boulder' 'Neubiberg' 'Dublin'\n",
      " 'Waterloo' 'Tagerwilen' 'Aliso Viejo' 'Philadelphia' 'Wilmington'\n",
      " 'Fort Lee' 'Indianapolis' 'Bet Shemesh' 'Herzliya Pituach' 'Washington'\n",
      " 'Alameda' 'Jersey City' 'Copenhagen' 'Caesarea' 'Fredericton' 'Cambridge'\n",
      " 'Deerfield' 'Armonk' 'Sunnyvale' 'Newark' 'Belfast' 'Thousand Oaks'\n",
      " 'San Diego' 'Whippany' 'Middleton' 'Santa Clara' 'Markham' 'Helsinki'\n",
      " 'Round Rock' 'Waltham' 'Pleasant Grove' 'Finnmark' 'Brentwood' 'Milpitas'\n",
      " 'Salt Lake City' 'Atlanta' 'Santa Monica' 'Atherton' 'Marina Del Rey'\n",
      " 'Brisbane' 'Orlando' 'Richardson' 'Dallas' 'Eden Prairie' 'Milwaukee'\n",
      " 'Dubai' 'San Jose' 'Chippendale' 'Nuremberg' 'New York City' 'Hopkinton'\n",
      " 'Tel Aviv' 'Lutherville Timonium' 'Orem' 'Los Angeles' 'Baltimore'\n",
      " 'Vienna' 'Marlborough' 'Irvine' 'Suwon' 'Lancaster' 'Foster City'\n",
      " 'San Carlos' 'San Mateo' 'Fort Wayne' 'Clifton Park' 'Chatswood'\n",
      " 'Torrance' 'San Bruno' 'Campbell' 'North Reading' 'Seville' 'Barcelona'\n",
      " 'Chicago' 'Herndon' 'Columbia' 'Seminole' 'Little Rock' 'London']\n",
      "['Alameda' 'Aliso Viejo' 'Arcueil' 'Armonk' 'Atherton' 'Atlanta' 'Austin'\n",
      " 'Baltimore' 'Barcelona' 'Basel' 'Belfast' 'Bellevue' 'Bet Shemesh'\n",
      " 'Boston' 'Boulder' 'Brentwood' 'Brisbane' 'Brooklyn' 'Caesarea'\n",
      " 'Cambridge' 'Campbell' 'Carrollton' 'Chatswood' 'Chicago' 'Chippendale'\n",
      " 'Clifton Park' 'Columbia' 'Copenhagen' 'Cupertino' 'Dallas' 'Deerfield'\n",
      " 'Denver' 'Dresden' 'Dubai' 'Dublin' 'Eden Prairie' 'Finnmark' 'Fort Lee'\n",
      " 'Fort Wayne' 'Foster City' 'Fredericton' 'Fremont' 'Geneva' 'Gloucester'\n",
      " 'Halifax' 'Helsinki' 'Herndon' 'Hertzelia Pituah' 'Herzliya Pituach'\n",
      " 'Hopkinton' 'Højbjerg' 'Indianapolis' 'Irvine' 'Irving' 'Islandia'\n",
      " 'Jersey City' 'Kfar Saba' 'Lancaster' 'Little Rock' 'London'\n",
      " 'Los Angeles' 'Lowell' 'Lutherville Timonium' 'Malmö' 'Marina Del Rey'\n",
      " 'Markham' 'Marlborough' 'Menlo Park' 'Miamisburg' 'Middleton' 'Milpitas'\n",
      " 'Milwaukee' 'Montréal' 'Mountain View' 'Neubiberg' 'New York City'\n",
      " 'Newark' 'North Reading' 'Nuremberg' 'Orem' 'Orlando' 'Ottawa'\n",
      " 'Palo Alto' 'Philadelphia' 'Piscataway' 'Plano' 'Pleasant Grove'\n",
      " 'Potomac Falls' \"Ra'anana\" 'Reading' 'Redmond' 'Redwood City'\n",
      " 'Richardson' 'Round Rock' 'Salt Lake City' 'San Bruno' 'San Carlos'\n",
      " 'San Diego' 'San Francisco' 'San Jose' 'San Mateo' 'Santa Clara'\n",
      " 'Santa Monica' 'Seattle' 'Seminole' 'Seville' 'Shanghai' 'Stockholm'\n",
      " 'Sunnyvale' 'Suwon' 'Tagerwilen' 'Tel Aviv' 'Thousand Oaks' 'Tokyo'\n",
      " 'Toronto' 'Torrance' 'Usa' 'Vernon' 'Vienna' 'Waltham' 'Washington'\n",
      " 'Waterloo' 'Wayne' 'Whippany' 'Wilmington']\n",
      "['Alameda' 'Aliso Viejo' 'Arcueil' 'Armonk' 'Atherton' 'Atlanta' 'Austin'\n",
      " 'Baltimore' 'Barcelona' 'Basel' 'Belfast' 'Bellevue' 'Bet Shemesh'\n",
      " 'Boston' 'Boulder' 'Brentwood' 'Brisbane' 'Brooklyn' 'Caesarea'\n",
      " 'Cambridge' 'Campbell' 'Carrollton' 'Chatswood' 'Chicago' 'Chippendale'\n",
      " 'Clifton Park' 'Columbia' 'Copenhagen' 'Cupertino' 'Dallas' 'Deerfield'\n",
      " 'Denver' 'Dresden' 'Dubai' 'Dublin' 'Eden Prairie' 'Finnmark' 'Fort Lee'\n",
      " 'Fort Wayne' 'Foster City' 'Fredericton' 'Fremont' 'Geneva' 'Gloucester'\n",
      " 'Halifax' 'Helsinki' 'Herndon' 'Hertzelia Pituah' 'Herzliya Pituach'\n",
      " 'Hopkinton' 'Højbjerg' 'Indianapolis' 'Irvine' 'Irving' 'Islandia'\n",
      " 'Jersey City' 'Kfar Saba' 'Lancaster' 'Little Rock' 'London'\n",
      " 'Los Angeles' 'Lowell' 'Lutherville Timonium' 'Malmö' 'Marina Del Rey'\n",
      " 'Markham' 'Marlborough' 'Menlo Park' 'Miamisburg' 'Middleton' 'Milpitas'\n",
      " 'Milwaukee' 'Montréal' 'Mountain View' 'Neubiberg' 'New York City'\n",
      " 'Newark' 'North Reading' 'Nuremberg' 'Orem' 'Orlando' 'Ottawa'\n",
      " 'Palo Alto' 'Philadelphia' 'Piscataway' 'Plano' 'Pleasant Grove'\n",
      " 'Potomac Falls' \"Ra'anana\" 'Reading' 'Redmond' 'Redwood City'\n",
      " 'Richardson' 'Round Rock' 'Salt Lake City' 'San Bruno' 'San Carlos'\n",
      " 'San Diego' 'San Francisco' 'San Jose' 'San Mateo' 'Santa Clara'\n",
      " 'Santa Monica' 'Seattle' 'Seminole' 'Seville' 'Shanghai' 'Stockholm'\n",
      " 'Sunnyvale' 'Suwon' 'Tagerwilen' 'Tel Aviv' 'Thousand Oaks' 'Tokyo'\n",
      " 'Toronto' 'Torrance' 'Usa' 'Vernon' 'Vienna' 'Waltham' 'Washington'\n",
      " 'Waterloo' 'Wayne' 'Whippany' 'Wilmington']\n",
      "Country (HQ)\n",
      "['United Kingdom' 'Great Britain' 'Denmark' 'South Korea' 'Australia'\n",
      " 'Japan' 'France' 'Ireland' 'Israel' 'Spain' 'United Stats of AMerica'\n",
      " 'China' 'Finland' 'United States' 'Sweden' 'Norway' 'Canada'\n",
      " 'Switzerland' 'Germany' 'United Arab Emirates']\n",
      "['Australia' 'Canada' 'China' 'Denmark' 'Finland' 'France' 'Germany'\n",
      " 'Great Britain' 'Ireland' 'Israel' 'Japan' 'Norway' 'South Korea' 'Spain'\n",
      " 'Sweden' 'Switzerland' 'United Arab Emirates' 'United Kingdom'\n",
      " 'United States' 'United Stats of AMerica']\n",
      "['Australia' 'Canada' 'China' 'Denmark' 'Finland' 'France' 'Germany'\n",
      " 'Great Britain' 'Ireland' 'Israel' 'Japan' 'Norway' 'South Korea' 'Spain'\n",
      " 'Sweden' 'Switzerland' 'United Arab Emirates' 'United Kingdom'\n",
      " 'United States' 'United Stats of AMerica']\n",
      "State / Region (HQ)\n",
      "['United Kingdom' 'Basel-Stadt' 'Skane Lan' 'Hovedstaden' 'Ontario'\n",
      " 'Quebec' 'Virginia' 'Geneve' 'Belfast' 'Zhejiang' 'New South Wales'\n",
      " 'District of Columbia' 'Kyushu' 'Pennsylvania' 'Dublin' 'Utah'\n",
      " 'Nova Scotia' 'New York' 'Southern Finland' 'Maryland' 'Syddanmark'\n",
      " 'California' 'Texas' 'Tennessee' 'Thurgau' 'Stockholms Lan' 'Hefa'\n",
      " 'Arkansas' 'HaMerkaz' 'Catalonia' 'Gloucestershire' 'West Berkshire'\n",
      " 'Illinois' 'Andalucia' 'Wisconsin' 'Gumma' 'Yerushalayim' 'Massachusetts'\n",
      " 'Indiana' 'Reading' 'Georgia' 'Washington' 'Dubai' 'Ohio' 'New Jersey'\n",
      " 'Minnesota' 'Florida' 'Sachsen' 'Ile-de-France' 'Bayern' 'Tel Aviv'\n",
      " 'Colorado' 'Vermont']\n",
      "['Andalucia' 'Arkansas' 'Basel-Stadt' 'Bayern' 'Belfast' 'California'\n",
      " 'Catalonia' 'Colorado' 'District of Columbia' 'Dubai' 'Dublin' 'Florida'\n",
      " 'Geneve' 'Georgia' 'Gloucestershire' 'Gumma' 'HaMerkaz' 'Hefa'\n",
      " 'Hovedstaden' 'Ile-de-France' 'Illinois' 'Indiana' 'Kyushu' 'Maryland'\n",
      " 'Massachusetts' 'Minnesota' 'New Jersey' 'New South Wales' 'New York'\n",
      " 'Nova Scotia' 'Ohio' 'Ontario' 'Pennsylvania' 'Quebec' 'Reading'\n",
      " 'Sachsen' 'Skane Lan' 'Southern Finland' 'Stockholms Lan' 'Syddanmark'\n",
      " 'Tel Aviv' 'Tennessee' 'Texas' 'Thurgau' 'United Kingdom' 'Utah'\n",
      " 'Vermont' 'Virginia' 'Washington' 'West Berkshire' 'Wisconsin'\n",
      " 'Yerushalayim' 'Zhejiang']\n",
      "['Andalucia' 'Arkansas' 'Basel-Stadt' 'Bayern' 'Belfast' 'California'\n",
      " 'Catalonia' 'Colorado' 'District of Columbia' 'Dubai' 'Dublin' 'Florida'\n",
      " 'Geneve' 'Georgia' 'Gloucestershire' 'Gumma' 'HaMerkaz' 'Hefa'\n",
      " 'Hovedstaden' 'Ile-de-France' 'Illinois' 'Indiana' 'Kyushu' 'Maryland'\n",
      " 'Massachusetts' 'Minnesota' 'New Jersey' 'New South Wales' 'New York'\n",
      " 'Nova Scotia' 'Ohio' 'Ontario' 'Pennsylvania' 'Quebec' 'Reading'\n",
      " 'Sachsen' 'Skane Lan' 'Southern Finland' 'Stockholms Lan' 'Syddanmark'\n",
      " 'Tel Aviv' 'Tennessee' 'Texas' 'Thurgau' 'United Kingdom' 'Utah'\n",
      " 'Vermont' 'Virginia' 'Washington' 'West Berkshire' 'Wisconsin'\n",
      " 'Yerushalayim' 'Zhejiang']\n",
      "Market Categories\n",
      "['Information Technology' 'Trading' 'Content Creators' 'Crowdsourcing'\n",
      " 'Internet' 'Contact Management' 'Enterprises' 'E-Commerce'\n",
      " 'Marketing Automation' 'Clean Technology' 'Linux' 'Social Media'\n",
      " 'Web Development' 'Location Based Services' 'Digital Signage' 'Email'\n",
      " 'Ticketing' 'Web Hosting' 'Social Media Marketing' 'Shipping' 'Design'\n",
      " 'Advertising Platforms' 'Task Management' 'Virtual Goods' 'Travel' 'VoIP'\n",
      " 'Digital Rights Management' 'Digital Media' 'Transportation' 'Groceries'\n",
      " 'Databases' 'Music' 'Recruiting' 'Content' 'Video' 'B2B' 'Entertainment'\n",
      " 'Technology' 'iOS' 'Cloud Computing' 'Facebook Applications' 'RIM' 'SMS'\n",
      " 'Virtual Currency' 'Collectibles' 'Productivity Software'\n",
      " 'Lead Generation' 'Social Bookmarking' 'Web Tools' 'Search'\n",
      " 'Video on Demand' 'Analytics' 'Customer Support Tools' 'Email Marketing'\n",
      " 'Telephony' 'P2P Money Transfer' 'Messaging' 'Social Media Monitoring'\n",
      " 'Storage' 'Clinical Trials' 'Social Recruiting' 'Business Services'\n",
      " 'Enterprise Software' 'Synchronization' 'Search Marketing' 'Local Search'\n",
      " 'Banking' 'Web Browsers' 'Hardware + Software' 'Optimization'\n",
      " 'Video Games' 'Local Coupons' 'Apps' 'Consulting' 'Sensors'\n",
      " 'Personalization' 'Computers' 'iPhone' 'All Students'\n",
      " 'Communications Hardware' 'Software' 'Electronics' 'Cloud Data Services'\n",
      " 'Mobile Advertising' 'Consumer Goods' 'Energy' 'Aerospace' 'Marketplaces'\n",
      " 'Career Management' 'Portals' 'Identity' 'Browser Extensions'\n",
      " 'Mobile Payments' 'Information Security' 'Hardware' 'Ediscovery'\n",
      " 'All Markets' 'Wireless' 'Fraud Detection' 'Networking' 'Games'\n",
      " 'Social Television' 'Navigation' 'CRM' 'Security' 'Video Streaming'\n",
      " 'Home Automation' 'Education' 'None' 'Cable' 'Real Time' 'Video Chat'\n",
      " 'Photo Sharing' 'File Sharing' 'Android' 'Online Rental' 'Auctions'\n",
      " 'Robotics' '3D' 'PaaS' 'Flash Storage' 'Media' 'Cloud Security'\n",
      " 'Internet TV' 'Sales and Marketing' 'Twitter Applications'\n",
      " 'Image Recognition' 'Comparison Shopping' 'Mobile Social'\n",
      " 'Reviews and Recommendations' 'Startups' 'Services' 'Big Data'\n",
      " 'Advertising' 'Consumer Electronics' 'Venture Capital' 'Customer Service'\n",
      " 'SaaS' 'Public Relations' 'Interest Graph' 'Credit' 'Displays' 'Payments'\n",
      " 'Social Media Advertising' 'Telecommunications' 'MicroBlogging'\n",
      " 'Curated Web' 'Restaurants' 'Systems' 'Open Source' 'Creative'\n",
      " 'Tech Field Support' 'Social Network Media' 'Blogging Platforms'\n",
      " 'Television' 'Virtualization' 'Finance' 'Health and Wellness'\n",
      " 'Trusted Networks' 'Wine And Spirits' 'Photography' 'Internet of Things'\n",
      " 'News' 'Proximity Internet' 'Local' 'Data Security' 'Shopping'\n",
      " 'Communities' 'Photo Editing' 'Colleges' 'Fashion' 'Semiconductors'\n",
      " 'Chat' 'Mobile']\n",
      "['3D' 'Advertising' 'Advertising Platforms' 'Aerospace' 'All Markets'\n",
      " 'All Students' 'Analytics' 'Android' 'Apps' 'Auctions' 'B2B' 'Banking'\n",
      " 'Big Data' 'Blogging Platforms' 'Browser Extensions' 'Business Services'\n",
      " 'CRM' 'Cable' 'Career Management' 'Chat' 'Clean Technology'\n",
      " 'Clinical Trials' 'Cloud Computing' 'Cloud Data Services'\n",
      " 'Cloud Security' 'Collectibles' 'Colleges' 'Communications Hardware'\n",
      " 'Communities' 'Comparison Shopping' 'Computers' 'Consulting'\n",
      " 'Consumer Electronics' 'Consumer Goods' 'Contact Management' 'Content'\n",
      " 'Content Creators' 'Creative' 'Credit' 'Crowdsourcing' 'Curated Web'\n",
      " 'Customer Service' 'Customer Support Tools' 'Data Security' 'Databases'\n",
      " 'Design' 'Digital Media' 'Digital Rights Management' 'Digital Signage'\n",
      " 'Displays' 'E-Commerce' 'Ediscovery' 'Education' 'Electronics' 'Email'\n",
      " 'Email Marketing' 'Energy' 'Enterprise Software' 'Enterprises'\n",
      " 'Entertainment' 'Facebook Applications' 'Fashion' 'File Sharing'\n",
      " 'Finance' 'Flash Storage' 'Fraud Detection' 'Games' 'Groceries'\n",
      " 'Hardware' 'Hardware + Software' 'Health and Wellness' 'Home Automation'\n",
      " 'Identity' 'Image Recognition' 'Information Security'\n",
      " 'Information Technology' 'Interest Graph' 'Internet' 'Internet TV'\n",
      " 'Internet of Things' 'Lead Generation' 'Linux' 'Local' 'Local Coupons'\n",
      " 'Local Search' 'Location Based Services' 'Marketing Automation'\n",
      " 'Marketplaces' 'Media' 'Messaging' 'MicroBlogging' 'Mobile'\n",
      " 'Mobile Advertising' 'Mobile Payments' 'Mobile Social' 'Music'\n",
      " 'Navigation' 'Networking' 'News' 'None' 'Online Rental' 'Open Source'\n",
      " 'Optimization' 'P2P Money Transfer' 'PaaS' 'Payments' 'Personalization'\n",
      " 'Photo Editing' 'Photo Sharing' 'Photography' 'Portals'\n",
      " 'Productivity Software' 'Proximity Internet' 'Public Relations' 'RIM'\n",
      " 'Real Time' 'Recruiting' 'Restaurants' 'Reviews and Recommendations'\n",
      " 'Robotics' 'SMS' 'SaaS' 'Sales and Marketing' 'Search' 'Search Marketing'\n",
      " 'Security' 'Semiconductors' 'Sensors' 'Services' 'Shipping' 'Shopping'\n",
      " 'Social Bookmarking' 'Social Media' 'Social Media Advertising'\n",
      " 'Social Media Marketing' 'Social Media Monitoring' 'Social Network Media'\n",
      " 'Social Recruiting' 'Social Television' 'Software' 'Startups' 'Storage'\n",
      " 'Synchronization' 'Systems' 'Task Management' 'Tech Field Support'\n",
      " 'Technology' 'Telecommunications' 'Telephony' 'Television' 'Ticketing'\n",
      " 'Trading' 'Transportation' 'Travel' 'Trusted Networks'\n",
      " 'Twitter Applications' 'Venture Capital' 'Video' 'Video Chat'\n",
      " 'Video Games' 'Video Streaming' 'Video on Demand' 'Virtual Currency'\n",
      " 'Virtual Goods' 'Virtualization' 'VoIP' 'Web Browsers' 'Web Development'\n",
      " 'Web Hosting' 'Web Tools' 'Wine And Spirits' 'Wireless' 'iOS' 'iPhone']\n",
      "['3D' 'Advertising' 'Advertising Platforms' 'Aerospace' 'All Markets'\n",
      " 'All Students' 'Analytics' 'Android' 'Apps' 'Auctions' 'B2B' 'Banking'\n",
      " 'Big Data' 'Blogging Platforms' 'Browser Extensions' 'Business Services'\n",
      " 'CRM' 'Cable' 'Career Management' 'Chat' 'Clean Technology'\n",
      " 'Clinical Trials' 'Cloud Computing' 'Cloud Data Services'\n",
      " 'Cloud Security' 'Collectibles' 'Colleges' 'Communications Hardware'\n",
      " 'Communities' 'Comparison Shopping' 'Computers' 'Consulting'\n",
      " 'Consumer Electronics' 'Consumer Goods' 'Contact Management' 'Content'\n",
      " 'Content Creators' 'Creative' 'Credit' 'Crowdsourcing' 'Curated Web'\n",
      " 'Customer Service' 'Customer Support Tools' 'Data Security' 'Databases'\n",
      " 'Design' 'Digital Media' 'Digital Rights Management' 'Digital Signage'\n",
      " 'Displays' 'E-Commerce' 'Ediscovery' 'Education' 'Electronics' 'Email'\n",
      " 'Email Marketing' 'Energy' 'Enterprise Software' 'Enterprises'\n",
      " 'Entertainment' 'Facebook Applications' 'Fashion' 'File Sharing'\n",
      " 'Finance' 'Flash Storage' 'Fraud Detection' 'Games' 'Groceries'\n",
      " 'Hardware' 'Hardware + Software' 'Health and Wellness' 'Home Automation'\n",
      " 'Identity' 'Image Recognition' 'Information Security'\n",
      " 'Information Technology' 'Interest Graph' 'Internet' 'Internet TV'\n",
      " 'Internet of Things' 'Lead Generation' 'Linux' 'Local' 'Local Coupons'\n",
      " 'Local Search' 'Location Based Services' 'Marketing Automation'\n",
      " 'Marketplaces' 'Media' 'Messaging' 'MicroBlogging' 'Mobile'\n",
      " 'Mobile Advertising' 'Mobile Payments' 'Mobile Social' 'Music'\n",
      " 'Navigation' 'Networking' 'News' 'None' 'Online Rental' 'Open Source'\n",
      " 'Optimization' 'P2P Money Transfer' 'PaaS' 'Payments' 'Personalization'\n",
      " 'Photo Editing' 'Photo Sharing' 'Photography' 'Portals'\n",
      " 'Productivity Software' 'Proximity Internet' 'Public Relations' 'RIM'\n",
      " 'Real Time' 'Recruiting' 'Restaurants' 'Reviews and Recommendations'\n",
      " 'Robotics' 'SMS' 'SaaS' 'Sales and Marketing' 'Search' 'Search Marketing'\n",
      " 'Security' 'Semiconductors' 'Sensors' 'Services' 'Shipping' 'Shopping'\n",
      " 'Social Bookmarking' 'Social Media' 'Social Media Advertising'\n",
      " 'Social Media Marketing' 'Social Media Monitoring' 'Social Network Media'\n",
      " 'Social Recruiting' 'Social Television' 'Software' 'Startups' 'Storage'\n",
      " 'Synchronization' 'Systems' 'Task Management' 'Tech Field Support'\n",
      " 'Technology' 'Telecommunications' 'Telephony' 'Television' 'Ticketing'\n",
      " 'Trading' 'Transportation' 'Travel' 'Trusted Networks'\n",
      " 'Twitter Applications' 'Venture Capital' 'Video' 'Video Chat'\n",
      " 'Video Games' 'Video Streaming' 'Video on Demand' 'Virtual Currency'\n",
      " 'Virtual Goods' 'Virtualization' 'VoIP' 'Web Browsers' 'Web Development'\n",
      " 'Web Hosting' 'Web Tools' 'Wine And Spirits' 'Wireless' 'iOS' 'iPhone']\n"
     ]
    }
   ],
   "source": [
    "for sharedColumn in sharedColumns:\n",
    "    print(sharedColumn[1:][0])\n",
    "    categories = getUniqueLabels(SplitMultiValuedColumn(mergeDfColumns(df,sharedColumn[1:])))\n",
    "    print(categories)\n",
    "    for column in sharedColumn[1:]:\n",
    "        if sharedColumn[0]:\n",
    "            print(encodeMultiValuedCategory(df,column,categories=categories))\n",
    "        else:\n",
    "            print(encodeCategory(df,column,categories=categories))"
   ]
  },
  {
   "cell_type": "code",
   "execution_count": 2390,
   "id": "cbf0873f",
   "metadata": {},
   "outputs": [
    {
     "data": {
      "text/plain": [
       "['Founders (Acquiring)',\n",
       " 'Board Members (Acquiring)',\n",
       " 'Acquired Companies (Acquiring)',\n",
       " 'Terms (Acquisitions)']"
      ]
     },
     "execution_count": 2390,
     "metadata": {},
     "output_type": "execute_result"
    }
   ],
   "source": [
    "multiVAluedColumns = FindMultiValuedColumns(df.drop([\"Tagline\",\"Tagline (Acquiring)\"],axis=1))\n",
    "multiVAluedColumns"
   ]
  },
  {
   "cell_type": "code",
   "execution_count": 2391,
   "id": "6be337d5",
   "metadata": {},
   "outputs": [
    {
     "data": {
      "text/plain": [
       "0                                                    NaN\n",
       "1                                                    NaN\n",
       "2                                                    NaN\n",
       "3                                                    NaN\n",
       "4                                                    NaN\n",
       "                             ...                        \n",
       "305    Michael Moritz, Peter Liguori, Misty Locke, Ma...\n",
       "306    Michael Moritz, Peter Liguori, Misty Locke, Ma...\n",
       "307    Michael Moritz, Peter Liguori, Misty Locke, Ma...\n",
       "308    Michael Moritz, Peter Liguori, Misty Locke, Ma...\n",
       "309    Michael Moritz, Peter Liguori, Misty Locke, Ma...\n",
       "Name: Board Members (Acquiring), Length: 310, dtype: object"
      ]
     },
     "execution_count": 2391,
     "metadata": {},
     "output_type": "execute_result"
    }
   ],
   "source": [
    "df[\"Board Members (Acquiring)\"]"
   ]
  },
  {
   "cell_type": "code",
   "execution_count": 2392,
   "id": "805c15c6",
   "metadata": {},
   "outputs": [
    {
     "name": "stdout",
     "output_type": "stream",
     "text": [
      "['Akio Morita' 'Alexander Graham Bell' 'Allen Blue' 'Andrew McCollum'\n",
      " 'Andrew Viterbi']\n",
      "['AJ Jaghori' 'Adam Grosser' 'Al Gore' 'Alex J. Mandl'\n",
      " 'Alexander Gounares']\n",
      "['2Web Technologies' '2dehands.be' '2ememain.be' '360Commerce'\n",
      " '3721 Internet Assistant']\n",
      "['Cash' 'Stock' 'Undisclosed']\n"
     ]
    }
   ],
   "source": [
    "for label in multiVAluedColumns:\n",
    "    print(encodeMultiValuedCategory(df, label)[:5])"
   ]
  },
  {
   "cell_type": "code",
   "execution_count": 222,
   "id": "3ef6c7c4",
   "metadata": {},
   "outputs": [
    {
     "data": {
      "text/plain": [
       "0    [0]\n",
       "1    [2]\n",
       "2    [1]\n",
       "3    [2]\n",
       "4    [1]\n",
       "Name: Terms (Acquisitions), dtype: object"
      ]
     },
     "execution_count": 222,
     "metadata": {},
     "output_type": "execute_result"
    }
   ],
   "source": [
    "df[\"Terms (Acquisitions)\"][:5]"
   ]
  },
  {
   "cell_type": "code",
   "execution_count": 2394,
   "id": "6d186cdf",
   "metadata": {},
   "outputs": [
    {
     "data": {
      "text/plain": [
       "Index(['Company', 'City (HQ)', 'State / Region (HQ)', 'Country (HQ)', 'Price',\n",
       "       'Age on acquisition', 'Acquiring Company (Acquiring)',\n",
       "       'Year Founded (Acquiring)', 'IPO (Acquiring)',\n",
       "       'Number of Employees (Acquiring)', 'Total Funding ($) (Acquiring)',\n",
       "       'Number of Acquisitions (Acquiring)', 'City (HQ) (Acquiring)',\n",
       "       'State / Region (HQ) (Acquiring)', 'Country (HQ) (Acquiring)',\n",
       "       'Status (Acquisitions)'],\n",
       "      dtype='object')"
      ]
     },
     "execution_count": 2394,
     "metadata": {},
     "output_type": "execute_result"
    }
   ],
   "source": [
    "df.drop(encoded, axis=1).columns"
   ]
  },
  {
   "cell_type": "code",
   "execution_count": 2395,
   "id": "3e9d3b00",
   "metadata": {},
   "outputs": [],
   "source": [
    "for col in df.drop(encoded, axis=1).columns:\n",
    "    encodeCategory(df, col)"
   ]
  },
  {
   "cell_type": "code",
   "execution_count": 2396,
   "id": "f4933bae",
   "metadata": {},
   "outputs": [
    {
     "data": {
      "text/html": [
       "<div>\n",
       "<style scoped>\n",
       "    .dataframe tbody tr th:only-of-type {\n",
       "        vertical-align: middle;\n",
       "    }\n",
       "\n",
       "    .dataframe tbody tr th {\n",
       "        vertical-align: top;\n",
       "    }\n",
       "\n",
       "    .dataframe thead th {\n",
       "        text-align: right;\n",
       "    }\n",
       "</style>\n",
       "<table border=\"1\" class=\"dataframe\">\n",
       "  <thead>\n",
       "    <tr style=\"text-align: right;\">\n",
       "      <th></th>\n",
       "      <th>Name</th>\n",
       "      <th>Role</th>\n",
       "      <th>Companies</th>\n",
       "    </tr>\n",
       "  </thead>\n",
       "  <tbody>\n",
       "    <tr>\n",
       "      <th>0</th>\n",
       "      <td>Hans-Werner Hector</td>\n",
       "      <td>Founder</td>\n",
       "      <td>SAP</td>\n",
       "    </tr>\n",
       "    <tr>\n",
       "      <th>1</th>\n",
       "      <td>Akio Morita</td>\n",
       "      <td>Founder</td>\n",
       "      <td>Sony</td>\n",
       "    </tr>\n",
       "    <tr>\n",
       "      <th>2</th>\n",
       "      <td>Alexander Graham Bell</td>\n",
       "      <td>Founder</td>\n",
       "      <td>AT&amp;T</td>\n",
       "    </tr>\n",
       "    <tr>\n",
       "      <th>3</th>\n",
       "      <td>Andrew Viterbi</td>\n",
       "      <td>Founder</td>\n",
       "      <td>Qualcomm</td>\n",
       "    </tr>\n",
       "    <tr>\n",
       "      <th>4</th>\n",
       "      <td>Bob Miner</td>\n",
       "      <td>Founder</td>\n",
       "      <td>Oracle</td>\n",
       "    </tr>\n",
       "    <tr>\n",
       "      <th>...</th>\n",
       "      <td>...</td>\n",
       "      <td>...</td>\n",
       "      <td>...</td>\n",
       "    </tr>\n",
       "    <tr>\n",
       "      <th>377</th>\n",
       "      <td>Jack Yuan</td>\n",
       "      <td>Founder</td>\n",
       "      <td>SanDisk</td>\n",
       "    </tr>\n",
       "    <tr>\n",
       "      <th>378</th>\n",
       "      <td>Sanjay Mehrotra</td>\n",
       "      <td>Founder</td>\n",
       "      <td>SanDisk</td>\n",
       "    </tr>\n",
       "    <tr>\n",
       "      <th>379</th>\n",
       "      <td>Jerry Modes</td>\n",
       "      <td>Founder</td>\n",
       "      <td>Teradata</td>\n",
       "    </tr>\n",
       "    <tr>\n",
       "      <th>380</th>\n",
       "      <td>David Hartke</td>\n",
       "      <td>Founder</td>\n",
       "      <td>Teradata</td>\n",
       "    </tr>\n",
       "    <tr>\n",
       "      <th>381</th>\n",
       "      <td>Charles R. Lee</td>\n",
       "      <td>Founder</td>\n",
       "      <td>Verizon Communications</td>\n",
       "    </tr>\n",
       "  </tbody>\n",
       "</table>\n",
       "<p>382 rows × 3 columns</p>\n",
       "</div>"
      ],
      "text/plain": [
       "                      Name     Role               Companies\n",
       "0       Hans-Werner Hector  Founder                     SAP\n",
       "1              Akio Morita  Founder                    Sony\n",
       "2    Alexander Graham Bell  Founder                    AT&T\n",
       "3           Andrew Viterbi  Founder                Qualcomm\n",
       "4                Bob Miner  Founder                  Oracle\n",
       "..                     ...      ...                     ...\n",
       "377              Jack Yuan  Founder                 SanDisk\n",
       "378        Sanjay Mehrotra  Founder                 SanDisk\n",
       "379            Jerry Modes  Founder                Teradata\n",
       "380           David Hartke  Founder                Teradata\n",
       "381         Charles R. Lee  Founder  Verizon Communications\n",
       "\n",
       "[382 rows x 3 columns]"
      ]
     },
     "execution_count": 2396,
     "metadata": {},
     "output_type": "execute_result"
    }
   ],
   "source": [
    "founders"
   ]
  },
  {
   "cell_type": "code",
   "execution_count": 2397,
   "id": "2fa280d9",
   "metadata": {},
   "outputs": [
    {
     "name": "stdout",
     "output_type": "stream",
     "text": [
      "['Advisory Board' 'Board Observer' 'Board of Directors' 'Founder']\n",
      "['AOL' 'AT&T' 'Adobe' 'Amazon' 'Apple' 'BlackBerry' 'CA Technologies'\n",
      " 'Cisco Systems' 'Comcast' 'Dell' 'Dropbox' 'EMC' 'Facebook' 'Google' 'HP'\n",
      " 'IBM' 'Intel' 'Juniper Networks' 'LinkedIn' 'Microsoft' 'Nokia' 'Oracle'\n",
      " 'Pinterest' 'Qualcomm' 'SAP' 'Salesforce' 'Samsung' 'Samsung Electronics'\n",
      " 'SanDisk' 'Sony' 'Symantec' 'Teradata' 'Twitter' 'Verizon Communications'\n",
      " 'Vodafone' 'Yahoo' 'eBay']\n"
     ]
    },
    {
     "data": {
      "text/plain": [
       "array(['Adam Grosser', 'Akio Morita', 'Al Gore', 'Alex J. Mandl',\n",
       "       'Alexander Gounares', 'Alexander Graham Bell',\n",
       "       'Alexey Timanovskiy', 'Ali Partovi', 'Allen Blue', 'Allen Miner',\n",
       "       'Ambassador Charlene Barshefsky', 'Amy Banse', 'Andrea Jung',\n",
       "       'Andrew McCollum', 'Andrew Viterbi', 'Anil Khatri',\n",
       "       'Anita M. Sands', 'Ann M. Livermore', 'Ann Mather',\n",
       "       'Arash Ferdowsi', 'Arthur D. Levinson', 'Arthur Kern',\n",
       "       'Arun Sarin', 'Barbara Stymiest', 'Ben Silbermann',\n",
       "       'Bengt Holmstrom', 'Benjamin Joe', 'Bert Nordberg', 'Bijan Sabet',\n",
       "       'Bill Campbell', 'Bill Gates', 'Bill Hambrecht', 'Bing Gordon',\n",
       "       'Biz Stone', 'Bob Calderoni', 'Bob Miner', 'Brian Halla',\n",
       "       'Brian Herschaft', 'Brian Snyder', 'Bruce Brown', 'Bryan Schreier',\n",
       "       'Byeong-Gi Lee', 'Byung-Chull Lee', 'C.Y. Lee', 'Candice Olson',\n",
       "       'Carol Bartz', 'Charles Geschke', 'Charles H. Noski',\n",
       "       'Charles Hilliard', 'Charles R. Lee', 'Charles Wang',\n",
       "       'Chris Featherstone', 'Chris Hughes', 'Chris Sacca',\n",
       "       'Clarence Otis Jr.', 'Claudia Kotchka', 'Claus Wellenreuther',\n",
       "       'Clement Bazan', 'Colin Powell', 'Condoleezza Rice',\n",
       "       'Craig Ramsey', 'Cynthia B. Taylor', 'Dan Rosensweig',\n",
       "       'Dan Schulman', 'Daniel Aaron', 'David B. Yoffie', 'David Bell',\n",
       "       'David Cowan', 'David E. Kepler', 'David Filo', 'David Hartke',\n",
       "       'David Ing', 'David M. Thomas', 'David Mahoney', 'David Marquardt',\n",
       "       'David Packard', 'David Pottruck', 'David Rosenblatt',\n",
       "       'David Strohm', 'David Sze', 'David Ting', 'Denise Fekete',\n",
       "       'Dennis Johnson', 'Dick Kramlich', 'Dietmar Hopp', 'Dileepan Siva',\n",
       "       'Dina Dublon', 'Don Valentine', 'Dona Crawford',\n",
       "       'Donald E. Graham', 'Donald J. Carty', 'Donald T. Nicolaisen',\n",
       "       'Dong-Min Yoon', 'Dr. Makimoto', 'Drew Houston',\n",
       "       'Dustin Moskovitz', 'Ed Kozel', 'Ed Oates', 'Eddy Hartenstein',\n",
       "       'Eduardo G. Mestre', 'Eduardo Saverin', 'Edward Rex',\n",
       "       'Edward W. Barnholt', 'Eli Harari', 'Elizabeth Doherty',\n",
       "       'Elizabeth Nelson', 'Eric Hippeau', 'Eric Ly', 'Eric Schmidt',\n",
       "       'Ernest Harrison', 'Erskine Bowles', 'Etienne Castiaux',\n",
       "       'Evan Sharp', 'Evan Williams', 'Eve Burton', 'Frank Calderoni',\n",
       "       'Frank Marshall', 'Frank Yeary', 'Fred Kauber', 'Fred Reynolds',\n",
       "       'Fredrik Idestam', 'G. Kennedy Thompson', 'Gareth C.C. Chang',\n",
       "       'Gary Hendrix', 'Gary Reiner', 'Gary Wilson', 'Gee-Sung Choi',\n",
       "       'Geoffrey Moore', 'Gerald L. Hassell', 'Gerard J. Kleisterlee',\n",
       "       'Gerry Laybourne', 'Gerry Whent', 'Gervase Clifton-Bligh',\n",
       "       'Gilbert F. Amelio', 'Gilles d’Aramon', 'Gordon Moore',\n",
       "       'Greg Brown', 'Greg Tarr', 'Gregory D. Wasson', 'Haavard Nord',\n",
       "       'Hadi Partovi', 'Han-joong Kim', 'Hans-Werner Hector',\n",
       "       'Hasso Plattner', 'Hector Garcia Molina', 'Heidi S. Messer',\n",
       "       'Helge Lund', 'Helmut Panke', 'Henning Kagermann', 'Henry Schacht',\n",
       "       'Hing Wong', 'Howard Green', 'Howard Schultz', 'Hugh B. Price',\n",
       "       'Igor R. Agamirzian', 'In-Ho Lee', 'Inmaculada Martinez',\n",
       "       'Irwin M. Jacobs', 'Isabel Marey-Semper', 'Ivan G. Seidenberg',\n",
       "       'Jack Dorsey', 'Jack Yuan', 'Jaime Chico Pardo', 'James Cash',\n",
       "       'James D. Plummer', 'James E. Daley', 'James Gemmell',\n",
       "       'James Sullivan', 'James W. Owens', 'Jan Koum', 'Janet F. Clark',\n",
       "       'Jay Samit', 'Jean-Luc Vaillant', 'Jeff Bezos', 'Jeffrey Glass',\n",
       "       'Jeffrey Ullman', 'Jerry Modes', 'Jerry Yang', 'Jim Breyer',\n",
       "       'Jim Gibbons', 'Jim Kimsey', 'Jim Wiatt', 'John Dickey',\n",
       "       'John Doerr', 'John Donahoe', 'John L. Hennessy',\n",
       "       'John L. Thornton', 'John Maeda', 'John Seely Brown',\n",
       "       'John T. Chambers', 'John W. Thompson', 'John Warnock',\n",
       "       'Johnathan A. Rodgers', 'Joi Ito', 'Jon C. Madonna',\n",
       "       'Jonathan Feinberg', 'Jonathan Roberts', 'Joseph J. Collins',\n",
       "       'Joseph Neubauer', 'Jouko Karvinen', 'Joyce M. Roche',\n",
       "       'Ju-Hwa Yoon', 'Judith Rodin', 'Judy C. Lewent',\n",
       "       'Julian A. Brodsky', 'Justin Moore', \"Kanwaldeep 'KD Singh Arneja\",\n",
       "       'Karen Dykstra', 'Karl Jacob', 'Kartik Raghavan',\n",
       "       'Kathryn A. Tesija', 'Kelly Barlow', 'Kenneth J. Bacon',\n",
       "       'Kenneth M. Duberstein', 'Kevin DeNuccio', 'Klaus S. Luft',\n",
       "       'Klaus Tschira', 'Konstantin Guericke', 'Kristina M. Johnson',\n",
       "       'Larry Ellison', 'Larry Page', 'Larry R. Carter',\n",
       "       'Laura Conigliaro', 'Laura Desmond', 'Laura Tyson', 'Leo Mechelin',\n",
       "       'Leonard Bosack', 'Maggie Wilderotter', 'Maor David-Pur',\n",
       "       'Marc Andreessen', 'Marc Benioff', 'Marc Seriff', 'Maria M. Klawe',\n",
       "       'Marjorie Scardino', 'Mark Bailey', 'Mark Kvamme',\n",
       "       'Mark Zuckerberg', 'Marshall Turner', 'Martha Frances Keeth',\n",
       "       'Masaru Ibuka', 'Matthew K. Rose', 'Maynard Webb',\n",
       "       'Melanie L. Healey', 'Mercedes Johnson', 'Michael B. McCallister',\n",
       "       'Michael Brown', 'Michael Capellas', 'Michael Dell',\n",
       "       'Michael Frankel', 'Michael Howse', 'Michael Moritz',\n",
       "       'Michael Powell', 'Michael Psarouthakis', 'Michael R. Cannon',\n",
       "       'Michael Tanne', 'Michel Combes', 'Michele Burns',\n",
       "       'Mike Lazaridis', 'Mike McCue', 'Miles Gilburne',\n",
       "       'Millard Drexler', 'Misty Locke', 'Myrtle S. Potter',\n",
       "       'Mårten Mickos', 'Nanea Reeves', 'Naomi O. Seligman',\n",
       "       'Nathen Harvey', 'Nick Ashton-Hart', 'Nigel Vaz', 'Nitin Suri',\n",
       "       'Noah Glass', 'Norm Fjeldheim', 'OB Bilous', 'Oliver Tavakoli',\n",
       "       'Parker Harris', 'Patricia F. Russo', 'Patricia Q. Stonesifer',\n",
       "       'Paul Allen', 'Paul Guerin', 'Paul J. Ferri', 'Paul Madera',\n",
       "       'Paul S. Otellini', 'Paul Sciarra', 'Per Karlsson',\n",
       "       'Peter Bamford', 'Peter Chernin', 'Peter Currie', 'Peter Liguori',\n",
       "       'Peter Thiel', 'Philippe Germond', 'Pierre Omidyar',\n",
       "       'Pradeep Sindhu', 'Prem Watsa', 'Priya Haji', 'Raj L Gupta',\n",
       "       'Raj Parekh', 'Rajiv L. Gupta', 'Ralph J. Roberts',\n",
       "       'Ralph V. Whitworth', 'Ram Shriram', 'Ramzy Abdul-Majeed',\n",
       "       'Randy Adams', 'Randy Glein', 'Ravi Srivatsav', 'Raymond J. Lane',\n",
       "       'Reid Hoffman', 'Reuben V. Anderson', 'Rich Warwick',\n",
       "       'Richard Egan', 'Richard L. Carrion', 'Richard Lynch',\n",
       "       'Richard M. Kovacevich', 'Rick Bortles', 'Rob Burgess',\n",
       "       'Robert A. Iger', 'Robert Burgess', 'Robert Kotick',\n",
       "       'Robert Noyce', 'Robert S. Miller', 'Robert Sedgewick',\n",
       "       'Robert W. Lane', 'Roderick C. McGeary', 'Rodney E. Slater',\n",
       "       'Roger Jiang', 'Roger Marino', 'Rohan Chandrashekhar',\n",
       "       'Ron Anderson', 'Ron Burkle', 'Ronald D. Sugar',\n",
       "       'Ronald F.E. Weissman', 'Ronald Wayne', 'Ross Perot Jr.',\n",
       "       'Roy Bostock', 'Russell M. Artzt', 'S. Decker Anstrom',\n",
       "       'Sam Pullara', 'Sandra O. Moose', 'Sandy Lerner',\n",
       "       'Sanford R. Robertson', 'Sanjay Mehrotra', 'Scott Belsky',\n",
       "       'Scott Cook', 'Scott Gorton', 'Scott Marshall', 'Scott Sandell',\n",
       "       'Sean Ellis', 'Sergey Brin', 'Shantanu Narayen',\n",
       "       'Sheldon M. Bonovitz', 'Shellye Archambeau', 'Sherry Coutu',\n",
       "       'Shirley M. Tilghman', 'Shiva Shivakumar', 'Shumeet Banerji',\n",
       "       'Skip Battle', 'Stan Meresman', 'Stephen J. Luczo',\n",
       "       'Stephen N. David', 'Steve Case', 'Steve Gomo', 'Steve Jobs',\n",
       "       'Steve Millard', 'Steve Wozniak', 'Steven M. West', 'Sue James',\n",
       "       'Susan Hockfield', 'Susan L. Decker', 'Susan Lyne',\n",
       "       'Susan M. James', 'Suzanne M. Vautrinot', 'Terry Semel',\n",
       "       'Thomas J. Watson', 'Thomas O. Ryder', 'Tim Guleri',\n",
       "       'Timothy Dattels', 'Tod Nielsen', 'Tom Alberg', 'Tom Albert',\n",
       "       'Tom Perkins', 'Vyomesh Joshi', 'Will Headapohl',\n",
       "       'William Redington Hewlett'], dtype=object)"
      ]
     },
     "execution_count": 2397,
     "metadata": {},
     "output_type": "execute_result"
    }
   ],
   "source": [
    "for i in FindMultiValuedColumns(founders):\n",
    "    print(encodeMultiValuedCategory(founders,i))\n",
    "encodeCategory(founders,\"Name\")"
   ]
  },
  {
   "cell_type": "code",
   "execution_count": 2398,
   "id": "6c16f913",
   "metadata": {},
   "outputs": [
    {
     "data": {
      "text/html": [
       "<div>\n",
       "<style scoped>\n",
       "    .dataframe tbody tr th:only-of-type {\n",
       "        vertical-align: middle;\n",
       "    }\n",
       "\n",
       "    .dataframe tbody tr th {\n",
       "        vertical-align: top;\n",
       "    }\n",
       "\n",
       "    .dataframe thead th {\n",
       "        text-align: right;\n",
       "    }\n",
       "</style>\n",
       "<table border=\"1\" class=\"dataframe\">\n",
       "  <thead>\n",
       "    <tr style=\"text-align: right;\">\n",
       "      <th></th>\n",
       "      <th>Name</th>\n",
       "      <th>Role</th>\n",
       "      <th>Companies</th>\n",
       "    </tr>\n",
       "  </thead>\n",
       "  <tbody>\n",
       "    <tr>\n",
       "      <th>0</th>\n",
       "      <td>142</td>\n",
       "      <td>[3]</td>\n",
       "      <td>[24]</td>\n",
       "    </tr>\n",
       "    <tr>\n",
       "      <th>1</th>\n",
       "      <td>1</td>\n",
       "      <td>[3]</td>\n",
       "      <td>[29]</td>\n",
       "    </tr>\n",
       "    <tr>\n",
       "      <th>2</th>\n",
       "      <td>5</td>\n",
       "      <td>[3]</td>\n",
       "      <td>[1]</td>\n",
       "    </tr>\n",
       "    <tr>\n",
       "      <th>3</th>\n",
       "      <td>14</td>\n",
       "      <td>[3]</td>\n",
       "      <td>[23]</td>\n",
       "    </tr>\n",
       "    <tr>\n",
       "      <th>4</th>\n",
       "      <td>35</td>\n",
       "      <td>[3]</td>\n",
       "      <td>[21]</td>\n",
       "    </tr>\n",
       "    <tr>\n",
       "      <th>...</th>\n",
       "      <td>...</td>\n",
       "      <td>...</td>\n",
       "      <td>...</td>\n",
       "    </tr>\n",
       "    <tr>\n",
       "      <th>377</th>\n",
       "      <td>161</td>\n",
       "      <td>[3]</td>\n",
       "      <td>[28]</td>\n",
       "    </tr>\n",
       "    <tr>\n",
       "      <th>378</th>\n",
       "      <td>339</td>\n",
       "      <td>[3]</td>\n",
       "      <td>[28]</td>\n",
       "    </tr>\n",
       "    <tr>\n",
       "      <th>379</th>\n",
       "      <td>176</td>\n",
       "      <td>[3]</td>\n",
       "      <td>[31]</td>\n",
       "    </tr>\n",
       "    <tr>\n",
       "      <th>380</th>\n",
       "      <td>70</td>\n",
       "      <td>[3]</td>\n",
       "      <td>[31]</td>\n",
       "    </tr>\n",
       "    <tr>\n",
       "      <th>381</th>\n",
       "      <td>49</td>\n",
       "      <td>[3]</td>\n",
       "      <td>[33]</td>\n",
       "    </tr>\n",
       "  </tbody>\n",
       "</table>\n",
       "<p>382 rows × 3 columns</p>\n",
       "</div>"
      ],
      "text/plain": [
       "    Name Role Companies\n",
       "0    142  [3]      [24]\n",
       "1      1  [3]      [29]\n",
       "2      5  [3]       [1]\n",
       "3     14  [3]      [23]\n",
       "4     35  [3]      [21]\n",
       "..   ...  ...       ...\n",
       "377  161  [3]      [28]\n",
       "378  339  [3]      [28]\n",
       "379  176  [3]      [31]\n",
       "380   70  [3]      [31]\n",
       "381   49  [3]      [33]\n",
       "\n",
       "[382 rows x 3 columns]"
      ]
     },
     "execution_count": 2398,
     "metadata": {},
     "output_type": "execute_result"
    }
   ],
   "source": [
    "founders"
   ]
  },
  {
   "cell_type": "code",
   "execution_count": 2399,
   "id": "65e0b89e",
   "metadata": {},
   "outputs": [
    {
     "data": {
      "text/plain": [
       "Company                                                                              66\n",
       "Tagline                               Day Software develops web applications that al...\n",
       "Market Categories                                                                 [139]\n",
       "City (HQ)                                                                             8\n",
       "State / Region (HQ)                                                                   2\n",
       "Country (HQ)                                                                          7\n",
       "Price                                                                                81\n",
       "Age on acquisition                                                                  NaN\n",
       "Acquiring Company (Acquiring)                                                         2\n",
       "Tagline (Acquiring)                   Adobe is an American multinational computer so...\n",
       "Market Categories (Acquiring)                                    [107, 45, 37, 139, 73]\n",
       "Year Founded (Acquiring)                                                             12\n",
       "IPO (Acquiring)                                                                       4\n",
       "Founders (Acquiring)                                                           [44, 10]\n",
       "Number of Employees (Acquiring)                                                       8\n",
       "Total Funding ($) (Acquiring)                                                         0\n",
       "Number of Acquisitions (Acquiring)                                                   14\n",
       "Board Members (Acquiring)                                                           NaN\n",
       "City (HQ) (Acquiring)                                                                18\n",
       "State / Region (HQ) (Acquiring)                                                       0\n",
       "Country (HQ) (Acquiring)                                                              5\n",
       "Acquired Companies (Acquiring)        [24, 56, 75, 103, 127, 154, 180, 354, 364, 372...\n",
       "Status (Acquisitions)                                                                 2\n",
       "Terms (Acquisitions)                                                                [0]\n",
       "Name: 0, dtype: object"
      ]
     },
     "execution_count": 224,
     "metadata": {},
     "output_type": "execute_result"
    }
   ],
   "source": [
    "df.loc[0]"
   ]
  },
  {
   "cell_type": "code",
   "execution_count": 2148,
   "id": "8b97996e",
   "metadata": {},
   "outputs": [
    {
     "data": {
      "text/html": [
       "<div>\n",
       "<style scoped>\n",
       "    .dataframe tbody tr th:only-of-type {\n",
       "        vertical-align: middle;\n",
       "    }\n",
       "\n",
       "    .dataframe tbody tr th {\n",
       "        vertical-align: top;\n",
       "    }\n",
       "\n",
       "    .dataframe thead th {\n",
       "        text-align: right;\n",
       "    }\n",
       "</style>\n",
       "<table border=\"1\" class=\"dataframe\">\n",
       "  <thead>\n",
       "    <tr style=\"text-align: right;\">\n",
       "      <th></th>\n",
       "      <th>Company</th>\n",
       "      <th>Tagline</th>\n",
       "      <th>Market Categories</th>\n",
       "      <th>City (HQ)</th>\n",
       "      <th>State / Region (HQ)</th>\n",
       "      <th>Country (HQ)</th>\n",
       "      <th>Price</th>\n",
       "      <th>Age on acquisition</th>\n",
       "      <th>Acquiring Company (Acquiring)</th>\n",
       "      <th>Tagline (Acquiring)</th>\n",
       "      <th>...</th>\n",
       "      <th>Number of Employees (Acquiring)</th>\n",
       "      <th>Total Funding ($) (Acquiring)</th>\n",
       "      <th>Number of Acquisitions (Acquiring)</th>\n",
       "      <th>Board Members (Acquiring)</th>\n",
       "      <th>City (HQ) (Acquiring)</th>\n",
       "      <th>State / Region (HQ) (Acquiring)</th>\n",
       "      <th>Country (HQ) (Acquiring)</th>\n",
       "      <th>Acquired Companies (Acquiring)</th>\n",
       "      <th>Status (Acquisitions)</th>\n",
       "      <th>Terms (Acquisitions)</th>\n",
       "    </tr>\n",
       "  </thead>\n",
       "  <tbody>\n",
       "    <tr>\n",
       "      <th>0</th>\n",
       "      <td>66</td>\n",
       "      <td>Day Software develops web applications that al...</td>\n",
       "      <td>[117]</td>\n",
       "      <td>8</td>\n",
       "      <td>2</td>\n",
       "      <td>7</td>\n",
       "      <td>81</td>\n",
       "      <td>NaN</td>\n",
       "      <td>2</td>\n",
       "      <td>[4]</td>\n",
       "      <td>...</td>\n",
       "      <td>8</td>\n",
       "      <td>0</td>\n",
       "      <td>14</td>\n",
       "      <td>[303]</td>\n",
       "      <td>18</td>\n",
       "      <td>0</td>\n",
       "      <td>5</td>\n",
       "      <td>[24, 56, 75, 103, 127, 154, 180, 354, 364, 372...</td>\n",
       "      <td>2</td>\n",
       "      <td>[0]</td>\n",
       "    </tr>\n",
       "    <tr>\n",
       "      <th>1</th>\n",
       "      <td>73</td>\n",
       "      <td>Efficient Frontier, an online performance and ...</td>\n",
       "      <td>[1]</td>\n",
       "      <td>101</td>\n",
       "      <td>5</td>\n",
       "      <td>8</td>\n",
       "      <td>106</td>\n",
       "      <td>10.0</td>\n",
       "      <td>2</td>\n",
       "      <td>[4]</td>\n",
       "      <td>...</td>\n",
       "      <td>8</td>\n",
       "      <td>0</td>\n",
       "      <td>14</td>\n",
       "      <td>[303]</td>\n",
       "      <td>18</td>\n",
       "      <td>0</td>\n",
       "      <td>5</td>\n",
       "      <td>[24, 56, 75, 103, 127, 154, 180, 354, 364, 372...</td>\n",
       "      <td>2</td>\n",
       "      <td>[2]</td>\n",
       "    </tr>\n",
       "    <tr>\n",
       "      <th>2</th>\n",
       "      <td>138</td>\n",
       "      <td>Macromedia is a graphics and web development s...</td>\n",
       "      <td>[117]</td>\n",
       "      <td>91</td>\n",
       "      <td>5</td>\n",
       "      <td>8</td>\n",
       "      <td>158</td>\n",
       "      <td>14.0</td>\n",
       "      <td>2</td>\n",
       "      <td>[4]</td>\n",
       "      <td>...</td>\n",
       "      <td>8</td>\n",
       "      <td>0</td>\n",
       "      <td>14</td>\n",
       "      <td>[303]</td>\n",
       "      <td>18</td>\n",
       "      <td>0</td>\n",
       "      <td>5</td>\n",
       "      <td>[24, 56, 75, 103, 127, 154, 180, 354, 364, 372...</td>\n",
       "      <td>2</td>\n",
       "      <td>[1]</td>\n",
       "    </tr>\n",
       "    <tr>\n",
       "      <th>3</th>\n",
       "      <td>163</td>\n",
       "      <td>Neolane is a marketing technology provider dev...</td>\n",
       "      <td>[117]</td>\n",
       "      <td>2</td>\n",
       "      <td>19</td>\n",
       "      <td>5</td>\n",
       "      <td>118</td>\n",
       "      <td>13.0</td>\n",
       "      <td>2</td>\n",
       "      <td>[4]</td>\n",
       "      <td>...</td>\n",
       "      <td>8</td>\n",
       "      <td>0</td>\n",
       "      <td>14</td>\n",
       "      <td>[303]</td>\n",
       "      <td>18</td>\n",
       "      <td>0</td>\n",
       "      <td>5</td>\n",
       "      <td>[24, 56, 75, 103, 127, 154, 180, 354, 364, 372...</td>\n",
       "      <td>2</td>\n",
       "      <td>[2]</td>\n",
       "    </tr>\n",
       "    <tr>\n",
       "      <th>4</th>\n",
       "      <td>179</td>\n",
       "      <td>Omniture is an online marketing and web analyt...</td>\n",
       "      <td>[117, 1]</td>\n",
       "      <td>73</td>\n",
       "      <td>44</td>\n",
       "      <td>8</td>\n",
       "      <td>146</td>\n",
       "      <td>14.0</td>\n",
       "      <td>2</td>\n",
       "      <td>[4]</td>\n",
       "      <td>...</td>\n",
       "      <td>8</td>\n",
       "      <td>0</td>\n",
       "      <td>14</td>\n",
       "      <td>[303]</td>\n",
       "      <td>18</td>\n",
       "      <td>0</td>\n",
       "      <td>5</td>\n",
       "      <td>[24, 56, 75, 103, 127, 154, 180, 354, 364, 372...</td>\n",
       "      <td>2</td>\n",
       "      <td>[1]</td>\n",
       "    </tr>\n",
       "  </tbody>\n",
       "</table>\n",
       "<p>5 rows × 24 columns</p>\n",
       "</div>"
      ],
      "text/plain": [
       "  Company                                            Tagline  \\\n",
       "0      66  Day Software develops web applications that al...   \n",
       "1      73  Efficient Frontier, an online performance and ...   \n",
       "2     138  Macromedia is a graphics and web development s...   \n",
       "3     163  Neolane is a marketing technology provider dev...   \n",
       "4     179  Omniture is an online marketing and web analyt...   \n",
       "\n",
       "  Market Categories City (HQ) State / Region (HQ) Country (HQ)  Price  \\\n",
       "0             [117]         8                   2            7     81   \n",
       "1               [1]       101                   5            8    106   \n",
       "2             [117]        91                   5            8    158   \n",
       "3             [117]         2                  19            5    118   \n",
       "4          [117, 1]        73                  44            8    146   \n",
       "\n",
       "   Age on acquisition Acquiring Company (Acquiring) Tagline (Acquiring)  ...  \\\n",
       "0                 NaN                             2                 [4]  ...   \n",
       "1                10.0                             2                 [4]  ...   \n",
       "2                14.0                             2                 [4]  ...   \n",
       "3                13.0                             2                 [4]  ...   \n",
       "4                14.0                             2                 [4]  ...   \n",
       "\n",
       "  Number of Employees (Acquiring) Total Funding ($) (Acquiring)  \\\n",
       "0                               8                             0   \n",
       "1                               8                             0   \n",
       "2                               8                             0   \n",
       "3                               8                             0   \n",
       "4                               8                             0   \n",
       "\n",
       "  Number of Acquisitions (Acquiring) Board Members (Acquiring)  \\\n",
       "0                                 14                     [303]   \n",
       "1                                 14                     [303]   \n",
       "2                                 14                     [303]   \n",
       "3                                 14                     [303]   \n",
       "4                                 14                     [303]   \n",
       "\n",
       "  City (HQ) (Acquiring) State / Region (HQ) (Acquiring)  \\\n",
       "0                    18                               0   \n",
       "1                    18                               0   \n",
       "2                    18                               0   \n",
       "3                    18                               0   \n",
       "4                    18                               0   \n",
       "\n",
       "  Country (HQ) (Acquiring)                     Acquired Companies (Acquiring)  \\\n",
       "0                        5  [24, 56, 75, 103, 127, 154, 180, 354, 364, 372...   \n",
       "1                        5  [24, 56, 75, 103, 127, 154, 180, 354, 364, 372...   \n",
       "2                        5  [24, 56, 75, 103, 127, 154, 180, 354, 364, 372...   \n",
       "3                        5  [24, 56, 75, 103, 127, 154, 180, 354, 364, 372...   \n",
       "4                        5  [24, 56, 75, 103, 127, 154, 180, 354, 364, 372...   \n",
       "\n",
       "  Status (Acquisitions) Terms (Acquisitions)  \n",
       "0                     2                  [0]  \n",
       "1                     2                  [2]  \n",
       "2                     2                  [1]  \n",
       "3                     2                  [2]  \n",
       "4                     2                  [1]  \n",
       "\n",
       "[5 rows x 24 columns]"
      ]
     },
     "execution_count": 2148,
     "metadata": {},
     "output_type": "execute_result"
    }
   ],
   "source": [
    "df.head()"
   ]
  },
  {
   "cell_type": "markdown",
   "id": "482691b6",
   "metadata": {},
   "source": [
    "# Checking outliers for actual numeric values\n"
   ]
  },
  {
   "cell_type": "markdown",
   "id": "7d6f526d",
   "metadata": {},
   "source": [
    "- We have to chek first if those features are normally distributed or not"
   ]
  },
  {
   "cell_type": "code",
   "execution_count": 2149,
   "id": "d4ac7513",
   "metadata": {},
   "outputs": [],
   "source": [
    "from scipy.stats import shapiro"
   ]
  },
  {
   "cell_type": "code",
   "execution_count": 2150,
   "id": "08913025",
   "metadata": {},
   "outputs": [
    {
     "name": "stdout",
     "output_type": "stream",
     "text": [
      "Price: p-value = 0.00000\n",
      "NOT Normal \n",
      "\n"
     ]
    },
    {
     "data": {
      "image/png": "[encoded data removed]",
      "text/plain": [
       "<Figure size 800x600 with 1 Axes>"
      ]
     },
     "metadata": {},
     "output_type": "display_data"
    },
    {
     "name": "stdout",
     "output_type": "stream",
     "text": [
      "Age on acquisition: p-value = 0.00000\n",
      "NOT Normal \n",
      "\n"
     ]
    },
    {
     "data": {
      "image/png": "[encoded data removed]",
      "text/plain": [
       "<Figure size 800x600 with 1 Axes>"
      ]
     },
     "metadata": {},
     "output_type": "display_data"
    },
    {
     "name": "stdout",
     "output_type": "stream",
     "text": [
      "Number of Employees (Acquiring): p-value = 0.00001\n",
      "NOT Normal \n",
      "\n"
     ]
    },
    {
     "data": {
      "image/png": "[encoded data removed]",
      "text/plain": [
       "<Figure size 800x600 with 1 Axes>"
      ]
     },
     "metadata": {},
     "output_type": "display_data"
    },
    {
     "name": "stdout",
     "output_type": "stream",
     "text": [
      "Total Funding ($) (Acquiring): p-value = 0.00000\n",
      "NOT Normal \n",
      "\n"
     ]
    },
    {
     "data": {
      "image/png": "[encoded data removed]",
      "text/plain": [
       "<Figure size 800x600 with 1 Axes>"
      ]
     },
     "metadata": {},
     "output_type": "display_data"
    },
    {
     "name": "stdout",
     "output_type": "stream",
     "text": [
      "Number of Acquisitions (Acquiring): p-value = 0.00000\n",
      "NOT Normal \n",
      "\n"
     ]
    },
    {
     "data": {
      "image/png": "[encoded data removed]",
      "text/plain": [
       "<Figure size 800x600 with 1 Axes>"
      ]
     },
     "metadata": {},
     "output_type": "display_data"
    }
   ],
   "source": [
    "numeric_cols = [\n",
    "    'Price',\n",
    "    'Age on acquisition',\n",
    "    'Number of Employees (Acquiring)',\n",
    "    'Total Funding ($) (Acquiring)',\n",
    "    'Number of Acquisitions (Acquiring)',\n",
    "]\n",
    "for col in numeric_cols:\n",
    "    stat, p = shapiro(df[col].dropna())\n",
    "    print(f\"{col}: p-value = {p:.5f}\")\n",
    "    if p > 0.05:\n",
    "        print(\" Normal \\n\")\n",
    "    else:\n",
    "        print(\"NOT Normal \\n\")\n",
    "        \n",
    "    plt.figure(figsize=(8, 6))\n",
    "    sns.histplot(df[col].dropna(), kde=True, bins=20)\n",
    "    plt.title(f\"Histogram and KDE for {col}\")\n",
    "    plt.xlabel(col)\n",
    "    plt.ylabel('Frequency')\n",
    "    plt.show()\n",
    "\n"
   ]
  },
  {
   "cell_type": "markdown",
   "id": "5417523b",
   "metadata": {},
   "source": [
    "# Data isn't normally distributed so IQR method will be more effiecient\n"
   ]
  },
  {
   "cell_type": "code",
   "execution_count": null,
   "id": "4192e1bb",
   "metadata": {},
   "outputs": [
    {
     "name": "stdout",
     "output_type": "stream",
     "text": [
      "Age on acquisition                    17\n",
      "Price                                  0\n",
      "Number of Employees (Acquiring)        0\n",
      "Total Funding ($) (Acquiring)          0\n",
      "Number of Acquisitions (Acquiring)     0\n",
      "dtype: int64\n"
     ]
    }
   ],
   "source": [
    "outliers = {}\n",
    "\n",
    "for col in numeric_cols:\n",
    "    \n",
    "    q1 = df[col].quantile(0.25)\n",
    "    q3 = df[col].quantile(0.75)\n",
    "    iqr = q3 - q1\n",
    "\n",
    "    lower_bound = q1 - 1.5 * iqr\n",
    "    upper_bound = q3 + 1.5 * iqr\n",
    "\n",
    "    outlier_mask = (df[col] < lower_bound) | (df[col] > upper_bound)\n",
    "    outliers[col] = outlier_mask.sum()\n",
    "\n",
    "\n",
    "print(pd.Series(outliers).sort_values(ascending=False))"
   ]
  },
  {
   "cell_type": "code",
   "execution_count": 2152,
   "id": "7432f999",
   "metadata": {},
   "outputs": [
    {
     "data": {
      "image/png": "[encoded data removed]",
      "text/plain": [
       "<Figure size 640x480 with 1 Axes>"
      ]
     },
     "metadata": {},
     "output_type": "display_data"
    }
   ],
   "source": [
    "sns.boxplot(x=df['Age on acquisition'])\n",
    "plt.title(\"Boxplot of Age on Acquisition\")\n",
    "plt.show()\n"
   ]
  },
  {
   "cell_type": "code",
   "execution_count": 2153,
   "id": "b9026f1c",
   "metadata": {},
   "outputs": [],
   "source": [
    "median_value = df['Age on acquisition'].median()\n",
    "df['Age on acquisition'] = df['Age on acquisition'].apply(\n",
    "    lambda x: median_value if x < lower_bound or x > upper_bound else x\n",
    ")\n"
   ]
  },
  {
   "cell_type": "code",
   "execution_count": 2154,
   "id": "4c09c46d",
   "metadata": {},
   "outputs": [
    {
     "name": "stdout",
     "output_type": "stream",
     "text": [
      "Price skew: 0.28\n",
      "Age on acquisition skew: 1.62\n",
      "Number of Employees (Acquiring) skew: 0.22\n",
      "Total Funding ($) (Acquiring) skew: 1.05\n",
      "Number of Acquisitions (Acquiring) skew: -0.62\n"
     ]
    }
   ],
   "source": [
    "for col in numeric_cols:\n",
    "    print(f\"{col} skew: {df[col].skew():.2f}\")\n"
   ]
  },
  {
   "cell_type": "markdown",
   "id": "9c35c566",
   "metadata": {},
   "source": [
    "- Skewness of Total Funding and Age on aquisition is high so we can use log transformation to avoid data skewing "
   ]
  },
  {
   "cell_type": "code",
   "execution_count": 2155,
   "id": "720ef380",
   "metadata": {},
   "outputs": [
    {
     "data": {
      "text/plain": [
       "np.int64(1)"
      ]
     },
     "execution_count": 2155,
     "metadata": {},
     "output_type": "execute_result"
    }
   ],
   "source": [
    "df['Total Funding ($) (Acquiring)'].apply(pd.to_numeric, errors='coerce').isnull().sum()\n"
   ]
  },
  {
   "cell_type": "code",
   "execution_count": 2156,
   "id": "335597b9",
   "metadata": {},
   "outputs": [
    {
     "name": "stderr",
     "output_type": "stream",
     "text": [
      "C:\\Users\\Omar\\AppData\\Local\\Temp\\ipykernel_13904\\2762218257.py:1: FutureWarning:\n",
      "\n",
      "A value is trying to be set on a copy of a DataFrame or Series through chained assignment using an inplace method.\n",
      "The behavior will change in pandas 3.0. This inplace method will never work because the intermediate object on which we are setting values always behaves as a copy.\n",
      "\n",
      "For example, when doing 'df[col].method(value, inplace=True)', try using 'df.method({col: value}, inplace=True)' or df[col] = df[col].method(value) instead, to perform the operation inplace on the original object.\n",
      "\n",
      "\n",
      "\n",
      "C:\\Users\\Omar\\AppData\\Local\\Temp\\ipykernel_13904\\2762218257.py:1: FutureWarning:\n",
      "\n",
      "Downcasting object dtype arrays on .fillna, .ffill, .bfill is deprecated and will change in a future version. Call result.infer_objects(copy=False) instead. To opt-in to the future behavior, set `pd.set_option('future.no_silent_downcasting', True)`\n",
      "\n"
     ]
    }
   ],
   "source": [
    "df['Total Funding ($) (Acquiring)'].fillna(df['Total Funding ($) (Acquiring)'].median(), inplace=True)\n"
   ]
  },
  {
   "cell_type": "code",
   "execution_count": 2157,
   "id": "6eb40db6",
   "metadata": {},
   "outputs": [],
   "source": [
    "df['Age on acquisition'] = np.log(df['Age on acquisition'] + 1)\n",
    "df['Total Funding ($) (Acquiring)'] = np.log(df['Total Funding ($) (Acquiring)'] + 1)"
   ]
  },
  {
   "cell_type": "code",
   "execution_count": 2158,
   "id": "72024f77",
   "metadata": {},
   "outputs": [
    {
     "name": "stdout",
     "output_type": "stream",
     "text": [
      "Price skew: 0.28\n",
      "Age on acquisition skew: 0.05\n",
      "Number of Employees (Acquiring) skew: 0.22\n",
      "Total Funding ($) (Acquiring) skew: 0.26\n",
      "Number of Acquisitions (Acquiring) skew: -0.62\n"
     ]
    }
   ],
   "source": [
    "for col in numeric_cols:\n",
    "    print(f\"{col} skew: {df[col].skew():.2f}\")\n"
   ]
  },
  {
   "cell_type": "code",
   "execution_count": 2159,
   "id": "5ec5c5bf",
   "metadata": {},
   "outputs": [
    {
     "data": {
      "image/png": "[encoded data removed]",
      "text/plain": [
       "<Figure size 600x150 with 1 Axes>"
      ]
     },
     "metadata": {},
     "output_type": "display_data"
    },
    {
     "data": {
      "image/png": "[encoded data removed]",
      "text/plain": [
       "<Figure size 600x150 with 1 Axes>"
      ]
     },
     "metadata": {},
     "output_type": "display_data"
    },
    {
     "data": {
      "image/png": "[encoded data removed]",
      "text/plain": [
       "<Figure size 600x150 with 1 Axes>"
      ]
     },
     "metadata": {},
     "output_type": "display_data"
    },
    {
     "data": {
      "image/png": "[encoded data removed]",
      "text/plain": [
       "<Figure size 600x150 with 1 Axes>"
      ]
     },
     "metadata": {},
     "output_type": "display_data"
    },
    {
     "data": {
      "image/png": "[encoded data removed]",
      "text/plain": [
       "<Figure size 600x150 with 1 Axes>"
      ]
     },
     "metadata": {},
     "output_type": "display_data"
    }
   ],
   "source": [
    "for col in numeric_cols:\n",
    "    plt.figure(figsize=(6, 1.5))\n",
    "    sns.boxplot(x=df[col])\n",
    "    plt.title(f'Boxplot for {col}')\n",
    "    plt.show()\n"
   ]
  },
  {
   "cell_type": "markdown",
   "id": "9ba9b387",
   "metadata": {},
   "source": [
    "### Imputing the null values\n"
   ]
  },
  {
   "cell_type": "code",
   "execution_count": 225,
   "id": "0c9bcbe6",
   "metadata": {},
   "outputs": [],
   "source": [
    "def knn_impute_numeric(df: pd.DataFrame, n_neighbors: int = 5) -> pd.DataFrame:\n",
    "\n",
    "    df_copy = df.copy()\n",
    "\n",
    "    numeric_cols = df_copy.select_dtypes(include=[float, int]).columns\n",
    "    numeric_df = df_copy[numeric_cols]\n",
    "\n",
    "    imputer = KNNImputer(n_neighbors=n_neighbors)\n",
    "    imputed_array = imputer.fit_transform(numeric_df)\n",
    "\n",
    "    imputed_df = pd.DataFrame(imputed_array, columns=numeric_cols, index=df_copy.index)\n",
    "    df_copy[numeric_cols] = imputed_df\n",
    "\n",
    "    return df_copy"
   ]
  },
  {
   "cell_type": "code",
   "execution_count": 226,
   "id": "2ef17f44",
   "metadata": {},
   "outputs": [
    {
     "data": {
      "text/plain": [
       "np.int64(252)"
      ]
     },
     "execution_count": 2401,
     "metadata": {},
     "output_type": "execute_result"
    }
   ],
   "source": [
    "df.isnull().sum().sum()"
   ]
  },
  {
   "cell_type": "code",
   "execution_count": 227,
   "id": "8e0d559d",
   "metadata": {},
   "outputs": [],
   "source": [
    "df = knn_impute_numeric(df.infer_objects())"
   ]
  },
  {
   "cell_type": "code",
   "execution_count": 228,
   "id": "dd1da9db",
   "metadata": {},
   "outputs": [
    {
     "data": {
      "text/plain": [
       "np.int64(42)"
      ]
     },
     "execution_count": 2403,
     "metadata": {},
     "output_type": "execute_result"
    }
   ],
   "source": [
    "df.isnull().sum().sum()  # Tagline\n"
   ]
  },
  {
   "cell_type": "code",
   "execution_count": 229,
   "id": "431610c9",
   "metadata": {},
   "outputs": [],
   "source": [
    "numeric_df = df.select_dtypes(include=[float, int])\n",
    "correlations = numeric_df.drop(\"Price\", axis=1).apply(\n",
    "    lambda x: abs(x.corr(numeric_df[\"Price\"], method=\"kendall\"))\n",
    ")"
   ]
  },
  {
   "cell_type": "code",
   "execution_count": 2405,
   "id": "8bf25c91",
   "metadata": {},
   "outputs": [
    {
     "data": {
      "text/html": [
       "<div>\n",
       "<style scoped>\n",
       "    .dataframe tbody tr th:only-of-type {\n",
       "        vertical-align: middle;\n",
       "    }\n",
       "\n",
       "    .dataframe tbody tr th {\n",
       "        vertical-align: top;\n",
       "    }\n",
       "\n",
       "    .dataframe thead th {\n",
       "        text-align: right;\n",
       "    }\n",
       "</style>\n",
       "<table border=\"1\" class=\"dataframe\">\n",
       "  <thead>\n",
       "    <tr style=\"text-align: right;\">\n",
       "      <th></th>\n",
       "      <th>Company</th>\n",
       "      <th>City (HQ)</th>\n",
       "      <th>State / Region (HQ)</th>\n",
       "      <th>Country (HQ)</th>\n",
       "      <th>Price</th>\n",
       "      <th>Age on acquisition</th>\n",
       "      <th>Acquiring Company (Acquiring)</th>\n",
       "      <th>Year Founded (Acquiring)</th>\n",
       "      <th>IPO (Acquiring)</th>\n",
       "      <th>Number of Employees (Acquiring)</th>\n",
       "      <th>Total Funding ($) (Acquiring)</th>\n",
       "      <th>Number of Acquisitions (Acquiring)</th>\n",
       "      <th>City (HQ) (Acquiring)</th>\n",
       "      <th>State / Region (HQ) (Acquiring)</th>\n",
       "      <th>Country (HQ) (Acquiring)</th>\n",
       "      <th>Status (Acquisitions)</th>\n",
       "    </tr>\n",
       "  </thead>\n",
       "  <tbody>\n",
       "    <tr>\n",
       "      <th>0</th>\n",
       "      <td>66.0</td>\n",
       "      <td>8.0</td>\n",
       "      <td>2.0</td>\n",
       "      <td>13.0</td>\n",
       "      <td>81.0</td>\n",
       "      <td>8.4</td>\n",
       "      <td>2.0</td>\n",
       "      <td>12.0</td>\n",
       "      <td>4.0</td>\n",
       "      <td>8.0</td>\n",
       "      <td>0.0</td>\n",
       "      <td>14.0</td>\n",
       "      <td>18.0</td>\n",
       "      <td>0.0</td>\n",
       "      <td>5.0</td>\n",
       "      <td>2.0</td>\n",
       "    </tr>\n",
       "    <tr>\n",
       "      <th>1</th>\n",
       "      <td>73.0</td>\n",
       "      <td>101.0</td>\n",
       "      <td>5.0</td>\n",
       "      <td>15.0</td>\n",
       "      <td>106.0</td>\n",
       "      <td>10.0</td>\n",
       "      <td>2.0</td>\n",
       "      <td>12.0</td>\n",
       "      <td>4.0</td>\n",
       "      <td>8.0</td>\n",
       "      <td>0.0</td>\n",
       "      <td>14.0</td>\n",
       "      <td>18.0</td>\n",
       "      <td>0.0</td>\n",
       "      <td>5.0</td>\n",
       "      <td>2.0</td>\n",
       "    </tr>\n",
       "    <tr>\n",
       "      <th>2</th>\n",
       "      <td>138.0</td>\n",
       "      <td>91.0</td>\n",
       "      <td>5.0</td>\n",
       "      <td>15.0</td>\n",
       "      <td>158.0</td>\n",
       "      <td>14.0</td>\n",
       "      <td>2.0</td>\n",
       "      <td>12.0</td>\n",
       "      <td>4.0</td>\n",
       "      <td>8.0</td>\n",
       "      <td>0.0</td>\n",
       "      <td>14.0</td>\n",
       "      <td>18.0</td>\n",
       "      <td>0.0</td>\n",
       "      <td>5.0</td>\n",
       "      <td>2.0</td>\n",
       "    </tr>\n",
       "    <tr>\n",
       "      <th>3</th>\n",
       "      <td>163.0</td>\n",
       "      <td>2.0</td>\n",
       "      <td>19.0</td>\n",
       "      <td>5.0</td>\n",
       "      <td>118.0</td>\n",
       "      <td>13.0</td>\n",
       "      <td>2.0</td>\n",
       "      <td>12.0</td>\n",
       "      <td>4.0</td>\n",
       "      <td>8.0</td>\n",
       "      <td>0.0</td>\n",
       "      <td>14.0</td>\n",
       "      <td>18.0</td>\n",
       "      <td>0.0</td>\n",
       "      <td>5.0</td>\n",
       "      <td>2.0</td>\n",
       "    </tr>\n",
       "    <tr>\n",
       "      <th>4</th>\n",
       "      <td>179.0</td>\n",
       "      <td>73.0</td>\n",
       "      <td>44.0</td>\n",
       "      <td>15.0</td>\n",
       "      <td>146.0</td>\n",
       "      <td>14.0</td>\n",
       "      <td>2.0</td>\n",
       "      <td>12.0</td>\n",
       "      <td>4.0</td>\n",
       "      <td>8.0</td>\n",
       "      <td>0.0</td>\n",
       "      <td>14.0</td>\n",
       "      <td>18.0</td>\n",
       "      <td>0.0</td>\n",
       "      <td>5.0</td>\n",
       "      <td>2.0</td>\n",
       "    </tr>\n",
       "    <tr>\n",
       "      <th>...</th>\n",
       "      <td>...</td>\n",
       "      <td>...</td>\n",
       "      <td>...</td>\n",
       "      <td>...</td>\n",
       "      <td>...</td>\n",
       "      <td>...</td>\n",
       "      <td>...</td>\n",
       "      <td>...</td>\n",
       "      <td>...</td>\n",
       "      <td>...</td>\n",
       "      <td>...</td>\n",
       "      <td>...</td>\n",
       "      <td>...</td>\n",
       "      <td>...</td>\n",
       "      <td>...</td>\n",
       "      <td>...</td>\n",
       "    </tr>\n",
       "    <tr>\n",
       "      <th>305</th>\n",
       "      <td>239.0</td>\n",
       "      <td>91.0</td>\n",
       "      <td>5.0</td>\n",
       "      <td>15.0</td>\n",
       "      <td>7.0</td>\n",
       "      <td>3.0</td>\n",
       "      <td>33.0</td>\n",
       "      <td>17.0</td>\n",
       "      <td>11.0</td>\n",
       "      <td>10.0</td>\n",
       "      <td>3.0</td>\n",
       "      <td>23.0</td>\n",
       "      <td>21.0</td>\n",
       "      <td>0.0</td>\n",
       "      <td>5.0</td>\n",
       "      <td>2.0</td>\n",
       "    </tr>\n",
       "    <tr>\n",
       "      <th>306</th>\n",
       "      <td>258.0</td>\n",
       "      <td>91.0</td>\n",
       "      <td>5.0</td>\n",
       "      <td>15.0</td>\n",
       "      <td>10.0</td>\n",
       "      <td>3.0</td>\n",
       "      <td>33.0</td>\n",
       "      <td>17.0</td>\n",
       "      <td>11.0</td>\n",
       "      <td>10.0</td>\n",
       "      <td>3.0</td>\n",
       "      <td>23.0</td>\n",
       "      <td>21.0</td>\n",
       "      <td>0.0</td>\n",
       "      <td>5.0</td>\n",
       "      <td>2.0</td>\n",
       "    </tr>\n",
       "    <tr>\n",
       "      <th>307</th>\n",
       "      <td>268.0</td>\n",
       "      <td>76.0</td>\n",
       "      <td>5.0</td>\n",
       "      <td>15.0</td>\n",
       "      <td>42.0</td>\n",
       "      <td>5.0</td>\n",
       "      <td>33.0</td>\n",
       "      <td>17.0</td>\n",
       "      <td>11.0</td>\n",
       "      <td>10.0</td>\n",
       "      <td>3.0</td>\n",
       "      <td>23.0</td>\n",
       "      <td>21.0</td>\n",
       "      <td>0.0</td>\n",
       "      <td>5.0</td>\n",
       "      <td>2.0</td>\n",
       "    </tr>\n",
       "    <tr>\n",
       "      <th>308</th>\n",
       "      <td>270.0</td>\n",
       "      <td>79.8</td>\n",
       "      <td>20.6</td>\n",
       "      <td>12.4</td>\n",
       "      <td>24.0</td>\n",
       "      <td>7.6</td>\n",
       "      <td>33.0</td>\n",
       "      <td>17.0</td>\n",
       "      <td>11.0</td>\n",
       "      <td>10.0</td>\n",
       "      <td>3.0</td>\n",
       "      <td>23.0</td>\n",
       "      <td>21.0</td>\n",
       "      <td>0.0</td>\n",
       "      <td>5.0</td>\n",
       "      <td>2.0</td>\n",
       "    </tr>\n",
       "    <tr>\n",
       "      <th>309</th>\n",
       "      <td>295.0</td>\n",
       "      <td>91.0</td>\n",
       "      <td>5.0</td>\n",
       "      <td>15.0</td>\n",
       "      <td>11.0</td>\n",
       "      <td>6.0</td>\n",
       "      <td>33.0</td>\n",
       "      <td>17.0</td>\n",
       "      <td>11.0</td>\n",
       "      <td>10.0</td>\n",
       "      <td>3.0</td>\n",
       "      <td>23.0</td>\n",
       "      <td>21.0</td>\n",
       "      <td>0.0</td>\n",
       "      <td>5.0</td>\n",
       "      <td>2.0</td>\n",
       "    </tr>\n",
       "  </tbody>\n",
       "</table>\n",
       "<p>310 rows × 16 columns</p>\n",
       "</div>"
      ],
      "text/plain": [
       "     Company  City (HQ)  State / Region (HQ)  Country (HQ)  Price  \\\n",
       "0       66.0        8.0                  2.0          13.0   81.0   \n",
       "1       73.0      101.0                  5.0          15.0  106.0   \n",
       "2      138.0       91.0                  5.0          15.0  158.0   \n",
       "3      163.0        2.0                 19.0           5.0  118.0   \n",
       "4      179.0       73.0                 44.0          15.0  146.0   \n",
       "..       ...        ...                  ...           ...    ...   \n",
       "305    239.0       91.0                  5.0          15.0    7.0   \n",
       "306    258.0       91.0                  5.0          15.0   10.0   \n",
       "307    268.0       76.0                  5.0          15.0   42.0   \n",
       "308    270.0       79.8                 20.6          12.4   24.0   \n",
       "309    295.0       91.0                  5.0          15.0   11.0   \n",
       "\n",
       "     Age on acquisition  Acquiring Company (Acquiring)  \\\n",
       "0                   8.4                            2.0   \n",
       "1                  10.0                            2.0   \n",
       "2                  14.0                            2.0   \n",
       "3                  13.0                            2.0   \n",
       "4                  14.0                            2.0   \n",
       "..                  ...                            ...   \n",
       "305                 3.0                           33.0   \n",
       "306                 3.0                           33.0   \n",
       "307                 5.0                           33.0   \n",
       "308                 7.6                           33.0   \n",
       "309                 6.0                           33.0   \n",
       "\n",
       "     Year Founded (Acquiring)  IPO (Acquiring)  \\\n",
       "0                        12.0              4.0   \n",
       "1                        12.0              4.0   \n",
       "2                        12.0              4.0   \n",
       "3                        12.0              4.0   \n",
       "4                        12.0              4.0   \n",
       "..                        ...              ...   \n",
       "305                      17.0             11.0   \n",
       "306                      17.0             11.0   \n",
       "307                      17.0             11.0   \n",
       "308                      17.0             11.0   \n",
       "309                      17.0             11.0   \n",
       "\n",
       "     Number of Employees (Acquiring)  Total Funding ($) (Acquiring)  \\\n",
       "0                                8.0                            0.0   \n",
       "1                                8.0                            0.0   \n",
       "2                                8.0                            0.0   \n",
       "3                                8.0                            0.0   \n",
       "4                                8.0                            0.0   \n",
       "..                               ...                            ...   \n",
       "305                             10.0                            3.0   \n",
       "306                             10.0                            3.0   \n",
       "307                             10.0                            3.0   \n",
       "308                             10.0                            3.0   \n",
       "309                             10.0                            3.0   \n",
       "\n",
       "     Number of Acquisitions (Acquiring)  City (HQ) (Acquiring)  \\\n",
       "0                                  14.0                   18.0   \n",
       "1                                  14.0                   18.0   \n",
       "2                                  14.0                   18.0   \n",
       "3                                  14.0                   18.0   \n",
       "4                                  14.0                   18.0   \n",
       "..                                  ...                    ...   \n",
       "305                                23.0                   21.0   \n",
       "306                                23.0                   21.0   \n",
       "307                                23.0                   21.0   \n",
       "308                                23.0                   21.0   \n",
       "309                                23.0                   21.0   \n",
       "\n",
       "     State / Region (HQ) (Acquiring)  Country (HQ) (Acquiring)  \\\n",
       "0                                0.0                       5.0   \n",
       "1                                0.0                       5.0   \n",
       "2                                0.0                       5.0   \n",
       "3                                0.0                       5.0   \n",
       "4                                0.0                       5.0   \n",
       "..                               ...                       ...   \n",
       "305                              0.0                       5.0   \n",
       "306                              0.0                       5.0   \n",
       "307                              0.0                       5.0   \n",
       "308                              0.0                       5.0   \n",
       "309                              0.0                       5.0   \n",
       "\n",
       "     Status (Acquisitions)  \n",
       "0                      2.0  \n",
       "1                      2.0  \n",
       "2                      2.0  \n",
       "3                      2.0  \n",
       "4                      2.0  \n",
       "..                     ...  \n",
       "305                    2.0  \n",
       "306                    2.0  \n",
       "307                    2.0  \n",
       "308                    2.0  \n",
       "309                    2.0  \n",
       "\n",
       "[310 rows x 16 columns]"
      ]
     },
     "execution_count": 2405,
     "metadata": {},
     "output_type": "execute_result"
    }
   ],
   "source": [
    "numeric_df"
   ]
  },
  {
   "cell_type": "code",
   "execution_count": 2406,
   "id": "93c5b21e",
   "metadata": {},
   "outputs": [
    {
     "data": {
      "text/plain": [
       "Age on acquisition                    0.368768\n",
       "Year Founded (Acquiring)              0.206454\n",
       "Total Funding ($) (Acquiring)         0.201643\n",
       "IPO (Acquiring)                       0.178588\n",
       "Country (HQ)                          0.167743\n",
       "Number of Employees (Acquiring)       0.152101\n",
       "State / Region (HQ) (Acquiring)       0.099589\n",
       "Country (HQ) (Acquiring)              0.079755\n",
       "State / Region (HQ)                   0.051131\n",
       "Acquiring Company (Acquiring)         0.048023\n",
       "City (HQ) (Acquiring)                 0.030493\n",
       "Status (Acquisitions)                 0.017956\n",
       "Company                               0.014899\n",
       "City (HQ)                             0.014496\n",
       "Number of Acquisitions (Acquiring)    0.014488\n",
       "dtype: float64"
      ]
     },
     "execution_count": 230,
     "metadata": {},
     "output_type": "execute_result"
    }
   ],
   "source": [
    "correlations.sort_values(ascending=False)"
   ]
  },
  {
   "cell_type": "code",
   "execution_count": 231,
   "id": "11948a59",
   "metadata": {},
   "outputs": [
    {
     "data": {
      "text/html": [
       "<div>\n",
       "<style scoped>\n",
       "    .dataframe tbody tr th:only-of-type {\n",
       "        vertical-align: middle;\n",
       "    }\n",
       "\n",
       "    .dataframe tbody tr th {\n",
       "        vertical-align: top;\n",
       "    }\n",
       "\n",
       "    .dataframe thead th {\n",
       "        text-align: right;\n",
       "    }\n",
       "</style>\n",
       "<table border=\"1\" class=\"dataframe\">\n",
       "  <thead>\n",
       "    <tr style=\"text-align: right;\">\n",
       "      <th></th>\n",
       "      <th>Company</th>\n",
       "      <th>Tagline</th>\n",
       "      <th>Market Categories</th>\n",
       "      <th>City (HQ)</th>\n",
       "      <th>State / Region (HQ)</th>\n",
       "      <th>Country (HQ)</th>\n",
       "      <th>Price</th>\n",
       "      <th>Age on acquisition</th>\n",
       "      <th>Acquiring Company (Acquiring)</th>\n",
       "      <th>Tagline (Acquiring)</th>\n",
       "      <th>...</th>\n",
       "      <th>Number of Employees (Acquiring)</th>\n",
       "      <th>Total Funding ($) (Acquiring)</th>\n",
       "      <th>Number of Acquisitions (Acquiring)</th>\n",
       "      <th>Board Members (Acquiring)</th>\n",
       "      <th>City (HQ) (Acquiring)</th>\n",
       "      <th>State / Region (HQ) (Acquiring)</th>\n",
       "      <th>Country (HQ) (Acquiring)</th>\n",
       "      <th>Acquired Companies (Acquiring)</th>\n",
       "      <th>Status (Acquisitions)</th>\n",
       "      <th>Terms (Acquisitions)</th>\n",
       "    </tr>\n",
       "  </thead>\n",
       "  <tbody>\n",
       "    <tr>\n",
       "      <th>0</th>\n",
       "      <td>66.0</td>\n",
       "      <td>Day Software develops web applications that al...</td>\n",
       "      <td>[139]</td>\n",
       "      <td>8.0</td>\n",
       "      <td>2.0</td>\n",
       "      <td>13.0</td>\n",
       "      <td>81.0</td>\n",
       "      <td>8.4</td>\n",
       "      <td>2.0</td>\n",
       "      <td>Adobe is an American multinational computer so...</td>\n",
       "      <td>...</td>\n",
       "      <td>8.0</td>\n",
       "      <td>0.0</td>\n",
       "      <td>14.0</td>\n",
       "      <td>NaN</td>\n",
       "      <td>18.0</td>\n",
       "      <td>0.0</td>\n",
       "      <td>5.0</td>\n",
       "      <td>[24, 56, 75, 103, 127, 154, 180, 354, 364, 372...</td>\n",
       "      <td>2.0</td>\n",
       "      <td>[0]</td>\n",
       "    </tr>\n",
       "    <tr>\n",
       "      <th>1</th>\n",
       "      <td>73.0</td>\n",
       "      <td>Efficient Frontier, an online performance and ...</td>\n",
       "      <td>[1]</td>\n",
       "      <td>101.0</td>\n",
       "      <td>5.0</td>\n",
       "      <td>15.0</td>\n",
       "      <td>106.0</td>\n",
       "      <td>10.0</td>\n",
       "      <td>2.0</td>\n",
       "      <td>Adobe is an American multinational computer so...</td>\n",
       "      <td>...</td>\n",
       "      <td>8.0</td>\n",
       "      <td>0.0</td>\n",
       "      <td>14.0</td>\n",
       "      <td>NaN</td>\n",
       "      <td>18.0</td>\n",
       "      <td>0.0</td>\n",
       "      <td>5.0</td>\n",
       "      <td>[24, 56, 75, 103, 127, 154, 180, 354, 364, 372...</td>\n",
       "      <td>2.0</td>\n",
       "      <td>[2]</td>\n",
       "    </tr>\n",
       "    <tr>\n",
       "      <th>2</th>\n",
       "      <td>138.0</td>\n",
       "      <td>Macromedia is a graphics and web development s...</td>\n",
       "      <td>[117]</td>\n",
       "      <td>91.0</td>\n",
       "      <td>5.0</td>\n",
       "      <td>8.0</td>\n",
       "      <td>158.0</td>\n",
       "      <td>2.708050</td>\n",
       "      <td>2.0</td>\n",
       "      <td>[4]</td>\n",
       "      <td>...</td>\n",
       "      <td>8.0</td>\n",
       "      <td>0.0</td>\n",
       "      <td>14.0</td>\n",
       "      <td>[303]</td>\n",
       "      <td>18.0</td>\n",
       "      <td>0.0</td>\n",
       "      <td>5.0</td>\n",
       "      <td>[24, 56, 75, 103, 127, 154, 180, 354, 364, 372...</td>\n",
       "      <td>2.0</td>\n",
       "      <td>[1]</td>\n",
       "    </tr>\n",
       "    <tr>\n",
       "      <th>3</th>\n",
       "      <td>163.0</td>\n",
       "      <td>Neolane is a marketing technology provider dev...</td>\n",
       "      <td>[139]</td>\n",
       "      <td>2.0</td>\n",
       "      <td>19.0</td>\n",
       "      <td>5.0</td>\n",
       "      <td>118.0</td>\n",
       "      <td>13.0</td>\n",
       "      <td>2.0</td>\n",
       "      <td>Adobe is an American multinational computer so...</td>\n",
       "      <td>...</td>\n",
       "      <td>8.0</td>\n",
       "      <td>0.0</td>\n",
       "      <td>14.0</td>\n",
       "      <td>NaN</td>\n",
       "      <td>18.0</td>\n",
       "      <td>0.0</td>\n",
       "      <td>5.0</td>\n",
       "      <td>[24, 56, 75, 103, 127, 154, 180, 354, 364, 372...</td>\n",
       "      <td>2.0</td>\n",
       "      <td>[2]</td>\n",
       "    </tr>\n",
       "    <tr>\n",
       "      <th>4</th>\n",
       "      <td>179.0</td>\n",
       "      <td>Omniture is an online marketing and web analyt...</td>\n",
       "      <td>[139, 1]</td>\n",
       "      <td>73.0</td>\n",
       "      <td>44.0</td>\n",
       "      <td>15.0</td>\n",
       "      <td>146.0</td>\n",
       "      <td>14.0</td>\n",
       "      <td>2.0</td>\n",
       "      <td>Adobe is an American multinational computer so...</td>\n",
       "      <td>...</td>\n",
       "      <td>8.0</td>\n",
       "      <td>0.0</td>\n",
       "      <td>14.0</td>\n",
       "      <td>NaN</td>\n",
       "      <td>18.0</td>\n",
       "      <td>0.0</td>\n",
       "      <td>5.0</td>\n",
       "      <td>[24, 56, 75, 103, 127, 154, 180, 354, 364, 372...</td>\n",
       "      <td>2.0</td>\n",
       "      <td>[1]</td>\n",
       "    </tr>\n",
       "  </tbody>\n",
       "</table>\n",
       "<p>5 rows × 24 columns</p>\n",
       "</div>"
      ],
      "text/plain": [
       "   Company                                            Tagline  \\\n",
       "0     66.0  Day Software develops web applications that al...   \n",
       "1     73.0  Efficient Frontier, an online performance and ...   \n",
       "2    138.0  Macromedia is a graphics and web development s...   \n",
       "3    163.0  Neolane is a marketing technology provider dev...   \n",
       "4    179.0  Omniture is an online marketing and web analyt...   \n",
       "\n",
       "  Market Categories  City (HQ)  State / Region (HQ)  Country (HQ)  Price  \\\n",
       "0             [139]        8.0                  2.0          13.0   81.0   \n",
       "1               [1]      101.0                  5.0          15.0  106.0   \n",
       "2             [139]       91.0                  5.0          15.0  158.0   \n",
       "3             [139]        2.0                 19.0           5.0  118.0   \n",
       "4          [139, 1]       73.0                 44.0          15.0  146.0   \n",
       "\n",
       "   Age on acquisition  Acquiring Company (Acquiring)  \\\n",
       "0                 8.4                            2.0   \n",
       "1                10.0                            2.0   \n",
       "2                14.0                            2.0   \n",
       "3                13.0                            2.0   \n",
       "4                14.0                            2.0   \n",
       "\n",
       "                                 Tagline (Acquiring)  ...  \\\n",
       "0  Adobe is an American multinational computer so...  ...   \n",
       "1  Adobe is an American multinational computer so...  ...   \n",
       "2  Adobe is an American multinational computer so...  ...   \n",
       "3  Adobe is an American multinational computer so...  ...   \n",
       "4  Adobe is an American multinational computer so...  ...   \n",
       "\n",
       "  Number of Employees (Acquiring)  Total Funding ($) (Acquiring)  \\\n",
       "0                             8.0                            0.0   \n",
       "1                             8.0                            0.0   \n",
       "2                             8.0                            0.0   \n",
       "3                             8.0                            0.0   \n",
       "4                             8.0                            0.0   \n",
       "\n",
       "   Number of Acquisitions (Acquiring) Board Members (Acquiring)  \\\n",
       "0                                14.0                       NaN   \n",
       "1                                14.0                       NaN   \n",
       "2                                14.0                       NaN   \n",
       "3                                14.0                       NaN   \n",
       "4                                14.0                       NaN   \n",
       "\n",
       "   City (HQ) (Acquiring)  State / Region (HQ) (Acquiring)  \\\n",
       "0                   18.0                              0.0   \n",
       "1                   18.0                              0.0   \n",
       "2                   18.0                              0.0   \n",
       "3                   18.0                              0.0   \n",
       "4                   18.0                              0.0   \n",
       "\n",
       "   Country (HQ) (Acquiring)  \\\n",
       "0                       5.0   \n",
       "1                       5.0   \n",
       "2                       5.0   \n",
       "3                       5.0   \n",
       "4                       5.0   \n",
       "\n",
       "                      Acquired Companies (Acquiring)  Status (Acquisitions)  \\\n",
       "0  [24, 56, 75, 103, 127, 154, 180, 354, 364, 372...                    2.0   \n",
       "1  [24, 56, 75, 103, 127, 154, 180, 354, 364, 372...                    2.0   \n",
       "2  [24, 56, 75, 103, 127, 154, 180, 354, 364, 372...                    2.0   \n",
       "3  [24, 56, 75, 103, 127, 154, 180, 354, 364, 372...                    2.0   \n",
       "4  [24, 56, 75, 103, 127, 154, 180, 354, 364, 372...                    2.0   \n",
       "\n",
       "   Terms (Acquisitions)  \n",
       "0                   [0]  \n",
       "1                   [2]  \n",
       "2                   [1]  \n",
       "3                   [2]  \n",
       "4                   [1]  \n",
       "\n",
       "[5 rows x 24 columns]"
      ]
     },
     "execution_count": 231,
     "metadata": {},
     "output_type": "execute_result"
    }
   ],
   "source": [
    "df.head()"
   ]
  },
  {
   "cell_type": "code",
   "execution_count": 232,
   "id": "798d3b1a",
   "metadata": {},
   "outputs": [
    {
     "data": {
      "text/plain": [
       "np.int64(3)"
      ]
     },
     "execution_count": 232,
     "metadata": {},
     "output_type": "execute_result"
    }
   ],
   "source": [
    "df['Tagline'].isnull().sum()"
   ]
  },
  {
   "cell_type": "code",
   "execution_count": 233,
   "id": "a9eef649",
   "metadata": {},
   "outputs": [],
   "source": [
    "df['Tagline'] = acquired['Tagline'].fillna('')\n"
   ]
  },
  {
   "cell_type": "code",
   "execution_count": 234,
   "id": "ce64568e",
   "metadata": {},
   "outputs": [],
   "source": [
    "from sentence_transformers import SentenceTransformer\n",
    "\n",
    "model = SentenceTransformer('all-MiniLM-L6-v2')\n",
    "\n",
    "df['Tagline_Embedding'] = acquired['Tagline'].apply(lambda x: model.encode(str(x)).tolist())\n",
    "df['Tagleline (aquiring)_Emb']=acquiring['Tagline (Acquiring)'].apply(lambda x: model.encode(str(x)).tolist())\n"
   ]
  },
  {
   "cell_type": "code",
   "execution_count": 235,
   "id": "2162275a",
   "metadata": {},
   "outputs": [],
   "source": [
    "df = df.drop(\"Tagline\",axis=1)\n",
    "df = df.drop(\"Tagline (Acquiring)\",axis=1)"
   ]
  },
  {
   "cell_type": "code",
   "execution_count": 236,
   "id": "bb050b95",
   "metadata": {},
   "outputs": [
    {
     "data": {
      "text/html": [
       "<div>\n",
       "<style scoped>\n",
       "    .dataframe tbody tr th:only-of-type {\n",
       "        vertical-align: middle;\n",
       "    }\n",
       "\n",
       "    .dataframe tbody tr th {\n",
       "        vertical-align: top;\n",
       "    }\n",
       "\n",
       "    .dataframe thead th {\n",
       "        text-align: right;\n",
       "    }\n",
       "</style>\n",
       "<table border=\"1\" class=\"dataframe\">\n",
       "  <thead>\n",
       "    <tr style=\"text-align: right;\">\n",
       "      <th></th>\n",
       "      <th>Company</th>\n",
       "      <th>Market Categories</th>\n",
       "      <th>City (HQ)</th>\n",
       "      <th>State / Region (HQ)</th>\n",
       "      <th>Country (HQ)</th>\n",
       "      <th>Price</th>\n",
       "      <th>Age on acquisition</th>\n",
       "      <th>Acquiring Company (Acquiring)</th>\n",
       "      <th>Market Categories (Acquiring)</th>\n",
       "      <th>Year Founded (Acquiring)</th>\n",
       "      <th>...</th>\n",
       "      <th>Number of Acquisitions (Acquiring)</th>\n",
       "      <th>Board Members (Acquiring)</th>\n",
       "      <th>City (HQ) (Acquiring)</th>\n",
       "      <th>State / Region (HQ) (Acquiring)</th>\n",
       "      <th>Country (HQ) (Acquiring)</th>\n",
       "      <th>Acquired Companies (Acquiring)</th>\n",
       "      <th>Status (Acquisitions)</th>\n",
       "      <th>Terms (Acquisitions)</th>\n",
       "      <th>Tagline_Embedding</th>\n",
       "      <th>Tagleline (aquiring)_Emb</th>\n",
       "    </tr>\n",
       "  </thead>\n",
       "  <tbody>\n",
       "    <tr>\n",
       "      <th>0</th>\n",
       "      <td>66.0</td>\n",
       "      <td>[139]</td>\n",
       "      <td>8.0</td>\n",
       "      <td>2.0</td>\n",
       "      <td>13.0</td>\n",
       "      <td>81.0</td>\n",
       "      <td>8.4</td>\n",
       "      <td>2.0</td>\n",
       "      <td>[107, 45, 37, 139, 73]</td>\n",
       "      <td>12.0</td>\n",
       "      <td>...</td>\n",
       "      <td>14.0</td>\n",
       "      <td>NaN</td>\n",
       "      <td>18.0</td>\n",
       "      <td>0.0</td>\n",
       "      <td>5.0</td>\n",
       "      <td>[24, 56, 75, 103, 127, 154, 180, 354, 364, 372...</td>\n",
       "      <td>2.0</td>\n",
       "      <td>[0]</td>\n",
       "      <td>[-0.03807872161269188, -0.012749378569424152, ...</td>\n",
       "      <td>[0.036320362240076065, -0.06904470920562744, -...</td>\n",
       "    </tr>\n",
       "    <tr>\n",
       "      <th>1</th>\n",
       "      <td>73.0</td>\n",
       "      <td>[1]</td>\n",
       "      <td>101.0</td>\n",
       "      <td>5.0</td>\n",
       "      <td>15.0</td>\n",
       "      <td>106.0</td>\n",
       "      <td>10.0</td>\n",
       "      <td>2.0</td>\n",
       "      <td>[107, 45, 37, 139, 73]</td>\n",
       "      <td>12.0</td>\n",
       "      <td>...</td>\n",
       "      <td>14.0</td>\n",
       "      <td>NaN</td>\n",
       "      <td>18.0</td>\n",
       "      <td>0.0</td>\n",
       "      <td>5.0</td>\n",
       "      <td>[24, 56, 75, 103, 127, 154, 180, 354, 364, 372...</td>\n",
       "      <td>2.0</td>\n",
       "      <td>[2]</td>\n",
       "      <td>[0.06601769477128983, -0.116398386657238, -0.1...</td>\n",
       "      <td>[0.024867577478289604, -0.05182826519012451, -...</td>\n",
       "    </tr>\n",
       "    <tr>\n",
       "      <th>2</th>\n",
       "      <td>138.0</td>\n",
       "      <td>[139]</td>\n",
       "      <td>91.0</td>\n",
       "      <td>5.0</td>\n",
       "      <td>15.0</td>\n",
       "      <td>158.0</td>\n",
       "      <td>14.0</td>\n",
       "      <td>2.0</td>\n",
       "      <td>[107, 45, 37, 139, 73]</td>\n",
       "      <td>12.0</td>\n",
       "      <td>...</td>\n",
       "      <td>14.0</td>\n",
       "      <td>NaN</td>\n",
       "      <td>18.0</td>\n",
       "      <td>0.0</td>\n",
       "      <td>5.0</td>\n",
       "      <td>[24, 56, 75, 103, 127, 154, 180, 354, 364, 372...</td>\n",
       "      <td>2.0</td>\n",
       "      <td>[1]</td>\n",
       "      <td>[0.051832638680934906, -0.06841100752353668, 0...</td>\n",
       "      <td>[-0.028975747525691986, -0.05876034498214722, ...</td>\n",
       "    </tr>\n",
       "    <tr>\n",
       "      <th>3</th>\n",
       "      <td>163.0</td>\n",
       "      <td>[139]</td>\n",
       "      <td>2.0</td>\n",
       "      <td>19.0</td>\n",
       "      <td>5.0</td>\n",
       "      <td>118.0</td>\n",
       "      <td>13.0</td>\n",
       "      <td>2.0</td>\n",
       "      <td>[107, 45, 37, 139, 73]</td>\n",
       "      <td>12.0</td>\n",
       "      <td>...</td>\n",
       "      <td>14.0</td>\n",
       "      <td>NaN</td>\n",
       "      <td>18.0</td>\n",
       "      <td>0.0</td>\n",
       "      <td>5.0</td>\n",
       "      <td>[24, 56, 75, 103, 127, 154, 180, 354, 364, 372...</td>\n",
       "      <td>2.0</td>\n",
       "      <td>[2]</td>\n",
       "      <td>[0.03702368587255478, -0.028293535113334656, -...</td>\n",
       "      <td>[0.0736999586224556, -0.03264852613210678, 0.0...</td>\n",
       "    </tr>\n",
       "    <tr>\n",
       "      <th>4</th>\n",
       "      <td>179.0</td>\n",
       "      <td>[139, 1]</td>\n",
       "      <td>73.0</td>\n",
       "      <td>44.0</td>\n",
       "      <td>15.0</td>\n",
       "      <td>146.0</td>\n",
       "      <td>14.0</td>\n",
       "      <td>2.0</td>\n",
       "      <td>[107, 45, 37, 139, 73]</td>\n",
       "      <td>12.0</td>\n",
       "      <td>...</td>\n",
       "      <td>14.0</td>\n",
       "      <td>NaN</td>\n",
       "      <td>18.0</td>\n",
       "      <td>0.0</td>\n",
       "      <td>5.0</td>\n",
       "      <td>[24, 56, 75, 103, 127, 154, 180, 354, 364, 372...</td>\n",
       "      <td>2.0</td>\n",
       "      <td>[1]</td>\n",
       "      <td>[-0.009346935898065567, 0.08956180512905121, -...</td>\n",
       "      <td>[-0.07472142577171326, 0.00847462099045515, 0....</td>\n",
       "    </tr>\n",
       "  </tbody>\n",
       "</table>\n",
       "<p>5 rows × 24 columns</p>\n",
       "</div>"
      ],
      "text/plain": [
       "   Company Market Categories  City (HQ)  State / Region (HQ)  Country (HQ)  \\\n",
       "0     66.0             [139]        8.0                  2.0          13.0   \n",
       "1     73.0               [1]      101.0                  5.0          15.0   \n",
       "2    138.0             [139]       91.0                  5.0          15.0   \n",
       "3    163.0             [139]        2.0                 19.0           5.0   \n",
       "4    179.0          [139, 1]       73.0                 44.0          15.0   \n",
       "\n",
       "   Price  Age on acquisition  Acquiring Company (Acquiring)  \\\n",
       "0   81.0                 8.4                            2.0   \n",
       "1  106.0                10.0                            2.0   \n",
       "2  158.0                14.0                            2.0   \n",
       "3  118.0                13.0                            2.0   \n",
       "4  146.0                14.0                            2.0   \n",
       "\n",
       "  Market Categories (Acquiring)  Year Founded (Acquiring)  ...  \\\n",
       "0        [107, 45, 37, 139, 73]                      12.0  ...   \n",
       "1        [107, 45, 37, 139, 73]                      12.0  ...   \n",
       "2        [107, 45, 37, 139, 73]                      12.0  ...   \n",
       "3        [107, 45, 37, 139, 73]                      12.0  ...   \n",
       "4        [107, 45, 37, 139, 73]                      12.0  ...   \n",
       "\n",
       "   Number of Acquisitions (Acquiring) Board Members (Acquiring)  \\\n",
       "0                                14.0                       NaN   \n",
       "1                                14.0                       NaN   \n",
       "2                                14.0                       NaN   \n",
       "3                                14.0                       NaN   \n",
       "4                                14.0                       NaN   \n",
       "\n",
       "   City (HQ) (Acquiring)  State / Region (HQ) (Acquiring)  \\\n",
       "0                   18.0                              0.0   \n",
       "1                   18.0                              0.0   \n",
       "2                   18.0                              0.0   \n",
       "3                   18.0                              0.0   \n",
       "4                   18.0                              0.0   \n",
       "\n",
       "   Country (HQ) (Acquiring)  \\\n",
       "0                       5.0   \n",
       "1                       5.0   \n",
       "2                       5.0   \n",
       "3                       5.0   \n",
       "4                       5.0   \n",
       "\n",
       "                      Acquired Companies (Acquiring)  Status (Acquisitions)  \\\n",
       "0  [24, 56, 75, 103, 127, 154, 180, 354, 364, 372...                    2.0   \n",
       "1  [24, 56, 75, 103, 127, 154, 180, 354, 364, 372...                    2.0   \n",
       "2  [24, 56, 75, 103, 127, 154, 180, 354, 364, 372...                    2.0   \n",
       "3  [24, 56, 75, 103, 127, 154, 180, 354, 364, 372...                    2.0   \n",
       "4  [24, 56, 75, 103, 127, 154, 180, 354, 364, 372...                    2.0   \n",
       "\n",
       "   Terms (Acquisitions)                                  Tagline_Embedding  \\\n",
       "0                   [0]  [-0.03807872161269188, -0.012749378569424152, ...   \n",
       "1                   [2]  [0.06601769477128983, -0.116398386657238, -0.1...   \n",
       "2                   [1]  [0.051832638680934906, -0.06841100752353668, 0...   \n",
       "3                   [2]  [0.03702368587255478, -0.028293535113334656, -...   \n",
       "4                   [1]  [-0.009346935898065567, 0.08956180512905121, -...   \n",
       "\n",
       "                            Tagleline (aquiring)_Emb  \n",
       "0  [0.036320362240076065, -0.06904470920562744, -...  \n",
       "1  [0.024867577478289604, -0.05182826519012451, -...  \n",
       "2  [-0.028975747525691986, -0.05876034498214722, ...  \n",
       "3  [0.0736999586224556, -0.03264852613210678, 0.0...  \n",
       "4  [-0.07472142577171326, 0.00847462099045515, 0....  \n",
       "\n",
       "[5 rows x 24 columns]"
      ]
     },
     "execution_count": 236,
     "metadata": {},
     "output_type": "execute_result"
    }
   ],
   "source": [
    "df.head()"
   ]
  },
  {
   "cell_type": "code",
   "execution_count": null,
   "id": "c7db637f",
   "metadata": {},
   "outputs": [],
   "source": []
  },
  {
   "cell_type": "markdown",
   "id": "2ca8d7c7",
   "metadata": {},
   "source": [
    "# TODO\n",
    "* **there is 'None' values in Market Categories** probabily needs imputation but it's encoded\n",
    "* scaling\n",
    "* outliers\n",
    "* embed Tagline\n",
    "* What to do with founders"
   ]
  }
 ],
 "metadata": {
  "kaggle": {
   "accelerator": "none",
   "dataSources": [
    {
     "datasetId": 7177363,
     "sourceId": 11454929,
     "sourceType": "datasetVersion"
    }
   ],
   "dockerImageVersionId": 31012,
   "isGpuEnabled": false,
   "isInternetEnabled": true,
   "language": "python",
   "sourceType": "notebook"
  },
  "kernelspec": {
   "display_name": "Python 3",
   "language": "python",
   "name": "python3"
  },
  "language_info": {
   "codemirror_mode": {
    "name": "ipython",
    "version": 3
   },
   "file_extension": ".py",
   "mimetype": "text/x-python",
   "name": "python",
   "nbconvert_exporter": "python",
   "pygments_lexer": "ipython3",
   "version": "3.13.3"
  },
  "papermill": {
   "default_parameters": {},
   "duration": 1338.851049,
   "end_time": "2025-04-18T03:11:48.142323",
   "environment_variables": {},
   "exception": null,
   "input_path": "__notebook__.ipynb",
   "output_path": "__notebook__.ipynb",
   "parameters": {},
   "start_time": "2025-04-18T02:49:29.291274",
   "version": "2.6.0"
  }
 },
 "nbformat": 4,
 "nbformat_minor": 5
}
