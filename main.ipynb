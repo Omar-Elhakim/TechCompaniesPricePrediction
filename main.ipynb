{
 "cells": [
  {
   "cell_type": "markdown",
   "id": "08a5ce0e",
   "metadata": {
    "papermill": {
     "duration": 0.003463,
     "end_time": "2025-04-18T02:49:32.987894",
     "exception": false,
     "start_time": "2025-04-18T02:49:32.984431",
     "status": "completed"
    },
    "tags": []
   },
   "source": [
    "# Challenges:\n",
    "* links\n",
    "* News\n",
    "* Encode companies\n",
    "* Encode people\n",
    "* Encode cities and countries\n",
    "* use text data embedding (word/document) or word freq \n",
    "* Remove unneeded columns (e.g. images,Deal announced on)\n",
    "* Imputation\n",
    "* impute year founded\n",
    "* Twitter link: get followers and latest post?"
   ]
  },
  {
   "cell_type": "markdown",
   "id": "9b5956f4",
   "metadata": {
    "papermill": {
     "duration": 0.002336,
     "end_time": "2025-04-18T02:49:32.992877",
     "exception": false,
     "start_time": "2025-04-18T02:49:32.990541",
     "status": "completed"
    },
    "tags": []
   },
   "source": [
    "# Notes on data\n",
    "* Address col is useless , there's already city,state and country cols\n",
    "* Crunchbase links are protected with captcha , can't be scraped"
   ]
  },
  {
   "cell_type": "markdown",
   "id": "d4eed25f",
   "metadata": {
    "papermill": {
     "duration": 0.002297,
     "end_time": "2025-04-18T02:49:32.997654",
     "exception": false,
     "start_time": "2025-04-18T02:49:32.995357",
     "status": "completed"
    },
    "tags": []
   },
   "source": [
    "imports"
   ]
  },
  {
   "cell_type": "code",
   "execution_count": null,
   "id": "057f6186",
   "metadata": {
    "execution": {
     "iopub.execute_input": "2025-04-18T02:49:33.005670Z",
     "iopub.status.busy": "2025-04-18T02:49:33.005346Z",
     "iopub.status.idle": "2025-04-18T02:49:34.560015Z",
     "shell.execute_reply": "2025-04-18T02:49:34.559349Z"
    },
    "papermill": {
     "duration": 1.560025,
     "end_time": "2025-04-18T02:49:34.561395",
     "exception": false,
     "start_time": "2025-04-18T02:49:33.001370",
     "status": "completed"
    },
    "tags": []
   },
   "outputs": [],
   "source": [
    "import pandas as pd\n",
    "import numpy as np\n",
    "import requests\n",
    "import plotly.express as px"
   ]
  },
  {
   "cell_type": "markdown",
   "id": "eb380aa7",
   "metadata": {
    "papermill": {
     "duration": 0.002338,
     "end_time": "2025-04-18T02:49:34.566630",
     "exception": false,
     "start_time": "2025-04-18T02:49:34.564292",
     "status": "completed"
    },
    "tags": []
   },
   "source": [
    "Reviewing a sample row from each file"
   ]
  },
  {
   "cell_type": "code",
   "execution_count": 19,
   "id": "691a282e",
   "metadata": {
    "execution": {
     "iopub.execute_input": "2025-04-18T02:49:34.572944Z",
     "iopub.status.busy": "2025-04-18T02:49:34.572576Z",
     "iopub.status.idle": "2025-04-18T02:49:34.606976Z",
     "shell.execute_reply": "2025-04-18T02:49:34.606184Z"
    },
    "papermill": {
     "duration": 0.03912,
     "end_time": "2025-04-18T02:49:34.608254",
     "exception": false,
     "start_time": "2025-04-18T02:49:34.569134",
     "status": "completed"
    },
    "tags": []
   },
   "outputs": [
    {
     "data": {
      "text/plain": [
       "Company                                                     Day Software\n",
       "CrunchBase Profile     http://www.crunchbase.com/organization/day-sof...\n",
       "Image                  http://a5.images.crunchbase.com/image/upload/c...\n",
       "Tagline                Day Software develops web applications that al...\n",
       "Year Founded                                                         NaN\n",
       "Market Categories                                               Software\n",
       "Address (HQ)           Barfüsserplatz 6, Basel, Basel-Stadt, Switzerland\n",
       "City (HQ)                                                          Basel\n",
       "State / Region (HQ)                                          Basel-Stadt\n",
       "Country (HQ)                                                 Switzerland\n",
       "Description            Day was founded in Basel, Switzerland, in 1993...\n",
       "Homepage                                              http://www.day.com\n",
       "Twitter                                                              NaN\n",
       "Acquired by                                                        Adobe\n",
       "Acquisitions ID              Adobe Systems acquired Day Software in 2010\n",
       "API                    http://api.crunchbase.com/v/2/organization/day...\n",
       "Name: 0, dtype: object"
      ]
     },
     "execution_count": 19,
     "metadata": {},
     "output_type": "execute_result"
    }
   ],
   "source": [
    "acquired = pd.read_csv(\"Data/Acquired Tech Companies.csv\")\n",
    "acquired.iloc[0]"
   ]
  },
  {
   "cell_type": "code",
   "execution_count": 20,
   "id": "9e553de0",
   "metadata": {
    "execution": {
     "iopub.execute_input": "2025-04-18T02:49:34.614940Z",
     "iopub.status.busy": "2025-04-18T02:49:34.614702Z",
     "iopub.status.idle": "2025-04-18T02:49:34.629609Z",
     "shell.execute_reply": "2025-04-18T02:49:34.628973Z"
    },
    "papermill": {
     "duration": 0.019613,
     "end_time": "2025-04-18T02:49:34.630846",
     "exception": false,
     "start_time": "2025-04-18T02:49:34.611233",
     "status": "completed"
    },
    "tags": []
   },
   "outputs": [
    {
     "data": {
      "text/plain": [
       "Acquiring Company                                                                        Adobe\n",
       "CrunchBase Profile                               www.crunchbase.com/organization/adobe-systems\n",
       "Image                                        http://a2.images.crunchbase.com/image/upload/c...\n",
       "Tagline                                      Adobe is an American multinational computer so...\n",
       "Market Categories                            Photo Editing, Design, Creative, Software, Ima...\n",
       "Year Founded                                                                              1982\n",
       "IPO                                                                                       1986\n",
       "Founders                                                         John Warnock, Charles Geschke\n",
       "Number of Employees                                                                     11,144\n",
       "Number of Employees (year of last update)                                               2012.0\n",
       "Total Funding ($)                                                                            0\n",
       "Number of Acquisitions                                                                      38\n",
       "Board Members                                                                              NaN\n",
       "Address (HQ)                                               San Jose, California, United States\n",
       "City (HQ)                                                                             San Jose\n",
       "State / Region (HQ)                                                                 California\n",
       "Country (HQ)                                                                     United States\n",
       "Description                                  Adobe Systems is an American multinational com...\n",
       "Homepage                                                                  http://www.adobe.com\n",
       "Twitter                                                               http://twitter.com/Adobe\n",
       "Acquired Companies                           Accelio Corporation, Aldus Corp, Amicima, Ares...\n",
       "Acquisitions ID                              Adobe Systems acquired Accelio Corporation in ...\n",
       "API                                          http://api.crunchbase.com/v/2/organization/ado...\n",
       "Name: 0, dtype: object"
      ]
     },
     "execution_count": 20,
     "metadata": {},
     "output_type": "execute_result"
    }
   ],
   "source": [
    "acquiring = pd.read_csv(\"Data/Acquiring Tech Companies.csv\")\n",
    "acquiring.iloc[0]"
   ]
  },
  {
   "cell_type": "code",
   "execution_count": 21,
   "id": "530e8224",
   "metadata": {
    "execution": {
     "iopub.execute_input": "2025-04-18T02:49:34.637438Z",
     "iopub.status.busy": "2025-04-18T02:49:34.637205Z",
     "iopub.status.idle": "2025-04-18T02:49:34.649691Z",
     "shell.execute_reply": "2025-04-18T02:49:34.649090Z"
    },
    "papermill": {
     "duration": 0.016717,
     "end_time": "2025-04-18T02:49:34.650598",
     "exception": false,
     "start_time": "2025-04-18T02:49:34.633881",
     "status": "completed"
    },
    "tags": []
   },
   "outputs": [
    {
     "data": {
      "text/plain": [
       "Acquisitions ID                                      EMC acquired Data Domain in 2009\n",
       "Acquired Company                                                          Data Domain\n",
       "Acquiring Company                                                                 EMC\n",
       "Year of acquisition announcement                                                 2009\n",
       "Deal announced on                                                           8/07/2009\n",
       "Price                                                                  $2,100,000,000\n",
       "Status                                                                    Undisclosed\n",
       "Terms                                                                            Cash\n",
       "Acquisition Profile                 http://www.crunchbase.com/acquisition/5dc676a1...\n",
       "News                                                         EMC acquired Data Domain\n",
       "News Link                           http://www.businesswire.com/news/home/20090708...\n",
       "Name: 0, dtype: object"
      ]
     },
     "execution_count": 21,
     "metadata": {},
     "output_type": "execute_result"
    }
   ],
   "source": [
    "acquisitions = pd.read_csv(\"Data/Acquisitions.csv\")\n",
    "acquisitions.iloc[0]"
   ]
  },
  {
   "cell_type": "code",
   "execution_count": 22,
   "id": "697d6f89",
   "metadata": {
    "execution": {
     "iopub.execute_input": "2025-04-18T02:49:34.657462Z",
     "iopub.status.busy": "2025-04-18T02:49:34.657208Z",
     "iopub.status.idle": "2025-04-18T02:49:34.667878Z",
     "shell.execute_reply": "2025-04-18T02:49:34.667382Z"
    },
    "papermill": {
     "duration": 0.015041,
     "end_time": "2025-04-18T02:49:34.668759",
     "exception": false,
     "start_time": "2025-04-18T02:49:34.653718",
     "status": "completed"
    },
    "tags": []
   },
   "outputs": [
    {
     "data": {
      "text/plain": [
       "Name                                                 Hans-Werner Hector\n",
       "CrunchBase Profile      http://de.wikipedia.org/wiki/Hans-Werner_Hector\n",
       "Role                                                            Founder\n",
       "Companies                                                           SAP\n",
       "Image                 http://images.forbes.com/media/lists/10/2006/4...\n",
       "Name: 0, dtype: object"
      ]
     },
     "execution_count": 22,
     "metadata": {},
     "output_type": "execute_result"
    }
   ],
   "source": [
    "founders = pd.read_csv(\"Data/Founders and Board Members.csv\")\n",
    "founders.iloc[0]"
   ]
  },
  {
   "cell_type": "markdown",
   "id": "c4ecc0ea",
   "metadata": {
    "papermill": {
     "duration": 0.002705,
     "end_time": "2025-04-18T02:49:34.674632",
     "exception": false,
     "start_time": "2025-04-18T02:49:34.671927",
     "status": "completed"
    },
    "tags": []
   },
   "source": [
    "We will link between the files using these columns:\n",
    "* Acquisitions ID to link the acquisitions\n",
    "* 'Founders' and 'Name' to link the Founders"
   ]
  },
  {
   "cell_type": "code",
   "execution_count": 23,
   "id": "5dc16d0c",
   "metadata": {
    "execution": {
     "iopub.execute_input": "2025-04-18T02:49:34.681367Z",
     "iopub.status.busy": "2025-04-18T02:49:34.681078Z",
     "iopub.status.idle": "2025-04-18T02:49:34.686236Z",
     "shell.execute_reply": "2025-04-18T02:49:34.685645Z"
    },
    "papermill": {
     "duration": 0.009843,
     "end_time": "2025-04-18T02:49:34.687247",
     "exception": false,
     "start_time": "2025-04-18T02:49:34.677404",
     "status": "completed"
    },
    "tags": []
   },
   "outputs": [
    {
     "data": {
      "text/plain": [
       "['Acquisitions ID']"
      ]
     },
     "execution_count": 23,
     "metadata": {},
     "output_type": "execute_result"
    }
   ],
   "source": [
    "np.intersect1d(acquired.columns, acquisitions.columns).tolist()"
   ]
  },
  {
   "cell_type": "code",
   "execution_count": 24,
   "id": "1fb33682",
   "metadata": {
    "execution": {
     "iopub.execute_input": "2025-04-18T02:49:34.694994Z",
     "iopub.status.busy": "2025-04-18T02:49:34.694732Z",
     "iopub.status.idle": "2025-04-18T02:49:34.699838Z",
     "shell.execute_reply": "2025-04-18T02:49:34.699169Z"
    },
    "papermill": {
     "duration": 0.010176,
     "end_time": "2025-04-18T02:49:34.700830",
     "exception": false,
     "start_time": "2025-04-18T02:49:34.690654",
     "status": "completed"
    },
    "tags": []
   },
   "outputs": [
    {
     "data": {
      "text/plain": [
       "['Acquiring Company', 'Acquisitions ID']"
      ]
     },
     "execution_count": 24,
     "metadata": {},
     "output_type": "execute_result"
    }
   ],
   "source": [
    "np.intersect1d(acquiring.columns, acquisitions.columns).tolist()"
   ]
  },
  {
   "cell_type": "code",
   "execution_count": 9,
   "id": "b5726517",
   "metadata": {
    "execution": {
     "iopub.execute_input": "2025-04-18T02:49:34.811020Z",
     "iopub.status.busy": "2025-04-18T02:49:34.810746Z",
     "iopub.status.idle": "2025-04-18T02:49:34.816261Z",
     "shell.execute_reply": "2025-04-18T02:49:34.815458Z"
    },
    "papermill": {
     "duration": 0.010891,
     "end_time": "2025-04-18T02:49:34.817487",
     "exception": false,
     "start_time": "2025-04-18T02:49:34.806596",
     "status": "completed"
    },
    "tags": []
   },
   "outputs": [],
   "source": [
    "def ValidateLink(url, timeout=15):\n",
    "    session = requests.Session()\n",
    "    # fake headers to make it seem like a real request\n",
    "    headers = {\n",
    "        \"User-Agent\": \"Mozilla/5.0 (Windows NT 10.0; Win64; x64) AppleWebKit/537.36 (KHTML, like Gecko) Chrome/123.0.0.0 Safari/537.36\",\n",
    "        \"Accept\": \"text/html,application/xhtml+xml,application/xml;q=0.9,image/avif,image/webp,image/apng,*/*;q=0.8,application/signed-exchange;v=b3;q=0.7\",\n",
    "        \"Accept-Language\": \"en-US,en;q=0.9\",\n",
    "        \"Accept-Encoding\": \"gzip, deflate, br\",\n",
    "        \"Connection\": \"keep-alive\",\n",
    "        \"Upgrade-Insecure-Requests\": \"1\",\n",
    "        \"DNT\": \"1\",\n",
    "    }\n",
    "    session.headers.update(headers)\n",
    "    try:\n",
    "        response = session.get(url, timeout=timeout, allow_redirects=True, stream=True)\n",
    "        status_code = response.status_code\n",
    "        response.close()\n",
    "        if status_code < 400:\n",
    "            return True\n",
    "        else:\n",
    "            return False\n",
    "    except Exception as e:\n",
    "        return False"
   ]
  },
  {
   "cell_type": "code",
   "execution_count": null,
   "id": "78e377cc",
   "metadata": {
    "execution": {
     "iopub.execute_input": "2025-04-18T02:49:34.825332Z",
     "iopub.status.busy": "2025-04-18T02:49:34.825064Z",
     "iopub.status.idle": "2025-04-18T02:49:34.829825Z",
     "shell.execute_reply": "2025-04-18T02:49:34.829159Z"
    },
    "papermill": {
     "duration": 0.010094,
     "end_time": "2025-04-18T02:49:34.831087",
     "exception": false,
     "start_time": "2025-04-18T02:49:34.820993",
     "status": "completed"
    },
    "tags": []
   },
   "outputs": [],
   "source": [
    "def ValidateLinks(urls):\n",
    "    results = []\n",
    "    for url in urls:\n",
    "        results.append(ValidateLink(url))\n",
    "        if results[-1]:\n",
    "            return results\n",
    "    return results"
   ]
  },
  {
   "cell_type": "code",
   "execution_count": null,
   "id": "73949098",
   "metadata": {
    "execution": {
     "iopub.execute_input": "2025-04-18T02:49:34.839334Z",
     "iopub.status.busy": "2025-04-18T02:49:34.839008Z",
     "iopub.status.idle": "2025-04-18T02:49:34.844936Z",
     "shell.execute_reply": "2025-04-18T02:49:34.844182Z"
    },
    "papermill": {
     "duration": 0.01149,
     "end_time": "2025-04-18T02:49:34.846169",
     "exception": false,
     "start_time": "2025-04-18T02:49:34.834679",
     "status": "completed"
    },
    "tags": []
   },
   "outputs": [],
   "source": [
    "def ValidateLinksDF(df):\n",
    "    for col in df.columns:\n",
    "        for val in df[col]:\n",
    "            if type(val) == str and (\"http\" in val):\n",
    "                print(col)\n",
    "                results = ValidateLinks(df[col])\n",
    "                if not pd.Series(results).any():\n",
    "                    print(f'Column \"{col}\" had no valid links , or is using captcha.')\n",
    "                    print(\"Try it yourself:\")\n",
    "                    print(df[col][0] + \"\\n\")\n",
    "                break"
   ]
  },
  {
   "cell_type": "code",
   "execution_count": 12,
   "id": "181d1805",
   "metadata": {
    "execution": {
     "iopub.execute_input": "2025-04-18T02:49:34.857797Z",
     "iopub.status.busy": "2025-04-18T02:49:34.857502Z",
     "iopub.status.idle": "2025-04-18T03:04:27.411944Z",
     "shell.execute_reply": "2025-04-18T03:04:27.411050Z"
    },
    "papermill": {
     "duration": 892.561951,
     "end_time": "2025-04-18T03:04:27.413449",
     "exception": false,
     "start_time": "2025-04-18T02:49:34.851498",
     "status": "completed"
    },
    "tags": []
   },
   "outputs": [
    {
     "name": "stdout",
     "output_type": "stream",
     "text": [
      "CrunchBase Profile\n",
      "Column \"CrunchBase Profile\" had no valid links , or is using captcha.\n",
      "Try it yourself:\n",
      "http://www.crunchbase.com/organization/day-software\n",
      "\n",
      "Image\n",
      "Column \"Image\" had no valid links , or is using captcha.\n",
      "Try it yourself:\n",
      "http://a5.images.crunchbase.com/image/upload/c_pad,h_500,w_500/v1397187256/0ef62e4243274cafe1a563dda2bca363.png\n",
      "\n",
      "Homepage\n",
      "Twitter\n",
      "API\n"
     ]
    }
   ],
   "source": [
    "ValidateLinksDF(acquired)"
   ]
  },
  {
   "cell_type": "markdown",
   "id": "fb308431",
   "metadata": {},
   "source": [
    "* CrunchBase is using CAPTCHA , so we won't drop it now but we will proccess it later\n",
    "* Image links are all corrupt so we will drop the column "
   ]
  },
  {
   "cell_type": "code",
   "execution_count": 25,
   "id": "c35ccf78",
   "metadata": {},
   "outputs": [],
   "source": [
    "acquired = acquired.drop(\"Image\", axis=1)"
   ]
  },
  {
   "cell_type": "code",
   "execution_count": 13,
   "id": "2a2200a3",
   "metadata": {
    "execution": {
     "iopub.execute_input": "2025-04-18T03:04:27.421572Z",
     "iopub.status.busy": "2025-04-18T03:04:27.421350Z",
     "iopub.status.idle": "2025-04-18T03:06:05.489255Z",
     "shell.execute_reply": "2025-04-18T03:06:05.488446Z"
    },
    "papermill": {
     "duration": 98.073524,
     "end_time": "2025-04-18T03:06:05.490930",
     "exception": false,
     "start_time": "2025-04-18T03:04:27.417406",
     "status": "completed"
    },
    "tags": []
   },
   "outputs": [
    {
     "name": "stdout",
     "output_type": "stream",
     "text": [
      "Image\n",
      "Column \"Image\" had no valid links , or is using captcha.\n",
      "Try it yourself:\n",
      "http://a2.images.crunchbase.com/image/upload/c_pad,h_500,w_500/v1397180657/2cd912e176145af3618549d60b7959a1.png\n",
      "\n",
      "Homepage\n",
      "Twitter\n",
      "API\n"
     ]
    }
   ],
   "source": [
    "ValidateLinksDF(acquiring)"
   ]
  },
  {
   "cell_type": "markdown",
   "id": "c560a108",
   "metadata": {},
   "source": [
    "* drop Image also"
   ]
  },
  {
   "cell_type": "code",
   "execution_count": 26,
   "id": "cc2646cf",
   "metadata": {},
   "outputs": [],
   "source": [
    "acquiring = acquiring.drop(\"Image\", axis=1)"
   ]
  },
  {
   "cell_type": "code",
   "execution_count": 14,
   "id": "c6e489ba",
   "metadata": {
    "execution": {
     "iopub.execute_input": "2025-04-18T03:06:05.499732Z",
     "iopub.status.busy": "2025-04-18T03:06:05.499484Z",
     "iopub.status.idle": "2025-04-18T03:11:17.444025Z",
     "shell.execute_reply": "2025-04-18T03:11:17.443248Z"
    },
    "papermill": {
     "duration": 311.950251,
     "end_time": "2025-04-18T03:11:17.445349",
     "exception": false,
     "start_time": "2025-04-18T03:06:05.495098",
     "status": "completed"
    },
    "tags": []
   },
   "outputs": [
    {
     "name": "stdout",
     "output_type": "stream",
     "text": [
      "Acquisition Profile\n",
      "Column \"Acquisition Profile\" had no valid links , or is using captcha.\n",
      "Try it yourself:\n",
      "http://www.crunchbase.com/acquisition/5dc676a13d41c2ee87169ce59476ec2d\n",
      "\n",
      "News Link\n"
     ]
    }
   ],
   "source": [
    "ValidateLinksDF(acquisitions)"
   ]
  },
  {
   "cell_type": "markdown",
   "id": "7ba25a5f",
   "metadata": {},
   "source": [
    "* acquisitions profile is also a crunchbase link"
   ]
  },
  {
   "cell_type": "code",
   "execution_count": 15,
   "id": "750cb3b3",
   "metadata": {
    "execution": {
     "iopub.execute_input": "2025-04-18T03:11:17.454583Z",
     "iopub.status.busy": "2025-04-18T03:11:17.454322Z",
     "iopub.status.idle": "2025-04-18T03:11:47.507277Z",
     "shell.execute_reply": "2025-04-18T03:11:47.506425Z"
    },
    "papermill": {
     "duration": 30.059262,
     "end_time": "2025-04-18T03:11:47.508743",
     "exception": false,
     "start_time": "2025-04-18T03:11:17.449481",
     "status": "completed"
    },
    "tags": []
   },
   "outputs": [
    {
     "name": "stdout",
     "output_type": "stream",
     "text": [
      "CrunchBase Profile\n",
      "Image\n"
     ]
    }
   ],
   "source": [
    "ValidateLinksDF(founders)"
   ]
  },
  {
   "cell_type": "markdown",
   "id": "95b9ac71",
   "metadata": {},
   "source": [
    "We don't need the exact address of the company, we already have the city , state and country"
   ]
  },
  {
   "cell_type": "code",
   "execution_count": 27,
   "id": "a082bb19",
   "metadata": {},
   "outputs": [],
   "source": [
    "acquired=acquired.drop('Address (HQ)', axis=1)\n",
    "acquiring=acquiring.drop('Address (HQ)', axis=1)"
   ]
  },
  {
   "cell_type": "markdown",
   "id": "75192d43",
   "metadata": {},
   "source": [
    "Dropping 'year of last update' of the number of employees , because we don't need it directly and can't use it in any way to pridct the current number"
   ]
  },
  {
   "cell_type": "code",
   "execution_count": 28,
   "id": "88f3827c",
   "metadata": {},
   "outputs": [],
   "source": [
    "acquiring=acquiring.drop('Number of Employees (year of last update)', axis=1)"
   ]
  },
  {
   "cell_type": "code",
   "execution_count": 29,
   "id": "72f4b4da",
   "metadata": {},
   "outputs": [
    {
     "data": {
      "text/plain": [
       "'EMC manufactures information management and storage software systems.'"
      ]
     },
     "execution_count": 29,
     "metadata": {},
     "output_type": "execute_result"
    }
   ],
   "source": [
    "acquiring.iloc[12]['Tagline']"
   ]
  },
  {
   "cell_type": "code",
   "execution_count": 30,
   "id": "782cbf30",
   "metadata": {},
   "outputs": [
    {
     "name": "stdout",
     "output_type": "stream",
     "text": [
      "EMC is a global leader in enabling businesses and service providers to transform their operations and deliver information technology as a service ITaaS\n",
      "\n",
      " Fundamental to this transformation is cloud computing\n",
      "\n",
      " Through innovative products and services, EMC accelerates the journey to cloud computing, helping IT departments to store, manage, protect and analyze their most valuable asset — information — in a more agile, trusted and cost-efficient way\n",
      "\n",
      "EMC is a manufacturer of software and systems for information management and storage\n",
      "\n",
      "  EMC produces a range of enterprise storage products, including hardware disk arrays and storage management software\n",
      "\n",
      " Its flagship product, the Symmetrix, is the foundation of storage networks in many large data centers\n",
      "\n",
      "\n",
      "\n"
     ]
    }
   ],
   "source": [
    "for l in acquiring.iloc[12]['Description'].split('.'):\n",
    "    print(l +'\\n') "
   ]
  },
  {
   "cell_type": "markdown",
   "id": "7fe3757c",
   "metadata": {},
   "source": [
    "* 'Tagline' contains a brief and precise description of the company , while the 'Description' is very long and doesn't provide any more important details, \n",
    "so we will drop the 'Description'"
   ]
  },
  {
   "cell_type": "code",
   "execution_count": 31,
   "id": "39b2dfa2",
   "metadata": {},
   "outputs": [],
   "source": [
    "acquiring=acquiring.drop('Description', axis=1)\n",
    "acquired=acquired.drop('Description', axis=1)"
   ]
  },
  {
   "cell_type": "markdown",
   "id": "5317712c",
   "metadata": {},
   "source": [
    "**Adding the target variable**"
   ]
  },
  {
   "cell_type": "code",
   "execution_count": 32,
   "id": "65114a47",
   "metadata": {},
   "outputs": [],
   "source": [
    "acquisitions['Price']=[int(price.removeprefix('$').replace(',','')) for price in acquisitions['Price']]"
   ]
  },
  {
   "cell_type": "code",
   "execution_count": 34,
   "id": "bb13f980",
   "metadata": {},
   "outputs": [
    {
     "data": {
      "application/vnd.plotly.v1+json": {
       "config": {
        "plotlyServerURL": "https://plot.ly"
       },
       "data": [
        {
         "hovertemplate": "Year of acquisition announcement=%{x}<br>Price=%{y}<extra></extra>",
         "legendgroup": "",
         "marker": {
          "color": "#636efa",
          "symbol": "circle"
         },
         "mode": "markers",
         "name": "",
         "orientation": "v",
         "showlegend": false,
         "type": "scatter",
         "x": {
          "bdata": "2QfXB9gH3QfdB9wH2wfVB9oH2gfZB9oH2AfTB9gH1gfaB9IH1AfZB9UH1AfQB9gH2QfeB90H3QfdB9sH1QfdB9oH0AfPB9gH3AfbB9wH2AfXB88H1AfUB9AH2AfcB94H3AfAB9gH2gfWB90H3AfaB9cH3gfbB9oH1wfXB90H2gfYB9sH2gfaB9gH2gfaB9sH3gfeB88H1gfcB9kH2gfaB9sH2AfUB9wH2gfPB9cH3gfZB94H3AfcB9oH3AfTB9gH1gfRB9oH2gfaB84H3QfZB90H2wfcB9sH2QfVB9oH0gfdB9oH2gfcB9gH2QfWB94H1QfcB9oH2AfVB9oH3QfXB80H3AfdB9kH3gfVB9oH3QfYB9sH2QfdB90H3gfWB9wH3AfbB94H2wfcB9sH2wfcB9cH2wfdB9gH2wfXB9sH1wfPB9sHzwfUB9cH3AfaB9oH2AfaB9QH1wfdB94H0wfbB9oH3AfYB9cH2wfZB90H2AfPB9IH2AfZB9kH2QfcB9cH2gfbB84H1gfeB9gH2gfLB9cH2gfdB9oH2wfaB9wH3AfbB88H2gfaB90H3AfTB9gH3QfdB9oH1wfXB9oH1QfaB8wHzwfdB9YH2AfPB9kH3QfYB9gH2wfeB90H2wfZB9YH3QfeB8sH3AfaB9oH3gfNB9gHzQfaB9sHzwfYB9cH2AfPB94H3gfYB9YH2AfbB9MH3QfdB9cH2AfYB9oH3QfaB9oH3AfaB9cHzQfeB9sH3QfYB9cH3QfeB9wH1wfSB94H3QfVB9oH2wfdB94H0QfZB94H3QfdB9oH2QfeB9gH2wfYB9IH2gfeB94H2wfcB9oH1wfeB90H2gfcB94H2gfbB90H2QfeB90H2Qc4CN0H1AfXB9gH2AfPB9gH0gfXB94H",
          "dtype": "i2"
         },
         "xaxis": "x",
         "y": [
          2100000000,
          363000000,
          215000000,
          400000000,
          10000000,
          380000000,
          70000000,
          67500000,
          2400000000,
          30000000,
          1800000000,
          121000000,
          8100000000,
          1600000000,
          15000000,
          200000000,
          65000000,
          436000000,
          3400000000,
          65000000,
          3400000000,
          435000000,
          145000000,
          133000000,
          2700000000,
          19000000000,
          155000000,
          100000000,
          12000000,
          50000000,
          2600000000,
          30000000,
          1300000000,
          432000000,
          1100000000,
          300000000,
          350000000,
          270000000,
          2400000000,
          5000000,
          100000000,
          80000000,
          635000000,
          610000000,
          350000000,
          380000000,
          1900000000,
          100000000,
          50000000,
          2600000000,
          31000000,
          10000000,
          4500000000,
          90000000,
          871000000,
          187500000,
          12000000,
          500000000,
          400000000,
          70000000,
          330000000,
          60000000,
          125000000,
          99000000,
          360000000,
          80000000,
          1700000000,
          152000000,
          8000000,
          5800000000,
          90000000,
          263000000,
          80000000,
          200000000,
          5700000000,
          40000000,
          250000000,
          11500000,
          68200000,
          140000000,
          135000000,
          275000000,
          50000000,
          3400000000,
          160000000,
          250000000,
          210000000,
          5300000000,
          750000000,
          2000000000,
          775000000,
          1300000000,
          820000000,
          1200000000,
          235000000,
          28100000000,
          102000000,
          12000000,
          7700000000,
          95000000,
          164000000,
          49000000,
          2700000000,
          1200000000,
          30000000,
          30000000,
          1000000000,
          400000000,
          3400000000,
          450000000,
          480000000,
          1500000000,
          415000000,
          10000000,
          170000000,
          30000000,
          125000000,
          51000000,
          375000000,
          90700000,
          30000000,
          60000000,
          75000000,
          300000000,
          1100000000,
          25000000,
          40000000,
          10000000,
          1400000,
          176000000,
          60000000,
          29000000,
          120000000,
          620000000,
          10000000,
          347000000,
          120000000,
          10000000,
          225000000,
          26000000,
          80000000,
          50000000,
          75000000,
          689000000,
          100000000,
          100000000,
          10000000000,
          1000000000,
          300000000,
          135000000,
          450000000,
          2500000,
          495000000,
          4900000,
          90000000,
          945000000,
          700000000,
          6400000000,
          3100000000,
          96800000,
          10000000,
          2400000000,
          2900000000,
          160000000,
          850000000,
          144000000,
          25000000,
          55000000,
          1200000000,
          35000000,
          28000000,
          76000000,
          996000000,
          100000000,
          150000000,
          180000000,
          1400000000,
          115000000,
          340000000,
          310000000,
          25000000,
          3900000000,
          2500000000,
          213000000,
          80000000,
          30000000,
          40000000,
          200000000,
          590000000,
          884000000,
          12500000000,
          23000000,
          545000000,
          315000000,
          4200000000,
          28000000,
          15000000,
          53000000,
          142000000,
          3500000000,
          3200000000,
          275000000,
          40000000,
          250000000,
          326000000,
          80000000,
          7000000,
          4300000000,
          10200000000,
          57000000,
          5000000,
          525000000,
          600000000,
          15000000,
          100000000,
          150000000,
          800000000,
          350000000,
          1200000000,
          100000000,
          200000000,
          685000000,
          300000000,
          200000000,
          400000000,
          320000000,
          150000000,
          1700000000,
          40000000,
          525000000,
          100000000,
          130000000,
          115000000,
          8500000000,
          61000000,
          134000000,
          200000000,
          330000000,
          150000000,
          48300000,
          26000000,
          1100000000,
          1700000000,
          220000000,
          110000000,
          50000000,
          3000000000,
          92000000,
          695000000,
          1200000000,
          225000000,
          40000000,
          500000000,
          13900000000,
          1600000000,
          150000000,
          130000000,
          2900000000,
          16000000,
          160000000,
          56000000,
          100000000,
          151000000,
          102000000,
          50000000,
          20000000,
          20300000,
          32000000,
          500000000,
          12000000,
          20000000,
          240000000,
          29000000,
          271000000,
          1500000000,
          275000000,
          400000000,
          175000000,
          410000000,
          200000000,
          123000000,
          50000000,
          20000000,
          970000000,
          70000000,
          100000000,
          96000000,
          500000000,
          307000000,
          93000000,
          2300000000,
          175000000,
          50000000,
          390000000,
          748000000,
          944000000,
          100000000,
          345000000,
          40000000,
          130000000,
          20000000,
          3200000000,
          3100000000,
          15000000,
          278000000,
          135000000,
          1400000000,
          175000000,
          101000000,
          31000000,
          50000000,
          25000000,
          625000000,
          200000000,
          1500000000,
          300000000,
          119000000,
          300000000,
          2500000,
          240000000,
          150000000,
          5200000,
          320000000,
          10100000000,
          183000000,
          10000000000,
          25000000,
          290000000,
          350000000,
          125000000,
          15000000,
          7400000000,
          155000000,
          337000000,
          350000000,
          45000000000
         ],
         "yaxis": "y"
        }
       ],
       "layout": {
        "legend": {
         "tracegroupgap": 0
        },
        "template": {
         "data": {
          "bar": [
           {
            "error_x": {
             "color": "#2a3f5f"
            },
            "error_y": {
             "color": "#2a3f5f"
            },
            "marker": {
             "line": {
              "color": "#E5ECF6",
              "width": 0.5
             },
             "pattern": {
              "fillmode": "overlay",
              "size": 10,
              "solidity": 0.2
             }
            },
            "type": "bar"
           }
          ],
          "barpolar": [
           {
            "marker": {
             "line": {
              "color": "#E5ECF6",
              "width": 0.5
             },
             "pattern": {
              "fillmode": "overlay",
              "size": 10,
              "solidity": 0.2
             }
            },
            "type": "barpolar"
           }
          ],
          "carpet": [
           {
            "aaxis": {
             "endlinecolor": "#2a3f5f",
             "gridcolor": "white",
             "linecolor": "white",
             "minorgridcolor": "white",
             "startlinecolor": "#2a3f5f"
            },
            "baxis": {
             "endlinecolor": "#2a3f5f",
             "gridcolor": "white",
             "linecolor": "white",
             "minorgridcolor": "white",
             "startlinecolor": "#2a3f5f"
            },
            "type": "carpet"
           }
          ],
          "choropleth": [
           {
            "colorbar": {
             "outlinewidth": 0,
             "ticks": ""
            },
            "type": "choropleth"
           }
          ],
          "contour": [
           {
            "colorbar": {
             "outlinewidth": 0,
             "ticks": ""
            },
            "colorscale": [
             [
              0,
              "#0d0887"
             ],
             [
              0.1111111111111111,
              "#46039f"
             ],
             [
              0.2222222222222222,
              "#7201a8"
             ],
             [
              0.3333333333333333,
              "#9c179e"
             ],
             [
              0.4444444444444444,
              "#bd3786"
             ],
             [
              0.5555555555555556,
              "#d8576b"
             ],
             [
              0.6666666666666666,
              "#ed7953"
             ],
             [
              0.7777777777777778,
              "#fb9f3a"
             ],
             [
              0.8888888888888888,
              "#fdca26"
             ],
             [
              1,
              "#f0f921"
             ]
            ],
            "type": "contour"
           }
          ],
          "contourcarpet": [
           {
            "colorbar": {
             "outlinewidth": 0,
             "ticks": ""
            },
            "type": "contourcarpet"
           }
          ],
          "heatmap": [
           {
            "colorbar": {
             "outlinewidth": 0,
             "ticks": ""
            },
            "colorscale": [
             [
              0,
              "#0d0887"
             ],
             [
              0.1111111111111111,
              "#46039f"
             ],
             [
              0.2222222222222222,
              "#7201a8"
             ],
             [
              0.3333333333333333,
              "#9c179e"
             ],
             [
              0.4444444444444444,
              "#bd3786"
             ],
             [
              0.5555555555555556,
              "#d8576b"
             ],
             [
              0.6666666666666666,
              "#ed7953"
             ],
             [
              0.7777777777777778,
              "#fb9f3a"
             ],
             [
              0.8888888888888888,
              "#fdca26"
             ],
             [
              1,
              "#f0f921"
             ]
            ],
            "type": "heatmap"
           }
          ],
          "histogram": [
           {
            "marker": {
             "pattern": {
              "fillmode": "overlay",
              "size": 10,
              "solidity": 0.2
             }
            },
            "type": "histogram"
           }
          ],
          "histogram2d": [
           {
            "colorbar": {
             "outlinewidth": 0,
             "ticks": ""
            },
            "colorscale": [
             [
              0,
              "#0d0887"
             ],
             [
              0.1111111111111111,
              "#46039f"
             ],
             [
              0.2222222222222222,
              "#7201a8"
             ],
             [
              0.3333333333333333,
              "#9c179e"
             ],
             [
              0.4444444444444444,
              "#bd3786"
             ],
             [
              0.5555555555555556,
              "#d8576b"
             ],
             [
              0.6666666666666666,
              "#ed7953"
             ],
             [
              0.7777777777777778,
              "#fb9f3a"
             ],
             [
              0.8888888888888888,
              "#fdca26"
             ],
             [
              1,
              "#f0f921"
             ]
            ],
            "type": "histogram2d"
           }
          ],
          "histogram2dcontour": [
           {
            "colorbar": {
             "outlinewidth": 0,
             "ticks": ""
            },
            "colorscale": [
             [
              0,
              "#0d0887"
             ],
             [
              0.1111111111111111,
              "#46039f"
             ],
             [
              0.2222222222222222,
              "#7201a8"
             ],
             [
              0.3333333333333333,
              "#9c179e"
             ],
             [
              0.4444444444444444,
              "#bd3786"
             ],
             [
              0.5555555555555556,
              "#d8576b"
             ],
             [
              0.6666666666666666,
              "#ed7953"
             ],
             [
              0.7777777777777778,
              "#fb9f3a"
             ],
             [
              0.8888888888888888,
              "#fdca26"
             ],
             [
              1,
              "#f0f921"
             ]
            ],
            "type": "histogram2dcontour"
           }
          ],
          "mesh3d": [
           {
            "colorbar": {
             "outlinewidth": 0,
             "ticks": ""
            },
            "type": "mesh3d"
           }
          ],
          "parcoords": [
           {
            "line": {
             "colorbar": {
              "outlinewidth": 0,
              "ticks": ""
             }
            },
            "type": "parcoords"
           }
          ],
          "pie": [
           {
            "automargin": true,
            "type": "pie"
           }
          ],
          "scatter": [
           {
            "fillpattern": {
             "fillmode": "overlay",
             "size": 10,
             "solidity": 0.2
            },
            "type": "scatter"
           }
          ],
          "scatter3d": [
           {
            "line": {
             "colorbar": {
              "outlinewidth": 0,
              "ticks": ""
             }
            },
            "marker": {
             "colorbar": {
              "outlinewidth": 0,
              "ticks": ""
             }
            },
            "type": "scatter3d"
           }
          ],
          "scattercarpet": [
           {
            "marker": {
             "colorbar": {
              "outlinewidth": 0,
              "ticks": ""
             }
            },
            "type": "scattercarpet"
           }
          ],
          "scattergeo": [
           {
            "marker": {
             "colorbar": {
              "outlinewidth": 0,
              "ticks": ""
             }
            },
            "type": "scattergeo"
           }
          ],
          "scattergl": [
           {
            "marker": {
             "colorbar": {
              "outlinewidth": 0,
              "ticks": ""
             }
            },
            "type": "scattergl"
           }
          ],
          "scattermap": [
           {
            "marker": {
             "colorbar": {
              "outlinewidth": 0,
              "ticks": ""
             }
            },
            "type": "scattermap"
           }
          ],
          "scattermapbox": [
           {
            "marker": {
             "colorbar": {
              "outlinewidth": 0,
              "ticks": ""
             }
            },
            "type": "scattermapbox"
           }
          ],
          "scatterpolar": [
           {
            "marker": {
             "colorbar": {
              "outlinewidth": 0,
              "ticks": ""
             }
            },
            "type": "scatterpolar"
           }
          ],
          "scatterpolargl": [
           {
            "marker": {
             "colorbar": {
              "outlinewidth": 0,
              "ticks": ""
             }
            },
            "type": "scatterpolargl"
           }
          ],
          "scatterternary": [
           {
            "marker": {
             "colorbar": {
              "outlinewidth": 0,
              "ticks": ""
             }
            },
            "type": "scatterternary"
           }
          ],
          "surface": [
           {
            "colorbar": {
             "outlinewidth": 0,
             "ticks": ""
            },
            "colorscale": [
             [
              0,
              "#0d0887"
             ],
             [
              0.1111111111111111,
              "#46039f"
             ],
             [
              0.2222222222222222,
              "#7201a8"
             ],
             [
              0.3333333333333333,
              "#9c179e"
             ],
             [
              0.4444444444444444,
              "#bd3786"
             ],
             [
              0.5555555555555556,
              "#d8576b"
             ],
             [
              0.6666666666666666,
              "#ed7953"
             ],
             [
              0.7777777777777778,
              "#fb9f3a"
             ],
             [
              0.8888888888888888,
              "#fdca26"
             ],
             [
              1,
              "#f0f921"
             ]
            ],
            "type": "surface"
           }
          ],
          "table": [
           {
            "cells": {
             "fill": {
              "color": "#EBF0F8"
             },
             "line": {
              "color": "white"
             }
            },
            "header": {
             "fill": {
              "color": "#C8D4E3"
             },
             "line": {
              "color": "white"
             }
            },
            "type": "table"
           }
          ]
         },
         "layout": {
          "annotationdefaults": {
           "arrowcolor": "#2a3f5f",
           "arrowhead": 0,
           "arrowwidth": 1
          },
          "autotypenumbers": "strict",
          "coloraxis": {
           "colorbar": {
            "outlinewidth": 0,
            "ticks": ""
           }
          },
          "colorscale": {
           "diverging": [
            [
             0,
             "#8e0152"
            ],
            [
             0.1,
             "#c51b7d"
            ],
            [
             0.2,
             "#de77ae"
            ],
            [
             0.3,
             "#f1b6da"
            ],
            [
             0.4,
             "#fde0ef"
            ],
            [
             0.5,
             "#f7f7f7"
            ],
            [
             0.6,
             "#e6f5d0"
            ],
            [
             0.7,
             "#b8e186"
            ],
            [
             0.8,
             "#7fbc41"
            ],
            [
             0.9,
             "#4d9221"
            ],
            [
             1,
             "#276419"
            ]
           ],
           "sequential": [
            [
             0,
             "#0d0887"
            ],
            [
             0.1111111111111111,
             "#46039f"
            ],
            [
             0.2222222222222222,
             "#7201a8"
            ],
            [
             0.3333333333333333,
             "#9c179e"
            ],
            [
             0.4444444444444444,
             "#bd3786"
            ],
            [
             0.5555555555555556,
             "#d8576b"
            ],
            [
             0.6666666666666666,
             "#ed7953"
            ],
            [
             0.7777777777777778,
             "#fb9f3a"
            ],
            [
             0.8888888888888888,
             "#fdca26"
            ],
            [
             1,
             "#f0f921"
            ]
           ],
           "sequentialminus": [
            [
             0,
             "#0d0887"
            ],
            [
             0.1111111111111111,
             "#46039f"
            ],
            [
             0.2222222222222222,
             "#7201a8"
            ],
            [
             0.3333333333333333,
             "#9c179e"
            ],
            [
             0.4444444444444444,
             "#bd3786"
            ],
            [
             0.5555555555555556,
             "#d8576b"
            ],
            [
             0.6666666666666666,
             "#ed7953"
            ],
            [
             0.7777777777777778,
             "#fb9f3a"
            ],
            [
             0.8888888888888888,
             "#fdca26"
            ],
            [
             1,
             "#f0f921"
            ]
           ]
          },
          "colorway": [
           "#636efa",
           "#EF553B",
           "#00cc96",
           "#ab63fa",
           "#FFA15A",
           "#19d3f3",
           "#FF6692",
           "#B6E880",
           "#FF97FF",
           "#FECB52"
          ],
          "font": {
           "color": "#2a3f5f"
          },
          "geo": {
           "bgcolor": "white",
           "lakecolor": "white",
           "landcolor": "#E5ECF6",
           "showlakes": true,
           "showland": true,
           "subunitcolor": "white"
          },
          "hoverlabel": {
           "align": "left"
          },
          "hovermode": "closest",
          "mapbox": {
           "style": "light"
          },
          "paper_bgcolor": "white",
          "plot_bgcolor": "#E5ECF6",
          "polar": {
           "angularaxis": {
            "gridcolor": "white",
            "linecolor": "white",
            "ticks": ""
           },
           "bgcolor": "#E5ECF6",
           "radialaxis": {
            "gridcolor": "white",
            "linecolor": "white",
            "ticks": ""
           }
          },
          "scene": {
           "xaxis": {
            "backgroundcolor": "#E5ECF6",
            "gridcolor": "white",
            "gridwidth": 2,
            "linecolor": "white",
            "showbackground": true,
            "ticks": "",
            "zerolinecolor": "white"
           },
           "yaxis": {
            "backgroundcolor": "#E5ECF6",
            "gridcolor": "white",
            "gridwidth": 2,
            "linecolor": "white",
            "showbackground": true,
            "ticks": "",
            "zerolinecolor": "white"
           },
           "zaxis": {
            "backgroundcolor": "#E5ECF6",
            "gridcolor": "white",
            "gridwidth": 2,
            "linecolor": "white",
            "showbackground": true,
            "ticks": "",
            "zerolinecolor": "white"
           }
          },
          "shapedefaults": {
           "line": {
            "color": "#2a3f5f"
           }
          },
          "ternary": {
           "aaxis": {
            "gridcolor": "white",
            "linecolor": "white",
            "ticks": ""
           },
           "baxis": {
            "gridcolor": "white",
            "linecolor": "white",
            "ticks": ""
           },
           "bgcolor": "#E5ECF6",
           "caxis": {
            "gridcolor": "white",
            "linecolor": "white",
            "ticks": ""
           }
          },
          "title": {
           "x": 0.05
          },
          "xaxis": {
           "automargin": true,
           "gridcolor": "white",
           "linecolor": "white",
           "ticks": "",
           "title": {
            "standoff": 15
           },
           "zerolinecolor": "white",
           "zerolinewidth": 2
          },
          "yaxis": {
           "automargin": true,
           "gridcolor": "white",
           "linecolor": "white",
           "ticks": "",
           "title": {
            "standoff": 15
           },
           "zerolinecolor": "white",
           "zerolinewidth": 2
          }
         }
        },
        "title": {
         "text": "Acquisition Price by Year"
        },
        "xaxis": {
         "anchor": "y",
         "domain": [
          0,
          1
         ],
         "title": {
          "text": "Year of acquisition announcement"
         }
        },
        "yaxis": {
         "anchor": "x",
         "domain": [
          0,
          1
         ],
         "title": {
          "text": "Price"
         }
        }
       }
      }
     },
     "metadata": {},
     "output_type": "display_data"
    }
   ],
   "source": [
    "fig = px.scatter(\n",
    "    acquisitions,\n",
    "    x='Year of acquisition announcement',\n",
    "    y='Price',\n",
    "    title='Acquisition Price by Year'\n",
    ")\n",
    "fig.show()"
   ]
  },
  {
   "cell_type": "markdown",
   "id": "1bb683fb",
   "metadata": {},
   "source": [
    "There was a wrongly entered value, so I looked at the link and corrected it"
   ]
  },
  {
   "cell_type": "code",
   "execution_count": 35,
   "id": "59a010a3",
   "metadata": {},
   "outputs": [],
   "source": [
    "acquisitions.loc[acquisitions['Year of acquisition announcement']==2104,'Year of acquisition announcement']=2014 "
   ]
  },
  {
   "cell_type": "code",
   "execution_count": 36,
   "id": "76299013",
   "metadata": {},
   "outputs": [],
   "source": [
    "acquired['Price']=None\n",
    "acquired['Year of acquisition announcement']=None"
   ]
  },
  {
   "cell_type": "code",
   "execution_count": 37,
   "id": "09677145",
   "metadata": {},
   "outputs": [],
   "source": [
    "for i,company in enumerate(acquisitions['Acquired Company']):\n",
    "    acquired.loc[acquired['Company']==company,'Price']=acquisitions.iloc[i]['Price']\n",
    "    acquired.loc[acquired['Company']==company,'Year of acquisition announcement']=acquisitions.iloc[i]['Year of acquisition announcement']"
   ]
  },
  {
   "cell_type": "markdown",
   "id": "39596dce",
   "metadata": {},
   "source": [
    "update the datatypes automatically"
   ]
  },
  {
   "cell_type": "code",
   "execution_count": 38,
   "id": "cdd6d5c0",
   "metadata": {},
   "outputs": [],
   "source": [
    "acquired=acquired.infer_objects()\n",
    "acquisitions=acquisitions.infer_objects()"
   ]
  },
  {
   "cell_type": "code",
   "execution_count": 39,
   "id": "c871cb65",
   "metadata": {},
   "outputs": [
    {
     "data": {
      "text/html": [
       "<div>\n",
       "<style scoped>\n",
       "    .dataframe tbody tr th:only-of-type {\n",
       "        vertical-align: middle;\n",
       "    }\n",
       "\n",
       "    .dataframe tbody tr th {\n",
       "        vertical-align: top;\n",
       "    }\n",
       "\n",
       "    .dataframe thead th {\n",
       "        text-align: right;\n",
       "    }\n",
       "</style>\n",
       "<table border=\"1\" class=\"dataframe\">\n",
       "  <thead>\n",
       "    <tr style=\"text-align: right;\">\n",
       "      <th></th>\n",
       "      <th>Year Founded</th>\n",
       "      <th>Price</th>\n",
       "      <th>Year of acquisition announcement</th>\n",
       "    </tr>\n",
       "  </thead>\n",
       "  <tbody>\n",
       "    <tr>\n",
       "      <th>count</th>\n",
       "      <td>241.000000</td>\n",
       "      <td>3.100000e+02</td>\n",
       "      <td>310.000000</td>\n",
       "    </tr>\n",
       "    <tr>\n",
       "      <th>mean</th>\n",
       "      <td>2000.526971</td>\n",
       "      <td>1.067965e+09</td>\n",
       "      <td>2008.961290</td>\n",
       "    </tr>\n",
       "    <tr>\n",
       "      <th>std</th>\n",
       "      <td>14.027365</td>\n",
       "      <td>3.529433e+09</td>\n",
       "      <td>4.238648</td>\n",
       "    </tr>\n",
       "    <tr>\n",
       "      <th>min</th>\n",
       "      <td>1840.000000</td>\n",
       "      <td>1.400000e+06</td>\n",
       "      <td>1995.000000</td>\n",
       "    </tr>\n",
       "    <tr>\n",
       "      <th>25%</th>\n",
       "      <td>1998.000000</td>\n",
       "      <td>6.500000e+07</td>\n",
       "      <td>2007.000000</td>\n",
       "    </tr>\n",
       "    <tr>\n",
       "      <th>50%</th>\n",
       "      <td>2003.000000</td>\n",
       "      <td>1.780000e+08</td>\n",
       "      <td>2010.000000</td>\n",
       "    </tr>\n",
       "    <tr>\n",
       "      <th>75%</th>\n",
       "      <td>2007.000000</td>\n",
       "      <td>5.787500e+08</td>\n",
       "      <td>2012.000000</td>\n",
       "    </tr>\n",
       "    <tr>\n",
       "      <th>max</th>\n",
       "      <td>2014.000000</td>\n",
       "      <td>4.500000e+10</td>\n",
       "      <td>2014.000000</td>\n",
       "    </tr>\n",
       "  </tbody>\n",
       "</table>\n",
       "</div>"
      ],
      "text/plain": [
       "       Year Founded         Price  Year of acquisition announcement\n",
       "count    241.000000  3.100000e+02                        310.000000\n",
       "mean    2000.526971  1.067965e+09                       2008.961290\n",
       "std       14.027365  3.529433e+09                          4.238648\n",
       "min     1840.000000  1.400000e+06                       1995.000000\n",
       "25%     1998.000000  6.500000e+07                       2007.000000\n",
       "50%     2003.000000  1.780000e+08                       2010.000000\n",
       "75%     2007.000000  5.787500e+08                       2012.000000\n",
       "max     2014.000000  4.500000e+10                       2014.000000"
      ]
     },
     "execution_count": 39,
     "metadata": {},
     "output_type": "execute_result"
    }
   ],
   "source": [
    "acquired.describe()"
   ]
  },
  {
   "cell_type": "markdown",
   "id": "f85dc4fe",
   "metadata": {},
   "source": [
    "The specific date which the deal was announced on doesn't matter , what matters is the year so the model can know that inflation affects the price"
   ]
  },
  {
   "cell_type": "code",
   "execution_count": 40,
   "id": "d38c7a51",
   "metadata": {},
   "outputs": [],
   "source": [
    "acquisitions=acquisitions.drop('Deal announced on',axis=1)"
   ]
  },
  {
   "cell_type": "markdown",
   "id": "e85fe1a9",
   "metadata": {},
   "source": [
    "Plotting again without the error, now we can see that the overall trend of prices tends to go up, that's why we added the 'Year of acquisitions announcement' column"
   ]
  },
  {
   "cell_type": "code",
   "execution_count": 41,
   "id": "4c8389df",
   "metadata": {},
   "outputs": [
    {
     "data": {
      "text/plain": [
       "Company                                                                  Day Software\n",
       "CrunchBase Profile                  http://www.crunchbase.com/organization/day-sof...\n",
       "Tagline                             Day Software develops web applications that al...\n",
       "Year Founded                                                                      NaN\n",
       "Market Categories                                                            Software\n",
       "City (HQ)                                                                       Basel\n",
       "State / Region (HQ)                                                       Basel-Stadt\n",
       "Country (HQ)                                                              Switzerland\n",
       "Homepage                                                           http://www.day.com\n",
       "Twitter                                                                           NaN\n",
       "Acquired by                                                                     Adobe\n",
       "Acquisitions ID                           Adobe Systems acquired Day Software in 2010\n",
       "API                                 http://api.crunchbase.com/v/2/organization/day...\n",
       "Price                                                                       240000000\n",
       "Year of acquisition announcement                                                 2010\n",
       "Name: 0, dtype: object"
      ]
     },
     "execution_count": 41,
     "metadata": {},
     "output_type": "execute_result"
    }
   ],
   "source": [
    "acquired.iloc[0]"
   ]
  },
  {
   "cell_type": "code",
   "execution_count": 42,
   "id": "461fba41",
   "metadata": {},
   "outputs": [
    {
     "data": {
      "application/vnd.plotly.v1+json": {
       "config": {
        "plotlyServerURL": "https://plot.ly"
       },
       "data": [
        {
         "hovertemplate": "Year Founded=%{x}<br>Price=%{y}<extra></extra>",
         "legendgroup": "",
         "marker": {
          "color": "#636efa",
          "symbol": "circle"
         },
         "mode": "markers",
         "name": "",
         "orientation": "v",
         "showlegend": false,
         "type": "scatter",
         "x": {
          "bdata": "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",
          "dtype": "f8"
         },
         "xaxis": "x",
         "y": [
          240000000,
          400000000,
          3400000000,
          600000000,
          1800000000,
          250000000,
          300000000,
          26000000,
          775000000,
          2500000,
          545000000,
          110000000,
          65000000,
          435000000,
          125000000,
          101000000,
          90700000,
          1100000000,
          525000000,
          4200000000,
          363000000,
          320000000,
          275000000,
          315000000,
          40000000,
          30000000,
          450000000,
          3000000000,
          7000000,
          50000000,
          30000000,
          121000000,
          400000000,
          278000000,
          29000000,
          345000000,
          275000000,
          200000000,
          20000000,
          944000000,
          15000000,
          275000000,
          200000000,
          330000000,
          155000000,
          1700000000,
          200000000,
          40000000,
          375000000,
          450000000,
          7400000000,
          99000000,
          271000000,
          1200000000,
          330000000,
          215000000,
          590000000,
          120000000,
          183000000,
          100000000,
          2700000000,
          175000000,
          3400000000,
          3200000000,
          415000000,
          125000000,
          200000000,
          320000000,
          150000000,
          5000000,
          45000000000,
          820000000,
          12000000,
          155000000,
          3900000000,
          2400000000,
          100000000,
          50000000,
          945000000,
          380000000,
          150000000,
          2400000000,
          350000000,
          80000000,
          180000000,
          290000000,
          75000000,
          1500000000,
          620000000,
          310000000,
          48300000,
          240000000,
          2100000000,
          213000000,
          2300000000,
          150000000,
          76000000,
          200000000,
          250000000,
          635000000,
          50000000,
          15000000,
          10000000,
          60000000,
          10000000,
          1000000000,
          2500000,
          2000000000,
          150000000,
          90000000,
          70000000,
          19000000000,
          50000000,
          400000000,
          750000000,
          23000000,
          50000000,
          102000000,
          61000000,
          30000000,
          35000000,
          125000000,
          500000000,
          102000000,
          28000000,
          100000000,
          40000000,
          68200000,
          60000000,
          80000000,
          700000000,
          12000000,
          70000000,
          25000000,
          100000000,
          4900000,
          3200000000,
          15000000,
          130000000,
          20300000,
          625000000,
          500000000,
          30000000,
          996000000,
          160000000,
          350000000,
          1700000000,
          151000000,
          2700000000,
          2400000000,
          1500000000,
          10200000000,
          360000000,
          30000000,
          4500000000,
          1600000000,
          25000000,
          300000000,
          20000000,
          225000000,
          1300000000,
          3500000000,
          1700000000,
          1200000000,
          140000000,
          800000000,
          480000000,
          300000000,
          130000000,
          100000000,
          25000000,
          26000000,
          1400000000,
          500000000,
          8000000,
          40000000,
          20000000,
          884000000,
          748000000,
          95000000,
          176000000,
          67500000,
          3400000000,
          60000000,
          175000000,
          120000000,
          5000000,
          90000000,
          15000000,
          119000000,
          6400000000,
          500000000,
          115000000,
          1200000000,
          400000000,
          50000000,
          200000000,
          150000000,
          100000000,
          100000000,
          337000000,
          96000000,
          100000000,
          75000000,
          25000000,
          8100000000,
          57000000,
          340000000,
          96800000,
          495000000,
          1000000000,
          8500000000,
          400000000,
          871000000,
          5300000000,
          685000000,
          1500000000,
          150000000,
          1900000000,
          300000000,
          220000000,
          65000000,
          56000000,
          144000000,
          210000000,
          175000000,
          3100000000,
          300000000,
          32000000,
          12000000,
          50000000,
          31000000,
          2500000000,
          70000000,
          250000000,
          142000000,
          390000000,
          689000000,
          170000000,
          326000000,
          30000000,
          347000000,
          200000000,
          1100000000,
          307000000,
          4300000000,
          10000000000,
          100000000,
          3400000000,
          5800000000,
          380000000,
          53000000,
          410000000,
          115000000,
          695000000,
          300000000,
          135000000,
          123000000,
          28000000,
          1300000000,
          350000000,
          525000000,
          263000000,
          10000000,
          80000000,
          134000000,
          5200000,
          350000000,
          50000000,
          15000000,
          100000000,
          40000000,
          30000000,
          28100000000,
          10100000000,
          10000000000,
          31000000,
          40000000,
          100000000,
          90000000,
          80000000,
          5700000000,
          55000000,
          432000000,
          130000000,
          200000000,
          92000000,
          40000000,
          2900000000,
          235000000,
          270000000,
          610000000,
          145000000,
          12000000,
          10000000,
          164000000,
          160000000,
          160000000,
          10000000,
          1400000,
          80000000,
          1600000000,
          50000000,
          850000000,
          100000000,
          10000000,
          16000000,
          93000000,
          49000000,
          20000000
         ],
         "yaxis": "y"
        }
       ],
       "layout": {
        "legend": {
         "tracegroupgap": 0
        },
        "template": {
         "data": {
          "bar": [
           {
            "error_x": {
             "color": "#2a3f5f"
            },
            "error_y": {
             "color": "#2a3f5f"
            },
            "marker": {
             "line": {
              "color": "#E5ECF6",
              "width": 0.5
             },
             "pattern": {
              "fillmode": "overlay",
              "size": 10,
              "solidity": 0.2
             }
            },
            "type": "bar"
           }
          ],
          "barpolar": [
           {
            "marker": {
             "line": {
              "color": "#E5ECF6",
              "width": 0.5
             },
             "pattern": {
              "fillmode": "overlay",
              "size": 10,
              "solidity": 0.2
             }
            },
            "type": "barpolar"
           }
          ],
          "carpet": [
           {
            "aaxis": {
             "endlinecolor": "#2a3f5f",
             "gridcolor": "white",
             "linecolor": "white",
             "minorgridcolor": "white",
             "startlinecolor": "#2a3f5f"
            },
            "baxis": {
             "endlinecolor": "#2a3f5f",
             "gridcolor": "white",
             "linecolor": "white",
             "minorgridcolor": "white",
             "startlinecolor": "#2a3f5f"
            },
            "type": "carpet"
           }
          ],
          "choropleth": [
           {
            "colorbar": {
             "outlinewidth": 0,
             "ticks": ""
            },
            "type": "choropleth"
           }
          ],
          "contour": [
           {
            "colorbar": {
             "outlinewidth": 0,
             "ticks": ""
            },
            "colorscale": [
             [
              0,
              "#0d0887"
             ],
             [
              0.1111111111111111,
              "#46039f"
             ],
             [
              0.2222222222222222,
              "#7201a8"
             ],
             [
              0.3333333333333333,
              "#9c179e"
             ],
             [
              0.4444444444444444,
              "#bd3786"
             ],
             [
              0.5555555555555556,
              "#d8576b"
             ],
             [
              0.6666666666666666,
              "#ed7953"
             ],
             [
              0.7777777777777778,
              "#fb9f3a"
             ],
             [
              0.8888888888888888,
              "#fdca26"
             ],
             [
              1,
              "#f0f921"
             ]
            ],
            "type": "contour"
           }
          ],
          "contourcarpet": [
           {
            "colorbar": {
             "outlinewidth": 0,
             "ticks": ""
            },
            "type": "contourcarpet"
           }
          ],
          "heatmap": [
           {
            "colorbar": {
             "outlinewidth": 0,
             "ticks": ""
            },
            "colorscale": [
             [
              0,
              "#0d0887"
             ],
             [
              0.1111111111111111,
              "#46039f"
             ],
             [
              0.2222222222222222,
              "#7201a8"
             ],
             [
              0.3333333333333333,
              "#9c179e"
             ],
             [
              0.4444444444444444,
              "#bd3786"
             ],
             [
              0.5555555555555556,
              "#d8576b"
             ],
             [
              0.6666666666666666,
              "#ed7953"
             ],
             [
              0.7777777777777778,
              "#fb9f3a"
             ],
             [
              0.8888888888888888,
              "#fdca26"
             ],
             [
              1,
              "#f0f921"
             ]
            ],
            "type": "heatmap"
           }
          ],
          "histogram": [
           {
            "marker": {
             "pattern": {
              "fillmode": "overlay",
              "size": 10,
              "solidity": 0.2
             }
            },
            "type": "histogram"
           }
          ],
          "histogram2d": [
           {
            "colorbar": {
             "outlinewidth": 0,
             "ticks": ""
            },
            "colorscale": [
             [
              0,
              "#0d0887"
             ],
             [
              0.1111111111111111,
              "#46039f"
             ],
             [
              0.2222222222222222,
              "#7201a8"
             ],
             [
              0.3333333333333333,
              "#9c179e"
             ],
             [
              0.4444444444444444,
              "#bd3786"
             ],
             [
              0.5555555555555556,
              "#d8576b"
             ],
             [
              0.6666666666666666,
              "#ed7953"
             ],
             [
              0.7777777777777778,
              "#fb9f3a"
             ],
             [
              0.8888888888888888,
              "#fdca26"
             ],
             [
              1,
              "#f0f921"
             ]
            ],
            "type": "histogram2d"
           }
          ],
          "histogram2dcontour": [
           {
            "colorbar": {
             "outlinewidth": 0,
             "ticks": ""
            },
            "colorscale": [
             [
              0,
              "#0d0887"
             ],
             [
              0.1111111111111111,
              "#46039f"
             ],
             [
              0.2222222222222222,
              "#7201a8"
             ],
             [
              0.3333333333333333,
              "#9c179e"
             ],
             [
              0.4444444444444444,
              "#bd3786"
             ],
             [
              0.5555555555555556,
              "#d8576b"
             ],
             [
              0.6666666666666666,
              "#ed7953"
             ],
             [
              0.7777777777777778,
              "#fb9f3a"
             ],
             [
              0.8888888888888888,
              "#fdca26"
             ],
             [
              1,
              "#f0f921"
             ]
            ],
            "type": "histogram2dcontour"
           }
          ],
          "mesh3d": [
           {
            "colorbar": {
             "outlinewidth": 0,
             "ticks": ""
            },
            "type": "mesh3d"
           }
          ],
          "parcoords": [
           {
            "line": {
             "colorbar": {
              "outlinewidth": 0,
              "ticks": ""
             }
            },
            "type": "parcoords"
           }
          ],
          "pie": [
           {
            "automargin": true,
            "type": "pie"
           }
          ],
          "scatter": [
           {
            "fillpattern": {
             "fillmode": "overlay",
             "size": 10,
             "solidity": 0.2
            },
            "type": "scatter"
           }
          ],
          "scatter3d": [
           {
            "line": {
             "colorbar": {
              "outlinewidth": 0,
              "ticks": ""
             }
            },
            "marker": {
             "colorbar": {
              "outlinewidth": 0,
              "ticks": ""
             }
            },
            "type": "scatter3d"
           }
          ],
          "scattercarpet": [
           {
            "marker": {
             "colorbar": {
              "outlinewidth": 0,
              "ticks": ""
             }
            },
            "type": "scattercarpet"
           }
          ],
          "scattergeo": [
           {
            "marker": {
             "colorbar": {
              "outlinewidth": 0,
              "ticks": ""
             }
            },
            "type": "scattergeo"
           }
          ],
          "scattergl": [
           {
            "marker": {
             "colorbar": {
              "outlinewidth": 0,
              "ticks": ""
             }
            },
            "type": "scattergl"
           }
          ],
          "scattermap": [
           {
            "marker": {
             "colorbar": {
              "outlinewidth": 0,
              "ticks": ""
             }
            },
            "type": "scattermap"
           }
          ],
          "scattermapbox": [
           {
            "marker": {
             "colorbar": {
              "outlinewidth": 0,
              "ticks": ""
             }
            },
            "type": "scattermapbox"
           }
          ],
          "scatterpolar": [
           {
            "marker": {
             "colorbar": {
              "outlinewidth": 0,
              "ticks": ""
             }
            },
            "type": "scatterpolar"
           }
          ],
          "scatterpolargl": [
           {
            "marker": {
             "colorbar": {
              "outlinewidth": 0,
              "ticks": ""
             }
            },
            "type": "scatterpolargl"
           }
          ],
          "scatterternary": [
           {
            "marker": {
             "colorbar": {
              "outlinewidth": 0,
              "ticks": ""
             }
            },
            "type": "scatterternary"
           }
          ],
          "surface": [
           {
            "colorbar": {
             "outlinewidth": 0,
             "ticks": ""
            },
            "colorscale": [
             [
              0,
              "#0d0887"
             ],
             [
              0.1111111111111111,
              "#46039f"
             ],
             [
              0.2222222222222222,
              "#7201a8"
             ],
             [
              0.3333333333333333,
              "#9c179e"
             ],
             [
              0.4444444444444444,
              "#bd3786"
             ],
             [
              0.5555555555555556,
              "#d8576b"
             ],
             [
              0.6666666666666666,
              "#ed7953"
             ],
             [
              0.7777777777777778,
              "#fb9f3a"
             ],
             [
              0.8888888888888888,
              "#fdca26"
             ],
             [
              1,
              "#f0f921"
             ]
            ],
            "type": "surface"
           }
          ],
          "table": [
           {
            "cells": {
             "fill": {
              "color": "#EBF0F8"
             },
             "line": {
              "color": "white"
             }
            },
            "header": {
             "fill": {
              "color": "#C8D4E3"
             },
             "line": {
              "color": "white"
             }
            },
            "type": "table"
           }
          ]
         },
         "layout": {
          "annotationdefaults": {
           "arrowcolor": "#2a3f5f",
           "arrowhead": 0,
           "arrowwidth": 1
          },
          "autotypenumbers": "strict",
          "coloraxis": {
           "colorbar": {
            "outlinewidth": 0,
            "ticks": ""
           }
          },
          "colorscale": {
           "diverging": [
            [
             0,
             "#8e0152"
            ],
            [
             0.1,
             "#c51b7d"
            ],
            [
             0.2,
             "#de77ae"
            ],
            [
             0.3,
             "#f1b6da"
            ],
            [
             0.4,
             "#fde0ef"
            ],
            [
             0.5,
             "#f7f7f7"
            ],
            [
             0.6,
             "#e6f5d0"
            ],
            [
             0.7,
             "#b8e186"
            ],
            [
             0.8,
             "#7fbc41"
            ],
            [
             0.9,
             "#4d9221"
            ],
            [
             1,
             "#276419"
            ]
           ],
           "sequential": [
            [
             0,
             "#0d0887"
            ],
            [
             0.1111111111111111,
             "#46039f"
            ],
            [
             0.2222222222222222,
             "#7201a8"
            ],
            [
             0.3333333333333333,
             "#9c179e"
            ],
            [
             0.4444444444444444,
             "#bd3786"
            ],
            [
             0.5555555555555556,
             "#d8576b"
            ],
            [
             0.6666666666666666,
             "#ed7953"
            ],
            [
             0.7777777777777778,
             "#fb9f3a"
            ],
            [
             0.8888888888888888,
             "#fdca26"
            ],
            [
             1,
             "#f0f921"
            ]
           ],
           "sequentialminus": [
            [
             0,
             "#0d0887"
            ],
            [
             0.1111111111111111,
             "#46039f"
            ],
            [
             0.2222222222222222,
             "#7201a8"
            ],
            [
             0.3333333333333333,
             "#9c179e"
            ],
            [
             0.4444444444444444,
             "#bd3786"
            ],
            [
             0.5555555555555556,
             "#d8576b"
            ],
            [
             0.6666666666666666,
             "#ed7953"
            ],
            [
             0.7777777777777778,
             "#fb9f3a"
            ],
            [
             0.8888888888888888,
             "#fdca26"
            ],
            [
             1,
             "#f0f921"
            ]
           ]
          },
          "colorway": [
           "#636efa",
           "#EF553B",
           "#00cc96",
           "#ab63fa",
           "#FFA15A",
           "#19d3f3",
           "#FF6692",
           "#B6E880",
           "#FF97FF",
           "#FECB52"
          ],
          "font": {
           "color": "#2a3f5f"
          },
          "geo": {
           "bgcolor": "white",
           "lakecolor": "white",
           "landcolor": "#E5ECF6",
           "showlakes": true,
           "showland": true,
           "subunitcolor": "white"
          },
          "hoverlabel": {
           "align": "left"
          },
          "hovermode": "closest",
          "mapbox": {
           "style": "light"
          },
          "paper_bgcolor": "white",
          "plot_bgcolor": "#E5ECF6",
          "polar": {
           "angularaxis": {
            "gridcolor": "white",
            "linecolor": "white",
            "ticks": ""
           },
           "bgcolor": "#E5ECF6",
           "radialaxis": {
            "gridcolor": "white",
            "linecolor": "white",
            "ticks": ""
           }
          },
          "scene": {
           "xaxis": {
            "backgroundcolor": "#E5ECF6",
            "gridcolor": "white",
            "gridwidth": 2,
            "linecolor": "white",
            "showbackground": true,
            "ticks": "",
            "zerolinecolor": "white"
           },
           "yaxis": {
            "backgroundcolor": "#E5ECF6",
            "gridcolor": "white",
            "gridwidth": 2,
            "linecolor": "white",
            "showbackground": true,
            "ticks": "",
            "zerolinecolor": "white"
           },
           "zaxis": {
            "backgroundcolor": "#E5ECF6",
            "gridcolor": "white",
            "gridwidth": 2,
            "linecolor": "white",
            "showbackground": true,
            "ticks": "",
            "zerolinecolor": "white"
           }
          },
          "shapedefaults": {
           "line": {
            "color": "#2a3f5f"
           }
          },
          "ternary": {
           "aaxis": {
            "gridcolor": "white",
            "linecolor": "white",
            "ticks": ""
           },
           "baxis": {
            "gridcolor": "white",
            "linecolor": "white",
            "ticks": ""
           },
           "bgcolor": "#E5ECF6",
           "caxis": {
            "gridcolor": "white",
            "linecolor": "white",
            "ticks": ""
           }
          },
          "title": {
           "x": 0.05
          },
          "xaxis": {
           "automargin": true,
           "gridcolor": "white",
           "linecolor": "white",
           "ticks": "",
           "title": {
            "standoff": 15
           },
           "zerolinecolor": "white",
           "zerolinewidth": 2
          },
          "yaxis": {
           "automargin": true,
           "gridcolor": "white",
           "linecolor": "white",
           "ticks": "",
           "title": {
            "standoff": 15
           },
           "zerolinecolor": "white",
           "zerolinewidth": 2
          }
         }
        },
        "title": {
         "text": "Acquisition Price by Year"
        },
        "xaxis": {
         "anchor": "y",
         "domain": [
          0,
          1
         ],
         "title": {
          "text": "Year Founded"
         }
        },
        "yaxis": {
         "anchor": "x",
         "domain": [
          0,
          1
         ],
         "title": {
          "text": "Price"
         }
        }
       }
      }
     },
     "metadata": {},
     "output_type": "display_data"
    }
   ],
   "source": [
    "fig = px.scatter(\n",
    "    acquired,\n",
    "    x='Year Founded',\n",
    "    y='Price',\n",
    "    title='Acquisition Price by Year'\n",
    ")\n",
    "fig.show()"
   ]
  },
  {
   "cell_type": "markdown",
   "id": "dbbd7ffb",
   "metadata": {},
   "source": [
    "Another error found and corrected"
   ]
  },
  {
   "cell_type": "code",
   "execution_count": 43,
   "id": "82b00b35",
   "metadata": {},
   "outputs": [],
   "source": [
    "acquired.loc[acquired['Year Founded']==1840,'Year Founded']=2006\n",
    "acquired.loc[acquired['Year Founded']==1933,'Year Founded']=1989"
   ]
  },
  {
   "cell_type": "code",
   "execution_count": 44,
   "id": "45bfa512",
   "metadata": {},
   "outputs": [
    {
     "data": {
      "application/vnd.plotly.v1+json": {
       "config": {
        "plotlyServerURL": "https://plot.ly"
       },
       "data": [
        {
         "hovertemplate": "Year Founded=%{x}<br>Price=%{y}<extra></extra>",
         "legendgroup": "",
         "marker": {
          "color": "#636efa",
          "symbol": "circle"
         },
         "mode": "markers",
         "name": "",
         "orientation": "v",
         "showlegend": false,
         "type": "scatter",
         "x": {
          "bdata": "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",
          "dtype": "f8"
         },
         "xaxis": "x",
         "y": [
          240000000,
          400000000,
          3400000000,
          600000000,
          1800000000,
          250000000,
          300000000,
          26000000,
          775000000,
          2500000,
          545000000,
          110000000,
          65000000,
          435000000,
          125000000,
          101000000,
          90700000,
          1100000000,
          525000000,
          4200000000,
          363000000,
          320000000,
          275000000,
          315000000,
          40000000,
          30000000,
          450000000,
          3000000000,
          7000000,
          50000000,
          30000000,
          121000000,
          400000000,
          278000000,
          29000000,
          345000000,
          275000000,
          200000000,
          20000000,
          944000000,
          15000000,
          275000000,
          200000000,
          330000000,
          155000000,
          1700000000,
          200000000,
          40000000,
          375000000,
          450000000,
          7400000000,
          99000000,
          271000000,
          1200000000,
          330000000,
          215000000,
          590000000,
          120000000,
          183000000,
          100000000,
          2700000000,
          175000000,
          3400000000,
          3200000000,
          415000000,
          125000000,
          200000000,
          320000000,
          150000000,
          5000000,
          45000000000,
          820000000,
          12000000,
          155000000,
          3900000000,
          2400000000,
          100000000,
          50000000,
          945000000,
          380000000,
          150000000,
          2400000000,
          350000000,
          80000000,
          180000000,
          290000000,
          75000000,
          1500000000,
          620000000,
          310000000,
          48300000,
          240000000,
          2100000000,
          213000000,
          2300000000,
          150000000,
          76000000,
          200000000,
          250000000,
          635000000,
          50000000,
          15000000,
          10000000,
          60000000,
          10000000,
          1000000000,
          2500000,
          2000000000,
          150000000,
          90000000,
          70000000,
          19000000000,
          50000000,
          400000000,
          750000000,
          23000000,
          50000000,
          102000000,
          61000000,
          30000000,
          35000000,
          125000000,
          500000000,
          102000000,
          28000000,
          100000000,
          40000000,
          68200000,
          60000000,
          80000000,
          700000000,
          12000000,
          70000000,
          25000000,
          100000000,
          4900000,
          3200000000,
          15000000,
          130000000,
          20300000,
          625000000,
          500000000,
          30000000,
          996000000,
          160000000,
          350000000,
          1700000000,
          151000000,
          2700000000,
          2400000000,
          1500000000,
          10200000000,
          360000000,
          30000000,
          4500000000,
          1600000000,
          25000000,
          300000000,
          20000000,
          225000000,
          1300000000,
          3500000000,
          1700000000,
          1200000000,
          140000000,
          800000000,
          480000000,
          300000000,
          130000000,
          100000000,
          25000000,
          26000000,
          1400000000,
          500000000,
          8000000,
          40000000,
          20000000,
          884000000,
          748000000,
          95000000,
          176000000,
          67500000,
          3400000000,
          60000000,
          175000000,
          120000000,
          5000000,
          90000000,
          15000000,
          119000000,
          6400000000,
          500000000,
          115000000,
          1200000000,
          400000000,
          50000000,
          200000000,
          150000000,
          100000000,
          100000000,
          337000000,
          96000000,
          100000000,
          75000000,
          25000000,
          8100000000,
          57000000,
          340000000,
          96800000,
          495000000,
          1000000000,
          8500000000,
          400000000,
          871000000,
          5300000000,
          685000000,
          1500000000,
          150000000,
          1900000000,
          300000000,
          220000000,
          65000000,
          56000000,
          144000000,
          210000000,
          175000000,
          3100000000,
          300000000,
          32000000,
          12000000,
          50000000,
          31000000,
          2500000000,
          70000000,
          250000000,
          142000000,
          390000000,
          689000000,
          170000000,
          326000000,
          30000000,
          347000000,
          200000000,
          1100000000,
          307000000,
          4300000000,
          10000000000,
          100000000,
          3400000000,
          5800000000,
          380000000,
          53000000,
          410000000,
          115000000,
          695000000,
          300000000,
          135000000,
          123000000,
          28000000,
          1300000000,
          350000000,
          525000000,
          263000000,
          10000000,
          80000000,
          134000000,
          5200000,
          350000000,
          50000000,
          15000000,
          100000000,
          40000000,
          30000000,
          28100000000,
          10100000000,
          10000000000,
          31000000,
          40000000,
          100000000,
          90000000,
          80000000,
          5700000000,
          55000000,
          432000000,
          130000000,
          200000000,
          92000000,
          40000000,
          2900000000,
          235000000,
          270000000,
          610000000,
          145000000,
          12000000,
          10000000,
          164000000,
          160000000,
          160000000,
          10000000,
          1400000,
          80000000,
          1600000000,
          50000000,
          850000000,
          100000000,
          10000000,
          16000000,
          93000000,
          49000000,
          20000000
         ],
         "yaxis": "y"
        }
       ],
       "layout": {
        "legend": {
         "tracegroupgap": 0
        },
        "template": {
         "data": {
          "bar": [
           {
            "error_x": {
             "color": "#2a3f5f"
            },
            "error_y": {
             "color": "#2a3f5f"
            },
            "marker": {
             "line": {
              "color": "#E5ECF6",
              "width": 0.5
             },
             "pattern": {
              "fillmode": "overlay",
              "size": 10,
              "solidity": 0.2
             }
            },
            "type": "bar"
           }
          ],
          "barpolar": [
           {
            "marker": {
             "line": {
              "color": "#E5ECF6",
              "width": 0.5
             },
             "pattern": {
              "fillmode": "overlay",
              "size": 10,
              "solidity": 0.2
             }
            },
            "type": "barpolar"
           }
          ],
          "carpet": [
           {
            "aaxis": {
             "endlinecolor": "#2a3f5f",
             "gridcolor": "white",
             "linecolor": "white",
             "minorgridcolor": "white",
             "startlinecolor": "#2a3f5f"
            },
            "baxis": {
             "endlinecolor": "#2a3f5f",
             "gridcolor": "white",
             "linecolor": "white",
             "minorgridcolor": "white",
             "startlinecolor": "#2a3f5f"
            },
            "type": "carpet"
           }
          ],
          "choropleth": [
           {
            "colorbar": {
             "outlinewidth": 0,
             "ticks": ""
            },
            "type": "choropleth"
           }
          ],
          "contour": [
           {
            "colorbar": {
             "outlinewidth": 0,
             "ticks": ""
            },
            "colorscale": [
             [
              0,
              "#0d0887"
             ],
             [
              0.1111111111111111,
              "#46039f"
             ],
             [
              0.2222222222222222,
              "#7201a8"
             ],
             [
              0.3333333333333333,
              "#9c179e"
             ],
             [
              0.4444444444444444,
              "#bd3786"
             ],
             [
              0.5555555555555556,
              "#d8576b"
             ],
             [
              0.6666666666666666,
              "#ed7953"
             ],
             [
              0.7777777777777778,
              "#fb9f3a"
             ],
             [
              0.8888888888888888,
              "#fdca26"
             ],
             [
              1,
              "#f0f921"
             ]
            ],
            "type": "contour"
           }
          ],
          "contourcarpet": [
           {
            "colorbar": {
             "outlinewidth": 0,
             "ticks": ""
            },
            "type": "contourcarpet"
           }
          ],
          "heatmap": [
           {
            "colorbar": {
             "outlinewidth": 0,
             "ticks": ""
            },
            "colorscale": [
             [
              0,
              "#0d0887"
             ],
             [
              0.1111111111111111,
              "#46039f"
             ],
             [
              0.2222222222222222,
              "#7201a8"
             ],
             [
              0.3333333333333333,
              "#9c179e"
             ],
             [
              0.4444444444444444,
              "#bd3786"
             ],
             [
              0.5555555555555556,
              "#d8576b"
             ],
             [
              0.6666666666666666,
              "#ed7953"
             ],
             [
              0.7777777777777778,
              "#fb9f3a"
             ],
             [
              0.8888888888888888,
              "#fdca26"
             ],
             [
              1,
              "#f0f921"
             ]
            ],
            "type": "heatmap"
           }
          ],
          "histogram": [
           {
            "marker": {
             "pattern": {
              "fillmode": "overlay",
              "size": 10,
              "solidity": 0.2
             }
            },
            "type": "histogram"
           }
          ],
          "histogram2d": [
           {
            "colorbar": {
             "outlinewidth": 0,
             "ticks": ""
            },
            "colorscale": [
             [
              0,
              "#0d0887"
             ],
             [
              0.1111111111111111,
              "#46039f"
             ],
             [
              0.2222222222222222,
              "#7201a8"
             ],
             [
              0.3333333333333333,
              "#9c179e"
             ],
             [
              0.4444444444444444,
              "#bd3786"
             ],
             [
              0.5555555555555556,
              "#d8576b"
             ],
             [
              0.6666666666666666,
              "#ed7953"
             ],
             [
              0.7777777777777778,
              "#fb9f3a"
             ],
             [
              0.8888888888888888,
              "#fdca26"
             ],
             [
              1,
              "#f0f921"
             ]
            ],
            "type": "histogram2d"
           }
          ],
          "histogram2dcontour": [
           {
            "colorbar": {
             "outlinewidth": 0,
             "ticks": ""
            },
            "colorscale": [
             [
              0,
              "#0d0887"
             ],
             [
              0.1111111111111111,
              "#46039f"
             ],
             [
              0.2222222222222222,
              "#7201a8"
             ],
             [
              0.3333333333333333,
              "#9c179e"
             ],
             [
              0.4444444444444444,
              "#bd3786"
             ],
             [
              0.5555555555555556,
              "#d8576b"
             ],
             [
              0.6666666666666666,
              "#ed7953"
             ],
             [
              0.7777777777777778,
              "#fb9f3a"
             ],
             [
              0.8888888888888888,
              "#fdca26"
             ],
             [
              1,
              "#f0f921"
             ]
            ],
            "type": "histogram2dcontour"
           }
          ],
          "mesh3d": [
           {
            "colorbar": {
             "outlinewidth": 0,
             "ticks": ""
            },
            "type": "mesh3d"
           }
          ],
          "parcoords": [
           {
            "line": {
             "colorbar": {
              "outlinewidth": 0,
              "ticks": ""
             }
            },
            "type": "parcoords"
           }
          ],
          "pie": [
           {
            "automargin": true,
            "type": "pie"
           }
          ],
          "scatter": [
           {
            "fillpattern": {
             "fillmode": "overlay",
             "size": 10,
             "solidity": 0.2
            },
            "type": "scatter"
           }
          ],
          "scatter3d": [
           {
            "line": {
             "colorbar": {
              "outlinewidth": 0,
              "ticks": ""
             }
            },
            "marker": {
             "colorbar": {
              "outlinewidth": 0,
              "ticks": ""
             }
            },
            "type": "scatter3d"
           }
          ],
          "scattercarpet": [
           {
            "marker": {
             "colorbar": {
              "outlinewidth": 0,
              "ticks": ""
             }
            },
            "type": "scattercarpet"
           }
          ],
          "scattergeo": [
           {
            "marker": {
             "colorbar": {
              "outlinewidth": 0,
              "ticks": ""
             }
            },
            "type": "scattergeo"
           }
          ],
          "scattergl": [
           {
            "marker": {
             "colorbar": {
              "outlinewidth": 0,
              "ticks": ""
             }
            },
            "type": "scattergl"
           }
          ],
          "scattermap": [
           {
            "marker": {
             "colorbar": {
              "outlinewidth": 0,
              "ticks": ""
             }
            },
            "type": "scattermap"
           }
          ],
          "scattermapbox": [
           {
            "marker": {
             "colorbar": {
              "outlinewidth": 0,
              "ticks": ""
             }
            },
            "type": "scattermapbox"
           }
          ],
          "scatterpolar": [
           {
            "marker": {
             "colorbar": {
              "outlinewidth": 0,
              "ticks": ""
             }
            },
            "type": "scatterpolar"
           }
          ],
          "scatterpolargl": [
           {
            "marker": {
             "colorbar": {
              "outlinewidth": 0,
              "ticks": ""
             }
            },
            "type": "scatterpolargl"
           }
          ],
          "scatterternary": [
           {
            "marker": {
             "colorbar": {
              "outlinewidth": 0,
              "ticks": ""
             }
            },
            "type": "scatterternary"
           }
          ],
          "surface": [
           {
            "colorbar": {
             "outlinewidth": 0,
             "ticks": ""
            },
            "colorscale": [
             [
              0,
              "#0d0887"
             ],
             [
              0.1111111111111111,
              "#46039f"
             ],
             [
              0.2222222222222222,
              "#7201a8"
             ],
             [
              0.3333333333333333,
              "#9c179e"
             ],
             [
              0.4444444444444444,
              "#bd3786"
             ],
             [
              0.5555555555555556,
              "#d8576b"
             ],
             [
              0.6666666666666666,
              "#ed7953"
             ],
             [
              0.7777777777777778,
              "#fb9f3a"
             ],
             [
              0.8888888888888888,
              "#fdca26"
             ],
             [
              1,
              "#f0f921"
             ]
            ],
            "type": "surface"
           }
          ],
          "table": [
           {
            "cells": {
             "fill": {
              "color": "#EBF0F8"
             },
             "line": {
              "color": "white"
             }
            },
            "header": {
             "fill": {
              "color": "#C8D4E3"
             },
             "line": {
              "color": "white"
             }
            },
            "type": "table"
           }
          ]
         },
         "layout": {
          "annotationdefaults": {
           "arrowcolor": "#2a3f5f",
           "arrowhead": 0,
           "arrowwidth": 1
          },
          "autotypenumbers": "strict",
          "coloraxis": {
           "colorbar": {
            "outlinewidth": 0,
            "ticks": ""
           }
          },
          "colorscale": {
           "diverging": [
            [
             0,
             "#8e0152"
            ],
            [
             0.1,
             "#c51b7d"
            ],
            [
             0.2,
             "#de77ae"
            ],
            [
             0.3,
             "#f1b6da"
            ],
            [
             0.4,
             "#fde0ef"
            ],
            [
             0.5,
             "#f7f7f7"
            ],
            [
             0.6,
             "#e6f5d0"
            ],
            [
             0.7,
             "#b8e186"
            ],
            [
             0.8,
             "#7fbc41"
            ],
            [
             0.9,
             "#4d9221"
            ],
            [
             1,
             "#276419"
            ]
           ],
           "sequential": [
            [
             0,
             "#0d0887"
            ],
            [
             0.1111111111111111,
             "#46039f"
            ],
            [
             0.2222222222222222,
             "#7201a8"
            ],
            [
             0.3333333333333333,
             "#9c179e"
            ],
            [
             0.4444444444444444,
             "#bd3786"
            ],
            [
             0.5555555555555556,
             "#d8576b"
            ],
            [
             0.6666666666666666,
             "#ed7953"
            ],
            [
             0.7777777777777778,
             "#fb9f3a"
            ],
            [
             0.8888888888888888,
             "#fdca26"
            ],
            [
             1,
             "#f0f921"
            ]
           ],
           "sequentialminus": [
            [
             0,
             "#0d0887"
            ],
            [
             0.1111111111111111,
             "#46039f"
            ],
            [
             0.2222222222222222,
             "#7201a8"
            ],
            [
             0.3333333333333333,
             "#9c179e"
            ],
            [
             0.4444444444444444,
             "#bd3786"
            ],
            [
             0.5555555555555556,
             "#d8576b"
            ],
            [
             0.6666666666666666,
             "#ed7953"
            ],
            [
             0.7777777777777778,
             "#fb9f3a"
            ],
            [
             0.8888888888888888,
             "#fdca26"
            ],
            [
             1,
             "#f0f921"
            ]
           ]
          },
          "colorway": [
           "#636efa",
           "#EF553B",
           "#00cc96",
           "#ab63fa",
           "#FFA15A",
           "#19d3f3",
           "#FF6692",
           "#B6E880",
           "#FF97FF",
           "#FECB52"
          ],
          "font": {
           "color": "#2a3f5f"
          },
          "geo": {
           "bgcolor": "white",
           "lakecolor": "white",
           "landcolor": "#E5ECF6",
           "showlakes": true,
           "showland": true,
           "subunitcolor": "white"
          },
          "hoverlabel": {
           "align": "left"
          },
          "hovermode": "closest",
          "mapbox": {
           "style": "light"
          },
          "paper_bgcolor": "white",
          "plot_bgcolor": "#E5ECF6",
          "polar": {
           "angularaxis": {
            "gridcolor": "white",
            "linecolor": "white",
            "ticks": ""
           },
           "bgcolor": "#E5ECF6",
           "radialaxis": {
            "gridcolor": "white",
            "linecolor": "white",
            "ticks": ""
           }
          },
          "scene": {
           "xaxis": {
            "backgroundcolor": "#E5ECF6",
            "gridcolor": "white",
            "gridwidth": 2,
            "linecolor": "white",
            "showbackground": true,
            "ticks": "",
            "zerolinecolor": "white"
           },
           "yaxis": {
            "backgroundcolor": "#E5ECF6",
            "gridcolor": "white",
            "gridwidth": 2,
            "linecolor": "white",
            "showbackground": true,
            "ticks": "",
            "zerolinecolor": "white"
           },
           "zaxis": {
            "backgroundcolor": "#E5ECF6",
            "gridcolor": "white",
            "gridwidth": 2,
            "linecolor": "white",
            "showbackground": true,
            "ticks": "",
            "zerolinecolor": "white"
           }
          },
          "shapedefaults": {
           "line": {
            "color": "#2a3f5f"
           }
          },
          "ternary": {
           "aaxis": {
            "gridcolor": "white",
            "linecolor": "white",
            "ticks": ""
           },
           "baxis": {
            "gridcolor": "white",
            "linecolor": "white",
            "ticks": ""
           },
           "bgcolor": "#E5ECF6",
           "caxis": {
            "gridcolor": "white",
            "linecolor": "white",
            "ticks": ""
           }
          },
          "title": {
           "x": 0.05
          },
          "xaxis": {
           "automargin": true,
           "gridcolor": "white",
           "linecolor": "white",
           "ticks": "",
           "title": {
            "standoff": 15
           },
           "zerolinecolor": "white",
           "zerolinewidth": 2
          },
          "yaxis": {
           "automargin": true,
           "gridcolor": "white",
           "linecolor": "white",
           "ticks": "",
           "title": {
            "standoff": 15
           },
           "zerolinecolor": "white",
           "zerolinewidth": 2
          }
         }
        },
        "title": {
         "text": "Acquisition Price by Year"
        },
        "xaxis": {
         "anchor": "y",
         "domain": [
          0,
          1
         ],
         "title": {
          "text": "Year Founded"
         }
        },
        "yaxis": {
         "anchor": "x",
         "domain": [
          0,
          1
         ],
         "title": {
          "text": "Price"
         }
        }
       }
      }
     },
     "metadata": {},
     "output_type": "display_data"
    }
   ],
   "source": [
    "fig = px.scatter(\n",
    "    acquired,\n",
    "    x='Year Founded',\n",
    "    y='Price',\n",
    "    title='Acquisition Price by Year'\n",
    ")\n",
    "fig.show()"
   ]
  },
  {
   "cell_type": "code",
   "execution_count": 45,
   "id": "852524a7",
   "metadata": {},
   "outputs": [
    {
     "data": {
      "application/vnd.plotly.v1+json": {
       "config": {
        "plotlyServerURL": "https://plot.ly"
       },
       "data": [
        {
         "hovertemplate": "Year of acquisition announcement=%{x}<br>Price=%{y}<extra></extra>",
         "legendgroup": "",
         "marker": {
          "color": "#636efa",
          "symbol": "circle"
         },
         "mode": "markers",
         "name": "",
         "orientation": "v",
         "showlegend": false,
         "type": "scatter",
         "x": {
          "bdata": "2gfbB9UH3QfZB88H2AfdB9wH3AfaB9oH2gfUB9gH3gfeB88HzwfOB9cHzwfXB9sH1gfVB9sH3gfcB90H0gfaB8wH2AfaB90H2gfdB90H2QfbB9gH2gfbB90HywfZB90H1gfVB88H2gfcB9wH1wfYB9kH2AfZB9cH3QfeB9kH1wfdB9gH1wfeB9gH2AfeB9oH2gfYB9kH3AfdB9QH2AfYB9MH2wfQB9sH2wfUB9oH0gfVB9cH1gfbB9kH2AfaB9kH1wfdB9wH1AfcB94H2gfcB9oH3AfaB94H3QfdB9sH3gfaB9sH2QfXB9wH0wfbB90H2gfdB94H1gfWB9cH3QfaB9cH2gfbB9cH2gfaB9wH2wfeB9gH2gfXB9cH3gfbB90H2gfcB9YH2wfZB9oH2gfbB9gH2gfWB9cH3QfVB90H2QfcB8sH2gfZB9oH3QfaB9gH3QfeB9oH3QfaB88H2AfdB90H2QfRB9oH3AfVB9QH3QfeB94H2gfdB9wH3AfXB9gH2AfYB80H1wfWB90H3gfYB9IH0gfbB9YH2gfYB88H2AfXB9cH2wfYB90H3AfeB9oH3QfYB9wH3AfcB9kH1gfcB9cH2wfbB94H2AfdB9sH2wfdB9wH2gfaB94H3AfaB9sH3QfdB94H3gfdB9wH3gfZB9wH2gfcB9gH2wfcB9gH2gfSB9gH1AfaB9cH2gfbB9sH3QfeB9kH3QfeB9gH3gfbB9wH2AfdB94H2AfYB9MH2gfeB88H2gfQB88H3gfNB9gHzwfTB9sH1AfQB9EHzwfaB9gH1AfXB80HzwfTB90H1wfXB90H3gfVB84H2Qc=",
          "dtype": "i2"
         },
         "xaxis": "x",
         "y": [
          240000000,
          400000000,
          3400000000,
          600000000,
          1800000000,
          250000000,
          300000000,
          26000000,
          775000000,
          2500000,
          545000000,
          110000000,
          65000000,
          435000000,
          125000000,
          101000000,
          90700000,
          1100000000,
          525000000,
          4200000000,
          363000000,
          320000000,
          275000000,
          315000000,
          40000000,
          30000000,
          450000000,
          3000000000,
          7000000,
          50000000,
          30000000,
          121000000,
          400000000,
          278000000,
          29000000,
          345000000,
          275000000,
          200000000,
          20000000,
          944000000,
          15000000,
          275000000,
          200000000,
          330000000,
          155000000,
          1700000000,
          200000000,
          40000000,
          375000000,
          450000000,
          7400000000,
          99000000,
          271000000,
          1200000000,
          330000000,
          215000000,
          590000000,
          120000000,
          183000000,
          100000000,
          2700000000,
          175000000,
          3400000000,
          3200000000,
          415000000,
          125000000,
          200000000,
          320000000,
          150000000,
          5000000,
          45000000000,
          820000000,
          12000000,
          155000000,
          3900000000,
          2400000000,
          100000000,
          50000000,
          945000000,
          380000000,
          150000000,
          2400000000,
          350000000,
          80000000,
          180000000,
          290000000,
          75000000,
          1500000000,
          620000000,
          310000000,
          48300000,
          240000000,
          2100000000,
          213000000,
          2300000000,
          150000000,
          76000000,
          200000000,
          250000000,
          635000000,
          50000000,
          15000000,
          10000000,
          60000000,
          10000000,
          1000000000,
          2500000,
          2000000000,
          150000000,
          90000000,
          70000000,
          19000000000,
          50000000,
          400000000,
          750000000,
          23000000,
          50000000,
          102000000,
          61000000,
          30000000,
          35000000,
          125000000,
          500000000,
          102000000,
          28000000,
          100000000,
          40000000,
          68200000,
          60000000,
          80000000,
          700000000,
          12000000,
          70000000,
          25000000,
          100000000,
          4900000,
          3200000000,
          15000000,
          130000000,
          20300000,
          625000000,
          500000000,
          30000000,
          996000000,
          160000000,
          350000000,
          1700000000,
          151000000,
          2700000000,
          2400000000,
          1500000000,
          10200000000,
          360000000,
          30000000,
          4500000000,
          1600000000,
          25000000,
          300000000,
          20000000,
          225000000,
          1300000000,
          3500000000,
          1700000000,
          1200000000,
          140000000,
          800000000,
          480000000,
          300000000,
          130000000,
          100000000,
          25000000,
          26000000,
          1400000000,
          500000000,
          8000000,
          40000000,
          20000000,
          884000000,
          748000000,
          95000000,
          176000000,
          67500000,
          3400000000,
          60000000,
          175000000,
          120000000,
          5000000,
          90000000,
          15000000,
          119000000,
          6400000000,
          500000000,
          115000000,
          1200000000,
          400000000,
          50000000,
          200000000,
          150000000,
          100000000,
          100000000,
          337000000,
          96000000,
          100000000,
          75000000,
          25000000,
          8100000000,
          57000000,
          340000000,
          96800000,
          495000000,
          1000000000,
          8500000000,
          400000000,
          871000000,
          5300000000,
          685000000,
          1500000000,
          150000000,
          1900000000,
          300000000,
          220000000,
          65000000,
          56000000,
          144000000,
          210000000,
          175000000,
          3100000000,
          300000000,
          32000000,
          12000000,
          50000000,
          31000000,
          2500000000,
          70000000,
          250000000,
          142000000,
          390000000,
          689000000,
          170000000,
          326000000,
          30000000,
          347000000,
          200000000,
          1100000000,
          307000000,
          4300000000,
          10000000000,
          100000000,
          3400000000,
          5800000000,
          380000000,
          53000000,
          410000000,
          115000000,
          695000000,
          300000000,
          135000000,
          123000000,
          28000000,
          1300000000,
          350000000,
          525000000,
          263000000,
          10000000,
          80000000,
          134000000,
          5200000,
          350000000,
          50000000,
          15000000,
          100000000,
          40000000,
          30000000,
          28100000000,
          10100000000,
          10000000000,
          31000000,
          40000000,
          100000000,
          90000000,
          80000000,
          5700000000,
          55000000,
          432000000,
          130000000,
          200000000,
          92000000,
          40000000,
          2900000000,
          235000000,
          270000000,
          610000000,
          145000000,
          12000000,
          10000000,
          164000000,
          160000000,
          160000000,
          10000000,
          1400000,
          80000000,
          1600000000,
          50000000,
          850000000,
          100000000,
          10000000,
          16000000,
          93000000,
          49000000,
          20000000
         ],
         "yaxis": "y"
        }
       ],
       "layout": {
        "legend": {
         "tracegroupgap": 0
        },
        "template": {
         "data": {
          "bar": [
           {
            "error_x": {
             "color": "#2a3f5f"
            },
            "error_y": {
             "color": "#2a3f5f"
            },
            "marker": {
             "line": {
              "color": "#E5ECF6",
              "width": 0.5
             },
             "pattern": {
              "fillmode": "overlay",
              "size": 10,
              "solidity": 0.2
             }
            },
            "type": "bar"
           }
          ],
          "barpolar": [
           {
            "marker": {
             "line": {
              "color": "#E5ECF6",
              "width": 0.5
             },
             "pattern": {
              "fillmode": "overlay",
              "size": 10,
              "solidity": 0.2
             }
            },
            "type": "barpolar"
           }
          ],
          "carpet": [
           {
            "aaxis": {
             "endlinecolor": "#2a3f5f",
             "gridcolor": "white",
             "linecolor": "white",
             "minorgridcolor": "white",
             "startlinecolor": "#2a3f5f"
            },
            "baxis": {
             "endlinecolor": "#2a3f5f",
             "gridcolor": "white",
             "linecolor": "white",
             "minorgridcolor": "white",
             "startlinecolor": "#2a3f5f"
            },
            "type": "carpet"
           }
          ],
          "choropleth": [
           {
            "colorbar": {
             "outlinewidth": 0,
             "ticks": ""
            },
            "type": "choropleth"
           }
          ],
          "contour": [
           {
            "colorbar": {
             "outlinewidth": 0,
             "ticks": ""
            },
            "colorscale": [
             [
              0,
              "#0d0887"
             ],
             [
              0.1111111111111111,
              "#46039f"
             ],
             [
              0.2222222222222222,
              "#7201a8"
             ],
             [
              0.3333333333333333,
              "#9c179e"
             ],
             [
              0.4444444444444444,
              "#bd3786"
             ],
             [
              0.5555555555555556,
              "#d8576b"
             ],
             [
              0.6666666666666666,
              "#ed7953"
             ],
             [
              0.7777777777777778,
              "#fb9f3a"
             ],
             [
              0.8888888888888888,
              "#fdca26"
             ],
             [
              1,
              "#f0f921"
             ]
            ],
            "type": "contour"
           }
          ],
          "contourcarpet": [
           {
            "colorbar": {
             "outlinewidth": 0,
             "ticks": ""
            },
            "type": "contourcarpet"
           }
          ],
          "heatmap": [
           {
            "colorbar": {
             "outlinewidth": 0,
             "ticks": ""
            },
            "colorscale": [
             [
              0,
              "#0d0887"
             ],
             [
              0.1111111111111111,
              "#46039f"
             ],
             [
              0.2222222222222222,
              "#7201a8"
             ],
             [
              0.3333333333333333,
              "#9c179e"
             ],
             [
              0.4444444444444444,
              "#bd3786"
             ],
             [
              0.5555555555555556,
              "#d8576b"
             ],
             [
              0.6666666666666666,
              "#ed7953"
             ],
             [
              0.7777777777777778,
              "#fb9f3a"
             ],
             [
              0.8888888888888888,
              "#fdca26"
             ],
             [
              1,
              "#f0f921"
             ]
            ],
            "type": "heatmap"
           }
          ],
          "histogram": [
           {
            "marker": {
             "pattern": {
              "fillmode": "overlay",
              "size": 10,
              "solidity": 0.2
             }
            },
            "type": "histogram"
           }
          ],
          "histogram2d": [
           {
            "colorbar": {
             "outlinewidth": 0,
             "ticks": ""
            },
            "colorscale": [
             [
              0,
              "#0d0887"
             ],
             [
              0.1111111111111111,
              "#46039f"
             ],
             [
              0.2222222222222222,
              "#7201a8"
             ],
             [
              0.3333333333333333,
              "#9c179e"
             ],
             [
              0.4444444444444444,
              "#bd3786"
             ],
             [
              0.5555555555555556,
              "#d8576b"
             ],
             [
              0.6666666666666666,
              "#ed7953"
             ],
             [
              0.7777777777777778,
              "#fb9f3a"
             ],
             [
              0.8888888888888888,
              "#fdca26"
             ],
             [
              1,
              "#f0f921"
             ]
            ],
            "type": "histogram2d"
           }
          ],
          "histogram2dcontour": [
           {
            "colorbar": {
             "outlinewidth": 0,
             "ticks": ""
            },
            "colorscale": [
             [
              0,
              "#0d0887"
             ],
             [
              0.1111111111111111,
              "#46039f"
             ],
             [
              0.2222222222222222,
              "#7201a8"
             ],
             [
              0.3333333333333333,
              "#9c179e"
             ],
             [
              0.4444444444444444,
              "#bd3786"
             ],
             [
              0.5555555555555556,
              "#d8576b"
             ],
             [
              0.6666666666666666,
              "#ed7953"
             ],
             [
              0.7777777777777778,
              "#fb9f3a"
             ],
             [
              0.8888888888888888,
              "#fdca26"
             ],
             [
              1,
              "#f0f921"
             ]
            ],
            "type": "histogram2dcontour"
           }
          ],
          "mesh3d": [
           {
            "colorbar": {
             "outlinewidth": 0,
             "ticks": ""
            },
            "type": "mesh3d"
           }
          ],
          "parcoords": [
           {
            "line": {
             "colorbar": {
              "outlinewidth": 0,
              "ticks": ""
             }
            },
            "type": "parcoords"
           }
          ],
          "pie": [
           {
            "automargin": true,
            "type": "pie"
           }
          ],
          "scatter": [
           {
            "fillpattern": {
             "fillmode": "overlay",
             "size": 10,
             "solidity": 0.2
            },
            "type": "scatter"
           }
          ],
          "scatter3d": [
           {
            "line": {
             "colorbar": {
              "outlinewidth": 0,
              "ticks": ""
             }
            },
            "marker": {
             "colorbar": {
              "outlinewidth": 0,
              "ticks": ""
             }
            },
            "type": "scatter3d"
           }
          ],
          "scattercarpet": [
           {
            "marker": {
             "colorbar": {
              "outlinewidth": 0,
              "ticks": ""
             }
            },
            "type": "scattercarpet"
           }
          ],
          "scattergeo": [
           {
            "marker": {
             "colorbar": {
              "outlinewidth": 0,
              "ticks": ""
             }
            },
            "type": "scattergeo"
           }
          ],
          "scattergl": [
           {
            "marker": {
             "colorbar": {
              "outlinewidth": 0,
              "ticks": ""
             }
            },
            "type": "scattergl"
           }
          ],
          "scattermap": [
           {
            "marker": {
             "colorbar": {
              "outlinewidth": 0,
              "ticks": ""
             }
            },
            "type": "scattermap"
           }
          ],
          "scattermapbox": [
           {
            "marker": {
             "colorbar": {
              "outlinewidth": 0,
              "ticks": ""
             }
            },
            "type": "scattermapbox"
           }
          ],
          "scatterpolar": [
           {
            "marker": {
             "colorbar": {
              "outlinewidth": 0,
              "ticks": ""
             }
            },
            "type": "scatterpolar"
           }
          ],
          "scatterpolargl": [
           {
            "marker": {
             "colorbar": {
              "outlinewidth": 0,
              "ticks": ""
             }
            },
            "type": "scatterpolargl"
           }
          ],
          "scatterternary": [
           {
            "marker": {
             "colorbar": {
              "outlinewidth": 0,
              "ticks": ""
             }
            },
            "type": "scatterternary"
           }
          ],
          "surface": [
           {
            "colorbar": {
             "outlinewidth": 0,
             "ticks": ""
            },
            "colorscale": [
             [
              0,
              "#0d0887"
             ],
             [
              0.1111111111111111,
              "#46039f"
             ],
             [
              0.2222222222222222,
              "#7201a8"
             ],
             [
              0.3333333333333333,
              "#9c179e"
             ],
             [
              0.4444444444444444,
              "#bd3786"
             ],
             [
              0.5555555555555556,
              "#d8576b"
             ],
             [
              0.6666666666666666,
              "#ed7953"
             ],
             [
              0.7777777777777778,
              "#fb9f3a"
             ],
             [
              0.8888888888888888,
              "#fdca26"
             ],
             [
              1,
              "#f0f921"
             ]
            ],
            "type": "surface"
           }
          ],
          "table": [
           {
            "cells": {
             "fill": {
              "color": "#EBF0F8"
             },
             "line": {
              "color": "white"
             }
            },
            "header": {
             "fill": {
              "color": "#C8D4E3"
             },
             "line": {
              "color": "white"
             }
            },
            "type": "table"
           }
          ]
         },
         "layout": {
          "annotationdefaults": {
           "arrowcolor": "#2a3f5f",
           "arrowhead": 0,
           "arrowwidth": 1
          },
          "autotypenumbers": "strict",
          "coloraxis": {
           "colorbar": {
            "outlinewidth": 0,
            "ticks": ""
           }
          },
          "colorscale": {
           "diverging": [
            [
             0,
             "#8e0152"
            ],
            [
             0.1,
             "#c51b7d"
            ],
            [
             0.2,
             "#de77ae"
            ],
            [
             0.3,
             "#f1b6da"
            ],
            [
             0.4,
             "#fde0ef"
            ],
            [
             0.5,
             "#f7f7f7"
            ],
            [
             0.6,
             "#e6f5d0"
            ],
            [
             0.7,
             "#b8e186"
            ],
            [
             0.8,
             "#7fbc41"
            ],
            [
             0.9,
             "#4d9221"
            ],
            [
             1,
             "#276419"
            ]
           ],
           "sequential": [
            [
             0,
             "#0d0887"
            ],
            [
             0.1111111111111111,
             "#46039f"
            ],
            [
             0.2222222222222222,
             "#7201a8"
            ],
            [
             0.3333333333333333,
             "#9c179e"
            ],
            [
             0.4444444444444444,
             "#bd3786"
            ],
            [
             0.5555555555555556,
             "#d8576b"
            ],
            [
             0.6666666666666666,
             "#ed7953"
            ],
            [
             0.7777777777777778,
             "#fb9f3a"
            ],
            [
             0.8888888888888888,
             "#fdca26"
            ],
            [
             1,
             "#f0f921"
            ]
           ],
           "sequentialminus": [
            [
             0,
             "#0d0887"
            ],
            [
             0.1111111111111111,
             "#46039f"
            ],
            [
             0.2222222222222222,
             "#7201a8"
            ],
            [
             0.3333333333333333,
             "#9c179e"
            ],
            [
             0.4444444444444444,
             "#bd3786"
            ],
            [
             0.5555555555555556,
             "#d8576b"
            ],
            [
             0.6666666666666666,
             "#ed7953"
            ],
            [
             0.7777777777777778,
             "#fb9f3a"
            ],
            [
             0.8888888888888888,
             "#fdca26"
            ],
            [
             1,
             "#f0f921"
            ]
           ]
          },
          "colorway": [
           "#636efa",
           "#EF553B",
           "#00cc96",
           "#ab63fa",
           "#FFA15A",
           "#19d3f3",
           "#FF6692",
           "#B6E880",
           "#FF97FF",
           "#FECB52"
          ],
          "font": {
           "color": "#2a3f5f"
          },
          "geo": {
           "bgcolor": "white",
           "lakecolor": "white",
           "landcolor": "#E5ECF6",
           "showlakes": true,
           "showland": true,
           "subunitcolor": "white"
          },
          "hoverlabel": {
           "align": "left"
          },
          "hovermode": "closest",
          "mapbox": {
           "style": "light"
          },
          "paper_bgcolor": "white",
          "plot_bgcolor": "#E5ECF6",
          "polar": {
           "angularaxis": {
            "gridcolor": "white",
            "linecolor": "white",
            "ticks": ""
           },
           "bgcolor": "#E5ECF6",
           "radialaxis": {
            "gridcolor": "white",
            "linecolor": "white",
            "ticks": ""
           }
          },
          "scene": {
           "xaxis": {
            "backgroundcolor": "#E5ECF6",
            "gridcolor": "white",
            "gridwidth": 2,
            "linecolor": "white",
            "showbackground": true,
            "ticks": "",
            "zerolinecolor": "white"
           },
           "yaxis": {
            "backgroundcolor": "#E5ECF6",
            "gridcolor": "white",
            "gridwidth": 2,
            "linecolor": "white",
            "showbackground": true,
            "ticks": "",
            "zerolinecolor": "white"
           },
           "zaxis": {
            "backgroundcolor": "#E5ECF6",
            "gridcolor": "white",
            "gridwidth": 2,
            "linecolor": "white",
            "showbackground": true,
            "ticks": "",
            "zerolinecolor": "white"
           }
          },
          "shapedefaults": {
           "line": {
            "color": "#2a3f5f"
           }
          },
          "ternary": {
           "aaxis": {
            "gridcolor": "white",
            "linecolor": "white",
            "ticks": ""
           },
           "baxis": {
            "gridcolor": "white",
            "linecolor": "white",
            "ticks": ""
           },
           "bgcolor": "#E5ECF6",
           "caxis": {
            "gridcolor": "white",
            "linecolor": "white",
            "ticks": ""
           }
          },
          "title": {
           "x": 0.05
          },
          "xaxis": {
           "automargin": true,
           "gridcolor": "white",
           "linecolor": "white",
           "ticks": "",
           "title": {
            "standoff": 15
           },
           "zerolinecolor": "white",
           "zerolinewidth": 2
          },
          "yaxis": {
           "automargin": true,
           "gridcolor": "white",
           "linecolor": "white",
           "ticks": "",
           "title": {
            "standoff": 15
           },
           "zerolinecolor": "white",
           "zerolinewidth": 2
          }
         }
        },
        "title": {
         "text": "Acquisition Price by Year"
        },
        "xaxis": {
         "anchor": "y",
         "domain": [
          0,
          1
         ],
         "title": {
          "text": "Year of acquisition announcement"
         }
        },
        "yaxis": {
         "anchor": "x",
         "domain": [
          0,
          1
         ],
         "title": {
          "text": "Price"
         }
        }
       }
      }
     },
     "metadata": {},
     "output_type": "display_data"
    }
   ],
   "source": [
    "fig = px.scatter(\n",
    "    acquired,\n",
    "    x='Year of acquisition announcement',\n",
    "    y='Price',\n",
    "    title='Acquisition Price by Year'\n",
    ")\n",
    "fig.show()"
   ]
  },
  {
   "cell_type": "code",
   "execution_count": 60,
   "id": "32949f25",
   "metadata": {},
   "outputs": [
    {
     "data": {
      "text/plain": [
       "Company                                                                         Alexa\n",
       "CrunchBase Profile                       http://www.crunchbase.com/organization/alexa\n",
       "Tagline                             Alexa, a subsidiary of Amazon, is a web inform...\n",
       "Year Founded                                                                   1996.0\n",
       "Market Categories                                                         Curated Web\n",
       "City (HQ)                                                               San Francisco\n",
       "State / Region (HQ)                                                        California\n",
       "Country (HQ)                                                            United States\n",
       "Homepage                                                         http://www.alexa.com\n",
       "Twitter                                              http://twitter.com/AlexaInternet\n",
       "Acquired by                                                                    Amazon\n",
       "Acquisitions ID                                         Amazon acquired Alexa in 1999\n",
       "API                                 http://api.crunchbase.com/v/2/organization/ale...\n",
       "Price                                                                       250000000\n",
       "Year of acquisition announcement                                                 1999\n",
       "Name: 5, dtype: object"
      ]
     },
     "execution_count": 60,
     "metadata": {},
     "output_type": "execute_result"
    }
   ],
   "source": [
    "acquired.iloc[5]"
   ]
  },
  {
   "cell_type": "markdown",
   "id": "6027168a",
   "metadata": {},
   "source": [
    "### There isn't any new useful information that we can get out of those , so we will drop them"
   ]
  },
  {
   "cell_type": "markdown",
   "id": "6a4f0dbe",
   "metadata": {},
   "source": [
    "* \"CrunchBase Profile\" and \"API\" columns are both on the crunchbase website , which uses captcha so we can't scrap it, and their API is paid , and the provided API key is invalid , so we can't use it\n",
    "* \"Homepage\" column contains the link to the website of every company , and they aren't all the same so we can't apply a function or a program to extract certain information about them. To use the link , this would require us to go over into each of them one by one , which isn't  feasible\n",
    "* \"Twitter\"\n"
   ]
  },
  {
   "cell_type": "code",
   "execution_count": null,
   "id": "c7522885",
   "metadata": {},
   "outputs": [],
   "source": [
    "acquired=acquired.drop(['CrunchBase Profile','Homepage','Twitter','Acquisition ID','API'])"
   ]
  },
  {
   "cell_type": "code",
   "execution_count": 68,
   "id": "1f045247",
   "metadata": {},
   "outputs": [
    {
     "name": "stdout",
     "output_type": "stream",
     "text": [
      "<class 'pandas.core.frame.DataFrame'>\n",
      "RangeIndex: 310 entries, 0 to 309\n",
      "Data columns (total 15 columns):\n",
      " #   Column                            Non-Null Count  Dtype  \n",
      "---  ------                            --------------  -----  \n",
      " 0   Company                           310 non-null    object \n",
      " 1   CrunchBase Profile                310 non-null    object \n",
      " 2   Tagline                           307 non-null    object \n",
      " 3   Year Founded                      241 non-null    float64\n",
      " 4   Market Categories                 287 non-null    object \n",
      " 5   City (HQ)                         275 non-null    object \n",
      " 6   State / Region (HQ)               273 non-null    object \n",
      " 7   Country (HQ)                      276 non-null    object \n",
      " 8   Homepage                          273 non-null    object \n",
      " 9   Twitter                           168 non-null    object \n",
      " 10  Acquired by                       309 non-null    object \n",
      " 11  Acquisitions ID                   310 non-null    object \n",
      " 12  API                               310 non-null    object \n",
      " 13  Price                             310 non-null    int64  \n",
      " 14  Year of acquisition announcement  310 non-null    int64  \n",
      "dtypes: float64(1), int64(2), object(12)\n",
      "memory usage: 36.5+ KB\n"
     ]
    }
   ],
   "source": [
    "acquired.info()"
   ]
  },
  {
   "cell_type": "code",
   "execution_count": 65,
   "id": "034ebff9",
   "metadata": {},
   "outputs": [],
   "source": [
    "import snscrape"
   ]
  },
  {
   "cell_type": "code",
   "execution_count": 81,
   "id": "af0df20c",
   "metadata": {},
   "outputs": [],
   "source": [
    "key= ''\n",
    "secret = ''\n",
    "bearer= 'AAAAAAAAAAAAAAAAAAAAADQA0wEAAAAAZcRLwct53Q05%2FR7Bq45uHKj0Sfk%3DoqjlsnWRjjh7KjfNJADmstZFG9B7tH1cc7Tah6auxih6vfKdUQ'"
   ]
  },
  {
   "cell_type": "code",
   "execution_count": 118,
   "id": "bf0ba91a",
   "metadata": {},
   "outputs": [],
   "source": [
    "import tweepy\n",
    "import os\n",
    "\n",
    "from dotenv import load_dotenv\n",
    "\n",
    "load_dotenv()  \n",
    "def get_followers_twitter_api(username):\n",
    "    client = tweepy.Client(bearer_token=os.getenv('TWITTER_API_BEARER'))\n",
    "    user = client.get_user(username=username, user_fields=['public_metrics'])\n",
    "    return user.data.public_metrics['followers_count']\n"
   ]
  },
  {
   "cell_type": "code",
   "execution_count": 121,
   "id": "29e5c500",
   "metadata": {},
   "outputs": [
    {
     "ename": "TooManyRequests",
     "evalue": "429 Too Many Requests\nToo Many Requests",
     "output_type": "error",
     "traceback": [
      "\u001b[0;31m---------------------------------------------------------------------------\u001b[0m",
      "\u001b[0;31mTooManyRequests\u001b[0m                           Traceback (most recent call last)",
      "Cell \u001b[0;32mIn[121], line 1\u001b[0m\n\u001b[0;32m----> 1\u001b[0m \u001b[43mget_followers_twitter_api\u001b[49m\u001b[43m(\u001b[49m\u001b[38;5;124;43m'\u001b[39;49m\u001b[38;5;124;43melonmusk\u001b[39;49m\u001b[38;5;124;43m'\u001b[39;49m\u001b[43m)\u001b[49m\n",
      "Cell \u001b[0;32mIn[118], line 9\u001b[0m, in \u001b[0;36mget_followers_twitter_api\u001b[0;34m(username)\u001b[0m\n\u001b[1;32m      7\u001b[0m \u001b[38;5;28;01mdef\u001b[39;00m\u001b[38;5;250m \u001b[39m\u001b[38;5;21mget_followers_twitter_api\u001b[39m(username):\n\u001b[1;32m      8\u001b[0m     client \u001b[38;5;241m=\u001b[39m tweepy\u001b[38;5;241m.\u001b[39mClient(bearer_token\u001b[38;5;241m=\u001b[39mos\u001b[38;5;241m.\u001b[39mgetenv(\u001b[38;5;124m'\u001b[39m\u001b[38;5;124mTWITTER_API_BEARER\u001b[39m\u001b[38;5;124m'\u001b[39m))\n\u001b[0;32m----> 9\u001b[0m     user \u001b[38;5;241m=\u001b[39m \u001b[43mclient\u001b[49m\u001b[38;5;241;43m.\u001b[39;49m\u001b[43mget_user\u001b[49m\u001b[43m(\u001b[49m\u001b[43musername\u001b[49m\u001b[38;5;241;43m=\u001b[39;49m\u001b[43musername\u001b[49m\u001b[43m,\u001b[49m\u001b[43m \u001b[49m\u001b[43muser_fields\u001b[49m\u001b[38;5;241;43m=\u001b[39;49m\u001b[43m[\u001b[49m\u001b[38;5;124;43m'\u001b[39;49m\u001b[38;5;124;43mpublic_metrics\u001b[39;49m\u001b[38;5;124;43m'\u001b[39;49m\u001b[43m]\u001b[49m\u001b[43m)\u001b[49m\n\u001b[1;32m     10\u001b[0m     \u001b[38;5;28;01mreturn\u001b[39;00m user\u001b[38;5;241m.\u001b[39mdata\u001b[38;5;241m.\u001b[39mpublic_metrics[\u001b[38;5;124m'\u001b[39m\u001b[38;5;124mfollowers_count\u001b[39m\u001b[38;5;124m'\u001b[39m]\n",
      "File \u001b[0;32m~/miniconda3/envs/ml/lib/python3.13/site-packages/tweepy/client.py:2359\u001b[0m, in \u001b[0;36mClient.get_user\u001b[0;34m(self, id, username, user_auth, **params)\u001b[0m\n\u001b[1;32m   2356\u001b[0m \u001b[38;5;28;01melse\u001b[39;00m:\n\u001b[1;32m   2357\u001b[0m     \u001b[38;5;28;01mraise\u001b[39;00m \u001b[38;5;167;01mTypeError\u001b[39;00m(\u001b[38;5;124m\"\u001b[39m\u001b[38;5;124mID or username is required\u001b[39m\u001b[38;5;124m\"\u001b[39m)\n\u001b[0;32m-> 2359\u001b[0m \u001b[38;5;28;01mreturn\u001b[39;00m \u001b[38;5;28;43mself\u001b[39;49m\u001b[38;5;241;43m.\u001b[39;49m\u001b[43m_make_request\u001b[49m\u001b[43m(\u001b[49m\n\u001b[1;32m   2360\u001b[0m \u001b[43m    \u001b[49m\u001b[38;5;124;43m\"\u001b[39;49m\u001b[38;5;124;43mGET\u001b[39;49m\u001b[38;5;124;43m\"\u001b[39;49m\u001b[43m,\u001b[49m\u001b[43m \u001b[49m\u001b[43mroute\u001b[49m\u001b[43m,\u001b[49m\u001b[43m \u001b[49m\u001b[43mparams\u001b[49m\u001b[38;5;241;43m=\u001b[39;49m\u001b[43mparams\u001b[49m\u001b[43m,\u001b[49m\n\u001b[1;32m   2361\u001b[0m \u001b[43m    \u001b[49m\u001b[43mendpoint_parameters\u001b[49m\u001b[38;5;241;43m=\u001b[39;49m\u001b[43m(\u001b[49m\u001b[38;5;124;43m\"\u001b[39;49m\u001b[38;5;124;43mexpansions\u001b[39;49m\u001b[38;5;124;43m\"\u001b[39;49m\u001b[43m,\u001b[49m\u001b[43m \u001b[49m\u001b[38;5;124;43m\"\u001b[39;49m\u001b[38;5;124;43mtweet.fields\u001b[39;49m\u001b[38;5;124;43m\"\u001b[39;49m\u001b[43m,\u001b[49m\u001b[43m \u001b[49m\u001b[38;5;124;43m\"\u001b[39;49m\u001b[38;5;124;43muser.fields\u001b[39;49m\u001b[38;5;124;43m\"\u001b[39;49m\u001b[43m)\u001b[49m\u001b[43m,\u001b[49m\n\u001b[1;32m   2362\u001b[0m \u001b[43m    \u001b[49m\u001b[43mdata_type\u001b[49m\u001b[38;5;241;43m=\u001b[39;49m\u001b[43mUser\u001b[49m\u001b[43m,\u001b[49m\u001b[43m \u001b[49m\u001b[43muser_auth\u001b[49m\u001b[38;5;241;43m=\u001b[39;49m\u001b[43muser_auth\u001b[49m\n\u001b[1;32m   2363\u001b[0m \u001b[43m\u001b[49m\u001b[43m)\u001b[49m\n",
      "File \u001b[0;32m~/miniconda3/envs/ml/lib/python3.13/site-packages/tweepy/client.py:129\u001b[0m, in \u001b[0;36mBaseClient._make_request\u001b[0;34m(self, method, route, params, endpoint_parameters, json, data_type, user_auth)\u001b[0m\n\u001b[1;32m    123\u001b[0m \u001b[38;5;28;01mdef\u001b[39;00m\u001b[38;5;250m \u001b[39m\u001b[38;5;21m_make_request\u001b[39m(\n\u001b[1;32m    124\u001b[0m     \u001b[38;5;28mself\u001b[39m, method, route, params\u001b[38;5;241m=\u001b[39m{}, endpoint_parameters\u001b[38;5;241m=\u001b[39m(), json\u001b[38;5;241m=\u001b[39m\u001b[38;5;28;01mNone\u001b[39;00m,\n\u001b[1;32m    125\u001b[0m     data_type\u001b[38;5;241m=\u001b[39m\u001b[38;5;28;01mNone\u001b[39;00m, user_auth\u001b[38;5;241m=\u001b[39m\u001b[38;5;28;01mFalse\u001b[39;00m\n\u001b[1;32m    126\u001b[0m ):\n\u001b[1;32m    127\u001b[0m     request_params \u001b[38;5;241m=\u001b[39m \u001b[38;5;28mself\u001b[39m\u001b[38;5;241m.\u001b[39m_process_params(params, endpoint_parameters)\n\u001b[0;32m--> 129\u001b[0m     response \u001b[38;5;241m=\u001b[39m \u001b[38;5;28;43mself\u001b[39;49m\u001b[38;5;241;43m.\u001b[39;49m\u001b[43mrequest\u001b[49m\u001b[43m(\u001b[49m\u001b[43mmethod\u001b[49m\u001b[43m,\u001b[49m\u001b[43m \u001b[49m\u001b[43mroute\u001b[49m\u001b[43m,\u001b[49m\u001b[43m \u001b[49m\u001b[43mparams\u001b[49m\u001b[38;5;241;43m=\u001b[39;49m\u001b[43mrequest_params\u001b[49m\u001b[43m,\u001b[49m\n\u001b[1;32m    130\u001b[0m \u001b[43m                            \u001b[49m\u001b[43mjson\u001b[49m\u001b[38;5;241;43m=\u001b[39;49m\u001b[43mjson\u001b[49m\u001b[43m,\u001b[49m\u001b[43m \u001b[49m\u001b[43muser_auth\u001b[49m\u001b[38;5;241;43m=\u001b[39;49m\u001b[43muser_auth\u001b[49m\u001b[43m)\u001b[49m\n\u001b[1;32m    132\u001b[0m     \u001b[38;5;28;01mif\u001b[39;00m \u001b[38;5;28mself\u001b[39m\u001b[38;5;241m.\u001b[39mreturn_type \u001b[38;5;129;01mis\u001b[39;00m requests\u001b[38;5;241m.\u001b[39mResponse:\n\u001b[1;32m    133\u001b[0m         \u001b[38;5;28;01mreturn\u001b[39;00m response\n",
      "File \u001b[0;32m~/miniconda3/envs/ml/lib/python3.13/site-packages/tweepy/client.py:115\u001b[0m, in \u001b[0;36mBaseClient.request\u001b[0;34m(self, method, route, params, json, user_auth)\u001b[0m\n\u001b[1;32m    113\u001b[0m         \u001b[38;5;28;01mreturn\u001b[39;00m \u001b[38;5;28mself\u001b[39m\u001b[38;5;241m.\u001b[39mrequest(method, route, params, json, user_auth)\n\u001b[1;32m    114\u001b[0m     \u001b[38;5;28;01melse\u001b[39;00m:\n\u001b[0;32m--> 115\u001b[0m         \u001b[38;5;28;01mraise\u001b[39;00m TooManyRequests(response)\n\u001b[1;32m    116\u001b[0m \u001b[38;5;28;01mif\u001b[39;00m response\u001b[38;5;241m.\u001b[39mstatus_code \u001b[38;5;241m>\u001b[39m\u001b[38;5;241m=\u001b[39m \u001b[38;5;241m500\u001b[39m:\n\u001b[1;32m    117\u001b[0m     \u001b[38;5;28;01mraise\u001b[39;00m TwitterServerError(response)\n",
      "\u001b[0;31mTooManyRequests\u001b[0m: 429 Too Many Requests\nToo Many Requests"
     ]
    }
   ],
   "source": [
    "get_followers_twitter_api('elonmusk')"
   ]
  },
  {
   "cell_type": "code",
   "execution_count": 102,
   "id": "0ff0daaf",
   "metadata": {},
   "outputs": [],
   "source": [
    "import requests\n",
    "from bs4 import BeautifulSoup\n",
    "import re\n",
    "\n",
    "def get_follower_count(username):\n",
    "    url = f\"https://twitter.com/{username}\"\n",
    "    headers = {\n",
    "            \"User-Agent\": (\n",
    "                \"Mozilla/5.0 (Windows NT 10.0; Win64; x64) \"\n",
    "                \"AppleWebKit/537.36 (KHTML, like Gecko) \"\n",
    "                \"Chrome/122.0.0.0 Safari/537.36\"\n",
    "            ),\n",
    "            \"Accept-Language\": \"en-US,en;q=0.9\",\n",
    "            \"Accept-Encoding\": \"gzip, deflate, br\",\n",
    "            \"Referer\": \"https://www.google.com/\",\n",
    "            \"Connection\": \"keep-alive\",\n",
    "            \"DNT\": \"1\",\n",
    "        }\n",
    "    response = requests.get(url,headers=headers)\n",
    "    soup = BeautifulSoup(response.text, \"html.parser\")\n",
    "\n",
    "    # Look for follower count in the %%HTM\n",
    "    return soup\n",
    "    match = re.search(r'\"followers_count\":(\\d+)', soup.text)\n",
    "    if match:\n",
    "        return int(match.group(1))\n",
    "    else:\n",
    "        return None\n"
   ]
  },
  {
   "cell_type": "code",
   "execution_count": 103,
   "id": "8d3b7c37",
   "metadata": {},
   "outputs": [
    {
     "data": {
      "text/plain": [
       "<!DOCTYPE html>\n",
       "<html dir=\"ltr\" lang=\"en\"><head><meta charset=\"utf-8\"/><meta content=\"width=device-width,initial-scale=1,maximum-scale=1,user-scalable=0,viewport-fit=cover\" name=\"viewport\"/><link href=\"//abs.twimg.com\" rel=\"preconnect\"/><link href=\"//abs.twimg.com\" rel=\"dns-prefetch\"/><link href=\"//api.twitter.com\" rel=\"preconnect\"/><link href=\"//api.twitter.com\" rel=\"dns-prefetch\"/><link href=\"//api.x.com\" rel=\"preconnect\"/><link href=\"//api.x.com\" rel=\"dns-prefetch\"/><link href=\"//pbs.twimg.com\" rel=\"preconnect\"/><link href=\"//pbs.twimg.com\" rel=\"dns-prefetch\"/><link href=\"//t.co\" rel=\"preconnect\"/><link href=\"//t.co\" rel=\"dns-prefetch\"/><link href=\"//video.twimg.com\" rel=\"preconnect\"/><link href=\"//video.twimg.com\" rel=\"dns-prefetch\"/><link as=\"script\" crossorigin=\"anonymous\" href=\"https://abs.twimg.com/responsive-web/client-web/vendor-7940b00b.e74f2a9a.js\" nonce=\"NGVlZWE4MDUtNjE1Yi00MTYyLThhNDgtM2FhMGRlZmRkMTk2\" rel=\"preload\"/><link as=\"script\" crossorigin=\"anonymous\" href=\"https://abs.twimg.com/responsive-web/client-web/vendor-adcb47af.f51f94ba.js\" nonce=\"NGVlZWE4MDUtNjE1Yi00MTYyLThhNDgtM2FhMGRlZmRkMTk2\" rel=\"preload\"/><link as=\"script\" crossorigin=\"anonymous\" href=\"https://abs.twimg.com/responsive-web/client-web/vendor-38c57b44.7266e9ba.js\" nonce=\"NGVlZWE4MDUtNjE1Yi00MTYyLThhNDgtM2FhMGRlZmRkMTk2\" rel=\"preload\"/><link as=\"script\" crossorigin=\"anonymous\" href=\"https://abs.twimg.com/responsive-web/client-web/vendor-49d0a293.dab26d4a.js\" nonce=\"NGVlZWE4MDUtNjE1Yi00MTYyLThhNDgtM2FhMGRlZmRkMTk2\" rel=\"preload\"/><link as=\"script\" crossorigin=\"anonymous\" href=\"https://abs.twimg.com/responsive-web/client-web/vendor-27545368.b1c27dda.js\" nonce=\"NGVlZWE4MDUtNjE1Yi00MTYyLThhNDgtM2FhMGRlZmRkMTk2\" rel=\"preload\"/><link as=\"script\" crossorigin=\"anonymous\" href=\"https://abs.twimg.com/responsive-web/client-web/vendor-cb2d071c.790f8aca.js\" nonce=\"NGVlZWE4MDUtNjE1Yi00MTYyLThhNDgtM2FhMGRlZmRkMTk2\" rel=\"preload\"/><link as=\"script\" crossorigin=\"anonymous\" href=\"https://abs.twimg.com/responsive-web/client-web/vendor-aaaf2b0c.5cd9a35a.js\" nonce=\"NGVlZWE4MDUtNjE1Yi00MTYyLThhNDgtM2FhMGRlZmRkMTk2\" rel=\"preload\"/><link as=\"script\" crossorigin=\"anonymous\" href=\"https://abs.twimg.com/responsive-web/client-web/vendor-6b20cc7c.af17d40a.js\" nonce=\"NGVlZWE4MDUtNjE1Yi00MTYyLThhNDgtM2FhMGRlZmRkMTk2\" rel=\"preload\"/><link as=\"script\" crossorigin=\"anonymous\" href=\"https://abs.twimg.com/responsive-web/client-web/vendor-85aa29ea.23e2ae7a.js\" nonce=\"NGVlZWE4MDUtNjE1Yi00MTYyLThhNDgtM2FhMGRlZmRkMTk2\" rel=\"preload\"/><link as=\"script\" crossorigin=\"anonymous\" href=\"https://abs.twimg.com/responsive-web/client-web/vendor-e395fecc.1b97550a.js\" nonce=\"NGVlZWE4MDUtNjE1Yi00MTYyLThhNDgtM2FhMGRlZmRkMTk2\" rel=\"preload\"/><link as=\"script\" crossorigin=\"anonymous\" href=\"https://abs.twimg.com/responsive-web/client-web/vendor-dfe82965.4682ab4a.js\" nonce=\"NGVlZWE4MDUtNjE1Yi00MTYyLThhNDgtM2FhMGRlZmRkMTk2\" rel=\"preload\"/><link as=\"script\" crossorigin=\"anonymous\" href=\"https://abs.twimg.com/responsive-web/client-web/vendor-63e37921.7b7e62fa.js\" nonce=\"NGVlZWE4MDUtNjE1Yi00MTYyLThhNDgtM2FhMGRlZmRkMTk2\" rel=\"preload\"/><link as=\"script\" crossorigin=\"anonymous\" href=\"https://abs.twimg.com/responsive-web/client-web/vendor-de539588.506ca6aa.js\" nonce=\"NGVlZWE4MDUtNjE1Yi00MTYyLThhNDgtM2FhMGRlZmRkMTk2\" rel=\"preload\"/><link as=\"script\" crossorigin=\"anonymous\" href=\"https://abs.twimg.com/responsive-web/client-web/vendor-3dfac8a4.346d055a.js\" nonce=\"NGVlZWE4MDUtNjE1Yi00MTYyLThhNDgtM2FhMGRlZmRkMTk2\" rel=\"preload\"/><link as=\"script\" crossorigin=\"anonymous\" href=\"https://abs.twimg.com/responsive-web/client-web/vendor-58c6fc15.752afe1a.js\" nonce=\"NGVlZWE4MDUtNjE1Yi00MTYyLThhNDgtM2FhMGRlZmRkMTk2\" rel=\"preload\"/><link as=\"script\" crossorigin=\"anonymous\" href=\"https://abs.twimg.com/responsive-web/client-web/vendor-bf50982a.32b3beca.js\" nonce=\"NGVlZWE4MDUtNjE1Yi00MTYyLThhNDgtM2FhMGRlZmRkMTk2\" rel=\"preload\"/><link as=\"script\" crossorigin=\"anonymous\" href=\"https://abs.twimg.com/responsive-web/client-web/vendor-e5bca7e4.67118a2a.js\" nonce=\"NGVlZWE4MDUtNjE1Yi00MTYyLThhNDgtM2FhMGRlZmRkMTk2\" rel=\"preload\"/><link as=\"script\" crossorigin=\"anonymous\" href=\"https://abs.twimg.com/responsive-web/client-web/vendor-3e5eb623.0284feca.js\" nonce=\"NGVlZWE4MDUtNjE1Yi00MTYyLThhNDgtM2FhMGRlZmRkMTk2\" rel=\"preload\"/><link as=\"script\" crossorigin=\"anonymous\" href=\"https://abs.twimg.com/responsive-web/client-web/vendor-744bed60.4b2752ba.js\" nonce=\"NGVlZWE4MDUtNjE1Yi00MTYyLThhNDgtM2FhMGRlZmRkMTk2\" rel=\"preload\"/><link as=\"script\" crossorigin=\"anonymous\" href=\"https://abs.twimg.com/responsive-web/client-web/vendor-2bf3abf4.c03b35aa.js\" nonce=\"NGVlZWE4MDUtNjE1Yi00MTYyLThhNDgtM2FhMGRlZmRkMTk2\" rel=\"preload\"/><link as=\"script\" crossorigin=\"anonymous\" href=\"https://abs.twimg.com/responsive-web/client-web/vendor-c22f700c.f2a689ca.js\" nonce=\"NGVlZWE4MDUtNjE1Yi00MTYyLThhNDgtM2FhMGRlZmRkMTk2\" rel=\"preload\"/><link as=\"script\" crossorigin=\"anonymous\" href=\"https://abs.twimg.com/responsive-web/client-web/vendor-48a4958c.22189dca.js\" nonce=\"NGVlZWE4MDUtNjE1Yi00MTYyLThhNDgtM2FhMGRlZmRkMTk2\" rel=\"preload\"/><link as=\"script\" crossorigin=\"anonymous\" href=\"https://abs.twimg.com/responsive-web/client-web/vendor-bfc04956.9055797a.js\" nonce=\"NGVlZWE4MDUtNjE1Yi00MTYyLThhNDgtM2FhMGRlZmRkMTk2\" rel=\"preload\"/><link as=\"script\" crossorigin=\"anonymous\" href=\"https://abs.twimg.com/responsive-web/client-web/vendor-eb8eaa08.d6adf1ba.js\" nonce=\"NGVlZWE4MDUtNjE1Yi00MTYyLThhNDgtM2FhMGRlZmRkMTk2\" rel=\"preload\"/><link as=\"script\" crossorigin=\"anonymous\" href=\"https://abs.twimg.com/responsive-web/client-web/vendor-91c40cd8.e33ef86a.js\" nonce=\"NGVlZWE4MDUtNjE1Yi00MTYyLThhNDgtM2FhMGRlZmRkMTk2\" rel=\"preload\"/><link as=\"script\" crossorigin=\"anonymous\" href=\"https://abs.twimg.com/responsive-web/client-web/vendor-c4d1d074.d21e962a.js\" nonce=\"NGVlZWE4MDUtNjE1Yi00MTYyLThhNDgtM2FhMGRlZmRkMTk2\" rel=\"preload\"/><link as=\"script\" crossorigin=\"anonymous\" href=\"https://abs.twimg.com/responsive-web/client-web/vendor-ccf8c62e.739490fa.js\" nonce=\"NGVlZWE4MDUtNjE1Yi00MTYyLThhNDgtM2FhMGRlZmRkMTk2\" rel=\"preload\"/><link as=\"script\" crossorigin=\"anonymous\" href=\"https://abs.twimg.com/responsive-web/client-web/vendor-821262ff.b8cdca5a.js\" nonce=\"NGVlZWE4MDUtNjE1Yi00MTYyLThhNDgtM2FhMGRlZmRkMTk2\" rel=\"preload\"/><link as=\"script\" crossorigin=\"anonymous\" href=\"https://abs.twimg.com/responsive-web/client-web/vendor-57216f32.ef22925a.js\" nonce=\"NGVlZWE4MDUtNjE1Yi00MTYyLThhNDgtM2FhMGRlZmRkMTk2\" rel=\"preload\"/><link as=\"script\" crossorigin=\"anonymous\" href=\"https://abs.twimg.com/responsive-web/client-web/vendor-f501a089.1852e6aa.js\" nonce=\"NGVlZWE4MDUtNjE1Yi00MTYyLThhNDgtM2FhMGRlZmRkMTk2\" rel=\"preload\"/><link as=\"script\" crossorigin=\"anonymous\" href=\"https://abs.twimg.com/responsive-web/client-web/i18n/en.2c9a5e9a.js\" nonce=\"NGVlZWE4MDUtNjE1Yi00MTYyLThhNDgtM2FhMGRlZmRkMTk2\" rel=\"preload\"/><link as=\"script\" crossorigin=\"anonymous\" href=\"https://abs.twimg.com/responsive-web/client-web/main.3b637a6a.js\" nonce=\"NGVlZWE4MDUtNjE1Yi00MTYyLThhNDgtM2FhMGRlZmRkMTk2\" rel=\"preload\"/><meta content=\"https://twitter3e4tixl4xyajtrzo62zg5vztmjuricljdp2c5kshju4avyoid.onion/\" http-equiv=\"onion-location\"/><meta content=\"2231777543\" property=\"fb:app_id\"/><meta content=\"X (formerly Twitter)\" property=\"og:site_name\"/><meta content=\"600dQ0pZYsH2xOFt4hYmf5f5NpjCbWE_qk5Y04dErYM\" name=\"google-site-verification\"/><meta content=\"x6sdcc8b5ju3bh8nbm59eswogvg6t1\" name=\"facebook-domain-verification\"/><meta content=\"yes\" name=\"mobile-web-app-capable\"/><meta content=\"Twitter\" name=\"apple-mobile-web-app-title\"/><meta content=\"white\" name=\"apple-mobile-web-app-status-bar-style\"/><link href=\"/os-x.xml\" rel=\"search\" title=\"X\" type=\"application/opensearchdescription+xml\"/>\n",
       "<link href=\"/os-grok.xml\" rel=\"search\" title=\"Grok\" type=\"application/opensearchdescription+xml\"/><link href=\"https://abs.twimg.com/responsive-web/client-web/icon-ios.77d25eba.png\" rel=\"apple-touch-icon\" sizes=\"192x192\"><meta content=\"IWOu7moougV7l2Ss31Qx8d2A6/8H+rUDzuRl3TxRJGnYVgIqnjXZgBms+bAU+BT3\" name=\"twitter-site-verification\"/><link crossorigin=\"use-credentials\" href=\"/manifest.json\" rel=\"manifest\"><link href=\"/os-x.xml\" rel=\"search\" title=\"X\" type=\"application/opensearchdescription+xml\"/><link href=\"/os-grok.xml\" rel=\"search\" title=\"Grok\" type=\"application/opensearchdescription+xml\"/><link color=\"#1D9BF0\" href=\"https://abs.twimg.com/responsive-web/client-web/icon-svg.ea5ff4aa.svg\" rel=\"mask-icon\" sizes=\"any\"/><link href=\"//abs.twimg.com/favicons/twitter.3.ico\" rel=\"shortcut icon\"/><meta content=\"#FFFFFF\" media=\"(prefers-color-scheme: light)\" name=\"theme-color\"/><meta content=\"#000000\" media=\"(prefers-color-scheme: dark)\" name=\"theme-color\"/><meta content=\"AlpCmb40F5ZjDi9ZYe+wnr/V8MF+XmY41K4qUhoq+2mbepJTNd3q4CRqlACfnythEPZqcjryfAS1+ExS0FFRcA8AAABmeyJvcmlnaW4iOiJodHRwczovL3R3aXR0ZXIuY29tOjQ0MyIsImZlYXR1cmUiOiJMYXVuY2ggSGFuZGxlciIsImV4cGlyeSI6MTY1NTI1MTE5OSwiaXNTdWJkb21haW4iOnRydWV9\" http-equiv=\"origin-trial\"/><style>\n",
       "#ScriptLoadFailure button[type=submit]:hover { background-color: rgb(39, 44, 48) !important; }\n",
       "@media (prefers-color-scheme: dark) {\n",
       "  #placeholder { background-color: #000000 }\n",
       "  #ScriptLoadFailure span, #placeholder svg { color: #FFFFFF !important; }\n",
       "  #ScriptLoadFailure button[type=submit] { background-color: rgb(239, 243, 244) !important; }\n",
       "  #ScriptLoadFailure button[type=submit]:hover { background-color: rgb(215, 219, 220) !important; }\n",
       "  #ScriptLoadFailure button[type=submit] span { color: #000000 !important; }\n",
       "}</style><style>html,body{height: 100%;}::cue{white-space:normal}</style><style id=\"react-native-stylesheet\">[stylesheet-group=\"0\"]{}\n",
       "body{margin:0;}\n",
       "button::-moz-focus-inner,input::-moz-focus-inner{border:0;padding:0;}\n",
       "html{-ms-text-size-adjust:100%;-webkit-text-size-adjust:100%;-webkit-tap-highlight-color:rgba(0,0,0,0);}\n",
       "input::-webkit-search-cancel-button,input::-webkit-search-decoration,input::-webkit-search-results-button,input::-webkit-search-results-decoration{display:none;}\n",
       "[stylesheet-group=\"1\"]{}\n",
       ".css-146c3p1{background-color:rgba(0,0,0,0.00);border:0 solid black;box-sizing:border-box;color:rgba(0,0,0,1.00);display:inline;font:14px -apple-system,BlinkMacSystemFont,\"Segoe UI\",Roboto,Helvetica,Arial,sans-serif;list-style:none;margin:0px;padding:0px;position:relative;text-align:start;text-decoration:none;white-space:pre-wrap;word-wrap:break-word;}\n",
       ".css-175oi2r{align-items:stretch;background-color:rgba(0,0,0,0.00);border:0 solid black;box-sizing:border-box;display:flex;flex-basis:auto;flex-direction:column;flex-shrink:0;list-style:none;margin:0px;min-height:0px;min-width:0px;padding:0px;position:relative;text-decoration:none;z-index:0;}\n",
       ".css-1jxf684{background-color:rgba(0,0,0,0.00);border:0 solid black;box-sizing:border-box;color:inherit;display:inline;font:inherit;list-style:none;margin:0px;padding:0px;position:relative;text-align:inherit;text-decoration:none;white-space:inherit;word-wrap:break-word;}\n",
       ".css-9pa8cd{bottom:0px;height:100%;left:0px;opacity:0;position:absolute;right:0px;top:0px;width:100%;z-index:-1;}\n",
       "[stylesheet-group=\"2\"]{}\n",
       ".r-13awgt0{flex:1;}\n",
       ".r-1adg3ll{display:block;}\n",
       ".r-1jkafct{border-bottom-left-radius:2px;border-bottom-right-radius:2px;border-top-left-radius:2px;border-top-right-radius:2px;}\n",
       ".r-1phboty{border-bottom-style:solid;border-left-style:solid;border-right-style:solid;border-top-style:solid;}\n",
       ".r-1udh08x{overflow-x:hidden;overflow-y:hidden;}\n",
       ".r-4iw3lz{border-bottom-width:0;border-left-width:0;border-right-width:0;border-top-width:0;}\n",
       ".r-4qtqp9{display:inline-block;}\n",
       ".r-6koalj{display:flex;}\n",
       ".r-bztko3{overflow-x:visible;overflow-y:visible;}\n",
       ".r-crgep1{margin:0px;}\n",
       ".r-hvic4v{display:none;}\n",
       ".r-krxsd3{display:-webkit-box;}\n",
       ".r-rs99b7{border-bottom-width:1px;border-left-width:1px;border-right-width:1px;border-top-width:1px;}\n",
       ".r-sdzlij{border-bottom-left-radius:9999px;border-bottom-right-radius:9999px;border-top-left-radius:9999px;border-top-right-radius:9999px;}\n",
       ".r-t60dpp{padding:0px;}\n",
       ".r-wwvuq4{padding:0;}\n",
       ".r-xoduu5{display:inline-flex;}\n",
       ".r-ywje51{margin:auto;}\n",
       ".r-z2wwpe{border-bottom-left-radius:4px;border-bottom-right-radius:4px;border-top-left-radius:4px;border-top-right-radius:4px;}\n",
       "[stylesheet-group=\"2.1\"]{}\n",
       ".r-1559e4e{padding-bottom:2px;padding-top:2px;}\n",
       ".r-1fkl15p{padding-left:32px;padding-right:32px;}\n",
       ".r-3o4zer{padding-left:12px;padding-right:12px;}\n",
       ".r-3pj75a{padding-left:16px;padding-right:16px;}\n",
       ".r-cxgwc0{padding-left:24px;padding-right:24px;}\n",
       ".r-dd0y9b{padding-bottom:20px;padding-top:20px;}\n",
       ".r-ddtstp{margin-bottom:0px;margin-top:0px;}\n",
       ".r-dp7rxi{padding-bottom:40px;padding-top:40px;}\n",
       ".r-f8sm7e{margin-left:auto;margin-right:auto;}\n",
       ".r-n7gxbd{padding-left:4px;padding-right:4px;}\n",
       ".r-s49dbf{margin-bottom:1px;margin-top:1px;}\n",
       ".r-sjygvo{padding-left:1em;padding-right:1em;}\n",
       "[stylesheet-group=\"2.2\"]{}\n",
       ".r-1ca1ndr{margin-left:0.5em;}\n",
       ".r-1ez5h0i{margin-left:4px;}\n",
       ".r-1gs4q39{margin-right:4px;}\n",
       ".r-1kkk96v{margin-left:8px;}\n",
       ".r-1kpi4qh{margin-left:0.075em;}\n",
       ".r-1l2kgy{margin-right:0.5em;}\n",
       ".r-1q6cnnd{right:-2px;}\n",
       ".r-1wron08{margin-right:8px;}\n",
       ".r-3t4u6i{margin-left:2px;}\n",
       ".r-45ll9u{left:50%;}\n",
       ".r-5f1w11{left:-2px;}\n",
       ".r-k4bwe5{margin-right:0.075em;}\n",
       ".r-o59np7{padding-right:8px;}\n",
       ".r-ocobd0{right:50%;}\n",
       ".r-qjj4hq{padding-left:8px;}\n",
       ".r-x1x4zq{margin-right:2px;}\n",
       "[stylesheet-group=\"3\"]{}\n",
       ".r-105ug2t{pointer-events:auto!important;}\n",
       ".r-109y4c4{height:1px;}\n",
       ".r-10ptun7{height:16px;}\n",
       ".r-10v3vxq{transform:scaleX(-1);}\n",
       ".r-117bsoe{margin-bottom:20px;}\n",
       ".r-11c0sde{margin-top:24px;}\n",
       ".r-11j9u27{visibility:hidden;}\n",
       ".r-12181gd{box-shadow:0 0 2px rgba(0,0,0,0.03) inset;}\n",
       ".r-12sks89{min-height:22px;}\n",
       ".r-12vffkv>*{pointer-events:auto;}\n",
       ".r-12vffkv{pointer-events:none!important;}\n",
       ".r-12ym1je{width:18px;}\n",
       ".r-135wba7{line-height:24px;}\n",
       ".r-13qz1uu{width:100%;}\n",
       ".r-13wfysu{-webkit-text-decoration-line:none;text-decoration-line:none;}\n",
       ".r-146iojx{max-width:300px;}\n",
       ".r-1472mwg{height:24px;}\n",
       ".r-14j79pv{color:rgba(83,100,113,1.00);}\n",
       ".r-14lw9ot{background-color:rgba(255,255,255,1.00);}\n",
       ".r-15ysp7h{min-height:32px;}\n",
       ".r-16dba41{font-weight:400;}\n",
       ".r-16y2uox{flex-grow:1;}\n",
       ".r-176fswd{transform:translateX(-50%) translateY(-50%);}\n",
       ".r-1777fci{justify-content:center;}\n",
       ".r-17bb2tj{animation-duration:0.75s;}\n",
       ".r-17leim2{background-repeat:repeat;}\n",
       ".r-17s6mgv{justify-content:flex-end;}\n",
       ".r-18jsvk2{color:rgba(15,20,25,1.00);}\n",
       ".r-18tzken{width:56px;}\n",
       ".r-18u37iz{flex-direction:row;}\n",
       ".r-18yzcnr{height:22px;}\n",
       ".r-19wmn03{width:20px;}\n",
       ".r-19yznuf{min-height:52px;}\n",
       ".r-1abnn5w{animation-play-state:paused;}\n",
       ".r-1acpoxo{width:36px;}\n",
       ".r-1ad0z5i{word-break:break-all;}\n",
       ".r-1awozwy{align-items:center;}\n",
       ".r-1b43r93{font-size:14px;}\n",
       ".r-1betnmo{max-width:672px;}\n",
       ".r-1blnp2b{width:72px;}\n",
       ".r-1blvdjr{font-size:23px;}\n",
       ".r-1ceczpf{min-height:24px;}\n",
       ".r-1cwl3u0{line-height:16px;}\n",
       ".r-1d2f490{left:0px;}\n",
       ".r-1ddef8g{-webkit-text-decoration-line:underline;text-decoration-line:underline;}\n",
       ".r-1ebb2ja{list-style:none;}\n",
       ".r-1ff274t{text-align:right;}\n",
       ".r-1gkfh8e{font-size:11px;}\n",
       ".r-1h0z5md{justify-content:flex-start;}\n",
       ".r-1h8ys4a{padding-top:4px;}\n",
       ".r-1hjwoze{height:18px;}\n",
       ".r-1iln25a{word-wrap:normal;}\n",
       ".r-1inkyih{font-size:17px;}\n",
       ".r-1ipicw7{width:300px;}\n",
       ".r-1iusvr4{flex-basis:0px;}\n",
       ".r-1janqcz{width:16px;}\n",
       ".r-1jaylin{width:-webkit-max-content;width:-moz-max-content;width:max-content;}\n",
       ".r-1k78y06{font-family:Tahoma, Arial, sans-serif;}\n",
       ".r-1kihuf0{align-self:center;}\n",
       ".r-1ldzwu0{animation-timing-function:linear;}\n",
       ".r-1loqt21{cursor:pointer;}\n",
       ".r-1mlwlqe{flex-basis:auto;}\n",
       ".r-1mrlafo{background-position:0;}\n",
       ".r-1muvv40{animation-iteration-count:infinite;}\n",
       ".r-1mwlp6a{height:56px;}\n",
       ".r-1nao33i{color:rgba(231,233,234,1.00);}\n",
       ".r-1niwhzg{background-color:rgba(0,0,0,0.00);}\n",
       ".r-1ny4l3l{outline-style:none;}\n",
       ".r-1oifz5y{background-color:rgba(170,17,0,1.00);}\n",
       ".r-1oszu61{align-items:stretch;}\n",
       ".r-1otgn73{touch-action:manipulation;}\n",
       ".r-1p0dtai{bottom:0px;}\n",
       ".r-1pi2tsx{height:100%;}\n",
       ".r-1ps3wis{min-width:44px;}\n",
       ".r-1qd0xha{font-family:-apple-system,BlinkMacSystemFont,\"Segoe UI\",Roboto,Helvetica,Arial,sans-serif;}\n",
       ".r-1qi8awa{min-width:36px;}\n",
       ".r-1r5jyh0{min-height:130px;}\n",
       ".r-1r8g8re{height:36px;}\n",
       ".r-1s2hp8q{min-height:26px;}\n",
       ".r-1sxrcry{background-size:auto;}\n",
       ".r-1tl8opc{font-family:\"Segoe UI\",Meiryo,system-ui,-apple-system,BlinkMacSystemFont,sans-serif;}\n",
       ".r-1to6hqq{background-color:rgba(255,212,0,1.00);}\n",
       ".r-1ttztb7{text-align:inherit;}\n",
       ".r-1udbk01{text-overflow:ellipsis;}\n",
       ".r-1v2oles{top:50%;}\n",
       ".r-1vmecro{direction:rtl;}\n",
       ".r-1vr29t4{font-weight:800;}\n",
       ".r-1wb8bfx{text-decoration-thickness:2px;}\n",
       ".r-1wbh5a2{flex-shrink:1;}\n",
       ".r-1wyyakw{z-index:-1;}\n",
       ".r-1xcajam{position:fixed;}\n",
       ".r-1xk2f4g{clip:rect(1px, 1px, 1px, 1px);}\n",
       ".r-1xnzce8{-moz-user-select:text;-webkit-user-select:text;user-select:text;}\n",
       ".r-1xvli5t{height:1.25em;}\n",
       ".r-1y7e96w{min-width:22px;}\n",
       ".r-1ye8kvj{max-width:600px;}\n",
       ".r-1yef0xd{animation-name:r-11cv4x;}\n",
       ".r-1yjpyg1{font-size:31px;}\n",
       ".r-1ykxob0{top:60%;}\n",
       ".r-2o02ov{margin-top:40px;}\n",
       ".r-2tavb8{background-color:rgba(0,0,0,0.60);}\n",
       ".r-2yi16{min-height:36px;}\n",
       ".r-36ujnk{font-style:italic;}\n",
       ".r-37tt59{line-height:32px;}\n",
       ".r-3s2u2q{white-space:nowrap;}\n",
       ".r-417010{z-index:0;}\n",
       ".r-4gszlv{background-size:cover;}\n",
       ".r-4wgw6l{min-width:32px;}\n",
       ".r-54znze{color:rgba(239,243,244,1.00);}\n",
       ".r-56xrmm{line-height:12px;}\n",
       ".r-6026j{background-color:rgba(255,255,255,0.85);}\n",
       ".r-633pao{pointer-events:none!important;}\n",
       ".r-6416eg{-moz-transition-property:background-color, box-shadow;-webkit-transition-property:background-color, box-shadow;transition-property:background-color, box-shadow;}\n",
       ".r-64el8z{min-width:52px;}\n",
       ".r-7q8q6z{cursor:default;}\n",
       ".r-8akbws{-webkit-box-orient:vertical;}\n",
       ".r-8jfcpp{top:-2px;}\n",
       ".r-92ng3h{width:1px;}\n",
       ".r-a023e6{font-size:15px;}\n",
       ".r-adyw6z{font-size:20px;}\n",
       ".r-agouwx{transform:translateZ(0);}\n",
       ".r-ah5dr5>*{pointer-events:none;}\n",
       ".r-ah5dr5{pointer-events:auto!important;}\n",
       ".r-aqfbo4{backface-visibility:hidden;}\n",
       ".r-b88u0q{font-weight:700;}\n",
       ".r-bcqeeo{min-width:0px;}\n",
       ".r-bnwqim{position:relative;}\n",
       ".r-bt1l66{min-height:20px;}\n",
       ".r-bvlit7{margin-bottom:-12px;}\n",
       ".r-clrlgt{animation-name:r-imtty0;}\n",
       ".r-deolkf{box-sizing:border-box;}\n",
       ".r-dflpy8{height:1.2em;}\n",
       ".r-dnmrzs{max-width:100%;}\n",
       ".r-ehq7j7{background-size:contain;}\n",
       ".r-emqnss{transform:translateZ(0px);}\n",
       ".r-eqz5dr{flex-direction:column;}\n",
       ".r-ero68b{min-height:40px;}\n",
       ".r-fdjqy7{text-align:left;}\n",
       ".r-fm7h5w{font-family:\"TwitterChirpExtendedHeavy\",\"Verdana\",-apple-system,BlinkMacSystemFont,\"Segoe UI\",Roboto,Helvetica,Arial,sans-serif;}\n",
       ".r-h9hxbl{width:1.2em;}\n",
       ".r-icoktb{opacity:0.5;}\n",
       ".r-ifefl9{min-height:0px;}\n",
       ".r-impgnl{transform:translateX(50%) translateY(-50%);}\n",
       ".r-iphfwy{padding-bottom:4px;}\n",
       ".r-ipm5af{top:0px;}\n",
       ".r-jmul1s{transform:scale(1.1);}\n",
       ".r-jwli3a{color:rgba(255,255,255,1.00);}\n",
       ".r-kemksi{background-color:rgba(0,0,0,1.00);}\n",
       ".r-lp5zef{min-width:24px;}\n",
       ".r-lrsllp{width:24px;}\n",
       ".r-lrvibr{-moz-user-select:none;-webkit-user-select:none;user-select:none;}\n",
       ".r-m6rgpd{vertical-align:text-bottom;}\n",
       ".r-majxgm{font-weight:500;}\n",
       ".r-n6v787{font-size:13px;}\n",
       ".r-nhe8su{animation-duration:0.5s;}\n",
       ".r-nvplwv{animation-timing-function:ease-out;}\n",
       ".r-nwxazl{line-height:40px;}\n",
       ".r-o7ynqc{transition-duration:0.2s;}\n",
       ".r-peo1c{min-height:44px;}\n",
       ".r-poiln3{font-family:inherit;}\n",
       ".r-pp5qcn{vertical-align:-20%;}\n",
       ".r-q4m81j{text-align:center;}\n",
       ".r-qlhcfr{font-size:0.001px;}\n",
       ".r-qvk6io{line-height:0px;}\n",
       ".r-qvutc0{word-wrap:break-word;}\n",
       ".r-rjixqe{line-height:20px;}\n",
       ".r-rki7wi{bottom:12px;}\n",
       ".r-sb58tz{max-width:1000px;}\n",
       ".r-tjvw6i{text-decoration-thickness:1px;}\n",
       ".r-u6sd8q{background-repeat:no-repeat;}\n",
       ".r-u8s1d{position:absolute;}\n",
       ".r-ueyrd6{line-height:36px;}\n",
       ".r-uho16t{font-size:34px;}\n",
       ".r-vkv6oe{min-width:40px;}\n",
       ".r-vqxq0j{border:0 solid black;}\n",
       ".r-vrz42v{line-height:28px;}\n",
       ".r-vvn4in{background-position:center;}\n",
       ".r-wy61xf{height:72px;}\n",
       ".r-x3cy2q{background-size:100% 100%;}\n",
       ".r-x572qd{background-color:rgba(247,249,249,1.00);}\n",
       ".r-xigjrr{-webkit-filter:blur(4px);filter:blur(4px);}\n",
       ".r-yc9v9c{width:22px;}\n",
       ".r-yn5ncy{animation-fill-mode:both;}\n",
       ".r-yy2aun{font-size:26px;}\n",
       ".r-yyyyoo{fill:currentcolor;}\n",
       ".r-z7pwl0{max-width:700px;}\n",
       ".r-z80fyv{height:20px;}\n",
       ".r-zchlnj{right:0px;}\n",
       "@-webkit-keyframes r-11cv4x{0%{transform:rotate(0deg);}100%{transform:rotate(360deg);}}\n",
       "@-webkit-keyframes r-imtty0{0%{opacity:0;}100%{opacity:1;}}\n",
       "@keyframes r-11cv4x{0%{transform:rotate(0deg);}100%{transform:rotate(360deg);}}\n",
       "@keyframes r-imtty0{0%{opacity:0;}100%{opacity:1;}}\n",
       ".r-3g9u2o{position:absolute;visibility:hidden;top:0;width:50px;pointer-events:none}\n",
       ".r-3g9u2o.loaded{visibility:visible;top:50vh;width:50px}</style></link></link></head><body style=\"background-color: #FFFFFF;\"><noscript><style>\n",
       "    body {\n",
       "      -ms-overflow-style: scrollbar;\n",
       "      overflow-y: scroll;\n",
       "      overscroll-behavior-y: none;\n",
       "    }\n",
       "\n",
       "    .errorContainer {\n",
       "      background-color: #FFF;\n",
       "      color: #0F1419;\n",
       "      max-width: 600px;\n",
       "      margin: 0 auto;\n",
       "      padding: 10%;\n",
       "      font-family: Helvetica, sans-serif;\n",
       "      font-size: 16px;\n",
       "    }\n",
       "\n",
       "    .errorButton {\n",
       "      margin: 3em 0;\n",
       "    }\n",
       "\n",
       "    .errorButton a {\n",
       "      background: #1DA1F2;\n",
       "      border-radius: 2.5em;\n",
       "      color: white;\n",
       "      padding: 1em 2em;\n",
       "      text-decoration: none;\n",
       "    }\n",
       "\n",
       "    .errorButton a:hover,\n",
       "    .errorButton a:focus {\n",
       "      background: rgb(26, 145, 218);\n",
       "    }\n",
       "\n",
       "    .errorFooter {\n",
       "      color: #657786;\n",
       "      font-size: 80%;\n",
       "      line-height: 1.5;\n",
       "      padding: 1em 0;\n",
       "    }\n",
       "\n",
       "    .errorFooter a,\n",
       "    .errorFooter a:visited {\n",
       "      color: #657786;\n",
       "      text-decoration: none;\n",
       "      padding-right: 1em;\n",
       "    }\n",
       "\n",
       "    .errorFooter a:hover,\n",
       "    .errorFooter a:active {\n",
       "      text-decoration: underline;\n",
       "    }\n",
       "\n",
       "      #placeholder,\n",
       "      #react-root {\n",
       "        display: none !important;\n",
       "      }\n",
       "      body {\n",
       "        background-color: #FFF !important;\n",
       "      }\n",
       "    </style>\n",
       "<div class=\"errorContainer\">\n",
       "<svg aria-label=\"X logo\" height=\"48\" role=\"img\" viewbox=\"0 0 128 128\" width=\"48\" xmlns=\"http://www.w3.org/2000/svg\">\n",
       "<path clip-rule=\"evenodd\" d=\"M86.8918 28.25H99.0219L72.5243 58.5334L103.698 99.75H79.285L60.1647 74.7536L38.2929 99.75H26.1627L54.5069 67.3565L24.5938 28.25H49.6199L66.9004 51.0974L86.8918 28.25ZM82.6337 92.4904H89.3555L45.9716 35.1301H38.7584L82.6337 92.4904Z\" fill=\"black\" fill-rule=\"evenodd\"></path>\n",
       "</svg>\n",
       "<h1>JavaScript is not available.</h1>\n",
       "<p>We’ve detected that JavaScript is disabled in this browser. Please enable JavaScript or switch to a supported browser to continue using x.com. You can see a list of supported browsers in our Help Center.</p>\n",
       "<p class=\"errorButton\"><a href=\"https://help.x.com/using-x/x-supported-browsers\">Help Center</a></p>\n",
       "<p class=\"errorFooter\">\n",
       "<a href=\"https://twitter.com/tos\">Terms of Service</a>\n",
       "<a href=\"https://twitter.com/privacy\">Privacy Policy</a>\n",
       "<a href=\"https://support.twitter.com/articles/20170514\">Cookie Policy</a>\n",
       "<a href=\"https://legal.twitter.com/imprint.html\">Imprint</a>\n",
       "<a href=\"https://business.twitter.com/en/help/troubleshooting/how-twitter-ads-work.html?ref=web-twc-ao-gbl-adsinfo&amp;utm_source=twc&amp;utm_medium=web&amp;utm_campaign=ao&amp;utm_content=adsinfo\">Ads info</a>\n",
       "      © 2025 X Corp.\n",
       "    </p>\n",
       "</div></noscript><div id=\"react-root\" style=\"height:100%;display:flex;\"><div class=\"css-175oi2r r-13awgt0 r-12vffkv\"><div class=\"css-175oi2r r-13awgt0 r-12vffkv\"><div aria-label=\"Loading…\" class=\"css-175oi2r r-kemksi r-1p0dtai r-zchlnj r-1d2f490 r-1xcajam r-ipm5af\" id=\"placeholder\"><svg aria-hidden=\"true\" class=\"r-4qtqp9 r-yyyyoo r-dnmrzs r-lrvibr r-m6rgpd r-1p0dtai r-1nao33i r-wy61xf r-zchlnj r-1d2f490 r-ywje51 r-u8s1d r-ipm5af r-1blnp2b\" viewbox=\"0 0 24 24\"><g><path d=\"M18.244 2.25h3.308l-7.227 8.26 8.502 11.24H16.17l-5.214-6.817L4.99 21.75H1.68l7.73-8.835L1.254 2.25H8.08l4.713 6.231zm-1.161 17.52h1.833L7.084 4.126H5.117z\"></path></g></svg></div><div class=\"css-175oi2r r-hvic4v r-zchlnj r-1d2f490 r-1xcajam r-1ykxob0\" id=\"ScriptLoadFailure\"><form action=\"\" method=\"GET\"><div class=\"css-175oi2r r-1awozwy r-q4m81j\"><div class=\"css-146c3p1 r-bcqeeo r-1ttztb7 r-qvutc0 r-1qd0xha r-a023e6 r-rjixqe r-16dba41\" dir=\"ltr\" style=\"color:rgba(231,233,234,1.00)\"><span class=\"css-1jxf684 r-bcqeeo r-1ttztb7 r-qvutc0 r-poiln3\">Something went wrong, but don’t fret — let’s give it another shot.</span></div><br/><input name=\"failedScript\" type=\"hidden\" value=\"\"/><button style=\"min-width:36px;min-height:36px;padding-left:16px;padding-right:16px;border-radius:9999px;border-style:solid;border-width:1px;user-select:none;cursor:pointer;background-color:#EFF3F4;border-color:transparent;color:#0F1419\" type=\"submit\"><div class=\"css-146c3p1 r-bcqeeo r-qvutc0 r-1qd0xha r-q4m81j r-a023e6 r-rjixqe r-b88u0q\" dir=\"ltr\" style=\"color:rgba(15,20,25,1.00)\"><span class=\"css-1jxf684 r-bcqeeo r-1ttztb7 r-qvutc0 r-poiln3\">Try again</span></div></button><div class=\"css-146c3p1 r-bcqeeo r-1ttztb7 r-qvutc0 r-1qd0xha r-a023e6 r-rjixqe r-16dba41 r-1oifz5y r-z2wwpe r-jwli3a r-6koalj r-1gs4q39 r-1ez5h0i r-11c0sde r-iphfwy r-o59np7 r-qjj4hq r-1h8ys4a\" dir=\"ltr\"><img alt=\"⚠️\" class=\"r-4qtqp9 r-dflpy8 r-k4bwe5 r-1kpi4qh r-pp5qcn r-h9hxbl\" draggable=\"false\" src=\"https://abs-0.twimg.com/emoji/v2/svg/26a0.svg\"/><span class=\"css-1jxf684 r-bcqeeo r-1ttztb7 r-qvutc0 r-poiln3\"> Some privacy related extensions may cause issues on x.com. Please disable them and try again.</span></div></div></form></div></div></div></div><svg aria-hidden=\"true\" class=\"r-1p0dtai r-13gxpu9 r-4qtqp9 r-yyyyoo r-wy61xf r-1d2f490 r-3g9u2o r-ywje51 r-dnmrzs r-u8s1d r-zchlnj r-1plcrui r-ipm5af r-lrvibr r-1blnp2b\" id=\"loading-x-anim-0\" viewbox=\"0 0 24 24\"><g><path d=\"M18.244 2.25h3.308l-7.227 8.26 8.502 11.24H16.17l-5.214-6.817L4.99 21.75H1.68l7.73-8.835L1.254 2.25H8.08l4.713 6.231zm-1.161 17.52h1.833L7.084 4.126H5.117z\"></path><path d=\"M 10,30 C 216,39 183,238 174,115 h 216 s 207,237 191,90 C 138,183 96,144 190,251 h 221 s 150,253 230,76 C 170,201 56,144 129,23 h 13 s 229,124 55,215 C 189,95 119,205 141,39 h 109 s 11,116 23,192 C 71,156 216,139 162,250 h 55 s 239,72 72,82 C 26,92 164,154 53,236 h 245 s 245,6 86,65 C 223,198 110,47 85,119 h 72 s 131,22 185,192 C 172,80 89,125 252,10 h 136 s 147,141 50,221 C 48,77 4,39 69,93 h 15 s 22,172 66,38 C 72,224 174,50 167,154 h 165 s 88,113 193,96 C 194,226 218,137 133,231 h 101 s 6,96 74,192 C 218,202 229,32 242,54 h 68 s 129,28 96,8 C 24,136 94,192 78,15 h 48 s 255,72 93,73 C 177,155 144,86 161,250 h 22 s 206,58 171,196 C 182,144 63,133 176,46 h 249 s 47,84 105,252 C 24,165 24,21 253,194 h 222 s 0,71 137,140\" fill=\"#1d9bf008\"></path></g></svg><svg aria-hidden=\"true\" class=\"r-1p0dtai r-13gxpu9 r-4qtqp9 r-yyyyoo r-wy61xf r-1d2f490 r-3g9u2o r-ywje51 r-dnmrzs r-u8s1d r-zchlnj r-1plcrui r-ipm5af r-lrvibr r-1blnp2b\" id=\"loading-x-anim-1\" viewbox=\"0 0 24 24\"><g><path d=\"M18.244 2.25h3.308l-7.227 8.26 8.502 11.24H16.17l-5.214-6.817L4.99 21.75H1.68l7.73-8.835L1.254 2.25H8.08l4.713 6.231zm-1.161 17.52h1.833L7.084 4.126H5.117z\"></path><path d=\"M 10,30 C 115,73 183,177 194,2 h 59 s 30,200 121,206 C 115,52 238,217 36,0 h 118 s 120,202 77,224 C 11,13 241,30 135,89 h 126 s 164,104 63,215 C 208,175 54,42 253,22 h 56 s 71,0 143,208 C 36,36 233,105 192,63 h 112 s 176,72 80,109 C 46,30 90,198 116,232 h 223 s 33,230 148,185 C 199,65 178,236 10,11 h 31 s 167,133 101,155 C 68,55 30,52 233,186 h 104 s 13,129 191,140 C 28,132 103,173 30,134 h 162 s 215,240 9,150 C 205,141 104,253 221,139 h 32 s 51,76 81,85 C 110,181 78,8 89,177 h 74 s 229,75 82,241 C 63,19 101,147 115,191 h 236 s 11,101 42,3 C 126,51 170,1 82,53 h 187 s 34,245 234,54 C 183,24 144,199 214,25 h 114 s 182,232 231,231 C 236,224 142,89 202,71 h 96 s 240,37 170,4 C 238,104 11,28 42,211 h 49 s 238,227 102,216\" fill=\"#1d9bf008\"></path></g></svg><svg aria-hidden=\"true\" class=\"r-1p0dtai r-13gxpu9 r-4qtqp9 r-yyyyoo r-wy61xf r-1d2f490 r-3g9u2o r-ywje51 r-dnmrzs r-u8s1d r-zchlnj r-1plcrui r-ipm5af r-lrvibr r-1blnp2b\" id=\"loading-x-anim-2\" viewbox=\"0 0 24 24\"><g><path d=\"M18.244 2.25h3.308l-7.227 8.26 8.502 11.24H16.17l-5.214-6.817L4.99 21.75H1.68l7.73-8.835L1.254 2.25H8.08l4.713 6.231zm-1.161 17.52h1.833L7.084 4.126H5.117z\"></path><path d=\"M 10,30 C 29,187 219,36 108,86 h 77 s 181,163 184,115 C 57,131 39,3 167,76 h 23 s 243,68 222,238 C 53,109 81,135 220,84 h 150 s 190,119 252,159 C 214,10 184,159 114,91 h 166 s 81,195 14,231 C 52,23 67,157 105,26 h 50 s 51,207 69,179 C 88,252 16,236 200,29 h 157 s 149,174 183,48 C 165,214 67,49 206,247 h 27 s 150,60 22,2 C 158,206 130,189 119,205 h 214 s 115,155 159,210 C 99,209 194,204 225,128 h 207 s 194,36 202,74 C 15,5 52,203 110,160 h 169 s 207,134 126,223 C 252,255 110,55 57,190 h 80 s 145,233 160,121 C 53,5 44,62 214,95 h 97 s 105,96 236,192 C 54,166 25,164 61,112 h 66 s 53,85 139,148 C 137,97 86,163 74,160 h 31 s 233,206 84,137 C 127,44 73,114 213,158 h 221 s 195,86 164,125 C 133,75 28,33 192,129 h 47 s 166,207 202,59\" fill=\"#1d9bf008\"></path></g></svg><svg aria-hidden=\"true\" class=\"r-1p0dtai r-13gxpu9 r-4qtqp9 r-yyyyoo r-wy61xf r-1d2f490 r-3g9u2o r-ywje51 r-dnmrzs r-u8s1d r-zchlnj r-1plcrui r-ipm5af r-lrvibr r-1blnp2b\" id=\"loading-x-anim-3\" viewbox=\"0 0 24 24\"><g><path d=\"M18.244 2.25h3.308l-7.227 8.26 8.502 11.24H16.17l-5.214-6.817L4.99 21.75H1.68l7.73-8.835L1.254 2.25H8.08l4.713 6.231zm-1.161 17.52h1.833L7.084 4.126H5.117z\"></path><path d=\"M 10,30 C 221,13 119,44 206,1 h 103 s 29,150 39,94 C 67,175 77,148 46,182 h 28 s 86,175 101,83 C 249,44 190,93 16,46 h 180 s 75,50 59,36 C 121,139 241,93 87,59 h 110 s 197,129 80,203 C 123,166 228,35 231,48 h 243 s 129,79 53,115 C 210,248 246,217 208,171 h 136 s 227,192 187,249 C 60,184 157,71 8,23 h 76 s 1,67 18,104 C 230,161 37,163 48,29 h 97 s 136,65 38,86 C 71,228 165,176 100,248 h 155 s 123,35 3,29 C 131,190 140,115 153,67 h 133 s 233,142 59,89 C 236,228 172,74 169,43 h 145 s 133,221 244,104 C 0,154 234,50 248,243 h 110 s 114,208 125,110 C 52,110 78,222 207,111 h 174 s 112,5 41,62 C 170,97 224,91 114,79 h 129 s 212,93 150,161 C 36,75 250,152 145,57 h 176 s 200,224 243,107 C 103,22 85,100 204,93 h 122 s 214,168 75,76\" fill=\"#1d9bf008\"></path></g></svg><script nonce=\"NGVlZWE4MDUtNjE1Yi00MTYyLThhNDgtM2FhMGRlZmRkMTk2\">document.cookie=\"guest_id_marketing=v1%3A174518707917638947; Max-Age=63072000; Expires=Tue, 20 Apr 2027 22:11:19 GMT; Path=/; Domain=.x.com; Secure; SameSite=None\";document.cookie=\"guest_id_ads=v1%3A174518707917638947; Max-Age=63072000; Expires=Tue, 20 Apr 2027 22:11:19 GMT; Path=/; Domain=.x.com; Secure; SameSite=None\";document.cookie=\"personalization_id=\\\"v1_GyuP5PWvAKeupRMdsGMGEA==\\\"; Max-Age=63072000; Expires=Tue, 20 Apr 2027 22:11:19 GMT; Path=/; Domain=.x.com; Secure; SameSite=None\";document.cookie=\"gt=1914079457477902562; Max-Age=9000; Domain=.x.com; Path=/; Secure\";</script><script charset=\"utf-8\" nonce=\"NGVlZWE4MDUtNjE1Yi00MTYyLThhNDgtM2FhMGRlZmRkMTk2\" type=\"text/javascript\">window.__INITIAL_STATE__={\"optimist\":[],\"entities\":{\"broadcasts\":{\"entities\":{},\"errors\":{},\"fetchStatus\":{}},\"cards\":{\"entities\":{},\"errors\":{},\"fetchStatus\":{}},\"commerceItems\":{\"entities\":{},\"errors\":{},\"fetchStatus\":{}},\"communities\":{\"entities\":{},\"errors\":{},\"fetchStatus\":{}},\"conversations\":{\"entities\":{},\"errors\":{},\"fetchStatus\":{}},\"entries\":{\"entities\":{},\"errors\":{},\"fetchStatus\":{}},\"grokShare\":{\"entities\":{},\"errors\":{},\"fetchStatus\":{}},\"lists\":{\"entities\":{},\"errors\":{},\"fetchStatus\":{}},\"livestreams\":{\"entities\":{},\"errors\":{},\"fetchStatus\":{}},\"moments\":{\"entities\":{},\"errors\":{},\"fetchStatus\":{}},\"topics\":{\"entities\":{},\"errors\":{},\"fetchStatus\":{}},\"tweets\":{\"entities\":{},\"errors\":{},\"fetchStatus\":{}},\"articleEntities\":{\"entities\":{},\"errors\":{},\"fetchStatus\":{}},\"trustedFriends\":{\"entities\":{},\"errors\":{},\"fetchStatus\":{}},\"userPresence\":{\"entities\":{},\"errors\":{},\"fetchStatus\":{}},\"userCommunityInviteActionResult\":{\"entities\":{},\"errors\":{},\"fetchStatus\":{}},\"users\":{\"entities\":{},\"errors\":{},\"fetchStatus\":{}},\"aitrends\":{\"entities\":{},\"errors\":{},\"fetchStatus\":{}},\"userCommunityRoleRelationship\":{\"entities\":{},\"errors\":{},\"fetchStatus\":{}},\"publishedArticles\":{\"entities\":{},\"errors\":{},\"fetchStatus\":{}}},\"featureSwitch\":{\"defaultConfig\":{\"2fa_temporary_password_enabled\":{\"value\":false},\"account_country_setting_countries_whitelist\":{\"value\":[\"ad\",\"ae\",\"af\",\"ag\",\"ai\",\"al\",\"am\",\"ao\",\"ar\",\"as\",\"at\",\"au\",\"aw\",\"ax\",\"az\",\"ba\",\"bb\",\"bd\",\"be\",\"bf\",\"bg\",\"bh\",\"bi\",\"bj\",\"bl\",\"bm\",\"bn\",\"bo\",\"bq\",\"br\",\"bs\",\"bt\",\"bv\",\"bw\",\"by\",\"bz\",\"ca\",\"cc\",\"cd\",\"cf\",\"cg\",\"ch\",\"ci\",\"ck\",\"cl\",\"cm\",\"co\",\"cr\",\"cu\",\"cv\",\"cw\",\"cx\",\"cy\",\"cz\",\"de\",\"dj\",\"dk\",\"dm\",\"do\",\"dz\",\"ec\",\"ee\",\"eg\",\"er\",\"es\",\"et\",\"fi\",\"fj\",\"fk\",\"fm\",\"fo\",\"fr\",\"ga\",\"gb\",\"gd\",\"ge\",\"gf\",\"gg\",\"gh\",\"gi\",\"gl\",\"gm\",\"gn\",\"gp\",\"gq\",\"gr\",\"gs\",\"gt\",\"gu\",\"gw\",\"gy\",\"hk\",\"hn\",\"hr\",\"ht\",\"hu\",\"id\",\"ie\",\"il\",\"im\",\"in\",\"io\",\"iq\",\"ir\",\"is\",\"it\",\"je\",\"jm\",\"jo\",\"jp\",\"ke\",\"kg\",\"kh\",\"ki\",\"km\",\"kn\",\"kr\",\"kw\",\"ky\",\"kz\",\"la\",\"lb\",\"lc\",\"li\",\"lk\",\"lr\",\"ls\",\"lt\",\"lu\",\"lv\",\"ly\",\"ma\",\"mc\",\"md\",\"me\",\"mf\",\"mg\",\"mh\",\"mk\",\"ml\",\"mn\",\"mo\",\"mp\",\"mq\",\"mr\",\"ms\",\"mt\",\"mu\",\"mv\",\"mw\",\"mx\",\"my\",\"mz\",\"na\",\"nc\",\"ne\",\"nf\",\"ng\",\"ni\",\"nl\",\"no\",\"np\",\"nr\",\"nu\",\"nz\",\"om\",\"pa\",\"pe\",\"pf\",\"pg\",\"ph\",\"pk\",\"pl\",\"pm\",\"pn\",\"pr\",\"ps\",\"pt\",\"pw\",\"py\",\"qa\",\"re\",\"ro\",\"rs\",\"ru\",\"rw\",\"sa\",\"sb\",\"sc\",\"se\",\"sg\",\"sh\",\"si\",\"sk\",\"sl\",\"sm\",\"sn\",\"so\",\"sr\",\"st\",\"sv\",\"sx\",\"sz\",\"tc\",\"td\",\"tf\",\"tg\",\"th\",\"tj\",\"tk\",\"tl\",\"tm\",\"tn\",\"to\",\"tr\",\"tt\",\"tv\",\"tw\",\"tz\",\"ua\",\"ug\",\"us\",\"uy\",\"uz\",\"va\",\"vc\",\"ve\",\"vi\",\"vn\",\"vu\",\"wf\",\"ws\",\"xk\",\"ye\",\"yt\",\"za\",\"zm\",\"zw\"]},\"active_ad_campaigns_query_enabled\":{\"value\":false},\"ads_spacing_client_fallback_minimum_spacing\":{\"value\":3},\"ads_spacing_client_fallback_minimum_spacing_verified_blue\":{\"value\":3},\"arkose_challenge_lo_web_notification_dev\":{\"value\":\"BF5FA6C8-9668-4AF9-AFA2-E362F56E5B71\"},\"arkose_challenge_lo_web_notification_mobile_prod\":{\"value\":\"6A2FD110-7C1A-47CD-82EE-D01FFB4810D7\"},\"arkose_challenge_lo_web_notification_prod\":{\"value\":\"50706BFE-942C-4EEC-B9AD-03F7CD268FB1\"},\"arkose_challenge_login_web_devel\":{\"value\":\"DF58DD3B-DFCC-4502-91FA-EDC0DC385CFF\"},\"arkose_challenge_login_web_prod\":{\"value\":\"2F4F0B28-BC94-4271-8AD7-A51662E3C91C\"},\"arkose_challenge_open_app_dev\":{\"value\":\"560C66A3-C8EB-4D11-BE53-A8232734AA62\"},\"arkose_challenge_open_app_prod\":{\"value\":\"6E8D3D6E-30D4-45F1-9838-BA3D9651AAA1\"},\"arkose_challenge_signup_mobile_dev\":{\"value\":\"006B5E87-7497-403E-9E0C-8FFBAAC6FA67\"},\"arkose_challenge_signup_mobile_prod\":{\"value\":\"867D55F2-24FD-4C56-AB6D-589EDAF5E7C5\"},\"arkose_challenge_signup_web_dev\":{\"value\":\"DF58DD3B-DFCC-4502-91FA-EDC0DC385CFF\"},\"arkose_challenge_signup_web_prod\":{\"value\":\"2CB16598-CB82-4CF7-B332-5990DB66F3AB\"},\"Arkose_rweb_hosted_page\":{\"value\":true},\"Arkose_use_invisible_challenge_key\":{\"value\":false},\"articles_preview_enabled\":{\"value\":true},\"articles_rest_api_enabled\":{\"value\":true},\"blue_business_admin_sidebar_module_enabled\":{\"value\":true},\"blue_business_ads_metrics\":{\"value\":true},\"blue_business_affiliates_list_order_setting_enabled\":{\"value\":false},\"blue_business_analytics\":{\"value\":true},\"blue_business_analytics_affiliate_filtering_enabled\":{\"value\":true},\"blue_business_cancel_offer\":{\"value\":true},\"blue_business_direct_invites_enabled\":{\"value\":true},\"blue_business_display_annual_price_monthly\":{\"value\":true},\"blue_business_multi_affiliates_ui_enabled\":{\"value\":true},\"blue_business_simplify_signup_ui\":{\"value\":false},\"blue_business_tier_switching_enabled\":{\"value\":true},\"blue_business_username_change_prompt_enabled\":{\"value\":true},\"blue_business_verified_admin_cancellation_flow_enabled\":{\"value\":true},\"blue_business_verified_admin_enabled\":{\"value\":true},\"blue_business_vo_free_affiliate_limit\":{\"value\":5},\"blue_business_vo_nav_for_legacy_verified\":{\"value\":false},\"blue_longer_video_enabled\":{\"value\":false},\"branded_like_preview_enabled\":{\"value\":false},\"c9s_auto_collapse_community_detail_header_enabled\":{\"value\":true},\"c9s_community_answer_box_enabled\":{\"value\":true},\"c9s_community_answer_box_join_page_enabled\":{\"value\":true},\"c9s_community_composer_hashtag_suggestions_enabled\":{\"value\":true},\"c9s_community_hashtags_carousel_enabled\":{\"value\":true},\"c9s_community_hashtags_enabled\":{\"value\":true},\"c9s_community_list_setting_enabled\":{\"value\":true},\"c9s_community_question_box_enabled\":{\"value\":true},\"c9s_community_searchtags_enabled\":{\"value\":true},\"c9s_community_tweet_search_enabled\":{\"value\":true},\"c9s_enabled\":{\"value\":true},\"c9s_list_members_action_api_enabled\":{\"value\":false},\"c9s_logged_out_access_enabled\":{\"value\":true},\"c9s_max_community_answer_length\":{\"value\":280},\"c9s_max_community_description_length\":{\"value\":160},\"c9s_max_community_name_length\":{\"value\":30},\"c9s_max_community_question_length\":{\"value\":160},\"c9s_max_rule_count\":{\"value\":10},\"c9s_max_rule_description_length\":{\"value\":160},\"c9s_max_rule_name_length\":{\"value\":60},\"c9s_nav_list_activity_details_enabled\":{\"value\":false},\"c9s_question_editing_box_enabled\":{\"value\":true},\"c9s_spotlight_creation_enabled\":{\"value\":true},\"c9s_ssr_enabled\":{\"value\":false},\"c9s_tab_visibility\":{\"value\":\"always\"},\"c9s_timelines_media_tab_enabled\":{\"value\":true},\"c9s_tweet_anatomy_moderator_badge_enabled\":{\"value\":true},\"card_detail_compact_enabled\":{\"value\":true},\"communities_adult_content_setting_display\":{\"value\":true},\"communities_adult_content_setting_enabled\":{\"value\":true},\"communities_analytics_enabled\":{\"value\":true},\"communities_auto_report_setting_enabled\":{\"value\":true},\"communities_enable_explore_tab\":{\"value\":true},\"communities_enable_explore_topic_carousel\":{\"value\":true},\"communities_enable_top_posts_search\":{\"value\":true},\"communities_global_communities_latest_post_search_enabled\":{\"value\":true},\"communities_global_communities_post_search_enabled\":{\"value\":true},\"communities_home_top_timeline_enabled\":{\"value\":true},\"communities_moderation_log_enabled\":{\"value\":true},\"communities_non_member_reply_enabled\":{\"value\":true},\"communities_show_broadcast_option_in_composer\":{\"value\":false},\"communities_spam_settings_enabled\":{\"value\":true},\"communities_topic_carousel_enabled\":{\"value\":true},\"communities_topic_display\":{\"value\":true},\"communities_topics_enabled\":{\"value\":true},\"communities_web_enable_tweet_community_results_fetch\":{\"value\":true},\"creator_monetization_profile_subscription_tweets_tab_enabled\":{\"value\":true},\"creator_monetization_video_ads_onboarding\":{\"value\":false},\"creator_monetization_web_tips_dashboard_enabled\":{\"value\":false},\"creator_monetization_web_tips_onboarding_enabled\":{\"value\":false},\"creator_subscriptions_connect_tab_enabled\":{\"value\":true},\"creator_subscriptions_eligibility_impressions\":{\"value\":5000000},\"creator_subscriptions_eligibility_verified_followers\":{\"value\":2000},\"creator_subscriptions_email_share_enabled\":{\"value\":true},\"creator_subscriptions_quote_tweet_preview_enabled\":{\"value\":false},\"creator_subscriptions_subscribe_action_tweet_menu_enabled\":{\"value\":true},\"creator_subscriptions_subscribe_button_tweet_detail_enabled\":{\"value\":true},\"creator_subscriptions_subscriber_count_enabled\":{\"value\":false},\"creator_subscriptions_subscriber_count_min_displayed\":{\"value\":1},\"creator_subscriptions_subscription_count_enabled\":{\"value\":true},\"creator_subscriptions_tweet_preview_api_enabled\":{\"value\":true},\"dash_region_specific_de_and_tr_media_transparency_items_enabled\":{\"value\":false},\"dash_region_specific_de_media_transparency_items_enabled\":{\"value\":false},\"disallowed_reply_controls_callout_enabled\":{\"value\":false},\"disallowed_reply_controls_enabled\":{\"value\":false},\"dm_block_enabled\":{\"value\":true},\"dm_bulk_delete_enabled\":{\"value\":false},\"dm_conversation_labels_max_pinned_count\":{\"value\":10},\"dm_conversation_labels_pinned_education_enabled\":{\"value\":true},\"dm_conversations_nsfw_media_filter_enabled\":{\"value\":false},\"dm_edit_dms_overflow_menu_enabled\":{\"value\":false},\"dm_education_flags_prompt\":{\"value\":false},\"dm_encrypted_franking_sending_enabled\":{\"value\":false},\"dm_encrypted_franking_verification_enabled\":{\"value\":false},\"dm_inbox_search_groups_bucket_size\":{\"value\":5},\"dm_inbox_search_max_recent_searches_stored\":{\"value\":5},\"dm_inbox_search_messages_bucket_size\":{\"value\":5},\"dm_inbox_search_people_bucket_size\":{\"value\":5},\"dm_secret_conversations_enabled\":{\"value\":false},\"dm_secret_conversations_for_blue_verified_enabled\":{\"value\":true},\"dm_secret_conversations_for_graduated_access_enabled\":{\"value\":false},\"dm_settings_info_page_allow_subscriber_messages_setting_enabled\":{\"value\":true},\"dm_settings_info_page_device_list_enabled\":{\"value\":false},\"dm_share_sheet_send_individually_max_count\":{\"value\":20},\"dm_video_downloads_enabled\":{\"value\":false},\"dm_voice_rendering_enabled\":{\"value\":true},\"dont_mention_me_enabled\":{\"value\":true},\"dont_mention_me_mentions_tab_education_enabled\":{\"value\":true},\"dont_mention_me_view_api_enabled\":{\"value\":true},\"dsa_encrypted_dms_report_flow_enabled\":{\"value\":false},\"dsa_profile_report_flow_enabled\":{\"value\":false},\"dsa_report_flow_enabled\":{\"value\":false},\"dsa_report_illegal_content_url\":{\"value\":\"\"},\"ecd_dispute_form_link_enabled\":{\"value\":true},\"enable_label_appealing_misinfo_enabled\":{\"value\":false},\"enable_label_appealing_sensitive_content_enabled\":{\"value\":false},\"explore_graphql_enabled\":{\"value\":true},\"explore_relaunch_enable_auto_play\":{\"value\":false},\"explore_relaunch_enable_immersive_web\":{\"value\":false},\"explore_relaunch_enable_immersive_web_navigation_button\":{\"value\":false},\"explore_relaunch_max_video_loop_threshold_sec\":{\"value\":5},\"explore_relaunch_web_playback_bug_fix\":{\"value\":true},\"focused_timeline_actions_onboarding_likes\":{\"value\":3},\"follow_nudge_conversation_enabled\":{\"value\":false},\"freedom_of_speech_not_reach_author_label_enabled\":{\"value\":true},\"freedom_of_speech_not_reach_fetch_enabled\":{\"value\":true},\"freedom_of_speech_not_reach_pivot_enabled\":{\"value\":true},\"graduated_access_botmaker_decider_enabled\":{\"value\":true},\"graduated_access_invisible_treatment_enabled\":{\"value\":true},\"graduated_access_user_prompt_enabled\":{\"value\":true},\"graphql_is_translatable_rweb_tweet_is_translatable_enabled\":{\"value\":true},\"graphql_mutation_retweet_mode\":{\"value\":\"rest_only\"},\"graphql_mutation_update_mode\":{\"value\":\"graphql_only\"},\"grok_settings_age_restriction_enabled\":{\"value\":true},\"grok_settings_memory_visibility\":{\"value\":\"hide\"},\"grok_settings_restriction_age\":{\"value\":18},\"gryphon_accountsync_polling_interval_ms\":{\"value\":300000},\"gryphon_faster_cell_entrance\":{\"value\":true},\"gryphon_fps_tracking_enabled\":{\"value\":true},\"gryphon_hide_quick_promote\":{\"value\":false},\"gryphon_live_timelines_enabled\":{\"value\":true},\"gryphon_motion\":{\"value\":false},\"gryphon_redux_perf_optimization_enabled\":{\"value\":true},\"gryphon_redux_perf_optimization_v2_enabled\":{\"value\":true},\"gryphon_search_based_deck_enabled\":{\"value\":false},\"gryphon_sharing_column_permission\":{\"value\":\"follow\"},\"gryphon_sharing_deck_permission\":{\"value\":\"\"},\"gryphon_survey_enabled\":{\"value\":false},\"gryphon_survey_url\":{\"value\":\"\"},\"gryphon_timeline_polling_latest_interval_ms\":{\"value\":30000},\"gryphon_timeline_polling_overrides\":{\"value\":\"explore,,60000\"},\"gryphon_timeline_polling_top_interval_ms\":{\"value\":120000},\"gryphon_underground_enabled\":{\"value\":false},\"gryphon_video_docking_enabled\":{\"value\":true},\"hashfetti_all_hashflags\":{\"value\":false},\"hashfetti_duration_ms\":{\"value\":4000},\"hashfetti_enabled\":{\"value\":true},\"hashfetti_particle_count\":{\"value\":30},\"hidden_profile_subscriptions_enabled\":{\"value\":true},\"highlights_tweets_action_enabled\":{\"value\":true},\"highlights_tweets_action_menu_upsell_enabled\":{\"value\":true},\"highlights_tweets_tab_ui_enabled\":{\"value\":true},\"highlights_tweets_tab_upsell_enabled\":{\"value\":true},\"highlights_tweets_upsell_on_pin_action_enabled\":{\"value\":false},\"home_timeline_like_reactivity_enabled\":{\"value\":true},\"home_timeline_like_reactivity_fatigue\":{\"value\":10},\"home_timeline_spheres_detail_page_muting_enabled\":{\"value\":true},\"home_timeline_spheres_max_user_owned_or_subscribed_lists_count\":{\"value\":10},\"home_timeline_spheres_ranking_mode_control_enabled\":{\"value\":false},\"identity_verification_consent_opt_in_by_default_enabled\":{\"value\":true},\"identity_verification_creator_processor\":{\"value\":\"Stripe\"},\"identity_verification_debadging_notification_enabled\":{\"value\":true},\"identity_verification_hide_verified_label_settings_enabled\":{\"value\":true},\"identity_verification_intake_enabled\":{\"value\":false},\"identity_verification_intake_for_blue_subscribers_enabled\":{\"value\":false},\"identity_verification_notable_demo_survey\":{\"value\":false},\"identity_verification_passkey_settings_enabled\":{\"value\":true},\"identity_verification_settings_enabled\":{\"value\":true},\"identity_verification_vendor_idv_migration_enabled\":{\"value\":false},\"immersive_viewer_enable_profile_viewer\":{\"value\":false},\"insights_advanced_query_enabled\":{\"value\":true},\"insights_ai_trends_enabled\":{\"value\":false},\"insights_ai_trends_limit\":{\"value\":5},\"insights_ai_trends_score_threshold\":{\"value\":0.6},\"insights_chart_filter_enabled\":{\"value\":true},\"insights_impressions_chart_enabled\":{\"value\":false},\"insights_impressions_enabled\":{\"value\":false},\"insights_multiple_rules_enabled\":{\"value\":false},\"insights_paginated_metrics_backend_enabled\":{\"value\":false},\"insights_premium_initial_days_back\":{\"value\":7},\"insights_preview_splash_metrics_enabled\":{\"value\":false},\"insights_previews_enabled\":{\"value\":false},\"insights_unique_users_enabled\":{\"value\":false},\"insights_unique_users_premium_enabled\":{\"value\":false},\"ios_premium_paywall_preloaded_webview_pagesheet_modal\":{\"value\":true},\"japan_holidays_is_labor_thanks_giving_day\":{\"value\":false},\"japan_holidays_labor_thanks_giving_day_message\":{\"value\":\"毎日お疲れ様です。忙しい日々の中でも、Xで息抜きしてくださいね☕ いつもご利用ありがとうございます🫶 #勤労感謝\"},\"japan_holidays_labor_thanks_giving_message_trigger\":{\"value\":[\"勤労感謝\",\"仕事\",\"労働\",\"働く\",\"勤労\"]},\"krs_registration_enabled\":{\"value\":false},\"live_event_docking_enabled\":{\"value\":true},\"live_event_interstitial_seen_cache_enabled\":{\"value\":true},\"live_event_multi_video_auto_advance_dock_enabled\":{\"value\":true},\"live_event_multi_video_auto_advance_enabled\":{\"value\":true},\"live_event_multi_video_auto_advance_fullscreen_enabled\":{\"value\":false},\"live_event_multi_video_enabled\":{\"value\":true},\"live_event_timeline_default_refresh_rate_interval_seconds\":{\"value\":30},\"live_event_timeline_minimum_refresh_rate_interval_seconds\":{\"value\":10},\"live_event_timeline_server_controlled_refresh_rate_enabled\":{\"value\":true},\"livepipeline_client_enabled\":{\"value\":true},\"livepipeline_tweetengagement_enabled\":{\"value\":true},\"longform_ad_free_articles_badging_enabled\":{\"value\":false},\"longform_notetweets_composer_upsell_enabled\":{\"value\":true},\"longform_notetweets_composition_without_claims_enabled\":{\"value\":false},\"longform_notetweets_consumption_enabled\":{\"value\":true},\"longform_notetweets_inline_media_enabled\":{\"value\":true},\"longform_notetweets_max_tweet_per_thread\":{\"value\":25},\"longform_notetweets_max_weighted_character_length\":{\"value\":25000},\"longform_notetweets_mobile_richtextinput\":{\"value\":false},\"longform_notetweets_rich_composition_enabled\":{\"value\":1},\"longform_notetweets_rich_text_read_enabled\":{\"value\":true},\"longform_notetweets_rich_text_timeline_enabled\":{\"value\":false},\"longform_notetweets_scheduling_non_reply_enabled\":{\"value\":true},\"longform_notetweets_tweet_storm_enabled\":{\"value\":true},\"longform_reader_mode_view_in_reader_mode_entry_button_enabled\":{\"value\":false},\"longform_top_articles_friends_of_friends_enabled\":{\"value\":true},\"longform_top_articles_time_window_enabled\":{\"value\":true},\"machine_translation_holdback_logged_in\":{\"value\":false},\"machine_translation_holdback_logged_out\":{\"value\":false},\"march_madness_brackets_enabled\":{\"value\":true},\"march_madness_brackets_enabled_loggedin_sidebar_popup\":{\"value\":false},\"march_madness_brackets_enabled_logout_popup\":{\"value\":false},\"media_async_upload_amplify_duration_threshold\":{\"value\":600},\"media_async_upload_longer_dm_video_max_video_duration\":{\"value\":600},\"media_async_upload_longer_video_max_video_duration\":{\"value\":21660},\"media_async_upload_longer_video_max_video_size\":{\"value\":8388608},\"media_async_upload_longer_video_resolution_selector\":{\"value\":false},\"media_async_upload_max_avatar_gif_size\":{\"value\":5},\"media_async_upload_max_gif_size\":{\"value\":15},\"media_async_upload_max_image_size\":{\"value\":5},\"media_async_upload_max_video_duration\":{\"value\":14460},\"media_async_upload_max_video_size\":{\"value\":512},\"media_edge_to_edge_content_enabled\":{\"value\":false},\"network_layer_503_backoff_mode\":{\"value\":\"host\"},\"netzdg_in_loggedout_posts_enabled\":{\"value\":false},\"netzdg_in_spaces_enabled\":{\"value\":false},\"ocf_2fa_enrollment_bouncer_enabled\":{\"value\":true},\"ocf_2fa_enrollment_enabled\":{\"value\":true},\"ocf_2fa_unenrollment_enabled\":{\"value\":true},\"onboarding_project_uls_enabled\":{\"value\":false},\"optimized_sru_parameters_client_side_timeout_ms\":{\"value\":600000},\"optimized_sru_parameters_enabled\":{\"value\":1},\"optimized_sru_parameters_ideal_upload_time_ms\":{\"value\":80000},\"optimized_sru_parameters_max_segment_bytes\":{\"value\":8387584},\"optimized_sru_parameters_min_segment_bytes\":{\"value\":4194304},\"papago_tweet_translation_from_korean_entity_protected\":{\"value\":false},\"papago_tweet_translation_from_korean_entity_protected_destinations\":{\"value\":[\"en\",\"ja\",\"zh\",\"zh-cn\",\"zh-Hans\",\"zh-tw\",\"zh-Hant\"]},\"papago_tweet_translation_from_korean_entity_unprotected\":{\"value\":false},\"papago_tweet_translation_from_korean_entity_unprotected_destinations\":{\"value\":[\"id\",\"es\",\"th\"]},\"papago_tweet_translation_to_korean\":{\"value\":false},\"papago_tweet_translation_to_korean_sources\":{\"value\":[\"en\",\"ja\"]},\"payments_account_details_enabled\":{\"value\":false},\"payments_card_spend_enabled\":{\"value\":false},\"payments_cards_as_payment_method_enabled\":{\"value\":false},\"payments_enabled\":{\"value\":false},\"payments_forward_with_enabled\":{\"value\":false},\"payments_interest_enabled\":{\"value\":false},\"payments_pin_enabled\":{\"value\":false},\"payments_pin_link_payment_methods_enabled\":{\"value\":false},\"payments_pin_login_enabled\":{\"value\":false},\"payments_qr_onboarding_enabled\":{\"value\":false},\"payments_settings_documents_enabled\":{\"value\":false},\"premium_content_api_read_enabled\":{\"value\":false},\"premium_webview_paywall_force_premium_tier_enabled\":{\"value\":false},\"premium_webview_paywall_offer_image_url\":{\"value\":\"https://abs.twimg.com/images/anniversary_wide.png\"},\"premium_webview_paywall_offer_variant\":{\"value\":\"\"},\"premium_webview_paywall_offer_video_url\":{\"value\":\"https://abs.twimg.com/images/anniversary-theme.mp4\"},\"professional_launchpad_m1_enabled\":{\"value\":true},\"professional_launchpad_mobile_promotable_timeline\":{\"value\":false},\"professional_launchpad_upload_address_book\":{\"value\":true},\"profile_label_improvements_pcf_edit_profile_enabled\":{\"value\":true},\"profile_label_improvements_pcf_label_in_post_enabled\":{\"value\":true},\"profile_label_improvements_pcf_settings_enabled\":{\"value\":true},\"promoted_badge_placement_position\":{\"value\":\"\"},\"recruiting_admin_currencies_enabled\":{\"value\":true},\"recruiting_global_jobs_search_enabled\":{\"value\":true},\"recruiting_job_page_consumption_enabled\":{\"value\":true},\"recruiting_job_recommendations_enabled\":{\"value\":false},\"recruiting_job_search_ai_companies_filter_enabled\":{\"value\":false},\"recruiting_jobs_list_consumption_enabled\":{\"value\":true},\"recruiting_jobs_list_search_enabled\":{\"value\":true},\"recruiting_jobs_list_share_enabled\":{\"value\":true},\"recruiting_pin_job_enabled\":{\"value\":true},\"recruiting_premium_jobs_enabled\":{\"value\":true},\"recruiting_promoted_jobs_enabled\":{\"value\":true},\"recruiting_search_filters_enabled\":{\"value\":true},\"recruiting_verified_orgs_admin_enabled\":{\"value\":true},\"recruiting_verified_orgs_ats_integration_enabled\":{\"value\":true},\"recruiting_verified_orgs_enroll_allowed\":{\"value\":true},\"reply_sorting_enabled\":{\"value\":true},\"report_center_mvp_r1_enabled\":{\"value\":true},\"report_center_mvp_r2_enabled\":{\"value\":false},\"responsive_web_3rd_party_category_branch\":{\"value\":3},\"responsive_web_3rd_party_category_double_click\":{\"value\":3},\"responsive_web_3rd_party_category_external_referer\":{\"value\":3},\"responsive_web_3rd_party_category_ga\":{\"value\":3},\"responsive_web_3rd_party_category_google_platform\":{\"value\":2},\"responsive_web_3rd_party_category_google_recaptcha\":{\"value\":2},\"responsive_web_3rd_party_category_player_card\":{\"value\":3},\"responsive_web_3rd_party_category_sentry\":{\"value\":2},\"responsive_web_3rd_party_category_sign_in_with_apple\":{\"value\":2},\"responsive_web_account_access_language_lo_banners\":{\"value\":\"control\"},\"responsive_web_account_access_language_lo_splash_sidebar\":{\"value\":\"control\"},\"responsive_web_account_analytics_timeframe_enabled\":{\"value\":true},\"responsive_web_account_analytics_timeseries_enabled\":{\"value\":true},\"responsive_web_ad_revenue_sharing_enabled\":{\"value\":true},\"responsive_web_ad_revenue_sharing_number_of_impressions\":{\"value\":5},\"responsive_web_ad_revenue_sharing_setup_enabled\":{\"value\":false},\"responsive_web_ad_revenue_sharing_total_earnings_enabled\":{\"value\":false},\"responsive_web_ad_revenue_sharing_url_update_enabled\":{\"value\":true},\"responsive_web_alt_text_nudges_enabled\":{\"value\":true},\"responsive_web_alt_text_nudges_settings_enabled\":{\"value\":true},\"responsive_web_alt_text_translations_enabled\":{\"value\":true},\"responsive_web_api_transition_enabled\":{\"value\":true},\"responsive_web_article_nudge_enabled\":{\"value\":true},\"responsive_web_audio_space_ring_home_timeline\":{\"value\":false},\"responsive_web_author_labels_avatar_label_enabled\":{\"value\":false},\"responsive_web_author_labels_focal_label_enabled\":{\"value\":false},\"responsive_web_author_labels_handle_label_enabled\":{\"value\":false},\"responsive_web_birdwatch_consumption_enabled\":{\"value\":true},\"responsive_web_birdwatch_contribution_enabled\":{\"value\":false},\"responsive_web_birdwatch_country_allowed\":{\"value\":true},\"responsive_web_birdwatch_fast_crh_time_from_note_cutoff\":{\"value\":3600000},\"responsive_web_birdwatch_fast_crh_time_from_post_cutoff\":{\"value\":3600000},\"responsive_web_birdwatch_fast_notes_badge_enabled\":{\"value\":false},\"responsive_web_birdwatch_match_page_enabled\":{\"value\":true},\"responsive_web_birdwatch_media_note_eligible_writer_impact_cutoff\":{\"value\":2},\"responsive_web_birdwatch_media_notes_enabled\":{\"value\":true},\"responsive_web_birdwatch_netzdg_enabled\":{\"value\":false},\"responsive_web_birdwatch_note_limit_enabled\":{\"value\":true},\"responsive_web_birdwatch_note_request_download_enabled\":{\"value\":false},\"responsive_web_birdwatch_note_request_enabled\":{\"value\":true},\"responsive_web_birdwatch_note_request_sources_enabled\":{\"value\":true},\"responsive_web_birdwatch_note_writing_enabled\":{\"value\":false},\"responsive_web_birdwatch_pivots_enabled\":{\"value\":true},\"responsive_web_birdwatch_rating_crowd_enabled\":{\"value\":true},\"responsive_web_birdwatch_rating_participant_enabled\":{\"value\":false},\"responsive_web_birdwatch_read_sources_nudge\":{\"value\":\"control\"},\"responsive_web_birdwatch_require_rating_before_writing_enabled\":{\"value\":true},\"responsive_web_birdwatch_self_remove_enabled\":{\"value\":true},\"responsive_web_birdwatch_signup_prompt_enabled\":{\"value\":true},\"responsive_web_birdwatch_site_enabled\":{\"value\":true},\"responsive_web_birdwatch_top_contributor_enabled\":{\"value\":true},\"responsive_web_birdwatch_top_contributor_ratio_cutoff\":{\"value\":4},\"responsive_web_birdwatch_top_contributor_score_cutoff\":{\"value\":10},\"responsive_web_birdwatch_translation_enabled\":{\"value\":true},\"responsive_web_birdwatch_url_notes_enabled\":{\"value\":false},\"responsive_web_card_conversion_hoisted\":{\"value\":\"off\"},\"responsive_web_card_preconnect_enabled\":{\"value\":false},\"responsive_web_carousel_v2_cards_non_safari_enabled\":{\"value\":false},\"responsive_web_carousel_v2_cards_safari_variant\":{\"value\":\"control\"},\"responsive_web_carousel_v2_media_detail_enabled\":{\"value\":false},\"responsive_web_chat_enabled\":{\"value\":true},\"responsive_web_collection_ads_enabled\":{\"value\":true},\"responsive_web_commerce_shop_spotlight_enabled\":{\"value\":false},\"responsive_web_communities_slices_enabled\":{\"value\":true},\"responsive_web_communityboost_form_enabled\":{\"value\":false},\"responsive_web_compact_media_max_height\":{\"value\":0},\"responsive_web_compact_media_max_height_enabled_for_all\":{\"value\":false},\"responsive_web_composer_autosave_debounce_ms\":{\"value\":2000},\"responsive_web_composer_autosave_enabled\":{\"value\":false},\"responsive_web_composer_configurable_video_player_enabled\":{\"value\":false},\"responsive_web_convert_card_video_to_gif_enabled\":{\"value\":false},\"responsive_web_cookie_compliance_1st_party_killswitch_list\":{\"value\":[]},\"responsive_web_cookie_compliance_banner_enabled\":{\"value\":false},\"responsive_web_cookie_compliance_gingersnap_enabled\":{\"value\":false},\"responsive_web_cookie_consent_signal_enabled\":{\"value\":false},\"responsive_web_creator_preferences_previews_enabled_setting\":{\"value\":true},\"responsive_web_dcm_2_enabled\":{\"value\":true},\"responsive_web_deamplification_replies_dropdown_selector_enabled\":{\"value\":false},\"responsive_web_delete_tweet_stats_enabled\":{\"value\":true},\"responsive_web_device_follow_without_user_follow_enabled\":{\"value\":false},\"responsive_web_disconnect_third_party_sso_enabled\":{\"value\":true},\"responsive_web_dm_label_enabled\":{\"value\":false},\"responsive_web_dockable_autoplay_policy_enabled\":{\"value\":true},\"responsive_web_edit_active_subscription_enabled\":{\"value\":true},\"responsive_web_edit_tweet_api_enabled\":{\"value\":true},\"responsive_web_edit_tweet_composition_enabled\":{\"value\":true},\"responsive_web_edit_tweet_enabled\":{\"value\":false},\"responsive_web_edit_tweet_perspective_enabled\":{\"value\":false},\"responsive_web_edit_tweet_upsell_enabled\":{\"value\":true},\"responsive_web_element_size_impression_scribe_enabled\":{\"value\":true},\"responsive_web_enhance_cards_enabled\":{\"value\":false},\"responsive_web_eu_countries\":{\"value\":[\"at\",\"be\",\"bg\",\"ch\",\"cy\",\"cz\",\"de\",\"dk\",\"ee\",\"es\",\"fi\",\"fr\",\"gb\",\"gr\",\"hr\",\"hu\",\"ie\",\"is\",\"it\",\"li\",\"lt\",\"lu\",\"lv\",\"mt\",\"nl\",\"no\",\"pl\",\"pt\",\"ro\",\"se\",\"si\",\"sk\"]},\"responsive_web_exodus_enabled\":{\"value\":false},\"responsive_web_explorer_ads_enabled\":{\"value\":true},\"responsive_web_extension_compatibility_hide\":{\"value\":false},\"responsive_web_extension_compatibility_impression_guard\":{\"value\":true},\"responsive_web_extension_compatibility_override_param\":{\"value\":false},\"responsive_web_extension_compatibility_scribe\":{\"value\":true},\"responsive_web_extension_compatibility_size_threshold\":{\"value\":50},\"responsive_web_fetch_hashflags_on_boot\":{\"value\":false},\"responsive_web_framerate_tracking_home_enabled\":{\"value\":false},\"responsive_web_graphql_exclude_directive_enabled\":{\"value\":true},\"responsive_web_graphql_feedback\":{\"value\":true},\"responsive_web_graphql_skip_user_profile_image_extensions_enabled\":{\"value\":false},\"responsive_web_graphql_timeline_navigation_enabled\":{\"value\":true},\"responsive_web_grok_05221996\":{\"value\":false},\"responsive_web_grok_add_response_num_retries\":{\"value\":0},\"responsive_web_grok_analysis_button_from_backend\":{\"value\":false},\"responsive_web_grok_analyze_animation\":{\"value\":false},\"responsive_web_grok_analyze_button_fetch_trends_enabled\":{\"value\":false},\"responsive_web_grok_analyze_focal_post_enabled\":{\"value\":false},\"responsive_web_grok_analyze_post_followups_enabled\":{\"value\":false},\"responsive_web_grok_animated_text_enabled\":{\"value\":true},\"responsive_web_grok_api_enable_grok_host\":{\"value\":true},\"responsive_web_grok_atgrok_sample_rate\":{\"value\":0.5},\"responsive_web_grok_backend_prompts_enabled\":{\"value\":true},\"responsive_web_grok_continue_in_grok_enabled\":{\"value\":true},\"responsive_web_grok_debug_enabled\":{\"value\":false},\"responsive_web_grok_delete_conversations_enabled\":{\"value\":true},\"responsive_web_grok_dev_universal_search_id_enabled\":{\"value\":false},\"responsive_web_grok_edit_user_images\":{\"value\":false},\"responsive_web_grok_enable_add_response_keepalive\":{\"value\":false},\"responsive_web_grok_enable_deepersearch\":{\"value\":true},\"responsive_web_grok_enable_deepsearch_notifications\":{\"value\":true},\"responsive_web_grok_enable_file_attachment_with_deepsearch\":{\"value\":true},\"responsive_web_grok_enable_file_attachment_with_think\":{\"value\":true},\"responsive_web_grok_enable_input_advanced_settings\":{\"value\":true},\"responsive_web_grok_enable_model_tool_toggle\":{\"value\":true},\"responsive_web_grok_feed\":{\"value\":false},\"responsive_web_grok_feedback_label_dropdown\":{\"value\":true},\"responsive_web_grok_file_compression_enabled\":{\"value\":true},\"responsive_web_grok_file_max_size\":{\"value\":20971520},\"responsive_web_grok_file_upload_enabled\":{\"value\":true},\"responsive_web_grok_file_upload_max_files\":{\"value\":15},\"responsive_web_grok_finance_cards_enabled\":{\"value\":false},\"responsive_web_grok_fix_same_id_reload\":{\"value\":true},\"responsive_web_grok_focus_mode\":{\"value\":true},\"responsive_web_grok_fun_mode_disabled\":{\"value\":true},\"responsive_web_grok_general_availability\":{\"value\":false},\"responsive_web_grok_highlighted_prompt_clicks_until_fatigue\":{\"value\":-1},\"responsive_web_grok_history_search_enabled\":{\"value\":true},\"responsive_web_grok_image_annotation_enabled\":{\"value\":true},\"responsive_web_grok_image_edit\":{\"value\":true},\"responsive_web_grok_image_prompts_enabled\":{\"value\":true},\"responsive_web_grok_img_composer\":{\"value\":true},\"responsive_web_grok_img_gen_followup_attachments\":{\"value\":true},\"responsive_web_grok_imggen_count\":{\"value\":4},\"responsive_web_grok_in_app_learn_more\":{\"value\":\"https://x.com/xai/status/1823597788573098215\"},\"responsive_web_grok_links\":{\"value\":true},\"responsive_web_grok_location_enabled\":{\"value\":true},\"responsive_web_grok_media_carousel_enabled\":{\"value\":true},\"responsive_web_grok_multimedia_results\":{\"value\":false},\"responsive_web_grok_new_icon\":{\"value\":true},\"responsive_web_grok_opt_out_enabled\":{\"value\":true},\"responsive_web_grok_pdf_upload_enabled\":{\"value\":true},\"responsive_web_grok_personality\":{\"value\":true},\"responsive_web_grok_personality_button_enabled\":{\"value\":false},\"responsive_web_grok_places_card_enabled\":{\"value\":false},\"responsive_web_grok_post_composer\":{\"value\":false},\"responsive_web_grok_post_image_understanding_enabled\":{\"value\":false},\"responsive_web_grok_post_understanding_button_on_all_posts\":{\"value\":false},\"responsive_web_grok_profile_summary_enabled\":{\"value\":true},\"responsive_web_grok_profile_summary_min_followers\":{\"value\":50},\"responsive_web_grok_profile_summary_min_posts\":{\"value\":15},\"responsive_web_grok_promo_banner\":{\"value\":false},\"responsive_web_grok_prompt_edit_enabled\":{\"value\":true},\"responsive_web_grok_regen_configs\":{\"value\":false},\"responsive_web_grok_robot_icon\":{\"value\":false},\"responsive_web_grok_route_disabled_search_think_to_paywall\":{\"value\":true},\"responsive_web_grok_rtl_detection\":{\"value\":true},\"responsive_web_grok_rweb_xai_request_id_enabled\":{\"value\":true},\"responsive_web_grok_search_first\":{\"value\":true},\"responsive_web_grok_search_summary_enabled\":{\"value\":false},\"responsive_web_grok_search_summary_images_enabled\":{\"value\":true},\"responsive_web_grok_search_summary_sidebar\":{\"value\":true},\"responsive_web_grok_share_attachment_enabled\":{\"value\":true},\"responsive_web_grok_share_rendering_enabled\":{\"value\":true},\"responsive_web_grok_show_android_promo_banner\":{\"value\":true},\"responsive_web_grok_show_citations\":{\"value\":true},\"responsive_web_grok_show_grok_performance_metrics\":{\"value\":false},\"responsive_web_grok_show_grok_translated_post\":{\"value\":false},\"responsive_web_grok_show_grok_tweet_media\":{\"value\":false},\"responsive_web_grok_show_message_post_button\":{\"value\":true},\"responsive_web_grok_show_message_reply_button\":{\"value\":true},\"responsive_web_grok_sport_cards_enabled\":{\"value\":false},\"responsive_web_grok_start_mobile_layout_enabled\":{\"value\":true},\"responsive_web_grok_start_title_experiment_enabled\":{\"value\":false},\"responsive_web_grok_text_selection_enabled\":{\"value\":false},\"responsive_web_grok_text_upload_enabled\":{\"value\":true},\"responsive_web_grok_trends_design_enabled\":{\"value\":false},\"responsive_web_grok_tweet_translation\":{\"value\":false},\"responsive_web_grok_tweet_translation_limit\":{\"value\":5000},\"responsive_web_grok_use_new_layout\":{\"value\":true},\"responsive_web_grok_user_active_seconds_enable\":{\"value\":false},\"responsive_web_grok_user_seconds_debug\":{\"value\":false},\"responsive_web_grok_user_seconds_heartbeat\":{\"value\":5000},\"responsive_web_grok_v2_start_screen_enabled\":{\"value\":true},\"responsive_web_grok_v2_upsell_enabled\":{\"value\":false},\"responsive_web_grok_weather_card_enabled\":{\"value\":false},\"responsive_web_grok_web_results\":{\"value\":true},\"responsive_web_grok_webview_file_actions_enabled\":{\"value\":false},\"responsive_web_grok_webview_file_upload_enabled\":{\"value\":true},\"responsive_web_grok_xai_icon\":{\"value\":true},\"responsive_web_hashtag_highlight_is_enabled\":{\"value\":false},\"responsive_web_hashtag_highlight_show_avatar\":{\"value\":false},\"responsive_web_hashtag_highlight_use_small_font\":{\"value\":false},\"responsive_web_hevc_upload_preview_enabled\":{\"value\":false},\"responsive_web_home_pinned_timelines_prefetch_enabled\":{\"value\":false},\"responsive_web_impression_tracker_refactor_enabled\":{\"value\":true},\"responsive_web_in_text_shortcuts_enabled\":{\"value\":true},\"responsive_web_install_banner_show_immediate\":{\"value\":false},\"responsive_web_instream_video_redesign_enabled\":{\"value\":true},\"responsive_web_intercom_support_capture_premium_enabled\":{\"value\":false},\"responsive_web_jetfuel_frame\":{\"value\":false},\"responsive_web_lbm_v2_home_enabled\":{\"value\":false},\"responsive_web_lbm_v2_replies_enabled\":{\"value\":false},\"responsive_web_list_tweet_integration_enabled\":{\"value\":false},\"responsive_web_live_commerce_enabled\":{\"value\":false},\"responsive_web_live_screen_enabled\":{\"value\":true},\"responsive_web_locale_context_direction_enabled\":{\"value\":true},\"responsive_web_location_spotlight_display_map\":{\"value\":true},\"responsive_web_location_spotlight_v1_config\":{\"value\":true},\"responsive_web_location_spotlight_v1_display\":{\"value\":true},\"responsive_web_logged_out_grok_button_enabled\":{\"value\":false},\"responsive_web_logged_out_notifications_enabled\":{\"value\":true},\"responsive_web_logged_out_notifications_fatigue_days_count\":{\"value\":7},\"responsive_web_logged_out_notifications_including_home\":{\"value\":false},\"responsive_web_logged_out_read_replies_pivot_enabled\":{\"value\":true},\"responsive_web_logged_out_redesign_enabled\":{\"value\":false},\"responsive_web_login_input_type_email_enabled\":{\"value\":false},\"responsive_web_login_signup_sheet_app_install_cta_enabled\":{\"value\":true},\"responsive_web_media_download_video_share_menu_enabled\":{\"value\":true},\"responsive_web_media_upload_limit_2g\":{\"value\":250},\"responsive_web_media_upload_limit_3g\":{\"value\":1500},\"responsive_web_media_upload_limit_slow_2g\":{\"value\":150},\"responsive_web_media_upload_md5_hashing_enabled\":{\"value\":true},\"responsive_web_media_upload_metrics_enabled\":{\"value\":true},\"responsive_web_media_upload_target_jpg_pixels_per_byte\":{\"value\":6},\"responsive_web_messages_continue_enabled\":{\"value\":true},\"responsive_web_messages_enabled\":{\"value\":true},\"responsive_web_messages_search_enabled\":{\"value\":true},\"responsive_web_messages_watch_info_enabled\":{\"value\":false},\"responsive_web_messages_watch_info_interval_s\":{\"value\":600},\"responsive_web_mobile_app_spotlight_v1_config\":{\"value\":false},\"responsive_web_mobile_app_spotlight_v1_display\":{\"value\":false},\"responsive_web_multiple_account_limit\":{\"value\":5},\"responsive_web_not_a_bot_signups_enabled\":{\"value\":false},\"responsive_web_ocf_2fa_x_migration\":{\"value\":false},\"responsive_web_ocf_reportflow_appeals_enabled\":{\"value\":false},\"responsive_web_ocf_reportflow_dms_enabled\":{\"value\":false},\"responsive_web_ocf_reportflow_lists_enabled\":{\"value\":true},\"responsive_web_ocf_reportflow_profiles_enabled\":{\"value\":true},\"responsive_web_ocf_reportflow_promoted_enabled\":{\"value\":false},\"responsive_web_ocf_reportflow_spaces_enabled\":{\"value\":false},\"responsive_web_ocf_reportflow_suspension_appeals_enabled\":{\"value\":false},\"responsive_web_ocf_reportflow_testers\":{\"value\":false},\"responsive_web_ocf_reportflow_tweets_enabled\":{\"value\":true},\"responsive_web_ocf_sms_autoverify_darkwrite\":{\"value\":false},\"responsive_web_ocf_sms_autoverify_enabled\":{\"value\":false},\"responsive_web_offscreen_video_scroller_removal_enabled\":{\"value\":false},\"responsive_web_one_hour_edit_window_enabled\":{\"value\":true},\"responsive_web_open_in_app_prompt_enabled\":{\"value\":false},\"responsive_web_passwordless_sso_enabled\":{\"value\":false},\"responsive_web_personalization_id_sync_enabled\":{\"value\":false},\"responsive_web_pinned_replies_enabled\":{\"value\":false},\"responsive_web_placeholder_siwg_button_enabled\":{\"value\":false},\"responsive_web_prerolls_fullscreen_disabled_on_ios\":{\"value\":false},\"responsive_web_professional_journeys_holdback_enabled\":{\"value\":false},\"responsive_web_profile_header_search_button_enabled\":{\"value\":true},\"responsive_web_profile_search_signup_guard\":{\"value\":false},\"responsive_web_profile_spotlight_v0_config\":{\"value\":true},\"responsive_web_profile_spotlight_v0_display\":{\"value\":true},\"responsive_web_qp_full_popup_enabled\":{\"value\":false},\"responsive_web_qp_keyword_targeting_enabled\":{\"value\":false},\"responsive_web_qp_new_payment_enabled\":{\"value\":false},\"responsive_web_qp_skip_objective_enabled\":{\"value\":true},\"responsive_web_qp_two_screens_enabled\":{\"value\":true},\"responsive_web_redux_use_fragment_enabled\":{\"value\":false},\"responsive_web_repeat_profile_visits_notifications_device_follow_only_version_enabled\":{\"value\":false},\"responsive_web_repeat_profile_visits_notifications_enabled\":{\"value\":false},\"responsive_web_reply_storm_enabled\":{\"value\":false},\"responsive_web_report_page_not_found\":{\"value\":false},\"responsive_web_saved_search_enabled\":{\"value\":false},\"responsive_web_scheduling_threads_enabled\":{\"value\":false},\"responsive_web_scribe_media_component\":{\"value\":true},\"responsive_web_scroller_top_positioning_enabled\":{\"value\":false},\"responsive_web_seasonal_custom_logo\":{\"value\":\"IconTwitter\"},\"responsive_web_send_cookies_metadata_enabled\":{\"value\":true},\"responsive_web_share_only_tweet_url_omit_title_and_text\":{\"value\":true},\"responsive_web_show_similar_posts_action_enabled\":{\"value\":false},\"responsive_web_show_similar_posts_pivots_enabled\":{\"value\":true},\"responsive_web_sidebar_ttf_enabled\":{\"value\":false},\"responsive_web_signup_direct\":{\"value\":false},\"responsive_web_spud_enabled\":{\"value\":true},\"responsive_web_sso_redirect_enabled\":{\"value\":true},\"responsive_web_stripe_account_creation_enabled\":{\"value\":true},\"responsive_web_subscribers_ntab_for_creators_enabled\":{\"value\":true},\"responsive_web_subscriptions_setting_enabled\":{\"value\":true},\"responsive_web_suppress_app_button_banner_suppressed\":{\"value\":false},\"responsive_web_temporary_ocf_x_migration\":{\"value\":false},\"responsive_web_thread_media_ensure_root_urt\":{\"value\":false},\"responsive_web_thread_media_nav_enabled\":{\"value\":false},\"responsive_web_thread_media_tooltip\":{\"value\":false},\"responsive_web_timeline_cover_killswitch_enabled\":{\"value\":false},\"responsive_web_timeline_relay_lists_management_enabled\":{\"value\":false},\"responsive_web_timeline_relay_user_lists_enabled\":{\"value\":false},\"responsive_web_tracer_global_trace_sample_rate\":{\"value\":1},\"responsive_web_translation_feedback_enabled\":{\"value\":true},\"responsive_web_trends_setting_new_endpoints\":{\"value\":true},\"responsive_web_trends_ui_community_notes_enabled\":{\"value\":false},\"responsive_web_trends_ui_top_articles\":{\"value\":true},\"responsive_web_tv_cast_enabled\":{\"value\":true},\"responsive_web_tv_screen_logging_enabled\":{\"value\":false},\"responsive_web_tweet_analytics_m3_enabled\":{\"value\":false},\"responsive_web_tweet_analytics_promoted_audience_demographics_enabled\":{\"value\":false},\"responsive_web_tweet_analytics_video_metrics_v2_enabled\":{\"value\":true},\"responsive_web_tweet_drafts_threads_enabled\":{\"value\":false},\"responsive_web_tweet_drafts_video_enabled\":{\"value\":true},\"responsive_web_twitter_article_batch_posts\":{\"value\":true},\"responsive_web_twitter_article_block_limit\":{\"value\":10000},\"responsive_web_twitter_article_character_limit\":{\"value\":100},\"responsive_web_twitter_article_code_block_enabled\":{\"value\":true},\"responsive_web_twitter_article_code_language_typeahead_enabled\":{\"value\":true},\"responsive_web_twitter_article_content_debounce_ms\":{\"value\":3000},\"responsive_web_twitter_article_latex_enabled\":{\"value\":true},\"responsive_web_twitter_article_markdown_block_limit\":{\"value\":10},\"responsive_web_twitter_article_markdown_enabled\":{\"value\":false},\"responsive_web_twitter_article_notes_tab_enabled\":{\"value\":true},\"responsive_web_twitter_article_plain_text_enabled\":{\"value\":true},\"responsive_web_twitter_article_reader_enabled\":{\"value\":true},\"responsive_web_twitter_article_redirect_enabled\":{\"value\":true},\"responsive_web_twitter_article_seed_tweet_detail_enabled\":{\"value\":true},\"responsive_web_twitter_article_seed_tweet_enabled\":{\"value\":true},\"responsive_web_twitter_article_seed_tweet_summary_enabled\":{\"value\":true},\"responsive_web_twitter_article_title_limit\":{\"value\":100},\"responsive_web_twitter_article_tweet_consumption_enabled\":{\"value\":true},\"responsive_web_twitter_blue_subscriptions_disabled\":{\"value\":false},\"responsive_web_twitter_blue_verified_badge_ntab_empty_state_enabled\":{\"value\":true},\"responsive_web_use_app_button_variations\":{\"value\":\"control\"},\"responsive_web_use_app_prompt_copy_variant\":{\"value\":\"prompt_better\"},\"responsive_web_use_app_prompt_enabled\":{\"value\":false},\"responsive_web_use_badge_counts_for_ntab\":{\"value\":false},\"responsive_web_user_badge_education_get_verified_button_enabled\":{\"value\":true},\"responsive_web_verified_organizations_affiliate_fetch_limit\":{\"value\":3000},\"responsive_web_verified_organizations_free_to_invoice_enabled\":{\"value\":false},\"responsive_web_verified_organizations_free_upgrade_promo_enabled\":{\"value\":true},\"responsive_web_verified_organizations_handle_form_enabled\":{\"value\":false},\"responsive_web_verified_organizations_idv_enabled\":{\"value\":false},\"responsive_web_verified_organizations_insights_enabled\":{\"value\":true},\"responsive_web_verified_organizations_intercom_enabled\":{\"value\":true},\"responsive_web_verified_organizations_invoice_enabled\":{\"value\":false},\"responsive_web_verified_organizations_invoice_update_enabled\":{\"value\":false},\"responsive_web_verified_organizations_new_signup_enabled\":{\"value\":true},\"responsive_web_verified_organizations_new_year_offer_enabled\":{\"value\":true},\"responsive_web_verified_organizations_paid_to_invoice_enabled\":{\"value\":false},\"responsive_web_verified_organizations_people_search_enabled\":{\"value\":false},\"responsive_web_verified_organizations_people_search_follow_enabled\":{\"value\":false},\"responsive_web_verified_organizations_people_search_onboarding_enabled\":{\"value\":false},\"responsive_web_verified_organizations_xbusiness_enabled\":{\"value\":false},\"responsive_web_video_pcomplete_enabled\":{\"value\":true},\"responsive_web_video_promoted_logging_enabled\":{\"value\":false},\"responsive_web_video_trimmer_enabled\":{\"value\":false},\"responsive_web_vo_annual_credit_increase_enabled\":{\"value\":true},\"responsive_web_vo_basic_application_enabled\":{\"value\":true},\"responsive_web_x_translation_enabled\":{\"value\":false},\"rweb_analytics_audience_compact_mode\":{\"value\":true},\"rweb_analytics_audience_xweb_enabled\":{\"value\":true},\"rweb_analytics_export_data_content_enabled\":{\"value\":true},\"rweb_analytics_export_data_enabled\":{\"value\":true},\"rweb_analytics_in_out_network_enabled\":{\"value\":true},\"rweb_analytics_live_details_enabled\":{\"value\":false},\"rweb_analytics_live_overview_enabled\":{\"value\":false},\"rweb_analytics_nav_item_enabled\":{\"value\":false},\"rweb_analytics_post_detail_enabled\":{\"value\":true},\"rweb_analytics_spaces_details_enabled\":{\"value\":true},\"rweb_analytics_spaces_overview_enabled\":{\"value\":true},\"rweb_analytics_theme\":{\"value\":false},\"rweb_analytics_upsell_variant\":{\"value\":\"\"},\"rweb_analytics_xweb_content_page\":{\"value\":true},\"rweb_cache_spacebar_enabled\":{\"value\":true},\"rweb_client_transaction_id_enabled\":{\"value\":false},\"rweb_conf_dev_enabled\":{\"value\":false},\"rweb_conf_multi_video_enabled\":{\"value\":true},\"rweb_conf_only_enabled\":{\"value\":false},\"rweb_conf_rnnoise_enabled\":{\"value\":true},\"rweb_enable_logged_out_search_search_bar_enabled\":{\"value\":false},\"rweb_graphql_notifications_tab_enabled\":{\"value\":true},\"rweb_home_compact_timeline_enabled\":{\"value\":false},\"rweb_home_mixer_enable_social_context_filter_social_contexts\":{\"value\":true},\"rweb_home_nav_single_direction_scroll_enabled\":{\"value\":false},\"rweb_home_refetch_on_refocus_min_delay_seconds\":{\"value\":60},\"rweb_jetfuel_sdkv2_with_x_web\":{\"value\":false},\"rweb_live_broadcast_rewind_enabled\":{\"value\":true},\"rweb_live_dock_enabled\":{\"value\":true},\"rweb_master_detail_enabled\":{\"value\":false},\"rweb_media_carousel_enabled\":{\"value\":false},\"rweb_media_multi_requests_enabled\":{\"value\":true},\"rweb_mixed_media_uploads_cap\":{\"value\":4},\"rweb_mixed_media_uploads_enabled\":{\"value\":true},\"rweb_mvr_blurred_media_interstitial_enabled\":{\"value\":true},\"rweb_panning_nav_behavior\":{\"value\":true},\"rweb_picture_in_picture_enabled\":{\"value\":true},\"rweb_quick_promote_boost_enabled\":{\"value\":false},\"rweb_recommendations_sidebar_graphql_enabled\":{\"value\":false},\"rweb_save_video_progress_enabled\":{\"value\":false},\"rweb_search_media_enabled\":{\"value\":true},\"rweb_sidebar_lower_whats_happening_enabled\":{\"value\":false},\"rweb_sourcemap_migration\":{\"value\":false},\"rweb_sourcemap_migration_enable_suggested_video\":{\"value\":false},\"rweb_sourcemap_migration_side_expand_by_default\":{\"value\":true},\"rweb_spaces_invite_search_enabled\":{\"value\":true},\"rweb_spaces_next_codec_enabled\":{\"value\":true},\"rweb_ssp_ads_enabled\":{\"value\":false},\"rweb_timeline_inline_show_more_enabled\":{\"value\":true},\"rweb_tipjar_consumption_enabled\":{\"value\":true},\"rweb_tweets_boosting_enabled\":{\"value\":false},\"rweb_tweets_reply_context_hidden\":{\"value\":true},\"rweb_tweets_tweet_detail_font_size\":{\"value\":\"headline2\"},\"rweb_update_fatigue_switch_to_app_day_timeout\":{\"value\":7},\"rweb_update_fatigue_switch_to_app_link\":{\"value\":\"BannerSwitchToApp\"},\"rweb_updated_broadcast_screen\":{\"value\":false},\"rweb_video_logged_in_analytics_enabled\":{\"value\":true},\"rweb_video_pip_enabled\":{\"value\":true},\"rweb_video_screen_enabled\":{\"value\":false},\"rweb_video_tagging_enabled\":{\"value\":false},\"rweb_video_vertical_aspect_ratio_enabled\":{\"value\":false},\"rweb_xchat_enabled\":{\"value\":false},\"sc_mock_data_enabled\":{\"value\":false},\"sc_r4_enabled\":{\"value\":false},\"scribe_api_error_sample_size\":{\"value\":0},\"scribe_api_sample_size\":{\"value\":100},\"scribe_cdn_host_list\":{\"value\":[\"si0.twimg.com\",\"si1.twimg.com\",\"si2.twimg.com\",\"si3.twimg.com\",\"a0.twimg.com\",\"a1.twimg.com\",\"a2.twimg.com\",\"a3.twimg.com\",\"abs.twimg.com\",\"amp.twimg.com\",\"o.twimg.com\",\"pbs.twimg.com\",\"pbs-eb.twimg.com\",\"pbs-ec.twimg.com\",\"pbs-v6.twimg.com\",\"pbs-h1.twimg.com\",\"pbs-h2.twimg.com\",\"video.twimg.com\",\"platform.twitter.com\",\"cdn.api.twitter.com\",\"ton.twimg.com\",\"v.cdn.vine.co\",\"mtc.cdn.vine.co\",\"edge.vncdn.co\",\"mid.vncdn.co\"]},\"scribe_cdn_sample_size\":{\"value\":50},\"scribe_web_nav_sample_size\":{\"value\":100},\"search_results_disable_latest_tab_when_logged_out\":{\"value\":false},\"search_timelines_graphql_enabled\":{\"value\":true},\"sensitive_media_settings_enabled\":{\"value\":false},\"sensitive_tweet_warnings_enabled\":{\"value\":true},\"settings_for_you_recommendation_enabled\":{\"value\":false},\"shortened_tracking_parameters_mapping\":{\"value\":[\"01:twcamp^share|twsrc^android|twgr^sms\",\"02:twcamp^share|twsrc^android|twgr^email\",\"03:twcamp^share|twsrc^android|twgr^gmail\",\"04:twcamp^share|twsrc^android|twgr^facebook\",\"05:twcamp^share|twsrc^android|twgr^wechat\",\"06:twcamp^share|twsrc^android|twgr^line\",\"07:twcamp^share|twsrc^android|twgr^fbmessenger\",\"08:twcamp^share|twsrc^android|twgr^whatsapp\",\"09:twcamp^share|twsrc^android|twgr^other\",\"10:twcamp^share|twsrc^ios|twgr^sms\",\"11:twcamp^share|twsrc^ios|twgr^email\",\"12:twcamp^share|twsrc^ios|twgr^other\",\"13:twcamp^share|twsrc^android|twgr^download\",\"14:twcamp^share|twsrc^ios|twgr^download\",\"15:twcamp^share|twsrc^android|twgr^hangouts\",\"16:twcamp^share|twsrc^android|twgr^twitterdm\",\"17:twcamp^share|twsrc^m5|twgr^email\",\"18:twcamp^share|twsrc^m5|twgr^download\",\"19:twcamp^share|twsrc^android|twgr^copy\",\"20:twcamp^share|twsrc^m5|twgr^copy\",\"21:twcamp^share|twsrc^ios|twgr^copy\",\"22:twcamp^share|twsrc^ios|twgr^snapchat\",\"23:twcamp^share|twsrc^android|twgr^snapchat\",\"24:twcamp^share|twsrc^ios|twgr^whatsapp\",\"25:twcamp^share|twsrc^ios|twgr^fbmessenger\",\"26:twcamp^share|twsrc^ios|twgr^facebook\",\"27:twcamp^share|twsrc^ios|twgr^gmail\",\"28:twcamp^share|twsrc^ios|twgr^telegram\",\"29:twcamp^share|twsrc^ios|twgr^line\",\"30:twcamp^share|twsrc^ios|twgr^viber\",\"31:twcamp^share|twsrc^android|twgr^slack\",\"32:twcamp^share|twsrc^android|twgr^kakao\",\"33:twcamp^share|twsrc^android|twgr^discord\",\"34:twcamp^share|twsrc^android|twgr^reddit\",\"35:twcamp^share|twsrc^android|twgr^telegram\",\"36:twcamp^share|twsrc^android|twgr^instagram\",\"37:twcamp^share|twsrc^android|twgr^daum\",\"38:twcamp^share|twsrc^ios|twgr^instagram\",\"39:twcamp^share|twsrc^ios|twgr^linkedin\",\"40:twcamp^share|twsrc^android|twgr^linkedin\",\"41:twcamp^share|twsrc^gryphon|twgr^copy\",\"42:twcamp^share|twsrc^iphone|twgr^sms\",\"43:twcamp^share|twsrc^iphone|twgr^email\",\"44:twcamp^share|twsrc^iphone|twgr^other\",\"45:twcamp^share|twsrc^iphone|twgr^download\",\"46:twcamp^share|twsrc^iphone|twgr^copy\",\"47:twcamp^share|twsrc^iphone|twgr^snapchat\",\"48:twcamp^share|twsrc^iphone|twgr^whatsapp\",\"49:twcamp^share|twsrc^iphone|twgr^fbmessenger\",\"50:twcamp^share|twsrc^iphone|twgr^facebook\",\"51:twcamp^share|twsrc^iphone|twgr^gmail\",\"52:twcamp^share|twsrc^iphone|twgr^telegram\",\"53:twcamp^share|twsrc^iphone|twgr^line\",\"54:twcamp^share|twsrc^iphone|twgr^viber\",\"55:twcamp^share|twsrc^iphone|twgr^instagram\",\"56:twcamp^share|twsrc^iphone|twgr^linkedin\",\"57:twcamp^share|twsrc^ipad|twgr^sms\",\"58:twcamp^share|twsrc^ipad|twgr^email\",\"59:twcamp^share|twsrc^ipad|twgr^other\",\"60:twcamp^share|twsrc^ipad|twgr^download\",\"61:twcamp^share|twsrc^ipad|twgr^copy\",\"62:twcamp^share|twsrc^ipad|twgr^snapchat\",\"63:twcamp^share|twsrc^ipad|twgr^whatsapp\",\"64:twcamp^share|twsrc^ipad|twgr^fbmessenger\",\"65:twcamp^share|twsrc^ipad|twgr^facebook\",\"66:twcamp^share|twsrc^ipad|twgr^gmail\",\"67:twcamp^share|twsrc^ipad|twgr^telegram\",\"68:twcamp^share|twsrc^ipad|twgr^line\",\"69:twcamp^share|twsrc^ipad|twgr^viber\",\"70:twcamp^share|twsrc^ipad|twgr^instagram\",\"71:twcamp^share|twsrc^ipad|twgr^linkedin\"]},\"smbo_legacy_pac_is_in_follow_position_test\":{\"value\":false},\"social_context_and_topic_context_refresh_alignment_enabled\":{\"value\":false},\"spaces_2022_h2_clipping\":{\"value\":true},\"spaces_2022_h2_clipping_consumption\":{\"value\":true},\"spaces_2022_h2_clipping_duration_seconds\":{\"value\":30},\"spaces_2022_h2_spacebar_use_mock_data\":{\"value\":false},\"spaces_2022_h2_spaces_communities\":{\"value\":true},\"spaces_conference_enabled\":{\"value\":false},\"spaces_conference_opus_dtx_enabled\":{\"value\":false},\"spaces_dtx_opus_dtx_enabled\":{\"value\":false},\"spaces_video_admins_enabled\":{\"value\":false},\"spaces_video_consumption_enabled\":{\"value\":true},\"spaces_video_creation_enabled\":{\"value\":false},\"spaces_video_speakers_enabled\":{\"value\":false},\"standardized_nudges_misinfo\":{\"value\":true},\"subscriptions_block_ad_upsell_enabled\":{\"value\":true},\"subscriptions_blue_premium_labeling_enabled\":{\"value\":true},\"subscriptions_blue_verified_edit_profile_error_message_enabled\":{\"value\":true},\"subscriptions_branding_checkmark_logo_enabled\":{\"value\":false},\"subscriptions_enabled\":{\"value\":true},\"subscriptions_feature_1002\":{\"value\":true},\"subscriptions_feature_1003\":{\"value\":true},\"subscriptions_feature_1005\":{\"value\":true},\"subscriptions_feature_1006\":{\"value\":false},\"subscriptions_feature_1007\":{\"value\":true},\"subscriptions_feature_1009\":{\"value\":true},\"subscriptions_feature_1011\":{\"value\":true},\"subscriptions_feature_1012\":{\"value\":true},\"subscriptions_feature_1013\":{\"value\":false},\"subscriptions_feature_1014\":{\"value\":true},\"subscriptions_feature_account_analytics\":{\"value\":true},\"subscriptions_feature_article_composer\":{\"value\":true},\"subscriptions_feature_can_gift_premium\":{\"value\":false},\"subscriptions_feature_create_premium_content\":{\"value\":false},\"subscriptions_feature_extend_profile\":{\"value\":true},\"subscriptions_feature_hide_subscriptions\":{\"value\":true},\"subscriptions_feature_highlights\":{\"value\":true},\"subscriptions_feature_labs_1004\":{\"value\":true},\"subscriptions_feature_organization_affiliates\":{\"value\":true},\"subscriptions_feature_organization_x_hiring\":{\"value\":true},\"subscriptions_feature_premium_insights\":{\"value\":true},\"subscriptions_feature_premium_jobs\":{\"value\":true},\"subscriptions_gifting_help_url\":{\"value\":\"https://x.com/messages/compose?recipient_id&#x3D;1399766153053061121\"},\"subscriptions_gifting_premium_intro_copy_enabled\":{\"value\":false},\"subscriptions_hide_ad_upsell_enabled\":{\"value\":true},\"subscriptions_inapp_grok\":{\"value\":true},\"subscriptions_inapp_grok_analyze\":{\"value\":false},\"subscriptions_inapp_grok_default_mode\":{\"value\":\"regular\"},\"subscriptions_inapp_grok_enable_roast_me_prompt\":{\"value\":true},\"subscriptions_inapp_grok_nux_enabled\":{\"value\":false},\"subscriptions_inapp_grok_upsell_enabled\":{\"value\":true},\"subscriptions_inapp_grok_video_upsell\":{\"value\":\"https://abs.twimg.com/sticky/videos/inapp_dark_square_v4.mp4\"},\"subscriptions_inapp_grok_video_upsell_dim\":{\"value\":\"https://abs.twimg.com/sticky/videos/inapp_dim_square_v4.mp4\"},\"subscriptions_inapp_grok_video_upsell_light\":{\"value\":\"https://abs.twimg.com/sticky/videos/inapp_light_square_v4.mp4\"},\"subscriptions_is_blue_verified_review_status_profile_enabled\":{\"value\":true},\"subscriptions_long_video_rweb_new_copy_enabled\":{\"value\":true},\"subscriptions_long_video_upload\":{\"value\":true},\"subscriptions_management_failed_payment_api_call_enabled\":{\"value\":true},\"subscriptions_management_failed_payment_menu_alert_enabled\":{\"value\":false},\"subscriptions_management_failed_payment_message_premium_enabled\":{\"value\":false},\"subscriptions_management_failed_payment_profile_card_enabled\":{\"value\":false},\"subscriptions_management_fetch_next_billing_time\":{\"value\":true},\"subscriptions_management_renew_module_api_enabled\":{\"value\":true},\"subscriptions_management_renew_module_enabled\":{\"value\":true},\"subscriptions_management_tier_switch_improvements_enabled\":{\"value\":true},\"subscriptions_marketing_page_discounts_enabled\":{\"value\":true},\"subscriptions_marketing_page_fetch_promotions\":{\"value\":true},\"subscriptions_marketing_page_free_trial_enabled\":{\"value\":true},\"subscriptions_marketing_page_include_tax_enabled\":{\"value\":true},\"subscriptions_marketing_page_new_grok_content_enabled\":{\"value\":true},\"subscriptions_marketing_page_offer_ends_at_msec\":{\"value\":1739246400000},\"subscriptions_mute_ad_upsell_enabled\":{\"value\":true},\"subscriptions_offers_churn_prevention_enabled\":{\"value\":false},\"subscriptions_offers_dynamic_upsells_enabled\":{\"value\":false},\"subscriptions_premium_experiment_nav_text\":{\"value\":false},\"subscriptions_premium_hub_insights_block_enabled\":{\"value\":true},\"subscriptions_premium_module_creator_gate_enabled\":{\"value\":false},\"subscriptions_premium_module_enabled\":{\"value\":false},\"subscriptions_premium_tiers_default_interval\":{\"value\":\"Year\"},\"subscriptions_premium_tiers_default_product\":{\"value\":\"BlueVerified\"},\"subscriptions_premium_tiers_encrypted_dms_gating_update_enabled\":{\"value\":true},\"subscriptions_premium_tiers_order_variant\":{\"value\":\"variant_a\"},\"subscriptions_report_ad_upsell_enabled\":{\"value\":true},\"subscriptions_sign_up_enabled\":{\"value\":false},\"subscriptions_stripe_testing\":{\"value\":false},\"subscriptions_upsells_analytics_eligibility_query_enabled\":{\"value\":true},\"subscriptions_upsells_analytics_profile_enabled\":{\"value\":true},\"subscriptions_upsells_analytics_profile_variant\":{\"value\":\"Impressions\"},\"subscriptions_upsells_api_enabled\":{\"value\":true},\"subscriptions_upsells_app_tab_bar_analytics_upsell_enabled\":{\"value\":false},\"subscriptions_upsells_bookmarks_screen_enabled\":{\"value\":false},\"subscriptions_upsells_bookmarks_screen_variant\":{\"value\":\"\"},\"subscriptions_upsells_dm_card_enabled\":{\"value\":false},\"subscriptions_upsells_dm_card_variant\":{\"value\":\"anniversary\"},\"subscriptions_upsells_explore_sidebar_analytics_upsell_enabled\":{\"value\":false},\"subscriptions_upsells_explore_sidebar_analytics_upsell_variant\":{\"value\":\"\"},\"subscriptions_upsells_get_verified_button_variant\":{\"value\":\"\"},\"subscriptions_upsells_get_verified_profile\":{\"value\":true},\"subscriptions_upsells_get_verified_profile_card\":{\"value\":true},\"subscriptions_upsells_get_verified_profile_card_variant\":{\"value\":\"variant_a\"},\"subscriptions_upsells_get_verified_profile_rotation_enabled\":{\"value\":true},\"subscriptions_upsells_home_nav_migration_enabled\":{\"value\":true},\"subscriptions_upsells_home_sidebar_migration_enabled\":{\"value\":true},\"subscriptions_upsells_longform_sidebar_variant\":{\"value\":\"\"},\"subscriptions_upsells_monetization_redesign_enabled\":{\"value\":true},\"subscriptions_upsells_post_composer_variant\":{\"value\":\"\"},\"subscriptions_upsells_post_details_analytics_enabled\":{\"value\":true},\"subscriptions_upsells_post_engagements_enabled\":{\"value\":false},\"subscriptions_upsells_post_engagements_variant\":{\"value\":\"analytics_popup\"},\"subscriptions_upsells_premium_home_nav\":{\"value\":\"premium_upsell_upgrade\"},\"subscriptions_upsells_profile_sidebar_analytics_upsell_enabled\":{\"value\":false},\"subscriptions_upsells_profile_sidebar_analytics_upsell_variant\":{\"value\":\"\"},\"subscriptions_upsells_radar_sidebar_enabled\":{\"value\":false},\"subscriptions_upsells_radar_sidebar_variant\":{\"value\":\"\"},\"subscriptions_upsells_radar_video_url_desktop\":{\"value\":\"https://abs.twimg.com/images/radar_promo_v2.mp4\"},\"subscriptions_upsells_radar_video_url_mobile\":{\"value\":\"https://abs.twimg.com/images/radar_promo_v2.mp4\"},\"subscriptions_upsells_reply_boost_enabled\":{\"value\":false},\"subscriptions_upsells_reply_boost_popup_enabled\":{\"value\":true},\"subscriptions_upsells_reply_boost_variant\":{\"value\":\"\"},\"subscriptions_upsells_right_sidebar_variant\":{\"value\":\"\"},\"subscriptions_upsells_rweb_analytics_fallback_destination\":{\"value\":\"\"},\"subscriptions_upsells_settings_analytics_upsell_enabled\":{\"value\":false},\"subscriptions_upsells_track_interactions_enabled\":{\"value\":false},\"subscriptions_upsells_verified_profile_sidebar_enabled\":{\"value\":false},\"subscriptions_upsells_verified_profile_sidebar_variant\":{\"value\":\"variant_d\"},\"subscriptions_upsells_verified_profile_visitor_upsell_enabled\":{\"value\":false},\"subscriptions_upsells_verified_profile_visitor_upsell_variant\":{\"value\":\"\"},\"subscriptions_upsells_vo_nav_decoration_enabled\":{\"value\":false},\"subscriptions_upsells_vo_nav_decoration_variant\":{\"value\":\"30_percent_off\"},\"subscriptions_verification_info_is_identity_verified_enabled\":{\"value\":true},\"subscriptions_verification_info_verified_since_enabled\":{\"value\":true},\"super_follow_android_web_subscription_enabled\":{\"value\":false},\"super_follow_exclusive_tweet_creation_api_enabled\":{\"value\":true},\"super_follow_onboarding_application_perks_enabled\":{\"value\":true},\"super_follow_onboarding_granular_pricing_enabled\":{\"value\":true},\"super_follow_subscriptions_tax_calculation_enabled\":{\"value\":true},\"super_follow_tweet_label_redesign_enabled\":{\"value\":true},\"super_follow_web_application_enabled\":{\"value\":false},\"super_follow_web_deactivate_enabled\":{\"value\":true},\"super_follow_web_debug_enabled\":{\"value\":false},\"super_follow_web_edit_perks_enabled\":{\"value\":true},\"super_follow_web_onboarding_enabled\":{\"value\":true},\"targeted_project_friday_enabled\":{\"value\":false},\"topic_landing_page_clearer_controls_enabled\":{\"value\":true},\"topic_landing_page_cta_text\":{\"value\":\"control\"},\"topic_landing_page_share_enabled\":{\"value\":true},\"topics_context_controls_followed_variation\":{\"value\":\"see_more\"},\"topics_context_controls_implicit_context_x_enabled\":{\"value\":true},\"topics_context_controls_implicit_variation\":{\"value\":\"see_more\"},\"topics_context_controls_inline_prompt_enabled\":{\"value\":false},\"toxic_reply_filter_inline_callout_enabled\":{\"value\":false},\"toxic_reply_filter_settings_enabled\":{\"value\":false},\"traffic_rewrite_map\":{\"value\":[]},\"trusted_friends_consumption_enabled\":{\"value\":true},\"trusted_friends_dash_discovery_enabled\":{\"value\":false},\"trusted_friends_tweet_creation_enabled\":{\"value\":false},\"tv_app_casting_log_focused_element_every_10s\":{\"value\":false},\"tv_app_casting_set_focus_after_15s\":{\"value\":false},\"tv_app_qrcode_login_enabled\":{\"value\":true},\"tv_app_samsung_continue_watching_enabled\":{\"value\":false},\"tv_app_samsung_exit_configuration\":{\"value\":\"EXIT\"},\"tweet_awards_web_coin_purchase_enabled\":{\"value\":false},\"tweet_awards_web_coin_purchase_sandbox_enabled\":{\"value\":false},\"tweet_awards_web_non_focal_tweet_coins_enabled\":{\"value\":false},\"tweet_awards_web_tipping_enabled\":{\"value\":false},\"tweet_limited_actions_config_community_tweet_community_deleted\":{\"value\":[\"add_to_bookmarks\",\"add_to_moment\",\"embed\",\"follow\",\"hide_community_tweet\",\"like\",\"lists_add_remove\",\"mute_conversation\",\"pin_to_profile\",\"quote_tweet\",\"react\",\"remove_from_community\",\"reply\",\"retweet\",\"send_via_dm\",\"share_tweet_via\",\"view_hidden_replies\",\"view_tweet_activity\",\"vote_on_poll\",\"highlight\"]},\"tweet_limited_actions_config_community_tweet_community_not_found\":{\"value\":[\"add_to_bookmarks\",\"add_to_moment\",\"embed\",\"follow\",\"hide_community_tweet\",\"like\",\"lists_add_remove\",\"mute_conversation\",\"pin_to_profile\",\"quote_tweet\",\"react\",\"remove_from_community\",\"reply\",\"retweet\",\"send_via_dm\",\"share_tweet_via\",\"view_hidden_replies\",\"view_tweet_activity\",\"vote_on_poll\",\"highlight\"]},\"tweet_limited_actions_config_community_tweet_community_suspended\":{\"value\":[\"add_to_bookmarks\",\"add_to_moment\",\"embed\",\"follow\",\"hide_community_tweet\",\"like\",\"lists_add_remove\",\"mute_conversation\",\"pin_to_profile\",\"quote_tweet\",\"react\",\"remove_from_community\",\"reply\",\"retweet\",\"send_via_dm\",\"share_tweet_via\",\"view_hidden_replies\",\"view_tweet_activity\",\"vote_on_poll\",\"highlight\"]},\"tweet_limited_actions_config_community_tweet_hidden\":{\"value\":[\"add_to_bookmarks\",\"add_to_moment\",\"embed\",\"follow\",\"hide_community_tweet\",\"like\",\"lists_add_remove\",\"mute_conversation\",\"pin_to_profile\",\"quote_tweet\",\"react\",\"reply\",\"retweet\",\"send_via_dm\",\"share_tweet_via\",\"view_hidden_replies\",\"view_tweet_activity\",\"vote_on_poll\",\"highlight\"]},\"tweet_limited_actions_config_community_tweet_member_removed\":{\"value\":[\"add_to_bookmarks\",\"add_to_moment\",\"embed\",\"follow\",\"hide_community_tweet\",\"like\",\"lists_add_remove\",\"mute_conversation\",\"pin_to_profile\",\"quote_tweet\",\"react\",\"remove_from_community\",\"reply\",\"retweet\",\"send_via_dm\",\"share_tweet_via\",\"view_hidden_replies\",\"view_tweet_activity\",\"vote_on_poll\",\"highlight\"]},\"tweet_limited_actions_config_community_tweet_non_member\":{\"value\":[\"react\",\"reply_down_vote\"]},\"tweet_limited_actions_config_community_tweet_non_member_closed_community\":{\"value\":[\"react\",\"reply_down_vote\"]},\"tweet_limited_actions_config_community_tweet_non_member_public_community\":{\"value\":[\"react\",\"reply_down_vote\"]},\"tweet_limited_actions_config_disable_state_media_autoplay\":{\"value\":[\"autoplay\"]},\"tweet_limited_actions_config_dpa_enabled\":{\"value\":true},\"tweet_limited_actions_config_dynamic_product_ad\":{\"value\":[\"reply\",\"retweet\",\"quote_tweet\",\"share_tweet_via\",\"send_via_dm\",\"copy_link\",\"add_to_bookmarks\",\"like\"]},\"tweet_limited_actions_config_enabled\":{\"value\":true},\"tweet_limited_actions_config_freedom_of_speech_not_reach\":{\"value\":[\"reply\",\"retweet\",\"quote_tweet\",\"share_tweet_via\",\"add_to_bookmarks\",\"pin_to_profile\",\"copy_link\",\"send_via_dm\",\"like\",\"embed\",\"highlight\",\"edit_tweet\"]},\"tweet_limited_actions_config_limit_trusted_friends_tweet\":{\"value\":[\"retweet\",\"quote_tweet\",\"share_tweet_via\",\"send_via_dm\",\"copy_link\",\"view_tweet_activity\",\"embed\",\"add_to_moment\"]},\"tweet_limited_actions_config_non_compliant\":{\"value\":[\"reply\",\"retweet\",\"like\",\"react\",\"send_via_dm\",\"add_to_bookmarks\",\"add_to_moment\",\"pin_to_profile\",\"view_tweet_activity\",\"share_tweet_via\",\"copy_link\",\"highlight\"]},\"tweet_limited_actions_config_skip_tweet_detail\":{\"value\":[\"reply\"]},\"tweet_limited_actions_config_skip_tweet_detail_enabled\":{\"value\":true},\"tweet_limited_actions_config_soft_nudge_with_quote_tweet\":{\"value\":[\"show_retweet_action_menu\"]},\"tweet_with_visibility_results_all_gql_limited_actions_enabled\":{\"value\":false},\"tweet_with_visibility_results_partial_gql_limited_actions_enabled\":{\"value\":true},\"tweet_with_visibility_results_prefer_gql_limited_actions_policy_enabled\":{\"value\":true},\"twitter_chat_communities_chat_enabled\":{\"value\":false},\"twitter_delegate_normal_limit\":{\"value\":5},\"twitter_delegate_subscriber_limit\":{\"value\":25},\"ucpd_enabled\":{\"value\":true},\"unified_cards_collection_ads_convert_to_image_website_card\":{\"value\":false},\"unified_cards_dpa_cta_button_enabled\":{\"value\":true},\"unified_cards_dpa_metadata_enabled\":{\"value\":true},\"unified_cards_dpa_placeholder_media_key\":{\"value\":[\"3_1485707239990054912\"]},\"user_ad_accounts_config_enabled\":{\"value\":false},\"user_display_name_max_limit\":{\"value\":50},\"verified_phone_label_enabled\":{\"value\":false},\"verified_vo_refreshed_advertising_screen_enabled\":{\"value\":true},\"video_upload_metadata_title_enabled\":{\"value\":false},\"view_counts_everywhere_api_enabled\":{\"value\":true},\"view_counts_public_visibility_enabled\":{\"value\":true},\"vo_upsell_enabled\":{\"value\":false},\"vo_upsell_new_business_query_enabled\":{\"value\":true},\"vo_upsell_profile_button_enabled\":{\"value\":true},\"vo_upsell_profile_page_enabled\":{\"value\":false},\"vod_attribution_tweet_detail_pivot_enabled\":{\"value\":true},\"voice_consumption_enabled\":{\"value\":true},\"voice_rooms_cohosts_enabled\":{\"value\":true},\"voice_rooms_discovery_page_enabled\":{\"value\":false},\"voice_rooms_employee_only_enabled\":{\"value\":false},\"voice_rooms_recent_search_audiospace_ring_enabled\":{\"value\":true},\"voice_rooms_search_results_page_audiospace_ring_enabled\":{\"value\":false},\"voice_rooms_typeahead_audiospace_ring_enabled\":{\"value\":true},\"voice_rooms_web_space_creation\":{\"value\":true},\"web_video_caption_repositioning_enabled\":{\"value\":true},\"web_video_hls_android_mse_enabled\":{\"value\":true},\"web_video_hls_mp4_threshold_sec\":{\"value\":0},\"web_video_hls_variant_version\":{\"value\":\"1\"},\"web_video_hlsjs_version\":{\"value\":\"1.5.0\"},\"web_video_playback_rate_enabled\":{\"value\":true},\"web_video_player_size_cap_disabled\":{\"value\":false},\"web_video_prefetch_playlist_autoplay_disabled\":{\"value\":false},\"web_video_safari_hlsjs_enabled\":{\"value\":true},\"web_video_transcribed_captions_enabled\":{\"value\":true},\"x_jetfuel_enable_test_cluster\":{\"value\":false},\"xprofile_blocked_by_view_enabled\":{\"value\":true},\"xprofile_consumption_enabled\":{\"value\":true},\"xprofile_editing_enabled\":{\"value\":true},\"xprofile_emojis_enabled\":{\"value\":true},\"xprofile_profile_button_enabled\":{\"value\":false},\"xprofile_section_visibility_enabled\":{\"value\":false},\"xprofile_work_history_consumption_enabled\":{\"value\":true},\"xprofile_work_history_domain_enabled\":{\"value\":false},\"xprofile_work_history_enabled\":{\"value\":true}},\"user\":{\"config\":{\"2fa_temporary_password_enabled\":{\"value\":false},\"account_country_setting_countries_whitelist\":{\"value\":[\"ad\",\"ae\",\"af\",\"ag\",\"ai\",\"al\",\"am\",\"ao\",\"ar\",\"as\",\"at\",\"au\",\"aw\",\"ax\",\"az\",\"ba\",\"bb\",\"bd\",\"be\",\"bf\",\"bg\",\"bh\",\"bi\",\"bj\",\"bl\",\"bm\",\"bn\",\"bo\",\"bq\",\"br\",\"bs\",\"bt\",\"bv\",\"bw\",\"by\",\"bz\",\"ca\",\"cc\",\"cd\",\"cf\",\"cg\",\"ch\",\"ci\",\"ck\",\"cl\",\"cm\",\"co\",\"cr\",\"cu\",\"cv\",\"cw\",\"cx\",\"cy\",\"cz\",\"de\",\"dj\",\"dk\",\"dm\",\"do\",\"dz\",\"ec\",\"ee\",\"eg\",\"er\",\"es\",\"et\",\"fi\",\"fj\",\"fk\",\"fm\",\"fo\",\"fr\",\"ga\",\"gb\",\"gd\",\"ge\",\"gf\",\"gg\",\"gh\",\"gi\",\"gl\",\"gm\",\"gn\",\"gp\",\"gq\",\"gr\",\"gs\",\"gt\",\"gu\",\"gw\",\"gy\",\"hk\",\"hn\",\"hr\",\"ht\",\"hu\",\"id\",\"ie\",\"il\",\"im\",\"in\",\"io\",\"iq\",\"ir\",\"is\",\"it\",\"je\",\"jm\",\"jo\",\"jp\",\"ke\",\"kg\",\"kh\",\"ki\",\"km\",\"kn\",\"kr\",\"kw\",\"ky\",\"kz\",\"la\",\"lb\",\"lc\",\"li\",\"lk\",\"lr\",\"ls\",\"lt\",\"lu\",\"lv\",\"ly\",\"ma\",\"mc\",\"md\",\"me\",\"mf\",\"mg\",\"mh\",\"mk\",\"ml\",\"mn\",\"mo\",\"mp\",\"mq\",\"mr\",\"ms\",\"mt\",\"mu\",\"mv\",\"mw\",\"mx\",\"my\",\"mz\",\"na\",\"nc\",\"ne\",\"nf\",\"ng\",\"ni\",\"nl\",\"no\",\"np\",\"nr\",\"nu\",\"nz\",\"om\",\"pa\",\"pe\",\"pf\",\"pg\",\"ph\",\"pk\",\"pl\",\"pm\",\"pn\",\"pr\",\"ps\",\"pt\",\"pw\",\"py\",\"qa\",\"re\",\"ro\",\"rs\",\"ru\",\"rw\",\"sa\",\"sb\",\"sc\",\"se\",\"sg\",\"sh\",\"si\",\"sk\",\"sl\",\"sm\",\"sn\",\"so\",\"sr\",\"st\",\"sv\",\"sx\",\"sz\",\"tc\",\"td\",\"tf\",\"tg\",\"th\",\"tj\",\"tk\",\"tl\",\"tm\",\"tn\",\"to\",\"tr\",\"tt\",\"tv\",\"tw\",\"tz\",\"ua\",\"ug\",\"us\",\"uy\",\"uz\",\"va\",\"vc\",\"ve\",\"vi\",\"vn\",\"vu\",\"wf\",\"ws\",\"xk\",\"ye\",\"yt\",\"za\",\"zm\",\"zw\"]},\"active_ad_campaigns_query_enabled\":{\"value\":false},\"ads_spacing_client_fallback_minimum_spacing\":{\"value\":3},\"ads_spacing_client_fallback_minimum_spacing_verified_blue\":{\"value\":3},\"arkose_challenge_lo_web_notification_dev\":{\"value\":\"BF5FA6C8-9668-4AF9-AFA2-E362F56E5B71\"},\"arkose_challenge_lo_web_notification_mobile_prod\":{\"value\":\"6A2FD110-7C1A-47CD-82EE-D01FFB4810D7\"},\"arkose_challenge_lo_web_notification_prod\":{\"value\":\"50706BFE-942C-4EEC-B9AD-03F7CD268FB1\"},\"arkose_challenge_login_web_devel\":{\"value\":\"DF58DD3B-DFCC-4502-91FA-EDC0DC385CFF\"},\"arkose_challenge_login_web_prod\":{\"value\":\"2F4F0B28-BC94-4271-8AD7-A51662E3C91C\"},\"arkose_challenge_open_app_dev\":{\"value\":\"560C66A3-C8EB-4D11-BE53-A8232734AA62\"},\"arkose_challenge_open_app_prod\":{\"value\":\"6E8D3D6E-30D4-45F1-9838-BA3D9651AAA1\"},\"arkose_challenge_signup_mobile_dev\":{\"value\":\"006B5E87-7497-403E-9E0C-8FFBAAC6FA67\"},\"arkose_challenge_signup_mobile_prod\":{\"value\":\"867D55F2-24FD-4C56-AB6D-589EDAF5E7C5\"},\"arkose_challenge_signup_web_dev\":{\"value\":\"DF58DD3B-DFCC-4502-91FA-EDC0DC385CFF\"},\"arkose_challenge_signup_web_prod\":{\"value\":\"2CB16598-CB82-4CF7-B332-5990DB66F3AB\"},\"Arkose_rweb_hosted_page\":{\"value\":true},\"Arkose_use_invisible_challenge_key\":{\"value\":false},\"articles_preview_enabled\":{\"value\":true},\"articles_rest_api_enabled\":{\"value\":true},\"blue_business_admin_sidebar_module_enabled\":{\"value\":true},\"blue_business_ads_metrics\":{\"value\":true},\"blue_business_affiliates_list_order_setting_enabled\":{\"value\":false},\"blue_business_analytics\":{\"value\":true},\"blue_business_analytics_affiliate_filtering_enabled\":{\"value\":true},\"blue_business_cancel_offer\":{\"value\":true},\"blue_business_direct_invites_enabled\":{\"value\":true},\"blue_business_display_annual_price_monthly\":{\"value\":true},\"blue_business_multi_affiliates_ui_enabled\":{\"value\":true},\"blue_business_simplify_signup_ui\":{\"value\":true},\"blue_business_tier_switching_enabled\":{\"value\":true},\"blue_business_username_change_prompt_enabled\":{\"value\":true},\"blue_business_verified_admin_cancellation_flow_enabled\":{\"value\":true},\"blue_business_verified_admin_enabled\":{\"value\":true},\"blue_business_vo_free_affiliate_limit\":{\"value\":5},\"blue_business_vo_nav_for_legacy_verified\":{\"value\":true},\"blue_longer_video_enabled\":{\"value\":false},\"branded_like_preview_enabled\":{\"value\":false},\"c9s_auto_collapse_community_detail_header_enabled\":{\"value\":true},\"c9s_community_answer_box_enabled\":{\"value\":true},\"c9s_community_answer_box_join_page_enabled\":{\"value\":true},\"c9s_community_composer_hashtag_suggestions_enabled\":{\"value\":true},\"c9s_community_hashtags_carousel_enabled\":{\"value\":true},\"c9s_community_hashtags_enabled\":{\"value\":true},\"c9s_community_list_setting_enabled\":{\"value\":true},\"c9s_community_question_box_enabled\":{\"value\":true},\"c9s_community_searchtags_enabled\":{\"value\":true},\"c9s_community_tweet_search_enabled\":{\"value\":true},\"c9s_enabled\":{\"value\":true},\"c9s_list_members_action_api_enabled\":{\"value\":false},\"c9s_logged_out_access_enabled\":{\"value\":true},\"c9s_max_community_answer_length\":{\"value\":280},\"c9s_max_community_description_length\":{\"value\":160},\"c9s_max_community_name_length\":{\"value\":30},\"c9s_max_community_question_length\":{\"value\":160},\"c9s_max_rule_count\":{\"value\":10},\"c9s_max_rule_description_length\":{\"value\":160},\"c9s_max_rule_name_length\":{\"value\":60},\"c9s_nav_list_activity_details_enabled\":{\"value\":false},\"c9s_question_editing_box_enabled\":{\"value\":true},\"c9s_spotlight_creation_enabled\":{\"value\":true},\"c9s_ssr_enabled\":{\"value\":false},\"c9s_tab_visibility\":{\"value\":\"always\"},\"c9s_timelines_media_tab_enabled\":{\"value\":true},\"c9s_tweet_anatomy_moderator_badge_enabled\":{\"value\":true},\"card_detail_compact_enabled\":{\"value\":true},\"communities_adult_content_setting_display\":{\"value\":true},\"communities_adult_content_setting_enabled\":{\"value\":true},\"communities_analytics_enabled\":{\"value\":true},\"communities_auto_report_setting_enabled\":{\"value\":true},\"communities_enable_explore_tab\":{\"value\":true},\"communities_enable_explore_topic_carousel\":{\"value\":true},\"communities_enable_top_posts_search\":{\"value\":true},\"communities_global_communities_latest_post_search_enabled\":{\"value\":true},\"communities_global_communities_post_search_enabled\":{\"value\":true},\"communities_home_top_timeline_enabled\":{\"value\":true},\"communities_moderation_log_enabled\":{\"value\":true},\"communities_non_member_reply_enabled\":{\"value\":true},\"communities_show_broadcast_option_in_composer\":{\"value\":false},\"communities_spam_settings_enabled\":{\"value\":true},\"communities_topic_carousel_enabled\":{\"value\":true},\"communities_topic_display\":{\"value\":true},\"communities_topics_enabled\":{\"value\":true},\"communities_web_enable_tweet_community_results_fetch\":{\"value\":true},\"creator_monetization_profile_subscription_tweets_tab_enabled\":{\"value\":true},\"creator_monetization_video_ads_onboarding\":{\"value\":false},\"creator_monetization_web_tips_dashboard_enabled\":{\"value\":false},\"creator_monetization_web_tips_onboarding_enabled\":{\"value\":false},\"creator_subscriptions_connect_tab_enabled\":{\"value\":true},\"creator_subscriptions_eligibility_impressions\":{\"value\":5000000},\"creator_subscriptions_eligibility_verified_followers\":{\"value\":2000},\"creator_subscriptions_email_share_enabled\":{\"value\":true},\"creator_subscriptions_quote_tweet_preview_enabled\":{\"value\":false},\"creator_subscriptions_subscribe_action_tweet_menu_enabled\":{\"value\":true},\"creator_subscriptions_subscribe_button_tweet_detail_enabled\":{\"value\":true},\"creator_subscriptions_subscriber_count_enabled\":{\"value\":false},\"creator_subscriptions_subscriber_count_min_displayed\":{\"value\":1},\"creator_subscriptions_subscription_count_enabled\":{\"value\":true},\"creator_subscriptions_tweet_preview_api_enabled\":{\"value\":true},\"dash_region_specific_de_and_tr_media_transparency_items_enabled\":{\"value\":false},\"dash_region_specific_de_media_transparency_items_enabled\":{\"value\":false},\"disallowed_reply_controls_callout_enabled\":{\"value\":false},\"disallowed_reply_controls_enabled\":{\"value\":false},\"dm_block_enabled\":{\"value\":true},\"dm_bulk_delete_enabled\":{\"value\":false},\"dm_conversation_labels_max_pinned_count\":{\"value\":10},\"dm_conversation_labels_pinned_education_enabled\":{\"value\":true},\"dm_conversations_nsfw_media_filter_enabled\":{\"value\":false},\"dm_edit_dms_overflow_menu_enabled\":{\"value\":false},\"dm_education_flags_prompt\":{\"value\":false},\"dm_encrypted_franking_sending_enabled\":{\"value\":false},\"dm_encrypted_franking_verification_enabled\":{\"value\":false},\"dm_inbox_search_groups_bucket_size\":{\"value\":5},\"dm_inbox_search_max_recent_searches_stored\":{\"value\":5},\"dm_inbox_search_messages_bucket_size\":{\"value\":5},\"dm_inbox_search_people_bucket_size\":{\"value\":5},\"dm_secret_conversations_enabled\":{\"value\":false},\"dm_secret_conversations_for_blue_verified_enabled\":{\"value\":true},\"dm_secret_conversations_for_graduated_access_enabled\":{\"value\":false},\"dm_settings_info_page_allow_subscriber_messages_setting_enabled\":{\"value\":true},\"dm_settings_info_page_device_list_enabled\":{\"value\":false},\"dm_share_sheet_send_individually_max_count\":{\"value\":20},\"dm_video_downloads_enabled\":{\"value\":false},\"dm_voice_rendering_enabled\":{\"value\":true},\"dont_mention_me_enabled\":{\"value\":true},\"dont_mention_me_mentions_tab_education_enabled\":{\"value\":true},\"dont_mention_me_view_api_enabled\":{\"value\":true},\"dsa_encrypted_dms_report_flow_enabled\":{\"value\":false},\"dsa_profile_report_flow_enabled\":{\"value\":false},\"dsa_report_flow_enabled\":{\"value\":false},\"dsa_report_illegal_content_url\":{\"value\":\"\"},\"ecd_dispute_form_link_enabled\":{\"value\":true},\"enable_label_appealing_misinfo_enabled\":{\"value\":false},\"enable_label_appealing_sensitive_content_enabled\":{\"value\":false},\"explore_graphql_enabled\":{\"value\":true},\"explore_relaunch_enable_auto_play\":{\"value\":false},\"explore_relaunch_enable_immersive_web\":{\"value\":false},\"explore_relaunch_enable_immersive_web_navigation_button\":{\"value\":false},\"explore_relaunch_max_video_loop_threshold_sec\":{\"value\":5},\"explore_relaunch_web_playback_bug_fix\":{\"value\":true},\"focused_timeline_actions_onboarding_likes\":{\"value\":3},\"follow_nudge_conversation_enabled\":{\"value\":false},\"freedom_of_speech_not_reach_author_label_enabled\":{\"value\":true},\"freedom_of_speech_not_reach_fetch_enabled\":{\"value\":true},\"freedom_of_speech_not_reach_pivot_enabled\":{\"value\":true},\"graduated_access_botmaker_decider_enabled\":{\"value\":true},\"graduated_access_invisible_treatment_enabled\":{\"value\":true},\"graduated_access_user_prompt_enabled\":{\"value\":true},\"graphql_is_translatable_rweb_tweet_is_translatable_enabled\":{\"value\":true},\"graphql_mutation_retweet_mode\":{\"value\":\"rest_only\"},\"graphql_mutation_update_mode\":{\"value\":\"graphql_only\"},\"grok_settings_age_restriction_enabled\":{\"value\":true},\"grok_settings_memory_visibility\":{\"value\":\"hide\"},\"grok_settings_restriction_age\":{\"value\":18},\"gryphon_accountsync_polling_interval_ms\":{\"value\":300000},\"gryphon_faster_cell_entrance\":{\"value\":true},\"gryphon_fps_tracking_enabled\":{\"value\":true},\"gryphon_hide_quick_promote\":{\"value\":false},\"gryphon_live_timelines_enabled\":{\"value\":true},\"gryphon_motion\":{\"value\":false},\"gryphon_redux_perf_optimization_enabled\":{\"value\":true},\"gryphon_redux_perf_optimization_v2_enabled\":{\"value\":true},\"gryphon_search_based_deck_enabled\":{\"value\":false},\"gryphon_sharing_column_permission\":{\"value\":\"follow\"},\"gryphon_sharing_deck_permission\":{\"value\":\"\"},\"gryphon_survey_enabled\":{\"value\":false},\"gryphon_survey_url\":{\"value\":\"\"},\"gryphon_timeline_polling_latest_interval_ms\":{\"value\":30000},\"gryphon_timeline_polling_overrides\":{\"value\":\"explore,,60000\"},\"gryphon_timeline_polling_top_interval_ms\":{\"value\":120000},\"gryphon_underground_enabled\":{\"value\":false},\"gryphon_video_docking_enabled\":{\"value\":true},\"hashfetti_all_hashflags\":{\"value\":false},\"hashfetti_duration_ms\":{\"value\":4000},\"hashfetti_enabled\":{\"value\":true},\"hashfetti_particle_count\":{\"value\":30},\"hidden_profile_subscriptions_enabled\":{\"value\":true},\"highlights_tweets_action_enabled\":{\"value\":true},\"highlights_tweets_action_menu_upsell_enabled\":{\"value\":true},\"highlights_tweets_tab_ui_enabled\":{\"value\":true},\"highlights_tweets_tab_upsell_enabled\":{\"value\":true},\"highlights_tweets_upsell_on_pin_action_enabled\":{\"value\":false},\"home_timeline_like_reactivity_enabled\":{\"value\":true},\"home_timeline_like_reactivity_fatigue\":{\"value\":10},\"home_timeline_spheres_detail_page_muting_enabled\":{\"value\":true},\"home_timeline_spheres_max_user_owned_or_subscribed_lists_count\":{\"value\":10},\"home_timeline_spheres_ranking_mode_control_enabled\":{\"value\":false},\"identity_verification_consent_opt_in_by_default_enabled\":{\"value\":true},\"identity_verification_creator_processor\":{\"value\":\"Stripe\"},\"identity_verification_debadging_notification_enabled\":{\"value\":true},\"identity_verification_hide_verified_label_settings_enabled\":{\"value\":true},\"identity_verification_intake_enabled\":{\"value\":false},\"identity_verification_intake_for_blue_subscribers_enabled\":{\"value\":false},\"identity_verification_notable_demo_survey\":{\"value\":false},\"identity_verification_passkey_settings_enabled\":{\"value\":true},\"identity_verification_settings_enabled\":{\"value\":true},\"identity_verification_vendor_idv_migration_enabled\":{\"value\":false},\"immersive_viewer_enable_profile_viewer\":{\"value\":false},\"insights_advanced_query_enabled\":{\"value\":true},\"insights_ai_trends_enabled\":{\"value\":false},\"insights_ai_trends_limit\":{\"value\":5},\"insights_ai_trends_score_threshold\":{\"value\":0.6},\"insights_chart_filter_enabled\":{\"value\":true},\"insights_impressions_chart_enabled\":{\"value\":false},\"insights_impressions_enabled\":{\"value\":false},\"insights_multiple_rules_enabled\":{\"value\":false},\"insights_paginated_metrics_backend_enabled\":{\"value\":false},\"insights_premium_initial_days_back\":{\"value\":7},\"insights_preview_splash_metrics_enabled\":{\"value\":false},\"insights_previews_enabled\":{\"value\":false},\"insights_unique_users_enabled\":{\"value\":false},\"insights_unique_users_premium_enabled\":{\"value\":false},\"ios_premium_paywall_preloaded_webview_pagesheet_modal\":{\"value\":true},\"japan_holidays_is_labor_thanks_giving_day\":{\"value\":false},\"japan_holidays_labor_thanks_giving_day_message\":{\"value\":\"毎日お疲れ様です。忙しい日々の中でも、Xで息抜きしてくださいね☕ いつもご利用ありがとうございます🫶 #勤労感謝\"},\"japan_holidays_labor_thanks_giving_message_trigger\":{\"value\":[\"勤労感謝\",\"仕事\",\"労働\",\"働く\",\"勤労\"]},\"krs_registration_enabled\":{\"value\":false},\"live_event_docking_enabled\":{\"value\":true},\"live_event_interstitial_seen_cache_enabled\":{\"value\":true},\"live_event_multi_video_auto_advance_dock_enabled\":{\"value\":true},\"live_event_multi_video_auto_advance_enabled\":{\"value\":true},\"live_event_multi_video_auto_advance_fullscreen_enabled\":{\"value\":false},\"live_event_multi_video_enabled\":{\"value\":true},\"live_event_timeline_default_refresh_rate_interval_seconds\":{\"value\":30},\"live_event_timeline_minimum_refresh_rate_interval_seconds\":{\"value\":10},\"live_event_timeline_server_controlled_refresh_rate_enabled\":{\"value\":true},\"livepipeline_client_enabled\":{\"value\":true},\"livepipeline_tweetengagement_enabled\":{\"value\":true},\"longform_ad_free_articles_badging_enabled\":{\"value\":false},\"longform_notetweets_composer_upsell_enabled\":{\"value\":true},\"longform_notetweets_composition_without_claims_enabled\":{\"value\":false},\"longform_notetweets_consumption_enabled\":{\"value\":true},\"longform_notetweets_inline_media_enabled\":{\"value\":true},\"longform_notetweets_max_tweet_per_thread\":{\"value\":25},\"longform_notetweets_max_weighted_character_length\":{\"value\":25000},\"longform_notetweets_mobile_richtextinput\":{\"value\":false},\"longform_notetweets_rich_composition_enabled\":{\"value\":1},\"longform_notetweets_rich_text_read_enabled\":{\"value\":true},\"longform_notetweets_rich_text_timeline_enabled\":{\"value\":false},\"longform_notetweets_scheduling_non_reply_enabled\":{\"value\":true},\"longform_notetweets_tweet_storm_enabled\":{\"value\":true},\"longform_reader_mode_view_in_reader_mode_entry_button_enabled\":{\"value\":false},\"longform_top_articles_friends_of_friends_enabled\":{\"value\":true},\"longform_top_articles_time_window_enabled\":{\"value\":true},\"machine_translation_holdback_logged_in\":{\"value\":false},\"machine_translation_holdback_logged_out\":{\"value\":false},\"march_madness_brackets_enabled\":{\"value\":true},\"march_madness_brackets_enabled_loggedin_sidebar_popup\":{\"value\":false},\"march_madness_brackets_enabled_logout_popup\":{\"value\":false},\"media_async_upload_amplify_duration_threshold\":{\"value\":600},\"media_async_upload_longer_dm_video_max_video_duration\":{\"value\":600},\"media_async_upload_longer_video_max_video_duration\":{\"value\":21660},\"media_async_upload_longer_video_max_video_size\":{\"value\":8388608},\"media_async_upload_longer_video_resolution_selector\":{\"value\":false},\"media_async_upload_max_avatar_gif_size\":{\"value\":5},\"media_async_upload_max_gif_size\":{\"value\":15},\"media_async_upload_max_image_size\":{\"value\":5},\"media_async_upload_max_video_duration\":{\"value\":14460},\"media_async_upload_max_video_size\":{\"value\":512},\"media_edge_to_edge_content_enabled\":{\"value\":false},\"network_layer_503_backoff_mode\":{\"value\":\"host\"},\"netzdg_in_loggedout_posts_enabled\":{\"value\":false},\"netzdg_in_spaces_enabled\":{\"value\":false},\"ocf_2fa_enrollment_bouncer_enabled\":{\"value\":true},\"ocf_2fa_enrollment_enabled\":{\"value\":true},\"ocf_2fa_unenrollment_enabled\":{\"value\":true},\"onboarding_project_uls_enabled\":{\"value\":false},\"optimized_sru_parameters_client_side_timeout_ms\":{\"value\":600000},\"optimized_sru_parameters_enabled\":{\"value\":1},\"optimized_sru_parameters_ideal_upload_time_ms\":{\"value\":80000},\"optimized_sru_parameters_max_segment_bytes\":{\"value\":8387584},\"optimized_sru_parameters_min_segment_bytes\":{\"value\":4194304},\"papago_tweet_translation_from_korean_entity_protected\":{\"value\":false},\"papago_tweet_translation_from_korean_entity_protected_destinations\":{\"value\":[\"en\",\"ja\",\"zh\",\"zh-cn\",\"zh-Hans\",\"zh-tw\",\"zh-Hant\"]},\"papago_tweet_translation_from_korean_entity_unprotected\":{\"value\":false},\"papago_tweet_translation_from_korean_entity_unprotected_destinations\":{\"value\":[\"id\",\"es\",\"th\"]},\"papago_tweet_translation_to_korean\":{\"value\":false},\"papago_tweet_translation_to_korean_sources\":{\"value\":[\"en\",\"ja\"]},\"payments_account_details_enabled\":{\"value\":false},\"payments_card_spend_enabled\":{\"value\":false},\"payments_cards_as_payment_method_enabled\":{\"value\":false},\"payments_enabled\":{\"value\":false},\"payments_forward_with_enabled\":{\"value\":false},\"payments_interest_enabled\":{\"value\":false},\"payments_pin_enabled\":{\"value\":false},\"payments_pin_link_payment_methods_enabled\":{\"value\":false},\"payments_pin_login_enabled\":{\"value\":false},\"payments_qr_onboarding_enabled\":{\"value\":false},\"payments_settings_documents_enabled\":{\"value\":false},\"premium_content_api_read_enabled\":{\"value\":false},\"premium_webview_paywall_force_premium_tier_enabled\":{\"value\":false},\"premium_webview_paywall_offer_image_url\":{\"value\":\"https://abs.twimg.com/images/anniversary_wide.png\"},\"premium_webview_paywall_offer_variant\":{\"value\":\"\"},\"premium_webview_paywall_offer_video_url\":{\"value\":\"https://abs.twimg.com/images/anniversary-theme.mp4\"},\"professional_launchpad_m1_enabled\":{\"value\":true},\"professional_launchpad_mobile_promotable_timeline\":{\"value\":false},\"professional_launchpad_upload_address_book\":{\"value\":true},\"profile_label_improvements_pcf_edit_profile_enabled\":{\"value\":true},\"profile_label_improvements_pcf_label_in_post_enabled\":{\"value\":true},\"profile_label_improvements_pcf_settings_enabled\":{\"value\":true},\"promoted_badge_placement_position\":{\"value\":\"right_tweet_header_ad_label\"},\"recruiting_admin_currencies_enabled\":{\"value\":true},\"recruiting_global_jobs_search_enabled\":{\"value\":true},\"recruiting_job_page_consumption_enabled\":{\"value\":true},\"recruiting_job_recommendations_enabled\":{\"value\":false},\"recruiting_job_search_ai_companies_filter_enabled\":{\"value\":false},\"recruiting_jobs_list_consumption_enabled\":{\"value\":true},\"recruiting_jobs_list_search_enabled\":{\"value\":true},\"recruiting_jobs_list_share_enabled\":{\"value\":true},\"recruiting_pin_job_enabled\":{\"value\":true},\"recruiting_premium_jobs_enabled\":{\"value\":true},\"recruiting_promoted_jobs_enabled\":{\"value\":true},\"recruiting_search_filters_enabled\":{\"value\":true},\"recruiting_verified_orgs_admin_enabled\":{\"value\":true},\"recruiting_verified_orgs_ats_integration_enabled\":{\"value\":true},\"recruiting_verified_orgs_enroll_allowed\":{\"value\":true},\"reply_sorting_enabled\":{\"value\":true},\"report_center_mvp_r1_enabled\":{\"value\":true},\"report_center_mvp_r2_enabled\":{\"value\":false},\"responsive_web_3rd_party_category_branch\":{\"value\":3},\"responsive_web_3rd_party_category_double_click\":{\"value\":3},\"responsive_web_3rd_party_category_external_referer\":{\"value\":3},\"responsive_web_3rd_party_category_ga\":{\"value\":3},\"responsive_web_3rd_party_category_google_platform\":{\"value\":2},\"responsive_web_3rd_party_category_google_recaptcha\":{\"value\":2},\"responsive_web_3rd_party_category_player_card\":{\"value\":3},\"responsive_web_3rd_party_category_sentry\":{\"value\":2},\"responsive_web_3rd_party_category_sign_in_with_apple\":{\"value\":2},\"responsive_web_account_access_language_lo_banners\":{\"value\":\"control\"},\"responsive_web_account_access_language_lo_splash_sidebar\":{\"value\":\"control\"},\"responsive_web_account_analytics_timeframe_enabled\":{\"value\":true},\"responsive_web_account_analytics_timeseries_enabled\":{\"value\":true},\"responsive_web_ad_revenue_sharing_enabled\":{\"value\":true},\"responsive_web_ad_revenue_sharing_number_of_impressions\":{\"value\":5},\"responsive_web_ad_revenue_sharing_setup_enabled\":{\"value\":true},\"responsive_web_ad_revenue_sharing_total_earnings_enabled\":{\"value\":false},\"responsive_web_ad_revenue_sharing_url_update_enabled\":{\"value\":true},\"responsive_web_alt_text_nudges_enabled\":{\"value\":true},\"responsive_web_alt_text_nudges_settings_enabled\":{\"value\":true},\"responsive_web_alt_text_translations_enabled\":{\"value\":true},\"responsive_web_api_transition_enabled\":{\"value\":true},\"responsive_web_article_nudge_enabled\":{\"value\":true},\"responsive_web_audio_space_ring_home_timeline\":{\"value\":false},\"responsive_web_author_labels_avatar_label_enabled\":{\"value\":false},\"responsive_web_author_labels_focal_label_enabled\":{\"value\":false},\"responsive_web_author_labels_handle_label_enabled\":{\"value\":false},\"responsive_web_birdwatch_consumption_enabled\":{\"value\":true},\"responsive_web_birdwatch_contribution_enabled\":{\"value\":false},\"responsive_web_birdwatch_country_allowed\":{\"value\":true},\"responsive_web_birdwatch_fast_crh_time_from_note_cutoff\":{\"value\":3600000},\"responsive_web_birdwatch_fast_crh_time_from_post_cutoff\":{\"value\":3600000},\"responsive_web_birdwatch_fast_notes_badge_enabled\":{\"value\":false},\"responsive_web_birdwatch_match_page_enabled\":{\"value\":true},\"responsive_web_birdwatch_media_note_eligible_writer_impact_cutoff\":{\"value\":2},\"responsive_web_birdwatch_media_notes_enabled\":{\"value\":true},\"responsive_web_birdwatch_netzdg_enabled\":{\"value\":false},\"responsive_web_birdwatch_note_limit_enabled\":{\"value\":true},\"responsive_web_birdwatch_note_request_download_enabled\":{\"value\":false},\"responsive_web_birdwatch_note_request_enabled\":{\"value\":true},\"responsive_web_birdwatch_note_request_sources_enabled\":{\"value\":true},\"responsive_web_birdwatch_note_writing_enabled\":{\"value\":false},\"responsive_web_birdwatch_pivots_enabled\":{\"value\":true},\"responsive_web_birdwatch_rating_crowd_enabled\":{\"value\":true},\"responsive_web_birdwatch_rating_participant_enabled\":{\"value\":false},\"responsive_web_birdwatch_read_sources_nudge\":{\"value\":\"control\"},\"responsive_web_birdwatch_require_rating_before_writing_enabled\":{\"value\":true},\"responsive_web_birdwatch_self_remove_enabled\":{\"value\":true},\"responsive_web_birdwatch_signup_prompt_enabled\":{\"value\":true},\"responsive_web_birdwatch_site_enabled\":{\"value\":true},\"responsive_web_birdwatch_top_contributor_enabled\":{\"value\":true},\"responsive_web_birdwatch_top_contributor_ratio_cutoff\":{\"value\":4},\"responsive_web_birdwatch_top_contributor_score_cutoff\":{\"value\":10},\"responsive_web_birdwatch_translation_enabled\":{\"value\":true},\"responsive_web_birdwatch_url_notes_enabled\":{\"value\":false},\"responsive_web_card_conversion_hoisted\":{\"value\":\"off\"},\"responsive_web_card_preconnect_enabled\":{\"value\":false},\"responsive_web_carousel_v2_cards_non_safari_enabled\":{\"value\":false},\"responsive_web_carousel_v2_cards_safari_variant\":{\"value\":\"control\"},\"responsive_web_carousel_v2_media_detail_enabled\":{\"value\":false},\"responsive_web_chat_enabled\":{\"value\":true},\"responsive_web_collection_ads_enabled\":{\"value\":true},\"responsive_web_commerce_shop_spotlight_enabled\":{\"value\":false},\"responsive_web_communities_slices_enabled\":{\"value\":true},\"responsive_web_communityboost_form_enabled\":{\"value\":false},\"responsive_web_compact_media_max_height\":{\"value\":0},\"responsive_web_compact_media_max_height_enabled_for_all\":{\"value\":false},\"responsive_web_composer_autosave_debounce_ms\":{\"value\":2000},\"responsive_web_composer_autosave_enabled\":{\"value\":false},\"responsive_web_composer_configurable_video_player_enabled\":{\"value\":false},\"responsive_web_convert_card_video_to_gif_enabled\":{\"value\":false},\"responsive_web_cookie_compliance_1st_party_killswitch_list\":{\"value\":[]},\"responsive_web_cookie_compliance_banner_enabled\":{\"value\":false},\"responsive_web_cookie_compliance_gingersnap_enabled\":{\"value\":false},\"responsive_web_cookie_consent_signal_enabled\":{\"value\":false},\"responsive_web_creator_preferences_previews_enabled_setting\":{\"value\":true},\"responsive_web_dcm_2_enabled\":{\"value\":true},\"responsive_web_deamplification_replies_dropdown_selector_enabled\":{\"value\":false},\"responsive_web_delete_tweet_stats_enabled\":{\"value\":true},\"responsive_web_device_follow_without_user_follow_enabled\":{\"value\":false},\"responsive_web_disconnect_third_party_sso_enabled\":{\"value\":true},\"responsive_web_dm_label_enabled\":{\"value\":false},\"responsive_web_dockable_autoplay_policy_enabled\":{\"value\":true},\"responsive_web_edit_active_subscription_enabled\":{\"value\":true},\"responsive_web_edit_tweet_api_enabled\":{\"value\":true},\"responsive_web_edit_tweet_composition_enabled\":{\"value\":true},\"responsive_web_edit_tweet_enabled\":{\"value\":false},\"responsive_web_edit_tweet_perspective_enabled\":{\"value\":false},\"responsive_web_edit_tweet_upsell_enabled\":{\"value\":true},\"responsive_web_element_size_impression_scribe_enabled\":{\"value\":true},\"responsive_web_enhance_cards_enabled\":{\"value\":false},\"responsive_web_eu_countries\":{\"value\":[\"at\",\"be\",\"bg\",\"ch\",\"cy\",\"cz\",\"de\",\"dk\",\"ee\",\"es\",\"fi\",\"fr\",\"gb\",\"gr\",\"hr\",\"hu\",\"ie\",\"is\",\"it\",\"li\",\"lt\",\"lu\",\"lv\",\"mt\",\"nl\",\"no\",\"pl\",\"pt\",\"ro\",\"se\",\"si\",\"sk\"]},\"responsive_web_exodus_enabled\":{\"value\":false},\"responsive_web_explorer_ads_enabled\":{\"value\":true},\"responsive_web_extension_compatibility_hide\":{\"value\":false},\"responsive_web_extension_compatibility_impression_guard\":{\"value\":true},\"responsive_web_extension_compatibility_override_param\":{\"value\":false},\"responsive_web_extension_compatibility_scribe\":{\"value\":true},\"responsive_web_extension_compatibility_size_threshold\":{\"value\":50},\"responsive_web_fetch_hashflags_on_boot\":{\"value\":true},\"responsive_web_framerate_tracking_home_enabled\":{\"value\":false},\"responsive_web_graphql_exclude_directive_enabled\":{\"value\":true},\"responsive_web_graphql_feedback\":{\"value\":true},\"responsive_web_graphql_skip_user_profile_image_extensions_enabled\":{\"value\":false},\"responsive_web_graphql_timeline_navigation_enabled\":{\"value\":true},\"responsive_web_grok_05221996\":{\"value\":false},\"responsive_web_grok_add_response_num_retries\":{\"value\":0},\"responsive_web_grok_analysis_button_from_backend\":{\"value\":true},\"responsive_web_grok_analyze_animation\":{\"value\":true},\"responsive_web_grok_analyze_button_fetch_trends_enabled\":{\"value\":false},\"responsive_web_grok_analyze_focal_post_enabled\":{\"value\":true},\"responsive_web_grok_analyze_post_followups_enabled\":{\"value\":false},\"responsive_web_grok_animated_text_enabled\":{\"value\":true},\"responsive_web_grok_api_enable_grok_host\":{\"value\":true},\"responsive_web_grok_atgrok_sample_rate\":{\"value\":0.5},\"responsive_web_grok_backend_prompts_enabled\":{\"value\":true},\"responsive_web_grok_continue_in_grok_enabled\":{\"value\":true},\"responsive_web_grok_debug_enabled\":{\"value\":false},\"responsive_web_grok_delete_conversations_enabled\":{\"value\":true},\"responsive_web_grok_dev_universal_search_id_enabled\":{\"value\":false},\"responsive_web_grok_edit_user_images\":{\"value\":false},\"responsive_web_grok_enable_add_response_keepalive\":{\"value\":false},\"responsive_web_grok_enable_deepersearch\":{\"value\":true},\"responsive_web_grok_enable_deepsearch_notifications\":{\"value\":true},\"responsive_web_grok_enable_file_attachment_with_deepsearch\":{\"value\":true},\"responsive_web_grok_enable_file_attachment_with_think\":{\"value\":true},\"responsive_web_grok_enable_input_advanced_settings\":{\"value\":true},\"responsive_web_grok_enable_model_tool_toggle\":{\"value\":true},\"responsive_web_grok_feed\":{\"value\":false},\"responsive_web_grok_feedback_label_dropdown\":{\"value\":true},\"responsive_web_grok_file_compression_enabled\":{\"value\":true},\"responsive_web_grok_file_max_size\":{\"value\":20971520},\"responsive_web_grok_file_upload_enabled\":{\"value\":true},\"responsive_web_grok_file_upload_max_files\":{\"value\":15},\"responsive_web_grok_finance_cards_enabled\":{\"value\":false},\"responsive_web_grok_fix_same_id_reload\":{\"value\":true},\"responsive_web_grok_focus_mode\":{\"value\":true},\"responsive_web_grok_fun_mode_disabled\":{\"value\":true},\"responsive_web_grok_general_availability\":{\"value\":false},\"responsive_web_grok_highlighted_prompt_clicks_until_fatigue\":{\"value\":-1},\"responsive_web_grok_history_search_enabled\":{\"value\":true},\"responsive_web_grok_image_annotation_enabled\":{\"value\":true},\"responsive_web_grok_image_edit\":{\"value\":true},\"responsive_web_grok_image_prompts_enabled\":{\"value\":true},\"responsive_web_grok_img_composer\":{\"value\":true},\"responsive_web_grok_img_gen_followup_attachments\":{\"value\":true},\"responsive_web_grok_imggen_count\":{\"value\":4},\"responsive_web_grok_in_app_learn_more\":{\"value\":\"https://x.com/xai/status/1823597788573098215\"},\"responsive_web_grok_links\":{\"value\":true},\"responsive_web_grok_location_enabled\":{\"value\":true},\"responsive_web_grok_media_carousel_enabled\":{\"value\":true},\"responsive_web_grok_multimedia_results\":{\"value\":false},\"responsive_web_grok_new_icon\":{\"value\":true},\"responsive_web_grok_opt_out_enabled\":{\"value\":true},\"responsive_web_grok_pdf_upload_enabled\":{\"value\":true},\"responsive_web_grok_personality\":{\"value\":true},\"responsive_web_grok_personality_button_enabled\":{\"value\":false},\"responsive_web_grok_places_card_enabled\":{\"value\":false},\"responsive_web_grok_post_composer\":{\"value\":true},\"responsive_web_grok_post_image_understanding_enabled\":{\"value\":false},\"responsive_web_grok_post_understanding_button_on_all_posts\":{\"value\":false},\"responsive_web_grok_profile_summary_enabled\":{\"value\":true},\"responsive_web_grok_profile_summary_min_followers\":{\"value\":50},\"responsive_web_grok_profile_summary_min_posts\":{\"value\":15},\"responsive_web_grok_promo_banner\":{\"value\":false},\"responsive_web_grok_prompt_edit_enabled\":{\"value\":true},\"responsive_web_grok_regen_configs\":{\"value\":true},\"responsive_web_grok_robot_icon\":{\"value\":false},\"responsive_web_grok_route_disabled_search_think_to_paywall\":{\"value\":true},\"responsive_web_grok_rtl_detection\":{\"value\":true},\"responsive_web_grok_rweb_xai_request_id_enabled\":{\"value\":true},\"responsive_web_grok_search_first\":{\"value\":true},\"responsive_web_grok_search_summary_enabled\":{\"value\":false},\"responsive_web_grok_search_summary_images_enabled\":{\"value\":true},\"responsive_web_grok_search_summary_sidebar\":{\"value\":true},\"responsive_web_grok_share_attachment_enabled\":{\"value\":true},\"responsive_web_grok_share_rendering_enabled\":{\"value\":true},\"responsive_web_grok_show_android_promo_banner\":{\"value\":true},\"responsive_web_grok_show_citations\":{\"value\":true},\"responsive_web_grok_show_grok_performance_metrics\":{\"value\":false},\"responsive_web_grok_show_grok_translated_post\":{\"value\":false},\"responsive_web_grok_show_grok_tweet_media\":{\"value\":false},\"responsive_web_grok_show_message_post_button\":{\"value\":true},\"responsive_web_grok_show_message_reply_button\":{\"value\":true},\"responsive_web_grok_sport_cards_enabled\":{\"value\":false},\"responsive_web_grok_start_mobile_layout_enabled\":{\"value\":true},\"responsive_web_grok_start_title_experiment_enabled\":{\"value\":false},\"responsive_web_grok_text_selection_enabled\":{\"value\":false},\"responsive_web_grok_text_upload_enabled\":{\"value\":true},\"responsive_web_grok_trends_design_enabled\":{\"value\":false},\"responsive_web_grok_tweet_translation\":{\"value\":false},\"responsive_web_grok_tweet_translation_limit\":{\"value\":5000},\"responsive_web_grok_use_new_layout\":{\"value\":true},\"responsive_web_grok_user_active_seconds_enable\":{\"value\":true},\"responsive_web_grok_user_seconds_debug\":{\"value\":false},\"responsive_web_grok_user_seconds_heartbeat\":{\"value\":5000},\"responsive_web_grok_v2_start_screen_enabled\":{\"value\":true},\"responsive_web_grok_v2_upsell_enabled\":{\"value\":false},\"responsive_web_grok_weather_card_enabled\":{\"value\":false},\"responsive_web_grok_web_results\":{\"value\":true},\"responsive_web_grok_webview_file_actions_enabled\":{\"value\":false},\"responsive_web_grok_webview_file_upload_enabled\":{\"value\":true},\"responsive_web_grok_xai_icon\":{\"value\":true},\"responsive_web_hashtag_highlight_is_enabled\":{\"value\":false},\"responsive_web_hashtag_highlight_show_avatar\":{\"value\":false},\"responsive_web_hashtag_highlight_use_small_font\":{\"value\":false},\"responsive_web_hevc_upload_preview_enabled\":{\"value\":false},\"responsive_web_home_pinned_timelines_prefetch_enabled\":{\"value\":false},\"responsive_web_impression_tracker_refactor_enabled\":{\"value\":true},\"responsive_web_in_text_shortcuts_enabled\":{\"value\":true},\"responsive_web_install_banner_show_immediate\":{\"value\":false},\"responsive_web_instream_video_redesign_enabled\":{\"value\":true},\"responsive_web_intercom_support_capture_premium_enabled\":{\"value\":false},\"responsive_web_jetfuel_frame\":{\"value\":false},\"responsive_web_lbm_v2_home_enabled\":{\"value\":false},\"responsive_web_lbm_v2_replies_enabled\":{\"value\":false},\"responsive_web_list_tweet_integration_enabled\":{\"value\":false},\"responsive_web_live_commerce_enabled\":{\"value\":false},\"responsive_web_live_screen_enabled\":{\"value\":true},\"responsive_web_locale_context_direction_enabled\":{\"value\":true},\"responsive_web_location_spotlight_display_map\":{\"value\":true},\"responsive_web_location_spotlight_v1_config\":{\"value\":true},\"responsive_web_location_spotlight_v1_display\":{\"value\":true},\"responsive_web_logged_out_grok_button_enabled\":{\"value\":false},\"responsive_web_logged_out_notifications_enabled\":{\"value\":true},\"responsive_web_logged_out_notifications_fatigue_days_count\":{\"value\":7},\"responsive_web_logged_out_notifications_including_home\":{\"value\":false},\"responsive_web_logged_out_read_replies_pivot_enabled\":{\"value\":true},\"responsive_web_logged_out_redesign_enabled\":{\"value\":false},\"responsive_web_login_input_type_email_enabled\":{\"value\":false},\"responsive_web_login_signup_sheet_app_install_cta_enabled\":{\"value\":false},\"responsive_web_media_download_video_share_menu_enabled\":{\"value\":true},\"responsive_web_media_upload_limit_2g\":{\"value\":250},\"responsive_web_media_upload_limit_3g\":{\"value\":1500},\"responsive_web_media_upload_limit_slow_2g\":{\"value\":150},\"responsive_web_media_upload_md5_hashing_enabled\":{\"value\":true},\"responsive_web_media_upload_metrics_enabled\":{\"value\":true},\"responsive_web_media_upload_target_jpg_pixels_per_byte\":{\"value\":1},\"responsive_web_messages_continue_enabled\":{\"value\":true},\"responsive_web_messages_enabled\":{\"value\":true},\"responsive_web_messages_search_enabled\":{\"value\":true},\"responsive_web_messages_watch_info_enabled\":{\"value\":false},\"responsive_web_messages_watch_info_interval_s\":{\"value\":600},\"responsive_web_mobile_app_spotlight_v1_config\":{\"value\":false},\"responsive_web_mobile_app_spotlight_v1_display\":{\"value\":false},\"responsive_web_multiple_account_limit\":{\"value\":5},\"responsive_web_not_a_bot_signups_enabled\":{\"value\":false},\"responsive_web_ocf_2fa_x_migration\":{\"value\":false},\"responsive_web_ocf_reportflow_appeals_enabled\":{\"value\":false},\"responsive_web_ocf_reportflow_dms_enabled\":{\"value\":false},\"responsive_web_ocf_reportflow_lists_enabled\":{\"value\":true},\"responsive_web_ocf_reportflow_profiles_enabled\":{\"value\":true},\"responsive_web_ocf_reportflow_promoted_enabled\":{\"value\":false},\"responsive_web_ocf_reportflow_spaces_enabled\":{\"value\":false},\"responsive_web_ocf_reportflow_suspension_appeals_enabled\":{\"value\":false},\"responsive_web_ocf_reportflow_testers\":{\"value\":false},\"responsive_web_ocf_reportflow_tweets_enabled\":{\"value\":true},\"responsive_web_ocf_sms_autoverify_darkwrite\":{\"value\":false},\"responsive_web_ocf_sms_autoverify_enabled\":{\"value\":false},\"responsive_web_offscreen_video_scroller_removal_enabled\":{\"value\":false},\"responsive_web_one_hour_edit_window_enabled\":{\"value\":true},\"responsive_web_open_in_app_prompt_enabled\":{\"value\":false},\"responsive_web_passwordless_sso_enabled\":{\"value\":false},\"responsive_web_personalization_id_sync_enabled\":{\"value\":false},\"responsive_web_pinned_replies_enabled\":{\"value\":false},\"responsive_web_placeholder_siwg_button_enabled\":{\"value\":false},\"responsive_web_prerolls_fullscreen_disabled_on_ios\":{\"value\":false},\"responsive_web_professional_journeys_holdback_enabled\":{\"value\":false},\"responsive_web_profile_header_search_button_enabled\":{\"value\":true},\"responsive_web_profile_search_signup_guard\":{\"value\":false},\"responsive_web_profile_spotlight_v0_config\":{\"value\":true},\"responsive_web_profile_spotlight_v0_display\":{\"value\":true},\"responsive_web_qp_full_popup_enabled\":{\"value\":false},\"responsive_web_qp_keyword_targeting_enabled\":{\"value\":false},\"responsive_web_qp_new_payment_enabled\":{\"value\":false},\"responsive_web_qp_skip_objective_enabled\":{\"value\":true},\"responsive_web_qp_two_screens_enabled\":{\"value\":true},\"responsive_web_redux_use_fragment_enabled\":{\"value\":false},\"responsive_web_repeat_profile_visits_notifications_device_follow_only_version_enabled\":{\"value\":false},\"responsive_web_repeat_profile_visits_notifications_enabled\":{\"value\":false},\"responsive_web_reply_storm_enabled\":{\"value\":false},\"responsive_web_report_page_not_found\":{\"value\":false},\"responsive_web_saved_search_enabled\":{\"value\":false},\"responsive_web_scheduling_threads_enabled\":{\"value\":false},\"responsive_web_scribe_media_component\":{\"value\":true},\"responsive_web_scroller_top_positioning_enabled\":{\"value\":false},\"responsive_web_seasonal_custom_logo\":{\"value\":\"IconTwitter\"},\"responsive_web_send_cookies_metadata_enabled\":{\"value\":true},\"responsive_web_share_only_tweet_url_omit_title_and_text\":{\"value\":true},\"responsive_web_show_similar_posts_action_enabled\":{\"value\":false},\"responsive_web_show_similar_posts_pivots_enabled\":{\"value\":true},\"responsive_web_sidebar_ttf_enabled\":{\"value\":false},\"responsive_web_signup_direct\":{\"value\":false},\"responsive_web_spud_enabled\":{\"value\":true},\"responsive_web_sso_redirect_enabled\":{\"value\":true},\"responsive_web_stripe_account_creation_enabled\":{\"value\":true},\"responsive_web_subscribers_ntab_for_creators_enabled\":{\"value\":true},\"responsive_web_subscriptions_setting_enabled\":{\"value\":true},\"responsive_web_suppress_app_button_banner_suppressed\":{\"value\":false},\"responsive_web_temporary_ocf_x_migration\":{\"value\":false},\"responsive_web_thread_media_ensure_root_urt\":{\"value\":false},\"responsive_web_thread_media_nav_enabled\":{\"value\":false},\"responsive_web_thread_media_tooltip\":{\"value\":false},\"responsive_web_timeline_cover_killswitch_enabled\":{\"value\":false},\"responsive_web_timeline_relay_lists_management_enabled\":{\"value\":false},\"responsive_web_timeline_relay_user_lists_enabled\":{\"value\":false},\"responsive_web_tracer_global_trace_sample_rate\":{\"value\":1},\"responsive_web_translation_feedback_enabled\":{\"value\":true},\"responsive_web_trends_setting_new_endpoints\":{\"value\":false},\"responsive_web_trends_ui_community_notes_enabled\":{\"value\":false},\"responsive_web_trends_ui_top_articles\":{\"value\":true},\"responsive_web_tv_cast_enabled\":{\"value\":true},\"responsive_web_tv_screen_logging_enabled\":{\"value\":false},\"responsive_web_tweet_analytics_m3_enabled\":{\"value\":false},\"responsive_web_tweet_analytics_promoted_audience_demographics_enabled\":{\"value\":false},\"responsive_web_tweet_analytics_video_metrics_v2_enabled\":{\"value\":true},\"responsive_web_tweet_drafts_threads_enabled\":{\"value\":false},\"responsive_web_tweet_drafts_video_enabled\":{\"value\":true},\"responsive_web_twitter_article_batch_posts\":{\"value\":true},\"responsive_web_twitter_article_block_limit\":{\"value\":10000},\"responsive_web_twitter_article_character_limit\":{\"value\":100},\"responsive_web_twitter_article_code_block_enabled\":{\"value\":true},\"responsive_web_twitter_article_code_language_typeahead_enabled\":{\"value\":true},\"responsive_web_twitter_article_content_debounce_ms\":{\"value\":3000},\"responsive_web_twitter_article_latex_enabled\":{\"value\":true},\"responsive_web_twitter_article_markdown_block_limit\":{\"value\":10},\"responsive_web_twitter_article_markdown_enabled\":{\"value\":false},\"responsive_web_twitter_article_notes_tab_enabled\":{\"value\":true},\"responsive_web_twitter_article_plain_text_enabled\":{\"value\":true},\"responsive_web_twitter_article_reader_enabled\":{\"value\":true},\"responsive_web_twitter_article_redirect_enabled\":{\"value\":true},\"responsive_web_twitter_article_seed_tweet_detail_enabled\":{\"value\":true},\"responsive_web_twitter_article_seed_tweet_enabled\":{\"value\":true},\"responsive_web_twitter_article_seed_tweet_summary_enabled\":{\"value\":true},\"responsive_web_twitter_article_title_limit\":{\"value\":100},\"responsive_web_twitter_article_tweet_consumption_enabled\":{\"value\":true},\"responsive_web_twitter_blue_subscriptions_disabled\":{\"value\":false},\"responsive_web_twitter_blue_verified_badge_ntab_empty_state_enabled\":{\"value\":true},\"responsive_web_use_app_button_variations\":{\"value\":\"control\"},\"responsive_web_use_app_prompt_copy_variant\":{\"value\":\"prompt_better\"},\"responsive_web_use_app_prompt_enabled\":{\"value\":false},\"responsive_web_use_badge_counts_for_ntab\":{\"value\":false},\"responsive_web_user_badge_education_get_verified_button_enabled\":{\"value\":true},\"responsive_web_verified_organizations_affiliate_fetch_limit\":{\"value\":3000},\"responsive_web_verified_organizations_free_to_invoice_enabled\":{\"value\":false},\"responsive_web_verified_organizations_free_upgrade_promo_enabled\":{\"value\":true},\"responsive_web_verified_organizations_handle_form_enabled\":{\"value\":true},\"responsive_web_verified_organizations_idv_enabled\":{\"value\":false},\"responsive_web_verified_organizations_insights_enabled\":{\"value\":true},\"responsive_web_verified_organizations_intercom_enabled\":{\"value\":true},\"responsive_web_verified_organizations_invoice_enabled\":{\"value\":false},\"responsive_web_verified_organizations_invoice_update_enabled\":{\"value\":false},\"responsive_web_verified_organizations_new_signup_enabled\":{\"value\":true},\"responsive_web_verified_organizations_new_year_offer_enabled\":{\"value\":true},\"responsive_web_verified_organizations_paid_to_invoice_enabled\":{\"value\":false},\"responsive_web_verified_organizations_people_search_enabled\":{\"value\":false},\"responsive_web_verified_organizations_people_search_follow_enabled\":{\"value\":false},\"responsive_web_verified_organizations_people_search_onboarding_enabled\":{\"value\":false},\"responsive_web_verified_organizations_xbusiness_enabled\":{\"value\":false},\"responsive_web_video_pcomplete_enabled\":{\"value\":true},\"responsive_web_video_promoted_logging_enabled\":{\"value\":true},\"responsive_web_video_trimmer_enabled\":{\"value\":false},\"responsive_web_vo_annual_credit_increase_enabled\":{\"value\":true},\"responsive_web_vo_basic_application_enabled\":{\"value\":true},\"responsive_web_x_translation_enabled\":{\"value\":false},\"rweb_analytics_audience_compact_mode\":{\"value\":true},\"rweb_analytics_audience_xweb_enabled\":{\"value\":true},\"rweb_analytics_export_data_content_enabled\":{\"value\":true},\"rweb_analytics_export_data_enabled\":{\"value\":true},\"rweb_analytics_in_out_network_enabled\":{\"value\":true},\"rweb_analytics_live_details_enabled\":{\"value\":false},\"rweb_analytics_live_overview_enabled\":{\"value\":false},\"rweb_analytics_nav_item_enabled\":{\"value\":false},\"rweb_analytics_post_detail_enabled\":{\"value\":true},\"rweb_analytics_spaces_details_enabled\":{\"value\":true},\"rweb_analytics_spaces_overview_enabled\":{\"value\":true},\"rweb_analytics_theme\":{\"value\":false},\"rweb_analytics_upsell_variant\":{\"value\":\"\"},\"rweb_analytics_xweb_content_page\":{\"value\":true},\"rweb_cache_spacebar_enabled\":{\"value\":true},\"rweb_client_transaction_id_enabled\":{\"value\":true},\"rweb_conf_dev_enabled\":{\"value\":false},\"rweb_conf_multi_video_enabled\":{\"value\":true},\"rweb_conf_only_enabled\":{\"value\":false},\"rweb_conf_rnnoise_enabled\":{\"value\":true},\"rweb_enable_logged_out_search_search_bar_enabled\":{\"value\":false},\"rweb_graphql_notifications_tab_enabled\":{\"value\":true},\"rweb_home_compact_timeline_enabled\":{\"value\":false},\"rweb_home_mixer_enable_social_context_filter_social_contexts\":{\"value\":true},\"rweb_home_nav_single_direction_scroll_enabled\":{\"value\":false},\"rweb_home_refetch_on_refocus_min_delay_seconds\":{\"value\":60},\"rweb_jetfuel_sdkv2_with_x_web\":{\"value\":false},\"rweb_live_broadcast_rewind_enabled\":{\"value\":true},\"rweb_live_dock_enabled\":{\"value\":true},\"rweb_master_detail_enabled\":{\"value\":false},\"rweb_media_carousel_enabled\":{\"value\":false},\"rweb_media_multi_requests_enabled\":{\"value\":true},\"rweb_mixed_media_uploads_cap\":{\"value\":4},\"rweb_mixed_media_uploads_enabled\":{\"value\":true},\"rweb_mvr_blurred_media_interstitial_enabled\":{\"value\":true},\"rweb_panning_nav_behavior\":{\"value\":true},\"rweb_picture_in_picture_enabled\":{\"value\":true},\"rweb_quick_promote_boost_enabled\":{\"value\":false},\"rweb_recommendations_sidebar_graphql_enabled\":{\"value\":false},\"rweb_save_video_progress_enabled\":{\"value\":false},\"rweb_search_media_enabled\":{\"value\":true},\"rweb_sidebar_lower_whats_happening_enabled\":{\"value\":false},\"rweb_sourcemap_migration\":{\"value\":false},\"rweb_sourcemap_migration_enable_suggested_video\":{\"value\":false},\"rweb_sourcemap_migration_side_expand_by_default\":{\"value\":true},\"rweb_spaces_invite_search_enabled\":{\"value\":true},\"rweb_spaces_next_codec_enabled\":{\"value\":true},\"rweb_ssp_ads_enabled\":{\"value\":false},\"rweb_timeline_inline_show_more_enabled\":{\"value\":true},\"rweb_tipjar_consumption_enabled\":{\"value\":true},\"rweb_tweets_boosting_enabled\":{\"value\":false},\"rweb_tweets_reply_context_hidden\":{\"value\":true},\"rweb_tweets_tweet_detail_font_size\":{\"value\":\"headline2\"},\"rweb_update_fatigue_switch_to_app_day_timeout\":{\"value\":7},\"rweb_update_fatigue_switch_to_app_link\":{\"value\":\"BannerSwitchToApp\"},\"rweb_updated_broadcast_screen\":{\"value\":false},\"rweb_video_logged_in_analytics_enabled\":{\"value\":true},\"rweb_video_pip_enabled\":{\"value\":true},\"rweb_video_screen_enabled\":{\"value\":false},\"rweb_video_tagging_enabled\":{\"value\":false},\"rweb_video_vertical_aspect_ratio_enabled\":{\"value\":false},\"rweb_xchat_enabled\":{\"value\":false},\"sc_mock_data_enabled\":{\"value\":false},\"sc_r4_enabled\":{\"value\":false},\"scribe_api_error_sample_size\":{\"value\":0},\"scribe_api_sample_size\":{\"value\":100},\"scribe_cdn_host_list\":{\"value\":[\"si0.twimg.com\",\"si1.twimg.com\",\"si2.twimg.com\",\"si3.twimg.com\",\"a0.twimg.com\",\"a1.twimg.com\",\"a2.twimg.com\",\"a3.twimg.com\",\"abs.twimg.com\",\"amp.twimg.com\",\"o.twimg.com\",\"pbs.twimg.com\",\"pbs-eb.twimg.com\",\"pbs-ec.twimg.com\",\"pbs-v6.twimg.com\",\"pbs-h1.twimg.com\",\"pbs-h2.twimg.com\",\"video.twimg.com\",\"platform.twitter.com\",\"cdn.api.twitter.com\",\"ton.twimg.com\",\"v.cdn.vine.co\",\"mtc.cdn.vine.co\",\"edge.vncdn.co\",\"mid.vncdn.co\"]},\"scribe_cdn_sample_size\":{\"value\":50},\"scribe_web_nav_sample_size\":{\"value\":100},\"search_results_disable_latest_tab_when_logged_out\":{\"value\":false},\"search_timelines_graphql_enabled\":{\"value\":true},\"sensitive_media_settings_enabled\":{\"value\":false},\"sensitive_tweet_warnings_enabled\":{\"value\":true},\"settings_for_you_recommendation_enabled\":{\"value\":false},\"shortened_tracking_parameters_mapping\":{\"value\":[\"01:twcamp^share|twsrc^android|twgr^sms\",\"02:twcamp^share|twsrc^android|twgr^email\",\"03:twcamp^share|twsrc^android|twgr^gmail\",\"04:twcamp^share|twsrc^android|twgr^facebook\",\"05:twcamp^share|twsrc^android|twgr^wechat\",\"06:twcamp^share|twsrc^android|twgr^line\",\"07:twcamp^share|twsrc^android|twgr^fbmessenger\",\"08:twcamp^share|twsrc^android|twgr^whatsapp\",\"09:twcamp^share|twsrc^android|twgr^other\",\"10:twcamp^share|twsrc^ios|twgr^sms\",\"11:twcamp^share|twsrc^ios|twgr^email\",\"12:twcamp^share|twsrc^ios|twgr^other\",\"13:twcamp^share|twsrc^android|twgr^download\",\"14:twcamp^share|twsrc^ios|twgr^download\",\"15:twcamp^share|twsrc^android|twgr^hangouts\",\"16:twcamp^share|twsrc^android|twgr^twitterdm\",\"17:twcamp^share|twsrc^m5|twgr^email\",\"18:twcamp^share|twsrc^m5|twgr^download\",\"19:twcamp^share|twsrc^android|twgr^copy\",\"20:twcamp^share|twsrc^m5|twgr^copy\",\"21:twcamp^share|twsrc^ios|twgr^copy\",\"22:twcamp^share|twsrc^ios|twgr^snapchat\",\"23:twcamp^share|twsrc^android|twgr^snapchat\",\"24:twcamp^share|twsrc^ios|twgr^whatsapp\",\"25:twcamp^share|twsrc^ios|twgr^fbmessenger\",\"26:twcamp^share|twsrc^ios|twgr^facebook\",\"27:twcamp^share|twsrc^ios|twgr^gmail\",\"28:twcamp^share|twsrc^ios|twgr^telegram\",\"29:twcamp^share|twsrc^ios|twgr^line\",\"30:twcamp^share|twsrc^ios|twgr^viber\",\"31:twcamp^share|twsrc^android|twgr^slack\",\"32:twcamp^share|twsrc^android|twgr^kakao\",\"33:twcamp^share|twsrc^android|twgr^discord\",\"34:twcamp^share|twsrc^android|twgr^reddit\",\"35:twcamp^share|twsrc^android|twgr^telegram\",\"36:twcamp^share|twsrc^android|twgr^instagram\",\"37:twcamp^share|twsrc^android|twgr^daum\",\"38:twcamp^share|twsrc^ios|twgr^instagram\",\"39:twcamp^share|twsrc^ios|twgr^linkedin\",\"40:twcamp^share|twsrc^android|twgr^linkedin\",\"41:twcamp^share|twsrc^gryphon|twgr^copy\",\"42:twcamp^share|twsrc^iphone|twgr^sms\",\"43:twcamp^share|twsrc^iphone|twgr^email\",\"44:twcamp^share|twsrc^iphone|twgr^other\",\"45:twcamp^share|twsrc^iphone|twgr^download\",\"46:twcamp^share|twsrc^iphone|twgr^copy\",\"47:twcamp^share|twsrc^iphone|twgr^snapchat\",\"48:twcamp^share|twsrc^iphone|twgr^whatsapp\",\"49:twcamp^share|twsrc^iphone|twgr^fbmessenger\",\"50:twcamp^share|twsrc^iphone|twgr^facebook\",\"51:twcamp^share|twsrc^iphone|twgr^gmail\",\"52:twcamp^share|twsrc^iphone|twgr^telegram\",\"53:twcamp^share|twsrc^iphone|twgr^line\",\"54:twcamp^share|twsrc^iphone|twgr^viber\",\"55:twcamp^share|twsrc^iphone|twgr^instagram\",\"56:twcamp^share|twsrc^iphone|twgr^linkedin\",\"57:twcamp^share|twsrc^ipad|twgr^sms\",\"58:twcamp^share|twsrc^ipad|twgr^email\",\"59:twcamp^share|twsrc^ipad|twgr^other\",\"60:twcamp^share|twsrc^ipad|twgr^download\",\"61:twcamp^share|twsrc^ipad|twgr^copy\",\"62:twcamp^share|twsrc^ipad|twgr^snapchat\",\"63:twcamp^share|twsrc^ipad|twgr^whatsapp\",\"64:twcamp^share|twsrc^ipad|twgr^fbmessenger\",\"65:twcamp^share|twsrc^ipad|twgr^facebook\",\"66:twcamp^share|twsrc^ipad|twgr^gmail\",\"67:twcamp^share|twsrc^ipad|twgr^telegram\",\"68:twcamp^share|twsrc^ipad|twgr^line\",\"69:twcamp^share|twsrc^ipad|twgr^viber\",\"70:twcamp^share|twsrc^ipad|twgr^instagram\",\"71:twcamp^share|twsrc^ipad|twgr^linkedin\"]},\"smbo_legacy_pac_is_in_follow_position_test\":{\"value\":false},\"social_context_and_topic_context_refresh_alignment_enabled\":{\"value\":false},\"spaces_2022_h2_clipping\":{\"value\":true},\"spaces_2022_h2_clipping_consumption\":{\"value\":true},\"spaces_2022_h2_clipping_duration_seconds\":{\"value\":30},\"spaces_2022_h2_spacebar_use_mock_data\":{\"value\":false},\"spaces_2022_h2_spaces_communities\":{\"value\":true},\"spaces_conference_enabled\":{\"value\":false},\"spaces_conference_opus_dtx_enabled\":{\"value\":false},\"spaces_dtx_opus_dtx_enabled\":{\"value\":false},\"spaces_video_admins_enabled\":{\"value\":false},\"spaces_video_consumption_enabled\":{\"value\":true},\"spaces_video_creation_enabled\":{\"value\":false},\"spaces_video_speakers_enabled\":{\"value\":false},\"standardized_nudges_misinfo\":{\"value\":true},\"subscriptions_block_ad_upsell_enabled\":{\"value\":true},\"subscriptions_blue_premium_labeling_enabled\":{\"value\":true},\"subscriptions_blue_verified_edit_profile_error_message_enabled\":{\"value\":true},\"subscriptions_branding_checkmark_logo_enabled\":{\"value\":false},\"subscriptions_enabled\":{\"value\":true},\"subscriptions_feature_1002\":{\"value\":true},\"subscriptions_feature_1003\":{\"value\":true},\"subscriptions_feature_1005\":{\"value\":true},\"subscriptions_feature_1006\":{\"value\":false},\"subscriptions_feature_1007\":{\"value\":true},\"subscriptions_feature_1009\":{\"value\":true},\"subscriptions_feature_1011\":{\"value\":true},\"subscriptions_feature_1012\":{\"value\":true},\"subscriptions_feature_1013\":{\"value\":false},\"subscriptions_feature_1014\":{\"value\":true},\"subscriptions_feature_account_analytics\":{\"value\":true},\"subscriptions_feature_article_composer\":{\"value\":true},\"subscriptions_feature_can_gift_premium\":{\"value\":true},\"subscriptions_feature_create_premium_content\":{\"value\":false},\"subscriptions_feature_extend_profile\":{\"value\":true},\"subscriptions_feature_hide_subscriptions\":{\"value\":true},\"subscriptions_feature_highlights\":{\"value\":true},\"subscriptions_feature_labs_1004\":{\"value\":true},\"subscriptions_feature_organization_affiliates\":{\"value\":true},\"subscriptions_feature_organization_x_hiring\":{\"value\":true},\"subscriptions_feature_premium_insights\":{\"value\":true},\"subscriptions_feature_premium_jobs\":{\"value\":true},\"subscriptions_gifting_help_url\":{\"value\":\"https://x.com/messages/compose?recipient_id&#x3D;1399766153053061121\"},\"subscriptions_gifting_premium_intro_copy_enabled\":{\"value\":false},\"subscriptions_hide_ad_upsell_enabled\":{\"value\":true},\"subscriptions_inapp_grok\":{\"value\":true},\"subscriptions_inapp_grok_analyze\":{\"value\":false},\"subscriptions_inapp_grok_default_mode\":{\"value\":\"regular\"},\"subscriptions_inapp_grok_enable_roast_me_prompt\":{\"value\":true},\"subscriptions_inapp_grok_nux_enabled\":{\"value\":false},\"subscriptions_inapp_grok_upsell_enabled\":{\"value\":true},\"subscriptions_inapp_grok_video_upsell\":{\"value\":\"https://abs.twimg.com/sticky/videos/inapp_dark_square_v4.mp4\"},\"subscriptions_inapp_grok_video_upsell_dim\":{\"value\":\"https://abs.twimg.com/sticky/videos/inapp_dim_square_v4.mp4\"},\"subscriptions_inapp_grok_video_upsell_light\":{\"value\":\"https://abs.twimg.com/sticky/videos/inapp_light_square_v4.mp4\"},\"subscriptions_is_blue_verified_review_status_profile_enabled\":{\"value\":true},\"subscriptions_long_video_rweb_new_copy_enabled\":{\"value\":true},\"subscriptions_long_video_upload\":{\"value\":true},\"subscriptions_management_failed_payment_api_call_enabled\":{\"value\":true},\"subscriptions_management_failed_payment_menu_alert_enabled\":{\"value\":true},\"subscriptions_management_failed_payment_message_premium_enabled\":{\"value\":true},\"subscriptions_management_failed_payment_profile_card_enabled\":{\"value\":true},\"subscriptions_management_fetch_next_billing_time\":{\"value\":true},\"subscriptions_management_renew_module_api_enabled\":{\"value\":true},\"subscriptions_management_renew_module_enabled\":{\"value\":true},\"subscriptions_management_tier_switch_improvements_enabled\":{\"value\":true},\"subscriptions_marketing_page_discounts_enabled\":{\"value\":true},\"subscriptions_marketing_page_fetch_promotions\":{\"value\":true},\"subscriptions_marketing_page_free_trial_enabled\":{\"value\":true},\"subscriptions_marketing_page_include_tax_enabled\":{\"value\":true},\"subscriptions_marketing_page_new_grok_content_enabled\":{\"value\":true},\"subscriptions_marketing_page_offer_ends_at_msec\":{\"value\":1739246400000},\"subscriptions_mute_ad_upsell_enabled\":{\"value\":true},\"subscriptions_offers_churn_prevention_enabled\":{\"value\":false},\"subscriptions_offers_dynamic_upsells_enabled\":{\"value\":false},\"subscriptions_premium_experiment_nav_text\":{\"value\":false},\"subscriptions_premium_hub_insights_block_enabled\":{\"value\":true},\"subscriptions_premium_module_creator_gate_enabled\":{\"value\":true},\"subscriptions_premium_module_enabled\":{\"value\":false},\"subscriptions_premium_tiers_default_interval\":{\"value\":\"Year\"},\"subscriptions_premium_tiers_default_product\":{\"value\":\"BlueVerified\"},\"subscriptions_premium_tiers_encrypted_dms_gating_update_enabled\":{\"value\":true},\"subscriptions_premium_tiers_order_variant\":{\"value\":\"variant_b\"},\"subscriptions_report_ad_upsell_enabled\":{\"value\":true},\"subscriptions_sign_up_enabled\":{\"value\":true},\"subscriptions_stripe_testing\":{\"value\":false},\"subscriptions_upsells_analytics_eligibility_query_enabled\":{\"value\":true},\"subscriptions_upsells_analytics_profile_enabled\":{\"value\":true},\"subscriptions_upsells_analytics_profile_variant\":{\"value\":\"Impressions\"},\"subscriptions_upsells_api_enabled\":{\"value\":true},\"subscriptions_upsells_app_tab_bar_analytics_upsell_enabled\":{\"value\":false},\"subscriptions_upsells_bookmarks_screen_enabled\":{\"value\":false},\"subscriptions_upsells_bookmarks_screen_variant\":{\"value\":\"\"},\"subscriptions_upsells_dm_card_enabled\":{\"value\":false},\"subscriptions_upsells_dm_card_variant\":{\"value\":\"anniversary\"},\"subscriptions_upsells_explore_sidebar_analytics_upsell_enabled\":{\"value\":false},\"subscriptions_upsells_explore_sidebar_analytics_upsell_variant\":{\"value\":\"\"},\"subscriptions_upsells_get_verified_button_variant\":{\"value\":\"\"},\"subscriptions_upsells_get_verified_profile\":{\"value\":true},\"subscriptions_upsells_get_verified_profile_card\":{\"value\":true},\"subscriptions_upsells_get_verified_profile_card_variant\":{\"value\":\"variant_a\"},\"subscriptions_upsells_get_verified_profile_rotation_enabled\":{\"value\":true},\"subscriptions_upsells_home_nav_migration_enabled\":{\"value\":true},\"subscriptions_upsells_home_sidebar_migration_enabled\":{\"value\":true},\"subscriptions_upsells_longform_sidebar_variant\":{\"value\":\"\"},\"subscriptions_upsells_monetization_redesign_enabled\":{\"value\":true},\"subscriptions_upsells_post_composer_variant\":{\"value\":\"\"},\"subscriptions_upsells_post_details_analytics_enabled\":{\"value\":true},\"subscriptions_upsells_post_engagements_enabled\":{\"value\":false},\"subscriptions_upsells_post_engagements_variant\":{\"value\":\"analytics_popup\"},\"subscriptions_upsells_premium_home_nav\":{\"value\":\"premium_upsell_upgrade\"},\"subscriptions_upsells_profile_sidebar_analytics_upsell_enabled\":{\"value\":false},\"subscriptions_upsells_profile_sidebar_analytics_upsell_variant\":{\"value\":\"\"},\"subscriptions_upsells_radar_sidebar_enabled\":{\"value\":false},\"subscriptions_upsells_radar_sidebar_variant\":{\"value\":\"\"},\"subscriptions_upsells_radar_video_url_desktop\":{\"value\":\"https://abs.twimg.com/images/radar_promo_v2.mp4\"},\"subscriptions_upsells_radar_video_url_mobile\":{\"value\":\"https://abs.twimg.com/images/radar_promo_v2.mp4\"},\"subscriptions_upsells_reply_boost_enabled\":{\"value\":false},\"subscriptions_upsells_reply_boost_popup_enabled\":{\"value\":true},\"subscriptions_upsells_reply_boost_variant\":{\"value\":\"\"},\"subscriptions_upsells_right_sidebar_variant\":{\"value\":\"\"},\"subscriptions_upsells_rweb_analytics_fallback_destination\":{\"value\":\"\"},\"subscriptions_upsells_settings_analytics_upsell_enabled\":{\"value\":false},\"subscriptions_upsells_track_interactions_enabled\":{\"value\":false},\"subscriptions_upsells_verified_profile_sidebar_enabled\":{\"value\":false},\"subscriptions_upsells_verified_profile_sidebar_variant\":{\"value\":\"variant_d\"},\"subscriptions_upsells_verified_profile_visitor_upsell_enabled\":{\"value\":false},\"subscriptions_upsells_verified_profile_visitor_upsell_variant\":{\"value\":\"\"},\"subscriptions_upsells_vo_nav_decoration_enabled\":{\"value\":false},\"subscriptions_upsells_vo_nav_decoration_variant\":{\"value\":\"30_percent_off\"},\"subscriptions_verification_info_is_identity_verified_enabled\":{\"value\":true},\"subscriptions_verification_info_verified_since_enabled\":{\"value\":true},\"super_follow_android_web_subscription_enabled\":{\"value\":true},\"super_follow_exclusive_tweet_creation_api_enabled\":{\"value\":true},\"super_follow_onboarding_application_perks_enabled\":{\"value\":true},\"super_follow_onboarding_granular_pricing_enabled\":{\"value\":true},\"super_follow_subscriptions_tax_calculation_enabled\":{\"value\":true},\"super_follow_tweet_label_redesign_enabled\":{\"value\":true},\"super_follow_web_application_enabled\":{\"value\":true},\"super_follow_web_deactivate_enabled\":{\"value\":true},\"super_follow_web_debug_enabled\":{\"value\":false},\"super_follow_web_edit_perks_enabled\":{\"value\":true},\"super_follow_web_onboarding_enabled\":{\"value\":true},\"targeted_project_friday_enabled\":{\"value\":false},\"topic_landing_page_clearer_controls_enabled\":{\"value\":true},\"topic_landing_page_cta_text\":{\"value\":\"control\"},\"topic_landing_page_share_enabled\":{\"value\":true},\"topics_context_controls_followed_variation\":{\"value\":\"see_more\"},\"topics_context_controls_implicit_context_x_enabled\":{\"value\":true},\"topics_context_controls_implicit_variation\":{\"value\":\"see_more\"},\"topics_context_controls_inline_prompt_enabled\":{\"value\":false},\"toxic_reply_filter_inline_callout_enabled\":{\"value\":false},\"toxic_reply_filter_settings_enabled\":{\"value\":false},\"traffic_rewrite_map\":{\"value\":[]},\"trusted_friends_consumption_enabled\":{\"value\":true},\"trusted_friends_dash_discovery_enabled\":{\"value\":false},\"trusted_friends_tweet_creation_enabled\":{\"value\":false},\"tv_app_casting_log_focused_element_every_10s\":{\"value\":false},\"tv_app_casting_set_focus_after_15s\":{\"value\":false},\"tv_app_qrcode_login_enabled\":{\"value\":true},\"tv_app_samsung_continue_watching_enabled\":{\"value\":false},\"tv_app_samsung_exit_configuration\":{\"value\":\"EXIT\"},\"tweet_awards_web_coin_purchase_enabled\":{\"value\":false},\"tweet_awards_web_coin_purchase_sandbox_enabled\":{\"value\":false},\"tweet_awards_web_non_focal_tweet_coins_enabled\":{\"value\":false},\"tweet_awards_web_tipping_enabled\":{\"value\":false},\"tweet_limited_actions_config_community_tweet_community_deleted\":{\"value\":[\"add_to_bookmarks\",\"add_to_moment\",\"embed\",\"follow\",\"hide_community_tweet\",\"like\",\"lists_add_remove\",\"mute_conversation\",\"pin_to_profile\",\"quote_tweet\",\"react\",\"remove_from_community\",\"reply\",\"retweet\",\"send_via_dm\",\"share_tweet_via\",\"view_hidden_replies\",\"view_tweet_activity\",\"vote_on_poll\",\"highlight\"]},\"tweet_limited_actions_config_community_tweet_community_not_found\":{\"value\":[\"add_to_bookmarks\",\"add_to_moment\",\"embed\",\"follow\",\"hide_community_tweet\",\"like\",\"lists_add_remove\",\"mute_conversation\",\"pin_to_profile\",\"quote_tweet\",\"react\",\"remove_from_community\",\"reply\",\"retweet\",\"send_via_dm\",\"share_tweet_via\",\"view_hidden_replies\",\"view_tweet_activity\",\"vote_on_poll\",\"highlight\"]},\"tweet_limited_actions_config_community_tweet_community_suspended\":{\"value\":[\"add_to_bookmarks\",\"add_to_moment\",\"embed\",\"follow\",\"hide_community_tweet\",\"like\",\"lists_add_remove\",\"mute_conversation\",\"pin_to_profile\",\"quote_tweet\",\"react\",\"remove_from_community\",\"reply\",\"retweet\",\"send_via_dm\",\"share_tweet_via\",\"view_hidden_replies\",\"view_tweet_activity\",\"vote_on_poll\",\"highlight\"]},\"tweet_limited_actions_config_community_tweet_hidden\":{\"value\":[\"add_to_bookmarks\",\"add_to_moment\",\"embed\",\"follow\",\"hide_community_tweet\",\"like\",\"lists_add_remove\",\"mute_conversation\",\"pin_to_profile\",\"quote_tweet\",\"react\",\"reply\",\"retweet\",\"send_via_dm\",\"share_tweet_via\",\"view_hidden_replies\",\"view_tweet_activity\",\"vote_on_poll\",\"highlight\"]},\"tweet_limited_actions_config_community_tweet_member_removed\":{\"value\":[\"add_to_bookmarks\",\"add_to_moment\",\"embed\",\"follow\",\"hide_community_tweet\",\"like\",\"lists_add_remove\",\"mute_conversation\",\"pin_to_profile\",\"quote_tweet\",\"react\",\"remove_from_community\",\"reply\",\"retweet\",\"send_via_dm\",\"share_tweet_via\",\"view_hidden_replies\",\"view_tweet_activity\",\"vote_on_poll\",\"highlight\"]},\"tweet_limited_actions_config_community_tweet_non_member\":{\"value\":[\"react\",\"reply_down_vote\"]},\"tweet_limited_actions_config_community_tweet_non_member_closed_community\":{\"value\":[\"react\",\"reply_down_vote\"]},\"tweet_limited_actions_config_community_tweet_non_member_public_community\":{\"value\":[\"react\",\"reply_down_vote\"]},\"tweet_limited_actions_config_disable_state_media_autoplay\":{\"value\":[\"autoplay\"]},\"tweet_limited_actions_config_dpa_enabled\":{\"value\":true},\"tweet_limited_actions_config_dynamic_product_ad\":{\"value\":[\"reply\",\"retweet\",\"quote_tweet\",\"share_tweet_via\",\"send_via_dm\",\"copy_link\",\"add_to_bookmarks\",\"like\"]},\"tweet_limited_actions_config_enabled\":{\"value\":true},\"tweet_limited_actions_config_freedom_of_speech_not_reach\":{\"value\":[\"reply\",\"retweet\",\"quote_tweet\",\"share_tweet_via\",\"add_to_bookmarks\",\"pin_to_profile\",\"copy_link\",\"send_via_dm\",\"like\",\"embed\",\"highlight\",\"edit_tweet\"]},\"tweet_limited_actions_config_limit_trusted_friends_tweet\":{\"value\":[\"retweet\",\"quote_tweet\",\"share_tweet_via\",\"send_via_dm\",\"copy_link\",\"view_tweet_activity\",\"embed\",\"add_to_moment\"]},\"tweet_limited_actions_config_non_compliant\":{\"value\":[\"reply\",\"retweet\",\"like\",\"react\",\"send_via_dm\",\"add_to_bookmarks\",\"add_to_moment\",\"pin_to_profile\",\"view_tweet_activity\",\"share_tweet_via\",\"copy_link\",\"highlight\"]},\"tweet_limited_actions_config_skip_tweet_detail\":{\"value\":[\"reply\"]},\"tweet_limited_actions_config_skip_tweet_detail_enabled\":{\"value\":true},\"tweet_limited_actions_config_soft_nudge_with_quote_tweet\":{\"value\":[\"show_retweet_action_menu\"]},\"tweet_with_visibility_results_all_gql_limited_actions_enabled\":{\"value\":false},\"tweet_with_visibility_results_partial_gql_limited_actions_enabled\":{\"value\":true},\"tweet_with_visibility_results_prefer_gql_limited_actions_policy_enabled\":{\"value\":true},\"twitter_chat_communities_chat_enabled\":{\"value\":false},\"twitter_delegate_normal_limit\":{\"value\":5},\"twitter_delegate_subscriber_limit\":{\"value\":25},\"ucpd_enabled\":{\"value\":true},\"unified_cards_collection_ads_convert_to_image_website_card\":{\"value\":false},\"unified_cards_dpa_cta_button_enabled\":{\"value\":true},\"unified_cards_dpa_metadata_enabled\":{\"value\":true},\"unified_cards_dpa_placeholder_media_key\":{\"value\":[\"3_1485707239990054912\"]},\"user_ad_accounts_config_enabled\":{\"value\":false},\"user_display_name_max_limit\":{\"value\":50},\"verified_phone_label_enabled\":{\"value\":false},\"verified_vo_refreshed_advertising_screen_enabled\":{\"value\":true},\"video_upload_metadata_title_enabled\":{\"value\":false},\"view_counts_everywhere_api_enabled\":{\"value\":true},\"view_counts_public_visibility_enabled\":{\"value\":true},\"vo_upsell_enabled\":{\"value\":false},\"vo_upsell_new_business_query_enabled\":{\"value\":true},\"vo_upsell_profile_button_enabled\":{\"value\":true},\"vo_upsell_profile_page_enabled\":{\"value\":false},\"vod_attribution_tweet_detail_pivot_enabled\":{\"value\":true},\"voice_consumption_enabled\":{\"value\":true},\"voice_rooms_cohosts_enabled\":{\"value\":true},\"voice_rooms_discovery_page_enabled\":{\"value\":false},\"voice_rooms_employee_only_enabled\":{\"value\":false},\"voice_rooms_recent_search_audiospace_ring_enabled\":{\"value\":true},\"voice_rooms_search_results_page_audiospace_ring_enabled\":{\"value\":false},\"voice_rooms_typeahead_audiospace_ring_enabled\":{\"value\":true},\"voice_rooms_web_space_creation\":{\"value\":true},\"web_video_caption_repositioning_enabled\":{\"value\":true},\"web_video_hls_android_mse_enabled\":{\"value\":true},\"web_video_hls_mp4_threshold_sec\":{\"value\":0},\"web_video_hls_variant_version\":{\"value\":\"1\"},\"web_video_hlsjs_version\":{\"value\":\"1.5.0\"},\"web_video_playback_rate_enabled\":{\"value\":true},\"web_video_player_size_cap_disabled\":{\"value\":false},\"web_video_prefetch_playlist_autoplay_disabled\":{\"value\":false},\"web_video_safari_hlsjs_enabled\":{\"value\":true},\"web_video_transcribed_captions_enabled\":{\"value\":true},\"x_jetfuel_enable_test_cluster\":{\"value\":false},\"xprofile_blocked_by_view_enabled\":{\"value\":true},\"xprofile_consumption_enabled\":{\"value\":true},\"xprofile_editing_enabled\":{\"value\":true},\"xprofile_emojis_enabled\":{\"value\":true},\"xprofile_profile_button_enabled\":{\"value\":false},\"xprofile_section_visibility_enabled\":{\"value\":false},\"xprofile_work_history_consumption_enabled\":{\"value\":true},\"xprofile_work_history_domain_enabled\":{\"value\":false},\"xprofile_work_history_enabled\":{\"value\":true}},\"impression_pointers\":{},\"impressions\":{},\"keysRead\":{},\"settingsVersion\":\"049a7c7e121ae8a490a31eea2e211d4c\"},\"debug\":{},\"featureSetToken\":\"04ef5d8ed54e4c080db97f7b0fab17ffcc23ffa4\",\"isLoaded\":true,\"isLoading\":false,\"customOverrides\":{}},\"settings\":{\"local\":{\"nextPushCheckin\":0,\"shouldAutoPlayGif\":false,\"scale\":\"normal\",\"themeColor\":\"blue500\",\"highContrastEnabled\":false,\"loginPromptLastShown\":0,\"reducedMotionEnabled\":false,\"showTweetMediaDetailDrawer\":true,\"autoPollNewTweets\":false,\"shouldAutoTagLocation\":false,\"undoPreview\":{},\"replyVotingSurveyClicked\":0,\"pushNotificationsPermission\":null,\"isSideNavExpanded\":{}},\"remote\":{\"settings\":{\"display_sensitive_media\":false},\"fetchStatus\":\"none\"},\"dataSaver\":{\"dataSaverMode\":false},\"transient\":{\"loginPromptShown\":false,\"lastViewedDmInboxPath\":\"/messages\",\"themeFocus\":\"\"}},\"devices\":{\"browserPush\":{\"fetchStatus\":\"none\",\"pushNotificationsPrompt\":{\"dismissed\":false,\"fetchStatus\":\"none\"},\"subscribed\":false,\"supported\":null},\"devices\":{\"data\":{\"emails\":[],\"phone_numbers\":[]},\"fetchStatus\":\"none\"},\"notificationSettings\":{\"push_settings\":{\"error\":null,\"fetchStatus\":\"none\"},\"push_settings_template\":{\"template\":{\"settings\":[]}},\"checkin_time\":null}},\"session\":{\"country\":\"EG\",\"guestId\":\"174518707917638947\",\"hasCommunityMemberships\":false,\"hasPasskey\":false,\"isActiveCreator\":false,\"isLoaded\":false,\"isRestrictedSession\":false,\"language\":\"en\",\"ssoInitTokens\":{}},\"developer\":{\"dtabBarInfo\":{\"hide\":false}}};window.__META_DATA__={\"env\":\"prod\",\"isCanary\":false,\"sha\":\"a6134f206ab4311b00ab647141ea36be840e14d3\",\"isLoggedIn\":false,\"isTwoffice\":false,\"hasMultiAccountCookie\":false,\"uaParserTags\":[\"m2\",\"rweb\",\"msw\"],\"serverDate\":1745187079219,\"cookies\":{\"version\":\"1661819456366\",\"fetchedTime\":1661971138705,\"categories\":{\"2\":[\"Authorization\",\"DECLINED_DATE\",\"LAST_INVITATION_VIEW\",\"NEW_SUBSCRIPTION_ACCOUNT\",\"SUBMITTED_DATE\",\"_ep_sess\",\"_mb_tk\",\"_sl\",\"_support_session\",\"_ttc_session\",\"_twitter_sess\",\"aa_u\",\"ab_decider\",\"ads_prefs\",\"aem-lang-preference\",\"app_shell_visited\",\"att\",\"auth_multi\",\"auth_token\",\"backendDataInSessionFlag\",\"bouncer_reset_cookie\",\"cd_user_id\",\"client_token\",\"cms-csp-nonce\",\"co\",\"connect.sid\",\"cookies_enabled\",\"csrf_id\",\"csrf_same_site\",\"csrf_same_site_set\",\"csrftoken\",\"ct0\",\"d_prefs\",\"daa\",\"dnt\",\"dtab_local\",\"email_read_only\",\"email_uid\",\"eu_cn\",\"fm\",\"form-lead-gen\",\"gscr\",\"gt\",\"guest_id\",\"kampyleInvitePresented\",\"kampyleSessionPageCounter\",\"kampyleUserPercentile\",\"kampyleUserSessionCount\",\"kampyleUserSessionsCount\",\"kampyle_userid\",\"kdt\",\"lang\",\"lang-preference\",\"language\",\"lastOwnerId\",\"lscr\",\"lv-ctx-\",\"lv-ctx-zzz*\",\"lv-uid\",\"m_session\",\"mdLogger\",\"md_isSurveySubmittedInSession\",\"messages\",\"mobile_ads_stat_type\",\"mobile_ads_time_interval\",\"momentmaker.tos.accepted*\",\"muc\",\"night_mode\",\"request_method\",\"scroll0\",\"scroll1\",\"sessionid\",\"shopify_app_session\",\"shopify_app_session.sig\",\"signup_ui_metrics\",\"ssa-calendar-signup\",\"studio_account\",\"timezone\",\"tooltip\",\"tweetdeck_version\",\"twid\",\"ui_metrics\",\"user_id\",\"zipbox_auth_token\",\"zipbox_forms_auth_token\"]}},\"userHash\":\"8cedba6335b5e2d91653da340e270cbf96e102a31fab5e37bfc88da4dfe0e0ad\"};</script><script id=\"nonce-csp\" nonce=\"NGVlZWE4MDUtNjE1Yi00MTYyLThhNDgtM2FhMGRlZmRkMTk2\"></script><script charset=\"utf-8\" nonce=\"NGVlZWE4MDUtNjE1Yi00MTYyLThhNDgtM2FhMGRlZmRkMTk2\" type=\"text/javascript\">window.__SCRIPTS_LOADED__ = {};(()=>{\"use strict\";var e,a,d,r,n,t,c,l,o,i={},s={};function b(e){var a=s[e];if(void 0!==a)return a.exports;var d=s[e]={id:e,loaded:!1,exports:{}};return i[e].call(d.exports,d,d.exports,b),d.loaded=!0,d.exports}b.m=i,b.c=s,b.amdO={},e=\"function\"==typeof Symbol?Symbol(\"webpack queues\"):\"__webpack_queues__\",a=\"function\"==typeof Symbol?Symbol(\"webpack exports\"):\"__webpack_exports__\",d=\"function\"==typeof Symbol?Symbol(\"webpack error\"):\"__webpack_error__\",r=e=>{e&&e.d<1&&(e.d=1,e.forEach((e=>e.r--)),e.forEach((e=>e.r--?e.r++:e())))},b.a=(n,t,c)=>{var l;c&&((l=[]).d=-1);var o,i,s,b=new Set,u=n.exports,h=new Promise(((e,a)=>{s=a,i=e}));h[a]=u,h[e]=e=>(l&&e(l),b.forEach(e),h.catch((e=>{}))),n.exports=h,t((n=>{var t;o=(n=>n.map((n=>{if(null!==n&&\"object\"==typeof n){if(n[e])return n;if(n.then){var t=[];t.d=0,n.then((e=>{c[a]=e,r(t)}),(e=>{c[d]=e,r(t)}));var c={};return c[e]=e=>e(t),c}}var l={};return l[e]=e=>{},l[a]=n,l})))(n);var c=()=>o.map((e=>{if(e[d])throw e[d];return e[a]})),i=new Promise((a=>{(t=()=>a(c)).r=0;var d=e=>e!==l&&!b.has(e)&&(b.add(e),e&&!e.d&&(t.r++,e.push(t)));o.map((a=>a[e](d)))}));return t.r?i:c()}),(e=>(e?s(h[d]=e):i(u),r(l)))),l&&l.d<0&&(l.d=0)},n=[],b.O=(e,a,d,r)=>{if(!a){var t=1/0;for(i=0;i<n.length;i++){for(var[a,d,r]=n[i],c=!0,l=0;l<a.length;l++)(!1&r||t>=r)&&Object.keys(b.O).every((e=>b.O[e](a[l])))?a.splice(l--,1):(c=!1,r<t&&(t=r));if(c){n.splice(i--,1);var o=d();void 0!==o&&(e=o)}}return e}r=r||0;for(var i=n.length;i>0&&n[i-1][2]>r;i--)n[i]=n[i-1];n[i]=[a,d,r]},b.n=e=>{var a=e&&e.__esModule?()=>e.default:()=>e;return b.d(a,{a}),a},c=Object.getPrototypeOf?e=>Object.getPrototypeOf(e):e=>e.__proto__,b.t=function(e,a){if(1&a&&(e=this(e)),8&a)return e;if(\"object\"==typeof e&&e){if(4&a&&e.__esModule)return e;if(16&a&&\"function\"==typeof e.then)return e}var d=Object.create(null);b.r(d);var r={};t=t||[null,c({}),c([]),c(c)];for(var n=2&a&&e;\"object\"==typeof n&&!~t.indexOf(n);n=c(n))Object.getOwnPropertyNames(n).forEach((a=>r[a]=()=>e[a]));return r.default=()=>e,b.d(d,r),d},b.d=(e,a)=>{for(var d in a)b.o(a,d)&&!b.o(e,d)&&Object.defineProperty(e,d,{enumerable:!0,get:a[d]})},b.f={},b.e=e=>Promise.all(Object.keys(b.f).reduce(((a,d)=>(b.f[d](e,a),a)),[])),b.u=e=>e+\".\"+{\"i18n/ar\":\"42836c7\",\"i18n/ar-x-fm\":\"8334f11\",\"i18n/bg\":\"7c97707\",\"i18n/bn\":\"19ecd39\",\"i18n/ca\":\"276adb0\",\"i18n/cs\":\"98ef6d2\",\"i18n/da\":\"f6cc6c3\",\"i18n/de\":\"b2dfb35\",\"i18n/el\":\"f09081f\",\"i18n/emoji-ar\":\"8130f87\",\"i18n/emoji-ar-x-fm\":\"5b87bad\",\"i18n/emoji-bg\":\"bed7860\",\"i18n/emoji-bn\":\"7035168\",\"i18n/emoji-ca\":\"4690358\",\"i18n/emoji-cs\":\"71a7d3a\",\"i18n/emoji-da\":\"c326917\",\"i18n/emoji-de\":\"11d4be0\",\"i18n/emoji-el\":\"c9d1318\",\"i18n/emoji-en\":\"bc1a818\",\"i18n/emoji-en-GB\":\"21a0a91\",\"i18n/emoji-en-ss\":\"1145b54\",\"i18n/emoji-en-xx\":\"ba3d91c\",\"i18n/emoji-es\":\"8ee4c05\",\"i18n/emoji-eu\":\"c0fbfdb\",\"i18n/emoji-fa\":\"892e0c2\",\"i18n/emoji-fi\":\"3af23c5\",\"i18n/emoji-fil\":\"1134f18\",\"i18n/emoji-fr\":\"e79e9e9\",\"i18n/emoji-ga\":\"1e7a85d\",\"i18n/emoji-gl\":\"7f000b5\",\"i18n/emoji-gu\":\"4ddffa3\",\"i18n/emoji-ha\":\"11d4afb\",\"i18n/emoji-he\":\"9626f78\",\"i18n/emoji-hi\":\"7382eb9\",\"i18n/emoji-hr\":\"313ab27\",\"i18n/emoji-hu\":\"362668e\",\"i18n/emoji-id\":\"67a7aa0\",\"i18n/emoji-ig\":\"f3e4b3d\",\"i18n/emoji-it\":\"d6bf6c7\",\"i18n/emoji-ja\":\"7d8d95b\",\"i18n/emoji-kn\":\"002770e\",\"i18n/emoji-ko\":\"b5f89ab\",\"i18n/emoji-mr\":\"b2f777a\",\"i18n/emoji-ms\":\"c434a88\",\"i18n/emoji-nb\":\"5836127\",\"i18n/emoji-nl\":\"a84cd7b\",\"i18n/emoji-pl\":\"a21cfe7\",\"i18n/emoji-pt\":\"b7f8b22\",\"i18n/emoji-ro\":\"4d87170\",\"i18n/emoji-ru\":\"d6d628d\",\"i18n/emoji-sk\":\"2e8bc4d\",\"i18n/emoji-sr\":\"94e2ee3\",\"i18n/emoji-sv\":\"851cfc6\",\"i18n/emoji-ta\":\"fa55c74\",\"i18n/emoji-th\":\"51ec0f3\",\"i18n/emoji-tr\":\"fb86f85\",\"i18n/emoji-uk\":\"6bb152d\",\"i18n/emoji-ur\":\"e464f39\",\"i18n/emoji-vi\":\"bcd25e7\",\"i18n/emoji-yo\":\"0120066\",\"i18n/emoji-zh\":\"96b4969\",\"i18n/emoji-zh-Hant\":\"29b10f8\",\"i18n/en\":\"2c9a5e9\",\"i18n/en-GB\":\"bd84405\",\"i18n/en-ss\":\"340f0f8\",\"i18n/en-xx\":\"3f7dd2a\",\"i18n/es\":\"9f92062\",\"i18n/eu\":\"a824725\",\"i18n/fa\":\"7135e47\",\"i18n/fi\":\"279d8ff\",\"i18n/fil\":\"8d09607\",\"i18n/fr\":\"3b798f5\",\"i18n/ga\":\"9e0ca8c\",\"i18n/gl\":\"bf41051\",\"i18n/gu\":\"2cf4421\",\"i18n/ha\":\"eb964f9\",\"i18n/he\":\"9854633\",\"i18n/hi\":\"de4e764\",\"i18n/hr\":\"d3ae90f\",\"i18n/hu\":\"a2e9edf\",\"i18n/id\":\"2f92639\",\"i18n/ig\":\"78b16b8\",\"i18n/index-node-6449eaf9\":\"cb29a6e\",\"i18n/index-node-b94b3855\":\"f4645d3\",\"i18n/it\":\"fcd65f3\",\"i18n/ja\":\"abd32ee\",\"i18n/kn\":\"ddce9bc\",\"i18n/ko\":\"675dd1e\",\"i18n/mr\":\"0fae53a\",\"i18n/ms\":\"5ec4b4e\",\"i18n/nb\":\"e0d8700\",\"i18n/nl\":\"9311a13\",\"i18n/pl\":\"6f49a22\",\"i18n/pt\":\"503b536\",\"i18n/ro\":\"31a6974\",\"i18n/ru\":\"fe9feb0\",\"i18n/sk\":\"a60df6f\",\"i18n/sr\":\"5696e23\",\"i18n/sv\":\"6d97466\",\"i18n/ta\":\"055c51d\",\"i18n/th\":\"04461fa\",\"i18n/tr\":\"a660888\",\"i18n/uk\":\"0302019\",\"i18n/ur\":\"23a2571\",\"i18n/vi\":\"7f50bf0\",\"i18n/yo\":\"948529e\",\"i18n/zh\":\"bf0aa09\",\"i18n/zh-Hant\":\"b548658\",\"bundle.NetworkInstrument\":\"9b24e61\",\"icons.5\":\"9b8df7a\",\"icons.12\":\"e6d1654\",\"icons.20\":\"9952760\",\"icons.0\":\"8bd4d21\",\"icons.21\":\"f2072c2\",\"icons.28\":\"e60e505\",\"icons.17\":\"457e888\",\"modules.common-e907d115\":\"faf570e\",\"modules.common-e019dbda\":\"2913c6b\",\"icons.22\":\"2f54cad\",\"icons.9\":\"7c361fd\",\"icons.25\":\"904f9b0\",\"icons.6\":\"3c3043e\",\"icons.10\":\"804c8b6\",\"modules.audio-6107ac1a\":\"e0f4776\",\"modules.audio-b953418a\":\"3b04268\",\"modules.audio-7c51e6a7\":\"3597c4f\",\"modules.audio-04db59e9\":\"90abf71\",\"modules.audio-76583d6c\":\"93d4f98\",\"modules.audio-b7a8a5fb\":\"7968b72\",\"modules.audio-51f6e793\":\"1ab8a93\",\"modules.audio-e019dbda\":\"cbf013c\",\"modules.audio-262c94d4\":\"5619e75\",\"modules.audio-c6fe4ea4\":\"622d0d9\",\"icons.24\":\"86e7c24\",\"icons.23\":\"874deb6\",\"icons.14\":\"123c3f2\",\"icons.3\":\"5e9e3e9\",\"icons.4\":\"73cf969\",\"icons.13\":\"5480b61\",\"icons.1\":\"1806c76\",\"shared~loader.AudioDock~loader.DashMenu~loader.DashModal~loader.DMDrawer~ondemand.InlinePlayer~ondem-2078c561\":\"0bed17c\",\"shared~loader.AudioDock~loader.DashMenu~loader.DashModal~loader.DMDrawer~ondemand.InlinePlayer~ondem-676e3eb1\":\"c17642f\",\"shared~loader.AudioDock~loader.DashMenu~loader.DashModal~loader.DMDrawer~ondemand.InlinePlayer~ondem-ae204d10\":\"5e8052e\",\"shared~loader.AudioDock~loader.DashMenu~loader.DashModal~loader.DMDrawer~ondemand.InlinePlayer~ondem-f0be4555\":\"dafc0ae\",\"shared~loader.AudioDock~loader.DashMenu~loader.DashModal~loader.DMDrawer~ondemand.InlinePlayer~ondem-a8f633cf\":\"b55bd43\",\"shared~loader.AudioDock~loader.DashMenu~loader.DashModal~loader.DMDrawer~ondemand.InlinePlayer~ondem-3357bcf2\":\"44222b0\",\"shared~loader.AudioDock~loader.DashMenu~loader.DashModal~loader.DMDrawer~ondemand.InlinePlayer~ondem-64ffe41f\":\"8231144\",\"shared~loader.AudioDock~loader.DashMenu~loader.DashModal~loader.DMDrawer~ondemand.InlinePlayer~ondem-4514ff28\":\"e8b81c7\",\"shared~loader.AudioDock~loader.DashMenu~loader.DashModal~loader.DMDrawer~ondemand.InlinePlayer~ondem-6a872481\":\"207b3db\",\"shared~loader.AudioDock~loader.DashMenu~loader.DashModal~loader.DMDrawer~ondemand.InlinePlayer~ondem-58d4ab8e\":\"7d38830\",\"shared~loader.AudioDock~loader.DashMenu~loader.DashModal~loader.DMDrawer~ondemand.InlinePlayer~ondem-84815b2f\":\"5e722fb\",\"shared~loader.AudioDock~loader.DashMenu~loader.DashModal~loader.DMDrawer~ondemand.InlinePlayer~ondem-b600c04d\":\"b21bf76\",\"shared~loader.AudioDock~loader.DashMenu~loader.DashModal~loader.DMDrawer~ondemand.InlinePlayer~ondem-760bf32a\":\"a820ada\",\"shared~loader.AudioDock~loader.DashMenu~loader.DashModal~loader.DMDrawer~ondemand.InlinePlayer~ondem-c85e798b\":\"0e4e765\",\"shared~loader.AudioDock~loader.DashMenu~loader.DashModal~loader.DMDrawer~ondemand.InlinePlayer~ondem-63e1b11c\":\"bf3f3bd\",\"shared~loader.AudioDock~loader.DashMenu~loader.DashModal~loader.DMDrawer~ondemand.InlinePlayer~ondem-7ec4485e\":\"bdb2f6c\",\"shared~loader.AudioDock~loader.DashMenu~loader.DashModal~loader.DMDrawer~ondemand.InlinePlayer~ondem-0157ee89\":\"dd7ecd9\",\"shared~loader.AudioDock~loader.DashMenu~loader.DashModal~loader.DMDrawer~ondemand.InlinePlayer~ondem-78c7e6e6\":\"e3a3444\",\"shared~loader.AudioDock~loader.DashMenu~loader.DashModal~loader.DMDrawer~ondemand.InlinePlayer~ondem-7796c48c\":\"c85094a\",\"shared~loader.AudioDock~loader.DashMenu~loader.DashModal~loader.DMDrawer~ondemand.InlinePlayer~ondem-647e57f3\":\"2b2000c\",\"shared~loader.AudioDock~loader.DashMenu~loader.DashModal~loader.DMDrawer~ondemand.InlinePlayer~ondem-885c42d5\":\"bb1850a\",\"shared~loader.AudioDock~loader.DashMenu~loader.DashModal~loader.DMDrawer~ondemand.InlinePlayer~ondem-7082ec04\":\"1a12ae3\",\"shared~loader.AudioDock~loader.DashMenu~loader.DashModal~loader.DMDrawer~ondemand.InlinePlayer~ondem-c977f3f0\":\"687b605\",\"shared~loader.AudioDock~loader.DashMenu~loader.DashModal~loader.DMDrawer~ondemand.InlinePlayer~ondem-bde9e8ed\":\"4cebdfb\",\"shared~loader.AudioDock~loader.DashMenu~loader.DashModal~loader.DMDrawer~ondemand.InlinePlayer~ondem-de203a7b\":\"9e9e9f0\",\"shared~loader.AudioDock~loader.DashMenu~loader.DashModal~loader.DMDrawer~ondemand.InlinePlayer~ondem-78eb13f6\":\"097d221\",\"shared~loader.AudioDock~loader.DashMenu~loader.DashModal~loader.DMDrawer~ondemand.InlinePlayer~ondem-83ae13c2\":\"950c73a\",\"shared~loader.AudioDock~loader.DashMenu~loader.DashModal~loader.DMDrawer~ondemand.InlinePlayer~ondem-db3d5daf\":\"b3c80da\",\"shared~loader.AudioDock~loader.DashMenu~loader.DashModal~loader.DMDrawer~ondemand.InlinePlayer~ondem-2d219c28\":\"f7b7db5\",\"loader.AudioDock\":\"95a845c\",\"loader.richScribeAction\":\"372d383\",\"loader.HoverCard\":\"57c3db1\",\"shared~loader.DashMenu~loader.SideNav~loader.SideNavRedesign~loader.AppModules~loader.DMDrawer~bundl-b2e830dd\":\"2c1b5f3\",\"shared~loader.DashMenu~loader.SideNav~loader.SideNavRedesign~loader.AppModules~loader.DMDrawer~bundl-01ad0730\":\"94f51cf\",\"shared~loader.DashMenu~loader.SideNav~loader.SideNavRedesign~loader.AppModules~loader.DMDrawer~bundl-bf625406\":\"e71fb07\",\"shared~loader.DashMenu~loader.SideNav~loader.SideNavRedesign~loader.AppModules~loader.DMDrawer~bundl-ab949d70\":\"25e6844\",\"shared~loader.DashMenu~loader.SideNav~loader.SideNavRedesign~loader.AppModules~loader.DMDrawer~bundl-6cce8a9f\":\"082bc53\",\"shared~loader.DashMenu~loader.SideNav~loader.SideNavRedesign~loader.AppModules~loader.DMDrawer~bundl-ff0fc217\":\"e1a7b3a\",\"shared~loader.DashMenu~loader.SideNav~loader.SideNavRedesign~loader.AppModules~loader.DMDrawer~bundl-93606ba8\":\"a28132b\",\"shared~loader.DashMenu~loader.DashModal~ondemand.CommandCenter~bundle.Account~ondemand.SettingsInternals~onde\":\"1efed47\",\"shared~loader.DashMenu~loader.SideNav~loader.SideNavRedesign~bundle.MultiAccount~bundle.JobSearch\":\"ca7b4f4\",\"shared~loader.DashMenu~loader.DashModal~bundle.Account\":\"26321c3\",\"loader.DashMenu\":\"a1f5732\",\"loader.DashModal\":\"ccf9c80\",\"loader.directMessagesData-6107ac1a\":\"23a674b\",\"loader.directMessagesData-9f4db315\":\"b078aaa\",\"loader.directMessagesData-8ed0fac5\":\"ccb36e8\",\"loader.directMessagesData-63cb1cc4\":\"99efcb0\",\"icons.18\":\"c179740\",\"icons.8\":\"c30831a\",\"shared~loader.Typeahead~loader.AppModules~loader.DMDrawer~ondemand.HoverCard~ondemand.NotFound~bundle.AboutTh\":\"280c1eb\",\"shared~bundle.AudioSpaceDetail~bundle.AudioSpaceDiscovery~bundle.AudioSpacebarScreen~bundle.Birdwatc-50148475\":\"2ce07e9\",\"shared~bundle.AudioSpaceDetail~bundle.AudioSpaceDiscovery~bundle.AudioSpacebarScreen~bundle.Birdwatc-34cda585\":\"a4f902b\",\"shared~bundle.AudioSpaceDetail~bundle.AudioSpaceDiscovery~bundle.AudioSpacebarScreen~bundle.Birdwatc-909816ba\":\"a1b0985\",\"shared~bundle.AudioSpaceDetail~bundle.AudioSpaceDiscovery~bundle.AudioSpacebarScreen~bundle.Birdwatc-604de716\":\"fe30fc5\",\"shared~bundle.AudioSpaceDetail~bundle.AudioSpaceDiscovery~bundle.AudioSpacebarScreen~bundle.Birdwatc-1299e360\":\"8130973\",\"shared~bundle.AudioSpaceDetail~bundle.AudioSpaceDiscovery~bundle.AudioSpacebarScreen~bundle.Birdwatc-60e08fbd\":\"ae439e2\",\"shared~bundle.AudioSpaceDetail~bundle.AudioSpaceDiscovery~bundle.AudioSpacebarScreen~bundle.Birdwatc-25704d22\":\"56a7678\",\"shared~bundle.AudioSpaceDetail~bundle.AudioSpaceDiscovery~bundle.AudioSpacebarScreen~bundle.Birdwatc-7b94920a\":\"b12a463\",\"shared~bundle.AudioSpaceDetail~bundle.AudioSpaceDiscovery~bundle.AudioSpacebarScreen~bundle.Birdwatc-a7573e1a\":\"63b0ab0\",\"shared~bundle.AudioSpaceDetail~bundle.AudioSpaceDiscovery~bundle.AudioSpacebarScreen~bundle.Birdwatc-719a1591\":\"395848d\",\"shared~bundle.AudioSpaceDetail~bundle.AudioSpaceDiscovery~bundle.AudioSpacebarScreen~bundle.Birdwatc-8d854c2e\":\"9d489e9\",\"shared~bundle.AudioSpaceDetail~bundle.AudioSpaceDiscovery~bundle.AudioSpacebarScreen~bundle.Birdwatc-aaf38a28\":\"c785f3f\",\"shared~bundle.AudioSpaceDetail~bundle.AudioSpaceDiscovery~bundle.AudioSpacebarScreen~bundle.Birdwatc-aeee0c9e\":\"9fcb90a\",\"shared~bundle.AudioSpaceDetail~bundle.AudioSpaceDiscovery~bundle.AudioSpacebarScreen~bundle.Birdwatc-da0e99d8\":\"ef72cf4\",\"shared~bundle.AudioSpaceDetail~bundle.AudioSpaceDiscovery~bundle.AudioSpacebarScreen~bundle.Birdwatc-3931c1f3\":\"2fdf1fa\",\"shared~bundle.AudioSpaceDetail~bundle.AudioSpaceDiscovery~bundle.AudioSpacebarScreen~bundle.Birdwatc-c377d397\":\"45ce642\",\"shared~bundle.AudioSpaceDetail~bundle.AudioSpaceDiscovery~bundle.AudioSpacebarScreen~bundle.Birdwatc-e4b9a405\":\"37dc089\",\"shared~bundle.AudioSpaceDetail~bundle.AudioSpaceDiscovery~bundle.AudioSpacebarScreen~bundle.Birdwatc-f17e8d44\":\"734a67f\",\"shared~bundle.AudioSpaceDetail~bundle.AudioSpaceDiscovery~bundle.AudioSpacebarScreen~bundle.Birdwatc-f39972b2\":\"b921cfa\",\"shared~bundle.AudioSpaceDetail~bundle.AudioSpaceDiscovery~bundle.AudioSpacebarScreen~bundle.Birdwatc-568e95f0\":\"0a00cbd\",\"shared~bundle.AudioSpaceDetail~bundle.AudioSpaceDiscovery~bundle.AudioSpacebarScreen~bundle.Birdwatc-1895c9ee\":\"8fcb0fe\",\"shared~bundle.AudioSpaceDetail~bundle.AudioSpaceDiscovery~bundle.AudioSpacebarScreen~bundle.Birdwatc-8fe22a9e\":\"241df28\",\"shared~bundle.AudioSpaceDetail~bundle.AudioSpaceDiscovery~bundle.AudioSpacebarScreen~bundle.Birdwatc-0a8205ef\":\"9f6c62e\",\"shared~bundle.AudioSpaceDetail~bundle.AudioSpaceDiscovery~bundle.AudioSpacebarScreen~bundle.Birdwatc-5719ea67\":\"63ae384\",\"shared~bundle.AudioSpaceDetail~bundle.AudioSpaceDiscovery~bundle.AudioSpacebarScreen~bundle.Birdwatc-1b6af858\":\"c002850\",\"shared~bundle.AudioSpaceDetail~bundle.AudioSpaceDiscovery~bundle.AudioSpacebarScreen~bundle.Birdwatc-1d6161e2\":\"2e17ee8\",\"shared~bundle.AudioSpaceDetail~bundle.AudioSpaceDiscovery~bundle.AudioSpacebarScreen~bundle.Birdwatc-8c7141d9\":\"7a7f206\",\"shared~bundle.AudioSpaceDetail~bundle.AudioSpaceDiscovery~bundle.AudioSpacebarScreen~bundle.Birdwatc-87641eae\":\"79fab4b\",\"shared~bundle.AudioSpaceDetail~bundle.AudioSpaceDiscovery~bundle.AudioSpacebarScreen~bundle.Birdwatc-f33a9093\":\"5042e0f\",\"shared~bundle.AudioSpaceDetail~bundle.AudioSpaceDiscovery~bundle.AudioSpacebarScreen~bundle.Birdwatc-b336079b\":\"fe33457\",\"shared~bundle.AudioSpaceDetail~bundle.AudioSpaceDiscovery~bundle.AudioSpacebarScreen~bundle.Birdwatc-1f6ca6be\":\"de59dc9\",\"shared~bundle.AudioSpaceDetail~bundle.AudioSpaceDiscovery~bundle.AudioSpacebarScreen~bundle.Birdwatc-b2a4a903\":\"7bceab7\",\"shared~bundle.AudioSpaceDetail~bundle.AudioSpaceDiscovery~bundle.AudioSpacebarScreen~bundle.Birdwatc-2569c2fe\":\"230d71f\",\"shared~bundle.AudioSpaceDetail~bundle.AudioSpaceDiscovery~bundle.AudioSpacebarScreen~bundle.Birdwatc-0ad0de7e\":\"f63e095\",\"shared~bundle.AudioSpaceDetail~bundle.AudioSpaceDiscovery~bundle.AudioSpacebarScreen~bundle.Birdwatc-abb249de\":\"77f173b\",\"shared~bundle.AudioSpaceDetail~bundle.AudioSpaceDiscovery~bundle.AudioSpacebarScreen~bundle.Birdwatc-6cde809e\":\"2ec30fc\",\"shared~bundle.AudioSpaceDetail~bundle.AudioSpaceDiscovery~bundle.AudioSpacebarScreen~bundle.Birdwatc-708dfafd\":\"dcc06e8\",\"shared~bundle.AudioSpaceDetail~bundle.AudioSpaceDiscovery~bundle.AudioSpacebarScreen~bundle.Birdwatc-af3d50e9\":\"323f2f8\",\"shared~loader.DMDrawer~bundle.ReaderMode~bundle.Articles~bundle.AudioSpacePeek~bundle.Birdwatch~bundle.Brande\":\"e7e1025\",\"shared~bundle.ReaderMode~bundle.Birdwatch~bundle.TwitterArticles~bundle.Compose~bundle.Settings~bund-c9d567be\":\"f8d6224\",\"shared~bundle.ReaderMode~bundle.Birdwatch~bundle.TwitterArticles~bundle.Compose~bundle.Settings~bund-7a04a44b\":\"a81aac8\",\"shared~bundle.ReaderMode~bundle.Birdwatch~bundle.TwitterArticles~bundle.Compose~bundle.Settings~bund-db6b2e3a\":\"f52a017\",\"shared~bundle.ReaderMode~bundle.Birdwatch~bundle.TwitterArticles~bundle.Compose~bundle.Settings~bund-4974a044\":\"bd3ea95\",\"shared~bundle.ReaderMode~bundle.Birdwatch~bundle.TwitterArticles~bundle.Compose~bundle.Settings~bund-2a74f407\":\"a9ab9a6\",\"shared~bundle.ReaderMode~bundle.Birdwatch~bundle.TwitterArticles~bundle.Compose~bundle.Settings~bund-012d0d8f\":\"14e5d91\",\"shared~bundle.ReaderMode~bundle.Birdwatch~bundle.TwitterArticles~bundle.Compose~bundle.Settings~bund-757f3ab2\":\"8c1ed27\",\"shared~bundle.ReaderMode~bundle.Birdwatch~bundle.TwitterArticles~bundle.Compose~bundle.Settings~bund-81ee9ca9\":\"130b2bc\",\"shared~bundle.ReaderMode~bundle.Birdwatch~bundle.TwitterArticles~bundle.Compose~bundle.Settings~bund-f3039e62\":\"30ffe74\",\"shared~bundle.ReaderMode~bundle.Birdwatch~bundle.TwitterArticles~bundle.Compose~bundle.Settings~bund-e75d887d\":\"931b162\",\"shared~bundle.ReaderMode~bundle.Birdwatch~bundle.TwitterArticles~bundle.Compose~bundle.Settings~bund-b93f71f2\":\"391fee0\",\"shared~bundle.ReaderMode~bundle.Birdwatch~bundle.TwitterArticles~bundle.Compose~bundle.Settings~bund-743779ef\":\"44687e5\",\"shared~bundle.ReaderMode~bundle.Birdwatch~bundle.TwitterArticles~bundle.Compose~bundle.Settings~bund-e851f17f\":\"c1d8746\",\"shared~bundle.ReaderMode~bundle.Birdwatch~bundle.TwitterArticles~bundle.Compose~bundle.Settings~bund-2b309ab6\":\"680ae26\",\"shared~bundle.ReaderMode~bundle.Birdwatch~bundle.TwitterArticles~bundle.Compose~bundle.Settings~bund-29ff9b73\":\"3306a7b\",\"shared~bundle.ReaderMode~bundle.Birdwatch~bundle.TwitterArticles~bundle.Compose~bundle.Settings~bund-d622e6ad\":\"ca7e681\",\"shared~bundle.ReaderMode~bundle.Birdwatch~bundle.TwitterArticles~bundle.Compose~bundle.Settings~bund-d425713a\":\"ef2d256\",\"bundle.Notifications\":\"532c4a6\",\"loader.NewTweetsPill\":\"b17e948\",\"shared~loader.SideNav~loader.SideNavRedesign~bundle.JobSearch\":\"b6e5476\",\"shared~loader.SideNav~loader.SideNavRedesign-bc6ccf4c\":\"4177b3b\",\"shared~loader.SideNav~loader.SideNavRedesign-6107ac1a\":\"aa5c841\",\"shared~loader.SideNav~loader.SideNavRedesign-9f4db315\":\"e2faecb\",\"loader.SideNav\":\"7474f0d\",\"loader.SideNavRedesign\":\"680e47c\",\"shared~loader.Typeahead~loader.DMDrawer~ondemand.HoverCard~bundle.ReaderMode~bundle.AudioSpacePeek~bundle.Bir\":\"0205044\",\"loader.Typeahead-6107ac1a\":\"5921215\",\"loader.Typeahead-a2dee9c7\":\"d82d34f\",\"loader.Typeahead-b7da5e41\":\"8b63557\",\"loader.Typeahead-e019dbda\":\"d952279\",\"loader.Typeahead-1571f5ba\":\"879dccd\",\"loader.Typeahead-8ed0fac5\":\"f391063\",\"loader.Typeahead-50b6b1eb\":\"4871b29\",\"loader.Typeahead-cd7e5e1f\":\"732847d\",\"loader.Typeahead-b085b550\":\"647c644\",\"loader.AppModules-bc6ccf4c\":\"a6872d6\",\"loader.AppModules-6107ac1a\":\"5d5bf55\",\"loader.AppModules-a2dee9c7\":\"afd6be0\",\"loader.AppModules-e4e3d8bb\":\"e14bbbe\",\"loader.AppModules-63cb1cc4\":\"16b8798\",\"ondemand.Dropdown\":\"ccb502e\",\"shared~loader.DMDrawer~bundle.Birdwatch~bundle.Compose~bundle.DirectMessages~bundle.DMRichTextCompos-8d7085c2\":\"cea65c5\",\"shared~loader.DMDrawer~bundle.Birdwatch~bundle.Compose~bundle.DirectMessages~bundle.DMRichTextCompos-53f39e22\":\"310eaeb\",\"shared~loader.DMDrawer~bundle.Birdwatch~bundle.Compose~bundle.DirectMessages~bundle.DMRichTextCompos-167a4ae5\":\"65cee79\",\"shared~loader.DMDrawer~bundle.ReaderMode~bundle.Compose~bundle.DirectMessages~bundle.DMRichTextCompose~bundle\":\"a00d44e\",\"shared~loader.DMDrawer~bundle.Compose~bundle.DirectMessages~bundle.DMRichTextCompose~loader.HWCard~l-a25e0877\":\"c94cb6c\",\"shared~loader.DMDrawer~bundle.Compose~bundle.DirectMessages~bundle.DMRichTextCompose~loader.HWCard~l-0a1983f3\":\"ccff0fa\",\"shared~loader.DMDrawer~bundle.Compose~bundle.DirectMessages~bundle.DMRichTextCompose~loader.HWCard~l-49ce3a1b\":\"43c1da1\",\"shared~loader.DMDrawer~bundle.Compose~bundle.DirectMessages~bundle.DMRichTextCompose~loader.HWCard~l-a9a3eb61\":\"ce45c45\",\"shared~loader.DMDrawer~bundle.Compose~bundle.DirectMessages~bundle.DMRichTextCompose~loader.HWCard~l-0657330d\":\"237779f\",\"shared~loader.DMDrawer~bundle.Compose~bundle.DirectMessages~bundle.DMRichTextCompose~loader.HWCard~l-76dc24ae\":\"4712584\",\"shared~loader.DMDrawer~bundle.DMRichTextCompose~bundle.DirectMessages-1f1c1973\":\"a9270dc\",\"shared~loader.DMDrawer~bundle.DMRichTextCompose~bundle.DirectMessages-a2dee9c7\":\"9b2ef93\",\"shared~loader.DMDrawer~bundle.DMRichTextCompose~bundle.DirectMessages-e4e3d8bb\":\"debf982\",\"shared~loader.DMDrawer~bundle.DMRichTextCompose~bundle.DirectMessages-6c5c183a\":\"4411afc\",\"shared~loader.DMDrawer~bundle.DMRichTextCompose~bundle.DirectMessages-1a48af1c\":\"811b1cd\",\"shared~loader.DMDrawer~bundle.DMRichTextCompose~bundle.DirectMessages-2ace928a\":\"8658bb0\",\"shared~loader.DMDrawer~bundle.DMRichTextCompose~bundle.DirectMessages-60b3c9ec\":\"eb5a94a\",\"shared~loader.DMDrawer~bundle.DMRichTextCompose~bundle.DirectMessages-b085b550\":\"ecca56e\",\"shared~loader.DMDrawer~bundle.DirectMessages~bundle.DMRichTextCompose\":\"f926dc3\",\"shared~loader.DMDrawer~bundle.DirectMessages-1f1c1973\":\"712bac7\",\"shared~loader.DMDrawer~bundle.DirectMessages-e96e9bea\":\"5dcfc70\",\"shared~loader.DMDrawer~bundle.DirectMessages-39bb2f14\":\"c627dd4\",\"shared~loader.DMDrawer~bundle.DirectMessages-9f4db315\":\"e340991\",\"shared~loader.DMDrawer~bundle.DirectMessages-e8fb8688\":\"188633a\",\"shared~loader.DMDrawer~bundle.DirectMessages-d153da50\":\"0a58d04\",\"shared~loader.DMDrawer~bundle.DirectMessages-6195aaff\":\"db5fe2e\",\"loader.DMDrawer\":\"b982eb4\",\"bundle.GrokDrawer-6107ac1a\":\"4939277\",\"bundle.GrokDrawer-bfd49e49\":\"d289090\",\"bundle.GrokDrawer-6ac0f1a5\":\"fcbf5dc\",\"shared~ondemand.EmojiPicker~ondemand.EmojiPickerData~ondemand.ParticipantReaction\":\"7f8838d\",\"ondemand.EmojiPicker\":\"1c505fb\",\"ondemand.HoverCard-6107ac1a\":\"7169e20\",\"ondemand.HoverCard-9f4db315\":\"42848e1\",\"ondemand.HoverCard-63cb1cc4\":\"3fa3bea\",\"ondemand.InlinePlayer-6107ac1a\":\"8ff5e79\",\"ondemand.InlinePlayer-3062047c\":\"d7d2edf\",\"ondemand.InlinePlayer-dbd39de8\":\"cd795fa\",\"ondemand.InlinePlayer-9f4db315\":\"91e5fc1\",\"loaders.video.PlayerBase-bd05098c\":\"d15fb0d\",\"loaders.video.PlayerBase-762d0b99\":\"aaefad4\",\"loaders.video.PlayerBase-04e85dfc\":\"0066ca6\",\"loaders.video.PlayerBase-49d0a293\":\"8b5185b\",\"ondemand.video.PlayerHls1.1-a693e058\":\"7f05ca8\",\"ondemand.video.PlayerHls1.1-f69e5849\":\"c76f50c\",\"loaders.video.PlayerHls1.5-dcf6fa52\":\"55b4b94\",\"loaders.video.PlayerHls1.5-996b2f5e\":\"3ee752d\",\"shared~loaders.video.VideoPlayerDefaultUI~loaders.video.VideoPlayerMiniUI~loaders.video.VideoPlayerHashtagHig\":\"870b8a8\",\"shared~loaders.video.VideoPlayerDefaultUI~loaders.video.VideoPlayerPrerollUI~loaders.video.VideoPlayerEventsU\":\"d44af51\",\"shared~loaders.video.VideoPlayerDefaultUI~loaders.video.VideoPlayerEventsUI\":\"fde3075\",\"shared~loaders.video.VideoPlayerDefaultUI~loaders.video.VideoPlayerPrerollUI\":\"c16ca94\",\"loaders.video.VideoPlayerDefaultUI\":\"6bc964c\",\"loaders.video.VideoPlayerMiniUI\":\"a9a02c0\",\"loaders.video.VideoPlayerHashtagHighlightUI\":\"8e02553\",\"ondemand.CommandCenter\":\"9787adc\",\"ondemand.NotFound\":\"8de7d36\",\"ondemand.s\":\"53e3511\",\"ondemand.DirectMessagesCrypto\":\"6827ddf\",\"bundle.AboutThisAd\":\"7509d93\",\"bundle.NotMyAccount\":\"871b446\",\"shared~bundle.AccountAnalytics~bundle.Grok~ondemand.News~bundle.Ocf~ondemand.Insights~bundle.TV~bundle.Accoun\":\"3c9dc60\",\"shared~bundle.TV~bundle.Account-6107ac1a\":\"22da428\",\"shared~bundle.TV~bundle.Account-63393a95\":\"cd1fcb6\",\"shared~bundle.TV~bundle.Account-e019dbda\":\"a2594a0\",\"bundle.Account\":\"1a4c23a\",\"bundle.MultiAccount\":\"7c5e480\",\"shared~bundle.AccountAnalytics~bundle.Grok~bundle.Payments~bundle.PaymentReceipt~ondemand.News~ondemand.Insig\":\"0a4a8e0\",\"shared~bundle.AccountAnalytics~bundle.Payments~ondemand.Insights~ondemand.Verified~ondemand.XChat\":\"488656e\",\"shared~bundle.AccountAnalytics~bundle.Grok~ondemand.News~ondemand.Insights-5c163be3\":\"4e39f29\",\"shared~bundle.AccountAnalytics~bundle.Grok~ondemand.News~ondemand.Insights-306954a6\":\"ff6b143\",\"shared~bundle.AccountAnalytics~bundle.Grok~ondemand.News~ondemand.Insights-0ec68f8f\":\"a897c3c\",\"shared~bundle.AccountAnalytics~bundle.Grok~ondemand.News~ondemand.Insights-536eaa00\":\"d1e27bd\",\"shared~bundle.AccountAnalytics~bundle.Grok~ondemand.News~ondemand.Insights-0786ae68\":\"bcba448\",\"shared~bundle.AccountAnalytics~bundle.Grok~ondemand.News~ondemand.Insights-f82e0cd2\":\"14f48a7\",\"shared~bundle.AccountAnalytics~bundle.Grok~ondemand.News~ondemand.Insights-f5b13972\":\"1ebedd8\",\"shared~bundle.AccountAnalytics~bundle.Grok~ondemand.News~ondemand.Insights-8584f0c3\":\"432fd38\",\"shared~bundle.AccountAnalytics~bundle.Grok~ondemand.News~ondemand.Insights-01309e43\":\"4361b3d\",\"shared~bundle.AccountAnalytics~bundle.Grok~ondemand.News~ondemand.Insights-398ef225\":\"38d3ff0\",\"shared~bundle.AccountAnalytics~bundle.Grok~ondemand.News~ondemand.Insights-fc70f967\":\"28e2e75\",\"shared~bundle.AccountAnalytics~bundle.Grok~ondemand.News~ondemand.Insights-e43b6c88\":\"45b7326\",\"shared~bundle.AccountAnalytics~bundle.Grok~ondemand.News~ondemand.Insights-b08eb7a4\":\"89dd12a\",\"shared~bundle.AccountAnalytics~bundle.Grok~ondemand.News~ondemand.Insights-5ba759f7\":\"3b4f915\",\"shared~bundle.AccountAnalytics~bundle.Grok~ondemand.News~ondemand.Insights-ae3eee7f\":\"58c339c\",\"shared~bundle.AccountAnalytics~bundle.Grok~ondemand.News~ondemand.Insights-27545368\":\"1be98e7\",\"shared~bundle.AccountAnalytics~ondemand.Insights~ondemand.Verified~ondemand.XChat-49d0a293\":\"d21ce75\",\"shared~bundle.AccountAnalytics~ondemand.Insights~ondemand.Verified~ondemand.XChat-2457460b\":\"9c71548\",\"shared~bundle.AccountAnalytics~ondemand.Insights~ondemand.Verified~ondemand.XChat-2eb835b5\":\"564b973\",\"shared~bundle.AccountAnalytics~ondemand.Insights~ondemand.Verified~ondemand.XChat-11ee3033\":\"71308c8\",\"shared~bundle.AccountAnalytics~ondemand.Insights~ondemand.Verified~ondemand.XChat-ec7d567b\":\"9a68157\",\"shared~bundle.AccountAnalytics~ondemand.Insights~ondemand.Verified~ondemand.XChat-6df53f7b\":\"6660e51\",\"shared~bundle.AccountAnalytics~ondemand.Insights~ondemand.Verified~ondemand.XChat-229eafb5\":\"7e9c567\",\"shared~bundle.AccountAnalytics~ondemand.Insights~ondemand.Verified~ondemand.XChat-5d959941\":\"d52c8a0\",\"shared~bundle.AccountAnalytics~ondemand.Insights~ondemand.Verified~ondemand.XChat-2ca036f3\":\"f985d08\",\"shared~bundle.AccountAnalytics~ondemand.Insights~ondemand.Verified~ondemand.XChat-e019dbda\":\"9ae474e\",\"shared~bundle.AccountAnalytics~ondemand.Insights~ondemand.XChat-cdd60c62\":\"85b951b\",\"shared~bundle.AccountAnalytics~ondemand.Insights~ondemand.XChat-2eb6d141\":\"db6d8cd\",\"shared~bundle.AccountAnalytics~ondemand.Insights~ondemand.XChat-e0ace193\":\"dc95ebd\",\"shared~bundle.AccountAnalytics~ondemand.Insights~ondemand.XChat-27545368\":\"02ce2a3\",\"shared~bundle.AccountAnalytics~ondemand.Insights~ondemand.XChat-e96e9bea\":\"7af8275\",\"shared~bundle.AccountAnalytics~ondemand.Insights~ondemand.Verified-43dd7041\":\"dc99f21\",\"shared~bundle.AccountAnalytics~ondemand.Insights~ondemand.Verified-54f9d3b7\":\"f46ad09\",\"shared~bundle.AccountAnalytics~ondemand.Insights~ondemand.Verified-27545368\":\"9baacd1\",\"shared~bundle.AccountAnalytics~bundle.UserProfile~ondemand.Verified\":\"e3ab405\",\"shared~bundle.AccountAnalytics~ondemand.XChat-ec5b99a5\":\"a39311f\",\"shared~bundle.AccountAnalytics~ondemand.XChat-d96105ec\":\"aa08bda\",\"shared~bundle.AccountAnalytics~ondemand.XChat-836d192c\":\"4a69d31\",\"shared~bundle.AccountAnalytics~ondemand.Verified-6107ac1a\":\"2d30bac\",\"shared~bundle.AccountAnalytics~ondemand.Verified-51fd5ac3\":\"d455846\",\"shared~bundle.AccountAnalytics~ondemand.Verified-c6fe4ea4\":\"6955c4b\",\"shared~bundle.AccountAnalytics~ondemand.Insights-536eaa00\":\"5929e0e\",\"shared~bundle.AccountAnalytics~ondemand.Insights-27545368\":\"35db8c3\",\"bundle.AccountAnalytics-bc6ccf4c\":\"0b45264\",\"bundle.AccountAnalytics-e78a51f5\":\"7fbbbb7\",\"bundle.AccountAnalytics-6f3ca5c1\":\"745dd76\",\"bundle.AccountAnalytics-574545e6\":\"469db22\",\"bundle.AccountAnalytics-f82e0cd2\":\"c2e6644\",\"bundle.AccountAnalytics-02f009a5\":\"eaf917e\",\"bundle.AccountAnalytics-2457460b\":\"58c91d4\",\"bundle.AccountAnalytics-13476b65\":\"40d391a\",\"bundle.AccountAnalytics-adcb47af\":\"d18b52b\",\"bundle.AccountAnalytics-e7eb6d46\":\"cd9588d\",\"bundle.AccountAnalytics-aedc5392\":\"7168b1f\",\"bundle.AccountAnalytics-2bdc2522\":\"2ca2f3c\",\"bundle.AccountAnalytics-e8e70de4\":\"bb0cc0d\",\"bundle.AccountAnalytics-e0d0963f\":\"f939770\",\"bundle.AccountAnalytics-89798f50\":\"cdd2fcf\",\"bundle.AccountAnalytics-07ecdc0a\":\"6d1c226\",\"bundle.AccountAnalytics-bda42643\":\"adc4e6c\",\"bundle.AccountAnalytics-5d4eba90\":\"a0964ff\",\"bundle.AccountAnalytics-04134b17\":\"8f07400\",\"bundle.AccountAnalytics-971a3c48\":\"8072f19\",\"bundle.AccountAnalytics-5751b0cc\":\"cf5a096\",\"bundle.AccountAnalytics-e0b49162\":\"e3d0bf4\",\"bundle.AccountAnalytics-29ca9031\":\"030f33c\",\"bundle.AccountAnalytics-03f5f2cc\":\"0622c2d\",\"bundle.AccountAnalytics-95b59639\":\"e91dff3\",\"bundle.AccountAnalytics-30f971dc\":\"77aa4c1\",\"bundle.AccountAnalytics-8eba0336\":\"58533d6\",\"bundle.AccountAnalytics-a2dee9c7\":\"c0b05e7\",\"bundle.AccountAnalytics-e4e3d8bb\":\"d32c834\",\"bundle.AccountAnalytics-d0d5c4c2\":\"ede5a1f\",\"bundle.ReaderMode-6107ac1a\":\"0f600ab\",\"bundle.ReaderMode-c6fe4ea4\":\"4a031b9\",\"bundle.Articles-6107ac1a\":\"409c576\",\"bundle.Articles-5b7ef534\":\"4bb43be\",\"bundle.Articles-b308cbaf\":\"8abc64f\",\"bundle.Articles-9fdb7097\":\"d296021\",\"bundle.Articles-e019dbda\":\"f6076f6\",\"bundle.Articles-e4e3d8bb\":\"f288f5f\",\"shared~bundle.AudioSpacePeek~bundle.Communities~loader.CommunityHandler\":\"df5af64\",\"bundle.AudioSpacePeek\":\"8a485c1\",\"bundle.AudioSpaceDetail\":\"6a9fd16\",\"bundle.AudioSpaceDiscovery\":\"a229d9b\",\"bundle.AudioSpaceAnalytics\":\"041eb41\",\"bundle.AudioSpaceReport\":\"c26e768\",\"bundle.AudioSpacebarScreen\":\"3e0b789\",\"bundle.AudioSpaceStart\":\"ec5b1a7\",\"shared~bundle.Birdwatch~bundle.Grok~ondemand.News~loader.inlineTombstoneHandler~loader.tweetHandler\":\"86221cb\",\"bundle.Birdwatch-bc6ccf4c\":\"278f702\",\"bundle.Birdwatch-a2dee9c7\":\"e484575\",\"bundle.Birdwatch-8ed0fac5\":\"32b9239\",\"bundle.Birdwatch-4ee0261e\":\"fa0f98d\",\"bundle.Birdwatch-a82702a0\":\"93f1b07\",\"bundle.Birdwatch-7d965b76\":\"c071427\",\"bundle.Birdwatch-dec6592b\":\"d7224dc\",\"bundle.Birdwatch-018b0723\":\"555f28d\",\"bundle.Birdwatch-9ec2f64d\":\"dd1b780\",\"bundle.Birdwatch-cf1ec9f3\":\"852ed2d\",\"shared~bundle.BookmarkFolders~bundle.Bookmarks\":\"f916ec7\",\"bundle.BookmarkFolders\":\"8bea7a0\",\"bundle.Bookmarks\":\"6f94534\",\"bundle.BrandedLikesPreview-e16dbf02\":\"0c55d9c\",\"bundle.BrandedLikesPreview-2aa5c1ed\":\"53e9c3f\",\"bundle.BrandedLikesPreview-6107ac1a\":\"7c3d4b1\",\"shared~bundle.LiveEvent~bundle.Live\":\"9c66038\",\"bundle.LiveEvent-6107ac1a\":\"acdd6ca\",\"bundle.LiveEvent-9f4db315\":\"9162623\",\"bundle.LiveEvent-1347f5f8\":\"2bdddc0\",\"bundle.LiveEvent-b308cbaf\":\"cda0753\",\"bundle.LiveEvent-e019dbda\":\"24b0dc5\",\"bundle.LiveEvent-8ed0fac5\":\"199a6eb\",\"bundle.LiveEvent-cf1ec9f3\":\"94cb02d\",\"bundle.Collection\":\"97929c5\",\"shared~bundle.Communities~ondemand.SettingsRevamp\":\"e1037ab\",\"shared~bundle.Communities~bundle.UserLists\":\"44e7823\",\"bundle.Communities-bc6ccf4c\":\"85286f2\",\"bundle.Communities-70f0082f\":\"92544d0\",\"bundle.Communities-fd196509\":\"d316a7f\",\"bundle.Communities-bac8f1fa\":\"7c3518f\",\"bundle.Communities-b4262f30\":\"bd56eea\",\"bundle.Communities-1c2d1ef4\":\"aa4c2e4\",\"bundle.Communities-67fea8a6\":\"d67f958\",\"bundle.Communities-23e54054\":\"7e42f15\",\"bundle.Communities-1d3df36d\":\"be42968\",\"bundle.Communities-2a1252f0\":\"acc0042\",\"bundle.Communities-8825d936\":\"840ccc2\",\"bundle.Communities-59468b1d\":\"2a3a791\",\"bundle.Communities-e019dbda\":\"ddcecb6\",\"bundle.Communities-e4e3d8bb\":\"2ac3a96\",\"bundle.Communities-5d92a2cf\":\"5e88df6\",\"bundle.Communities-ef6409a7\":\"859f6e1\",\"bundle.Communities-1b1c8e3c\":\"ad24005\",\"bundle.Communities-97a39920\":\"707b523\",\"bundle.Communities-87a6e4fe\":\"8d65109\",\"bundle.Communities-1aa9970f\":\"e7f62b0\",\"bundle.Communities-7c8569af\":\"bdfd9f0\",\"shared~bundle.TwitterArticles~bundle.Grok~loader.Markdown~loader.TexBlock\":\"4396642\",\"shared~bundle.TwitterArticles~bundle.SettingsExtendedProfile~bundle.WorkHistory~ondemand.Verified\":\"497cebd\",\"shared~bundle.TwitterArticles~bundle.Grok~loader.Markdown\":\"65180cf\",\"shared~bundle.TwitterArticles~bundle.Compose~bundle.RichTextCompose\":\"0898453\",\"shared~bundle.TwitterArticles~bundle.ComposeMedia-e356040b\":\"24c0eed\",\"shared~bundle.TwitterArticles~bundle.ComposeMedia-a2dee9c7\":\"f2bcc0c\",\"bundle.TwitterArticles-6107ac1a\":\"03deef5\",\"bundle.TwitterArticles-9f4db315\":\"6f8a2ab\",\"bundle.TwitterArticles-967cca90\":\"15527af\",\"bundle.TwitterArticles-e019dbda\":\"6cca124\",\"bundle.TwitterArticles-acb640be\":\"25206af\",\"bundle.TwitterArticles-dee3c9bb\":\"77a4ae1\",\"bundle.TwitterArticles-cf1ec9f3\":\"d26a511\",\"shared~bundle.Compose~bundle.ConversationWithRelay~bundle.Conversation~bundle.RichTextCompose\":\"06a12cd\",\"shared~bundle.Compose~bundle.RichTextCompose-bc6ccf4c\":\"25ab257\",\"shared~bundle.Compose~bundle.RichTextCompose-a2dee9c7\":\"cd9b61d\",\"shared~bundle.Compose~bundle.RichTextCompose-42018f38\":\"98dd9f8\",\"shared~bundle.Compose~bundle.RichTextCompose-07b0deba\":\"39dfab5\",\"shared~bundle.Compose~bundle.RichTextCompose-0fb8c86a\":\"859daa3\",\"shared~bundle.Compose~bundle.RichTextCompose-e6266db0\":\"3964c99\",\"bundle.Compose\":\"7441013\",\"bundle.ComposeMedia\":\"c1c5801\",\"ondemand.ComposeScheduling-e16dbf02\":\"583d863\",\"ondemand.ComposeScheduling-46e7989b\":\"44c7228\",\"ondemand.ComposeScheduling-2aa5c1ed\":\"015600c\",\"ondemand.ComposeScheduling-6107ac1a\":\"f536f9a\",\"ondemand.ComposeScheduling-e019dbda\":\"07741a8\",\"bundle.Conferences-6107ac1a\":\"e2f6eca\",\"bundle.Conferences-8093ae25\":\"0c709f6\",\"bundle.Conferences-39a9bfe0\":\"5d79455\",\"bundle.ConnectTab\":\"0961acc\",\"bundle.Conversation-e907d115\":\"245ead5\",\"bundle.Conversation-e019dbda\":\"ca5f2df\",\"bundle.Conversation-b8b7ca9d\":\"60c03c4\",\"bundle.Conversation-0d835cf1\":\"62de07e\",\"bundle.Conversation-a665aad7\":\"f2b0470\",\"bundle.Conversation-c14c160f\":\"c014f6f\",\"bundle.Conversation-8e3af64c\":\"28c3bcd\",\"bundle.Conversation-c431102c\":\"a4ab4d0\",\"bundle.Conversation-9c7eb7fe\":\"472073b\",\"bundle.Conversation-c0214baf\":\"38ccc3e\",\"bundle.Delegate-bc6ccf4c\":\"048ce7a\",\"bundle.Delegate-e96e9bea\":\"d457e80\",\"bundle.Delegate-e019dbda\":\"afbba92\",\"bundle.Delegate-63cb1cc4\":\"ba8167f\",\"shared~bundle.AccountVerification~bundle.SettingsProfile~bundle.UserLists~loader.MediaPickerWithPreview~bundl\":\"ffe6472\",\"shared~bundle.AccountVerification~bundle.BadgeViolationsNotification~bundle.SettingsRevamp\":\"192783e\",\"bundle.AccountVerification-6107ac1a\":\"743eaf1\",\"bundle.AccountVerification-9a517202\":\"9c5021e\",\"bundle.AccountVerification-99cc371c\":\"36635ee\",\"bundle.AccountVerification-3ccae474\":\"d6de0a7\",\"shared~ondemand.SettingsInternals~bundle.SettingsRevamp~bundle.SettingsTransparency\":\"39652bd\",\"shared~ondemand.SettingsInternals~ondemand.SettingsRevamp\":\"0d370c1\",\"ondemand.SettingsInternals-6107ac1a\":\"86b94b8\",\"ondemand.SettingsInternals-5b7ef534\":\"a1449bf\",\"ondemand.SettingsInternals-9f4db315\":\"113e8de\",\"ondemand.SettingsInternals-8ed0fac5\":\"f915a4c\",\"ondemand.SettingsInternals-0564e869\":\"24cf5ba\",\"ondemand.SettingsInternals-71f5c63d\":\"d7315a3\",\"ondemand.SettingsInternals-cff17ecc\":\"b7b96a8\",\"ondemand.SettingsInternals-394f886d\":\"db8337d\",\"shared~ondemand.SettingsRevamp~ondemand.SettingsMonetization~ondemand.SettingsSuperFollows~ondemand.SettingsA\":\"900c891\",\"shared~ondemand.SettingsRevamp~bundle.TwitterBlue\":\"2439b03\",\"shared~ondemand.SettingsRevamp~ondemand.SettingsMonetization\":\"62b3c37\",\"ondemand.SettingsRevamp-6107ac1a\":\"0c6f70c\",\"ondemand.SettingsRevamp-9f4db315\":\"ddc78a0\",\"ondemand.SettingsRevamp-8ed0fac5\":\"4b17408\",\"ondemand.SettingsRevamp-4e00201e\":\"395c06d\",\"ondemand.SettingsRevamp-32bb1570\":\"6c82ca1\",\"ondemand.SettingsRevamp-cff17ecc\":\"9882899\",\"ondemand.SettingsRevamp-1bcddef9\":\"1997850\",\"bundle.AccountAutomation\":\"fcaa3ee\",\"bundle.Settings-e907d115\":\"8e12f1d\",\"bundle.Settings-9f4db315\":\"53e8030\",\"bundle.Settings-8ed0fac5\":\"2e73154\",\"bundle.SettingsInternals\":\"51e3d0f\",\"shared~bundle.SettingsProfile~bundle.WorkHistory~bundle.ExtendedUserProfile~bundle.UserProfile\":\"f7b8c17\",\"shared~bundle.SettingsProfile~bundle.Ocf\":\"8dfed90\",\"bundle.SettingsProfile\":\"aba14ac\",\"shared~bundle.SettingsExtendedProfile~bundle.WorkHistory~bundle.JobSearch~ondemand.Verified~bundle.UserJobs~b\":\"b6e0956\",\"bundle.SettingsExtendedProfile\":\"eb980c8\",\"bundle.WorkHistory-bc6ccf4c\":\"569b06a\",\"bundle.WorkHistory-fd196509\":\"c2bc9e4\",\"bundle.WorkHistory-42018f38\":\"1578545\",\"bundle.WorkHistory-8ed0fac5\":\"2aa3262\",\"ondemand.SensitiveMediaSettings\":\"75ec0bc\",\"shared~ondemand.SettingsMonetization~ondemand.SettingsSuperFollows~bundle.SuperFollowsSubscribe\":\"bdb1079\",\"shared~ondemand.SettingsMonetization~ondemand.SettingsSuperFollows-6107ac1a\":\"5f38e95\",\"shared~ondemand.SettingsMonetization~ondemand.SettingsSuperFollows-63cb1cc4\":\"1ed2a5e\",\"ondemand.SettingsMonetization-6107ac1a\":\"c869112\",\"ondemand.SettingsMonetization-41539872\":\"c83440c\",\"ondemand.SettingsMonetization-213f649d\":\"7775b7a\",\"ondemand.SettingsMonetization-b308cbaf\":\"b35c419\",\"ondemand.SettingsMonetization-8ed0fac5\":\"103b994\",\"ondemand.SettingsSuperFollows-6107ac1a\":\"a686871\",\"ondemand.SettingsSuperFollows-c6fe4ea4\":\"fa71a9d\",\"ondemand.SettingsSuperFollows-7810f3b3\":\"d32f3e2\",\"ondemand.SettingsSuperFollows-580483cf\":\"7aa4871\",\"ondemand.SettingsAwards\":\"728ade6\",\"bundle.DirectMessages-6107ac1a\":\"20706fa\",\"bundle.DirectMessages-cfa1514a\":\"ca83508\",\"bundle.DirectMessages-9f4db315\":\"0eb6de0\",\"bundle.DirectMessages-fb4ffec0\":\"50943ff\",\"bundle.DirectMessages-bfd49e49\":\"d832a06\",\"bundle.DirectMessages-8486177b\":\"1bef4fd\",\"bundle.DirectMessages-63cb1cc4\":\"eaac928\",\"bundle.DirectMessages-61a8d679\":\"658545e\",\"bundle.DirectMessages-58b91ff1\":\"c69028d\",\"bundle.DirectMessages-6ac0f1a5\":\"85df2da\",\"bundle.DMRichTextCompose\":\"019f104\",\"bundle.Display\":\"68e2cdb\",\"shared~bundle.Explore~bundle.Topics\":\"f519ecb\",\"bundle.Explore\":\"719b21a\",\"bundle.GenericTimeline\":\"a3dbb54\",\"bundle.GifSearch\":\"62a19f2\",\"bundle.Ocf-e907d115\":\"7ff9dd8\",\"bundle.Ocf-e96e9bea\":\"40df2fc\",\"bundle.Ocf-9f4db315\":\"900e35d\",\"bundle.Ocf-e4e3d8bb\":\"f850651\",\"bundle.Ocf-0564e869\":\"20c692d\",\"bundle.Ocf-657ccee8\":\"0585eda\",\"bundle.Ocf-14131f0c\":\"ca18625\",\"bundle.Ocf-5b3c9a00\":\"743e71a\",\"bundle.Ocf-5fa231a1\":\"0765326\",\"bundle.Ocf-5c0314fd\":\"7629c0b\",\"bundle.Ocf-167ef047\":\"d521e3b\",\"bundle.Ocf-3c1f9d32\":\"0ed5fe9\",\"bundle.Ocf-baea4da5\":\"eefb180\",\"bundle.GraduatedAccess\":\"8aa148b\",\"bundle.Grok-e907d115\":\"c270f67\",\"bundle.Grok-e96e9bea\":\"29c19fa\",\"bundle.Grok-0ae4e026\":\"571c1b8\",\"bundle.Grok-b16f5c14\":\"4105449\",\"bundle.Grok-9f4db315\":\"bc70fb1\",\"bundle.Grok-e4e3d8bb\":\"73f92c7\",\"bundle.Grok-966b2597\":\"347f00b\",\"bundle.Grok-ee7108b9\":\"6ffd9ed\",\"bundle.Grok-c69e90f3\":\"26fc086\",\"bundle.Grok-ea2f266f\":\"fcaed88\",\"bundle.Grok-16d5f187\":\"a2beb23\",\"bundle.Grok-bf286bb5\":\"9d4ba7f\",\"bundle.Grok-78699f4a\":\"2f57697\",\"bundle.Grok-38dc3b4a\":\"560590a\",\"bundle.Grok-1d830d6b\":\"a488983\",\"bundle.Grok-d49ace54\":\"fa44cdb\",\"bundle.Grok-3277c3ad\":\"f65f149\",\"bundle.Grok-57c2c4a2\":\"8f1b770\",\"bundle.Grok-f1a12957\":\"90f0b67\",\"bundle.Grok-78667c23\":\"41db1a4\",\"bundle.Grok-a244d277\":\"8b34ace\",\"bundle.Grok-0d8ef87b\":\"b7221d0\",\"bundle.Grok-1d41f45b\":\"68c6ada\",\"bundle.Grok-b8348d5d\":\"a6d6b6e\",\"bundle.Grok-7bc92c09\":\"65be64b\",\"bundle.Grok-0f78f5a6\":\"3dc802c\",\"bundle.Grok-7a6ce5c4\":\"7c31bba\",\"bundle.Grok-cebf58fc\":\"583ff51\",\"bundle.Grok-b328b613\":\"eed355f\",\"bundle.Grok-9e9ee61b\":\"c82ff89\",\"bundle.Grok-6ac0f1a5\":\"fae1bd5\",\"bundle.Grok-3c20ad5c\":\"453a866\",\"shared~bundle.JobSearch~bundle.UserJobs~loader.WideLayout\":\"bb64a6c\",\"shared~bundle.JobSearch~bundle.UserJobs\":\"f64e042\",\"bundle.JobSearch-6107ac1a\":\"b972b10\",\"bundle.JobSearch-a2dee9c7\":\"91ff0e3\",\"bundle.JobSearch-e6266db0\":\"06477a7\",\"bundle.JobSearch-55a71481\":\"979d0e8\",\"bundle.ShareJob\":\"bdbb01f\",\"bundle.KeyboardShortcuts\":\"e69c8f5\",\"bundle.HomeTimeline\":\"336ffab\",\"bundle.Login\":\"5e0dc78\",\"bundle.Logout-6107ac1a\":\"470de07\",\"bundle.Logout-9f4db315\":\"11fe2c5\",\"bundle.MonetizationV2\":\"bce82a5\",\"shared~bundle.Payments~bundle.PaymentReceipt-34762570\":\"f07d167\",\"shared~bundle.Payments~bundle.PaymentReceipt-8ed0fac5\":\"b5cf2c3\",\"shared~bundle.Payments~bundle.TV\":\"6dfd611\",\"bundle.Payments-6107ac1a\":\"6879452\",\"bundle.Payments-960914ab\":\"f29f431\",\"bundle.Payments-7f8e98f6\":\"4846044\",\"bundle.Payments-9f4db315\":\"2755971\",\"bundle.Payments-63cb1cc4\":\"fb7d7f4\",\"bundle.Payments-25e67f1f\":\"3b93145\",\"bundle.Payments-41dc26ea\":\"209d1f4\",\"bundle.Payments-c7951328\":\"4da5f07\",\"bundle.Payments-71f7a682\":\"2c71eb1\",\"bundle.Payments-2562326a\":\"6d4f417\",\"bundle.PaymentReceipt\":\"d8c05b9\",\"bundle.PaymentShared\":\"7da7c1a\",\"ondemand.News-6107ac1a\":\"06c5af5\",\"ondemand.News-e019dbda\":\"cea170f\",\"ondemand.News-836da808\":\"08d85a5\",\"ondemand.News-c4c736e0\":\"6d4e485\",\"bundle.NotABot\":\"f33733b\",\"bundle.BadgeViolationsNotification\":\"c60348b\",\"bundle.Twitterversary\":\"e042aac\",\"bundle.NotificationDetail\":\"433ecdc\",\"bundle.OAuth\":\"313aeb5\",\"bundle.Place\":\"b6e6453\",\"bundle.PremiumHub\":\"e34e1d4\",\"shared~bundle.PremiumJobs~ondemand.Verified-6107ac1a\":\"758f75e\",\"shared~bundle.PremiumJobs~ondemand.Verified-55a71481\":\"f17d041\",\"shared~bundle.PremiumJobs~ondemand.Verified-a094b331\":\"7d80700\",\"shared~bundle.PremiumJobs~ondemand.Verified-2ace1ef0\":\"4bf88aa\",\"bundle.PremiumJobs\":\"63cbe92\",\"ondemand.Verified-e907d115\":\"5a30eb7\",\"ondemand.Verified-d2eb5610\":\"e908b10\",\"ondemand.Verified-9f69d4bc\":\"d393b8a\",\"ondemand.Verified-960914ab\":\"741bff7\",\"ondemand.Verified-1c2d1ef4\":\"98cada7\",\"ondemand.Verified-ee0d0da9\":\"973fad2\",\"ondemand.Verified-9f4db315\":\"6722fa2\",\"ondemand.Verified-964cff98\":\"430b327\",\"ondemand.Verified-d6137497\":\"52d293c\",\"ondemand.Verified-0cd3da2a\":\"c3d2150\",\"ondemand.Verified-3ca048ad\":\"0f593ba\",\"ondemand.Verified-c04190a6\":\"c390857\",\"ondemand.Verified-2ace1ef0\":\"9ece670\",\"ondemand.Verified-b08cea6e\":\"dd1d9e1\",\"bundle.TwitterBlue-6107ac1a\":\"e5b28e6\",\"bundle.TwitterBlue-9f4db315\":\"ac6a1ad\",\"bundle.TwitterBlue-920f3364\":\"e28cf83\",\"bundle.TwitterBlue-b8334df9\":\"3aae151\",\"bundle.TwitterBlue-3db873ec\":\"43f6855\",\"bundle.TwitterBlue-964cff98\":\"b61db27\",\"bundle.SettingsProfessionalProfile-6107ac1a\":\"e94b210\",\"bundle.SettingsProfessionalProfile-12b7bef9\":\"b099924\",\"bundle.SettingsProfessionalProfile-e019dbda\":\"732468b\",\"shared~bundle.SettingsProfessionalProfileProfileSpotlight~bundle.SettingsProfessionalProfileLocationSpotlight\":\"b10531c\",\"shared~bundle.SettingsProfessionalProfileProfileSpotlight~bundle.UserProfile\":\"b44e430\",\"bundle.SettingsProfessionalProfileProfileSpotlight-6107ac1a\":\"3d29c37\",\"bundle.SettingsProfessionalProfileProfileSpotlight-8ed0fac5\":\"7e48ac4\",\"bundle.SettingsProfessionalProfileLocationSpotlight-bc6ccf4c\":\"c24f4fa\",\"bundle.SettingsProfessionalProfileLocationSpotlight-e713b73f\":\"58445f5\",\"bundle.SettingsProfessionalProfileLocationSpotlight-defe98a5\":\"6169ec0\",\"bundle.SettingsProfessionalProfileLocationSpotlight-a2dee9c7\":\"ad8e64c\",\"bundle.SettingsProfessionalProfileLocationSpotlight-345ed09c\":\"e313fa4\",\"bundle.SettingsProfessionalProfileMobileAppSpotlight\":\"cc112a2\",\"bundle.SettingsProfessionalProfileCommunitiesSpotlight-6107ac1a\":\"7845c3c\",\"bundle.SettingsProfessionalProfileCommunitiesSpotlight-3575831d\":\"6acde48\",\"bundle.SettingsProfessionalProfileCommunitiesSpotlight-44bee0e7\":\"8306a09\",\"bundle.SettingsProfessionalProfileCommunitiesSpotlight-a2dee9c7\":\"da01284\",\"bundle.SettingsProfessionalProfileCommunitiesSpotlight-6c5c183a\":\"4fc79f2\",\"bundle.ProfessionalHome\":\"2de7032\",\"loader.WideLayout\":\"a535036\",\"shared~ondemand.Insights~ondemand.XChat\":\"c79ec34\",\"ondemand.Insights-536eaa00\":\"043116e\",\"ondemand.Insights-c43041c1\":\"c720107\",\"ondemand.Insights-c257a07f\":\"19458d9\",\"ondemand.Insights-f7352727\":\"a9e2ffd\",\"ondemand.Insights-2fac9078\":\"f2a8e4d\",\"ondemand.Insights-1517057a\":\"19337ec\",\"ondemand.Insights-9f69d4bc\":\"9f02d37\",\"ondemand.Insights-a9e5c193\":\"069f35b\",\"shared~bundle.Report~loader.EventSummaryHandler~loader.MomentSummaryHandler\":\"0b6ff00\",\"bundle.Report-6107ac1a\":\"fa27173\",\"bundle.Report-acb640be\":\"8ff4812\",\"bundle.Report-58964500\":\"ba22b10\",\"shared~bundle.ReportCenter~bundle.SafetyCenter-e16dbf02\":\"8173a0a\",\"shared~bundle.ReportCenter~bundle.SafetyCenter-2aa5c1ed\":\"b50f4b1\",\"shared~bundle.ReportCenter~bundle.SafetyCenter-09920e85\":\"82eb2d3\",\"shared~bundle.ReportCenter~bundle.SafetyCenter-e96e9bea\":\"8fe7487\",\"bundle.ReportCenter\":\"7a116a2\",\"bundle.SafetyCenter-6107ac1a\":\"371a7aa\",\"bundle.SafetyCenter-e019dbda\":\"332bb4f\",\"bundle.LoggedOutHome\":\"8adef6f\",\"bundle.Search-bc6ccf4c\":\"30ead31\",\"bundle.Search-9f4db315\":\"4a0fee8\",\"bundle.AdvancedSearch\":\"a22a7f6\",\"bundle.Chat\":\"954ccf0\",\"ondemand.StaticAssets\":\"345fa4d\",\"bundle.Topics\":\"3a355bb\",\"bundle.ExploreTopics\":\"fb52a65\",\"bundle.Trends\":\"8d9c537\",\"bundle.TrustedFriendsManagement\":\"55647ba\",\"bundle.TrustedFriendsRedirect\":\"94892ad\",\"bundle.ConversationWithRelay-1f1c1973\":\"b955cb5\",\"bundle.ConversationWithRelay-e96e9bea\":\"4a8a6fd\",\"bundle.ConversationWithRelay-a7d46b56\":\"1d99791\",\"bundle.TweetMediaTags\":\"c746271\",\"bundle.ConversationParticipants\":\"b6308b9\",\"bundle.TweetMediaDetail-6107ac1a\":\"1c18e06\",\"bundle.TweetMediaDetail-83fa31d0\":\"38a7e54\",\"bundle.ImmersiveMediaViewer\":\"e2666f5\",\"bundle.TweetEditHistory\":\"009df7b\",\"bundle.QuoteTweetActivity\":\"9ee5d98\",\"bundle.TweetActivity\":\"dd336cc\",\"bundle.TweetCoinDetails\":\"b2dac08\",\"bundle.TwitterBluePaymentFailureFix\":\"810ae82\",\"bundle.TwitterCoinsManagement\":\"07bc9a5\",\"bundle.UserJobs\":\"3e4b9b4\",\"bundle.UserLists-6107ac1a\":\"5091ae3\",\"bundle.UserLists-b308cbaf\":\"175cbd0\",\"bundle.UserLists-8ed0fac5\":\"816ca25\",\"bundle.UserLists-99ebe121\":\"822412c\",\"bundle.UserAvatar-6107ac1a\":\"653f754\",\"bundle.UserAvatar-8ed0fac5\":\"91daac1\",\"bundle.UserAvatar-2291c9da\":\"6d20918\",\"bundle.UserAvatar-8486177b\":\"a89f7f4\",\"bundle.UserAvatar-3c20ad5c\":\"afbc7c5\",\"bundle.UserRedirect\":\"fcae310\",\"bundle.SuperFollowsManage\":\"b15b85b\",\"bundle.FollowerRequests\":\"9ecdc80\",\"bundle.ProfileRedirect\":\"5dbf3f9\",\"bundle.SuperFollowsSubscribe\":\"5900a20\",\"bundle.UserFollowLists\":\"8b8f8a4\",\"bundle.ExtendedUserProfile\":\"f1648df\",\"bundle.PremiumGifting\":\"3f0d154\",\"bundle.UserProfile-6107ac1a\":\"a3ad195\",\"bundle.UserProfile-00c74bbe\":\"473d67d\",\"bundle.UserProfile-0127dd92\":\"e11e8b1\",\"bundle.UserProfile-e019dbda\":\"c8b8ff2\",\"bundle.UserProfile-63cb1cc4\":\"b3279e8\",\"bundle.UserProfile-70e212e1\":\"1f33923\",\"bundle.UserProfile-8bf258cf\":\"bf8a0c8\",\"bundle.UserProfile-82566a6c\":\"356e61a\",\"bundle.VideoScreen-6107ac1a\":\"cd530e0\",\"bundle.VideoScreen-b308cbaf\":\"75af6cd\",\"bundle.VideoScreen-e019dbda\":\"879814b\",\"bundle.VideoScreen-e4e3d8bb\":\"db40827\",\"bundle.WebViewPreload\":\"13aeaca\",\"ondemand.XChat-43dd7041\":\"fb28b9e\",\"ondemand.XChat-9c6da171\":\"3d92a7f\",\"ondemand.XChat-21b78223\":\"d4797ae\",\"ondemand.XChat-d96105ec\":\"60a0dcf\",\"ondemand.XChat-f46dc3dc\":\"f31e8df\",\"ondemand.XChat-5d959941\":\"4c7e8c8\",\"ondemand.XChat-3ad00c61\":\"188cc3e\",\"ondemand.XChat-4e08b83d\":\"7b60043\",\"ondemand.XChat-f7dc5fab\":\"7475c32\",\"ondemand.XChat-170d59ab\":\"870351d\",\"ondemand.XChat-062de155\":\"183c269\",\"ondemand.XChat-e87da92c\":\"4860326\",\"ondemand.XChat-d967d094\":\"a099102\",\"ondemand.XChat-2ae4c1ad\":\"3e078e1\",\"ondemand.XChat-07f20c8c\":\"2479588\",\"ondemand.XChat-33949188\":\"dd32a7e\",\"ondemand.XChat-1d44c88c\":\"94b85c6\",\"ondemand.XChat-c5544097\":\"7849424\",\"ondemand.XChat-26605358\":\"c2929d3\",\"ondemand.XChat-66ac5a82\":\"d3c22c2\",\"ondemand.XChat-b1ea04d8\":\"86b0b1c\",\"ondemand.XChat-dcf68ae3\":\"27f9803\",\"ondemand.XChat-bf6de487\":\"c4c4b66\",\"ondemand.XChat-dbfcb662\":\"a7d5d0b\",\"ondemand.XChat-ba4d44ff\":\"7440290\",\"ondemand.XChat-ae9f6adc\":\"5c74d02\",\"ondemand.XChat-3cc6c8f8\":\"f760261\",\"ondemand.XChat-32d29c27\":\"7d7ee5e\",\"ondemand.XChat-681ce159\":\"649ab36\",\"ondemand.XChat-954228e0\":\"a5a91e6\",\"ondemand.XChat-57197d5f\":\"cc5c628\",\"ondemand.XChat-7b644756\":\"91be7bd\",\"ondemand.XChat-58d23090\":\"978c8e1\",\"ondemand.XChat-f2f827c9\":\"a5f7472\",\"ondemand.XChat-30f971dc\":\"ad4d6a4\",\"ondemand.XChat-eca6a814\":\"1a2461f\",\"ondemand.XChat-f141c2f6\":\"e3ec787\",\"ondemand.XChat-e96e9bea\":\"a7dfa6d\",\"loader.LoggedOutNotifications\":\"aa9e0e5\",\"bundle.TV-e96e9bea\":\"a5627c5\",\"bundle.TV-e019dbda\":\"18349c7\",\"bundle.TV-b085b550\":\"9ca3826\",\"bundle.TV-3b7b1c3f\":\"8ac98f1\",\"bundle.TV-7d239244\":\"6ff6260\",\"loader.Markdown\":\"9a8a90a\",\"ondemand.ParticipantReaction\":\"1d799f9\",\"loader.HWCard\":\"458aed8\",\"loader.AudioContextVoiceMedia\":\"d1177e0\",\"loader.AudioContextSpaceClip\":\"4a3f450\",\"loader.AudioContextSpaceMedia\":\"77d36df\",\"loader.AudioOnlyVideoPlayer-6107ac1a\":\"67bd1ae\",\"loader.AudioOnlyVideoPlayer-e96e9bea\":\"01e3046\",\"loader.AudioOnlyVideoPlayer-dbd39de8\":\"4947e62\",\"bundle.SettingsRevamp\":\"38f38b6\",\"bundle.SettingsTransparency\":\"31870fc\",\"bundle.Download\":\"239f2a7\",\"loader.AbsolutePower\":\"1dfa05d\",\"ondemand.LottieWeb\":\"d05116e\",\"loader.Confetti-6107ac1a\":\"ac2a04c\",\"loader.Confetti-d728816b\":\"ec2d016\",\"loader.Confetti-229eafb5\":\"e6cd3c9\",\"loader.Confetti-5ccade72\":\"b221850\",\"loader.TimelineRenderer\":\"fb709eb\",\"loader.DividerHandler\":\"d9f96b0\",\"loader.TombstonedEntryHandler\":\"dee5ecd\",\"loader.ArticleHandler\":\"2de728b\",\"loader.collectionHeaderHandler\":\"5d835a6\",\"loader.CommunityHandler\":\"9130fd4\",\"loader.GapHandler\":\"437a6ba\",\"shared~loader.EventSummaryHandler~loader.ListHandler\":\"a862d52\",\"loader.EventSummaryHandler\":\"f44ada5\",\"loader.TimelineFrameHandler\":\"4ad0101\",\"loader.IconLabelHandler\":\"9948b61\",\"loader.InlinePromptHandler\":\"3b5ff1a\",\"ondemand.jobLoader\":\"2c6d1f8\",\"loader.TransparentLabelHandler\":\"8d45bb1\",\"loader.LabelHandler\":\"59b4544\",\"loader.ListHandler\":\"564855a\",\"loader.MessageHandler\":\"190bec0\",\"loader.MomentAnnotationHandler\":\"963056c\",\"loader.MomentSummaryHandler\":\"b8975fe\",\"loader.newsEntriesGapHandler\":\"3e13f95\",\"loader.newsArticleHandler\":\"f2c2d66\",\"loader.newsPreviewHandler\":\"41198d9\",\"loader.NotificationHandler\":\"33adb7b\",\"loader.PagedCarouselItemHandler\":\"45871a6\",\"loader.promptHandler\":\"d9a4f5b\",\"ondemand.recruitingOrganizationLoader\":\"68e6fae\",\"loader.RelatedSearchHandler\":\"3d76bf1\",\"loader.ScoreEventSummaryHandler\":\"46e4da9\",\"loader.selfThreadTweetComposerHandler\":\"0622b03\",\"loader.spellingHandler\":\"3c0b786\",\"loader.ThreadHeaderHandler\":\"155f95b\",\"loader.TileHandler\":\"cdafde4\",\"loader.TimelineCardHandler\":\"5c52f9f\",\"loader.CarouselTimelineHandler\":\"60d09e9\",\"loader.ConversationGapHandler\":\"514897f\",\"loader.FooterLoader\":\"d37fc65\",\"loader.ModuleHeader\":\"0d17ecb\",\"loader.ImpressionPlaceholderHandler\":\"3da08ec\",\"loader.ShowMoreHandler\":\"10fc09a\",\"loader.VerticalGridListHandler\":\"e86626a\",\"loader.VerticalGridRowHandler\":\"adfeccd\",\"ondemand.timelinePivotLoader\":\"255a89c\",\"shared~loader.inlineTombstoneHandler~loader.tweetHandler\":\"3c82cde\",\"loader.inlineTombstoneHandler\":\"6901c96\",\"loader.tweetUnavailableTombstoneHandler\":\"795a17a\",\"loader.disconnectedRepliesTombstoneHandler\":\"ddb46c5\",\"loader.topicHandler\":\"fc30186\",\"loader.TopicFollowPromptHandler\":\"bd2916f\",\"loader.topicLandingHeaderHandler\":\"f131e09\",\"loader.TrendHandler\":\"d00bf7e\",\"loader.tweetHandler\":\"e00d5d9\",\"loader.unsupportedHandler\":\"3528a88\",\"loader.UserHandler\":\"ecfdc59\",\"loader.VerticalGridItemHandler\":\"6f71d11\",\"loader.GetVerifiedSidebar\":\"e3a116d\",\"shared~loader.Spacebar~loader.SidebarSpacebar\":\"b5d441c\",\"loader.Spacebar\":\"08ac034\",\"loader.SidebarSpacebar\":\"d516a53\",\"loader.VerifiedOrgSidebarModule\":\"835b172\",\"loader.ExploreSidebar\":\"38da08f\",\"loader.SignupModule\":\"120a911\",\"loaders.video.VideoPlayer\":\"842720c\",\"loader.FeedbackSheet\":\"e32f8e5\",\"ondemand.Intercom\":\"a66ef59\",\"ondemand.RichText\":\"3e204b3\",\"loader.PushNotificationsPrompt\":\"35d8cfd\",\"loader.MediaPreviewVideoPlayer\":\"bc78385\",\"ondemand.ModelViewer\":\"301f3ab\",\"loaders.video.VideoPlayerPrerollUI\":\"da159b0\",\"node_modules_x-clients_features_messages_en_json\":\"3be5345\",\"loader.JetfuelFrame\":\"736d8c6\",\"loader.PreviewActions\":\"eb17443\",\"loader.Grok\":\"89479b1\",\"loader.TexBlock\":\"33fd138\",\"ondemand.ReactBeautifulDnd-e96e9bea\":\"7a8580a\",\"ondemand.ReactBeautifulDnd-1c3ec694\":\"9474948\",\"ondemand.Spacebar.Mocks\":\"cde891b\",\"loader.TweetCurationActionMenu-e96e9bea\":\"4cf07cf\",\"loader.TweetCurationActionMenu-b7da5e41\":\"607b855\",\"loader.TweetCurationActionMenu-e019dbda\":\"c83b051\",\"loader.TweetCurationActionMenu-acb640be\":\"f261a40\",\"ondemand.IntentPrompt\":\"99cb5b3\",\"loader.PivotLabelHandler\":\"4326c0a\",\"loaders.video.VideoPlayerEventsUI\":\"7963613\",\"loader.MediaPickerWithPreview\":\"a0e7128\",\"loader.CodeBlock-49d0a293\":\"58d25dc\",\"loader.CodeBlock-354a642d\":\"ccff379\",\"loader.CodeBlock-e96e9bea\":\"497925a\",\"ondemand.countries-ar\":\"fe44b85\",\"ondemand.countries-bg\":\"938d460\",\"ondemand.countries-bn\":\"f51e40c\",\"ondemand.countries-ca\":\"144320c\",\"ondemand.countries-cs\":\"329e62a\",\"ondemand.countries-da\":\"0c55fdb\",\"ondemand.countries-de\":\"5f93379\",\"ondemand.countries-el\":\"a536d79\",\"ondemand.countries-en-GB\":\"f4bde19\",\"ondemand.countries-en\":\"864b1a5\",\"ondemand.countries-es\":\"5aee314\",\"ondemand.countries-eu\":\"f936bb7\",\"ondemand.countries-fa\":\"1ec22ff\",\"ondemand.countries-fi\":\"4315b2d\",\"ondemand.countries-fil\":\"8de67be\",\"ondemand.countries-fr\":\"226794d\",\"ondemand.countries-ga\":\"7297562\",\"ondemand.countries-gl\":\"924d8c3\",\"ondemand.countries-gu\":\"07532ee\",\"ondemand.countries-he\":\"6badcc1\",\"ondemand.countries-hi\":\"e3835a3\",\"ondemand.countries-hr\":\"7406b75\",\"ondemand.countries-hu\":\"5ecca6b\",\"ondemand.countries-id\":\"c25572c\",\"ondemand.countries-ig\":\"b042c7e\",\"ondemand.countries-it\":\"42217b0\",\"ondemand.countries-ja\":\"966d376\",\"ondemand.countries-kn\":\"0fb65ab\",\"ondemand.countries-ko\":\"b124ee7\",\"ondemand.countries-mr\":\"1a42198\",\"ondemand.countries-ms\":\"39555bf\",\"ondemand.countries-nb\":\"b630407\",\"ondemand.countries-nl\":\"aa419d3\",\"ondemand.countries-pl\":\"9e397c9\",\"ondemand.countries-pt\":\"e4bc7a9\",\"ondemand.countries-ro\":\"48a806b\",\"ondemand.countries-ru\":\"e562860\",\"ondemand.countries-sk\":\"04e6577\",\"ondemand.countries-sr\":\"a917274\",\"ondemand.countries-sv\":\"ad910eb\",\"ondemand.countries-ta\":\"c43739a\",\"ondemand.countries-th\":\"d639668\",\"ondemand.countries-tr\":\"9d48830\",\"ondemand.countries-uk\":\"d6cabcf\",\"ondemand.countries-ur\":\"7c54ddf\",\"ondemand.countries-yo\":\"4814419\",\"ondemand.countries-zh-Hant\":\"08ee75e\",\"ondemand.countries-zh\":\"c8e3374\",\"ondemand.EditBirthdate\":\"839ba16\",\"ondemand.qrcode\":\"deeb841\",\"bundle.RichTextCompose\":\"d09a82d\",\"ondemand.framerateTracking\":\"7f6200a\",\"bundle.TimezoneSelector.timezones\":\"816992f\",\"loader.immersiveTweetHandler\":\"6dc0d80\",\"loader.ProfileClusterFollow\":\"d584105\",\"ondemand.Balloons\":\"b3076e7\",\"node_modules_juicebox-sdk_juicebox-sdk_js\":\"d1f21d0\",\"ondemand.CarouselScroller\":\"5bbe29a\",\"ondemand.LeaveThisConversation\":\"74e1459\",\"ondemand.CommunityTweetPinning\":\"1b2826d\",\"react-syntax-highlighter/refractor-core-import\":\"2921ef3\",\"react-syntax-highlighter_languages_refractor_abap\":\"2ef1b50\",\"react-syntax-highlighter_languages_refractor_abnf\":\"37a65d8\",\"react-syntax-highlighter_languages_refractor_actionscript\":\"1f2811b\",\"react-syntax-highlighter_languages_refractor_ada\":\"7129d72\",\"react-syntax-highlighter_languages_refractor_agda\":\"997fa7f\",\"react-syntax-highlighter_languages_refractor_al\":\"5230d12\",\"react-syntax-highlighter_languages_refractor_antlr4\":\"5e73c40\",\"react-syntax-highlighter_languages_refractor_apacheconf\":\"b37f68c\",\"react-syntax-highlighter_languages_refractor_apex\":\"df6a7b8\",\"react-syntax-highlighter_languages_refractor_apl\":\"f9de6fe\",\"react-syntax-highlighter_languages_refractor_applescript\":\"3d93f91\",\"react-syntax-highlighter_languages_refractor_aql\":\"1e8ef88\",\"react-syntax-highlighter_languages_refractor_arduino\":\"ac3a676\",\"react-syntax-highlighter_languages_refractor_arff\":\"7e07816\",\"react-syntax-highlighter_languages_refractor_asciidoc\":\"88b367c\",\"react-syntax-highlighter_languages_refractor_asm6502\":\"9752c0b\",\"react-syntax-highlighter_languages_refractor_asmatmel\":\"127a2af\",\"react-syntax-highlighter_languages_refractor_aspnet\":\"bc8cb5e\",\"react-syntax-highlighter_languages_refractor_autohotkey\":\"fa8db6d\",\"react-syntax-highlighter_languages_refractor_autoit\":\"bb17743\",\"react-syntax-highlighter_languages_refractor_avisynth\":\"b7987df\",\"react-syntax-highlighter_languages_refractor_avroIdl\":\"8b37dbc\",\"react-syntax-highlighter_languages_refractor_bash\":\"1091f4c\",\"react-syntax-highlighter_languages_refractor_basic\":\"19d815b\",\"react-syntax-highlighter_languages_refractor_batch\":\"a8983d7\",\"react-syntax-highlighter_languages_refractor_bbcode\":\"4910827\",\"react-syntax-highlighter_languages_refractor_bicep\":\"c329dc8\",\"react-syntax-highlighter_languages_refractor_birb\":\"4d01fac\",\"react-syntax-highlighter_languages_refractor_bison\":\"26240f2\",\"react-syntax-highlighter_languages_refractor_bnf\":\"e68d32d\",\"react-syntax-highlighter_languages_refractor_brainfuck\":\"cfb3485\",\"react-syntax-highlighter_languages_refractor_brightscript\":\"99d3bcb\",\"react-syntax-highlighter_languages_refractor_bro\":\"d0765e9\",\"react-syntax-highlighter_languages_refractor_bsl\":\"6a12ca9\",\"react-syntax-highlighter_languages_refractor_c\":\"e6232e0\",\"react-syntax-highlighter_languages_refractor_cfscript\":\"377d4a6\",\"react-syntax-highlighter_languages_refractor_chaiscript\":\"947566f\",\"react-syntax-highlighter_languages_refractor_cil\":\"a06bfd0\",\"react-syntax-highlighter_languages_refractor_clike\":\"c12edb5\",\"react-syntax-highlighter_languages_refractor_clojure\":\"addeeb0\",\"react-syntax-highlighter_languages_refractor_cmake\":\"10e33a4\",\"react-syntax-highlighter_languages_refractor_cobol\":\"7d400ce\",\"react-syntax-highlighter_languages_refractor_coffeescript\":\"a65e775\",\"react-syntax-highlighter_languages_refractor_concurnas\":\"bc582ed\",\"react-syntax-highlighter_languages_refractor_coq\":\"3316599\",\"react-syntax-highlighter_languages_refractor_cpp\":\"695dde7\",\"react-syntax-highlighter_languages_refractor_crystal\":\"2bb1e12\",\"react-syntax-highlighter_languages_refractor_csharp\":\"031b34a\",\"react-syntax-highlighter_languages_refractor_cshtml\":\"5911682\",\"react-syntax-highlighter_languages_refractor_csp\":\"dbcca5c\",\"react-syntax-highlighter_languages_refractor_cssExtras\":\"77804c3\",\"react-syntax-highlighter_languages_refractor_css\":\"581a85b\",\"react-syntax-highlighter_languages_refractor_csv\":\"2b5a1f4\",\"react-syntax-highlighter_languages_refractor_cypher\":\"8e279e4\",\"react-syntax-highlighter_languages_refractor_d\":\"42dbdaa\",\"react-syntax-highlighter_languages_refractor_dart\":\"503038c\",\"react-syntax-highlighter_languages_refractor_dataweave\":\"5fd014c\",\"react-syntax-highlighter_languages_refractor_dax\":\"253e0fa\",\"react-syntax-highlighter_languages_refractor_dhall\":\"7255544\",\"react-syntax-highlighter_languages_refractor_diff\":\"ef42dc1\",\"react-syntax-highlighter_languages_refractor_django\":\"41daa79\",\"react-syntax-highlighter_languages_refractor_dnsZoneFile\":\"b2bca5e\",\"react-syntax-highlighter_languages_refractor_docker\":\"61131ec\",\"react-syntax-highlighter_languages_refractor_dot\":\"a40296c\",\"react-syntax-highlighter_languages_refractor_ebnf\":\"f3f9756\",\"react-syntax-highlighter_languages_refractor_editorconfig\":\"bd6a185\",\"react-syntax-highlighter_languages_refractor_eiffel\":\"f4e300e\",\"react-syntax-highlighter_languages_refractor_ejs\":\"10f8fd9\",\"react-syntax-highlighter_languages_refractor_elixir\":\"3bc3878\",\"react-syntax-highlighter_languages_refractor_elm\":\"ae1bc56\",\"react-syntax-highlighter_languages_refractor_erb\":\"89928c4\",\"react-syntax-highlighter_languages_refractor_erlang\":\"cdd86b1\",\"react-syntax-highlighter_languages_refractor_etlua\":\"5e739f4\",\"react-syntax-highlighter_languages_refractor_excelFormula\":\"bedb0fb\",\"react-syntax-highlighter_languages_refractor_factor\":\"ec00c99\",\"react-syntax-highlighter_languages_refractor_falselang\":\"fbb5513\",\"react-syntax-highlighter_languages_refractor_firestoreSecurityRules\":\"61c87d4\",\"react-syntax-highlighter_languages_refractor_flow\":\"56c9403\",\"react-syntax-highlighter_languages_refractor_fortran\":\"1832964\",\"react-syntax-highlighter_languages_refractor_fsharp\":\"cdb0df5\",\"react-syntax-highlighter_languages_refractor_ftl\":\"03d9ef5\",\"react-syntax-highlighter_languages_refractor_gap\":\"fbc1fbc\",\"react-syntax-highlighter_languages_refractor_gcode\":\"3f6db61\",\"react-syntax-highlighter_languages_refractor_gdscript\":\"bb0f7a6\",\"react-syntax-highlighter_languages_refractor_gedcom\":\"4c3ea72\",\"react-syntax-highlighter_languages_refractor_gherkin\":\"cbb6477\",\"react-syntax-highlighter_languages_refractor_git\":\"c52c394\",\"react-syntax-highlighter_languages_refractor_glsl\":\"3b097e7\",\"react-syntax-highlighter_languages_refractor_gml\":\"f5c2447\",\"react-syntax-highlighter_languages_refractor_gn\":\"75facf5\",\"react-syntax-highlighter_languages_refractor_goModule\":\"4f07a8c\",\"react-syntax-highlighter_languages_refractor_go\":\"6c00cbd\",\"react-syntax-highlighter_languages_refractor_graphql\":\"931d145\",\"react-syntax-highlighter_languages_refractor_groovy\":\"48f6617\",\"react-syntax-highlighter_languages_refractor_haml\":\"1a6e981\",\"react-syntax-highlighter_languages_refractor_handlebars\":\"17b402d\",\"react-syntax-highlighter_languages_refractor_haskell\":\"fa076e5\",\"react-syntax-highlighter_languages_refractor_haxe\":\"b43004d\",\"react-syntax-highlighter_languages_refractor_hcl\":\"2188bd1\",\"react-syntax-highlighter_languages_refractor_hlsl\":\"ec332cc\",\"react-syntax-highlighter_languages_refractor_hoon\":\"3c45e1f\",\"react-syntax-highlighter_languages_refractor_hpkp\":\"01b040c\",\"react-syntax-highlighter_languages_refractor_hsts\":\"c7e45ab\",\"react-syntax-highlighter_languages_refractor_http\":\"98fded2\",\"react-syntax-highlighter_languages_refractor_ichigojam\":\"4dcd7d9\",\"react-syntax-highlighter_languages_refractor_icon\":\"a4b2d3b\",\"react-syntax-highlighter_languages_refractor_icuMessageFormat\":\"54068d9\",\"react-syntax-highlighter_languages_refractor_idris\":\"a219008\",\"react-syntax-highlighter_languages_refractor_iecst\":\"aabc90d\",\"react-syntax-highlighter_languages_refractor_ignore\":\"55baa7d\",\"react-syntax-highlighter_languages_refractor_inform7\":\"e29c962\",\"react-syntax-highlighter_languages_refractor_ini\":\"ad97fd9\",\"react-syntax-highlighter_languages_refractor_io\":\"85de681\",\"react-syntax-highlighter_languages_refractor_j\":\"fdca787\",\"react-syntax-highlighter_languages_refractor_java\":\"8d75894\",\"react-syntax-highlighter_languages_refractor_javadoc\":\"ca4c77b\",\"react-syntax-highlighter_languages_refractor_javadoclike\":\"3228259\",\"react-syntax-highlighter_languages_refractor_javascript\":\"d99739f\",\"react-syntax-highlighter_languages_refractor_javastacktrace\":\"dab721d\",\"react-syntax-highlighter_languages_refractor_jexl\":\"b7000e2\",\"react-syntax-highlighter_languages_refractor_jolie\":\"d9859dd\",\"react-syntax-highlighter_languages_refractor_jq\":\"ce9aa1d\",\"react-syntax-highlighter_languages_refractor_jsExtras\":\"3849532\",\"react-syntax-highlighter_languages_refractor_jsTemplates\":\"b7f7479\",\"react-syntax-highlighter_languages_refractor_jsdoc\":\"3e9184b\",\"react-syntax-highlighter_languages_refractor_json\":\"dbfbc08\",\"react-syntax-highlighter_languages_refractor_json5\":\"6cf208e\",\"react-syntax-highlighter_languages_refractor_jsonp\":\"b5ba725\",\"react-syntax-highlighter_languages_refractor_jsstacktrace\":\"1f54525\",\"react-syntax-highlighter_languages_refractor_jsx\":\"83fe024\",\"react-syntax-highlighter_languages_refractor_julia\":\"9ebd9d5\",\"react-syntax-highlighter_languages_refractor_keepalived\":\"673368f\",\"react-syntax-highlighter_languages_refractor_keyman\":\"2abf562\",\"react-syntax-highlighter_languages_refractor_kotlin\":\"4095ce1\",\"react-syntax-highlighter_languages_refractor_kumir\":\"f093bec\",\"react-syntax-highlighter_languages_refractor_kusto\":\"234e76c\",\"react-syntax-highlighter_languages_refractor_latex\":\"dc198c8\",\"react-syntax-highlighter_languages_refractor_latte\":\"90c04b3\",\"react-syntax-highlighter_languages_refractor_less\":\"7a06fe9\",\"react-syntax-highlighter_languages_refractor_lilypond\":\"5e26179\",\"react-syntax-highlighter_languages_refractor_liquid\":\"b5695e8\",\"react-syntax-highlighter_languages_refractor_lisp\":\"31111a0\",\"react-syntax-highlighter_languages_refractor_livescript\":\"94810dd\",\"react-syntax-highlighter_languages_refractor_llvm\":\"c44a2c8\",\"react-syntax-highlighter_languages_refractor_log\":\"c698e92\",\"react-syntax-highlighter_languages_refractor_lolcode\":\"39057c3\",\"react-syntax-highlighter_languages_refractor_lua\":\"542916a\",\"react-syntax-highlighter_languages_refractor_magma\":\"9a4e66e\",\"react-syntax-highlighter_languages_refractor_makefile\":\"6648870\",\"react-syntax-highlighter_languages_refractor_markdown\":\"2ea7c95\",\"react-syntax-highlighter_languages_refractor_markupTemplating\":\"73c0e17\",\"react-syntax-highlighter_languages_refractor_markup\":\"a818dba\",\"react-syntax-highlighter_languages_refractor_matlab\":\"6f32925\",\"react-syntax-highlighter_languages_refractor_maxscript\":\"6e42607\",\"react-syntax-highlighter_languages_refractor_mel\":\"9b3627d\",\"react-syntax-highlighter_languages_refractor_mermaid\":\"0e0765a\",\"react-syntax-highlighter_languages_refractor_mizar\":\"4cabdd3\",\"react-syntax-highlighter_languages_refractor_mongodb\":\"c9d4d70\",\"react-syntax-highlighter_languages_refractor_monkey\":\"5e23532\",\"react-syntax-highlighter_languages_refractor_moonscript\":\"a0ebdbd\",\"react-syntax-highlighter_languages_refractor_n1ql\":\"1e3a0e2\",\"react-syntax-highlighter_languages_refractor_n4js\":\"c3387f0\",\"react-syntax-highlighter_languages_refractor_nand2tetrisHdl\":\"e7d1d70\",\"react-syntax-highlighter_languages_refractor_naniscript\":\"25be9d8\",\"react-syntax-highlighter_languages_refractor_nasm\":\"9c2d6c8\",\"react-syntax-highlighter_languages_refractor_neon\":\"8244cbf\",\"react-syntax-highlighter_languages_refractor_nevod\":\"a95cc45\",\"react-syntax-highlighter_languages_refractor_nginx\":\"8ea0e09\",\"react-syntax-highlighter_languages_refractor_nim\":\"396af90\",\"react-syntax-highlighter_languages_refractor_nix\":\"e63437d\",\"react-syntax-highlighter_languages_refractor_nsis\":\"18aad27\",\"react-syntax-highlighter_languages_refractor_objectivec\":\"e64815f\",\"react-syntax-highlighter_languages_refractor_ocaml\":\"bfad435\",\"react-syntax-highlighter_languages_refractor_opencl\":\"7410bb8\",\"react-syntax-highlighter_languages_refractor_openqasm\":\"e8c52a6\",\"react-syntax-highlighter_languages_refractor_oz\":\"ae77e43\",\"react-syntax-highlighter_languages_refractor_parigp\":\"c022d63\",\"react-syntax-highlighter_languages_refractor_parser\":\"09b2436\",\"react-syntax-highlighter_languages_refractor_pascal\":\"0310f73\",\"react-syntax-highlighter_languages_refractor_pascaligo\":\"c2dae83\",\"react-syntax-highlighter_languages_refractor_pcaxis\":\"d61a889\",\"react-syntax-highlighter_languages_refractor_peoplecode\":\"17d9ebf\",\"react-syntax-highlighter_languages_refractor_perl\":\"531c359\",\"react-syntax-highlighter_languages_refractor_phpExtras\":\"1214eec\",\"react-syntax-highlighter_languages_refractor_php\":\"0523dc2\",\"react-syntax-highlighter_languages_refractor_phpdoc\":\"d33534d\",\"react-syntax-highlighter_languages_refractor_plsql\":\"5d88dd4\",\"react-syntax-highlighter_languages_refractor_powerquery\":\"942454d\",\"react-syntax-highlighter_languages_refractor_powershell\":\"b9308d2\",\"react-syntax-highlighter_languages_refractor_processing\":\"76e0460\",\"react-syntax-highlighter_languages_refractor_prolog\":\"6d4ee3b\",\"react-syntax-highlighter_languages_refractor_promql\":\"6f4a2fa\",\"react-syntax-highlighter_languages_refractor_properties\":\"327ed7d\",\"react-syntax-highlighter_languages_refractor_protobuf\":\"fa8348f\",\"react-syntax-highlighter_languages_refractor_psl\":\"10e0a07\",\"react-syntax-highlighter_languages_refractor_pug\":\"3777bc6\",\"react-syntax-highlighter_languages_refractor_puppet\":\"928729b\",\"react-syntax-highlighter_languages_refractor_pure\":\"d1081ff\",\"react-syntax-highlighter_languages_refractor_purebasic\":\"cb91143\",\"react-syntax-highlighter_languages_refractor_purescript\":\"1bb9e4c\",\"react-syntax-highlighter_languages_refractor_python\":\"f010446\",\"react-syntax-highlighter_languages_refractor_q\":\"7bfcad9\",\"react-syntax-highlighter_languages_refractor_qml\":\"c31b9a8\",\"react-syntax-highlighter_languages_refractor_qore\":\"eac0d8f\",\"react-syntax-highlighter_languages_refractor_qsharp\":\"daad681\",\"react-syntax-highlighter_languages_refractor_r\":\"ce7e0f1\",\"react-syntax-highlighter_languages_refractor_racket\":\"c1c8f45\",\"react-syntax-highlighter_languages_refractor_reason\":\"42b78d4\",\"react-syntax-highlighter_languages_refractor_regex\":\"4ba6636\",\"react-syntax-highlighter_languages_refractor_rego\":\"36460a6\",\"react-syntax-highlighter_languages_refractor_renpy\":\"3118ed8\",\"react-syntax-highlighter_languages_refractor_rest\":\"fa97a3a\",\"react-syntax-highlighter_languages_refractor_rip\":\"435c32d\",\"react-syntax-highlighter_languages_refractor_roboconf\":\"18380f7\",\"react-syntax-highlighter_languages_refractor_robotframework\":\"28b1845\",\"react-syntax-highlighter_languages_refractor_ruby\":\"8da9afa\",\"react-syntax-highlighter_languages_refractor_rust\":\"25c3f9d\",\"react-syntax-highlighter_languages_refractor_sas\":\"8fa3679\",\"react-syntax-highlighter_languages_refractor_sass\":\"9a05d74\",\"react-syntax-highlighter_languages_refractor_scala\":\"f8ab21b\",\"react-syntax-highlighter_languages_refractor_scheme\":\"139c7b2\",\"react-syntax-highlighter_languages_refractor_scss\":\"e114c66\",\"react-syntax-highlighter_languages_refractor_shellSession\":\"aadf9f5\",\"react-syntax-highlighter_languages_refractor_smali\":\"f14a37a\",\"react-syntax-highlighter_languages_refractor_smalltalk\":\"c9d5c3c\",\"react-syntax-highlighter_languages_refractor_smarty\":\"28e89da\",\"react-syntax-highlighter_languages_refractor_sml\":\"eb3dc6d\",\"react-syntax-highlighter_languages_refractor_solidity\":\"46fa2ec\",\"react-syntax-highlighter_languages_refractor_solutionFile\":\"86c547d\",\"react-syntax-highlighter_languages_refractor_soy\":\"70ba39e\",\"react-syntax-highlighter_languages_refractor_sparql\":\"10b2846\",\"react-syntax-highlighter_languages_refractor_splunkSpl\":\"1c13b01\",\"react-syntax-highlighter_languages_refractor_sqf\":\"41ec2e3\",\"react-syntax-highlighter_languages_refractor_sql\":\"45cd5ff\",\"react-syntax-highlighter_languages_refractor_squirrel\":\"d4f8e9c\",\"react-syntax-highlighter_languages_refractor_stan\":\"dcc0b04\",\"react-syntax-highlighter_languages_refractor_stylus\":\"6d0808c\",\"react-syntax-highlighter_languages_refractor_swift\":\"37c7bbb\",\"react-syntax-highlighter_languages_refractor_systemd\":\"f60cca3\",\"react-syntax-highlighter_languages_refractor_t4Cs\":\"dce4480\",\"react-syntax-highlighter_languages_refractor_t4Templating\":\"de9383c\",\"react-syntax-highlighter_languages_refractor_t4Vb\":\"1cc1ca8\",\"react-syntax-highlighter_languages_refractor_tap\":\"fbc28af\",\"react-syntax-highlighter_languages_refractor_tcl\":\"23f97e9\",\"react-syntax-highlighter_languages_refractor_textile\":\"5fb987a\",\"react-syntax-highlighter_languages_refractor_toml\":\"3f16cf6\",\"react-syntax-highlighter_languages_refractor_tremor\":\"db183eb\",\"react-syntax-highlighter_languages_refractor_tsx\":\"27ee478\",\"react-syntax-highlighter_languages_refractor_tt2\":\"689f67d\",\"react-syntax-highlighter_languages_refractor_turtle\":\"e646ef2\",\"react-syntax-highlighter_languages_refractor_twig\":\"46b21ee\",\"react-syntax-highlighter_languages_refractor_typescript\":\"7aa4065\",\"react-syntax-highlighter_languages_refractor_typoscript\":\"bd095e7\",\"react-syntax-highlighter_languages_refractor_unrealscript\":\"610e464\",\"react-syntax-highlighter_languages_refractor_uorazor\":\"da026a7\",\"react-syntax-highlighter_languages_refractor_uri\":\"b509d4b\",\"react-syntax-highlighter_languages_refractor_v\":\"d89b933\",\"react-syntax-highlighter_languages_refractor_vala\":\"e63f985\",\"react-syntax-highlighter_languages_refractor_vbnet\":\"64cadca\",\"react-syntax-highlighter_languages_refractor_velocity\":\"cf89ac9\",\"react-syntax-highlighter_languages_refractor_verilog\":\"3f849a8\",\"react-syntax-highlighter_languages_refractor_vhdl\":\"f55c940\",\"react-syntax-highlighter_languages_refractor_vim\":\"ed6afa9\",\"react-syntax-highlighter_languages_refractor_visualBasic\":\"d148128\",\"react-syntax-highlighter_languages_refractor_warpscript\":\"03e104d\",\"react-syntax-highlighter_languages_refractor_wasm\":\"61e14a6\",\"react-syntax-highlighter_languages_refractor_webIdl\":\"cb84b4e\",\"react-syntax-highlighter_languages_refractor_wiki\":\"83dc4a9\",\"react-syntax-highlighter_languages_refractor_wolfram\":\"a78603d\",\"react-syntax-highlighter_languages_refractor_wren\":\"05da7af\",\"react-syntax-highlighter_languages_refractor_xeora\":\"89a0a61\",\"react-syntax-highlighter_languages_refractor_xmlDoc\":\"f3df564\",\"react-syntax-highlighter_languages_refractor_xojo\":\"087c101\",\"react-syntax-highlighter_languages_refractor_xquery\":\"f9e7705\",\"react-syntax-highlighter_languages_refractor_yaml\":\"f7d3ede\",\"react-syntax-highlighter_languages_refractor_yang\":\"4c0e2d8\",\"react-syntax-highlighter_languages_refractor_zig\":\"afb9c58\",\"node_modules_x-clients_features_dist_dms_sqlite_worker_js\":\"8a72029\"}[e]+\"a.js\",b.g=function(){if(\"object\"==typeof globalThis)return globalThis;try{return this||new Function(\"return this\")()}catch(e){if(\"object\"==typeof window)return window}}(),b.hmd=e=>((e=Object.create(e)).children||(e.children=[]),Object.defineProperty(e,\"exports\",{enumerable:!0,set:()=>{throw new Error(\"ES Modules may not assign module.exports or exports.*, Use ESM export syntax, instead: \"+e.id)}}),e),b.o=(e,a)=>Object.prototype.hasOwnProperty.call(e,a),l={},o=\"@twitter/responsive-web:\",b.l=(e,a,d,r)=>{if(l[e])l[e].push(a);else{var n,t;if(void 0!==d)for(var c=document.getElementsByTagName(\"script\"),i=0;i<c.length;i++){var s=c[i];if(s.getAttribute(\"src\")==e||s.getAttribute(\"data-webpack\")==o+d){n=s;break}}n||(t=!0,(n=document.createElement(\"script\")).charset=\"utf-8\",n.timeout=120,b.nc&&n.setAttribute(\"nonce\",b.nc),n.setAttribute(\"data-webpack\",o+d),n.src=e,0!==n.src.indexOf(window.location.origin+\"/\")&&(n.crossOrigin=\"anonymous\")),l[e]=[a];var u=(a,d)=>{n.onerror=n.onload=null,clearTimeout(h);var r=l[e];if(delete l[e],n.parentNode&&n.parentNode.removeChild(n),r&&r.forEach((e=>e(d))),a)return a(d)},h=setTimeout(u.bind(null,void 0,{type:\"timeout\",target:n}),12e4);n.onerror=u.bind(null,n.onerror),n.onload=u.bind(null,n.onload),t&&document.head.appendChild(n)}},b.r=e=>{\"undefined\"!=typeof Symbol&&Symbol.toStringTag&&Object.defineProperty(e,Symbol.toStringTag,{value:\"Module\"}),Object.defineProperty(e,\"__esModule\",{value:!0})},b.nmd=e=>(e.paths=[],e.children||(e.children=[]),e),b.v=(e,a,d,r)=>{var n=fetch(b.p+\"\"+d+\".module.wasm\");return\"function\"==typeof WebAssembly.instantiateStreaming?WebAssembly.instantiateStreaming(n,r).then((a=>Object.assign(e,a.instance.exports))):n.then((e=>e.arrayBuffer())).then((e=>WebAssembly.instantiate(e,r))).then((a=>Object.assign(e,a.instance.exports)))},b.p=\"https://abs.twimg.com/responsive-web/client-web/\",(()=>{b.b=document.baseURI||self.location.href;var e={runtime:0};b.f.j=(a,d)=>{var r=b.o(e,a)?e[a]:void 0;if(0!==r)if(r)d.push(r[2]);else if(\"runtime\"!=a){var n=new Promise(((d,n)=>r=e[a]=[d,n]));d.push(r[2]=n);var t=b.p+b.u(a),c=new Error;b.l(t,(d=>{if(b.o(e,a)&&(0!==(r=e[a])&&(e[a]=void 0),r)){var n=d&&(\"load\"===d.type?\"missing\":d.type),t=d&&d.target&&d.target.src;c.message=\"Loading chunk \"+a+\" failed.\\n(\"+n+\": \"+t+\")\",c.name=\"ChunkLoadError\",c.type=n,c.request=t,r[1](c)}}),\"chunk-\"+a,a)}else e[a]=0},b.O.j=a=>0===e[a];var a=(a,d)=>{var r,n,[t,c,l]=d,o=0;if(t.some((a=>0!==e[a]))){for(r in c)b.o(c,r)&&(b.m[r]=c[r]);if(l)var i=l(b)}for(a&&a(d);o<t.length;o++)n=t[o],b.o(e,n)&&e[n]&&e[n][0](),e[n]=0;return b.O(i)},d=self.webpackChunk_twitter_responsive_web=self.webpackChunk_twitter_responsive_web||[];d.forEach(a.bind(null,0)),d.push=a.bind(null,d.push.bind(d))})(),b.nc=void 0})(),window.__SCRIPTS_LOADED__.runtime=!0;\n",
       "</script><script charset=\"utf-8\" nonce=\"NGVlZWE4MDUtNjE1Yi00MTYyLThhNDgtM2FhMGRlZmRkMTk2\" type=\"text/javascript\">performance && performance.mark && performance.mark('scripts-blocking-start')</script><script charset=\"utf-8\" crossorigin=\"anonymous\" nonce=\"NGVlZWE4MDUtNjE1Yi00MTYyLThhNDgtM2FhMGRlZmRkMTk2\" src=\"https://abs.twimg.com/responsive-web/client-web/vendor-7940b00b.e74f2a9a.js\" type=\"text/javascript\"></script><script charset=\"utf-8\" crossorigin=\"anonymous\" nonce=\"NGVlZWE4MDUtNjE1Yi00MTYyLThhNDgtM2FhMGRlZmRkMTk2\" src=\"https://abs.twimg.com/responsive-web/client-web/vendor-adcb47af.f51f94ba.js\" type=\"text/javascript\"></script><script charset=\"utf-8\" crossorigin=\"anonymous\" nonce=\"NGVlZWE4MDUtNjE1Yi00MTYyLThhNDgtM2FhMGRlZmRkMTk2\" src=\"https://abs.twimg.com/responsive-web/client-web/vendor-38c57b44.7266e9ba.js\" type=\"text/javascript\"></script><script charset=\"utf-8\" crossorigin=\"anonymous\" nonce=\"NGVlZWE4MDUtNjE1Yi00MTYyLThhNDgtM2FhMGRlZmRkMTk2\" src=\"https://abs.twimg.com/responsive-web/client-web/vendor-49d0a293.dab26d4a.js\" type=\"text/javascript\"></script><script charset=\"utf-8\" crossorigin=\"anonymous\" nonce=\"NGVlZWE4MDUtNjE1Yi00MTYyLThhNDgtM2FhMGRlZmRkMTk2\" src=\"https://abs.twimg.com/responsive-web/client-web/vendor-27545368.b1c27dda.js\" type=\"text/javascript\"></script><script charset=\"utf-8\" crossorigin=\"anonymous\" nonce=\"NGVlZWE4MDUtNjE1Yi00MTYyLThhNDgtM2FhMGRlZmRkMTk2\" src=\"https://abs.twimg.com/responsive-web/client-web/vendor-cb2d071c.790f8aca.js\" type=\"text/javascript\"></script><script charset=\"utf-8\" crossorigin=\"anonymous\" nonce=\"NGVlZWE4MDUtNjE1Yi00MTYyLThhNDgtM2FhMGRlZmRkMTk2\" src=\"https://abs.twimg.com/responsive-web/client-web/vendor-aaaf2b0c.5cd9a35a.js\" type=\"text/javascript\"></script><script charset=\"utf-8\" crossorigin=\"anonymous\" nonce=\"NGVlZWE4MDUtNjE1Yi00MTYyLThhNDgtM2FhMGRlZmRkMTk2\" src=\"https://abs.twimg.com/responsive-web/client-web/vendor-6b20cc7c.af17d40a.js\" type=\"text/javascript\"></script><script charset=\"utf-8\" crossorigin=\"anonymous\" nonce=\"NGVlZWE4MDUtNjE1Yi00MTYyLThhNDgtM2FhMGRlZmRkMTk2\" src=\"https://abs.twimg.com/responsive-web/client-web/vendor-85aa29ea.23e2ae7a.js\" type=\"text/javascript\"></script><script charset=\"utf-8\" crossorigin=\"anonymous\" nonce=\"NGVlZWE4MDUtNjE1Yi00MTYyLThhNDgtM2FhMGRlZmRkMTk2\" src=\"https://abs.twimg.com/responsive-web/client-web/vendor-e395fecc.1b97550a.js\" type=\"text/javascript\"></script><script charset=\"utf-8\" crossorigin=\"anonymous\" nonce=\"NGVlZWE4MDUtNjE1Yi00MTYyLThhNDgtM2FhMGRlZmRkMTk2\" src=\"https://abs.twimg.com/responsive-web/client-web/vendor-dfe82965.4682ab4a.js\" type=\"text/javascript\"></script><script charset=\"utf-8\" crossorigin=\"anonymous\" nonce=\"NGVlZWE4MDUtNjE1Yi00MTYyLThhNDgtM2FhMGRlZmRkMTk2\" src=\"https://abs.twimg.com/responsive-web/client-web/vendor-63e37921.7b7e62fa.js\" type=\"text/javascript\"></script><script charset=\"utf-8\" crossorigin=\"anonymous\" nonce=\"NGVlZWE4MDUtNjE1Yi00MTYyLThhNDgtM2FhMGRlZmRkMTk2\" src=\"https://abs.twimg.com/responsive-web/client-web/vendor-de539588.506ca6aa.js\" type=\"text/javascript\"></script><script charset=\"utf-8\" crossorigin=\"anonymous\" nonce=\"NGVlZWE4MDUtNjE1Yi00MTYyLThhNDgtM2FhMGRlZmRkMTk2\" src=\"https://abs.twimg.com/responsive-web/client-web/vendor-3dfac8a4.346d055a.js\" type=\"text/javascript\"></script><script charset=\"utf-8\" crossorigin=\"anonymous\" nonce=\"NGVlZWE4MDUtNjE1Yi00MTYyLThhNDgtM2FhMGRlZmRkMTk2\" src=\"https://abs.twimg.com/responsive-web/client-web/vendor-58c6fc15.752afe1a.js\" type=\"text/javascript\"></script><script charset=\"utf-8\" crossorigin=\"anonymous\" nonce=\"NGVlZWE4MDUtNjE1Yi00MTYyLThhNDgtM2FhMGRlZmRkMTk2\" src=\"https://abs.twimg.com/responsive-web/client-web/vendor-bf50982a.32b3beca.js\" type=\"text/javascript\"></script><script charset=\"utf-8\" crossorigin=\"anonymous\" nonce=\"NGVlZWE4MDUtNjE1Yi00MTYyLThhNDgtM2FhMGRlZmRkMTk2\" src=\"https://abs.twimg.com/responsive-web/client-web/vendor-e5bca7e4.67118a2a.js\" type=\"text/javascript\"></script><script charset=\"utf-8\" crossorigin=\"anonymous\" nonce=\"NGVlZWE4MDUtNjE1Yi00MTYyLThhNDgtM2FhMGRlZmRkMTk2\" src=\"https://abs.twimg.com/responsive-web/client-web/vendor-3e5eb623.0284feca.js\" type=\"text/javascript\"></script><script charset=\"utf-8\" crossorigin=\"anonymous\" nonce=\"NGVlZWE4MDUtNjE1Yi00MTYyLThhNDgtM2FhMGRlZmRkMTk2\" src=\"https://abs.twimg.com/responsive-web/client-web/vendor-744bed60.4b2752ba.js\" type=\"text/javascript\"></script><script charset=\"utf-8\" crossorigin=\"anonymous\" nonce=\"NGVlZWE4MDUtNjE1Yi00MTYyLThhNDgtM2FhMGRlZmRkMTk2\" src=\"https://abs.twimg.com/responsive-web/client-web/vendor-2bf3abf4.c03b35aa.js\" type=\"text/javascript\"></script><script charset=\"utf-8\" crossorigin=\"anonymous\" nonce=\"NGVlZWE4MDUtNjE1Yi00MTYyLThhNDgtM2FhMGRlZmRkMTk2\" src=\"https://abs.twimg.com/responsive-web/client-web/vendor-c22f700c.f2a689ca.js\" type=\"text/javascript\"></script><script charset=\"utf-8\" crossorigin=\"anonymous\" nonce=\"NGVlZWE4MDUtNjE1Yi00MTYyLThhNDgtM2FhMGRlZmRkMTk2\" src=\"https://abs.twimg.com/responsive-web/client-web/vendor-48a4958c.22189dca.js\" type=\"text/javascript\"></script><script charset=\"utf-8\" crossorigin=\"anonymous\" nonce=\"NGVlZWE4MDUtNjE1Yi00MTYyLThhNDgtM2FhMGRlZmRkMTk2\" src=\"https://abs.twimg.com/responsive-web/client-web/vendor-bfc04956.9055797a.js\" type=\"text/javascript\"></script><script charset=\"utf-8\" crossorigin=\"anonymous\" nonce=\"NGVlZWE4MDUtNjE1Yi00MTYyLThhNDgtM2FhMGRlZmRkMTk2\" src=\"https://abs.twimg.com/responsive-web/client-web/vendor-eb8eaa08.d6adf1ba.js\" type=\"text/javascript\"></script><script charset=\"utf-8\" crossorigin=\"anonymous\" nonce=\"NGVlZWE4MDUtNjE1Yi00MTYyLThhNDgtM2FhMGRlZmRkMTk2\" src=\"https://abs.twimg.com/responsive-web/client-web/vendor-91c40cd8.e33ef86a.js\" type=\"text/javascript\"></script><script charset=\"utf-8\" crossorigin=\"anonymous\" nonce=\"NGVlZWE4MDUtNjE1Yi00MTYyLThhNDgtM2FhMGRlZmRkMTk2\" src=\"https://abs.twimg.com/responsive-web/client-web/vendor-c4d1d074.d21e962a.js\" type=\"text/javascript\"></script><script charset=\"utf-8\" crossorigin=\"anonymous\" nonce=\"NGVlZWE4MDUtNjE1Yi00MTYyLThhNDgtM2FhMGRlZmRkMTk2\" src=\"https://abs.twimg.com/responsive-web/client-web/vendor-ccf8c62e.739490fa.js\" type=\"text/javascript\"></script><script charset=\"utf-8\" crossorigin=\"anonymous\" nonce=\"NGVlZWE4MDUtNjE1Yi00MTYyLThhNDgtM2FhMGRlZmRkMTk2\" src=\"https://abs.twimg.com/responsive-web/client-web/vendor-821262ff.b8cdca5a.js\" type=\"text/javascript\"></script><script charset=\"utf-8\" crossorigin=\"anonymous\" nonce=\"NGVlZWE4MDUtNjE1Yi00MTYyLThhNDgtM2FhMGRlZmRkMTk2\" src=\"https://abs.twimg.com/responsive-web/client-web/vendor-57216f32.ef22925a.js\" type=\"text/javascript\"></script><script charset=\"utf-8\" crossorigin=\"anonymous\" nonce=\"NGVlZWE4MDUtNjE1Yi00MTYyLThhNDgtM2FhMGRlZmRkMTk2\" src=\"https://abs.twimg.com/responsive-web/client-web/vendor-f501a089.1852e6aa.js\" type=\"text/javascript\"></script><script charset=\"utf-8\" crossorigin=\"anonymous\" nonce=\"NGVlZWE4MDUtNjE1Yi00MTYyLThhNDgtM2FhMGRlZmRkMTk2\" src=\"https://abs.twimg.com/responsive-web/client-web/i18n/en.2c9a5e9a.js\" type=\"text/javascript\"></script><script charset=\"utf-8\" crossorigin=\"anonymous\" nonce=\"NGVlZWE4MDUtNjE1Yi00MTYyLThhNDgtM2FhMGRlZmRkMTk2\" src=\"https://abs.twimg.com/responsive-web/client-web/main.3b637a6a.js\" type=\"text/javascript\"></script><script charset=\"utf-8\" nonce=\"NGVlZWE4MDUtNjE1Yi00MTYyLThhNDgtM2FhMGRlZmRkMTk2\" type=\"text/javascript\">performance && performance.measure && performance.measure('scripts-blocking', 'scripts-blocking-start')</script><script nonce=\"NGVlZWE4MDUtNjE1Yi00MTYyLThhNDgtM2FhMGRlZmRkMTk2\">(function () {\n",
       "  if (!window.__SCRIPTS_LOADED__['main']) {\n",
       "    document.getElementById('ScriptLoadFailure').style.display = 'block';\n",
       "    var criticalScripts = [\"vendor\",\"main\"];\n",
       "    for (var i = 0; i < criticalScripts.length; i++) {\n",
       "      var criticalScript = criticalScripts[i];\n",
       "      if (!window.__SCRIPTS_LOADED__[criticalScript]) {\n",
       "        document.getElementsByName('failedScript')[0].value = criticalScript;\n",
       "        break;\n",
       "      }\n",
       "    }\n",
       "  }\n",
       "})();</script></body></html>"
      ]
     },
     "execution_count": 103,
     "metadata": {},
     "output_type": "execute_result"
    }
   ],
   "source": [
    "get_follower_count('elonmusk')"
   ]
  },
  {
   "cell_type": "code",
   "execution_count": 115,
   "id": "d70ababd",
   "metadata": {},
   "outputs": [],
   "source": [
    "from selenium import webdriver\n",
    "from selenium.webdriver.chrome.options import Options\n",
    "from selenium.webdriver.common.by import By\n",
    "import time\n",
    "\n",
    "def get_twitter_followers(username):\n",
    "    options = Options()\n",
    "    # options.headless = False\n",
    "    options.add_argument(\"--disable-blink-features=AutomationControlled\")\n",
    "    options.add_argument(\"--no-sandbox\")\n",
    "    options.add_argument(\"--disable-dev-shm-usage\")\n",
    "\n",
    "    driver = webdriver.Chrome()\n",
    "    url = f\"https://twitter.com/{username}\"\n",
    "    driver.get(url)\n",
    "\n",
    "    time.sleep(5)  # wait for page to load\n",
    "\n",
    "    try:\n",
    "        # Find followers element by label\n",
    "        followers_element = driver.find_element(By.XPATH, \"//a[contains(@href,'/followers')]/span[1]/span\")\n",
    "        followers = followers_element.text\n",
    "    except Exception as e:\n",
    "        followers = None\n",
    "        print(f\"Error: {e}\")\n",
    "\n",
    "    driver.quit()\n",
    "    return followers\n"
   ]
  },
  {
   "cell_type": "code",
   "execution_count": 116,
   "id": "6bd2e0ed",
   "metadata": {},
   "outputs": [
    {
     "ename": "KeyboardInterrupt",
     "evalue": "",
     "output_type": "error",
     "traceback": [
      "\u001b[0;31m---------------------------------------------------------------------------\u001b[0m",
      "\u001b[0;31mKeyboardInterrupt\u001b[0m                         Traceback (most recent call last)",
      "Cell \u001b[0;32mIn[116], line 1\u001b[0m\n\u001b[0;32m----> 1\u001b[0m \u001b[43mget_twitter_followers\u001b[49m\u001b[43m(\u001b[49m\u001b[38;5;124;43m'\u001b[39;49m\u001b[38;5;124;43melonmusk\u001b[39;49m\u001b[38;5;124;43m'\u001b[39;49m\u001b[43m)\u001b[49m\n",
      "Cell \u001b[0;32mIn[115], line 13\u001b[0m, in \u001b[0;36mget_twitter_followers\u001b[0;34m(username)\u001b[0m\n\u001b[1;32m     10\u001b[0m options\u001b[38;5;241m.\u001b[39madd_argument(\u001b[38;5;124m\"\u001b[39m\u001b[38;5;124m--no-sandbox\u001b[39m\u001b[38;5;124m\"\u001b[39m)\n\u001b[1;32m     11\u001b[0m options\u001b[38;5;241m.\u001b[39madd_argument(\u001b[38;5;124m\"\u001b[39m\u001b[38;5;124m--disable-dev-shm-usage\u001b[39m\u001b[38;5;124m\"\u001b[39m)\n\u001b[0;32m---> 13\u001b[0m driver \u001b[38;5;241m=\u001b[39m \u001b[43mwebdriver\u001b[49m\u001b[38;5;241;43m.\u001b[39;49m\u001b[43mChrome\u001b[49m\u001b[43m(\u001b[49m\u001b[43m)\u001b[49m\n\u001b[1;32m     14\u001b[0m url \u001b[38;5;241m=\u001b[39m \u001b[38;5;124mf\u001b[39m\u001b[38;5;124m\"\u001b[39m\u001b[38;5;124mhttps://twitter.com/\u001b[39m\u001b[38;5;132;01m{\u001b[39;00musername\u001b[38;5;132;01m}\u001b[39;00m\u001b[38;5;124m\"\u001b[39m\n\u001b[1;32m     15\u001b[0m driver\u001b[38;5;241m.\u001b[39mget(url)\n",
      "File \u001b[0;32m~/miniconda3/envs/ml/lib/python3.13/site-packages/selenium/webdriver/chrome/webdriver.py:45\u001b[0m, in \u001b[0;36mWebDriver.__init__\u001b[0;34m(self, options, service, keep_alive)\u001b[0m\n\u001b[1;32m     42\u001b[0m service \u001b[38;5;241m=\u001b[39m service \u001b[38;5;28;01mif\u001b[39;00m service \u001b[38;5;28;01melse\u001b[39;00m Service()\n\u001b[1;32m     43\u001b[0m options \u001b[38;5;241m=\u001b[39m options \u001b[38;5;28;01mif\u001b[39;00m options \u001b[38;5;28;01melse\u001b[39;00m Options()\n\u001b[0;32m---> 45\u001b[0m \u001b[38;5;28;43msuper\u001b[39;49m\u001b[43m(\u001b[49m\u001b[43m)\u001b[49m\u001b[38;5;241;43m.\u001b[39;49m\u001b[38;5;21;43m__init__\u001b[39;49m\u001b[43m(\u001b[49m\n\u001b[1;32m     46\u001b[0m \u001b[43m    \u001b[49m\u001b[43mbrowser_name\u001b[49m\u001b[38;5;241;43m=\u001b[39;49m\u001b[43mDesiredCapabilities\u001b[49m\u001b[38;5;241;43m.\u001b[39;49m\u001b[43mCHROME\u001b[49m\u001b[43m[\u001b[49m\u001b[38;5;124;43m\"\u001b[39;49m\u001b[38;5;124;43mbrowserName\u001b[39;49m\u001b[38;5;124;43m\"\u001b[39;49m\u001b[43m]\u001b[49m\u001b[43m,\u001b[49m\n\u001b[1;32m     47\u001b[0m \u001b[43m    \u001b[49m\u001b[43mvendor_prefix\u001b[49m\u001b[38;5;241;43m=\u001b[39;49m\u001b[38;5;124;43m\"\u001b[39;49m\u001b[38;5;124;43mgoog\u001b[39;49m\u001b[38;5;124;43m\"\u001b[39;49m\u001b[43m,\u001b[49m\n\u001b[1;32m     48\u001b[0m \u001b[43m    \u001b[49m\u001b[43moptions\u001b[49m\u001b[38;5;241;43m=\u001b[39;49m\u001b[43moptions\u001b[49m\u001b[43m,\u001b[49m\n\u001b[1;32m     49\u001b[0m \u001b[43m    \u001b[49m\u001b[43mservice\u001b[49m\u001b[38;5;241;43m=\u001b[39;49m\u001b[43mservice\u001b[49m\u001b[43m,\u001b[49m\n\u001b[1;32m     50\u001b[0m \u001b[43m    \u001b[49m\u001b[43mkeep_alive\u001b[49m\u001b[38;5;241;43m=\u001b[39;49m\u001b[43mkeep_alive\u001b[49m\u001b[43m,\u001b[49m\n\u001b[1;32m     51\u001b[0m \u001b[43m\u001b[49m\u001b[43m)\u001b[49m\n",
      "File \u001b[0;32m~/miniconda3/envs/ml/lib/python3.13/site-packages/selenium/webdriver/chromium/webdriver.py:50\u001b[0m, in \u001b[0;36mChromiumDriver.__init__\u001b[0;34m(self, browser_name, vendor_prefix, options, service, keep_alive)\u001b[0m\n\u001b[1;32m     47\u001b[0m \u001b[38;5;28mself\u001b[39m\u001b[38;5;241m.\u001b[39mservice \u001b[38;5;241m=\u001b[39m service\n\u001b[1;32m     49\u001b[0m finder \u001b[38;5;241m=\u001b[39m DriverFinder(\u001b[38;5;28mself\u001b[39m\u001b[38;5;241m.\u001b[39mservice, options)\n\u001b[0;32m---> 50\u001b[0m \u001b[38;5;28;01mif\u001b[39;00m \u001b[43mfinder\u001b[49m\u001b[38;5;241;43m.\u001b[39;49m\u001b[43mget_browser_path\u001b[49m\u001b[43m(\u001b[49m\u001b[43m)\u001b[49m:\n\u001b[1;32m     51\u001b[0m     options\u001b[38;5;241m.\u001b[39mbinary_location \u001b[38;5;241m=\u001b[39m finder\u001b[38;5;241m.\u001b[39mget_browser_path()\n\u001b[1;32m     52\u001b[0m     options\u001b[38;5;241m.\u001b[39mbrowser_version \u001b[38;5;241m=\u001b[39m \u001b[38;5;28;01mNone\u001b[39;00m\n",
      "File \u001b[0;32m~/miniconda3/envs/ml/lib/python3.13/site-packages/selenium/webdriver/common/driver_finder.py:47\u001b[0m, in \u001b[0;36mDriverFinder.get_browser_path\u001b[0;34m(self)\u001b[0m\n\u001b[1;32m     46\u001b[0m \u001b[38;5;28;01mdef\u001b[39;00m\u001b[38;5;250m \u001b[39m\u001b[38;5;21mget_browser_path\u001b[39m(\u001b[38;5;28mself\u001b[39m) \u001b[38;5;241m-\u001b[39m\u001b[38;5;241m>\u001b[39m \u001b[38;5;28mstr\u001b[39m:\n\u001b[0;32m---> 47\u001b[0m     \u001b[38;5;28;01mreturn\u001b[39;00m \u001b[38;5;28;43mself\u001b[39;49m\u001b[38;5;241;43m.\u001b[39;49m\u001b[43m_binary_paths\u001b[49m\u001b[43m(\u001b[49m\u001b[43m)\u001b[49m[\u001b[38;5;124m\"\u001b[39m\u001b[38;5;124mbrowser_path\u001b[39m\u001b[38;5;124m\"\u001b[39m]\n",
      "File \u001b[0;32m~/miniconda3/envs/ml/lib/python3.13/site-packages/selenium/webdriver/common/driver_finder.py:67\u001b[0m, in \u001b[0;36mDriverFinder._binary_paths\u001b[0;34m(self)\u001b[0m\n\u001b[1;32m     65\u001b[0m     \u001b[38;5;28mself\u001b[39m\u001b[38;5;241m.\u001b[39m_paths[\u001b[38;5;124m\"\u001b[39m\u001b[38;5;124mdriver_path\u001b[39m\u001b[38;5;124m\"\u001b[39m] \u001b[38;5;241m=\u001b[39m path\n\u001b[1;32m     66\u001b[0m \u001b[38;5;28;01melse\u001b[39;00m:\n\u001b[0;32m---> 67\u001b[0m     output \u001b[38;5;241m=\u001b[39m \u001b[43mSeleniumManager\u001b[49m\u001b[43m(\u001b[49m\u001b[43m)\u001b[49m\u001b[38;5;241;43m.\u001b[39;49m\u001b[43mbinary_paths\u001b[49m\u001b[43m(\u001b[49m\u001b[38;5;28;43mself\u001b[39;49m\u001b[38;5;241;43m.\u001b[39;49m\u001b[43m_to_args\u001b[49m\u001b[43m(\u001b[49m\u001b[43m)\u001b[49m\u001b[43m)\u001b[49m\n\u001b[1;32m     68\u001b[0m     \u001b[38;5;28;01mif\u001b[39;00m Path(output[\u001b[38;5;124m\"\u001b[39m\u001b[38;5;124mdriver_path\u001b[39m\u001b[38;5;124m\"\u001b[39m])\u001b[38;5;241m.\u001b[39mis_file():\n\u001b[1;32m     69\u001b[0m         \u001b[38;5;28mself\u001b[39m\u001b[38;5;241m.\u001b[39m_paths[\u001b[38;5;124m\"\u001b[39m\u001b[38;5;124mdriver_path\u001b[39m\u001b[38;5;124m\"\u001b[39m] \u001b[38;5;241m=\u001b[39m output[\u001b[38;5;124m\"\u001b[39m\u001b[38;5;124mdriver_path\u001b[39m\u001b[38;5;124m\"\u001b[39m]\n",
      "File \u001b[0;32m~/miniconda3/envs/ml/lib/python3.13/site-packages/selenium/webdriver/common/selenium_manager.py:55\u001b[0m, in \u001b[0;36mSeleniumManager.binary_paths\u001b[0;34m(self, args)\u001b[0m\n\u001b[1;32m     52\u001b[0m args\u001b[38;5;241m.\u001b[39mappend(\u001b[38;5;124m\"\u001b[39m\u001b[38;5;124m--output\u001b[39m\u001b[38;5;124m\"\u001b[39m)\n\u001b[1;32m     53\u001b[0m args\u001b[38;5;241m.\u001b[39mappend(\u001b[38;5;124m\"\u001b[39m\u001b[38;5;124mjson\u001b[39m\u001b[38;5;124m\"\u001b[39m)\n\u001b[0;32m---> 55\u001b[0m \u001b[38;5;28;01mreturn\u001b[39;00m \u001b[38;5;28;43mself\u001b[39;49m\u001b[38;5;241;43m.\u001b[39;49m\u001b[43m_run\u001b[49m\u001b[43m(\u001b[49m\u001b[43margs\u001b[49m\u001b[43m)\u001b[49m\n",
      "File \u001b[0;32m~/miniconda3/envs/ml/lib/python3.13/site-packages/selenium/webdriver/common/selenium_manager.py:119\u001b[0m, in \u001b[0;36mSeleniumManager._run\u001b[0;34m(args)\u001b[0m\n\u001b[1;32m    117\u001b[0m     completed_proc \u001b[38;5;241m=\u001b[39m subprocess\u001b[38;5;241m.\u001b[39mrun(args, capture_output\u001b[38;5;241m=\u001b[39m\u001b[38;5;28;01mTrue\u001b[39;00m, creationflags\u001b[38;5;241m=\u001b[39msubprocess\u001b[38;5;241m.\u001b[39mCREATE_NO_WINDOW)\n\u001b[1;32m    118\u001b[0m \u001b[38;5;28;01melse\u001b[39;00m:\n\u001b[0;32m--> 119\u001b[0m     completed_proc \u001b[38;5;241m=\u001b[39m \u001b[43msubprocess\u001b[49m\u001b[38;5;241;43m.\u001b[39;49m\u001b[43mrun\u001b[49m\u001b[43m(\u001b[49m\u001b[43margs\u001b[49m\u001b[43m,\u001b[49m\u001b[43m \u001b[49m\u001b[43mcapture_output\u001b[49m\u001b[38;5;241;43m=\u001b[39;49m\u001b[38;5;28;43;01mTrue\u001b[39;49;00m\u001b[43m)\u001b[49m\n\u001b[1;32m    120\u001b[0m stdout \u001b[38;5;241m=\u001b[39m completed_proc\u001b[38;5;241m.\u001b[39mstdout\u001b[38;5;241m.\u001b[39mdecode(\u001b[38;5;124m\"\u001b[39m\u001b[38;5;124mutf-8\u001b[39m\u001b[38;5;124m\"\u001b[39m)\u001b[38;5;241m.\u001b[39mrstrip(\u001b[38;5;124m\"\u001b[39m\u001b[38;5;130;01m\\n\u001b[39;00m\u001b[38;5;124m\"\u001b[39m)\n\u001b[1;32m    121\u001b[0m stderr \u001b[38;5;241m=\u001b[39m completed_proc\u001b[38;5;241m.\u001b[39mstderr\u001b[38;5;241m.\u001b[39mdecode(\u001b[38;5;124m\"\u001b[39m\u001b[38;5;124mutf-8\u001b[39m\u001b[38;5;124m\"\u001b[39m)\u001b[38;5;241m.\u001b[39mrstrip(\u001b[38;5;124m\"\u001b[39m\u001b[38;5;130;01m\\n\u001b[39;00m\u001b[38;5;124m\"\u001b[39m)\n",
      "File \u001b[0;32m~/miniconda3/envs/ml/lib/python3.13/subprocess.py:558\u001b[0m, in \u001b[0;36mrun\u001b[0;34m(input, capture_output, timeout, check, *popenargs, **kwargs)\u001b[0m\n\u001b[1;32m    556\u001b[0m \u001b[38;5;28;01mwith\u001b[39;00m Popen(\u001b[38;5;241m*\u001b[39mpopenargs, \u001b[38;5;241m*\u001b[39m\u001b[38;5;241m*\u001b[39mkwargs) \u001b[38;5;28;01mas\u001b[39;00m process:\n\u001b[1;32m    557\u001b[0m     \u001b[38;5;28;01mtry\u001b[39;00m:\n\u001b[0;32m--> 558\u001b[0m         stdout, stderr \u001b[38;5;241m=\u001b[39m \u001b[43mprocess\u001b[49m\u001b[38;5;241;43m.\u001b[39;49m\u001b[43mcommunicate\u001b[49m\u001b[43m(\u001b[49m\u001b[38;5;28;43minput\u001b[39;49m\u001b[43m,\u001b[49m\u001b[43m \u001b[49m\u001b[43mtimeout\u001b[49m\u001b[38;5;241;43m=\u001b[39;49m\u001b[43mtimeout\u001b[49m\u001b[43m)\u001b[49m\n\u001b[1;32m    559\u001b[0m     \u001b[38;5;28;01mexcept\u001b[39;00m TimeoutExpired \u001b[38;5;28;01mas\u001b[39;00m exc:\n\u001b[1;32m    560\u001b[0m         process\u001b[38;5;241m.\u001b[39mkill()\n",
      "File \u001b[0;32m~/miniconda3/envs/ml/lib/python3.13/subprocess.py:1221\u001b[0m, in \u001b[0;36mPopen.communicate\u001b[0;34m(self, input, timeout)\u001b[0m\n\u001b[1;32m   1218\u001b[0m     endtime \u001b[38;5;241m=\u001b[39m \u001b[38;5;28;01mNone\u001b[39;00m\n\u001b[1;32m   1220\u001b[0m \u001b[38;5;28;01mtry\u001b[39;00m:\n\u001b[0;32m-> 1221\u001b[0m     stdout, stderr \u001b[38;5;241m=\u001b[39m \u001b[38;5;28;43mself\u001b[39;49m\u001b[38;5;241;43m.\u001b[39;49m\u001b[43m_communicate\u001b[49m\u001b[43m(\u001b[49m\u001b[38;5;28;43minput\u001b[39;49m\u001b[43m,\u001b[49m\u001b[43m \u001b[49m\u001b[43mendtime\u001b[49m\u001b[43m,\u001b[49m\u001b[43m \u001b[49m\u001b[43mtimeout\u001b[49m\u001b[43m)\u001b[49m\n\u001b[1;32m   1222\u001b[0m \u001b[38;5;28;01mexcept\u001b[39;00m \u001b[38;5;167;01mKeyboardInterrupt\u001b[39;00m:\n\u001b[1;32m   1223\u001b[0m     \u001b[38;5;66;03m# https://bugs.python.org/issue25942\u001b[39;00m\n\u001b[1;32m   1224\u001b[0m     \u001b[38;5;66;03m# See the detailed comment in .wait().\u001b[39;00m\n\u001b[1;32m   1225\u001b[0m     \u001b[38;5;28;01mif\u001b[39;00m timeout \u001b[38;5;129;01mis\u001b[39;00m \u001b[38;5;129;01mnot\u001b[39;00m \u001b[38;5;28;01mNone\u001b[39;00m:\n",
      "File \u001b[0;32m~/miniconda3/envs/ml/lib/python3.13/subprocess.py:2130\u001b[0m, in \u001b[0;36mPopen._communicate\u001b[0;34m(self, input, endtime, orig_timeout)\u001b[0m\n\u001b[1;32m   2123\u001b[0m     \u001b[38;5;28mself\u001b[39m\u001b[38;5;241m.\u001b[39m_check_timeout(endtime, orig_timeout,\n\u001b[1;32m   2124\u001b[0m                         stdout, stderr,\n\u001b[1;32m   2125\u001b[0m                         skip_check_and_raise\u001b[38;5;241m=\u001b[39m\u001b[38;5;28;01mTrue\u001b[39;00m)\n\u001b[1;32m   2126\u001b[0m     \u001b[38;5;28;01mraise\u001b[39;00m \u001b[38;5;167;01mRuntimeError\u001b[39;00m(  \u001b[38;5;66;03m# Impossible :)\u001b[39;00m\n\u001b[1;32m   2127\u001b[0m         \u001b[38;5;124m'\u001b[39m\u001b[38;5;124m_check_timeout(..., skip_check_and_raise=True) \u001b[39m\u001b[38;5;124m'\u001b[39m\n\u001b[1;32m   2128\u001b[0m         \u001b[38;5;124m'\u001b[39m\u001b[38;5;124mfailed to raise TimeoutExpired.\u001b[39m\u001b[38;5;124m'\u001b[39m)\n\u001b[0;32m-> 2130\u001b[0m ready \u001b[38;5;241m=\u001b[39m \u001b[43mselector\u001b[49m\u001b[38;5;241;43m.\u001b[39;49m\u001b[43mselect\u001b[49m\u001b[43m(\u001b[49m\u001b[43mtimeout\u001b[49m\u001b[43m)\u001b[49m\n\u001b[1;32m   2131\u001b[0m \u001b[38;5;28mself\u001b[39m\u001b[38;5;241m.\u001b[39m_check_timeout(endtime, orig_timeout, stdout, stderr)\n\u001b[1;32m   2133\u001b[0m \u001b[38;5;66;03m# XXX Rewrite these to use non-blocking I/O on the file\u001b[39;00m\n\u001b[1;32m   2134\u001b[0m \u001b[38;5;66;03m# objects; they are no longer using C stdio!\u001b[39;00m\n",
      "File \u001b[0;32m~/miniconda3/envs/ml/lib/python3.13/selectors.py:398\u001b[0m, in \u001b[0;36m_PollLikeSelector.select\u001b[0;34m(self, timeout)\u001b[0m\n\u001b[1;32m    396\u001b[0m ready \u001b[38;5;241m=\u001b[39m []\n\u001b[1;32m    397\u001b[0m \u001b[38;5;28;01mtry\u001b[39;00m:\n\u001b[0;32m--> 398\u001b[0m     fd_event_list \u001b[38;5;241m=\u001b[39m \u001b[38;5;28;43mself\u001b[39;49m\u001b[38;5;241;43m.\u001b[39;49m\u001b[43m_selector\u001b[49m\u001b[38;5;241;43m.\u001b[39;49m\u001b[43mpoll\u001b[49m\u001b[43m(\u001b[49m\u001b[43mtimeout\u001b[49m\u001b[43m)\u001b[49m\n\u001b[1;32m    399\u001b[0m \u001b[38;5;28;01mexcept\u001b[39;00m \u001b[38;5;167;01mInterruptedError\u001b[39;00m:\n\u001b[1;32m    400\u001b[0m     \u001b[38;5;28;01mreturn\u001b[39;00m ready\n",
      "\u001b[0;31mKeyboardInterrupt\u001b[0m: "
     ]
    }
   ],
   "source": [
    "get_twitter_followers('elonmusk')"
   ]
  },
  {
   "cell_type": "code",
   "execution_count": 70,
   "id": "ea49041d",
   "metadata": {},
   "outputs": [
    {
     "ename": "ModuleNotFoundError",
     "evalue": "No module named 'playwright'",
     "output_type": "error",
     "traceback": [
      "\u001b[0;31m---------------------------------------------------------------------------\u001b[0m",
      "\u001b[0;31mModuleNotFoundError\u001b[0m                       Traceback (most recent call last)",
      "Cell \u001b[0;32mIn[70], line 2\u001b[0m\n\u001b[1;32m      1\u001b[0m \u001b[38;5;28;01mimport\u001b[39;00m\u001b[38;5;250m \u001b[39m\u001b[38;5;21;01masyncio\u001b[39;00m\n\u001b[0;32m----> 2\u001b[0m \u001b[38;5;28;01mfrom\u001b[39;00m\u001b[38;5;250m \u001b[39m\u001b[38;5;21;01mplaywright\u001b[39;00m\u001b[38;5;21;01m.\u001b[39;00m\u001b[38;5;21;01msync_api\u001b[39;00m\u001b[38;5;250m \u001b[39m\u001b[38;5;28;01mimport\u001b[39;00m sync_playwright\n\u001b[1;32m      5\u001b[0m \u001b[38;5;28;01mdef\u001b[39;00m\u001b[38;5;250m \u001b[39m\u001b[38;5;21mscrape_profile\u001b[39m(url: \u001b[38;5;28mstr\u001b[39m) \u001b[38;5;241m-\u001b[39m\u001b[38;5;241m>\u001b[39m \u001b[38;5;28mdict\u001b[39m:\n\u001b[1;32m      6\u001b[0m \u001b[38;5;250m    \u001b[39m\u001b[38;5;124;03m\"\"\"\u001b[39;00m\n\u001b[1;32m      7\u001b[0m \u001b[38;5;124;03m    Scrape a X.com profile details e.g.: https://x.com/Scrapfly_dev\u001b[39;00m\n\u001b[1;32m      8\u001b[0m \u001b[38;5;124;03m    \"\"\"\u001b[39;00m\n",
      "\u001b[0;31mModuleNotFoundError\u001b[0m: No module named 'playwright'"
     ]
    }
   ],
   "source": [
    "\n",
    "\n",
    "import asyncio\n",
    "from playwright.sync_api import sync_playwright\n",
    "\n",
    "\n",
    "def scrape_profile(url: str) -> dict:\n",
    "    \"\"\"\n",
    "    Scrape a X.com profile details e.g.: https://x.com/Scrapfly_dev\n",
    "    \"\"\"\n",
    "    _xhr_calls = []\n",
    "\n",
    "    def intercept_response(response):\n",
    "        \"\"\"capture all background requests and save them\"\"\"\n",
    "        # we can extract details from background requests\n",
    "        if response.request.resource_type == \"xhr\":\n",
    "            _xhr_calls.append(response)\n",
    "        return response\n",
    "\n",
    "    with sync_playwright() as pw:\n",
    "        browser = pw.chromium.launch(headless=False)\n",
    "        context = browser.new_context(viewport={\"width\": 1920, \"height\": 1080})\n",
    "        page = context.new_page()\n",
    "\n",
    "        # enable background request intercepting:\n",
    "        page.on(\"response\", intercept_response)\n",
    "        # go to url and wait for the page to load\n",
    "        page.goto(url)\n",
    "        page.wait_for_selector(\"[data-testid='primaryColumn']\")\n",
    "\n",
    "        # find all tweet background requests:\n",
    "        tweet_calls = [f for f in _xhr_calls if \"UserBy\" in f.url]\n",
    "        for xhr in tweet_calls:\n",
    "            data = xhr.json()\n",
    "            return data['data']['user']['result']\n",
    "\n",
    "\n",
    "\n",
    "if __name__ == \"__main__\":\n",
    "    print(asyncio.run(scrape_profile(\"https://x.com/Scrapfly_dev\")))\n",
    "\n"
   ]
  },
  {
   "cell_type": "code",
   "execution_count": 67,
   "id": "3f3e5c35",
   "metadata": {},
   "outputs": [
    {
     "ename": "AttributeError",
     "evalue": "'FileFinder' object has no attribute 'find_module'",
     "output_type": "error",
     "traceback": [
      "\u001b[0;31m---------------------------------------------------------------------------\u001b[0m",
      "\u001b[0;31mAttributeError\u001b[0m                            Traceback (most recent call last)",
      "Cell \u001b[0;32mIn[67], line 1\u001b[0m\n\u001b[0;32m----> 1\u001b[0m \u001b[38;5;28;01mimport\u001b[39;00m\u001b[38;5;250m \u001b[39m\u001b[38;5;21;01msnscrape\u001b[39;00m\u001b[38;5;21;01m.\u001b[39;00m\u001b[38;5;21;01mmodules\u001b[39;00m\n\u001b[1;32m      2\u001b[0m \u001b[38;5;28;01mimport\u001b[39;00m\u001b[38;5;250m \u001b[39m\u001b[38;5;21;01msnscrape\u001b[39;00m\u001b[38;5;21;01m.\u001b[39;00m\u001b[38;5;21;01mmodules\u001b[39;00m\u001b[38;5;21;01m.\u001b[39;00m\u001b[38;5;21;01mtwitter\u001b[39;00m\n\u001b[1;32m      5\u001b[0m snscrape\u001b[38;5;241m.\u001b[39mmodules\u001b[38;5;241m.\u001b[39mtwitter\u001b[38;5;241m.\u001b[39mTwitterUserScraper(\u001b[38;5;124m'\u001b[39m\u001b[38;5;124melonmask\u001b[39m\u001b[38;5;124m'\u001b[39m)\n",
      "File \u001b[0;32m~/miniconda3/envs/ml/lib/python3.13/site-packages/snscrape/modules/__init__.py:17\u001b[0m\n\u001b[1;32m     13\u001b[0m \t\tmodule \u001b[38;5;241m=\u001b[39m importer\u001b[38;5;241m.\u001b[39mfind_module(moduleName)\u001b[38;5;241m.\u001b[39mload_module(moduleName)\n\u001b[1;32m     14\u001b[0m \t\t\u001b[38;5;28mglobals\u001b[39m()[moduleNameWithoutPrefix] \u001b[38;5;241m=\u001b[39m module\n\u001b[0;32m---> 17\u001b[0m \u001b[43m_import_modules\u001b[49m\u001b[43m(\u001b[49m\u001b[43m)\u001b[49m\n",
      "File \u001b[0;32m~/miniconda3/envs/ml/lib/python3.13/site-packages/snscrape/modules/__init__.py:13\u001b[0m, in \u001b[0;36m_import_modules\u001b[0;34m()\u001b[0m\n\u001b[1;32m     11\u001b[0m moduleNameWithoutPrefix \u001b[38;5;241m=\u001b[39m moduleName[prefixLen:]\n\u001b[1;32m     12\u001b[0m __all__\u001b[38;5;241m.\u001b[39mappend(moduleNameWithoutPrefix)\n\u001b[0;32m---> 13\u001b[0m module \u001b[38;5;241m=\u001b[39m \u001b[43mimporter\u001b[49m\u001b[38;5;241;43m.\u001b[39;49m\u001b[43mfind_module\u001b[49m(moduleName)\u001b[38;5;241m.\u001b[39mload_module(moduleName)\n\u001b[1;32m     14\u001b[0m \u001b[38;5;28mglobals\u001b[39m()[moduleNameWithoutPrefix] \u001b[38;5;241m=\u001b[39m module\n",
      "\u001b[0;31mAttributeError\u001b[0m: 'FileFinder' object has no attribute 'find_module'"
     ]
    }
   ],
   "source": [
    "import snscrape.modules\n",
    "import snscrape.modules.twitter\n",
    "\n",
    "\n",
    "snscrape.modules.twitter.TwitterUserScraper('elonmask')"
   ]
  },
  {
   "cell_type": "code",
   "execution_count": null,
   "id": "a3e276e0",
   "metadata": {},
   "outputs": [],
   "source": [
    "\n",
    "def get_twitter_followers(username):\n",
    "    try:\n",
    "        user = sntwitter.TwitterUserScraper(username).entity\n",
    "        return user.followersCount\n",
    "    except Exception as e:\n",
    "        print(\"Error:\", e)\n",
    "        return None\n"
   ]
  },
  {
   "cell_type": "code",
   "execution_count": null,
   "id": "8d5958be",
   "metadata": {},
   "outputs": [],
   "source": []
  }
 ],
 "metadata": {
  "kaggle": {
   "accelerator": "none",
   "dataSources": [
    {
     "datasetId": 7177363,
     "sourceId": 11454929,
     "sourceType": "datasetVersion"
    }
   ],
   "dockerImageVersionId": 31012,
   "isGpuEnabled": false,
   "isInternetEnabled": true,
   "language": "python",
   "sourceType": "notebook"
  },
  "kernelspec": {
   "display_name": "ml",
   "language": "python",
   "name": "python3"
  },
  "language_info": {
   "codemirror_mode": {
    "name": "ipython",
    "version": 3
   },
   "file_extension": ".py",
   "mimetype": "text/x-python",
   "name": "python",
   "nbconvert_exporter": "python",
   "pygments_lexer": "ipython3",
   "version": "3.13.2"
  },
  "papermill": {
   "default_parameters": {},
   "duration": 1338.851049,
   "end_time": "2025-04-18T03:11:48.142323",
   "environment_variables": {},
   "exception": null,
   "input_path": "__notebook__.ipynb",
   "output_path": "__notebook__.ipynb",
   "parameters": {},
   "start_time": "2025-04-18T02:49:29.291274",
   "version": "2.6.0"
  }
 },
 "nbformat": 4,
 "nbformat_minor": 5
}
