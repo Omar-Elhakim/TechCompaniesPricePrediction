{
 "cells": [
  {
   "cell_type": "markdown",
   "id": "08a5ce0e",
   "metadata": {
    "papermill": {
     "duration": 0.003463,
     "end_time": "2025-04-18T02:49:32.987894",
     "exception": false,
     "start_time": "2025-04-18T02:49:32.984431",
     "status": "completed"
    },
    "tags": []
   },
   "source": [
    "# Challenges:\n",
    "* links\n",
    "* News\n",
    "* Encode companies\n",
    "* Encode people\n",
    "* Encode cities and countries\n",
    "* use text data embedding (word/document) or word freq \n",
    "* Remove unneeded columns (e.g. images,Deal announced on)\n",
    "* Imputation\n",
    "* Twitter link: get followers and latest post?"
   ]
  },
  {
   "cell_type": "markdown",
   "id": "9b5956f4",
   "metadata": {
    "papermill": {
     "duration": 0.002336,
     "end_time": "2025-04-18T02:49:32.992877",
     "exception": false,
     "start_time": "2025-04-18T02:49:32.990541",
     "status": "completed"
    },
    "tags": []
   },
   "source": [
    "# Notes on data\n",
    "* Address col is useless , there's already city,state and country cols\n",
    "* Crunchbase links are protected with captcha , can't be scraped"
   ]
  },
  {
   "cell_type": "markdown",
   "id": "d4eed25f",
   "metadata": {
    "papermill": {
     "duration": 0.002297,
     "end_time": "2025-04-18T02:49:32.997654",
     "exception": false,
     "start_time": "2025-04-18T02:49:32.995357",
     "status": "completed"
    },
    "tags": []
   },
   "source": [
    "imports"
   ]
  },
  {
   "cell_type": "code",
   "execution_count": 229,
   "id": "057f6186",
   "metadata": {
    "execution": {
     "iopub.execute_input": "2025-04-18T02:49:33.005670Z",
     "iopub.status.busy": "2025-04-18T02:49:33.005346Z",
     "iopub.status.idle": "2025-04-18T02:49:34.560015Z",
     "shell.execute_reply": "2025-04-18T02:49:34.559349Z"
    },
    "papermill": {
     "duration": 1.560025,
     "end_time": "2025-04-18T02:49:34.561395",
     "exception": false,
     "start_time": "2025-04-18T02:49:33.001370",
     "status": "completed"
    },
    "tags": []
   },
   "outputs": [],
   "source": [
    "import pandas as pd\n",
    "import numpy as np\n",
    "import requests\n",
    "import matplotlib.pyplot as pt\n",
    "import plotly.express as px"
   ]
  },
  {
   "cell_type": "markdown",
   "id": "eb380aa7",
   "metadata": {
    "papermill": {
     "duration": 0.002338,
     "end_time": "2025-04-18T02:49:34.566630",
     "exception": false,
     "start_time": "2025-04-18T02:49:34.564292",
     "status": "completed"
    },
    "tags": []
   },
   "source": [
    "Reviewing a sample row from each file"
   ]
  },
  {
   "cell_type": "code",
   "execution_count": 205,
   "id": "691a282e",
   "metadata": {
    "execution": {
     "iopub.execute_input": "2025-04-18T02:49:34.572944Z",
     "iopub.status.busy": "2025-04-18T02:49:34.572576Z",
     "iopub.status.idle": "2025-04-18T02:49:34.606976Z",
     "shell.execute_reply": "2025-04-18T02:49:34.606184Z"
    },
    "papermill": {
     "duration": 0.03912,
     "end_time": "2025-04-18T02:49:34.608254",
     "exception": false,
     "start_time": "2025-04-18T02:49:34.569134",
     "status": "completed"
    },
    "tags": []
   },
   "outputs": [
    {
     "data": {
      "text/plain": [
       "Company                                                     Day Software\n",
       "CrunchBase Profile     http://www.crunchbase.com/organization/day-sof...\n",
       "Image                  http://a5.images.crunchbase.com/image/upload/c...\n",
       "Tagline                Day Software develops web applications that al...\n",
       "Year Founded                                                         NaN\n",
       "Market Categories                                               Software\n",
       "Address (HQ)           Barfüsserplatz 6, Basel, Basel-Stadt, Switzerland\n",
       "City (HQ)                                                          Basel\n",
       "State / Region (HQ)                                          Basel-Stadt\n",
       "Country (HQ)                                                 Switzerland\n",
       "Description            Day was founded in Basel, Switzerland, in 1993...\n",
       "Homepage                                              http://www.day.com\n",
       "Twitter                                                              NaN\n",
       "Acquired by                                                        Adobe\n",
       "Acquisitions ID              Adobe Systems acquired Day Software in 2010\n",
       "API                    http://api.crunchbase.com/v/2/organization/day...\n",
       "Name: 0, dtype: object"
      ]
     },
     "execution_count": 205,
     "metadata": {},
     "output_type": "execute_result"
    }
   ],
   "source": [
    "acquired = pd.read_csv(\"Data/Acquired Tech Companies.csv\")\n",
    "acquired.iloc[0]"
   ]
  },
  {
   "cell_type": "code",
   "execution_count": 206,
   "id": "9e553de0",
   "metadata": {
    "execution": {
     "iopub.execute_input": "2025-04-18T02:49:34.614940Z",
     "iopub.status.busy": "2025-04-18T02:49:34.614702Z",
     "iopub.status.idle": "2025-04-18T02:49:34.629609Z",
     "shell.execute_reply": "2025-04-18T02:49:34.628973Z"
    },
    "papermill": {
     "duration": 0.019613,
     "end_time": "2025-04-18T02:49:34.630846",
     "exception": false,
     "start_time": "2025-04-18T02:49:34.611233",
     "status": "completed"
    },
    "tags": []
   },
   "outputs": [
    {
     "data": {
      "text/plain": [
       "Acquiring Company                                                                        Adobe\n",
       "CrunchBase Profile                               www.crunchbase.com/organization/adobe-systems\n",
       "Image                                        http://a2.images.crunchbase.com/image/upload/c...\n",
       "Tagline                                      Adobe is an American multinational computer so...\n",
       "Market Categories                            Photo Editing, Design, Creative, Software, Ima...\n",
       "Year Founded                                                                              1982\n",
       "IPO                                                                                       1986\n",
       "Founders                                                         John Warnock, Charles Geschke\n",
       "Number of Employees                                                                     11,144\n",
       "Number of Employees (year of last update)                                               2012.0\n",
       "Total Funding ($)                                                                            0\n",
       "Number of Acquisitions                                                                      38\n",
       "Board Members                                                                              NaN\n",
       "Address (HQ)                                               San Jose, California, United States\n",
       "City (HQ)                                                                             San Jose\n",
       "State / Region (HQ)                                                                 California\n",
       "Country (HQ)                                                                     United States\n",
       "Description                                  Adobe Systems is an American multinational com...\n",
       "Homepage                                                                  http://www.adobe.com\n",
       "Twitter                                                               http://twitter.com/Adobe\n",
       "Acquired Companies                           Accelio Corporation, Aldus Corp, Amicima, Ares...\n",
       "Acquisitions ID                              Adobe Systems acquired Accelio Corporation in ...\n",
       "API                                          http://api.crunchbase.com/v/2/organization/ado...\n",
       "Name: 0, dtype: object"
      ]
     },
     "execution_count": 206,
     "metadata": {},
     "output_type": "execute_result"
    }
   ],
   "source": [
    "acquiring = pd.read_csv(\"Data/Acquiring Tech Companies.csv\")\n",
    "acquiring.iloc[0]"
   ]
  },
  {
   "cell_type": "code",
   "execution_count": 207,
   "id": "530e8224",
   "metadata": {
    "execution": {
     "iopub.execute_input": "2025-04-18T02:49:34.637438Z",
     "iopub.status.busy": "2025-04-18T02:49:34.637205Z",
     "iopub.status.idle": "2025-04-18T02:49:34.649691Z",
     "shell.execute_reply": "2025-04-18T02:49:34.649090Z"
    },
    "papermill": {
     "duration": 0.016717,
     "end_time": "2025-04-18T02:49:34.650598",
     "exception": false,
     "start_time": "2025-04-18T02:49:34.633881",
     "status": "completed"
    },
    "tags": []
   },
   "outputs": [
    {
     "data": {
      "text/plain": [
       "Acquisitions ID                                      EMC acquired Data Domain in 2009\n",
       "Acquired Company                                                          Data Domain\n",
       "Acquiring Company                                                                 EMC\n",
       "Year of acquisition announcement                                                 2009\n",
       "Deal announced on                                                           8/07/2009\n",
       "Price                                                                  $2,100,000,000\n",
       "Status                                                                    Undisclosed\n",
       "Terms                                                                            Cash\n",
       "Acquisition Profile                 http://www.crunchbase.com/acquisition/5dc676a1...\n",
       "News                                                         EMC acquired Data Domain\n",
       "News Link                           http://www.businesswire.com/news/home/20090708...\n",
       "Name: 0, dtype: object"
      ]
     },
     "execution_count": 207,
     "metadata": {},
     "output_type": "execute_result"
    }
   ],
   "source": [
    "acquisitions = pd.read_csv(\"Data/Acquisitions.csv\")\n",
    "acquisitions.iloc[0]"
   ]
  },
  {
   "cell_type": "code",
   "execution_count": 208,
   "id": "697d6f89",
   "metadata": {
    "execution": {
     "iopub.execute_input": "2025-04-18T02:49:34.657462Z",
     "iopub.status.busy": "2025-04-18T02:49:34.657208Z",
     "iopub.status.idle": "2025-04-18T02:49:34.667878Z",
     "shell.execute_reply": "2025-04-18T02:49:34.667382Z"
    },
    "papermill": {
     "duration": 0.015041,
     "end_time": "2025-04-18T02:49:34.668759",
     "exception": false,
     "start_time": "2025-04-18T02:49:34.653718",
     "status": "completed"
    },
    "tags": []
   },
   "outputs": [
    {
     "data": {
      "text/plain": [
       "Name                                                 Hans-Werner Hector\n",
       "CrunchBase Profile      http://de.wikipedia.org/wiki/Hans-Werner_Hector\n",
       "Role                                                            Founder\n",
       "Companies                                                           SAP\n",
       "Image                 http://images.forbes.com/media/lists/10/2006/4...\n",
       "Name: 0, dtype: object"
      ]
     },
     "execution_count": 208,
     "metadata": {},
     "output_type": "execute_result"
    }
   ],
   "source": [
    "founders = pd.read_csv(\"Data/Founders and Board Members.csv\")\n",
    "founders.iloc[0]"
   ]
  },
  {
   "cell_type": "markdown",
   "id": "c4ecc0ea",
   "metadata": {
    "papermill": {
     "duration": 0.002705,
     "end_time": "2025-04-18T02:49:34.674632",
     "exception": false,
     "start_time": "2025-04-18T02:49:34.671927",
     "status": "completed"
    },
    "tags": []
   },
   "source": [
    "We will link between the files using these columns:\n",
    "* Acquisitions ID to link the acquisitions\n",
    "* 'Founders' and 'Name' to link the Founders"
   ]
  },
  {
   "cell_type": "code",
   "execution_count": 209,
   "id": "5dc16d0c",
   "metadata": {
    "execution": {
     "iopub.execute_input": "2025-04-18T02:49:34.681367Z",
     "iopub.status.busy": "2025-04-18T02:49:34.681078Z",
     "iopub.status.idle": "2025-04-18T02:49:34.686236Z",
     "shell.execute_reply": "2025-04-18T02:49:34.685645Z"
    },
    "papermill": {
     "duration": 0.009843,
     "end_time": "2025-04-18T02:49:34.687247",
     "exception": false,
     "start_time": "2025-04-18T02:49:34.677404",
     "status": "completed"
    },
    "tags": []
   },
   "outputs": [
    {
     "data": {
      "text/plain": [
       "['Acquisitions ID']"
      ]
     },
     "execution_count": 209,
     "metadata": {},
     "output_type": "execute_result"
    }
   ],
   "source": [
    "np.intersect1d(acquired.columns, acquisitions.columns).tolist()"
   ]
  },
  {
   "cell_type": "code",
   "execution_count": 210,
   "id": "1fb33682",
   "metadata": {
    "execution": {
     "iopub.execute_input": "2025-04-18T02:49:34.694994Z",
     "iopub.status.busy": "2025-04-18T02:49:34.694732Z",
     "iopub.status.idle": "2025-04-18T02:49:34.699838Z",
     "shell.execute_reply": "2025-04-18T02:49:34.699169Z"
    },
    "papermill": {
     "duration": 0.010176,
     "end_time": "2025-04-18T02:49:34.700830",
     "exception": false,
     "start_time": "2025-04-18T02:49:34.690654",
     "status": "completed"
    },
    "tags": []
   },
   "outputs": [
    {
     "data": {
      "text/plain": [
       "['Acquiring Company', 'Acquisitions ID']"
      ]
     },
     "execution_count": 210,
     "metadata": {},
     "output_type": "execute_result"
    }
   ],
   "source": [
    "np.intersect1d(acquiring.columns, acquisitions.columns).tolist()"
   ]
  },
  {
   "cell_type": "code",
   "execution_count": 9,
   "id": "b5726517",
   "metadata": {
    "execution": {
     "iopub.execute_input": "2025-04-18T02:49:34.811020Z",
     "iopub.status.busy": "2025-04-18T02:49:34.810746Z",
     "iopub.status.idle": "2025-04-18T02:49:34.816261Z",
     "shell.execute_reply": "2025-04-18T02:49:34.815458Z"
    },
    "papermill": {
     "duration": 0.010891,
     "end_time": "2025-04-18T02:49:34.817487",
     "exception": false,
     "start_time": "2025-04-18T02:49:34.806596",
     "status": "completed"
    },
    "tags": []
   },
   "outputs": [],
   "source": [
    "def ValidateLink(url, timeout=15):\n",
    "    session = requests.Session()\n",
    "    # fake headers to make it seem like a real request\n",
    "    headers = {\n",
    "        \"User-Agent\": \"Mozilla/5.0 (Windows NT 10.0; Win64; x64) AppleWebKit/537.36 (KHTML, like Gecko) Chrome/123.0.0.0 Safari/537.36\",\n",
    "        \"Accept\": \"text/html,application/xhtml+xml,application/xml;q=0.9,image/avif,image/webp,image/apng,*/*;q=0.8,application/signed-exchange;v=b3;q=0.7\",\n",
    "        \"Accept-Language\": \"en-US,en;q=0.9\",\n",
    "        \"Accept-Encoding\": \"gzip, deflate, br\",\n",
    "        \"Connection\": \"keep-alive\",\n",
    "        \"Upgrade-Insecure-Requests\": \"1\",\n",
    "        \"DNT\": \"1\",\n",
    "    }\n",
    "    session.headers.update(headers)\n",
    "    try:\n",
    "        response = session.get(url, timeout=timeout, allow_redirects=True, stream=True)\n",
    "        status_code = response.status_code\n",
    "        response.close()\n",
    "        if status_code < 400:\n",
    "            return True\n",
    "        else:\n",
    "            return False\n",
    "    except Exception as e:\n",
    "        return False"
   ]
  },
  {
   "cell_type": "code",
   "execution_count": null,
   "id": "78e377cc",
   "metadata": {
    "execution": {
     "iopub.execute_input": "2025-04-18T02:49:34.825332Z",
     "iopub.status.busy": "2025-04-18T02:49:34.825064Z",
     "iopub.status.idle": "2025-04-18T02:49:34.829825Z",
     "shell.execute_reply": "2025-04-18T02:49:34.829159Z"
    },
    "papermill": {
     "duration": 0.010094,
     "end_time": "2025-04-18T02:49:34.831087",
     "exception": false,
     "start_time": "2025-04-18T02:49:34.820993",
     "status": "completed"
    },
    "tags": []
   },
   "outputs": [],
   "source": [
    "def ValidateLinks(urls):\n",
    "    results = []\n",
    "    for url in urls:\n",
    "        results.append(ValidateLink(url))\n",
    "        if results[-1]:\n",
    "            return results\n",
    "    return results"
   ]
  },
  {
   "cell_type": "code",
   "execution_count": null,
   "id": "73949098",
   "metadata": {
    "execution": {
     "iopub.execute_input": "2025-04-18T02:49:34.839334Z",
     "iopub.status.busy": "2025-04-18T02:49:34.839008Z",
     "iopub.status.idle": "2025-04-18T02:49:34.844936Z",
     "shell.execute_reply": "2025-04-18T02:49:34.844182Z"
    },
    "papermill": {
     "duration": 0.01149,
     "end_time": "2025-04-18T02:49:34.846169",
     "exception": false,
     "start_time": "2025-04-18T02:49:34.834679",
     "status": "completed"
    },
    "tags": []
   },
   "outputs": [],
   "source": [
    "def ValidateLinksDF(df):\n",
    "    for col in df.columns:\n",
    "        for val in df[col]:\n",
    "            if type(val) == str and (\"http\" in val):\n",
    "                print(col)\n",
    "                results = ValidateLinks(df[col])\n",
    "                if not pd.Series(results).any():\n",
    "                    print(f'Column \"{col}\" had no valid links , or is using captcha.')\n",
    "                    print(\"Try it yourself:\")\n",
    "                    print(df[col][0] + \"\\n\")\n",
    "                break"
   ]
  },
  {
   "cell_type": "code",
   "execution_count": 12,
   "id": "181d1805",
   "metadata": {
    "execution": {
     "iopub.execute_input": "2025-04-18T02:49:34.857797Z",
     "iopub.status.busy": "2025-04-18T02:49:34.857502Z",
     "iopub.status.idle": "2025-04-18T03:04:27.411944Z",
     "shell.execute_reply": "2025-04-18T03:04:27.411050Z"
    },
    "papermill": {
     "duration": 892.561951,
     "end_time": "2025-04-18T03:04:27.413449",
     "exception": false,
     "start_time": "2025-04-18T02:49:34.851498",
     "status": "completed"
    },
    "tags": []
   },
   "outputs": [
    {
     "name": "stdout",
     "output_type": "stream",
     "text": [
      "CrunchBase Profile\n",
      "Column \"CrunchBase Profile\" had no valid links , or is using captcha.\n",
      "Try it yourself:\n",
      "http://www.crunchbase.com/organization/day-software\n",
      "\n",
      "Image\n",
      "Column \"Image\" had no valid links , or is using captcha.\n",
      "Try it yourself:\n",
      "http://a5.images.crunchbase.com/image/upload/c_pad,h_500,w_500/v1397187256/0ef62e4243274cafe1a563dda2bca363.png\n",
      "\n",
      "Homepage\n",
      "Twitter\n",
      "API\n"
     ]
    }
   ],
   "source": [
    "ValidateLinksDF(acquired)"
   ]
  },
  {
   "cell_type": "markdown",
   "id": "fb308431",
   "metadata": {},
   "source": [
    "* CrunchBase is using CAPTCHA , so we won't drop it now but we will proccess it later\n",
    "* Image links are all corrupt so we will drop the column "
   ]
  },
  {
   "cell_type": "code",
   "execution_count": 213,
   "id": "c35ccf78",
   "metadata": {},
   "outputs": [],
   "source": [
    "acquired = acquired.drop(\"Image\", axis=1)"
   ]
  },
  {
   "cell_type": "code",
   "execution_count": 13,
   "id": "2a2200a3",
   "metadata": {
    "execution": {
     "iopub.execute_input": "2025-04-18T03:04:27.421572Z",
     "iopub.status.busy": "2025-04-18T03:04:27.421350Z",
     "iopub.status.idle": "2025-04-18T03:06:05.489255Z",
     "shell.execute_reply": "2025-04-18T03:06:05.488446Z"
    },
    "papermill": {
     "duration": 98.073524,
     "end_time": "2025-04-18T03:06:05.490930",
     "exception": false,
     "start_time": "2025-04-18T03:04:27.417406",
     "status": "completed"
    },
    "tags": []
   },
   "outputs": [
    {
     "name": "stdout",
     "output_type": "stream",
     "text": [
      "Image\n",
      "Column \"Image\" had no valid links , or is using captcha.\n",
      "Try it yourself:\n",
      "http://a2.images.crunchbase.com/image/upload/c_pad,h_500,w_500/v1397180657/2cd912e176145af3618549d60b7959a1.png\n",
      "\n",
      "Homepage\n",
      "Twitter\n",
      "API\n"
     ]
    }
   ],
   "source": [
    "ValidateLinksDF(acquiring)"
   ]
  },
  {
   "cell_type": "markdown",
   "id": "c560a108",
   "metadata": {},
   "source": [
    "* drop Image also"
   ]
  },
  {
   "cell_type": "code",
   "execution_count": 214,
   "id": "cc2646cf",
   "metadata": {},
   "outputs": [],
   "source": [
    "acquiring = acquiring.drop(\"Image\", axis=1)"
   ]
  },
  {
   "cell_type": "code",
   "execution_count": 14,
   "id": "c6e489ba",
   "metadata": {
    "execution": {
     "iopub.execute_input": "2025-04-18T03:06:05.499732Z",
     "iopub.status.busy": "2025-04-18T03:06:05.499484Z",
     "iopub.status.idle": "2025-04-18T03:11:17.444025Z",
     "shell.execute_reply": "2025-04-18T03:11:17.443248Z"
    },
    "papermill": {
     "duration": 311.950251,
     "end_time": "2025-04-18T03:11:17.445349",
     "exception": false,
     "start_time": "2025-04-18T03:06:05.495098",
     "status": "completed"
    },
    "tags": []
   },
   "outputs": [
    {
     "name": "stdout",
     "output_type": "stream",
     "text": [
      "Acquisition Profile\n",
      "Column \"Acquisition Profile\" had no valid links , or is using captcha.\n",
      "Try it yourself:\n",
      "http://www.crunchbase.com/acquisition/5dc676a13d41c2ee87169ce59476ec2d\n",
      "\n",
      "News Link\n"
     ]
    }
   ],
   "source": [
    "ValidateLinksDF(acquisitions)"
   ]
  },
  {
   "cell_type": "markdown",
   "id": "7ba25a5f",
   "metadata": {},
   "source": [
    "* acquisitions profile is also a crunchbase link"
   ]
  },
  {
   "cell_type": "code",
   "execution_count": 15,
   "id": "750cb3b3",
   "metadata": {
    "execution": {
     "iopub.execute_input": "2025-04-18T03:11:17.454583Z",
     "iopub.status.busy": "2025-04-18T03:11:17.454322Z",
     "iopub.status.idle": "2025-04-18T03:11:47.507277Z",
     "shell.execute_reply": "2025-04-18T03:11:47.506425Z"
    },
    "papermill": {
     "duration": 30.059262,
     "end_time": "2025-04-18T03:11:47.508743",
     "exception": false,
     "start_time": "2025-04-18T03:11:17.449481",
     "status": "completed"
    },
    "tags": []
   },
   "outputs": [
    {
     "name": "stdout",
     "output_type": "stream",
     "text": [
      "CrunchBase Profile\n",
      "Image\n"
     ]
    }
   ],
   "source": [
    "ValidateLinksDF(founders)"
   ]
  },
  {
   "cell_type": "markdown",
   "id": "95b9ac71",
   "metadata": {},
   "source": [
    "We don't need the exact address of the company, we already have the city , state and country"
   ]
  },
  {
   "cell_type": "code",
   "execution_count": 215,
   "id": "a082bb19",
   "metadata": {},
   "outputs": [],
   "source": [
    "acquired=acquired.drop('Address (HQ)', axis=1)\n",
    "acquiring=acquiring.drop('Address (HQ)', axis=1)"
   ]
  },
  {
   "cell_type": "markdown",
   "id": "75192d43",
   "metadata": {},
   "source": [
    "Dropping 'year of last update' of the number of employees , because we don't need it directly and can't use it in any way to pridct the current number"
   ]
  },
  {
   "cell_type": "code",
   "execution_count": 216,
   "id": "88f3827c",
   "metadata": {},
   "outputs": [],
   "source": [
    "acquiring=acquiring.drop('Number of Employees (year of last update)', axis=1)"
   ]
  },
  {
   "cell_type": "code",
   "execution_count": 217,
   "id": "72f4b4da",
   "metadata": {},
   "outputs": [
    {
     "data": {
      "text/plain": [
       "'EMC manufactures information management and storage software systems.'"
      ]
     },
     "execution_count": 217,
     "metadata": {},
     "output_type": "execute_result"
    }
   ],
   "source": [
    "acquiring.iloc[12]['Tagline']"
   ]
  },
  {
   "cell_type": "code",
   "execution_count": 59,
   "id": "782cbf30",
   "metadata": {},
   "outputs": [
    {
     "name": "stdout",
     "output_type": "stream",
     "text": [
      "EMC is a global leader in enabling businesses and service providers to transform their operations and deliver information technology as a service ITaaS\n",
      "\n",
      " Fundamental to this transformation is cloud computing\n",
      "\n",
      " Through innovative products and services, EMC accelerates the journey to cloud computing, helping IT departments to store, manage, protect and analyze their most valuable asset — information — in a more agile, trusted and cost-efficient way\n",
      "\n",
      "EMC is a manufacturer of software and systems for information management and storage\n",
      "\n",
      "  EMC produces a range of enterprise storage products, including hardware disk arrays and storage management software\n",
      "\n",
      " Its flagship product, the Symmetrix, is the foundation of storage networks in many large data centers\n",
      "\n",
      "\n",
      "\n"
     ]
    }
   ],
   "source": [
    "for l in acquiring.iloc[12]['Description'].split('.'):\n",
    "    print(l +'\\n') "
   ]
  },
  {
   "cell_type": "markdown",
   "id": "7fe3757c",
   "metadata": {},
   "source": [
    "* 'Tagline' contains a brief and precise description of the company , while the 'Description' is very long and doesn't provide any more important details, \n",
    "so we will drop the 'Description'"
   ]
  },
  {
   "cell_type": "code",
   "execution_count": 218,
   "id": "39b2dfa2",
   "metadata": {},
   "outputs": [],
   "source": [
    "acquiring=acquiring.drop('Description', axis=1)\n",
    "acquired=acquired.drop('Description', axis=1)"
   ]
  },
  {
   "cell_type": "markdown",
   "id": "5317712c",
   "metadata": {},
   "source": [
    "**Adding the target variable**"
   ]
  },
  {
   "cell_type": "code",
   "execution_count": 219,
   "id": "65114a47",
   "metadata": {},
   "outputs": [],
   "source": [
    "acquisitions['Price']=[int(price.removeprefix('$').replace(',','')) for price in acquisitions['Price']]"
   ]
  },
  {
   "cell_type": "code",
   "execution_count": 221,
   "id": "36914ca3",
   "metadata": {},
   "outputs": [
    {
     "data": {
      "text/plain": [
       "<matplotlib.collections.PathCollection at 0x73b211104410>"
      ]
     },
     "execution_count": 221,
     "metadata": {},
     "output_type": "execute_result"
    },
    {
     "data": {
      "image/png": "[encoded data removed]",
      "text/plain": [
       "<Figure size 640x480 with 1 Axes>"
      ]
     },
     "metadata": {},
     "output_type": "display_data"
    }
   ],
   "source": [
    "pt.scatter(acquisitions['Year of acquisition announcement'],acquisitions['Price'])"
   ]
  },
  {
   "cell_type": "markdown",
   "id": "1bb683fb",
   "metadata": {},
   "source": [
    "There was a wrongly entered value, so I looked at the link and corrected it"
   ]
  },
  {
   "cell_type": "code",
   "execution_count": 222,
   "id": "59a010a3",
   "metadata": {},
   "outputs": [],
   "source": [
    "acquisitions.loc[acquisitions['Year of acquisition announcement']==2104,'Year of acquisition announcement']=2014 "
   ]
  },
  {
   "cell_type": "code",
   "execution_count": 220,
   "id": "76299013",
   "metadata": {},
   "outputs": [],
   "source": [
    "acquired['Price']=None\n",
    "acquired['Year of acquisition announcement']=None"
   ]
  },
  {
   "cell_type": "code",
   "execution_count": 223,
   "id": "09677145",
   "metadata": {},
   "outputs": [],
   "source": [
    "for i,company in enumerate(acquisitions['Acquired Company']):\n",
    "    acquired.loc[acquired['Company']==company,'Price']=acquisitions.iloc[i]['Price']\n",
    "    acquired.loc[acquired['Company']==company,'Year of acquisition announcement']=acquisitions.iloc[i]['Year of acquisition announcement']"
   ]
  },
  {
   "cell_type": "markdown",
   "id": "39596dce",
   "metadata": {},
   "source": [
    "update the datatypes automatically"
   ]
  },
  {
   "cell_type": "code",
   "execution_count": 224,
   "id": "cdd6d5c0",
   "metadata": {},
   "outputs": [],
   "source": [
    "acquired=acquired.infer_objects()\n",
    "acquisitions=acquisitions.infer_objects()"
   ]
  },
  {
   "cell_type": "code",
   "execution_count": 225,
   "id": "c871cb65",
   "metadata": {},
   "outputs": [
    {
     "data": {
      "text/html": [
       "<div>\n",
       "<style scoped>\n",
       "    .dataframe tbody tr th:only-of-type {\n",
       "        vertical-align: middle;\n",
       "    }\n",
       "\n",
       "    .dataframe tbody tr th {\n",
       "        vertical-align: top;\n",
       "    }\n",
       "\n",
       "    .dataframe thead th {\n",
       "        text-align: right;\n",
       "    }\n",
       "</style>\n",
       "<table border=\"1\" class=\"dataframe\">\n",
       "  <thead>\n",
       "    <tr style=\"text-align: right;\">\n",
       "      <th></th>\n",
       "      <th>Year Founded</th>\n",
       "      <th>Price</th>\n",
       "      <th>Year of acquisition announcement</th>\n",
       "    </tr>\n",
       "  </thead>\n",
       "  <tbody>\n",
       "    <tr>\n",
       "      <th>count</th>\n",
       "      <td>241.000000</td>\n",
       "      <td>3.100000e+02</td>\n",
       "      <td>310.000000</td>\n",
       "    </tr>\n",
       "    <tr>\n",
       "      <th>mean</th>\n",
       "      <td>2000.526971</td>\n",
       "      <td>1.067965e+09</td>\n",
       "      <td>2008.961290</td>\n",
       "    </tr>\n",
       "    <tr>\n",
       "      <th>std</th>\n",
       "      <td>14.027365</td>\n",
       "      <td>3.529433e+09</td>\n",
       "      <td>4.238648</td>\n",
       "    </tr>\n",
       "    <tr>\n",
       "      <th>min</th>\n",
       "      <td>1840.000000</td>\n",
       "      <td>1.400000e+06</td>\n",
       "      <td>1995.000000</td>\n",
       "    </tr>\n",
       "    <tr>\n",
       "      <th>25%</th>\n",
       "      <td>1998.000000</td>\n",
       "      <td>6.500000e+07</td>\n",
       "      <td>2007.000000</td>\n",
       "    </tr>\n",
       "    <tr>\n",
       "      <th>50%</th>\n",
       "      <td>2003.000000</td>\n",
       "      <td>1.780000e+08</td>\n",
       "      <td>2010.000000</td>\n",
       "    </tr>\n",
       "    <tr>\n",
       "      <th>75%</th>\n",
       "      <td>2007.000000</td>\n",
       "      <td>5.787500e+08</td>\n",
       "      <td>2012.000000</td>\n",
       "    </tr>\n",
       "    <tr>\n",
       "      <th>max</th>\n",
       "      <td>2014.000000</td>\n",
       "      <td>4.500000e+10</td>\n",
       "      <td>2014.000000</td>\n",
       "    </tr>\n",
       "  </tbody>\n",
       "</table>\n",
       "</div>"
      ],
      "text/plain": [
       "       Year Founded         Price  Year of acquisition announcement\n",
       "count    241.000000  3.100000e+02                        310.000000\n",
       "mean    2000.526971  1.067965e+09                       2008.961290\n",
       "std       14.027365  3.529433e+09                          4.238648\n",
       "min     1840.000000  1.400000e+06                       1995.000000\n",
       "25%     1998.000000  6.500000e+07                       2007.000000\n",
       "50%     2003.000000  1.780000e+08                       2010.000000\n",
       "75%     2007.000000  5.787500e+08                       2012.000000\n",
       "max     2014.000000  4.500000e+10                       2014.000000"
      ]
     },
     "execution_count": 225,
     "metadata": {},
     "output_type": "execute_result"
    }
   ],
   "source": [
    "acquired.describe()"
   ]
  },
  {
   "cell_type": "markdown",
   "id": "f85dc4fe",
   "metadata": {},
   "source": [
    "The specific date which the deal was announced on doesn't matter , what matters is the year so the model can know that inflation affects the price"
   ]
  },
  {
   "cell_type": "code",
   "execution_count": 226,
   "id": "d38c7a51",
   "metadata": {},
   "outputs": [],
   "source": [
    "acquisitions=acquisitions.drop('Deal announced on',axis=1)"
   ]
  },
  {
   "cell_type": "markdown",
   "id": "e85fe1a9",
   "metadata": {},
   "source": [
    "Plotting again without the error, now we can see that the overall trend of prices tends to go up, that's why we added the 'Year of acquisitions announcement' column"
   ]
  },
  {
   "cell_type": "code",
   "execution_count": 232,
   "id": "4c8389df",
   "metadata": {},
   "outputs": [
    {
     "data": {
      "text/plain": [
       "Company                                                                  Day Software\n",
       "CrunchBase Profile                  http://www.crunchbase.com/organization/day-sof...\n",
       "Tagline                             Day Software develops web applications that al...\n",
       "Year Founded                                                                      NaN\n",
       "Market Categories                                                            Software\n",
       "City (HQ)                                                                       Basel\n",
       "State / Region (HQ)                                                       Basel-Stadt\n",
       "Country (HQ)                                                              Switzerland\n",
       "Homepage                                                           http://www.day.com\n",
       "Twitter                                                                           NaN\n",
       "Acquired by                                                                     Adobe\n",
       "Acquisitions ID                           Adobe Systems acquired Day Software in 2010\n",
       "API                                 http://api.crunchbase.com/v/2/organization/day...\n",
       "Price                                                                       240000000\n",
       "Year of acquisition announcement                                                 2010\n",
       "Name: 0, dtype: object"
      ]
     },
     "execution_count": 232,
     "metadata": {},
     "output_type": "execute_result"
    }
   ],
   "source": [
    "acquired.iloc[0]"
   ]
  },
  {
   "cell_type": "code",
   "execution_count": 233,
   "id": "461fba41",
   "metadata": {},
   "outputs": [
    {
     "data": {
      "application/vnd.plotly.v1+json": {
       "config": {
        "plotlyServerURL": "https://plot.ly"
       },
       "data": [
        {
         "hovertemplate": "Year Founded=%{x}<br>Price=%{y}<extra></extra>",
         "legendgroup": "",
         "marker": {
          "color": "#636efa",
          "symbol": "circle"
         },
         "mode": "markers",
         "name": "",
         "orientation": "v",
         "showlegend": false,
         "type": "scatter",
         "x": {
          "bdata": "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",
          "dtype": "f8"
         },
         "xaxis": "x",
         "y": [
          240000000,
          400000000,
          3400000000,
          600000000,
          1800000000,
          250000000,
          300000000,
          26000000,
          775000000,
          2500000,
          545000000,
          110000000,
          65000000,
          435000000,
          125000000,
          101000000,
          90700000,
          1100000000,
          525000000,
          4200000000,
          363000000,
          320000000,
          275000000,
          315000000,
          40000000,
          30000000,
          450000000,
          3000000000,
          7000000,
          50000000,
          30000000,
          121000000,
          400000000,
          278000000,
          29000000,
          345000000,
          275000000,
          200000000,
          20000000,
          944000000,
          15000000,
          275000000,
          200000000,
          330000000,
          155000000,
          1700000000,
          200000000,
          40000000,
          375000000,
          450000000,
          7400000000,
          99000000,
          271000000,
          1200000000,
          330000000,
          215000000,
          590000000,
          120000000,
          183000000,
          100000000,
          2700000000,
          175000000,
          3400000000,
          3200000000,
          415000000,
          125000000,
          200000000,
          320000000,
          150000000,
          5000000,
          45000000000,
          820000000,
          12000000,
          155000000,
          3900000000,
          2400000000,
          100000000,
          50000000,
          945000000,
          380000000,
          150000000,
          2400000000,
          350000000,
          80000000,
          180000000,
          290000000,
          75000000,
          1500000000,
          620000000,
          310000000,
          48300000,
          240000000,
          2100000000,
          213000000,
          2300000000,
          150000000,
          76000000,
          200000000,
          250000000,
          635000000,
          50000000,
          15000000,
          10000000,
          60000000,
          10000000,
          1000000000,
          2500000,
          2000000000,
          150000000,
          90000000,
          70000000,
          19000000000,
          50000000,
          400000000,
          750000000,
          23000000,
          50000000,
          102000000,
          61000000,
          30000000,
          35000000,
          125000000,
          500000000,
          102000000,
          28000000,
          100000000,
          40000000,
          68200000,
          60000000,
          80000000,
          700000000,
          12000000,
          70000000,
          25000000,
          100000000,
          4900000,
          3200000000,
          15000000,
          130000000,
          20300000,
          625000000,
          500000000,
          30000000,
          996000000,
          160000000,
          350000000,
          1700000000,
          151000000,
          2700000000,
          2400000000,
          1500000000,
          10200000000,
          360000000,
          30000000,
          4500000000,
          1600000000,
          25000000,
          300000000,
          20000000,
          225000000,
          1300000000,
          3500000000,
          1700000000,
          1200000000,
          140000000,
          800000000,
          480000000,
          300000000,
          130000000,
          100000000,
          25000000,
          26000000,
          1400000000,
          500000000,
          8000000,
          40000000,
          20000000,
          884000000,
          748000000,
          95000000,
          176000000,
          67500000,
          3400000000,
          60000000,
          175000000,
          120000000,
          5000000,
          90000000,
          15000000,
          119000000,
          6400000000,
          500000000,
          115000000,
          1200000000,
          400000000,
          50000000,
          200000000,
          150000000,
          100000000,
          100000000,
          337000000,
          96000000,
          100000000,
          75000000,
          25000000,
          8100000000,
          57000000,
          340000000,
          96800000,
          495000000,
          1000000000,
          8500000000,
          400000000,
          871000000,
          5300000000,
          685000000,
          1500000000,
          150000000,
          1900000000,
          300000000,
          220000000,
          65000000,
          56000000,
          144000000,
          210000000,
          175000000,
          3100000000,
          300000000,
          32000000,
          12000000,
          50000000,
          31000000,
          2500000000,
          70000000,
          250000000,
          142000000,
          390000000,
          689000000,
          170000000,
          326000000,
          30000000,
          347000000,
          200000000,
          1100000000,
          307000000,
          4300000000,
          10000000000,
          100000000,
          3400000000,
          5800000000,
          380000000,
          53000000,
          410000000,
          115000000,
          695000000,
          300000000,
          135000000,
          123000000,
          28000000,
          1300000000,
          350000000,
          525000000,
          263000000,
          10000000,
          80000000,
          134000000,
          5200000,
          350000000,
          50000000,
          15000000,
          100000000,
          40000000,
          30000000,
          28100000000,
          10100000000,
          10000000000,
          31000000,
          40000000,
          100000000,
          90000000,
          80000000,
          5700000000,
          55000000,
          432000000,
          130000000,
          200000000,
          92000000,
          40000000,
          2900000000,
          235000000,
          270000000,
          610000000,
          145000000,
          12000000,
          10000000,
          164000000,
          160000000,
          160000000,
          10000000,
          1400000,
          80000000,
          1600000000,
          50000000,
          850000000,
          100000000,
          10000000,
          16000000,
          93000000,
          49000000,
          20000000
         ],
         "yaxis": "y"
        }
       ],
       "layout": {
        "legend": {
         "tracegroupgap": 0
        },
        "template": {
         "data": {
          "bar": [
           {
            "error_x": {
             "color": "#2a3f5f"
            },
            "error_y": {
             "color": "#2a3f5f"
            },
            "marker": {
             "line": {
              "color": "#E5ECF6",
              "width": 0.5
             },
             "pattern": {
              "fillmode": "overlay",
              "size": 10,
              "solidity": 0.2
             }
            },
            "type": "bar"
           }
          ],
          "barpolar": [
           {
            "marker": {
             "line": {
              "color": "#E5ECF6",
              "width": 0.5
             },
             "pattern": {
              "fillmode": "overlay",
              "size": 10,
              "solidity": 0.2
             }
            },
            "type": "barpolar"
           }
          ],
          "carpet": [
           {
            "aaxis": {
             "endlinecolor": "#2a3f5f",
             "gridcolor": "white",
             "linecolor": "white",
             "minorgridcolor": "white",
             "startlinecolor": "#2a3f5f"
            },
            "baxis": {
             "endlinecolor": "#2a3f5f",
             "gridcolor": "white",
             "linecolor": "white",
             "minorgridcolor": "white",
             "startlinecolor": "#2a3f5f"
            },
            "type": "carpet"
           }
          ],
          "choropleth": [
           {
            "colorbar": {
             "outlinewidth": 0,
             "ticks": ""
            },
            "type": "choropleth"
           }
          ],
          "contour": [
           {
            "colorbar": {
             "outlinewidth": 0,
             "ticks": ""
            },
            "colorscale": [
             [
              0,
              "#0d0887"
             ],
             [
              0.1111111111111111,
              "#46039f"
             ],
             [
              0.2222222222222222,
              "#7201a8"
             ],
             [
              0.3333333333333333,
              "#9c179e"
             ],
             [
              0.4444444444444444,
              "#bd3786"
             ],
             [
              0.5555555555555556,
              "#d8576b"
             ],
             [
              0.6666666666666666,
              "#ed7953"
             ],
             [
              0.7777777777777778,
              "#fb9f3a"
             ],
             [
              0.8888888888888888,
              "#fdca26"
             ],
             [
              1,
              "#f0f921"
             ]
            ],
            "type": "contour"
           }
          ],
          "contourcarpet": [
           {
            "colorbar": {
             "outlinewidth": 0,
             "ticks": ""
            },
            "type": "contourcarpet"
           }
          ],
          "heatmap": [
           {
            "colorbar": {
             "outlinewidth": 0,
             "ticks": ""
            },
            "colorscale": [
             [
              0,
              "#0d0887"
             ],
             [
              0.1111111111111111,
              "#46039f"
             ],
             [
              0.2222222222222222,
              "#7201a8"
             ],
             [
              0.3333333333333333,
              "#9c179e"
             ],
             [
              0.4444444444444444,
              "#bd3786"
             ],
             [
              0.5555555555555556,
              "#d8576b"
             ],
             [
              0.6666666666666666,
              "#ed7953"
             ],
             [
              0.7777777777777778,
              "#fb9f3a"
             ],
             [
              0.8888888888888888,
              "#fdca26"
             ],
             [
              1,
              "#f0f921"
             ]
            ],
            "type": "heatmap"
           }
          ],
          "histogram": [
           {
            "marker": {
             "pattern": {
              "fillmode": "overlay",
              "size": 10,
              "solidity": 0.2
             }
            },
            "type": "histogram"
           }
          ],
          "histogram2d": [
           {
            "colorbar": {
             "outlinewidth": 0,
             "ticks": ""
            },
            "colorscale": [
             [
              0,
              "#0d0887"
             ],
             [
              0.1111111111111111,
              "#46039f"
             ],
             [
              0.2222222222222222,
              "#7201a8"
             ],
             [
              0.3333333333333333,
              "#9c179e"
             ],
             [
              0.4444444444444444,
              "#bd3786"
             ],
             [
              0.5555555555555556,
              "#d8576b"
             ],
             [
              0.6666666666666666,
              "#ed7953"
             ],
             [
              0.7777777777777778,
              "#fb9f3a"
             ],
             [
              0.8888888888888888,
              "#fdca26"
             ],
             [
              1,
              "#f0f921"
             ]
            ],
            "type": "histogram2d"
           }
          ],
          "histogram2dcontour": [
           {
            "colorbar": {
             "outlinewidth": 0,
             "ticks": ""
            },
            "colorscale": [
             [
              0,
              "#0d0887"
             ],
             [
              0.1111111111111111,
              "#46039f"
             ],
             [
              0.2222222222222222,
              "#7201a8"
             ],
             [
              0.3333333333333333,
              "#9c179e"
             ],
             [
              0.4444444444444444,
              "#bd3786"
             ],
             [
              0.5555555555555556,
              "#d8576b"
             ],
             [
              0.6666666666666666,
              "#ed7953"
             ],
             [
              0.7777777777777778,
              "#fb9f3a"
             ],
             [
              0.8888888888888888,
              "#fdca26"
             ],
             [
              1,
              "#f0f921"
             ]
            ],
            "type": "histogram2dcontour"
           }
          ],
          "mesh3d": [
           {
            "colorbar": {
             "outlinewidth": 0,
             "ticks": ""
            },
            "type": "mesh3d"
           }
          ],
          "parcoords": [
           {
            "line": {
             "colorbar": {
              "outlinewidth": 0,
              "ticks": ""
             }
            },
            "type": "parcoords"
           }
          ],
          "pie": [
           {
            "automargin": true,
            "type": "pie"
           }
          ],
          "scatter": [
           {
            "fillpattern": {
             "fillmode": "overlay",
             "size": 10,
             "solidity": 0.2
            },
            "type": "scatter"
           }
          ],
          "scatter3d": [
           {
            "line": {
             "colorbar": {
              "outlinewidth": 0,
              "ticks": ""
             }
            },
            "marker": {
             "colorbar": {
              "outlinewidth": 0,
              "ticks": ""
             }
            },
            "type": "scatter3d"
           }
          ],
          "scattercarpet": [
           {
            "marker": {
             "colorbar": {
              "outlinewidth": 0,
              "ticks": ""
             }
            },
            "type": "scattercarpet"
           }
          ],
          "scattergeo": [
           {
            "marker": {
             "colorbar": {
              "outlinewidth": 0,
              "ticks": ""
             }
            },
            "type": "scattergeo"
           }
          ],
          "scattergl": [
           {
            "marker": {
             "colorbar": {
              "outlinewidth": 0,
              "ticks": ""
             }
            },
            "type": "scattergl"
           }
          ],
          "scattermap": [
           {
            "marker": {
             "colorbar": {
              "outlinewidth": 0,
              "ticks": ""
             }
            },
            "type": "scattermap"
           }
          ],
          "scattermapbox": [
           {
            "marker": {
             "colorbar": {
              "outlinewidth": 0,
              "ticks": ""
             }
            },
            "type": "scattermapbox"
           }
          ],
          "scatterpolar": [
           {
            "marker": {
             "colorbar": {
              "outlinewidth": 0,
              "ticks": ""
             }
            },
            "type": "scatterpolar"
           }
          ],
          "scatterpolargl": [
           {
            "marker": {
             "colorbar": {
              "outlinewidth": 0,
              "ticks": ""
             }
            },
            "type": "scatterpolargl"
           }
          ],
          "scatterternary": [
           {
            "marker": {
             "colorbar": {
              "outlinewidth": 0,
              "ticks": ""
             }
            },
            "type": "scatterternary"
           }
          ],
          "surface": [
           {
            "colorbar": {
             "outlinewidth": 0,
             "ticks": ""
            },
            "colorscale": [
             [
              0,
              "#0d0887"
             ],
             [
              0.1111111111111111,
              "#46039f"
             ],
             [
              0.2222222222222222,
              "#7201a8"
             ],
             [
              0.3333333333333333,
              "#9c179e"
             ],
             [
              0.4444444444444444,
              "#bd3786"
             ],
             [
              0.5555555555555556,
              "#d8576b"
             ],
             [
              0.6666666666666666,
              "#ed7953"
             ],
             [
              0.7777777777777778,
              "#fb9f3a"
             ],
             [
              0.8888888888888888,
              "#fdca26"
             ],
             [
              1,
              "#f0f921"
             ]
            ],
            "type": "surface"
           }
          ],
          "table": [
           {
            "cells": {
             "fill": {
              "color": "#EBF0F8"
             },
             "line": {
              "color": "white"
             }
            },
            "header": {
             "fill": {
              "color": "#C8D4E3"
             },
             "line": {
              "color": "white"
             }
            },
            "type": "table"
           }
          ]
         },
         "layout": {
          "annotationdefaults": {
           "arrowcolor": "#2a3f5f",
           "arrowhead": 0,
           "arrowwidth": 1
          },
          "autotypenumbers": "strict",
          "coloraxis": {
           "colorbar": {
            "outlinewidth": 0,
            "ticks": ""
           }
          },
          "colorscale": {
           "diverging": [
            [
             0,
             "#8e0152"
            ],
            [
             0.1,
             "#c51b7d"
            ],
            [
             0.2,
             "#de77ae"
            ],
            [
             0.3,
             "#f1b6da"
            ],
            [
             0.4,
             "#fde0ef"
            ],
            [
             0.5,
             "#f7f7f7"
            ],
            [
             0.6,
             "#e6f5d0"
            ],
            [
             0.7,
             "#b8e186"
            ],
            [
             0.8,
             "#7fbc41"
            ],
            [
             0.9,
             "#4d9221"
            ],
            [
             1,
             "#276419"
            ]
           ],
           "sequential": [
            [
             0,
             "#0d0887"
            ],
            [
             0.1111111111111111,
             "#46039f"
            ],
            [
             0.2222222222222222,
             "#7201a8"
            ],
            [
             0.3333333333333333,
             "#9c179e"
            ],
            [
             0.4444444444444444,
             "#bd3786"
            ],
            [
             0.5555555555555556,
             "#d8576b"
            ],
            [
             0.6666666666666666,
             "#ed7953"
            ],
            [
             0.7777777777777778,
             "#fb9f3a"
            ],
            [
             0.8888888888888888,
             "#fdca26"
            ],
            [
             1,
             "#f0f921"
            ]
           ],
           "sequentialminus": [
            [
             0,
             "#0d0887"
            ],
            [
             0.1111111111111111,
             "#46039f"
            ],
            [
             0.2222222222222222,
             "#7201a8"
            ],
            [
             0.3333333333333333,
             "#9c179e"
            ],
            [
             0.4444444444444444,
             "#bd3786"
            ],
            [
             0.5555555555555556,
             "#d8576b"
            ],
            [
             0.6666666666666666,
             "#ed7953"
            ],
            [
             0.7777777777777778,
             "#fb9f3a"
            ],
            [
             0.8888888888888888,
             "#fdca26"
            ],
            [
             1,
             "#f0f921"
            ]
           ]
          },
          "colorway": [
           "#636efa",
           "#EF553B",
           "#00cc96",
           "#ab63fa",
           "#FFA15A",
           "#19d3f3",
           "#FF6692",
           "#B6E880",
           "#FF97FF",
           "#FECB52"
          ],
          "font": {
           "color": "#2a3f5f"
          },
          "geo": {
           "bgcolor": "white",
           "lakecolor": "white",
           "landcolor": "#E5ECF6",
           "showlakes": true,
           "showland": true,
           "subunitcolor": "white"
          },
          "hoverlabel": {
           "align": "left"
          },
          "hovermode": "closest",
          "mapbox": {
           "style": "light"
          },
          "paper_bgcolor": "white",
          "plot_bgcolor": "#E5ECF6",
          "polar": {
           "angularaxis": {
            "gridcolor": "white",
            "linecolor": "white",
            "ticks": ""
           },
           "bgcolor": "#E5ECF6",
           "radialaxis": {
            "gridcolor": "white",
            "linecolor": "white",
            "ticks": ""
           }
          },
          "scene": {
           "xaxis": {
            "backgroundcolor": "#E5ECF6",
            "gridcolor": "white",
            "gridwidth": 2,
            "linecolor": "white",
            "showbackground": true,
            "ticks": "",
            "zerolinecolor": "white"
           },
           "yaxis": {
            "backgroundcolor": "#E5ECF6",
            "gridcolor": "white",
            "gridwidth": 2,
            "linecolor": "white",
            "showbackground": true,
            "ticks": "",
            "zerolinecolor": "white"
           },
           "zaxis": {
            "backgroundcolor": "#E5ECF6",
            "gridcolor": "white",
            "gridwidth": 2,
            "linecolor": "white",
            "showbackground": true,
            "ticks": "",
            "zerolinecolor": "white"
           }
          },
          "shapedefaults": {
           "line": {
            "color": "#2a3f5f"
           }
          },
          "ternary": {
           "aaxis": {
            "gridcolor": "white",
            "linecolor": "white",
            "ticks": ""
           },
           "baxis": {
            "gridcolor": "white",
            "linecolor": "white",
            "ticks": ""
           },
           "bgcolor": "#E5ECF6",
           "caxis": {
            "gridcolor": "white",
            "linecolor": "white",
            "ticks": ""
           }
          },
          "title": {
           "x": 0.05
          },
          "xaxis": {
           "automargin": true,
           "gridcolor": "white",
           "linecolor": "white",
           "ticks": "",
           "title": {
            "standoff": 15
           },
           "zerolinecolor": "white",
           "zerolinewidth": 2
          },
          "yaxis": {
           "automargin": true,
           "gridcolor": "white",
           "linecolor": "white",
           "ticks": "",
           "title": {
            "standoff": 15
           },
           "zerolinecolor": "white",
           "zerolinewidth": 2
          }
         }
        },
        "title": {
         "text": "Acquisition Price by Year"
        },
        "xaxis": {
         "anchor": "y",
         "domain": [
          0,
          1
         ],
         "title": {
          "text": "Year Founded"
         }
        },
        "yaxis": {
         "anchor": "x",
         "domain": [
          0,
          1
         ],
         "title": {
          "text": "Price"
         }
        }
       }
      }
     },
     "metadata": {},
     "output_type": "display_data"
    }
   ],
   "source": [
    "fig = px.scatter(\n",
    "    acquired,\n",
    "    x='Year Founded',\n",
    "    y='Price',\n",
    "    title='Acquisition Price by Year'\n",
    ")\n",
    "fig.show()"
   ]
  },
  {
   "cell_type": "markdown",
   "id": "dbbd7ffb",
   "metadata": {},
   "source": [
    "Another error found and corrected"
   ]
  },
  {
   "cell_type": "code",
   "execution_count": null,
   "id": "82b00b35",
   "metadata": {},
   "outputs": [],
   "source": [
    "acquired.loc[acquired['Year Founded']==1840,'Year Founded']=2006\n",
    "acquired.loc[acquired['Year Founded']==1933,'Year Founded']=1989"
   ]
  },
  {
   "cell_type": "code",
   "execution_count": 252,
   "id": "45bfa512",
   "metadata": {},
   "outputs": [
    {
     "data": {
      "application/vnd.plotly.v1+json": {
       "config": {
        "plotlyServerURL": "https://plot.ly"
       },
       "data": [
        {
         "hovertemplate": "Year Founded=%{x}<br>Price=%{y}<extra></extra>",
         "legendgroup": "",
         "marker": {
          "color": "#636efa",
          "symbol": "circle"
         },
         "mode": "markers",
         "name": "",
         "orientation": "v",
         "showlegend": false,
         "type": "scatter",
         "x": {
          "bdata": "AAAAAAAA+H8AAAAAAEifQAAAAAAAIJ9AAAAAAABEn0AAAAAAADCfQAAAAAAAMJ9AAAAAAAA8n0AAAAAAAFSfQAAAAAAATJ9AAAAAAABMn0AAAAAAAFSfQAAAAAAAUJ9AAAAAAABcn0AAAAAAADifQAAAAAAAAPh/AAAAAABkn0AAAAAAAGSfQAAAAAAAMJ9AAAAAAAAUn0AAAAAAACifQAAAAAAAQJ9AAAAAAABonkAAAAAAAAD4fwAAAAAAVJ9AAAAAAABEn0AAAAAAADyfQAAAAAAAWJ9AAAAAAABYn0AAAAAAAGifQAAAAAAAaJ9AAAAAAAAA+H8AAAAAAGCfQAAAAAAABJ9AAAAAAAAA+H8AAAAAAFCfQAAAAAAAVJ9AAAAAAABYn0AAAAAAAFyfQAAAAAAAbJ9AAAAAAAAQn0AAAAAAAAD4fwAAAAAAAPh/AAAAAAAA+H8AAAAAADyfQAAAAAAATJ9AAAAAAAAA+H8AAAAAADyfQAAAAAAAZJ9AAAAAAAA4n0AAAAAAAESfQAAAAAAANJ9AAAAAAABEn0AAAAAAAAD4fwAAAAAAWJ9AAAAAAABAn0AAAAAAAEyfQAAAAAAARJ9AAAAAAABIn0AAAAAAAFCfQAAAAAAAUJ9AAAAAAABEn0AAAAAAAFSfQAAAAAAAFJ9AAAAAAAAA+H8AAAAAAAD4fwAAAAAAQJ9AAAAAAAAA+H8AAAAAAFyfQAAAAAAASJ9AAAAAAAAA+H8AAAAAABSfQAAAAAAASJ9AAAAAAABAn0AAAAAAAAD4fwAAAAAAEJ9AAAAAAAAA+H8AAAAAAAD4fwAAAAAAAPh/AAAAAABAn0AAAAAAACyfQAAAAAAAPJ9AAAAAAAA8n0AAAAAAAAD4fwAAAAAAXJ9AAAAAAABon0AAAAAAADyfQAAAAAAAYJ9AAAAAAAA4n0AAAAAAADifQAAAAAAAQJ9AAAAAAAAA+H8AAAAAAECfQAAAAAAARJ9AAAAAAADwnkAAAAAAAESfQAAAAAAATJ9AAAAAAABUn0AAAAAAAGyfQAAAAAAAYJ9AAAAAAAA4n0AAAAAAAEifQAAAAAAAbJ9AAAAAAAAA+H8AAAAAAFSfQAAAAAAAZJ9AAAAAAABon0AAAAAAAGSfQAAAAAAAcJ9AAAAAAABon0AAAAAAAGyfQAAAAAAAKJ9AAAAAAABkn0AAAAAAAFyfQAAAAAAAXJ9AAAAAAABYn0AAAAAAAAD4fwAAAAAATJ9AAAAAAAAA+H8AAAAAAAD4fwAAAAAAYJ9AAAAAAABcn0AAAAAAADyfQAAAAAAAbJ9AAAAAAAAA+H8AAAAAAAD4fwAAAAAAUJ9AAAAAAABon0AAAAAAADyfQAAAAAAAWJ9AAAAAAABcn0AAAAAAADCfQAAAAAAAWJ9AAAAAAABYn0AAAAAAAFifQAAAAAAAVJ9AAAAAAABcn0AAAAAAAGifQAAAAAAAAPh/AAAAAAAgn0AAAAAAAFSfQAAAAAAAPJ9AAAAAAABkn0AAAAAAAAD4fwAAAAAAXJ9AAAAAAAA4n0AAAAAAAGCfQAAAAAAAVJ9AAAAAAADsnkAAAAAAAPCeQAAAAAAAPJ9AAAAAAABAn0AAAAAAADCfQAAAAAAAAPh/AAAAAAAA+H8AAAAAABSfQAAAAAAAPJ9AAAAAAAAA+H8AAAAAADyfQAAAAAAAUJ9AAAAAAABIn0AAAAAAAAyfQAAAAAAA+J5AAAAAAABAn0AAAAAAAMCeQAAAAAAAUJ9AAAAAAABYn0AAAAAAAAD4fwAAAAAAAPh/AAAAAAA8n0AAAAAAAGifQAAAAAAAWJ9AAAAAAABUn0AAAAAAADyfQAAAAAAAAPh/AAAAAAA8n0AAAAAAAFyfQAAAAAAATJ9AAAAAAAD0nkAAAAAAABCfQAAAAAAAXJ9AAAAAAAAA+H8AAAAAAAD4fwAAAAAANJ9AAAAAAAAIn0AAAAAAAGCfQAAAAAAAbJ9AAAAAAAAA+H8AAAAAAGifQAAAAAAAaJ9AAAAAAAAA+H8AAAAAADSfQAAAAAAAPJ9AAAAAAABMn0AAAAAAAAD4fwAAAAAAAPh/AAAAAABUn0AAAAAAAAD4fwAAAAAAAPh/AAAAAABAn0AAAAAAAFifQAAAAAAAAPh/AAAAAAAA+H8AAAAAAFifQAAAAAAAOJ9AAAAAAABUn0AAAAAAAASfQAAAAAAALJ9AAAAAAABcn0AAAAAAAAD4fwAAAAAALJ9AAAAAAAAcn0AAAAAAACyfQAAAAAAAPJ9AAAAAAAA8n0AAAAAAAOSeQAAAAAAANJ9AAAAAAAA4n0AAAAAAAAD4fwAAAAAAAPh/AAAAAABYn0AAAAAAAFCfQAAAAAAAAPh/AAAAAABEn0AAAAAAAFifQAAAAAAARJ9AAAAAAABUn0AAAAAAADifQAAAAAAAXJ9AAAAAAAAA+H8AAAAAAGyfQAAAAAAAZJ9AAAAAAABYn0AAAAAAAECfQAAAAAAAaJ9AAAAAAABcn0AAAAAAAEyfQAAAAAAAAPh/AAAAAABcn0AAAAAAAECfQAAAAAAAWJ9AAAAAAABQn0AAAAAAAAD4fwAAAAAAcJ9AAAAAAABYn0AAAAAAAGCfQAAAAAAAMJ9AAAAAAABUn0AAAAAAADCfQAAAAAAARJ9AAAAAAAAAn0AAAAAAAGCfQAAAAAAAPJ9AAAAAAABQn0AAAAAAADifQAAAAAAAPJ9AAAAAAAAwn0AAAAAAAAD4fwAAAAAAOJ9AAAAAAAAA+H8AAAAAACyfQAAAAAAARJ9AAAAAAAA4n0AAAAAAAFSfQAAAAAAAaJ9AAAAAAABgn0AAAAAAAGCfQAAAAAAAAPh/AAAAAABon0AAAAAAAHSfQAAAAAAAWJ9AAAAAAABwn0AAAAAAAGCfQAAAAAAAcJ9AAAAAAADAnkAAAAAAAAD4fwAAAAAAJJ9AAAAAAAAA+H8AAAAAAAD4fwAAAAAAPJ9AAAAAAAAA+H8AAAAAAGyfQAAAAAAALJ9AAAAAAABYn0AAAAAAADifQAAAAAAAAPh/AAAAAABUn0AAAAAAAAD4fwAAAAAAVJ9AAAAAAAAwn0AAAAAAAAD4fwAAAAAAXJ9AAAAAAAA8n0AAAAAAAAD4fwAAAAAAAPh/AAAAAAAA+H8AAAAAAECfQAAAAAAAAPh/AAAAAAAA+H8AAAAAAHifQAAAAAAAAPh/AAAAAAAA+H8AAAAAADifQAAAAAAAZJ9AAAAAAABMn0AAAAAAAESfQAAAAAAAbJ9AAAAAAABwn0AAAAAAAESfQAAAAAAAAPh/AAAAAABQn0A=",
          "dtype": "f8"
         },
         "xaxis": "x",
         "y": [
          240000000,
          400000000,
          3400000000,
          600000000,
          1800000000,
          250000000,
          300000000,
          26000000,
          775000000,
          2500000,
          545000000,
          110000000,
          65000000,
          435000000,
          125000000,
          101000000,
          90700000,
          1100000000,
          525000000,
          4200000000,
          363000000,
          320000000,
          275000000,
          315000000,
          40000000,
          30000000,
          450000000,
          3000000000,
          7000000,
          50000000,
          30000000,
          121000000,
          400000000,
          278000000,
          29000000,
          345000000,
          275000000,
          200000000,
          20000000,
          944000000,
          15000000,
          275000000,
          200000000,
          330000000,
          155000000,
          1700000000,
          200000000,
          40000000,
          375000000,
          450000000,
          7400000000,
          99000000,
          271000000,
          1200000000,
          330000000,
          215000000,
          590000000,
          120000000,
          183000000,
          100000000,
          2700000000,
          175000000,
          3400000000,
          3200000000,
          415000000,
          125000000,
          200000000,
          320000000,
          150000000,
          5000000,
          45000000000,
          820000000,
          12000000,
          155000000,
          3900000000,
          2400000000,
          100000000,
          50000000,
          945000000,
          380000000,
          150000000,
          2400000000,
          350000000,
          80000000,
          180000000,
          290000000,
          75000000,
          1500000000,
          620000000,
          310000000,
          48300000,
          240000000,
          2100000000,
          213000000,
          2300000000,
          150000000,
          76000000,
          200000000,
          250000000,
          635000000,
          50000000,
          15000000,
          10000000,
          60000000,
          10000000,
          1000000000,
          2500000,
          2000000000,
          150000000,
          90000000,
          70000000,
          19000000000,
          50000000,
          400000000,
          750000000,
          23000000,
          50000000,
          102000000,
          61000000,
          30000000,
          35000000,
          125000000,
          500000000,
          102000000,
          28000000,
          100000000,
          40000000,
          68200000,
          60000000,
          80000000,
          700000000,
          12000000,
          70000000,
          25000000,
          100000000,
          4900000,
          3200000000,
          15000000,
          130000000,
          20300000,
          625000000,
          500000000,
          30000000,
          996000000,
          160000000,
          350000000,
          1700000000,
          151000000,
          2700000000,
          2400000000,
          1500000000,
          10200000000,
          360000000,
          30000000,
          4500000000,
          1600000000,
          25000000,
          300000000,
          20000000,
          225000000,
          1300000000,
          3500000000,
          1700000000,
          1200000000,
          140000000,
          800000000,
          480000000,
          300000000,
          130000000,
          100000000,
          25000000,
          26000000,
          1400000000,
          500000000,
          8000000,
          40000000,
          20000000,
          884000000,
          748000000,
          95000000,
          176000000,
          67500000,
          3400000000,
          60000000,
          175000000,
          120000000,
          5000000,
          90000000,
          15000000,
          119000000,
          6400000000,
          500000000,
          115000000,
          1200000000,
          400000000,
          50000000,
          200000000,
          150000000,
          100000000,
          100000000,
          337000000,
          96000000,
          100000000,
          75000000,
          25000000,
          8100000000,
          57000000,
          340000000,
          96800000,
          495000000,
          1000000000,
          8500000000,
          400000000,
          871000000,
          5300000000,
          685000000,
          1500000000,
          150000000,
          1900000000,
          300000000,
          220000000,
          65000000,
          56000000,
          144000000,
          210000000,
          175000000,
          3100000000,
          300000000,
          32000000,
          12000000,
          50000000,
          31000000,
          2500000000,
          70000000,
          250000000,
          142000000,
          390000000,
          689000000,
          170000000,
          326000000,
          30000000,
          347000000,
          200000000,
          1100000000,
          307000000,
          4300000000,
          10000000000,
          100000000,
          3400000000,
          5800000000,
          380000000,
          53000000,
          410000000,
          115000000,
          695000000,
          300000000,
          135000000,
          123000000,
          28000000,
          1300000000,
          350000000,
          525000000,
          263000000,
          10000000,
          80000000,
          134000000,
          5200000,
          350000000,
          50000000,
          15000000,
          100000000,
          40000000,
          30000000,
          28100000000,
          10100000000,
          10000000000,
          31000000,
          40000000,
          100000000,
          90000000,
          80000000,
          5700000000,
          55000000,
          432000000,
          130000000,
          200000000,
          92000000,
          40000000,
          2900000000,
          235000000,
          270000000,
          610000000,
          145000000,
          12000000,
          10000000,
          164000000,
          160000000,
          160000000,
          10000000,
          1400000,
          80000000,
          1600000000,
          50000000,
          850000000,
          100000000,
          10000000,
          16000000,
          93000000,
          49000000,
          20000000
         ],
         "yaxis": "y"
        }
       ],
       "layout": {
        "legend": {
         "tracegroupgap": 0
        },
        "template": {
         "data": {
          "bar": [
           {
            "error_x": {
             "color": "#2a3f5f"
            },
            "error_y": {
             "color": "#2a3f5f"
            },
            "marker": {
             "line": {
              "color": "#E5ECF6",
              "width": 0.5
             },
             "pattern": {
              "fillmode": "overlay",
              "size": 10,
              "solidity": 0.2
             }
            },
            "type": "bar"
           }
          ],
          "barpolar": [
           {
            "marker": {
             "line": {
              "color": "#E5ECF6",
              "width": 0.5
             },
             "pattern": {
              "fillmode": "overlay",
              "size": 10,
              "solidity": 0.2
             }
            },
            "type": "barpolar"
           }
          ],
          "carpet": [
           {
            "aaxis": {
             "endlinecolor": "#2a3f5f",
             "gridcolor": "white",
             "linecolor": "white",
             "minorgridcolor": "white",
             "startlinecolor": "#2a3f5f"
            },
            "baxis": {
             "endlinecolor": "#2a3f5f",
             "gridcolor": "white",
             "linecolor": "white",
             "minorgridcolor": "white",
             "startlinecolor": "#2a3f5f"
            },
            "type": "carpet"
           }
          ],
          "choropleth": [
           {
            "colorbar": {
             "outlinewidth": 0,
             "ticks": ""
            },
            "type": "choropleth"
           }
          ],
          "contour": [
           {
            "colorbar": {
             "outlinewidth": 0,
             "ticks": ""
            },
            "colorscale": [
             [
              0,
              "#0d0887"
             ],
             [
              0.1111111111111111,
              "#46039f"
             ],
             [
              0.2222222222222222,
              "#7201a8"
             ],
             [
              0.3333333333333333,
              "#9c179e"
             ],
             [
              0.4444444444444444,
              "#bd3786"
             ],
             [
              0.5555555555555556,
              "#d8576b"
             ],
             [
              0.6666666666666666,
              "#ed7953"
             ],
             [
              0.7777777777777778,
              "#fb9f3a"
             ],
             [
              0.8888888888888888,
              "#fdca26"
             ],
             [
              1,
              "#f0f921"
             ]
            ],
            "type": "contour"
           }
          ],
          "contourcarpet": [
           {
            "colorbar": {
             "outlinewidth": 0,
             "ticks": ""
            },
            "type": "contourcarpet"
           }
          ],
          "heatmap": [
           {
            "colorbar": {
             "outlinewidth": 0,
             "ticks": ""
            },
            "colorscale": [
             [
              0,
              "#0d0887"
             ],
             [
              0.1111111111111111,
              "#46039f"
             ],
             [
              0.2222222222222222,
              "#7201a8"
             ],
             [
              0.3333333333333333,
              "#9c179e"
             ],
             [
              0.4444444444444444,
              "#bd3786"
             ],
             [
              0.5555555555555556,
              "#d8576b"
             ],
             [
              0.6666666666666666,
              "#ed7953"
             ],
             [
              0.7777777777777778,
              "#fb9f3a"
             ],
             [
              0.8888888888888888,
              "#fdca26"
             ],
             [
              1,
              "#f0f921"
             ]
            ],
            "type": "heatmap"
           }
          ],
          "histogram": [
           {
            "marker": {
             "pattern": {
              "fillmode": "overlay",
              "size": 10,
              "solidity": 0.2
             }
            },
            "type": "histogram"
           }
          ],
          "histogram2d": [
           {
            "colorbar": {
             "outlinewidth": 0,
             "ticks": ""
            },
            "colorscale": [
             [
              0,
              "#0d0887"
             ],
             [
              0.1111111111111111,
              "#46039f"
             ],
             [
              0.2222222222222222,
              "#7201a8"
             ],
             [
              0.3333333333333333,
              "#9c179e"
             ],
             [
              0.4444444444444444,
              "#bd3786"
             ],
             [
              0.5555555555555556,
              "#d8576b"
             ],
             [
              0.6666666666666666,
              "#ed7953"
             ],
             [
              0.7777777777777778,
              "#fb9f3a"
             ],
             [
              0.8888888888888888,
              "#fdca26"
             ],
             [
              1,
              "#f0f921"
             ]
            ],
            "type": "histogram2d"
           }
          ],
          "histogram2dcontour": [
           {
            "colorbar": {
             "outlinewidth": 0,
             "ticks": ""
            },
            "colorscale": [
             [
              0,
              "#0d0887"
             ],
             [
              0.1111111111111111,
              "#46039f"
             ],
             [
              0.2222222222222222,
              "#7201a8"
             ],
             [
              0.3333333333333333,
              "#9c179e"
             ],
             [
              0.4444444444444444,
              "#bd3786"
             ],
             [
              0.5555555555555556,
              "#d8576b"
             ],
             [
              0.6666666666666666,
              "#ed7953"
             ],
             [
              0.7777777777777778,
              "#fb9f3a"
             ],
             [
              0.8888888888888888,
              "#fdca26"
             ],
             [
              1,
              "#f0f921"
             ]
            ],
            "type": "histogram2dcontour"
           }
          ],
          "mesh3d": [
           {
            "colorbar": {
             "outlinewidth": 0,
             "ticks": ""
            },
            "type": "mesh3d"
           }
          ],
          "parcoords": [
           {
            "line": {
             "colorbar": {
              "outlinewidth": 0,
              "ticks": ""
             }
            },
            "type": "parcoords"
           }
          ],
          "pie": [
           {
            "automargin": true,
            "type": "pie"
           }
          ],
          "scatter": [
           {
            "fillpattern": {
             "fillmode": "overlay",
             "size": 10,
             "solidity": 0.2
            },
            "type": "scatter"
           }
          ],
          "scatter3d": [
           {
            "line": {
             "colorbar": {
              "outlinewidth": 0,
              "ticks": ""
             }
            },
            "marker": {
             "colorbar": {
              "outlinewidth": 0,
              "ticks": ""
             }
            },
            "type": "scatter3d"
           }
          ],
          "scattercarpet": [
           {
            "marker": {
             "colorbar": {
              "outlinewidth": 0,
              "ticks": ""
             }
            },
            "type": "scattercarpet"
           }
          ],
          "scattergeo": [
           {
            "marker": {
             "colorbar": {
              "outlinewidth": 0,
              "ticks": ""
             }
            },
            "type": "scattergeo"
           }
          ],
          "scattergl": [
           {
            "marker": {
             "colorbar": {
              "outlinewidth": 0,
              "ticks": ""
             }
            },
            "type": "scattergl"
           }
          ],
          "scattermap": [
           {
            "marker": {
             "colorbar": {
              "outlinewidth": 0,
              "ticks": ""
             }
            },
            "type": "scattermap"
           }
          ],
          "scattermapbox": [
           {
            "marker": {
             "colorbar": {
              "outlinewidth": 0,
              "ticks": ""
             }
            },
            "type": "scattermapbox"
           }
          ],
          "scatterpolar": [
           {
            "marker": {
             "colorbar": {
              "outlinewidth": 0,
              "ticks": ""
             }
            },
            "type": "scatterpolar"
           }
          ],
          "scatterpolargl": [
           {
            "marker": {
             "colorbar": {
              "outlinewidth": 0,
              "ticks": ""
             }
            },
            "type": "scatterpolargl"
           }
          ],
          "scatterternary": [
           {
            "marker": {
             "colorbar": {
              "outlinewidth": 0,
              "ticks": ""
             }
            },
            "type": "scatterternary"
           }
          ],
          "surface": [
           {
            "colorbar": {
             "outlinewidth": 0,
             "ticks": ""
            },
            "colorscale": [
             [
              0,
              "#0d0887"
             ],
             [
              0.1111111111111111,
              "#46039f"
             ],
             [
              0.2222222222222222,
              "#7201a8"
             ],
             [
              0.3333333333333333,
              "#9c179e"
             ],
             [
              0.4444444444444444,
              "#bd3786"
             ],
             [
              0.5555555555555556,
              "#d8576b"
             ],
             [
              0.6666666666666666,
              "#ed7953"
             ],
             [
              0.7777777777777778,
              "#fb9f3a"
             ],
             [
              0.8888888888888888,
              "#fdca26"
             ],
             [
              1,
              "#f0f921"
             ]
            ],
            "type": "surface"
           }
          ],
          "table": [
           {
            "cells": {
             "fill": {
              "color": "#EBF0F8"
             },
             "line": {
              "color": "white"
             }
            },
            "header": {
             "fill": {
              "color": "#C8D4E3"
             },
             "line": {
              "color": "white"
             }
            },
            "type": "table"
           }
          ]
         },
         "layout": {
          "annotationdefaults": {
           "arrowcolor": "#2a3f5f",
           "arrowhead": 0,
           "arrowwidth": 1
          },
          "autotypenumbers": "strict",
          "coloraxis": {
           "colorbar": {
            "outlinewidth": 0,
            "ticks": ""
           }
          },
          "colorscale": {
           "diverging": [
            [
             0,
             "#8e0152"
            ],
            [
             0.1,
             "#c51b7d"
            ],
            [
             0.2,
             "#de77ae"
            ],
            [
             0.3,
             "#f1b6da"
            ],
            [
             0.4,
             "#fde0ef"
            ],
            [
             0.5,
             "#f7f7f7"
            ],
            [
             0.6,
             "#e6f5d0"
            ],
            [
             0.7,
             "#b8e186"
            ],
            [
             0.8,
             "#7fbc41"
            ],
            [
             0.9,
             "#4d9221"
            ],
            [
             1,
             "#276419"
            ]
           ],
           "sequential": [
            [
             0,
             "#0d0887"
            ],
            [
             0.1111111111111111,
             "#46039f"
            ],
            [
             0.2222222222222222,
             "#7201a8"
            ],
            [
             0.3333333333333333,
             "#9c179e"
            ],
            [
             0.4444444444444444,
             "#bd3786"
            ],
            [
             0.5555555555555556,
             "#d8576b"
            ],
            [
             0.6666666666666666,
             "#ed7953"
            ],
            [
             0.7777777777777778,
             "#fb9f3a"
            ],
            [
             0.8888888888888888,
             "#fdca26"
            ],
            [
             1,
             "#f0f921"
            ]
           ],
           "sequentialminus": [
            [
             0,
             "#0d0887"
            ],
            [
             0.1111111111111111,
             "#46039f"
            ],
            [
             0.2222222222222222,
             "#7201a8"
            ],
            [
             0.3333333333333333,
             "#9c179e"
            ],
            [
             0.4444444444444444,
             "#bd3786"
            ],
            [
             0.5555555555555556,
             "#d8576b"
            ],
            [
             0.6666666666666666,
             "#ed7953"
            ],
            [
             0.7777777777777778,
             "#fb9f3a"
            ],
            [
             0.8888888888888888,
             "#fdca26"
            ],
            [
             1,
             "#f0f921"
            ]
           ]
          },
          "colorway": [
           "#636efa",
           "#EF553B",
           "#00cc96",
           "#ab63fa",
           "#FFA15A",
           "#19d3f3",
           "#FF6692",
           "#B6E880",
           "#FF97FF",
           "#FECB52"
          ],
          "font": {
           "color": "#2a3f5f"
          },
          "geo": {
           "bgcolor": "white",
           "lakecolor": "white",
           "landcolor": "#E5ECF6",
           "showlakes": true,
           "showland": true,
           "subunitcolor": "white"
          },
          "hoverlabel": {
           "align": "left"
          },
          "hovermode": "closest",
          "mapbox": {
           "style": "light"
          },
          "paper_bgcolor": "white",
          "plot_bgcolor": "#E5ECF6",
          "polar": {
           "angularaxis": {
            "gridcolor": "white",
            "linecolor": "white",
            "ticks": ""
           },
           "bgcolor": "#E5ECF6",
           "radialaxis": {
            "gridcolor": "white",
            "linecolor": "white",
            "ticks": ""
           }
          },
          "scene": {
           "xaxis": {
            "backgroundcolor": "#E5ECF6",
            "gridcolor": "white",
            "gridwidth": 2,
            "linecolor": "white",
            "showbackground": true,
            "ticks": "",
            "zerolinecolor": "white"
           },
           "yaxis": {
            "backgroundcolor": "#E5ECF6",
            "gridcolor": "white",
            "gridwidth": 2,
            "linecolor": "white",
            "showbackground": true,
            "ticks": "",
            "zerolinecolor": "white"
           },
           "zaxis": {
            "backgroundcolor": "#E5ECF6",
            "gridcolor": "white",
            "gridwidth": 2,
            "linecolor": "white",
            "showbackground": true,
            "ticks": "",
            "zerolinecolor": "white"
           }
          },
          "shapedefaults": {
           "line": {
            "color": "#2a3f5f"
           }
          },
          "ternary": {
           "aaxis": {
            "gridcolor": "white",
            "linecolor": "white",
            "ticks": ""
           },
           "baxis": {
            "gridcolor": "white",
            "linecolor": "white",
            "ticks": ""
           },
           "bgcolor": "#E5ECF6",
           "caxis": {
            "gridcolor": "white",
            "linecolor": "white",
            "ticks": ""
           }
          },
          "title": {
           "x": 0.05
          },
          "xaxis": {
           "automargin": true,
           "gridcolor": "white",
           "linecolor": "white",
           "ticks": "",
           "title": {
            "standoff": 15
           },
           "zerolinecolor": "white",
           "zerolinewidth": 2
          },
          "yaxis": {
           "automargin": true,
           "gridcolor": "white",
           "linecolor": "white",
           "ticks": "",
           "title": {
            "standoff": 15
           },
           "zerolinecolor": "white",
           "zerolinewidth": 2
          }
         }
        },
        "title": {
         "text": "Acquisition Price by Year"
        },
        "xaxis": {
         "anchor": "y",
         "domain": [
          0,
          1
         ],
         "title": {
          "text": "Year Founded"
         }
        },
        "yaxis": {
         "anchor": "x",
         "domain": [
          0,
          1
         ],
         "title": {
          "text": "Price"
         }
        }
       }
      }
     },
     "metadata": {},
     "output_type": "display_data"
    }
   ],
   "source": [
    "fig = px.scatter(\n",
    "    acquired,\n",
    "    x='Year Founded',\n",
    "    y='Price',\n",
    "    title='Acquisition Price by Year'\n",
    ")\n",
    "fig.show()"
   ]
  },
  {
   "cell_type": "code",
   "execution_count": 253,
   "id": "852524a7",
   "metadata": {},
   "outputs": [
    {
     "data": {
      "application/vnd.plotly.v1+json": {
       "config": {
        "plotlyServerURL": "https://plot.ly"
       },
       "data": [
        {
         "hovertemplate": "Year of acquisition announcement=%{x}<br>Price=%{y}<extra></extra>",
         "legendgroup": "",
         "marker": {
          "color": "#636efa",
          "symbol": "circle"
         },
         "mode": "markers",
         "name": "",
         "orientation": "v",
         "showlegend": false,
         "type": "scatter",
         "x": {
          "bdata": "2gfbB9UH3QfZB88H2AfdB9wH3AfaB9oH2gfUB9gH3gfeB88HzwfOB9cHzwfXB9sH1gfVB9sH3gfcB90H0gfaB8wH2AfaB90H2gfdB90H2QfbB9gH2gfbB90HywfZB90H1gfVB88H2gfcB9wH1wfYB9kH2AfZB9cH3QfeB9kH1wfdB9gH1wfeB9gH2AfeB9oH2gfYB9kH3AfdB9QH2AfYB9MH2wfQB9sH2wfUB9oH0gfVB9cH1gfbB9kH2AfaB9kH1wfdB9wH1AfcB94H2gfcB9oH3AfaB94H3QfdB9sH3gfaB9sH2QfXB9wH0wfbB90H2gfdB94H1gfWB9cH3QfaB9cH2gfbB9cH2gfaB9wH2wfeB9gH2gfXB9cH3gfbB90H2gfcB9YH2wfZB9oH2gfbB9gH2gfWB9cH3QfVB90H2QfcB8sH2gfZB9oH3QfaB9gH3QfeB9oH3QfaB88H2AfdB90H2QfRB9oH3AfVB9QH3QfeB94H2gfdB9wH3AfXB9gH2AfYB80H1wfWB90H3gfYB9IH0gfbB9YH2gfYB88H2AfXB9cH2wfYB90H3AfeB9oH3QfYB9wH3AfcB9kH1gfcB9cH2wfbB94H2AfdB9sH2wfdB9wH2gfaB94H3AfaB9sH3QfdB94H3gfdB9wH3gfZB9wH2gfcB9gH2wfcB9gH2gfSB9gH1AfaB9cH2gfbB9sH3QfeB9kH3QfeB9gH3gfbB9wH2AfdB94H2AfYB9MH2gfeB88H2gfQB88H3gfNB9gHzwfTB9sH1AfQB9EHzwfaB9gH1AfXB80HzwfTB90H1wfXB90H3gfVB84H2Qc=",
          "dtype": "i2"
         },
         "xaxis": "x",
         "y": [
          240000000,
          400000000,
          3400000000,
          600000000,
          1800000000,
          250000000,
          300000000,
          26000000,
          775000000,
          2500000,
          545000000,
          110000000,
          65000000,
          435000000,
          125000000,
          101000000,
          90700000,
          1100000000,
          525000000,
          4200000000,
          363000000,
          320000000,
          275000000,
          315000000,
          40000000,
          30000000,
          450000000,
          3000000000,
          7000000,
          50000000,
          30000000,
          121000000,
          400000000,
          278000000,
          29000000,
          345000000,
          275000000,
          200000000,
          20000000,
          944000000,
          15000000,
          275000000,
          200000000,
          330000000,
          155000000,
          1700000000,
          200000000,
          40000000,
          375000000,
          450000000,
          7400000000,
          99000000,
          271000000,
          1200000000,
          330000000,
          215000000,
          590000000,
          120000000,
          183000000,
          100000000,
          2700000000,
          175000000,
          3400000000,
          3200000000,
          415000000,
          125000000,
          200000000,
          320000000,
          150000000,
          5000000,
          45000000000,
          820000000,
          12000000,
          155000000,
          3900000000,
          2400000000,
          100000000,
          50000000,
          945000000,
          380000000,
          150000000,
          2400000000,
          350000000,
          80000000,
          180000000,
          290000000,
          75000000,
          1500000000,
          620000000,
          310000000,
          48300000,
          240000000,
          2100000000,
          213000000,
          2300000000,
          150000000,
          76000000,
          200000000,
          250000000,
          635000000,
          50000000,
          15000000,
          10000000,
          60000000,
          10000000,
          1000000000,
          2500000,
          2000000000,
          150000000,
          90000000,
          70000000,
          19000000000,
          50000000,
          400000000,
          750000000,
          23000000,
          50000000,
          102000000,
          61000000,
          30000000,
          35000000,
          125000000,
          500000000,
          102000000,
          28000000,
          100000000,
          40000000,
          68200000,
          60000000,
          80000000,
          700000000,
          12000000,
          70000000,
          25000000,
          100000000,
          4900000,
          3200000000,
          15000000,
          130000000,
          20300000,
          625000000,
          500000000,
          30000000,
          996000000,
          160000000,
          350000000,
          1700000000,
          151000000,
          2700000000,
          2400000000,
          1500000000,
          10200000000,
          360000000,
          30000000,
          4500000000,
          1600000000,
          25000000,
          300000000,
          20000000,
          225000000,
          1300000000,
          3500000000,
          1700000000,
          1200000000,
          140000000,
          800000000,
          480000000,
          300000000,
          130000000,
          100000000,
          25000000,
          26000000,
          1400000000,
          500000000,
          8000000,
          40000000,
          20000000,
          884000000,
          748000000,
          95000000,
          176000000,
          67500000,
          3400000000,
          60000000,
          175000000,
          120000000,
          5000000,
          90000000,
          15000000,
          119000000,
          6400000000,
          500000000,
          115000000,
          1200000000,
          400000000,
          50000000,
          200000000,
          150000000,
          100000000,
          100000000,
          337000000,
          96000000,
          100000000,
          75000000,
          25000000,
          8100000000,
          57000000,
          340000000,
          96800000,
          495000000,
          1000000000,
          8500000000,
          400000000,
          871000000,
          5300000000,
          685000000,
          1500000000,
          150000000,
          1900000000,
          300000000,
          220000000,
          65000000,
          56000000,
          144000000,
          210000000,
          175000000,
          3100000000,
          300000000,
          32000000,
          12000000,
          50000000,
          31000000,
          2500000000,
          70000000,
          250000000,
          142000000,
          390000000,
          689000000,
          170000000,
          326000000,
          30000000,
          347000000,
          200000000,
          1100000000,
          307000000,
          4300000000,
          10000000000,
          100000000,
          3400000000,
          5800000000,
          380000000,
          53000000,
          410000000,
          115000000,
          695000000,
          300000000,
          135000000,
          123000000,
          28000000,
          1300000000,
          350000000,
          525000000,
          263000000,
          10000000,
          80000000,
          134000000,
          5200000,
          350000000,
          50000000,
          15000000,
          100000000,
          40000000,
          30000000,
          28100000000,
          10100000000,
          10000000000,
          31000000,
          40000000,
          100000000,
          90000000,
          80000000,
          5700000000,
          55000000,
          432000000,
          130000000,
          200000000,
          92000000,
          40000000,
          2900000000,
          235000000,
          270000000,
          610000000,
          145000000,
          12000000,
          10000000,
          164000000,
          160000000,
          160000000,
          10000000,
          1400000,
          80000000,
          1600000000,
          50000000,
          850000000,
          100000000,
          10000000,
          16000000,
          93000000,
          49000000,
          20000000
         ],
         "yaxis": "y"
        }
       ],
       "layout": {
        "legend": {
         "tracegroupgap": 0
        },
        "template": {
         "data": {
          "bar": [
           {
            "error_x": {
             "color": "#2a3f5f"
            },
            "error_y": {
             "color": "#2a3f5f"
            },
            "marker": {
             "line": {
              "color": "#E5ECF6",
              "width": 0.5
             },
             "pattern": {
              "fillmode": "overlay",
              "size": 10,
              "solidity": 0.2
             }
            },
            "type": "bar"
           }
          ],
          "barpolar": [
           {
            "marker": {
             "line": {
              "color": "#E5ECF6",
              "width": 0.5
             },
             "pattern": {
              "fillmode": "overlay",
              "size": 10,
              "solidity": 0.2
             }
            },
            "type": "barpolar"
           }
          ],
          "carpet": [
           {
            "aaxis": {
             "endlinecolor": "#2a3f5f",
             "gridcolor": "white",
             "linecolor": "white",
             "minorgridcolor": "white",
             "startlinecolor": "#2a3f5f"
            },
            "baxis": {
             "endlinecolor": "#2a3f5f",
             "gridcolor": "white",
             "linecolor": "white",
             "minorgridcolor": "white",
             "startlinecolor": "#2a3f5f"
            },
            "type": "carpet"
           }
          ],
          "choropleth": [
           {
            "colorbar": {
             "outlinewidth": 0,
             "ticks": ""
            },
            "type": "choropleth"
           }
          ],
          "contour": [
           {
            "colorbar": {
             "outlinewidth": 0,
             "ticks": ""
            },
            "colorscale": [
             [
              0,
              "#0d0887"
             ],
             [
              0.1111111111111111,
              "#46039f"
             ],
             [
              0.2222222222222222,
              "#7201a8"
             ],
             [
              0.3333333333333333,
              "#9c179e"
             ],
             [
              0.4444444444444444,
              "#bd3786"
             ],
             [
              0.5555555555555556,
              "#d8576b"
             ],
             [
              0.6666666666666666,
              "#ed7953"
             ],
             [
              0.7777777777777778,
              "#fb9f3a"
             ],
             [
              0.8888888888888888,
              "#fdca26"
             ],
             [
              1,
              "#f0f921"
             ]
            ],
            "type": "contour"
           }
          ],
          "contourcarpet": [
           {
            "colorbar": {
             "outlinewidth": 0,
             "ticks": ""
            },
            "type": "contourcarpet"
           }
          ],
          "heatmap": [
           {
            "colorbar": {
             "outlinewidth": 0,
             "ticks": ""
            },
            "colorscale": [
             [
              0,
              "#0d0887"
             ],
             [
              0.1111111111111111,
              "#46039f"
             ],
             [
              0.2222222222222222,
              "#7201a8"
             ],
             [
              0.3333333333333333,
              "#9c179e"
             ],
             [
              0.4444444444444444,
              "#bd3786"
             ],
             [
              0.5555555555555556,
              "#d8576b"
             ],
             [
              0.6666666666666666,
              "#ed7953"
             ],
             [
              0.7777777777777778,
              "#fb9f3a"
             ],
             [
              0.8888888888888888,
              "#fdca26"
             ],
             [
              1,
              "#f0f921"
             ]
            ],
            "type": "heatmap"
           }
          ],
          "histogram": [
           {
            "marker": {
             "pattern": {
              "fillmode": "overlay",
              "size": 10,
              "solidity": 0.2
             }
            },
            "type": "histogram"
           }
          ],
          "histogram2d": [
           {
            "colorbar": {
             "outlinewidth": 0,
             "ticks": ""
            },
            "colorscale": [
             [
              0,
              "#0d0887"
             ],
             [
              0.1111111111111111,
              "#46039f"
             ],
             [
              0.2222222222222222,
              "#7201a8"
             ],
             [
              0.3333333333333333,
              "#9c179e"
             ],
             [
              0.4444444444444444,
              "#bd3786"
             ],
             [
              0.5555555555555556,
              "#d8576b"
             ],
             [
              0.6666666666666666,
              "#ed7953"
             ],
             [
              0.7777777777777778,
              "#fb9f3a"
             ],
             [
              0.8888888888888888,
              "#fdca26"
             ],
             [
              1,
              "#f0f921"
             ]
            ],
            "type": "histogram2d"
           }
          ],
          "histogram2dcontour": [
           {
            "colorbar": {
             "outlinewidth": 0,
             "ticks": ""
            },
            "colorscale": [
             [
              0,
              "#0d0887"
             ],
             [
              0.1111111111111111,
              "#46039f"
             ],
             [
              0.2222222222222222,
              "#7201a8"
             ],
             [
              0.3333333333333333,
              "#9c179e"
             ],
             [
              0.4444444444444444,
              "#bd3786"
             ],
             [
              0.5555555555555556,
              "#d8576b"
             ],
             [
              0.6666666666666666,
              "#ed7953"
             ],
             [
              0.7777777777777778,
              "#fb9f3a"
             ],
             [
              0.8888888888888888,
              "#fdca26"
             ],
             [
              1,
              "#f0f921"
             ]
            ],
            "type": "histogram2dcontour"
           }
          ],
          "mesh3d": [
           {
            "colorbar": {
             "outlinewidth": 0,
             "ticks": ""
            },
            "type": "mesh3d"
           }
          ],
          "parcoords": [
           {
            "line": {
             "colorbar": {
              "outlinewidth": 0,
              "ticks": ""
             }
            },
            "type": "parcoords"
           }
          ],
          "pie": [
           {
            "automargin": true,
            "type": "pie"
           }
          ],
          "scatter": [
           {
            "fillpattern": {
             "fillmode": "overlay",
             "size": 10,
             "solidity": 0.2
            },
            "type": "scatter"
           }
          ],
          "scatter3d": [
           {
            "line": {
             "colorbar": {
              "outlinewidth": 0,
              "ticks": ""
             }
            },
            "marker": {
             "colorbar": {
              "outlinewidth": 0,
              "ticks": ""
             }
            },
            "type": "scatter3d"
           }
          ],
          "scattercarpet": [
           {
            "marker": {
             "colorbar": {
              "outlinewidth": 0,
              "ticks": ""
             }
            },
            "type": "scattercarpet"
           }
          ],
          "scattergeo": [
           {
            "marker": {
             "colorbar": {
              "outlinewidth": 0,
              "ticks": ""
             }
            },
            "type": "scattergeo"
           }
          ],
          "scattergl": [
           {
            "marker": {
             "colorbar": {
              "outlinewidth": 0,
              "ticks": ""
             }
            },
            "type": "scattergl"
           }
          ],
          "scattermap": [
           {
            "marker": {
             "colorbar": {
              "outlinewidth": 0,
              "ticks": ""
             }
            },
            "type": "scattermap"
           }
          ],
          "scattermapbox": [
           {
            "marker": {
             "colorbar": {
              "outlinewidth": 0,
              "ticks": ""
             }
            },
            "type": "scattermapbox"
           }
          ],
          "scatterpolar": [
           {
            "marker": {
             "colorbar": {
              "outlinewidth": 0,
              "ticks": ""
             }
            },
            "type": "scatterpolar"
           }
          ],
          "scatterpolargl": [
           {
            "marker": {
             "colorbar": {
              "outlinewidth": 0,
              "ticks": ""
             }
            },
            "type": "scatterpolargl"
           }
          ],
          "scatterternary": [
           {
            "marker": {
             "colorbar": {
              "outlinewidth": 0,
              "ticks": ""
             }
            },
            "type": "scatterternary"
           }
          ],
          "surface": [
           {
            "colorbar": {
             "outlinewidth": 0,
             "ticks": ""
            },
            "colorscale": [
             [
              0,
              "#0d0887"
             ],
             [
              0.1111111111111111,
              "#46039f"
             ],
             [
              0.2222222222222222,
              "#7201a8"
             ],
             [
              0.3333333333333333,
              "#9c179e"
             ],
             [
              0.4444444444444444,
              "#bd3786"
             ],
             [
              0.5555555555555556,
              "#d8576b"
             ],
             [
              0.6666666666666666,
              "#ed7953"
             ],
             [
              0.7777777777777778,
              "#fb9f3a"
             ],
             [
              0.8888888888888888,
              "#fdca26"
             ],
             [
              1,
              "#f0f921"
             ]
            ],
            "type": "surface"
           }
          ],
          "table": [
           {
            "cells": {
             "fill": {
              "color": "#EBF0F8"
             },
             "line": {
              "color": "white"
             }
            },
            "header": {
             "fill": {
              "color": "#C8D4E3"
             },
             "line": {
              "color": "white"
             }
            },
            "type": "table"
           }
          ]
         },
         "layout": {
          "annotationdefaults": {
           "arrowcolor": "#2a3f5f",
           "arrowhead": 0,
           "arrowwidth": 1
          },
          "autotypenumbers": "strict",
          "coloraxis": {
           "colorbar": {
            "outlinewidth": 0,
            "ticks": ""
           }
          },
          "colorscale": {
           "diverging": [
            [
             0,
             "#8e0152"
            ],
            [
             0.1,
             "#c51b7d"
            ],
            [
             0.2,
             "#de77ae"
            ],
            [
             0.3,
             "#f1b6da"
            ],
            [
             0.4,
             "#fde0ef"
            ],
            [
             0.5,
             "#f7f7f7"
            ],
            [
             0.6,
             "#e6f5d0"
            ],
            [
             0.7,
             "#b8e186"
            ],
            [
             0.8,
             "#7fbc41"
            ],
            [
             0.9,
             "#4d9221"
            ],
            [
             1,
             "#276419"
            ]
           ],
           "sequential": [
            [
             0,
             "#0d0887"
            ],
            [
             0.1111111111111111,
             "#46039f"
            ],
            [
             0.2222222222222222,
             "#7201a8"
            ],
            [
             0.3333333333333333,
             "#9c179e"
            ],
            [
             0.4444444444444444,
             "#bd3786"
            ],
            [
             0.5555555555555556,
             "#d8576b"
            ],
            [
             0.6666666666666666,
             "#ed7953"
            ],
            [
             0.7777777777777778,
             "#fb9f3a"
            ],
            [
             0.8888888888888888,
             "#fdca26"
            ],
            [
             1,
             "#f0f921"
            ]
           ],
           "sequentialminus": [
            [
             0,
             "#0d0887"
            ],
            [
             0.1111111111111111,
             "#46039f"
            ],
            [
             0.2222222222222222,
             "#7201a8"
            ],
            [
             0.3333333333333333,
             "#9c179e"
            ],
            [
             0.4444444444444444,
             "#bd3786"
            ],
            [
             0.5555555555555556,
             "#d8576b"
            ],
            [
             0.6666666666666666,
             "#ed7953"
            ],
            [
             0.7777777777777778,
             "#fb9f3a"
            ],
            [
             0.8888888888888888,
             "#fdca26"
            ],
            [
             1,
             "#f0f921"
            ]
           ]
          },
          "colorway": [
           "#636efa",
           "#EF553B",
           "#00cc96",
           "#ab63fa",
           "#FFA15A",
           "#19d3f3",
           "#FF6692",
           "#B6E880",
           "#FF97FF",
           "#FECB52"
          ],
          "font": {
           "color": "#2a3f5f"
          },
          "geo": {
           "bgcolor": "white",
           "lakecolor": "white",
           "landcolor": "#E5ECF6",
           "showlakes": true,
           "showland": true,
           "subunitcolor": "white"
          },
          "hoverlabel": {
           "align": "left"
          },
          "hovermode": "closest",
          "mapbox": {
           "style": "light"
          },
          "paper_bgcolor": "white",
          "plot_bgcolor": "#E5ECF6",
          "polar": {
           "angularaxis": {
            "gridcolor": "white",
            "linecolor": "white",
            "ticks": ""
           },
           "bgcolor": "#E5ECF6",
           "radialaxis": {
            "gridcolor": "white",
            "linecolor": "white",
            "ticks": ""
           }
          },
          "scene": {
           "xaxis": {
            "backgroundcolor": "#E5ECF6",
            "gridcolor": "white",
            "gridwidth": 2,
            "linecolor": "white",
            "showbackground": true,
            "ticks": "",
            "zerolinecolor": "white"
           },
           "yaxis": {
            "backgroundcolor": "#E5ECF6",
            "gridcolor": "white",
            "gridwidth": 2,
            "linecolor": "white",
            "showbackground": true,
            "ticks": "",
            "zerolinecolor": "white"
           },
           "zaxis": {
            "backgroundcolor": "#E5ECF6",
            "gridcolor": "white",
            "gridwidth": 2,
            "linecolor": "white",
            "showbackground": true,
            "ticks": "",
            "zerolinecolor": "white"
           }
          },
          "shapedefaults": {
           "line": {
            "color": "#2a3f5f"
           }
          },
          "ternary": {
           "aaxis": {
            "gridcolor": "white",
            "linecolor": "white",
            "ticks": ""
           },
           "baxis": {
            "gridcolor": "white",
            "linecolor": "white",
            "ticks": ""
           },
           "bgcolor": "#E5ECF6",
           "caxis": {
            "gridcolor": "white",
            "linecolor": "white",
            "ticks": ""
           }
          },
          "title": {
           "x": 0.05
          },
          "xaxis": {
           "automargin": true,
           "gridcolor": "white",
           "linecolor": "white",
           "ticks": "",
           "title": {
            "standoff": 15
           },
           "zerolinecolor": "white",
           "zerolinewidth": 2
          },
          "yaxis": {
           "automargin": true,
           "gridcolor": "white",
           "linecolor": "white",
           "ticks": "",
           "title": {
            "standoff": 15
           },
           "zerolinecolor": "white",
           "zerolinewidth": 2
          }
         }
        },
        "title": {
         "text": "Acquisition Price by Year"
        },
        "xaxis": {
         "anchor": "y",
         "domain": [
          0,
          1
         ],
         "title": {
          "text": "Year of acquisition announcement"
         }
        },
        "yaxis": {
         "anchor": "x",
         "domain": [
          0,
          1
         ],
         "title": {
          "text": "Price"
         }
        }
       }
      }
     },
     "metadata": {},
     "output_type": "display_data"
    }
   ],
   "source": [
    "fig = px.scatter(\n",
    "    acquired,\n",
    "    x='Year of acquisition announcement',\n",
    "    y='Price',\n",
    "    title='Acquisition Price by Year'\n",
    ")\n",
    "fig.show()"
   ]
  }
 ],
 "metadata": {
  "kaggle": {
   "accelerator": "none",
   "dataSources": [
    {
     "datasetId": 7177363,
     "sourceId": 11454929,
     "sourceType": "datasetVersion"
    }
   ],
   "dockerImageVersionId": 31012,
   "isGpuEnabled": false,
   "isInternetEnabled": true,
   "language": "python",
   "sourceType": "notebook"
  },
  "kernelspec": {
   "display_name": "Python 3",
   "language": "python",
   "name": "python3"
  },
  "language_info": {
   "codemirror_mode": {
    "name": "ipython",
    "version": 3
   },
   "file_extension": ".py",
   "mimetype": "text/x-python",
   "name": "python",
   "nbconvert_exporter": "python",
   "pygments_lexer": "ipython3",
   "version": "3.11.11"
  },
  "papermill": {
   "default_parameters": {},
   "duration": 1338.851049,
   "end_time": "2025-04-18T03:11:48.142323",
   "environment_variables": {},
   "exception": null,
   "input_path": "__notebook__.ipynb",
   "output_path": "__notebook__.ipynb",
   "parameters": {},
   "start_time": "2025-04-18T02:49:29.291274",
   "version": "2.6.0"
  }
 },
 "nbformat": 4,
 "nbformat_minor": 5
}
