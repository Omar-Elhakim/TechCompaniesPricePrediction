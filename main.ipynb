{
 "cells": [
  {
   "cell_type": "code",
   "execution_count": null,
   "id": "15fb989c",
   "metadata": {},
   "outputs": [],
   "source": [
    "\n",
    "# # Challenges:\n",
    "# * Encode companies\n",
    "# * Encode people\n",
    "# * Encode cities and countries\n",
    "# * use text data embedding (word/document) or word freq \n",
    "# * Imputation\n",
    "\n",
    "# imports"
   ]
  },
  {
   "cell_type": "code",
   "execution_count": null,
   "id": "249ba9fc",
   "metadata": {},
   "outputs": [],
   "source": [
    "\n",
    "\n",
    "import pandas as pd\n",
    "import numpy as np\n",
    "import requests\n",
    "import plotly.express as px\n",
    "from sklearn import preprocessing\n",
    "\n",
    "\n",
    "# Reviewing a sample row from each file"
   ]
  },
  {
   "cell_type": "code",
   "execution_count": null,
   "id": "e10ef65a",
   "metadata": {
    "lines_to_next_cell": 2
   },
   "outputs": [],
   "source": [
    "\n",
    "\n",
    "acquired = pd.read_csv(\"Data/Acquired Tech Companies.csv\")\n",
    "acquired.iloc[0]"
   ]
  },
  {
   "cell_type": "code",
   "execution_count": null,
   "id": "7dac18b5",
   "metadata": {
    "lines_to_next_cell": 2
   },
   "outputs": [],
   "source": [
    "\n",
    "\n",
    "acquiring = pd.read_csv(\"Data/Acquiring Tech Companies.csv\")\n",
    "acquiring.iloc[0]"
   ]
  },
  {
   "cell_type": "code",
   "execution_count": null,
   "id": "7fb831ab",
   "metadata": {
    "lines_to_next_cell": 2
   },
   "outputs": [],
   "source": [
    "\n",
    "\n",
    "acquisitions = pd.read_csv(\"Data/Acquisitions.csv\")\n",
    "acquisitions.iloc[0]"
   ]
  },
  {
   "cell_type": "code",
   "execution_count": null,
   "id": "d5a21115",
   "metadata": {},
   "outputs": [],
   "source": [
    "\n",
    "\n",
    "founders = pd.read_csv(\"Data/Founders and Board Members.csv\")\n",
    "founders.iloc[0]\n",
    "\n",
    "\n",
    "# We will link between the files using these columns:\n",
    "# * Acquisitions ID to link the acquisitions\n",
    "# * 'Founders' and 'Name' to link the Founders"
   ]
  },
  {
   "cell_type": "code",
   "execution_count": null,
   "id": "3f39c0e5",
   "metadata": {
    "lines_to_next_cell": 2
   },
   "outputs": [],
   "source": [
    "\n",
    "\n",
    "np.intersect1d(acquired.columns, acquisitions.columns).tolist()"
   ]
  },
  {
   "cell_type": "code",
   "execution_count": null,
   "id": "6f9f19ec",
   "metadata": {
    "lines_to_next_cell": 2
   },
   "outputs": [],
   "source": [
    "\n",
    "\n",
    "np.intersect1d(acquiring.columns, acquisitions.columns).tolist()"
   ]
  },
  {
   "cell_type": "code",
   "execution_count": null,
   "id": "31498be6",
   "metadata": {
    "lines_to_next_cell": 2
   },
   "outputs": [],
   "source": [
    "\n",
    "\n",
    "def ValidateLink(url, timeout=15):\n",
    "    session = requests.Session()\n",
    "    # fake headers to make it seem like a real request\n",
    "    headers = {\n",
    "        \"User-Agent\": \"Mozilla/5.0 (Windows NT 10.0; Win64; x64) AppleWebKit/537.36 (KHTML, like Gecko) Chrome/123.0.0.0 Safari/537.36\",\n",
    "        \"Accept\": \"text/html,application/xhtml+xml,application/xml;q=0.9,image/avif,image/webp,image/apng,*/*;q=0.8,application/signed-exchange;v=b3;q=0.7\",\n",
    "        \"Accept-Language\": \"en-US,en;q=0.9\",\n",
    "        \"Accept-Encoding\": \"gzip, deflate, br\",\n",
    "        \"Connection\": \"keep-alive\",\n",
    "        \"Upgrade-Insecure-Requests\": \"1\",\n",
    "        \"DNT\": \"1\",\n",
    "    }\n",
    "    session.headers.update(headers)\n",
    "    try:\n",
    "        response = session.get(url, timeout=timeout, allow_redirects=True, stream=True)\n",
    "        status_code = response.status_code\n",
    "        response.close()\n",
    "        if status_code < 400:\n",
    "            return True\n",
    "        else:\n",
    "            return False\n",
    "    except Exception as e:\n",
    "        return False"
   ]
  },
  {
   "cell_type": "code",
   "execution_count": null,
   "id": "63e82c14",
   "metadata": {
    "lines_to_next_cell": 2
   },
   "outputs": [],
   "source": [
    "\n",
    "\n",
    "def ValidateLinks(urls):\n",
    "    results = []\n",
    "    for url in urls:\n",
    "        results.append(ValidateLink(url))\n",
    "        if results[-1]:\n",
    "            return results\n",
    "    return results"
   ]
  },
  {
   "cell_type": "code",
   "execution_count": null,
   "id": "7e6a044d",
   "metadata": {},
   "outputs": [],
   "source": [
    "\n",
    "\n",
    "def ValidateLinksDF(df):\n",
    "    for col in df.columns:\n",
    "        for val in df[col]:\n",
    "            if type(val) == str and (\"http\" in val):\n",
    "                print(col)\n",
    "                results = ValidateLinks(df[col])\n",
    "                if not pd.Series(results).any():\n",
    "                    print(f'Column \"{col}\" had no valid links , or is using captcha.')\n",
    "                    print(\"Try it yourself:\")\n",
    "                    print(df[col][0] + \"\\n\")\n",
    "                break\n",
    "\n",
    "\n",
    "# ValidateLinksDF(acquired)\n",
    "\n",
    "# * CrunchBase is using CAPTCHA , so we won't drop it now but we will process it later\n",
    "# * Image links are all corrupt so we will drop the column "
   ]
  },
  {
   "cell_type": "code",
   "execution_count": null,
   "id": "2862fa35",
   "metadata": {},
   "outputs": [],
   "source": [
    "\n",
    "\n",
    "acquired = acquired.drop(\"Image\", axis=1)\n",
    "acquired = acquired.drop(\"Tagline\", axis=1)\n",
    "\n",
    "\n",
    "# ValidateLinksDF(acquiring)\n",
    "\n",
    "# * drop Image also"
   ]
  },
  {
   "cell_type": "code",
   "execution_count": null,
   "id": "0afb989e",
   "metadata": {},
   "outputs": [],
   "source": [
    "\n",
    "\n",
    "acquiring = acquiring.drop(\"Image\", axis=1)\n",
    "\n",
    "\n",
    "# ValidateLinksDF(acquisitions)\n",
    "\n",
    "# * acquisitions profile is also a crunchbase link"
   ]
  },
  {
   "cell_type": "code",
   "execution_count": null,
   "id": "c89ea579",
   "metadata": {},
   "outputs": [],
   "source": [
    "\n",
    "\n",
    "acquisitions = acquisitions.drop(\"Acquisition Profile\", axis=1)\n",
    "\n",
    "\n",
    "# ValidateLinksDF(founders)\n",
    "\n",
    "# We don't need the exact address of the company, we already have the city , state and country"
   ]
  },
  {
   "cell_type": "code",
   "execution_count": null,
   "id": "7a0247d2",
   "metadata": {},
   "outputs": [],
   "source": [
    "\n",
    "\n",
    "acquired = acquired.drop(\"Address (HQ)\", axis=1)\n",
    "acquiring = acquiring.drop(\"Address (HQ)\", axis=1)\n",
    "\n",
    "\n",
    "# **Adding the target variable**"
   ]
  },
  {
   "cell_type": "code",
   "execution_count": null,
   "id": "960acc99",
   "metadata": {
    "lines_to_next_cell": 2
   },
   "outputs": [],
   "source": [
    "\n",
    "\n",
    "acquisitions[\"Price\"] = [\n",
    "    int(price.removeprefix(\"$\").replace(\",\", \"\")) for price in acquisitions[\"Price\"]\n",
    "]"
   ]
  },
  {
   "cell_type": "code",
   "execution_count": null,
   "id": "0578c7e6",
   "metadata": {
    "lines_to_next_cell": 2
   },
   "outputs": [],
   "source": [
    "\n",
    "\n",
    "acquired[\"Price\"] = None\n",
    "acquired[\"Year of acquisition announcement\"] = None"
   ]
  },
  {
   "cell_type": "code",
   "execution_count": null,
   "id": "c48debc8",
   "metadata": {
    "lines_to_next_cell": 2
   },
   "outputs": [],
   "source": [
    "\n",
    "\n",
    "for i, company in enumerate(acquisitions[\"Acquired Company\"]):\n",
    "    acquired.loc[acquired[\"Company\"] == company, \"Price\"] = acquisitions.iloc[i][\n",
    "        \"Price\"\n",
    "    ]\n",
    "    acquired.loc[acquired[\"Company\"] == company, \"Year of acquisition announcement\"] = (\n",
    "        acquisitions.iloc[i][\"Year of acquisition announcement\"]\n",
    "    )"
   ]
  },
  {
   "cell_type": "code",
   "execution_count": null,
   "id": "4ff43a94",
   "metadata": {},
   "outputs": [],
   "source": [
    "\n",
    "\n",
    "fig = px.scatter(\n",
    "    acquisitions,\n",
    "    x=\"Year of acquisition announcement\",\n",
    "    y=\"Price\",\n",
    "    title=\"Acquisition Price by Year\",\n",
    "    width=600,\n",
    "    height=400,\n",
    ")\n",
    "fig.show()\n",
    "\n",
    "\n",
    "# There was a wrongly entered value, so I looked at the link and corrected it"
   ]
  },
  {
   "cell_type": "code",
   "execution_count": null,
   "id": "f80c4d0d",
   "metadata": {},
   "outputs": [],
   "source": [
    "\n",
    "\n",
    "acquisitions.loc[\n",
    "    acquisitions[\"Year of acquisition announcement\"] == 2104,\n",
    "    \"Year of acquisition announcement\",\n",
    "] = 2014\n",
    "\n",
    "\n",
    "# Plotting again without the error, now we can see that the overall trend of prices tends to go up, that's why we added the 'Year of acquisitions announcement' column"
   ]
  },
  {
   "cell_type": "code",
   "execution_count": null,
   "id": "b8cd74cc",
   "metadata": {},
   "outputs": [],
   "source": [
    "\n",
    "\n",
    "fig = px.scatter(\n",
    "    acquisitions,\n",
    "    x=\"Year of acquisition announcement\",\n",
    "    y=\"Price\",\n",
    "    title=\"Acquisition Price by Year\",\n",
    "    width=700,\n",
    "    height=400,\n",
    ")\n",
    "fig.show()\n",
    "\n",
    "\n",
    "# update the datatypes automatically"
   ]
  },
  {
   "cell_type": "code",
   "execution_count": null,
   "id": "c77a0129",
   "metadata": {
    "lines_to_next_cell": 2
   },
   "outputs": [],
   "source": [
    "\n",
    "\n",
    "acquired = acquired.infer_objects()\n",
    "acquisitions = acquisitions.infer_objects()"
   ]
  },
  {
   "cell_type": "code",
   "execution_count": null,
   "id": "3ac77d38",
   "metadata": {},
   "outputs": [],
   "source": [
    "\n",
    "\n",
    "fig = px.scatter(\n",
    "    acquired,\n",
    "    x=\"Year Founded\",\n",
    "    y=\"Price\",\n",
    "    title=\"Acquisition Price by Year\",\n",
    "    width=600,\n",
    "    height=400,\n",
    ")\n",
    "fig.show()\n",
    "\n",
    "\n",
    "# Another error found and corrected"
   ]
  },
  {
   "cell_type": "code",
   "execution_count": null,
   "id": "fd6d545d",
   "metadata": {
    "lines_to_next_cell": 2
   },
   "outputs": [],
   "source": [
    "\n",
    "\n",
    "acquired.loc[acquired[\"Year Founded\"] == 1840, \"Year Founded\"] = 2006\n",
    "acquired.loc[acquired[\"Year Founded\"] == 1933, \"Year Founded\"] = 1989"
   ]
  },
  {
   "cell_type": "code",
   "execution_count": null,
   "id": "b926cabb",
   "metadata": {
    "lines_to_next_cell": 2
   },
   "outputs": [],
   "source": [
    "\n",
    "\n",
    "fig = px.scatter(\n",
    "    acquired,\n",
    "    x=\"Year Founded\",\n",
    "    y=\"Price\",\n",
    "    title=\"Acquisition Price by Year\",\n",
    "    width=600,\n",
    "    height=400,\n",
    ")\n",
    "fig.show()"
   ]
  },
  {
   "cell_type": "code",
   "execution_count": null,
   "id": "9863e8e1",
   "metadata": {
    "lines_to_next_cell": 2
   },
   "outputs": [],
   "source": [
    "\n",
    "\n",
    "#acquired.iloc[12][\"Tagline\"]"
   ]
  },
  {
   "cell_type": "code",
   "execution_count": null,
   "id": "d6353cca",
   "metadata": {},
   "outputs": [],
   "source": [
    "\n",
    "\n",
    "for l in acquired.iloc[12][\"Description\"].split(\".\"):\n",
    "    print(l + \"\\n\")\n",
    "\n",
    "\n",
    "# * 'Tagline' contains a brief and precise description of the company , while the 'Description' is very long and doesn't provide any more important details, \n",
    "# so we will drop the 'Description'"
   ]
  },
  {
   "cell_type": "code",
   "execution_count": null,
   "id": "5ed2faed",
   "metadata": {},
   "outputs": [],
   "source": [
    "\n",
    "\n",
    "acquiring = acquiring.drop(\"Description\", axis=1)\n",
    "acquired = acquired.drop(\"Description\", axis=1)\n",
    "\n",
    "\n",
    "# ### There isn't any new useful information that we can get out of those , so we will drop them\n",
    "\n",
    "# * \"CrunchBase Profile\" and \"API\" columns are both on the crunchbase website , which uses captcha so we can't scrap it, and their API is paid , and the provided API key is invalid , so we can't use it\n",
    "# \n",
    "# * \"Homepage\" column contains the link to the website of every company , and they aren't all the same so we can't apply a function or a program to extract certain information about them. To use the link , this would require us to go over into each of them one by one , which isn't  feasible\n",
    "# \n",
    "# \n",
    "# * \"Twitter\" column also can't be scraped according to their new policy , tried multiple APIs and libraries but none of them worked , even twitter's free tier API is useless\n",
    "#  \n",
    "# \n",
    "# * \"Acquisition ID\" is just used to link between files , and we can do that with the company's name\n",
    "# "
   ]
  },
  {
   "cell_type": "code",
   "execution_count": null,
   "id": "075dc37c",
   "metadata": {
    "lines_to_next_cell": 2
   },
   "outputs": [],
   "source": [
    "\n",
    "\n",
    "acquired = acquired.drop(\n",
    "    [\"CrunchBase Profile\", \"Homepage\", \"Twitter\", \"Acquisitions ID\", \"API\"], axis=1\n",
    ")\n",
    "acquiring = acquiring.drop(\n",
    "    [\"CrunchBase Profile\", \"Homepage\", \"Twitter\", \"Acquisitions ID\", \"API\"], axis=1\n",
    ")\n",
    "founders = founders.drop(\"CrunchBase Profile\", axis=1)"
   ]
  },
  {
   "cell_type": "code",
   "execution_count": null,
   "id": "1796958e",
   "metadata": {
    "lines_to_next_cell": 2
   },
   "outputs": [],
   "source": [
    "\n",
    "\n",
    "acquired[\"Age on acquisition\"] = (\n",
    "    acquired[\"Year of acquisition announcement\"] - acquired[\"Year Founded\"]\n",
    ")"
   ]
  },
  {
   "cell_type": "code",
   "execution_count": null,
   "id": "a3c0b2af",
   "metadata": {
    "lines_to_next_cell": 2
   },
   "outputs": [],
   "source": [
    "\n",
    "\n",
    "acquired = acquired.drop([\"Year Founded\", \"Year of acquisition announcement\"], axis=1)"
   ]
  },
  {
   "cell_type": "code",
   "execution_count": null,
   "id": "56625f6a",
   "metadata": {},
   "outputs": [],
   "source": [
    "\n",
    "\n",
    "acquired = acquired.astype(\n",
    "    {\n",
    "        \"Acquired by\": \"category\",\n",
    "        \"City (HQ)\": \"category\",\n",
    "        \"State / Region (HQ)\": \"category\",\n",
    "        \"Country (HQ)\": \"category\",\n",
    "    }\n",
    ")\n",
    "\n",
    "\n",
    "# All these columns are probably related to the target column , so we will keep them for now\n",
    "\n",
    "# Market categories contains multiple values , still not processed"
   ]
  },
  {
   "cell_type": "code",
   "execution_count": null,
   "id": "1316cc96",
   "metadata": {},
   "outputs": [],
   "source": [
    "\n",
    "\n",
    "acquired.info()\n",
    "\n",
    "\n",
    "# Dropping 'year of last update' of the number of employees , because we don't need it directly and can't use it in any way to pridct the current number"
   ]
  },
  {
   "cell_type": "code",
   "execution_count": null,
   "id": "a78fb427",
   "metadata": {},
   "outputs": [],
   "source": [
    "\n",
    "\n",
    "acquiring = acquiring.drop(\"Number of Employees (year of last update)\", axis=1)\n",
    "\n",
    "\n",
    "# There are multiple 'NOT YET' in the IPO column , and the earliest the number the better it is , so we won't replace them with zero ,we will replace them with 2025 or anything larger"
   ]
  },
  {
   "cell_type": "code",
   "execution_count": null,
   "id": "ac4f22e0",
   "metadata": {
    "lines_to_next_cell": 2
   },
   "outputs": [],
   "source": [
    "\n",
    "\n",
    "acquiring[\"IPO\"].value_counts()[:5]"
   ]
  },
  {
   "cell_type": "code",
   "execution_count": null,
   "id": "69c5096d",
   "metadata": {},
   "outputs": [],
   "source": [
    "\n",
    "\n",
    "acquiring.loc[acquiring[\"IPO\"] == \"Not yet\", \"IPO\"] = 2025  # 2025 is debatable\n",
    "acquiring.loc[acquiring[\"IPO\"].isna(), \"IPO\"] = 2025  # 2025 is debatable\n",
    "\n",
    "\n",
    "# Idea for acquiring companies: calculate the average price paid for all acquired companies\n",
    "\n",
    "# how to categorize multiple values in the same cell?"
   ]
  },
  {
   "cell_type": "code",
   "execution_count": null,
   "id": "658118ff",
   "metadata": {
    "lines_to_next_cell": 2
   },
   "outputs": [],
   "source": [
    "\n",
    "\n",
    "acquiring[\"Market Categories\"][:5]"
   ]
  },
  {
   "cell_type": "code",
   "execution_count": null,
   "id": "77df0d32",
   "metadata": {
    "lines_to_next_cell": 2
   },
   "outputs": [],
   "source": [
    "\n",
    "\n",
    "acquiring = acquiring.astype(\n",
    "    {\n",
    "        \"City (HQ)\": \"category\",\n",
    "        \"State / Region (HQ)\": \"category\",\n",
    "        \"Country (HQ)\": \"category\",\n",
    "        \"IPO\": \"float\",\n",
    "    }\n",
    ")"
   ]
  },
  {
   "cell_type": "code",
   "execution_count": null,
   "id": "f2ae1750",
   "metadata": {
    "lines_to_next_cell": 2
   },
   "outputs": [],
   "source": [
    "\n",
    "\n",
    "flattened = [x for item in acquiring[\"Board Members\"].dropna() for x in item.split(\",\")]"
   ]
  },
  {
   "cell_type": "code",
   "execution_count": null,
   "id": "56f57c7a",
   "metadata": {
    "lines_to_next_cell": 2
   },
   "outputs": [],
   "source": [
    "\n",
    "\n",
    "pd.Series(flattened).nunique()"
   ]
  },
  {
   "cell_type": "code",
   "execution_count": null,
   "id": "77be529c",
   "metadata": {},
   "outputs": [],
   "source": [
    "\n",
    "\n",
    "len(np.intersect1d(founders[\"Name\"], flattened))\n",
    "\n",
    "\n",
    "# Some of the board members are in the founders df , so we won't drop them for now"
   ]
  },
  {
   "cell_type": "code",
   "execution_count": null,
   "id": "6663b33f",
   "metadata": {
    "lines_to_next_cell": 2
   },
   "outputs": [],
   "source": [
    "\n",
    "\n",
    "acquiring.info()"
   ]
  },
  {
   "cell_type": "code",
   "execution_count": null,
   "id": "df686a95",
   "metadata": {
    "lines_to_next_cell": 2
   },
   "outputs": [],
   "source": [
    "\n",
    "\n",
    "founders[\"Companies\"].value_counts()[:5]"
   ]
  },
  {
   "cell_type": "code",
   "execution_count": null,
   "id": "5b27f9a1",
   "metadata": {
    "lines_to_next_cell": 2
   },
   "outputs": [],
   "source": [
    "\n",
    "\n",
    "founders[\"Role\"].value_counts()"
   ]
  },
  {
   "cell_type": "code",
   "execution_count": null,
   "id": "90eae11c",
   "metadata": {},
   "outputs": [],
   "source": [
    "\n",
    "\n",
    "founders = founders.astype({\"Role\": \"category\", \"Companies\": \"category\"})\n",
    "\n",
    "\n",
    "# The image of the founder doesn't affect anything at all ... DROPPED"
   ]
  },
  {
   "cell_type": "code",
   "execution_count": null,
   "id": "f2c0d2a3",
   "metadata": {},
   "outputs": [],
   "source": [
    "\n",
    "\n",
    "founders = founders.drop(\"Image\", axis=1)\n",
    "\n",
    "\n",
    "# Ready"
   ]
  },
  {
   "cell_type": "code",
   "execution_count": null,
   "id": "07d88563",
   "metadata": {},
   "outputs": [],
   "source": [
    "\n",
    "\n",
    "founders.info()\n",
    "\n",
    "\n",
    "# * The specific date which the deal was announced on doesn't matter , what matters is the year so the model can know that inflation affects the price\n",
    "# * The ID doesn't add any new info\n",
    "# * The News and News link don't add any info or details about the acquisition"
   ]
  },
  {
   "cell_type": "code",
   "execution_count": null,
   "id": "ec694142",
   "metadata": {
    "lines_to_next_cell": 2
   },
   "outputs": [],
   "source": [
    "\n",
    "\n",
    "acquisitions = acquisitions.drop(\n",
    "    [\"Deal announced on\", \"Acquisitions ID\", \"News\", \"News Link\"], axis=1\n",
    ")"
   ]
  },
  {
   "cell_type": "code",
   "execution_count": null,
   "id": "63c45bbc",
   "metadata": {
    "lines_to_next_cell": 2
   },
   "outputs": [],
   "source": [
    "\n",
    "\n",
    "acquisitions[\"Status\"].value_counts()"
   ]
  },
  {
   "cell_type": "code",
   "execution_count": null,
   "id": "6c88197a",
   "metadata": {
    "lines_to_next_cell": 2
   },
   "outputs": [],
   "source": [
    "\n",
    "\n",
    "acquisitions[\"Terms\"].value_counts()"
   ]
  },
  {
   "cell_type": "code",
   "execution_count": null,
   "id": "77f5a11d",
   "metadata": {
    "lines_to_next_cell": 2
   },
   "outputs": [],
   "source": [
    "\n",
    "\n",
    "acquisitions = acquisitions.astype(\n",
    "    {\n",
    "        \"Terms\": \"category\",\n",
    "        \"Status\": \"category\",\n",
    "    }\n",
    ")"
   ]
  },
  {
   "cell_type": "code",
   "execution_count": null,
   "id": "1dbfbbb5",
   "metadata": {},
   "outputs": [],
   "source": [
    "\n",
    "\n",
    "acquisitions.info()\n",
    "\n",
    "\n",
    "# ### Spliting each multi-valued category to an array of categories"
   ]
  },
  {
   "cell_type": "code",
   "execution_count": null,
   "id": "d935a0b2",
   "metadata": {
    "lines_to_next_cell": 2
   },
   "outputs": [],
   "source": [
    "\n",
    "\n",
    "def SplitMultiValuedColumn(df,label):\n",
    "    df[label] = [\n",
    "        [value.lstrip().rstrip() if type(value) == str else value for value in str(values).split(',')] for values in df[label]\n",
    "    ]\n",
    "    df[label].info"
   ]
  },
  {
   "cell_type": "code",
   "execution_count": null,
   "id": "7740f6b7",
   "metadata": {
    "lines_to_next_cell": 2
   },
   "outputs": [],
   "source": [
    "\n",
    "\n",
    "def getUniqueLabels(df,label):\n",
    "    uniqueLabels = []\n",
    "    for labels in df[label]:\n",
    "        for label in labels:\n",
    "            if [label] not in uniqueLabels:\n",
    "                uniqueLabels.append([label])\n",
    "    return np.ravel(uniqueLabels)"
   ]
  },
  {
   "cell_type": "code",
   "execution_count": null,
   "id": "318dd937",
   "metadata": {},
   "outputs": [],
   "source": [
    "\n",
    "\n",
    "def encodeMultiValuedCategory(df , label : str, categories = np.array([])):\n",
    "    le = preprocessing.LabelEncoder()\n",
    "    SplitMultiValuedColumn(df,label)\n",
    "    if not categories.any():\n",
    "        categories = getUniqueLabels(df,label)\n",
    "    le.fit(np.asarray(categories))\n",
    "    df[label] = [le.transform(np.asarray(values)) for values in df[label]]\n",
    "    return le.classes_\n",
    "\n",
    "def encodeCategory(df , label : str, categories = np.array([])):\n",
    "    le = preprocessing.LabelEncoder()\n",
    "    if not categories.any():\n",
    "        categories = df[label]\n",
    "    le.fit(categories)\n",
    "    df[label] = le.transform(df[label])\n",
    "    return le.classes_\n",
    "\n",
    "\n",
    "# ##### encoding data in Aquisitions"
   ]
  },
  {
   "cell_type": "code",
   "execution_count": null,
   "id": "95be16cc",
   "metadata": {
    "lines_to_next_cell": 2
   },
   "outputs": [],
   "source": [
    "\n",
    "\n",
    "multiValuedLabels = [\"Terms\",\"Acquiring Company\",\"Acquired Company\"]\n",
    "for label in multiValuedLabels:\n",
    "    print(encodeMultiValuedCategory(acquisitions,label)[:5])"
   ]
  },
  {
   "cell_type": "code",
   "execution_count": null,
   "id": "405e4263",
   "metadata": {
    "lines_to_next_cell": 2
   },
   "outputs": [],
   "source": [
    "\n",
    "\n",
    "acquisitions[\"Terms\"][:5]"
   ]
  },
  {
   "cell_type": "code",
   "execution_count": null,
   "id": "40f10d3e",
   "metadata": {
    "lines_to_next_cell": 2
   },
   "outputs": [],
   "source": [
    "\n",
    "\n",
    "encodeCategory(acquisitions,\"Status\")"
   ]
  },
  {
   "cell_type": "code",
   "execution_count": null,
   "id": "4deeb45a",
   "metadata": {},
   "outputs": [],
   "source": [
    "\n",
    "\n",
    "acquisitions[:3]\n",
    "\n",
    "\n",
    "# ##### encoding data in Founders"
   ]
  },
  {
   "cell_type": "code",
   "execution_count": null,
   "id": "766dd3b5",
   "metadata": {
    "lines_to_next_cell": 2
   },
   "outputs": [],
   "source": [
    "\n",
    "\n",
    "founders.info"
   ]
  },
  {
   "cell_type": "code",
   "execution_count": null,
   "id": "f7ff80d0",
   "metadata": {
    "lines_to_next_cell": 2
   },
   "outputs": [],
   "source": [
    "\n",
    "\n",
    "foundersNames = encodeCategory(founders,\"Name\")"
   ]
  },
  {
   "cell_type": "code",
   "execution_count": null,
   "id": "0f589aff",
   "metadata": {
    "lines_to_next_cell": 2
   },
   "outputs": [],
   "source": [
    "\n",
    "\n",
    "foundersNames[:3]"
   ]
  },
  {
   "cell_type": "code",
   "execution_count": null,
   "id": "090dacb8",
   "metadata": {
    "lines_to_next_cell": 2
   },
   "outputs": [],
   "source": [
    "\n",
    "\n",
    "foundersRoles = encodeMultiValuedCategory(founders,\"Role\")"
   ]
  },
  {
   "cell_type": "code",
   "execution_count": null,
   "id": "10c9552a",
   "metadata": {},
   "outputs": [],
   "source": [
    "\n",
    "\n",
    "foundersRoles\n",
    "\n",
    "\n",
    "# ##### encoding data in Aquiring"
   ]
  },
  {
   "cell_type": "code",
   "execution_count": null,
   "id": "ae73fd5b",
   "metadata": {
    "lines_to_next_cell": 2
   },
   "outputs": [],
   "source": [
    "\n",
    "\n",
    "acquiringCompanies = encodeMultiValuedCategory(acquiring,\"Acquiring Company\")\n",
    "acquiredCompanies = encodeMultiValuedCategory(acquiring,\"Acquired Companies\")\n",
    "\n",
    "categories = [\"City (HQ)\",\"State / Region (HQ)\",\"Country (HQ)\"]\n",
    "multiValuedCategories = [\"Market Categories\",\"Board Members\"]\n",
    "# saving acquiring companies names so i can encode the same column in different dataFrame with the same values\n",
    "# and there is multiple shared columns in different dataframes that needs this operation\n",
    "\n",
    "for c in categories:\n",
    "    print(encodeCategory(acquiring,c)[:3])\n",
    "\n",
    "for c in multiValuedCategories:\n",
    "    print(encodeMultiValuedCategory(acquiring,c)[:3])"
   ]
  },
  {
   "cell_type": "code",
   "execution_count": null,
   "id": "5e445bd3",
   "metadata": {
    "lines_to_next_cell": 2
   },
   "outputs": [],
   "source": [
    "\n",
    "\n",
    "encodeMultiValuedCategory(acquiring,\"Founders\",foundersNames)[:2]"
   ]
  },
  {
   "cell_type": "code",
   "execution_count": null,
   "id": "1e5b2512",
   "metadata": {},
   "outputs": [],
   "source": [
    "\n",
    "\n",
    "acquiring[:2]\n",
    "\n",
    "\n",
    "# ##### encoding data in Acquired"
   ]
  },
  {
   "cell_type": "code",
   "execution_count": null,
   "id": "7ca0b77a",
   "metadata": {
    "lines_to_next_cell": 2
   },
   "outputs": [],
   "source": [
    "\n",
    "\n",
    "encodeCategory(acquired,\"Company\",acquiredCompanies)"
   ]
  },
  {
   "cell_type": "code",
   "execution_count": null,
   "id": "6c08dbb9",
   "metadata": {
    "lines_to_next_cell": 2
   },
   "outputs": [],
   "source": [
    "\n",
    "\n",
    "# i need to make global variables for this categories to get the unique from merging acquiring and acuired data\n",
    "# something getUniqueValues(acquired[\"City (HQ)\"] + acquiring[\"City (HQ)\"])\n",
    "\n",
    "for c in [\"City (HQ)\",\"State / Region (HQ)\",\"Country (HQ)\",\"Acquired by\"]:\n",
    "    print(encodeCategory(acquired,c)[:3])\n",
    "encodeMultiValuedCategory(acquired,\"Market Categories\")[:3]"
   ]
  },
  {
   "cell_type": "code",
   "execution_count": null,
   "id": "39659ce1",
   "metadata": {
    "lines_to_next_cell": 3
   },
   "outputs": [],
   "source": [
    "\n",
    "\n",
    "acquired[:5]\n",
    "\n",
    "numeric_df = acquired.select_dtypes(include='number')\n",
    "correlations = numeric_df.drop(\"Price\", axis=1).apply(lambda x: x.corr(numeric_df[\"Price\"], method='kendall'))\n",
    "\n",
    "#correlations = acquired.drop(\"Price\", axis=1).apply(lambda x: x.corr(acquired[\"Price\"], method='kendall'))\n",
    "print(correlations)"
   ]
  }
 ],
 "metadata": {
  "jupytext": {
   "cell_metadata_filter": "-all",
   "encoding": "# coding: utf-8",
   "executable": "/usr/bin/env python",
   "main_language": "python",
   "notebook_metadata_filter": "-all"
  }
 },
 "nbformat": 4,
 "nbformat_minor": 5
}
