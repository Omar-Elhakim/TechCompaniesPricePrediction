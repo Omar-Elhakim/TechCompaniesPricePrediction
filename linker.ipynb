{
 "cells": [
  {
   "cell_type": "code",
   "execution_count": 8,
   "id": "7550990a",
   "metadata": {},
   "outputs": [],
   "source": [
    "import pandas as pd"
   ]
  },
  {
   "cell_type": "code",
   "execution_count": 12,
   "id": "c49931d1",
   "metadata": {},
   "outputs": [
    {
     "data": {
      "text/plain": [
       "Company                                                     Day Software\n",
       "CrunchBase Profile     http://www.crunchbase.com/organization/day-sof...\n",
       "Image                  http://a5.images.crunchbase.com/image/upload/c...\n",
       "Tagline                Day Software develops web applications that al...\n",
       "Year Founded                                                         NaN\n",
       "Market Categories                                               Software\n",
       "Address (HQ)           Barfüsserplatz 6, Basel, Basel-Stadt, Switzerland\n",
       "City (HQ)                                                          Basel\n",
       "State / Region (HQ)                                          Basel-Stadt\n",
       "Country (HQ)                                                 Switzerland\n",
       "Description            Day was founded in Basel, Switzerland, in 1993...\n",
       "Homepage                                              http://www.day.com\n",
       "Twitter                                                              NaN\n",
       "Acquired by                                                        Adobe\n",
       "Acquisitions ID              Adobe Systems acquired Day Software in 2010\n",
       "API                    http://api.crunchbase.com/v/2/organization/day...\n",
       "Name: 0, dtype: object"
      ]
     },
     "execution_count": 12,
     "metadata": {},
     "output_type": "execute_result"
    }
   ],
   "source": [
    "acquired = pd.read_csv(\"Data/Acquired Tech Companies.csv\")\n",
    "acquired.iloc[0]"
   ]
  },
  {
   "cell_type": "code",
   "execution_count": 13,
   "id": "bfb7c2bb",
   "metadata": {},
   "outputs": [
    {
     "data": {
      "text/plain": [
       "Acquiring Company                                                                        Adobe\n",
       "CrunchBase Profile                               www.crunchbase.com/organization/adobe-systems\n",
       "Image                                        http://a2.images.crunchbase.com/image/upload/c...\n",
       "Tagline                                      Adobe is an American multinational computer so...\n",
       "Market Categories                            Photo Editing, Design, Creative, Software, Ima...\n",
       "Year Founded                                                                              1982\n",
       "IPO                                                                                       1986\n",
       "Founders                                                         John Warnock, Charles Geschke\n",
       "Number of Employees                                                                     11,144\n",
       "Number of Employees (year of last update)                                               2012.0\n",
       "Total Funding ($)                                                                            0\n",
       "Number of Acquisitions                                                                      38\n",
       "Board Members                                                                              NaN\n",
       "Address (HQ)                                               San Jose, California, United States\n",
       "City (HQ)                                                                             San Jose\n",
       "State / Region (HQ)                                                                 California\n",
       "Country (HQ)                                                                     United States\n",
       "Description                                  Adobe Systems is an American multinational com...\n",
       "Homepage                                                                  http://www.adobe.com\n",
       "Twitter                                                               http://twitter.com/Adobe\n",
       "Acquired Companies                           Accelio Corporation, Aldus Corp, Amicima, Ares...\n",
       "Acquisitions ID                              Adobe Systems acquired Accelio Corporation in ...\n",
       "API                                          http://api.crunchbase.com/v/2/organization/ado...\n",
       "Name: 0, dtype: object"
      ]
     },
     "execution_count": 13,
     "metadata": {},
     "output_type": "execute_result"
    }
   ],
   "source": [
    "acquiring = pd.read_csv(\"Data/Acquiring Tech Companies.csv\")\n",
    "acquiring.iloc[0]"
   ]
  },
  {
   "cell_type": "code",
   "execution_count": 14,
   "id": "2f76ae87",
   "metadata": {},
   "outputs": [],
   "source": [
    "renamed_columns = {}\n",
    "for col in acquiring.columns:\n",
    "    new_col = f\"{col} (Acquiring)\"\n",
    "    renamed_columns[col] = new_col\n",
    "\n",
    "acquiring = acquiring.rename(columns=renamed_columns)\n",
    "\n",
    "for col in acquiring.columns:\n",
    "    if col not in acquired.columns:\n",
    "        acquired[col] = None\n",
    "\n",
    "for i, row1 in acquired.iterrows():\n",
    "    for j, row2 in acquiring.iterrows():\n",
    "        if row1[\"Acquired by\"] == row2[\"Acquiring Company (Acquiring)\"]:\n",
    "            for col in acquiring.columns:\n",
    "                acquired.at[i, col] = row2[col]"
   ]
  },
  {
   "cell_type": "code",
   "execution_count": 15,
   "id": "f303092c",
   "metadata": {},
   "outputs": [
    {
     "data": {
      "text/plain": [
       "Company                                                                                       Day Software\n",
       "CrunchBase Profile                                       http://www.crunchbase.com/organization/day-sof...\n",
       "Image                                                    http://a5.images.crunchbase.com/image/upload/c...\n",
       "Tagline                                                  Day Software develops web applications that al...\n",
       "Year Founded                                                                                           NaN\n",
       "Market Categories                                                                                 Software\n",
       "Address (HQ)                                             Barfüsserplatz 6, Basel, Basel-Stadt, Switzerland\n",
       "City (HQ)                                                                                            Basel\n",
       "State / Region (HQ)                                                                            Basel-Stadt\n",
       "Country (HQ)                                                                                   Switzerland\n",
       "Description                                              Day was founded in Basel, Switzerland, in 1993...\n",
       "Homepage                                                                                http://www.day.com\n",
       "Twitter                                                                                                NaN\n",
       "Acquired by                                                                                          Adobe\n",
       "Acquisitions ID                                                Adobe Systems acquired Day Software in 2010\n",
       "API                                                      http://api.crunchbase.com/v/2/organization/day...\n",
       "Acquiring Company (Acquiring)                                                                        Adobe\n",
       "CrunchBase Profile (Acquiring)                               www.crunchbase.com/organization/adobe-systems\n",
       "Image (Acquiring)                                        http://a2.images.crunchbase.com/image/upload/c...\n",
       "Tagline (Acquiring)                                      Adobe is an American multinational computer so...\n",
       "Market Categories (Acquiring)                            Photo Editing, Design, Creative, Software, Ima...\n",
       "Year Founded (Acquiring)                                                                              1982\n",
       "IPO (Acquiring)                                                                                       1986\n",
       "Founders (Acquiring)                                                         John Warnock, Charles Geschke\n",
       "Number of Employees (Acquiring)                                                                     11,144\n",
       "Number of Employees (year of last update) (Acquiring)                                               2012.0\n",
       "Total Funding ($) (Acquiring)                                                                            0\n",
       "Number of Acquisitions (Acquiring)                                                                      38\n",
       "Board Members (Acquiring)                                                                              NaN\n",
       "Address (HQ) (Acquiring)                                               San Jose, California, United States\n",
       "City (HQ) (Acquiring)                                                                             San Jose\n",
       "State / Region (HQ) (Acquiring)                                                                 California\n",
       "Country (HQ) (Acquiring)                                                                     United States\n",
       "Description (Acquiring)                                  Adobe Systems is an American multinational com...\n",
       "Homepage (Acquiring)                                                                  http://www.adobe.com\n",
       "Twitter (Acquiring)                                                               http://twitter.com/Adobe\n",
       "Acquired Companies (Acquiring)                           Accelio Corporation, Aldus Corp, Amicima, Ares...\n",
       "Acquisitions ID (Acquiring)                              Adobe Systems acquired Accelio Corporation in ...\n",
       "API (Acquiring)                                          http://api.crunchbase.com/v/2/organization/ado...\n",
       "Name: 0, dtype: object"
      ]
     },
     "execution_count": 15,
     "metadata": {},
     "output_type": "execute_result"
    }
   ],
   "source": [
    "acquired.iloc[0]"
   ]
  },
  {
   "cell_type": "code",
   "execution_count": 22,
   "id": "841fc6f2",
   "metadata": {},
   "outputs": [
    {
     "data": {
      "text/plain": [
       "'http://api.crunchbase.com/v/2/organization/day-software?user_key=0ebdc8274e821149894a240090945265'"
      ]
     },
     "execution_count": 22,
     "metadata": {},
     "output_type": "execute_result"
    }
   ],
   "source": [
    "acquired.iloc[0][\"API\"]"
   ]
  },
  {
   "cell_type": "code",
   "execution_count": 23,
   "id": "1ad6a3f5",
   "metadata": {},
   "outputs": [],
   "source": [
    "df = acquired"
   ]
  },
  {
   "cell_type": "code",
   "execution_count": null,
   "id": "8a2a3039",
   "metadata": {},
   "outputs": [],
   "source": [
    "df = df.drop(\"Acquired by\", axis=1)  # delete a the duplicate column used for linking"
   ]
  },
  {
   "cell_type": "code",
   "execution_count": 31,
   "id": "079dc6d2",
   "metadata": {},
   "outputs": [
    {
     "name": "stdout",
     "output_type": "stream",
     "text": [
      "<class 'pandas.core.frame.DataFrame'>\n",
      "RangeIndex: 310 entries, 0 to 309\n",
      "Data columns (total 38 columns):\n",
      " #   Column                                                 Non-Null Count  Dtype  \n",
      "---  ------                                                 --------------  -----  \n",
      " 0   Company                                                310 non-null    object \n",
      " 1   CrunchBase Profile                                     310 non-null    object \n",
      " 2   Image                                                  287 non-null    object \n",
      " 3   Tagline                                                307 non-null    object \n",
      " 4   Year Founded                                           241 non-null    float64\n",
      " 5   Market Categories                                      287 non-null    object \n",
      " 6   Address (HQ)                                           277 non-null    object \n",
      " 7   City (HQ)                                              275 non-null    object \n",
      " 8   State / Region (HQ)                                    273 non-null    object \n",
      " 9   Country (HQ)                                           276 non-null    object \n",
      " 10  Description                                            299 non-null    object \n",
      " 11  Homepage                                               273 non-null    object \n",
      " 12  Twitter                                                168 non-null    object \n",
      " 13  Acquisitions ID                                        310 non-null    object \n",
      " 14  API                                                    310 non-null    object \n",
      " 15  Acquiring Company (Acquiring)                          309 non-null    object \n",
      " 16  CrunchBase Profile (Acquiring)                         309 non-null    object \n",
      " 17  Image (Acquiring)                                      309 non-null    object \n",
      " 18  Tagline (Acquiring)                                    309 non-null    object \n",
      " 19  Market Categories (Acquiring)                          309 non-null    object \n",
      " 20  Year Founded (Acquiring)                               309 non-null    object \n",
      " 21  IPO (Acquiring)                                        306 non-null    object \n",
      " 22  Founders (Acquiring)                                   309 non-null    object \n",
      " 23  Number of Employees (Acquiring)                        308 non-null    object \n",
      " 24  Number of Employees (year of last update) (Acquiring)  308 non-null    object \n",
      " 25  Total Funding ($) (Acquiring)                          309 non-null    object \n",
      " 26  Number of Acquisitions (Acquiring)                     309 non-null    object \n",
      " 27  Board Members (Acquiring)                              298 non-null    object \n",
      " 28  Address (HQ) (Acquiring)                               309 non-null    object \n",
      " 29  City (HQ) (Acquiring)                                  300 non-null    object \n",
      " 30  State / Region (HQ) (Acquiring)                        297 non-null    object \n",
      " 31  Country (HQ) (Acquiring)                               309 non-null    object \n",
      " 32  Description (Acquiring)                                309 non-null    object \n",
      " 33  Homepage (Acquiring)                                   309 non-null    object \n",
      " 34  Twitter (Acquiring)                                    296 non-null    object \n",
      " 35  Acquired Companies (Acquiring)                         309 non-null    object \n",
      " 36  Acquisitions ID (Acquiring)                            309 non-null    object \n",
      " 37  API (Acquiring)                                        309 non-null    object \n",
      "dtypes: float64(1), object(37)\n",
      "memory usage: 92.2+ KB\n"
     ]
    }
   ],
   "source": [
    "df.info()"
   ]
  },
  {
   "cell_type": "code",
   "execution_count": 32,
   "id": "d5885c5e",
   "metadata": {},
   "outputs": [
    {
     "data": {
      "text/plain": [
       "Acquisitions ID                                      EMC acquired Data Domain in 2009\n",
       "Acquired Company                                                          Data Domain\n",
       "Acquiring Company                                                                 EMC\n",
       "Year of acquisition announcement                                                 2009\n",
       "Deal announced on                                                           8/07/2009\n",
       "Price                                                                  $2,100,000,000\n",
       "Status                                                                    Undisclosed\n",
       "Terms                                                                            Cash\n",
       "Acquisition Profile                 http://www.crunchbase.com/acquisition/5dc676a1...\n",
       "News                                                         EMC acquired Data Domain\n",
       "News Link                           http://www.businesswire.com/news/home/20090708...\n",
       "Name: 0, dtype: object"
      ]
     },
     "execution_count": 32,
     "metadata": {},
     "output_type": "execute_result"
    }
   ],
   "source": [
    "acquisitions = pd.read_csv(\"Data/Acquisitions.csv\")\n",
    "acquisitions.iloc[0]"
   ]
  },
  {
   "cell_type": "code",
   "execution_count": 33,
   "id": "c9e5b308",
   "metadata": {},
   "outputs": [],
   "source": [
    "renamed_columns = {}\n",
    "for col in acquisitions.columns:\n",
    "    new_col = f\"{col} (Acquisitions)\"\n",
    "    renamed_columns[col] = new_col\n",
    "\n",
    "acquisitions = acquisitions.rename(columns=renamed_columns)\n",
    "\n",
    "for col in acquisitions.columns:\n",
    "    if col not in df.columns:\n",
    "        df[col] = None\n",
    "\n",
    "for i, row1 in df.iterrows():\n",
    "    for j, row2 in acquisitions.iterrows():\n",
    "        if row1[\"Acquisitions ID\"] == row2[\"Acquisitions ID (Acquisitions)\"]:\n",
    "            for col in acquisitions.columns:\n",
    "                df.at[i, col] = row2[col]"
   ]
  },
  {
   "cell_type": "code",
   "execution_count": 34,
   "id": "6b465fb5",
   "metadata": {},
   "outputs": [
    {
     "data": {
      "text/plain": [
       "Company                                                                                       Day Software\n",
       "CrunchBase Profile                                       http://www.crunchbase.com/organization/day-sof...\n",
       "Image                                                    http://a5.images.crunchbase.com/image/upload/c...\n",
       "Tagline                                                  Day Software develops web applications that al...\n",
       "Year Founded                                                                                           NaN\n",
       "Market Categories                                                                                 Software\n",
       "Address (HQ)                                             Barfüsserplatz 6, Basel, Basel-Stadt, Switzerland\n",
       "City (HQ)                                                                                            Basel\n",
       "State / Region (HQ)                                                                            Basel-Stadt\n",
       "Country (HQ)                                                                                   Switzerland\n",
       "Description                                              Day was founded in Basel, Switzerland, in 1993...\n",
       "Homepage                                                                                http://www.day.com\n",
       "Twitter                                                                                                NaN\n",
       "Acquisitions ID                                                Adobe Systems acquired Day Software in 2010\n",
       "API                                                      http://api.crunchbase.com/v/2/organization/day...\n",
       "Acquiring Company (Acquiring)                                                                        Adobe\n",
       "CrunchBase Profile (Acquiring)                               www.crunchbase.com/organization/adobe-systems\n",
       "Image (Acquiring)                                        http://a2.images.crunchbase.com/image/upload/c...\n",
       "Tagline (Acquiring)                                      Adobe is an American multinational computer so...\n",
       "Market Categories (Acquiring)                            Photo Editing, Design, Creative, Software, Ima...\n",
       "Year Founded (Acquiring)                                                                              1982\n",
       "IPO (Acquiring)                                                                                       1986\n",
       "Founders (Acquiring)                                                         John Warnock, Charles Geschke\n",
       "Number of Employees (Acquiring)                                                                     11,144\n",
       "Number of Employees (year of last update) (Acquiring)                                               2012.0\n",
       "Total Funding ($) (Acquiring)                                                                            0\n",
       "Number of Acquisitions (Acquiring)                                                                      38\n",
       "Board Members (Acquiring)                                                                              NaN\n",
       "Address (HQ) (Acquiring)                                               San Jose, California, United States\n",
       "City (HQ) (Acquiring)                                                                             San Jose\n",
       "State / Region (HQ) (Acquiring)                                                                 California\n",
       "Country (HQ) (Acquiring)                                                                     United States\n",
       "Description (Acquiring)                                  Adobe Systems is an American multinational com...\n",
       "Homepage (Acquiring)                                                                  http://www.adobe.com\n",
       "Twitter (Acquiring)                                                               http://twitter.com/Adobe\n",
       "Acquired Companies (Acquiring)                           Accelio Corporation, Aldus Corp, Amicima, Ares...\n",
       "Acquisitions ID (Acquiring)                              Adobe Systems acquired Accelio Corporation in ...\n",
       "API (Acquiring)                                          http://api.crunchbase.com/v/2/organization/ado...\n",
       "Acquisitions ID (Acquisitions)                                 Adobe Systems acquired Day Software in 2010\n",
       "Acquired Company (Acquisitions)                                                               Day Software\n",
       "Acquiring Company (Acquisitions)                                                                     Adobe\n",
       "Year of acquisition announcement (Acquisitions)                                                       2010\n",
       "Deal announced on (Acquisitions)                                                                28/07/2010\n",
       "Price (Acquisitions)                                                                          $240,000,000\n",
       "Status (Acquisitions)                                                                          Undisclosed\n",
       "Terms (Acquisitions)                                                                                  Cash\n",
       "Acquisition Profile (Acquisitions)                       http://www.crunchbase.com/acquisition/0da007d7...\n",
       "News (Acquisitions)                                      Adobe Buys Swiss Company Day Software For $240...\n",
       "News Link (Acquisitions)                                 http://techcrunch.com/2010/07/27/adobe-buys-da...\n",
       "Name: 0, dtype: object"
      ]
     },
     "execution_count": 34,
     "metadata": {},
     "output_type": "execute_result"
    }
   ],
   "source": [
    "df.iloc[0]"
   ]
  },
  {
   "cell_type": "code",
   "execution_count": 35,
   "id": "d8e60ef8",
   "metadata": {},
   "outputs": [],
   "source": [
    "df = df.drop(\"Acquired Company (Acquisitions)\", axis=1)"
   ]
  },
  {
   "cell_type": "code",
   "execution_count": 36,
   "id": "b0ce79b9",
   "metadata": {},
   "outputs": [
    {
     "data": {
      "text/plain": [
       "Company                                                                                       Day Software\n",
       "CrunchBase Profile                                       http://www.crunchbase.com/organization/day-sof...\n",
       "Image                                                    http://a5.images.crunchbase.com/image/upload/c...\n",
       "Tagline                                                  Day Software develops web applications that al...\n",
       "Year Founded                                                                                           NaN\n",
       "Market Categories                                                                                 Software\n",
       "Address (HQ)                                             Barfüsserplatz 6, Basel, Basel-Stadt, Switzerland\n",
       "City (HQ)                                                                                            Basel\n",
       "State / Region (HQ)                                                                            Basel-Stadt\n",
       "Country (HQ)                                                                                   Switzerland\n",
       "Description                                              Day was founded in Basel, Switzerland, in 1993...\n",
       "Homepage                                                                                http://www.day.com\n",
       "Twitter                                                                                                NaN\n",
       "Acquisitions ID                                                Adobe Systems acquired Day Software in 2010\n",
       "API                                                      http://api.crunchbase.com/v/2/organization/day...\n",
       "Acquiring Company (Acquiring)                                                                        Adobe\n",
       "CrunchBase Profile (Acquiring)                               www.crunchbase.com/organization/adobe-systems\n",
       "Image (Acquiring)                                        http://a2.images.crunchbase.com/image/upload/c...\n",
       "Tagline (Acquiring)                                      Adobe is an American multinational computer so...\n",
       "Market Categories (Acquiring)                            Photo Editing, Design, Creative, Software, Ima...\n",
       "Year Founded (Acquiring)                                                                              1982\n",
       "IPO (Acquiring)                                                                                       1986\n",
       "Founders (Acquiring)                                                         John Warnock, Charles Geschke\n",
       "Number of Employees (Acquiring)                                                                     11,144\n",
       "Number of Employees (year of last update) (Acquiring)                                               2012.0\n",
       "Total Funding ($) (Acquiring)                                                                            0\n",
       "Number of Acquisitions (Acquiring)                                                                      38\n",
       "Board Members (Acquiring)                                                                              NaN\n",
       "Address (HQ) (Acquiring)                                               San Jose, California, United States\n",
       "City (HQ) (Acquiring)                                                                             San Jose\n",
       "State / Region (HQ) (Acquiring)                                                                 California\n",
       "Country (HQ) (Acquiring)                                                                     United States\n",
       "Description (Acquiring)                                  Adobe Systems is an American multinational com...\n",
       "Homepage (Acquiring)                                                                  http://www.adobe.com\n",
       "Twitter (Acquiring)                                                               http://twitter.com/Adobe\n",
       "Acquired Companies (Acquiring)                           Accelio Corporation, Aldus Corp, Amicima, Ares...\n",
       "Acquisitions ID (Acquiring)                              Adobe Systems acquired Accelio Corporation in ...\n",
       "API (Acquiring)                                          http://api.crunchbase.com/v/2/organization/ado...\n",
       "Acquisitions ID (Acquisitions)                                 Adobe Systems acquired Day Software in 2010\n",
       "Acquiring Company (Acquisitions)                                                                     Adobe\n",
       "Year of acquisition announcement (Acquisitions)                                                       2010\n",
       "Deal announced on (Acquisitions)                                                                28/07/2010\n",
       "Price (Acquisitions)                                                                          $240,000,000\n",
       "Status (Acquisitions)                                                                          Undisclosed\n",
       "Terms (Acquisitions)                                                                                  Cash\n",
       "Acquisition Profile (Acquisitions)                       http://www.crunchbase.com/acquisition/0da007d7...\n",
       "News (Acquisitions)                                      Adobe Buys Swiss Company Day Software For $240...\n",
       "News Link (Acquisitions)                                 http://techcrunch.com/2010/07/27/adobe-buys-da...\n",
       "Name: 0, dtype: object"
      ]
     },
     "execution_count": 36,
     "metadata": {},
     "output_type": "execute_result"
    }
   ],
   "source": [
    "df.iloc[0]"
   ]
  }
 ],
 "metadata": {
  "kernelspec": {
   "display_name": "ml",
   "language": "python",
   "name": "python3"
  },
  "language_info": {
   "codemirror_mode": {
    "name": "ipython",
    "version": 3
   },
   "file_extension": ".py",
   "mimetype": "text/x-python",
   "name": "python",
   "nbconvert_exporter": "python",
   "pygments_lexer": "ipython3",
   "version": "3.13.2"
  }
 },
 "nbformat": 4,
 "nbformat_minor": 5
}
